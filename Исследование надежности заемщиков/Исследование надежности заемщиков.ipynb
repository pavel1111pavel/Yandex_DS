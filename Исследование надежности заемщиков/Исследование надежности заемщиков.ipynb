{
 "cells": [
  {
   "cell_type": "markdown",
   "id": "f8f3fb42",
   "metadata": {
    "deletable": false,
    "editable": false,
    "id": "c81daeeb"
   },
   "source": [
    "# Исследование надежности заемщиков\n"
   ]
  },
  {
   "cell_type": "markdown",
   "id": "8684a1d3",
   "metadata": {
    "deletable": false,
    "editable": false,
    "id": "827c20bf"
   },
   "source": [
    "Во второй части проекта вы выполните шаги 3 и 4. Их вручную проверит ревьюер.\n",
    "Чтобы вам не пришлось писать код заново для шагов 1 и 2, мы добавили авторские решения в ячейки с кодом. \n",
    "\n"
   ]
  },
  {
   "cell_type": "markdown",
   "id": "31f49055",
   "metadata": {
    "deletable": false,
    "editable": false,
    "id": "744d7639"
   },
   "source": [
    "## Откройте таблицу и изучите общую информацию о данных"
   ]
  },
  {
   "cell_type": "markdown",
   "id": "8d376312",
   "metadata": {
    "deletable": false,
    "editable": false,
    "id": "e7a14c31"
   },
   "source": [
    "**Задание 1. Импортируйте библиотеку pandas. Считайте данные из csv-файла в датафрейм и сохраните в переменную `data`. Путь к файлу:**\n",
    "\n",
    "`/datasets/data.csv`"
   ]
  },
  {
   "cell_type": "code",
   "execution_count": 79,
   "id": "fd613e2a",
   "metadata": {
    "deletable": false,
    "id": "7bcf75c9"
   },
   "outputs": [],
   "source": [
    "import pandas as pd\n",
    "import warnings\n",
    "warnings.filterwarnings('ignore')\n",
    "\n",
    "try:\n",
    "    data = pd.read_csv('/datasets/data.csv')\n",
    "except:\n",
    "    data = pd.read_csv('https://code.s3.yandex.net/datasets/data.csv')"
   ]
  },
  {
   "cell_type": "markdown",
   "id": "fd64a1b1",
   "metadata": {
    "deletable": false,
    "editable": false,
    "id": "b8038fe3"
   },
   "source": [
    "**Задание 2. Выведите первые 20 строчек датафрейма `data` на экран.**"
   ]
  },
  {
   "cell_type": "code",
   "execution_count": 80,
   "id": "c3198477",
   "metadata": {
    "deletable": false,
    "id": "2a7cab99",
    "outputId": "1a8f3ef2-d323-4ec2-ddf7-89670b5944c4"
   },
   "outputs": [
    {
     "data": {
      "text/html": [
       "<div>\n",
       "<style scoped>\n",
       "    .dataframe tbody tr th:only-of-type {\n",
       "        vertical-align: middle;\n",
       "    }\n",
       "\n",
       "    .dataframe tbody tr th {\n",
       "        vertical-align: top;\n",
       "    }\n",
       "\n",
       "    .dataframe thead th {\n",
       "        text-align: right;\n",
       "    }\n",
       "</style>\n",
       "<table border=\"1\" class=\"dataframe\">\n",
       "  <thead>\n",
       "    <tr style=\"text-align: right;\">\n",
       "      <th></th>\n",
       "      <th>children</th>\n",
       "      <th>days_employed</th>\n",
       "      <th>dob_years</th>\n",
       "      <th>education</th>\n",
       "      <th>education_id</th>\n",
       "      <th>family_status</th>\n",
       "      <th>family_status_id</th>\n",
       "      <th>gender</th>\n",
       "      <th>income_type</th>\n",
       "      <th>debt</th>\n",
       "      <th>total_income</th>\n",
       "      <th>purpose</th>\n",
       "    </tr>\n",
       "  </thead>\n",
       "  <tbody>\n",
       "    <tr>\n",
       "      <th>0</th>\n",
       "      <td>1</td>\n",
       "      <td>-8437.673028</td>\n",
       "      <td>42</td>\n",
       "      <td>высшее</td>\n",
       "      <td>0</td>\n",
       "      <td>женат / замужем</td>\n",
       "      <td>0</td>\n",
       "      <td>F</td>\n",
       "      <td>сотрудник</td>\n",
       "      <td>0</td>\n",
       "      <td>253875.639453</td>\n",
       "      <td>покупка жилья</td>\n",
       "    </tr>\n",
       "    <tr>\n",
       "      <th>1</th>\n",
       "      <td>1</td>\n",
       "      <td>-4024.803754</td>\n",
       "      <td>36</td>\n",
       "      <td>среднее</td>\n",
       "      <td>1</td>\n",
       "      <td>женат / замужем</td>\n",
       "      <td>0</td>\n",
       "      <td>F</td>\n",
       "      <td>сотрудник</td>\n",
       "      <td>0</td>\n",
       "      <td>112080.014102</td>\n",
       "      <td>приобретение автомобиля</td>\n",
       "    </tr>\n",
       "    <tr>\n",
       "      <th>2</th>\n",
       "      <td>0</td>\n",
       "      <td>-5623.422610</td>\n",
       "      <td>33</td>\n",
       "      <td>Среднее</td>\n",
       "      <td>1</td>\n",
       "      <td>женат / замужем</td>\n",
       "      <td>0</td>\n",
       "      <td>M</td>\n",
       "      <td>сотрудник</td>\n",
       "      <td>0</td>\n",
       "      <td>145885.952297</td>\n",
       "      <td>покупка жилья</td>\n",
       "    </tr>\n",
       "    <tr>\n",
       "      <th>3</th>\n",
       "      <td>3</td>\n",
       "      <td>-4124.747207</td>\n",
       "      <td>32</td>\n",
       "      <td>среднее</td>\n",
       "      <td>1</td>\n",
       "      <td>женат / замужем</td>\n",
       "      <td>0</td>\n",
       "      <td>M</td>\n",
       "      <td>сотрудник</td>\n",
       "      <td>0</td>\n",
       "      <td>267628.550329</td>\n",
       "      <td>дополнительное образование</td>\n",
       "    </tr>\n",
       "    <tr>\n",
       "      <th>4</th>\n",
       "      <td>0</td>\n",
       "      <td>340266.072047</td>\n",
       "      <td>53</td>\n",
       "      <td>среднее</td>\n",
       "      <td>1</td>\n",
       "      <td>гражданский брак</td>\n",
       "      <td>1</td>\n",
       "      <td>F</td>\n",
       "      <td>пенсионер</td>\n",
       "      <td>0</td>\n",
       "      <td>158616.077870</td>\n",
       "      <td>сыграть свадьбу</td>\n",
       "    </tr>\n",
       "    <tr>\n",
       "      <th>5</th>\n",
       "      <td>0</td>\n",
       "      <td>-926.185831</td>\n",
       "      <td>27</td>\n",
       "      <td>высшее</td>\n",
       "      <td>0</td>\n",
       "      <td>гражданский брак</td>\n",
       "      <td>1</td>\n",
       "      <td>M</td>\n",
       "      <td>компаньон</td>\n",
       "      <td>0</td>\n",
       "      <td>255763.565419</td>\n",
       "      <td>покупка жилья</td>\n",
       "    </tr>\n",
       "    <tr>\n",
       "      <th>6</th>\n",
       "      <td>0</td>\n",
       "      <td>-2879.202052</td>\n",
       "      <td>43</td>\n",
       "      <td>высшее</td>\n",
       "      <td>0</td>\n",
       "      <td>женат / замужем</td>\n",
       "      <td>0</td>\n",
       "      <td>F</td>\n",
       "      <td>компаньон</td>\n",
       "      <td>0</td>\n",
       "      <td>240525.971920</td>\n",
       "      <td>операции с жильем</td>\n",
       "    </tr>\n",
       "    <tr>\n",
       "      <th>7</th>\n",
       "      <td>0</td>\n",
       "      <td>-152.779569</td>\n",
       "      <td>50</td>\n",
       "      <td>СРЕДНЕЕ</td>\n",
       "      <td>1</td>\n",
       "      <td>женат / замужем</td>\n",
       "      <td>0</td>\n",
       "      <td>M</td>\n",
       "      <td>сотрудник</td>\n",
       "      <td>0</td>\n",
       "      <td>135823.934197</td>\n",
       "      <td>образование</td>\n",
       "    </tr>\n",
       "    <tr>\n",
       "      <th>8</th>\n",
       "      <td>2</td>\n",
       "      <td>-6929.865299</td>\n",
       "      <td>35</td>\n",
       "      <td>ВЫСШЕЕ</td>\n",
       "      <td>0</td>\n",
       "      <td>гражданский брак</td>\n",
       "      <td>1</td>\n",
       "      <td>F</td>\n",
       "      <td>сотрудник</td>\n",
       "      <td>0</td>\n",
       "      <td>95856.832424</td>\n",
       "      <td>на проведение свадьбы</td>\n",
       "    </tr>\n",
       "    <tr>\n",
       "      <th>9</th>\n",
       "      <td>0</td>\n",
       "      <td>-2188.756445</td>\n",
       "      <td>41</td>\n",
       "      <td>среднее</td>\n",
       "      <td>1</td>\n",
       "      <td>женат / замужем</td>\n",
       "      <td>0</td>\n",
       "      <td>M</td>\n",
       "      <td>сотрудник</td>\n",
       "      <td>0</td>\n",
       "      <td>144425.938277</td>\n",
       "      <td>покупка жилья для семьи</td>\n",
       "    </tr>\n",
       "    <tr>\n",
       "      <th>10</th>\n",
       "      <td>2</td>\n",
       "      <td>-4171.483647</td>\n",
       "      <td>36</td>\n",
       "      <td>высшее</td>\n",
       "      <td>0</td>\n",
       "      <td>женат / замужем</td>\n",
       "      <td>0</td>\n",
       "      <td>M</td>\n",
       "      <td>компаньон</td>\n",
       "      <td>0</td>\n",
       "      <td>113943.491460</td>\n",
       "      <td>покупка недвижимости</td>\n",
       "    </tr>\n",
       "    <tr>\n",
       "      <th>11</th>\n",
       "      <td>0</td>\n",
       "      <td>-792.701887</td>\n",
       "      <td>40</td>\n",
       "      <td>среднее</td>\n",
       "      <td>1</td>\n",
       "      <td>женат / замужем</td>\n",
       "      <td>0</td>\n",
       "      <td>F</td>\n",
       "      <td>сотрудник</td>\n",
       "      <td>0</td>\n",
       "      <td>77069.234271</td>\n",
       "      <td>покупка коммерческой недвижимости</td>\n",
       "    </tr>\n",
       "    <tr>\n",
       "      <th>12</th>\n",
       "      <td>0</td>\n",
       "      <td>NaN</td>\n",
       "      <td>65</td>\n",
       "      <td>среднее</td>\n",
       "      <td>1</td>\n",
       "      <td>гражданский брак</td>\n",
       "      <td>1</td>\n",
       "      <td>M</td>\n",
       "      <td>пенсионер</td>\n",
       "      <td>0</td>\n",
       "      <td>NaN</td>\n",
       "      <td>сыграть свадьбу</td>\n",
       "    </tr>\n",
       "    <tr>\n",
       "      <th>13</th>\n",
       "      <td>0</td>\n",
       "      <td>-1846.641941</td>\n",
       "      <td>54</td>\n",
       "      <td>неоконченное высшее</td>\n",
       "      <td>2</td>\n",
       "      <td>женат / замужем</td>\n",
       "      <td>0</td>\n",
       "      <td>F</td>\n",
       "      <td>сотрудник</td>\n",
       "      <td>0</td>\n",
       "      <td>130458.228857</td>\n",
       "      <td>приобретение автомобиля</td>\n",
       "    </tr>\n",
       "    <tr>\n",
       "      <th>14</th>\n",
       "      <td>0</td>\n",
       "      <td>-1844.956182</td>\n",
       "      <td>56</td>\n",
       "      <td>высшее</td>\n",
       "      <td>0</td>\n",
       "      <td>гражданский брак</td>\n",
       "      <td>1</td>\n",
       "      <td>F</td>\n",
       "      <td>компаньон</td>\n",
       "      <td>1</td>\n",
       "      <td>165127.911772</td>\n",
       "      <td>покупка жилой недвижимости</td>\n",
       "    </tr>\n",
       "    <tr>\n",
       "      <th>15</th>\n",
       "      <td>1</td>\n",
       "      <td>-972.364419</td>\n",
       "      <td>26</td>\n",
       "      <td>среднее</td>\n",
       "      <td>1</td>\n",
       "      <td>женат / замужем</td>\n",
       "      <td>0</td>\n",
       "      <td>F</td>\n",
       "      <td>сотрудник</td>\n",
       "      <td>0</td>\n",
       "      <td>116820.904450</td>\n",
       "      <td>строительство собственной недвижимости</td>\n",
       "    </tr>\n",
       "    <tr>\n",
       "      <th>16</th>\n",
       "      <td>0</td>\n",
       "      <td>-1719.934226</td>\n",
       "      <td>35</td>\n",
       "      <td>среднее</td>\n",
       "      <td>1</td>\n",
       "      <td>женат / замужем</td>\n",
       "      <td>0</td>\n",
       "      <td>F</td>\n",
       "      <td>сотрудник</td>\n",
       "      <td>0</td>\n",
       "      <td>289202.704229</td>\n",
       "      <td>недвижимость</td>\n",
       "    </tr>\n",
       "    <tr>\n",
       "      <th>17</th>\n",
       "      <td>0</td>\n",
       "      <td>-2369.999720</td>\n",
       "      <td>33</td>\n",
       "      <td>высшее</td>\n",
       "      <td>0</td>\n",
       "      <td>гражданский брак</td>\n",
       "      <td>1</td>\n",
       "      <td>M</td>\n",
       "      <td>сотрудник</td>\n",
       "      <td>0</td>\n",
       "      <td>90410.586745</td>\n",
       "      <td>строительство недвижимости</td>\n",
       "    </tr>\n",
       "    <tr>\n",
       "      <th>18</th>\n",
       "      <td>0</td>\n",
       "      <td>400281.136913</td>\n",
       "      <td>53</td>\n",
       "      <td>среднее</td>\n",
       "      <td>1</td>\n",
       "      <td>вдовец / вдова</td>\n",
       "      <td>2</td>\n",
       "      <td>F</td>\n",
       "      <td>пенсионер</td>\n",
       "      <td>0</td>\n",
       "      <td>56823.777243</td>\n",
       "      <td>на покупку подержанного автомобиля</td>\n",
       "    </tr>\n",
       "    <tr>\n",
       "      <th>19</th>\n",
       "      <td>0</td>\n",
       "      <td>-10038.818549</td>\n",
       "      <td>48</td>\n",
       "      <td>СРЕДНЕЕ</td>\n",
       "      <td>1</td>\n",
       "      <td>в разводе</td>\n",
       "      <td>3</td>\n",
       "      <td>F</td>\n",
       "      <td>сотрудник</td>\n",
       "      <td>0</td>\n",
       "      <td>242831.107982</td>\n",
       "      <td>на покупку своего автомобиля</td>\n",
       "    </tr>\n",
       "  </tbody>\n",
       "</table>\n",
       "</div>"
      ],
      "text/plain": [
       "    children  days_employed  dob_years            education  education_id  \\\n",
       "0          1   -8437.673028         42               высшее             0   \n",
       "1          1   -4024.803754         36              среднее             1   \n",
       "2          0   -5623.422610         33              Среднее             1   \n",
       "3          3   -4124.747207         32              среднее             1   \n",
       "4          0  340266.072047         53              среднее             1   \n",
       "5          0    -926.185831         27               высшее             0   \n",
       "6          0   -2879.202052         43               высшее             0   \n",
       "7          0    -152.779569         50              СРЕДНЕЕ             1   \n",
       "8          2   -6929.865299         35               ВЫСШЕЕ             0   \n",
       "9          0   -2188.756445         41              среднее             1   \n",
       "10         2   -4171.483647         36               высшее             0   \n",
       "11         0    -792.701887         40              среднее             1   \n",
       "12         0            NaN         65              среднее             1   \n",
       "13         0   -1846.641941         54  неоконченное высшее             2   \n",
       "14         0   -1844.956182         56               высшее             0   \n",
       "15         1    -972.364419         26              среднее             1   \n",
       "16         0   -1719.934226         35              среднее             1   \n",
       "17         0   -2369.999720         33               высшее             0   \n",
       "18         0  400281.136913         53              среднее             1   \n",
       "19         0  -10038.818549         48              СРЕДНЕЕ             1   \n",
       "\n",
       "       family_status  family_status_id gender income_type  debt  \\\n",
       "0    женат / замужем                 0      F   сотрудник     0   \n",
       "1    женат / замужем                 0      F   сотрудник     0   \n",
       "2    женат / замужем                 0      M   сотрудник     0   \n",
       "3    женат / замужем                 0      M   сотрудник     0   \n",
       "4   гражданский брак                 1      F   пенсионер     0   \n",
       "5   гражданский брак                 1      M   компаньон     0   \n",
       "6    женат / замужем                 0      F   компаньон     0   \n",
       "7    женат / замужем                 0      M   сотрудник     0   \n",
       "8   гражданский брак                 1      F   сотрудник     0   \n",
       "9    женат / замужем                 0      M   сотрудник     0   \n",
       "10   женат / замужем                 0      M   компаньон     0   \n",
       "11   женат / замужем                 0      F   сотрудник     0   \n",
       "12  гражданский брак                 1      M   пенсионер     0   \n",
       "13   женат / замужем                 0      F   сотрудник     0   \n",
       "14  гражданский брак                 1      F   компаньон     1   \n",
       "15   женат / замужем                 0      F   сотрудник     0   \n",
       "16   женат / замужем                 0      F   сотрудник     0   \n",
       "17  гражданский брак                 1      M   сотрудник     0   \n",
       "18    вдовец / вдова                 2      F   пенсионер     0   \n",
       "19         в разводе                 3      F   сотрудник     0   \n",
       "\n",
       "     total_income                                 purpose  \n",
       "0   253875.639453                           покупка жилья  \n",
       "1   112080.014102                 приобретение автомобиля  \n",
       "2   145885.952297                           покупка жилья  \n",
       "3   267628.550329              дополнительное образование  \n",
       "4   158616.077870                         сыграть свадьбу  \n",
       "5   255763.565419                           покупка жилья  \n",
       "6   240525.971920                       операции с жильем  \n",
       "7   135823.934197                             образование  \n",
       "8    95856.832424                   на проведение свадьбы  \n",
       "9   144425.938277                 покупка жилья для семьи  \n",
       "10  113943.491460                    покупка недвижимости  \n",
       "11   77069.234271       покупка коммерческой недвижимости  \n",
       "12            NaN                         сыграть свадьбу  \n",
       "13  130458.228857                 приобретение автомобиля  \n",
       "14  165127.911772              покупка жилой недвижимости  \n",
       "15  116820.904450  строительство собственной недвижимости  \n",
       "16  289202.704229                            недвижимость  \n",
       "17   90410.586745              строительство недвижимости  \n",
       "18   56823.777243      на покупку подержанного автомобиля  \n",
       "19  242831.107982            на покупку своего автомобиля  "
      ]
     },
     "execution_count": 80,
     "metadata": {},
     "output_type": "execute_result"
    }
   ],
   "source": [
    "data.head(20)"
   ]
  },
  {
   "cell_type": "markdown",
   "id": "e99b6c15",
   "metadata": {
    "deletable": false,
    "editable": false,
    "id": "1c12e233"
   },
   "source": [
    "**Задание 3. Выведите основную информацию о датафрейме с помощью метода `info()`.**"
   ]
  },
  {
   "cell_type": "code",
   "execution_count": 81,
   "id": "f8347984",
   "metadata": {
    "deletable": false,
    "id": "2b757bca",
    "outputId": "15376089-8dad-46c9-b520-c05248d43158",
    "scrolled": true
   },
   "outputs": [
    {
     "name": "stdout",
     "output_type": "stream",
     "text": [
      "<class 'pandas.core.frame.DataFrame'>\n",
      "RangeIndex: 21525 entries, 0 to 21524\n",
      "Data columns (total 12 columns):\n",
      " #   Column            Non-Null Count  Dtype  \n",
      "---  ------            --------------  -----  \n",
      " 0   children          21525 non-null  int64  \n",
      " 1   days_employed     19351 non-null  float64\n",
      " 2   dob_years         21525 non-null  int64  \n",
      " 3   education         21525 non-null  object \n",
      " 4   education_id      21525 non-null  int64  \n",
      " 5   family_status     21525 non-null  object \n",
      " 6   family_status_id  21525 non-null  int64  \n",
      " 7   gender            21525 non-null  object \n",
      " 8   income_type       21525 non-null  object \n",
      " 9   debt              21525 non-null  int64  \n",
      " 10  total_income      19351 non-null  float64\n",
      " 11  purpose           21525 non-null  object \n",
      "dtypes: float64(2), int64(5), object(5)\n",
      "memory usage: 2.0+ MB\n"
     ]
    }
   ],
   "source": [
    "data.info()"
   ]
  },
  {
   "cell_type": "markdown",
   "id": "bb60fe49",
   "metadata": {
    "deletable": false,
    "editable": false,
    "id": "333ec665"
   },
   "source": [
    "## Предобработка данных"
   ]
  },
  {
   "cell_type": "markdown",
   "id": "65aa3b65",
   "metadata": {
    "deletable": false,
    "editable": false,
    "id": "02d92d53"
   },
   "source": [
    "### Удаление пропусков"
   ]
  },
  {
   "cell_type": "markdown",
   "id": "44c184fd",
   "metadata": {
    "deletable": false,
    "editable": false,
    "id": "cd84967c"
   },
   "source": [
    "**Задание 4. Выведите количество пропущенных значений для каждого столбца. Используйте комбинацию двух методов.**"
   ]
  },
  {
   "cell_type": "code",
   "execution_count": 82,
   "id": "5ec86d63",
   "metadata": {
    "deletable": false,
    "id": "7f9b2309",
    "outputId": "81f4d817-781c-465c-ed15-91ce4446810d"
   },
   "outputs": [
    {
     "data": {
      "text/plain": [
       "children               0\n",
       "days_employed       2174\n",
       "dob_years              0\n",
       "education              0\n",
       "education_id           0\n",
       "family_status          0\n",
       "family_status_id       0\n",
       "gender                 0\n",
       "income_type            0\n",
       "debt                   0\n",
       "total_income        2174\n",
       "purpose                0\n",
       "dtype: int64"
      ]
     },
     "execution_count": 82,
     "metadata": {},
     "output_type": "execute_result"
    }
   ],
   "source": [
    "data.isna().sum()"
   ]
  },
  {
   "cell_type": "markdown",
   "id": "5f7f752f",
   "metadata": {
    "deletable": false,
    "editable": false,
    "id": "db86e27b"
   },
   "source": [
    "**Задание 5. В двух столбцах есть пропущенные значения. Один из них — `days_employed`. Пропуски в этом столбце вы обработаете на следующем этапе. Другой столбец с пропущенными значениями — `total_income` — хранит данные о доходах. На сумму дохода сильнее всего влияет тип занятости, поэтому заполнить пропуски в этом столбце нужно медианным значением по каждому типу из столбца `income_type`. Например, у человека с типом занятости `сотрудник` пропуск в столбце `total_income` должен быть заполнен медианным доходом среди всех записей с тем же типом.**"
   ]
  },
  {
   "cell_type": "code",
   "execution_count": 83,
   "id": "98f451be",
   "metadata": {
    "deletable": false,
    "id": "42006a93"
   },
   "outputs": [],
   "source": [
    "for t in data['income_type'].unique():\n",
    "    data.loc[(data['income_type'] == t) & (data['total_income'].isna()), 'total_income'] = \\\n",
    "    data.loc[(data['income_type'] == t), 'total_income'].median()"
   ]
  },
  {
   "cell_type": "markdown",
   "id": "7333dda1",
   "metadata": {
    "deletable": false,
    "editable": false,
    "id": "89da5ece"
   },
   "source": [
    "### Обработка аномальных значений"
   ]
  },
  {
   "cell_type": "markdown",
   "id": "c596a3d4",
   "metadata": {
    "deletable": false,
    "editable": false,
    "id": "57964554"
   },
   "source": [
    "**Задание 6. В данных могут встречаться артефакты (аномалии) — значения, которые не отражают действительность и появились по какой-то ошибке. таким артефактом будет отрицательное количество дней трудового стажа в столбце `days_employed`. Для реальных данных это нормально. Обработайте значения в этом столбце: замените все отрицательные значения положительными с помощью метода `abs()`.**"
   ]
  },
  {
   "cell_type": "code",
   "execution_count": 84,
   "id": "47910763",
   "metadata": {
    "deletable": false,
    "id": "f6f055bf"
   },
   "outputs": [],
   "source": [
    "data['days_employed'] = data['days_employed'].abs()"
   ]
  },
  {
   "cell_type": "markdown",
   "id": "8cca364b",
   "metadata": {
    "deletable": false,
    "editable": false,
    "id": "6107dd2f"
   },
   "source": [
    "**Задание 7. Для каждого типа занятости выведите медианное значение трудового стажа `days_employed` в днях.**"
   ]
  },
  {
   "cell_type": "code",
   "execution_count": 85,
   "id": "459c2961",
   "metadata": {
    "deletable": false,
    "id": "85a5faf6",
    "outputId": "801ef80e-522b-4668-f34e-565af7432bcf"
   },
   "outputs": [
    {
     "data": {
      "text/plain": [
       "income_type\n",
       "безработный        366413.652744\n",
       "в декрете            3296.759962\n",
       "госслужащий          2689.368353\n",
       "компаньон            1547.382223\n",
       "пенсионер          365213.306266\n",
       "предприниматель       520.848083\n",
       "сотрудник            1574.202821\n",
       "студент               578.751554\n",
       "Name: days_employed, dtype: float64"
      ]
     },
     "execution_count": 85,
     "metadata": {},
     "output_type": "execute_result"
    }
   ],
   "source": [
    "data.groupby('income_type')['days_employed'].agg('median')"
   ]
  },
  {
   "cell_type": "markdown",
   "id": "7fd271b6",
   "metadata": {
    "deletable": false,
    "editable": false,
    "id": "38d1a030"
   },
   "source": [
    "У двух типов (безработные и пенсионеры) получатся аномально большие значения. Исправить такие значения сложно, поэтому оставьте их как есть. Тем более этот столбец не понадобится вам для исследования."
   ]
  },
  {
   "cell_type": "markdown",
   "id": "f96139f5",
   "metadata": {
    "deletable": false,
    "editable": false,
    "id": "d8a9f147"
   },
   "source": [
    "**Задание 8. Выведите перечень уникальных значений столбца `children`.**"
   ]
  },
  {
   "cell_type": "code",
   "execution_count": 86,
   "id": "cf770a26",
   "metadata": {
    "deletable": false,
    "id": "ef5056eb",
    "outputId": "6975b15c-7f95-4697-d16d-a0c79b657b03"
   },
   "outputs": [
    {
     "data": {
      "text/plain": [
       "array([ 1,  0,  3,  2, -1,  4, 20,  5])"
      ]
     },
     "execution_count": 86,
     "metadata": {},
     "output_type": "execute_result"
    }
   ],
   "source": [
    "data['children'].unique()"
   ]
  },
  {
   "cell_type": "markdown",
   "id": "4130a9f9",
   "metadata": {
    "deletable": false,
    "editable": false,
    "id": "40b9ebf2"
   },
   "source": [
    "**Задание 9. В столбце `children` есть два аномальных значения. Удалите строки, в которых встречаются такие аномальные значения из датафрейма `data`.**"
   ]
  },
  {
   "cell_type": "code",
   "execution_count": 87,
   "id": "f3e0c66d",
   "metadata": {
    "deletable": false,
    "id": "3ff9801d"
   },
   "outputs": [],
   "source": [
    "data = data[(data['children'] != -1) & (data['children'] != 20)]"
   ]
  },
  {
   "cell_type": "markdown",
   "id": "94dbfaab",
   "metadata": {
    "deletable": false,
    "editable": false,
    "id": "bbc4d0ce"
   },
   "source": [
    "**Задание 10. Ещё раз выведите перечень уникальных значений столбца `children`, чтобы убедиться, что артефакты удалены.**"
   ]
  },
  {
   "cell_type": "code",
   "execution_count": 88,
   "id": "07ac71d7",
   "metadata": {
    "deletable": false,
    "id": "ad4fa8b7",
    "outputId": "b2097101-d49d-44d9-901b-32a65c9463d1"
   },
   "outputs": [
    {
     "data": {
      "text/plain": [
       "array([1, 0, 3, 2, 4, 5])"
      ]
     },
     "execution_count": 88,
     "metadata": {},
     "output_type": "execute_result"
    }
   ],
   "source": [
    "data['children'].unique()"
   ]
  },
  {
   "cell_type": "markdown",
   "id": "0d9fae7e",
   "metadata": {
    "deletable": false,
    "editable": false,
    "id": "75440b63"
   },
   "source": [
    "### Удаление пропусков (продолжение)"
   ]
  },
  {
   "cell_type": "markdown",
   "id": "e657333d",
   "metadata": {
    "deletable": false,
    "editable": false,
    "id": "f4ea573f"
   },
   "source": [
    "**Задание 11. Заполните пропуски в столбце `days_employed` медианными значениями по каждого типа занятости `income_type`.**"
   ]
  },
  {
   "cell_type": "code",
   "execution_count": 89,
   "id": "d55e77e2",
   "metadata": {
    "deletable": false,
    "id": "af6b1a7e"
   },
   "outputs": [],
   "source": [
    "for t in data['income_type'].unique():\n",
    "    data.loc[(data['income_type'] == t) & (data['days_employed'].isna()), 'days_employed'] = \\\n",
    "    data.loc[(data['income_type'] == t), 'days_employed'].median()"
   ]
  },
  {
   "cell_type": "markdown",
   "id": "ba850bba",
   "metadata": {
    "deletable": false,
    "editable": false,
    "id": "2753f40d"
   },
   "source": [
    "**Задание 12. Убедитесь, что все пропуски заполнены. Проверьте себя и ещё раз выведите количество пропущенных значений для каждого столбца с помощью двух методов.**"
   ]
  },
  {
   "cell_type": "code",
   "execution_count": 90,
   "id": "2dc3e236",
   "metadata": {
    "deletable": false,
    "id": "55f78bc2",
    "outputId": "8da1e4e1-358e-4e87-98c9-f261bce0a7b2"
   },
   "outputs": [
    {
     "data": {
      "text/plain": [
       "children            0\n",
       "days_employed       0\n",
       "dob_years           0\n",
       "education           0\n",
       "education_id        0\n",
       "family_status       0\n",
       "family_status_id    0\n",
       "gender              0\n",
       "income_type         0\n",
       "debt                0\n",
       "total_income        0\n",
       "purpose             0\n",
       "dtype: int64"
      ]
     },
     "execution_count": 90,
     "metadata": {},
     "output_type": "execute_result"
    }
   ],
   "source": [
    "data.isna().sum()"
   ]
  },
  {
   "cell_type": "markdown",
   "id": "7628beca",
   "metadata": {
    "deletable": false,
    "editable": false,
    "id": "ddc81e43"
   },
   "source": [
    "### Изменение типов данных"
   ]
  },
  {
   "cell_type": "markdown",
   "id": "7617dcf9",
   "metadata": {
    "deletable": false,
    "editable": false,
    "id": "42d19d24"
   },
   "source": [
    "**Задание 13. Замените вещественный тип данных в столбце `total_income` на целочисленный с помощью метода `astype()`.**"
   ]
  },
  {
   "cell_type": "code",
   "execution_count": 91,
   "id": "07b90409",
   "metadata": {
    "deletable": false,
    "id": "920b65ad"
   },
   "outputs": [],
   "source": [
    "data['total_income'] = data['total_income'].astype(int)"
   ]
  },
  {
   "cell_type": "markdown",
   "id": "0931fc5b",
   "metadata": {
    "deletable": false,
    "editable": false,
    "id": "80c420ba"
   },
   "source": [
    "### Обработка дубликатов"
   ]
  },
  {
   "cell_type": "markdown",
   "id": "42ac2229",
   "metadata": {
    "deletable": false,
    "editable": false
   },
   "source": [
    "**Задание 14. Обработайте неявные дубликаты в столбце `education`. В этом столбце есть одни и те же значения, но записанные по-разному: с использованием заглавных и строчных букв. Приведите их к нижнему регистру. Проверьте остальные столбцы.**"
   ]
  },
  {
   "cell_type": "code",
   "execution_count": 92,
   "id": "d4ab9dcc",
   "metadata": {
    "deletable": false
   },
   "outputs": [],
   "source": [
    "data['education'] = data['education'].str.lower()"
   ]
  },
  {
   "cell_type": "markdown",
   "id": "38f2ad11",
   "metadata": {
    "deletable": false,
    "editable": false,
    "id": "dc587695"
   },
   "source": [
    "**Задание 15. Выведите на экран количество строк-дубликатов в данных. Если такие строки присутствуют, удалите их.**"
   ]
  },
  {
   "cell_type": "code",
   "execution_count": 93,
   "id": "136725e6",
   "metadata": {
    "deletable": false,
    "id": "3ee445e4",
    "outputId": "9684deba-1934-42d1-99e1-cda61740f822"
   },
   "outputs": [
    {
     "data": {
      "text/plain": [
       "71"
      ]
     },
     "execution_count": 93,
     "metadata": {},
     "output_type": "execute_result"
    }
   ],
   "source": [
    "data.duplicated().sum()"
   ]
  },
  {
   "cell_type": "code",
   "execution_count": 94,
   "id": "6fd86dee",
   "metadata": {
    "deletable": false,
    "id": "8575fe05"
   },
   "outputs": [],
   "source": [
    "data = data.drop_duplicates()"
   ]
  },
  {
   "cell_type": "markdown",
   "id": "0d3e65aa",
   "metadata": {
    "deletable": false,
    "editable": false,
    "id": "9904cf55"
   },
   "source": [
    "### Категоризация данных"
   ]
  },
  {
   "cell_type": "markdown",
   "id": "263a3000",
   "metadata": {
    "deletable": false,
    "editable": false,
    "id": "72fcc8a2"
   },
   "source": [
    "**Задание 16. На основании диапазонов, указанных ниже, создайте в датафрейме `data` столбец `total_income_category` с категориями:**\n",
    "\n",
    "- 0–30000 — `'E'`;\n",
    "- 30001–50000 — `'D'`;\n",
    "- 50001–200000 — `'C'`;\n",
    "- 200001–1000000 — `'B'`;\n",
    "- 1000001 и выше — `'A'`.\n",
    "\n",
    "\n",
    "**Например, кредитополучателю с доходом 25000 нужно назначить категорию `'E'`, а клиенту, получающему 235000, — `'B'`. Используйте собственную функцию с именем `categorize_income()` и метод `apply()`.**"
   ]
  },
  {
   "cell_type": "code",
   "execution_count": 95,
   "id": "6cfcc74f",
   "metadata": {
    "deletable": false,
    "id": "e1771346"
   },
   "outputs": [],
   "source": [
    "def categorize_income(income):\n",
    "    try:\n",
    "        if 0 <= income <= 30000:\n",
    "            return 'E'\n",
    "        elif 30001 <= income <= 50000:\n",
    "            return 'D'\n",
    "        elif 50001 <= income <= 200000:\n",
    "            return 'C'\n",
    "        elif 200001 <= income <= 1000000:\n",
    "            return 'B'\n",
    "        elif income >= 1000001:\n",
    "            return 'A'\n",
    "    except:\n",
    "        pass"
   ]
  },
  {
   "cell_type": "code",
   "execution_count": 96,
   "id": "62c932c3",
   "metadata": {
    "deletable": false,
    "id": "d5f3586d"
   },
   "outputs": [],
   "source": [
    "data['total_income_category'] = data['total_income'].apply(categorize_income)"
   ]
  },
  {
   "cell_type": "markdown",
   "id": "2d744b40",
   "metadata": {
    "deletable": false,
    "editable": false,
    "id": "dde49b5c"
   },
   "source": [
    "**Задание 17. Выведите на экран перечень уникальных целей взятия кредита из столбца `purpose`.**"
   ]
  },
  {
   "cell_type": "code",
   "execution_count": 97,
   "id": "75284e2e",
   "metadata": {
    "deletable": false,
    "id": "f67ce9b3",
    "outputId": "673c12d9-7d7e-4ae0-9812-c622c89dd244"
   },
   "outputs": [
    {
     "data": {
      "text/plain": [
       "array(['покупка жилья', 'приобретение автомобиля',\n",
       "       'дополнительное образование', 'сыграть свадьбу',\n",
       "       'операции с жильем', 'образование', 'на проведение свадьбы',\n",
       "       'покупка жилья для семьи', 'покупка недвижимости',\n",
       "       'покупка коммерческой недвижимости', 'покупка жилой недвижимости',\n",
       "       'строительство собственной недвижимости', 'недвижимость',\n",
       "       'строительство недвижимости', 'на покупку подержанного автомобиля',\n",
       "       'на покупку своего автомобиля',\n",
       "       'операции с коммерческой недвижимостью',\n",
       "       'строительство жилой недвижимости', 'жилье',\n",
       "       'операции со своей недвижимостью', 'автомобили',\n",
       "       'заняться образованием', 'сделка с подержанным автомобилем',\n",
       "       'получение образования', 'автомобиль', 'свадьба',\n",
       "       'получение дополнительного образования', 'покупка своего жилья',\n",
       "       'операции с недвижимостью', 'получение высшего образования',\n",
       "       'свой автомобиль', 'сделка с автомобилем',\n",
       "       'профильное образование', 'высшее образование',\n",
       "       'покупка жилья для сдачи', 'на покупку автомобиля', 'ремонт жилью',\n",
       "       'заняться высшим образованием'], dtype=object)"
      ]
     },
     "execution_count": 97,
     "metadata": {},
     "output_type": "execute_result"
    }
   ],
   "source": [
    "data['purpose'].unique()"
   ]
  },
  {
   "cell_type": "markdown",
   "id": "c1b0af4b",
   "metadata": {
    "deletable": false,
    "editable": false,
    "id": "85d0aef0"
   },
   "source": [
    "**Задание 18. Создайте функцию, которая на основании данных из столбца `purpose` сформирует новый столбец `purpose_category`, в который войдут следующие категории:**\n",
    "\n",
    "- `'операции с автомобилем'`,\n",
    "- `'операции с недвижимостью'`,\n",
    "- `'проведение свадьбы'`,\n",
    "- `'получение образования'`.\n",
    "\n",
    "**Например, если в столбце `purpose` находится подстрока `'на покупку автомобиля'`, то в столбце `purpose_category` должна появиться строка `'операции с автомобилем'`.**\n",
    "\n",
    "**Используйте собственную функцию с именем `categorize_purpose()` и метод `apply()`. Изучите данные в столбце `purpose` и определите, какие подстроки помогут вам правильно определить категорию.**"
   ]
  },
  {
   "cell_type": "code",
   "execution_count": 98,
   "id": "746e7c06",
   "metadata": {
    "deletable": false,
    "id": "e149fab4"
   },
   "outputs": [],
   "source": [
    "def categorize_purpose(row):\n",
    "    try:\n",
    "        if 'автом' in row:\n",
    "            return 'операции с автомобилем'\n",
    "        elif 'жил' in row or 'недвиж' in row:\n",
    "            return 'операции с недвижимостью'\n",
    "        elif 'свад' in row:\n",
    "            return 'проведение свадьбы'\n",
    "        elif 'образов' in row:\n",
    "            return 'получение образования'\n",
    "    except:\n",
    "        return 'нет категории'"
   ]
  },
  {
   "cell_type": "code",
   "execution_count": 99,
   "id": "37bac4c8",
   "metadata": {
    "deletable": false,
    "id": "bf36e69b"
   },
   "outputs": [],
   "source": [
    "data['purpose_category'] = data['purpose'].apply(categorize_purpose)"
   ]
  },
  {
   "cell_type": "markdown",
   "id": "1a0f31e7",
   "metadata": {
    "deletable": false,
    "editable": false,
    "id": "09b242bf"
   },
   "source": [
    "### Шаг 3. Исследуйте данные и ответьте на вопросы"
   ]
  },
  {
   "cell_type": "markdown",
   "id": "79d6c3d8",
   "metadata": {
    "deletable": false,
    "editable": false,
    "id": "c5d66278"
   },
   "source": [
    "#### 3.1 Есть ли зависимость между количеством детей и возвратом кредита в срок?"
   ]
  },
  {
   "cell_type": "code",
   "execution_count": 118,
   "id": "c76b1c3c",
   "metadata": {},
   "outputs": [
    {
     "data": {
      "text/plain": [
       "<AxesSubplot:xlabel='children'>"
      ]
     },
     "execution_count": 118,
     "metadata": {},
     "output_type": "execute_result"
    },
    {
     "data": {
      "image/png": "[encoded data removed]",
      "text/plain": [
       "<Figure size 432x288 with 1 Axes>"
      ]
     },
     "metadata": {
      "needs_background": "light"
     },
     "output_type": "display_data"
    }
   ],
   "source": [
    "(data.groupby('children')['debt']\n",
    " .mean().sort_values(ascending=False)\n",
    " .plot(kind='bar'))"
   ]
  },
  {
   "cell_type": "code",
   "execution_count": 101,
   "id": "bdd02bb7",
   "metadata": {
    "deletable": false,
    "id": "2cacfc4a",
    "scrolled": true
   },
   "outputs": [
    {
     "data": {
      "text/html": [
       "<div>\n",
       "<style scoped>\n",
       "    .dataframe tbody tr th:only-of-type {\n",
       "        vertical-align: middle;\n",
       "    }\n",
       "\n",
       "    .dataframe tbody tr th {\n",
       "        vertical-align: top;\n",
       "    }\n",
       "\n",
       "    .dataframe thead th {\n",
       "        text-align: right;\n",
       "    }\n",
       "</style>\n",
       "<table border=\"1\" class=\"dataframe\">\n",
       "  <thead>\n",
       "    <tr style=\"text-align: right;\">\n",
       "      <th></th>\n",
       "      <th>count</th>\n",
       "      <th>mean</th>\n",
       "    </tr>\n",
       "    <tr>\n",
       "      <th>children</th>\n",
       "      <th></th>\n",
       "      <th></th>\n",
       "    </tr>\n",
       "  </thead>\n",
       "  <tbody>\n",
       "    <tr>\n",
       "      <th>0</th>\n",
       "      <td>14091</td>\n",
       "      <td>0.075438</td>\n",
       "    </tr>\n",
       "    <tr>\n",
       "      <th>1</th>\n",
       "      <td>4808</td>\n",
       "      <td>0.092346</td>\n",
       "    </tr>\n",
       "    <tr>\n",
       "      <th>2</th>\n",
       "      <td>2052</td>\n",
       "      <td>0.094542</td>\n",
       "    </tr>\n",
       "    <tr>\n",
       "      <th>3</th>\n",
       "      <td>330</td>\n",
       "      <td>0.081818</td>\n",
       "    </tr>\n",
       "    <tr>\n",
       "      <th>4</th>\n",
       "      <td>41</td>\n",
       "      <td>0.097561</td>\n",
       "    </tr>\n",
       "    <tr>\n",
       "      <th>5</th>\n",
       "      <td>9</td>\n",
       "      <td>0.000000</td>\n",
       "    </tr>\n",
       "  </tbody>\n",
       "</table>\n",
       "</div>"
      ],
      "text/plain": [
       "          count      mean\n",
       "children                 \n",
       "0         14091  0.075438\n",
       "1          4808  0.092346\n",
       "2          2052  0.094542\n",
       "3           330  0.081818\n",
       "4            41  0.097561\n",
       "5             9  0.000000"
      ]
     },
     "execution_count": 101,
     "metadata": {},
     "output_type": "execute_result"
    }
   ],
   "source": [
    "data.groupby('children')['debt'].agg(['count','mean'])"
   ]
  },
  {
   "cell_type": "markdown",
   "id": "73ec649b",
   "metadata": {
    "deletable": false,
    "id": "3a6b99ec"
   },
   "source": [
    "Вывод:доля просрочек заемщиков с детьми чуть выше, и любое количество присутствия детей у заемщика приводит к задолженности. Наиболее надежная категория заемщика и многочисленная - без детей. У заемщиков с 5 детьми просто нет просрочек, потому как эту группа достаточно редкая, чтобы на ее основе можно было выдвинуть предположение о исключительной надежности.  "
   ]
  },
  {
   "cell_type": "markdown",
   "id": "5675a335",
   "metadata": {
    "deletable": false,
    "editable": false,
    "id": "97be82ca"
   },
   "source": [
    "#### 3.2 Есть ли зависимость между семейным положением и возвратом кредита в срок?"
   ]
  },
  {
   "cell_type": "code",
   "execution_count": 102,
   "id": "940495fe",
   "metadata": {
    "deletable": false,
    "id": "dc3f7ee8",
    "scrolled": false
   },
   "outputs": [
    {
     "data": {
      "text/plain": [
       "<AxesSubplot:xlabel='family_status'>"
      ]
     },
     "execution_count": 102,
     "metadata": {},
     "output_type": "execute_result"
    },
    {
     "data": {
      "image/png": "[encoded data removed]",
      "text/plain": [
       "<Figure size 432x288 with 1 Axes>"
      ]
     },
     "metadata": {
      "needs_background": "light"
     },
     "output_type": "display_data"
    }
   ],
   "source": [
    "(data.groupby('family_status')['debt']\n",
    " .mean().sort_values(ascending=False)\n",
    " .plot(kind='bar'))"
   ]
  },
  {
   "cell_type": "code",
   "execution_count": 103,
   "id": "97d6ff14",
   "metadata": {
    "scrolled": true
   },
   "outputs": [
    {
     "data": {
      "text/html": [
       "<div>\n",
       "<style scoped>\n",
       "    .dataframe tbody tr th:only-of-type {\n",
       "        vertical-align: middle;\n",
       "    }\n",
       "\n",
       "    .dataframe tbody tr th {\n",
       "        vertical-align: top;\n",
       "    }\n",
       "\n",
       "    .dataframe thead th {\n",
       "        text-align: right;\n",
       "    }\n",
       "</style>\n",
       "<table border=\"1\" class=\"dataframe\">\n",
       "  <thead>\n",
       "    <tr style=\"text-align: right;\">\n",
       "      <th></th>\n",
       "      <th>count</th>\n",
       "      <th>mean</th>\n",
       "    </tr>\n",
       "    <tr>\n",
       "      <th>family_status</th>\n",
       "      <th></th>\n",
       "      <th></th>\n",
       "    </tr>\n",
       "  </thead>\n",
       "  <tbody>\n",
       "    <tr>\n",
       "      <th>Не женат / не замужем</th>\n",
       "      <td>2796</td>\n",
       "      <td>0.097639</td>\n",
       "    </tr>\n",
       "    <tr>\n",
       "      <th>в разводе</th>\n",
       "      <td>1189</td>\n",
       "      <td>0.070648</td>\n",
       "    </tr>\n",
       "    <tr>\n",
       "      <th>вдовец / вдова</th>\n",
       "      <td>951</td>\n",
       "      <td>0.066246</td>\n",
       "    </tr>\n",
       "    <tr>\n",
       "      <th>гражданский брак</th>\n",
       "      <td>4134</td>\n",
       "      <td>0.093130</td>\n",
       "    </tr>\n",
       "    <tr>\n",
       "      <th>женат / замужем</th>\n",
       "      <td>12261</td>\n",
       "      <td>0.075606</td>\n",
       "    </tr>\n",
       "  </tbody>\n",
       "</table>\n",
       "</div>"
      ],
      "text/plain": [
       "                       count      mean\n",
       "family_status                         \n",
       "Не женат / не замужем   2796  0.097639\n",
       "в разводе               1189  0.070648\n",
       "вдовец / вдова           951  0.066246\n",
       "гражданский брак        4134  0.093130\n",
       "женат / замужем        12261  0.075606"
      ]
     },
     "execution_count": 103,
     "metadata": {},
     "output_type": "execute_result"
    }
   ],
   "source": [
    "data.groupby('family_status')['debt'].agg(['count','mean'])"
   ]
  },
  {
   "cell_type": "markdown",
   "id": "e696ac71",
   "metadata": {
    "deletable": false,
    "id": "1cef7837"
   },
   "source": [
    "**Вывод:** больший процент просрочек имеют не состоящие в браке, возможно, одинокие люди. меньший процент просрочек у потерявших супруга. Возможно, что жизненный опыт, на примере отношений, сказывается на соблюдении сроков выплат."
   ]
  },
  {
   "cell_type": "markdown",
   "id": "3ff8d894",
   "metadata": {
    "deletable": false,
    "editable": false,
    "id": "1e8b2fca"
   },
   "source": [
    "#### 3.3 Есть ли зависимость между уровнем дохода и возвратом кредита в срок?"
   ]
  },
  {
   "cell_type": "code",
   "execution_count": 125,
   "id": "30114c2b",
   "metadata": {
    "deletable": false,
    "id": "cd7e3720",
    "scrolled": true
   },
   "outputs": [
    {
     "data": {
      "text/plain": [
       "<AxesSubplot:xlabel='total_income_category'>"
      ]
     },
     "execution_count": 125,
     "metadata": {},
     "output_type": "execute_result"
    },
    {
     "data": {
      "image/png": "[encoded data removed]",
      "text/plain": [
       "<Figure size 432x288 with 1 Axes>"
      ]
     },
     "metadata": {
      "needs_background": "light"
     },
     "output_type": "display_data"
    }
   ],
   "source": [
    "data.groupby('total_income_category')['debt'].mean().sort_values(ascending=False).plot(kind='bar')"
   ]
  },
  {
   "cell_type": "code",
   "execution_count": 123,
   "id": "b3b2e82c",
   "metadata": {
    "scrolled": true
   },
   "outputs": [
    {
     "data": {
      "text/html": [
       "<div>\n",
       "<style scoped>\n",
       "    .dataframe tbody tr th:only-of-type {\n",
       "        vertical-align: middle;\n",
       "    }\n",
       "\n",
       "    .dataframe tbody tr th {\n",
       "        vertical-align: top;\n",
       "    }\n",
       "\n",
       "    .dataframe thead th {\n",
       "        text-align: right;\n",
       "    }\n",
       "</style>\n",
       "<table border=\"1\" class=\"dataframe\">\n",
       "  <thead>\n",
       "    <tr style=\"text-align: right;\">\n",
       "      <th></th>\n",
       "      <th>count</th>\n",
       "      <th>mean</th>\n",
       "    </tr>\n",
       "    <tr>\n",
       "      <th>total_income_category</th>\n",
       "      <th></th>\n",
       "      <th></th>\n",
       "    </tr>\n",
       "  </thead>\n",
       "  <tbody>\n",
       "    <tr>\n",
       "      <th>A</th>\n",
       "      <td>25</td>\n",
       "      <td>0.080000</td>\n",
       "    </tr>\n",
       "    <tr>\n",
       "      <th>B</th>\n",
       "      <td>5014</td>\n",
       "      <td>0.070602</td>\n",
       "    </tr>\n",
       "    <tr>\n",
       "      <th>C</th>\n",
       "      <td>15921</td>\n",
       "      <td>0.084982</td>\n",
       "    </tr>\n",
       "    <tr>\n",
       "      <th>D</th>\n",
       "      <td>349</td>\n",
       "      <td>0.060172</td>\n",
       "    </tr>\n",
       "    <tr>\n",
       "      <th>E</th>\n",
       "      <td>22</td>\n",
       "      <td>0.090909</td>\n",
       "    </tr>\n",
       "  </tbody>\n",
       "</table>\n",
       "</div>"
      ],
      "text/plain": [
       "                       count      mean\n",
       "total_income_category                 \n",
       "A                         25  0.080000\n",
       "B                       5014  0.070602\n",
       "C                      15921  0.084982\n",
       "D                        349  0.060172\n",
       "E                         22  0.090909"
      ]
     },
     "execution_count": 123,
     "metadata": {},
     "output_type": "execute_result"
    }
   ],
   "source": [
    "data.groupby('total_income_category')['debt'].agg(['count','mean'])"
   ]
  },
  {
   "cell_type": "code",
   "execution_count": 124,
   "id": "f9bb0b9b",
   "metadata": {},
   "outputs": [
    {
     "data": {
      "text/html": [
       "<div>\n",
       "<style scoped>\n",
       "    .dataframe tbody tr th:only-of-type {\n",
       "        vertical-align: middle;\n",
       "    }\n",
       "\n",
       "    .dataframe tbody tr th {\n",
       "        vertical-align: top;\n",
       "    }\n",
       "\n",
       "    .dataframe thead th {\n",
       "        text-align: right;\n",
       "    }\n",
       "</style>\n",
       "<table border=\"1\" class=\"dataframe\">\n",
       "  <thead>\n",
       "    <tr style=\"text-align: right;\">\n",
       "      <th></th>\n",
       "      <th>count</th>\n",
       "      <th>mean</th>\n",
       "    </tr>\n",
       "    <tr>\n",
       "      <th>total_income_category</th>\n",
       "      <th></th>\n",
       "      <th></th>\n",
       "    </tr>\n",
       "  </thead>\n",
       "  <tbody>\n",
       "    <tr>\n",
       "      <th>B</th>\n",
       "      <td>5014</td>\n",
       "      <td>0.070602</td>\n",
       "    </tr>\n",
       "    <tr>\n",
       "      <th>C</th>\n",
       "      <td>15921</td>\n",
       "      <td>0.084982</td>\n",
       "    </tr>\n",
       "  </tbody>\n",
       "</table>\n",
       "</div>"
      ],
      "text/plain": [
       "                       count      mean\n",
       "total_income_category                 \n",
       "B                       5014  0.070602\n",
       "C                      15921  0.084982"
      ]
     },
     "execution_count": 124,
     "metadata": {},
     "output_type": "execute_result"
    }
   ],
   "source": [
    "filtered_data = data[data.total_income_category.isin(['B', 'C'])]\n",
    "filtered_data.groupby('total_income_category')['debt'].agg(['count','mean'])"
   ]
  },
  {
   "cell_type": "markdown",
   "id": "15e92245",
   "metadata": {
    "deletable": false,
    "id": "e8593def"
   },
   "source": [
    "**Вывод:** \n",
    "ПРИОРИТЕНАЯ категория заемщиков - B, с достатком в 200000-1000000, \n",
    "\n",
    "\n",
    "категории плательщиков:\n",
    "- 0–30000 — 'E';\n",
    "- 30001–50000 — 'D';\n",
    "- 50001–200000 — 'C';\n",
    "- 200001–1000000 — 'B';\n",
    "- 1000001 и выше — 'A'\n",
    "\n",
    "наибольшую долю в просрочках имеют заемщики в категории E с зарплатой до 30000. А наименьшую - в категории D - 30001–50000. \n",
    "\n",
    "НО! самая активная категория по кредитованию это люди с достатком 50001–200000 в категории С имеет высокий процент по просрочкам, в то время, как категория B имеет меньший процент просрочек и довольно многочисленная"
   ]
  },
  {
   "cell_type": "markdown",
   "id": "acda4600",
   "metadata": {
    "deletable": false,
    "editable": false,
    "id": "99ecbd1f"
   },
   "source": [
    "#### 3.4 Как разные цели кредита влияют на его возврат в срок?"
   ]
  },
  {
   "cell_type": "code",
   "execution_count": null,
   "id": "a586535f",
   "metadata": {
    "deletable": false,
    "id": "2b687290"
   },
   "outputs": [],
   "source": [
    "(data.groupby('purpose_category')['debt']\n",
    " .mean().sort_values(ascending=False).plot(kind='bar'))"
   ]
  },
  {
   "cell_type": "code",
   "execution_count": null,
   "id": "53fade0d",
   "metadata": {},
   "outputs": [],
   "source": [
    "data.groupby('purpose_category')['debt'].agg(['count','mean'])"
   ]
  },
  {
   "cell_type": "markdown",
   "id": "4f8ae85c",
   "metadata": {
    "deletable": false,
    "id": "b4bb2ce6"
   },
   "source": [
    "**Вывод:** наибольшую долю просрочек имеют заемщики, берущие кредит для операции с автомобилем и для получения образования. Наименьшую долю просрочек - для операций с недвижимостью. Возможно, что мотивация при кредитовании для жилья более сильная, нежели для второстепенных целей."
   ]
  },
  {
   "cell_type": "markdown",
   "id": "7377f190",
   "metadata": {
    "deletable": false,
    "editable": false,
    "id": "09c3ac4c"
   },
   "source": [
    "#### 3.5 Приведите возможные причины появления пропусков в исходных данных."
   ]
  },
  {
   "cell_type": "markdown",
   "id": "ac8946dd",
   "metadata": {
    "deletable": false,
    "id": "9da2ceda"
   },
   "source": [
    "*Ответ:* Возможные причины появления пропусков в данных о трудовом стаже и доходах это:\n",
    "* нежелание оператора уточнять данные и нежелание заемщика раскрывать свои доходы.\n",
    "* возможно, что некоторые кредиты предоставлялись без подтверждения доходов\n",
    "* технологические ошибки\n"
   ]
  },
  {
   "cell_type": "markdown",
   "id": "3de23b6f",
   "metadata": {
    "deletable": false,
    "editable": false,
    "id": "7b0487d6"
   },
   "source": [
    "#### 3.6 Объясните, почему заполнить пропуски медианным значением — лучшее решение для количественных переменных."
   ]
  },
  {
   "cell_type": "markdown",
   "id": "de29d890",
   "metadata": {
    "deletable": false,
    "id": "7ecf2b8e"
   },
   "source": [
    "*Ответ:* возможно, что это лучшее решение, потому что:\n",
    "1. она учитывает больший разброс в данных\n",
    "2. и как следствие убирает данные, выбивающиеся из общего ряда"
   ]
  },
  {
   "cell_type": "markdown",
   "id": "a26ad918",
   "metadata": {
    "deletable": false,
    "editable": false,
    "id": "6db5255a"
   },
   "source": [
    "### Шаг 4: общий вывод."
   ]
  },
  {
   "cell_type": "markdown",
   "id": "e9c9a445",
   "metadata": {
    "deletable": false,
    "id": "bad65432"
   },
   "source": [
    " Критерии лучшего заемщика на основе проанализрованных данных: \n",
    "    \n",
    "- 1. люди без детей \n",
    "\n",
    "- 2. имющие семью или ранее состоящие в брак \n",
    "\n",
    "- 3. имеющие достаток в 200000–1000000, но нельзя игнорировать и людей с достатком в\n",
    "30001–50000\n",
    "\n",
    "- 4. наиболее надежная цель кредитования это кредит на жилье и проведение свадьбы(хотя это и самая малочисленная категория) \n",
    "\n",
    "\n",
    "ОБЩИЙ ВЫВОД:\n",
    "\n",
    "наиболее кредтоспособные клиенты - семья без детей с достатком в 200000–1000000, ищущие жилье \n",
    "\n",
    "\n",
    "наименнее интересные для кредита - содержащие детей - от 3 и более - не состоявшие в браке с доходом до 30000 для покупки авто или образования. "
   ]
  }
 ],
 "metadata": {
  "ExecuteTimeLog": [
   {
    "duration": 48,
    "start_time": "2022-10-21T09:40:40.700Z"
   },
   {
    "duration": 6,
    "start_time": "2022-10-21T09:40:42.702Z"
   },
   {
    "duration": 7,
    "start_time": "2022-10-21T09:41:05.742Z"
   },
   {
    "duration": 457,
    "start_time": "2022-10-21T09:41:12.004Z"
   },
   {
    "duration": 22,
    "start_time": "2022-10-21T09:41:12.463Z"
   },
   {
    "duration": 14,
    "start_time": "2022-10-21T09:41:12.487Z"
   },
   {
    "duration": 9,
    "start_time": "2022-10-21T09:41:12.502Z"
   },
   {
    "duration": 34,
    "start_time": "2022-10-21T09:41:12.512Z"
   },
   {
    "duration": 3,
    "start_time": "2022-10-21T09:41:12.547Z"
   },
   {
    "duration": 10,
    "start_time": "2022-10-21T09:41:12.551Z"
   },
   {
    "duration": 4,
    "start_time": "2022-10-21T09:41:12.563Z"
   },
   {
    "duration": 30,
    "start_time": "2022-10-21T09:41:12.568Z"
   },
   {
    "duration": 7,
    "start_time": "2022-10-21T09:41:12.601Z"
   },
   {
    "duration": 36,
    "start_time": "2022-10-21T09:41:12.610Z"
   },
   {
    "duration": 10,
    "start_time": "2022-10-21T09:41:12.647Z"
   },
   {
    "duration": 4,
    "start_time": "2022-10-21T09:41:12.658Z"
   },
   {
    "duration": 36,
    "start_time": "2022-10-21T09:41:12.663Z"
   },
   {
    "duration": 21,
    "start_time": "2022-10-21T09:41:12.700Z"
   },
   {
    "duration": 19,
    "start_time": "2022-10-21T09:41:14.180Z"
   },
   {
    "duration": 4,
    "start_time": "2022-10-21T09:41:14.201Z"
   },
   {
    "duration": 14,
    "start_time": "2022-10-21T09:41:14.207Z"
   },
   {
    "duration": 10,
    "start_time": "2022-10-21T09:41:14.222Z"
   },
   {
    "duration": 7,
    "start_time": "2022-10-21T09:41:14.234Z"
   },
   {
    "duration": 30,
    "start_time": "2022-10-21T09:41:14.243Z"
   },
   {
    "duration": 22,
    "start_time": "2022-10-21T09:41:14.275Z"
   },
   {
    "duration": 4,
    "start_time": "2022-10-21T09:41:14.299Z"
   },
   {
    "duration": 9,
    "start_time": "2022-10-21T09:41:14.304Z"
   },
   {
    "duration": 8,
    "start_time": "2022-10-21T09:41:14.314Z"
   },
   {
    "duration": 14,
    "start_time": "2022-10-21T09:47:06.281Z"
   },
   {
    "duration": 1203,
    "start_time": "2022-10-21T10:03:22.863Z"
   },
   {
    "duration": 242,
    "start_time": "2022-10-21T10:04:30.153Z"
   },
   {
    "duration": 80,
    "start_time": "2022-10-21T10:05:11.033Z"
   },
   {
    "duration": 68,
    "start_time": "2022-10-21T10:05:18.862Z"
   },
   {
    "duration": 71,
    "start_time": "2022-10-21T10:05:42.538Z"
   },
   {
    "duration": 72,
    "start_time": "2022-10-21T10:05:53.156Z"
   },
   {
    "duration": 237,
    "start_time": "2022-10-21T10:06:09.983Z"
   },
   {
    "duration": 18,
    "start_time": "2022-10-21T10:07:21.641Z"
   },
   {
    "duration": 47,
    "start_time": "2022-10-21T18:13:24.984Z"
   },
   {
    "duration": 7,
    "start_time": "2022-10-21T18:13:36.010Z"
   },
   {
    "duration": 6,
    "start_time": "2022-10-21T18:14:02.661Z"
   },
   {
    "duration": 6,
    "start_time": "2022-10-21T18:15:12.483Z"
   },
   {
    "duration": 726,
    "start_time": "2022-10-21T18:15:22.175Z"
   },
   {
    "duration": 22,
    "start_time": "2022-10-21T18:15:22.903Z"
   },
   {
    "duration": 14,
    "start_time": "2022-10-21T18:15:22.927Z"
   },
   {
    "duration": 10,
    "start_time": "2022-10-21T18:15:22.943Z"
   },
   {
    "duration": 48,
    "start_time": "2022-10-21T18:15:22.954Z"
   },
   {
    "duration": 4,
    "start_time": "2022-10-21T18:15:23.004Z"
   },
   {
    "duration": 10,
    "start_time": "2022-10-21T18:15:23.009Z"
   },
   {
    "duration": 4,
    "start_time": "2022-10-21T18:15:23.020Z"
   },
   {
    "duration": 7,
    "start_time": "2022-10-21T18:15:23.026Z"
   },
   {
    "duration": 5,
    "start_time": "2022-10-21T18:15:23.035Z"
   },
   {
    "duration": 69,
    "start_time": "2022-10-21T18:15:23.041Z"
   },
   {
    "duration": 10,
    "start_time": "2022-10-21T18:15:23.112Z"
   },
   {
    "duration": 4,
    "start_time": "2022-10-21T18:15:23.124Z"
   },
   {
    "duration": 12,
    "start_time": "2022-10-21T18:15:23.129Z"
   },
   {
    "duration": 20,
    "start_time": "2022-10-21T18:15:23.143Z"
   },
   {
    "duration": 19,
    "start_time": "2022-10-21T18:15:23.190Z"
   },
   {
    "duration": 4,
    "start_time": "2022-10-21T18:15:23.211Z"
   },
   {
    "duration": 11,
    "start_time": "2022-10-21T18:15:23.217Z"
   },
   {
    "duration": 7,
    "start_time": "2022-10-21T18:15:23.229Z"
   },
   {
    "duration": 4,
    "start_time": "2022-10-21T18:15:23.238Z"
   },
   {
    "duration": 47,
    "start_time": "2022-10-21T18:15:23.244Z"
   },
   {
    "duration": 18,
    "start_time": "2022-10-21T18:15:23.293Z"
   },
   {
    "duration": 6,
    "start_time": "2022-10-21T18:15:23.312Z"
   },
   {
    "duration": 4,
    "start_time": "2022-10-21T18:15:23.320Z"
   },
   {
    "duration": 5,
    "start_time": "2022-10-21T18:15:23.325Z"
   },
   {
    "duration": 75,
    "start_time": "2022-10-21T18:39:11.095Z"
   },
   {
    "duration": 76,
    "start_time": "2022-10-21T18:39:27.584Z"
   },
   {
    "duration": 317,
    "start_time": "2022-10-21T18:39:37.751Z"
   },
   {
    "duration": 22,
    "start_time": "2022-10-21T18:40:18.869Z"
   },
   {
    "duration": 17,
    "start_time": "2022-10-21T18:41:58.302Z"
   },
   {
    "duration": 315,
    "start_time": "2022-10-21T18:43:02.281Z"
   },
   {
    "duration": 321,
    "start_time": "2022-10-21T18:48:25.201Z"
   },
   {
    "duration": 327,
    "start_time": "2022-10-21T18:48:53.002Z"
   },
   {
    "duration": 1138,
    "start_time": "2022-10-21T19:05:05.368Z"
   },
   {
    "duration": 5,
    "start_time": "2022-10-21T19:05:23.148Z"
   },
   {
    "duration": 5,
    "start_time": "2022-10-21T19:05:27.451Z"
   },
   {
    "duration": 7,
    "start_time": "2022-10-21T19:06:15.049Z"
   },
   {
    "duration": 6,
    "start_time": "2022-10-21T19:06:19.249Z"
   },
   {
    "duration": 74,
    "start_time": "2022-10-21T19:06:23.400Z"
   },
   {
    "duration": 18,
    "start_time": "2022-10-21T19:06:23.476Z"
   },
   {
    "duration": 21,
    "start_time": "2022-10-21T19:06:23.496Z"
   },
   {
    "duration": 14,
    "start_time": "2022-10-21T19:06:23.520Z"
   },
   {
    "duration": 57,
    "start_time": "2022-10-21T19:06:23.536Z"
   },
   {
    "duration": 4,
    "start_time": "2022-10-21T19:06:23.595Z"
   },
   {
    "duration": 13,
    "start_time": "2022-10-21T19:06:23.601Z"
   },
   {
    "duration": 5,
    "start_time": "2022-10-21T19:06:23.616Z"
   },
   {
    "duration": 8,
    "start_time": "2022-10-21T19:06:23.624Z"
   },
   {
    "duration": 5,
    "start_time": "2022-10-21T19:06:23.635Z"
   },
   {
    "duration": 76,
    "start_time": "2022-10-21T19:06:23.641Z"
   },
   {
    "duration": 12,
    "start_time": "2022-10-21T19:06:23.719Z"
   },
   {
    "duration": 5,
    "start_time": "2022-10-21T19:06:23.732Z"
   },
   {
    "duration": 14,
    "start_time": "2022-10-21T19:06:23.739Z"
   },
   {
    "duration": 56,
    "start_time": "2022-10-21T19:06:23.755Z"
   },
   {
    "duration": 18,
    "start_time": "2022-10-21T19:06:23.814Z"
   },
   {
    "duration": 4,
    "start_time": "2022-10-21T19:06:23.833Z"
   },
   {
    "duration": 13,
    "start_time": "2022-10-21T19:06:23.839Z"
   },
   {
    "duration": 6,
    "start_time": "2022-10-21T19:06:23.853Z"
   },
   {
    "duration": 30,
    "start_time": "2022-10-21T19:06:23.861Z"
   },
   {
    "duration": 18,
    "start_time": "2022-10-21T19:06:23.895Z"
   },
   {
    "duration": 18,
    "start_time": "2022-10-21T19:06:23.916Z"
   },
   {
    "duration": 4,
    "start_time": "2022-10-21T19:06:23.936Z"
   },
   {
    "duration": 7,
    "start_time": "2022-10-21T19:06:23.943Z"
   },
   {
    "duration": 6,
    "start_time": "2022-10-21T19:06:23.953Z"
   },
   {
    "duration": 5,
    "start_time": "2022-10-21T19:06:50.119Z"
   },
   {
    "duration": 6,
    "start_time": "2022-10-21T19:06:58.653Z"
   },
   {
    "duration": 6,
    "start_time": "2022-10-21T19:07:04.369Z"
   },
   {
    "duration": 5,
    "start_time": "2022-10-21T19:07:50.287Z"
   },
   {
    "duration": 5,
    "start_time": "2022-10-21T19:08:17.863Z"
   },
   {
    "duration": 4,
    "start_time": "2022-10-21T19:08:32.121Z"
   },
   {
    "duration": 6,
    "start_time": "2022-10-21T19:08:40.521Z"
   },
   {
    "duration": 41,
    "start_time": "2022-10-22T07:05:31.922Z"
   },
   {
    "duration": 5,
    "start_time": "2022-10-22T07:05:39.576Z"
   },
   {
    "duration": 647,
    "start_time": "2022-10-22T07:05:49.765Z"
   },
   {
    "duration": 19,
    "start_time": "2022-10-22T07:05:50.414Z"
   },
   {
    "duration": 12,
    "start_time": "2022-10-22T07:05:50.434Z"
   },
   {
    "duration": 8,
    "start_time": "2022-10-22T07:05:50.447Z"
   },
   {
    "duration": 31,
    "start_time": "2022-10-22T07:05:50.457Z"
   },
   {
    "duration": 16,
    "start_time": "2022-10-22T07:05:50.489Z"
   },
   {
    "duration": 6,
    "start_time": "2022-10-22T07:05:50.507Z"
   },
   {
    "duration": 6,
    "start_time": "2022-10-22T07:05:50.514Z"
   },
   {
    "duration": 11,
    "start_time": "2022-10-22T07:05:50.521Z"
   },
   {
    "duration": 4,
    "start_time": "2022-10-22T07:05:50.536Z"
   },
   {
    "duration": 30,
    "start_time": "2022-10-22T07:05:50.542Z"
   },
   {
    "duration": 35,
    "start_time": "2022-10-22T07:05:50.574Z"
   },
   {
    "duration": 5,
    "start_time": "2022-10-22T07:05:50.610Z"
   },
   {
    "duration": 11,
    "start_time": "2022-10-22T07:05:50.616Z"
   },
   {
    "duration": 17,
    "start_time": "2022-10-22T07:05:50.628Z"
   },
   {
    "duration": 16,
    "start_time": "2022-10-22T07:05:50.647Z"
   },
   {
    "duration": 3,
    "start_time": "2022-10-22T07:05:50.664Z"
   },
   {
    "duration": 12,
    "start_time": "2022-10-22T07:05:50.668Z"
   },
   {
    "duration": 30,
    "start_time": "2022-10-22T07:05:50.681Z"
   },
   {
    "duration": 3,
    "start_time": "2022-10-22T07:05:50.713Z"
   },
   {
    "duration": 9,
    "start_time": "2022-10-22T07:05:50.717Z"
   },
   {
    "duration": 4,
    "start_time": "2022-10-22T07:05:50.727Z"
   },
   {
    "duration": 4,
    "start_time": "2022-10-22T07:05:50.732Z"
   },
   {
    "duration": 5,
    "start_time": "2022-10-22T07:05:50.737Z"
   },
   {
    "duration": 4,
    "start_time": "2022-10-22T07:05:50.744Z"
   },
   {
    "duration": 4,
    "start_time": "2022-10-22T07:05:59.756Z"
   },
   {
    "duration": 2,
    "start_time": "2022-10-22T07:06:14.655Z"
   },
   {
    "duration": 3,
    "start_time": "2022-10-22T07:06:42.697Z"
   },
   {
    "duration": 3,
    "start_time": "2022-10-22T07:07:00.532Z"
   },
   {
    "duration": 4,
    "start_time": "2022-10-22T07:11:58.888Z"
   },
   {
    "duration": 28,
    "start_time": "2022-10-22T07:12:26.715Z"
   },
   {
    "duration": 6,
    "start_time": "2022-10-22T07:13:49.176Z"
   },
   {
    "duration": 5,
    "start_time": "2022-10-22T07:14:04.995Z"
   },
   {
    "duration": 5,
    "start_time": "2022-10-22T07:14:11.878Z"
   },
   {
    "duration": 9,
    "start_time": "2022-10-22T07:14:44.979Z"
   },
   {
    "duration": 4,
    "start_time": "2022-10-22T07:15:34.866Z"
   },
   {
    "duration": 6,
    "start_time": "2022-10-22T07:15:47.846Z"
   },
   {
    "duration": 5,
    "start_time": "2022-10-22T07:15:52.812Z"
   },
   {
    "duration": 24,
    "start_time": "2022-10-22T07:16:39.836Z"
   },
   {
    "duration": 65,
    "start_time": "2022-10-22T07:17:25.927Z"
   },
   {
    "duration": 6,
    "start_time": "2022-10-22T07:17:36.482Z"
   },
   {
    "duration": 7,
    "start_time": "2022-10-22T07:18:30.852Z"
   },
   {
    "duration": 5,
    "start_time": "2022-10-22T07:21:41.446Z"
   },
   {
    "duration": 7,
    "start_time": "2022-10-22T07:22:20.634Z"
   },
   {
    "duration": 898,
    "start_time": "2022-10-22T07:26:21.794Z"
   },
   {
    "duration": 16,
    "start_time": "2022-10-22T07:26:46.134Z"
   },
   {
    "duration": 13,
    "start_time": "2022-10-22T07:27:53.673Z"
   },
   {
    "duration": 38,
    "start_time": "2022-10-22T07:28:10.700Z"
   },
   {
    "duration": 15,
    "start_time": "2022-10-22T07:28:24.442Z"
   },
   {
    "duration": 125,
    "start_time": "2022-10-22T07:29:46.574Z"
   },
   {
    "duration": 92,
    "start_time": "2022-10-22T07:30:09.966Z"
   },
   {
    "duration": 84,
    "start_time": "2022-10-22T07:35:18.662Z"
   },
   {
    "duration": 11,
    "start_time": "2022-10-22T07:36:17.760Z"
   },
   {
    "duration": 12,
    "start_time": "2022-10-22T07:36:40.184Z"
   },
   {
    "duration": 13,
    "start_time": "2022-10-22T07:38:26.801Z"
   },
   {
    "duration": 15,
    "start_time": "2022-10-22T08:10:12.110Z"
   },
   {
    "duration": 27,
    "start_time": "2022-10-22T08:12:23.956Z"
   },
   {
    "duration": 93,
    "start_time": "2022-10-22T08:12:45.834Z"
   },
   {
    "duration": 125,
    "start_time": "2022-10-22T08:13:16.056Z"
   },
   {
    "duration": 5,
    "start_time": "2022-10-22T08:13:29.433Z"
   },
   {
    "duration": 69,
    "start_time": "2022-10-22T08:34:31.547Z"
   },
   {
    "duration": 71,
    "start_time": "2022-10-22T08:35:00.038Z"
   },
   {
    "duration": 68,
    "start_time": "2022-10-22T08:35:07.687Z"
   },
   {
    "duration": 15,
    "start_time": "2022-10-22T08:35:07.757Z"
   },
   {
    "duration": 17,
    "start_time": "2022-10-22T08:35:07.773Z"
   },
   {
    "duration": 16,
    "start_time": "2022-10-22T08:35:07.792Z"
   },
   {
    "duration": 31,
    "start_time": "2022-10-22T08:35:07.810Z"
   },
   {
    "duration": 4,
    "start_time": "2022-10-22T08:35:07.843Z"
   },
   {
    "duration": 10,
    "start_time": "2022-10-22T08:35:07.849Z"
   },
   {
    "duration": 4,
    "start_time": "2022-10-22T08:35:07.861Z"
   },
   {
    "duration": 7,
    "start_time": "2022-10-22T08:35:07.866Z"
   },
   {
    "duration": 5,
    "start_time": "2022-10-22T08:35:07.906Z"
   },
   {
    "duration": 32,
    "start_time": "2022-10-22T08:35:07.913Z"
   },
   {
    "duration": 9,
    "start_time": "2022-10-22T08:35:08.067Z"
   },
   {
    "duration": 5,
    "start_time": "2022-10-22T08:35:08.078Z"
   },
   {
    "duration": 12,
    "start_time": "2022-10-22T08:35:08.084Z"
   },
   {
    "duration": 25,
    "start_time": "2022-10-22T08:35:08.097Z"
   },
   {
    "duration": 23,
    "start_time": "2022-10-22T08:35:08.124Z"
   },
   {
    "duration": 5,
    "start_time": "2022-10-22T08:35:08.149Z"
   },
   {
    "duration": 19,
    "start_time": "2022-10-22T08:35:08.156Z"
   },
   {
    "duration": 6,
    "start_time": "2022-10-22T08:35:08.177Z"
   },
   {
    "duration": 22,
    "start_time": "2022-10-22T08:35:08.184Z"
   },
   {
    "duration": 12,
    "start_time": "2022-10-22T08:35:08.208Z"
   },
   {
    "duration": 248,
    "start_time": "2022-10-22T08:35:08.222Z"
   },
   {
    "duration": 0,
    "start_time": "2022-10-22T08:35:08.472Z"
   },
   {
    "duration": 0,
    "start_time": "2022-10-22T08:35:08.473Z"
   },
   {
    "duration": 0,
    "start_time": "2022-10-22T08:35:08.474Z"
   },
   {
    "duration": 0,
    "start_time": "2022-10-22T08:35:08.475Z"
   },
   {
    "duration": 579,
    "start_time": "2022-10-22T08:35:13.585Z"
   },
   {
    "duration": 6,
    "start_time": "2022-10-22T08:37:43.513Z"
   },
   {
    "duration": 1893,
    "start_time": "2022-10-22T08:40:48.787Z"
   },
   {
    "duration": 1156,
    "start_time": "2022-10-22T08:40:58.752Z"
   },
   {
    "duration": 23,
    "start_time": "2022-10-22T08:41:17.421Z"
   },
   {
    "duration": 992,
    "start_time": "2022-10-22T08:42:05.807Z"
   },
   {
    "duration": 20,
    "start_time": "2022-10-22T08:42:34.361Z"
   },
   {
    "duration": 20,
    "start_time": "2022-10-22T08:42:42.423Z"
   },
   {
    "duration": 6,
    "start_time": "2022-10-22T08:44:26.869Z"
   },
   {
    "duration": 7,
    "start_time": "2022-10-22T08:46:26.633Z"
   },
   {
    "duration": 7,
    "start_time": "2022-10-22T08:46:32.089Z"
   },
   {
    "duration": 6,
    "start_time": "2022-10-22T08:46:38.152Z"
   },
   {
    "duration": 7,
    "start_time": "2022-10-22T08:46:48.673Z"
   },
   {
    "duration": 9,
    "start_time": "2022-10-22T08:47:07.547Z"
   },
   {
    "duration": 6,
    "start_time": "2022-10-22T08:47:16.317Z"
   },
   {
    "duration": 1004,
    "start_time": "2022-10-22T08:47:40.786Z"
   },
   {
    "duration": 15,
    "start_time": "2022-10-22T08:52:25.630Z"
   },
   {
    "duration": 23,
    "start_time": "2022-10-22T08:53:17.583Z"
   },
   {
    "duration": 27,
    "start_time": "2022-10-22T08:54:03.508Z"
   },
   {
    "duration": 7,
    "start_time": "2022-10-22T09:02:16.969Z"
   },
   {
    "duration": 20,
    "start_time": "2022-10-22T09:06:20.677Z"
   },
   {
    "duration": 14,
    "start_time": "2022-10-22T09:07:02.166Z"
   },
   {
    "duration": 7,
    "start_time": "2022-10-22T09:07:18.954Z"
   },
   {
    "duration": 11,
    "start_time": "2022-10-22T09:10:11.230Z"
   },
   {
    "duration": 11,
    "start_time": "2022-10-22T09:10:32.407Z"
   },
   {
    "duration": 46,
    "start_time": "2022-10-22T09:13:15.465Z"
   },
   {
    "duration": 78,
    "start_time": "2022-10-22T09:28:14.588Z"
   },
   {
    "duration": 71,
    "start_time": "2022-10-22T09:28:47.641Z"
   },
   {
    "duration": 72,
    "start_time": "2022-10-22T09:28:55.457Z"
   },
   {
    "duration": 19,
    "start_time": "2022-10-22T09:29:07.911Z"
   },
   {
    "duration": 6,
    "start_time": "2022-10-22T09:32:07.753Z"
   },
   {
    "duration": 28,
    "start_time": "2022-10-22T09:32:36.136Z"
   },
   {
    "duration": 13,
    "start_time": "2022-10-22T09:33:35.531Z"
   },
   {
    "duration": 17,
    "start_time": "2022-10-22T09:33:42.677Z"
   },
   {
    "duration": 5,
    "start_time": "2022-10-22T09:34:13.802Z"
   },
   {
    "duration": 7,
    "start_time": "2022-10-22T09:35:59.204Z"
   },
   {
    "duration": 5,
    "start_time": "2022-10-22T09:37:41.972Z"
   },
   {
    "duration": 28,
    "start_time": "2022-10-22T09:56:35.385Z"
   },
   {
    "duration": 6,
    "start_time": "2022-10-22T10:48:28.196Z"
   },
   {
    "duration": 5,
    "start_time": "2022-10-22T10:48:37.191Z"
   },
   {
    "duration": 6,
    "start_time": "2022-10-22T10:50:43.497Z"
   },
   {
    "duration": 6,
    "start_time": "2022-10-22T10:51:04.837Z"
   },
   {
    "duration": 71,
    "start_time": "2022-10-22T10:55:38.628Z"
   },
   {
    "duration": 78,
    "start_time": "2022-10-22T11:00:28.980Z"
   },
   {
    "duration": 92,
    "start_time": "2022-10-22T11:02:58.396Z"
   },
   {
    "duration": 1091,
    "start_time": "2022-10-22T11:03:06.342Z"
   },
   {
    "duration": 1790,
    "start_time": "2022-10-22T11:04:51.125Z"
   },
   {
    "duration": 102,
    "start_time": "2022-10-22T11:05:09.302Z"
   },
   {
    "duration": 9,
    "start_time": "2022-10-22T11:05:20.506Z"
   },
   {
    "duration": 7,
    "start_time": "2022-10-22T11:05:35.642Z"
   },
   {
    "duration": 8,
    "start_time": "2022-10-22T11:05:42.847Z"
   },
   {
    "duration": 8,
    "start_time": "2022-10-22T11:05:59.448Z"
   },
   {
    "duration": 4,
    "start_time": "2022-10-22T11:06:13.647Z"
   },
   {
    "duration": 7,
    "start_time": "2022-10-22T11:06:27.745Z"
   },
   {
    "duration": 7,
    "start_time": "2022-10-22T11:06:40.066Z"
   },
   {
    "duration": 7,
    "start_time": "2022-10-22T11:07:09.185Z"
   },
   {
    "duration": 68,
    "start_time": "2022-10-22T11:07:21.133Z"
   },
   {
    "duration": 14,
    "start_time": "2022-10-22T11:07:21.203Z"
   },
   {
    "duration": 16,
    "start_time": "2022-10-22T11:07:21.219Z"
   },
   {
    "duration": 10,
    "start_time": "2022-10-22T11:07:21.236Z"
   },
   {
    "duration": 45,
    "start_time": "2022-10-22T11:07:21.248Z"
   },
   {
    "duration": 3,
    "start_time": "2022-10-22T11:07:21.294Z"
   },
   {
    "duration": 19,
    "start_time": "2022-10-22T11:07:21.305Z"
   },
   {
    "duration": 18,
    "start_time": "2022-10-22T11:07:21.325Z"
   },
   {
    "duration": 28,
    "start_time": "2022-10-22T11:07:21.345Z"
   },
   {
    "duration": 20,
    "start_time": "2022-10-22T11:07:21.375Z"
   },
   {
    "duration": 49,
    "start_time": "2022-10-22T11:07:21.396Z"
   },
   {
    "duration": 9,
    "start_time": "2022-10-22T11:07:21.448Z"
   },
   {
    "duration": 22,
    "start_time": "2022-10-22T11:07:21.458Z"
   },
   {
    "duration": 22,
    "start_time": "2022-10-22T11:07:21.481Z"
   },
   {
    "duration": 28,
    "start_time": "2022-10-22T11:07:21.504Z"
   },
   {
    "duration": 17,
    "start_time": "2022-10-22T11:07:21.533Z"
   },
   {
    "duration": 3,
    "start_time": "2022-10-22T11:07:21.551Z"
   },
   {
    "duration": 36,
    "start_time": "2022-10-22T11:07:21.556Z"
   },
   {
    "duration": 31,
    "start_time": "2022-10-22T11:07:21.594Z"
   },
   {
    "duration": 21,
    "start_time": "2022-10-22T11:07:21.627Z"
   },
   {
    "duration": 31,
    "start_time": "2022-10-22T11:07:21.650Z"
   },
   {
    "duration": 26,
    "start_time": "2022-10-22T11:07:21.683Z"
   },
   {
    "duration": 20,
    "start_time": "2022-10-22T11:07:21.711Z"
   },
   {
    "duration": 22,
    "start_time": "2022-10-22T11:07:21.733Z"
   },
   {
    "duration": 26,
    "start_time": "2022-10-22T11:07:21.757Z"
   },
   {
    "duration": 42,
    "start_time": "2022-10-22T11:07:21.785Z"
   },
   {
    "duration": 135,
    "start_time": "2022-10-22T11:07:35.910Z"
   },
   {
    "duration": 8,
    "start_time": "2022-10-22T11:07:40.703Z"
   },
   {
    "duration": 8,
    "start_time": "2022-10-22T11:08:36.494Z"
   },
   {
    "duration": 8,
    "start_time": "2022-10-22T11:08:42.642Z"
   },
   {
    "duration": 7,
    "start_time": "2022-10-22T11:08:49.404Z"
   },
   {
    "duration": 19,
    "start_time": "2022-10-22T11:09:10.484Z"
   },
   {
    "duration": 8,
    "start_time": "2022-10-22T11:09:28.037Z"
   },
   {
    "duration": 6,
    "start_time": "2022-10-22T11:09:44.867Z"
   },
   {
    "duration": 8,
    "start_time": "2022-10-22T11:10:26.679Z"
   },
   {
    "duration": 9,
    "start_time": "2022-10-22T11:10:46.144Z"
   },
   {
    "duration": 8,
    "start_time": "2022-10-22T11:11:01.729Z"
   },
   {
    "duration": 7,
    "start_time": "2022-10-22T11:11:12.130Z"
   },
   {
    "duration": 7,
    "start_time": "2022-10-22T11:11:39.068Z"
   },
   {
    "duration": 15,
    "start_time": "2022-10-22T12:34:55.723Z"
   },
   {
    "duration": 12,
    "start_time": "2022-10-22T12:36:51.431Z"
   },
   {
    "duration": 12,
    "start_time": "2022-10-22T12:37:31.055Z"
   },
   {
    "duration": 26,
    "start_time": "2022-10-22T12:37:55.327Z"
   },
   {
    "duration": 10,
    "start_time": "2022-10-22T12:38:54.689Z"
   },
   {
    "duration": 10,
    "start_time": "2022-10-22T12:48:41.750Z"
   },
   {
    "duration": 68,
    "start_time": "2022-10-22T12:48:48.553Z"
   },
   {
    "duration": 14,
    "start_time": "2022-10-22T12:48:48.622Z"
   },
   {
    "duration": 16,
    "start_time": "2022-10-22T12:48:48.644Z"
   },
   {
    "duration": 7,
    "start_time": "2022-10-22T12:48:48.662Z"
   },
   {
    "duration": 50,
    "start_time": "2022-10-22T12:48:48.671Z"
   },
   {
    "duration": 2,
    "start_time": "2022-10-22T12:48:48.723Z"
   },
   {
    "duration": 9,
    "start_time": "2022-10-22T12:48:48.727Z"
   },
   {
    "duration": 4,
    "start_time": "2022-10-22T12:48:48.737Z"
   },
   {
    "duration": 7,
    "start_time": "2022-10-22T12:48:48.742Z"
   },
   {
    "duration": 5,
    "start_time": "2022-10-22T12:48:48.750Z"
   },
   {
    "duration": 51,
    "start_time": "2022-10-22T12:48:48.757Z"
   },
   {
    "duration": 9,
    "start_time": "2022-10-22T12:48:48.811Z"
   },
   {
    "duration": 8,
    "start_time": "2022-10-22T12:48:48.822Z"
   },
   {
    "duration": 11,
    "start_time": "2022-10-22T12:48:48.831Z"
   },
   {
    "duration": 17,
    "start_time": "2022-10-22T12:48:48.844Z"
   },
   {
    "duration": 42,
    "start_time": "2022-10-22T12:48:48.863Z"
   },
   {
    "duration": 3,
    "start_time": "2022-10-22T12:48:48.907Z"
   },
   {
    "duration": 14,
    "start_time": "2022-10-22T12:48:48.912Z"
   },
   {
    "duration": 8,
    "start_time": "2022-10-22T12:48:48.927Z"
   },
   {
    "duration": 4,
    "start_time": "2022-10-22T12:48:48.937Z"
   },
   {
    "duration": 9,
    "start_time": "2022-10-22T12:48:48.942Z"
   },
   {
    "duration": 11,
    "start_time": "2022-10-22T12:48:48.954Z"
   },
   {
    "duration": 2,
    "start_time": "2022-10-22T12:48:48.967Z"
   },
   {
    "duration": 6,
    "start_time": "2022-10-22T12:48:48.971Z"
   },
   {
    "duration": 2,
    "start_time": "2022-10-22T12:48:49.006Z"
   },
   {
    "duration": 5,
    "start_time": "2022-10-22T12:48:49.010Z"
   },
   {
    "duration": 9,
    "start_time": "2022-10-22T12:49:06.292Z"
   },
   {
    "duration": 22,
    "start_time": "2022-10-22T12:49:21.765Z"
   },
   {
    "duration": 7,
    "start_time": "2022-10-22T12:49:57.733Z"
   },
   {
    "duration": 8,
    "start_time": "2022-10-22T12:50:49.462Z"
   },
   {
    "duration": 9,
    "start_time": "2022-10-22T12:51:16.253Z"
   },
   {
    "duration": 6,
    "start_time": "2022-10-22T12:51:28.071Z"
   },
   {
    "duration": 6,
    "start_time": "2022-10-22T12:52:00.099Z"
   },
   {
    "duration": 9,
    "start_time": "2022-10-22T12:53:56.602Z"
   },
   {
    "duration": 8,
    "start_time": "2022-10-22T12:54:30.158Z"
   },
   {
    "duration": 9,
    "start_time": "2022-10-22T12:55:35.081Z"
   },
   {
    "duration": 17,
    "start_time": "2022-10-22T12:58:52.891Z"
   },
   {
    "duration": 6,
    "start_time": "2022-10-22T12:59:23.822Z"
   },
   {
    "duration": 15,
    "start_time": "2022-10-22T12:59:53.692Z"
   },
   {
    "duration": 21,
    "start_time": "2022-10-22T13:12:35.697Z"
   },
   {
    "duration": 18,
    "start_time": "2022-10-22T13:17:22.245Z"
   },
   {
    "duration": 18,
    "start_time": "2022-10-22T13:17:33.032Z"
   },
   {
    "duration": 19,
    "start_time": "2022-10-22T13:17:40.521Z"
   },
   {
    "duration": 16,
    "start_time": "2022-10-22T13:21:10.059Z"
   },
   {
    "duration": 662,
    "start_time": "2022-10-22T13:23:53.511Z"
   },
   {
    "duration": 676,
    "start_time": "2022-10-22T13:24:06.093Z"
   },
   {
    "duration": 67,
    "start_time": "2022-10-22T13:24:17.152Z"
   },
   {
    "duration": 14,
    "start_time": "2022-10-22T13:24:17.220Z"
   },
   {
    "duration": 26,
    "start_time": "2022-10-22T13:24:17.235Z"
   },
   {
    "duration": 8,
    "start_time": "2022-10-22T13:24:17.262Z"
   },
   {
    "duration": 28,
    "start_time": "2022-10-22T13:24:17.272Z"
   },
   {
    "duration": 3,
    "start_time": "2022-10-22T13:24:17.305Z"
   },
   {
    "duration": 11,
    "start_time": "2022-10-22T13:24:17.310Z"
   },
   {
    "duration": 5,
    "start_time": "2022-10-22T13:24:17.322Z"
   },
   {
    "duration": 10,
    "start_time": "2022-10-22T13:24:17.328Z"
   },
   {
    "duration": 9,
    "start_time": "2022-10-22T13:24:17.341Z"
   },
   {
    "duration": 58,
    "start_time": "2022-10-22T13:24:17.351Z"
   },
   {
    "duration": 14,
    "start_time": "2022-10-22T13:24:17.411Z"
   },
   {
    "duration": 7,
    "start_time": "2022-10-22T13:24:17.427Z"
   },
   {
    "duration": 17,
    "start_time": "2022-10-22T13:24:17.435Z"
   },
   {
    "duration": 31,
    "start_time": "2022-10-22T13:24:17.453Z"
   },
   {
    "duration": 31,
    "start_time": "2022-10-22T13:24:17.485Z"
   },
   {
    "duration": 4,
    "start_time": "2022-10-22T13:24:17.518Z"
   },
   {
    "duration": 19,
    "start_time": "2022-10-22T13:24:17.524Z"
   },
   {
    "duration": 11,
    "start_time": "2022-10-22T13:24:17.546Z"
   },
   {
    "duration": 6,
    "start_time": "2022-10-22T13:24:17.559Z"
   },
   {
    "duration": 22,
    "start_time": "2022-10-22T13:24:17.567Z"
   },
   {
    "duration": 626,
    "start_time": "2022-10-22T13:24:17.591Z"
   },
   {
    "duration": 0,
    "start_time": "2022-10-22T13:24:18.218Z"
   },
   {
    "duration": 0,
    "start_time": "2022-10-22T13:24:18.220Z"
   },
   {
    "duration": 0,
    "start_time": "2022-10-22T13:24:18.221Z"
   },
   {
    "duration": 0,
    "start_time": "2022-10-22T13:24:18.223Z"
   },
   {
    "duration": 13,
    "start_time": "2022-10-22T13:25:03.153Z"
   },
   {
    "duration": 6,
    "start_time": "2022-10-22T13:26:50.873Z"
   },
   {
    "duration": 9,
    "start_time": "2022-10-22T13:28:42.987Z"
   },
   {
    "duration": 7,
    "start_time": "2022-10-22T13:28:47.941Z"
   },
   {
    "duration": 6,
    "start_time": "2022-10-22T13:29:06.423Z"
   },
   {
    "duration": 12,
    "start_time": "2022-10-22T13:29:28.954Z"
   },
   {
    "duration": 8,
    "start_time": "2022-10-22T13:33:16.209Z"
   },
   {
    "duration": 10,
    "start_time": "2022-10-22T13:33:46.166Z"
   },
   {
    "duration": 72,
    "start_time": "2022-10-22T13:33:50.565Z"
   },
   {
    "duration": 14,
    "start_time": "2022-10-22T13:33:50.639Z"
   },
   {
    "duration": 17,
    "start_time": "2022-10-22T13:33:50.655Z"
   },
   {
    "duration": 10,
    "start_time": "2022-10-22T13:33:50.673Z"
   },
   {
    "duration": 47,
    "start_time": "2022-10-22T13:33:50.686Z"
   },
   {
    "duration": 3,
    "start_time": "2022-10-22T13:33:50.734Z"
   },
   {
    "duration": 10,
    "start_time": "2022-10-22T13:33:50.738Z"
   },
   {
    "duration": 4,
    "start_time": "2022-10-22T13:33:50.750Z"
   },
   {
    "duration": 7,
    "start_time": "2022-10-22T13:33:50.755Z"
   },
   {
    "duration": 6,
    "start_time": "2022-10-22T13:33:50.763Z"
   },
   {
    "duration": 50,
    "start_time": "2022-10-22T13:33:50.770Z"
   },
   {
    "duration": 8,
    "start_time": "2022-10-22T13:33:50.822Z"
   },
   {
    "duration": 5,
    "start_time": "2022-10-22T13:33:50.832Z"
   },
   {
    "duration": 11,
    "start_time": "2022-10-22T13:33:50.838Z"
   },
   {
    "duration": 16,
    "start_time": "2022-10-22T13:33:50.851Z"
   },
   {
    "duration": 37,
    "start_time": "2022-10-22T13:33:50.868Z"
   },
   {
    "duration": 2,
    "start_time": "2022-10-22T13:33:50.907Z"
   },
   {
    "duration": 15,
    "start_time": "2022-10-22T13:33:50.911Z"
   },
   {
    "duration": 18,
    "start_time": "2022-10-22T13:33:50.927Z"
   },
   {
    "duration": 5,
    "start_time": "2022-10-22T13:33:50.946Z"
   },
   {
    "duration": 12,
    "start_time": "2022-10-22T13:33:50.953Z"
   },
   {
    "duration": 13,
    "start_time": "2022-10-22T13:33:50.967Z"
   },
   {
    "duration": 0,
    "start_time": "2022-10-22T13:33:50.981Z"
   },
   {
    "duration": 0,
    "start_time": "2022-10-22T13:33:50.982Z"
   },
   {
    "duration": 0,
    "start_time": "2022-10-22T13:33:50.983Z"
   },
   {
    "duration": 0,
    "start_time": "2022-10-22T13:33:50.984Z"
   },
   {
    "duration": 6,
    "start_time": "2022-10-22T13:34:22.010Z"
   },
   {
    "duration": 12,
    "start_time": "2022-10-22T13:34:50.466Z"
   },
   {
    "duration": 8,
    "start_time": "2022-10-22T13:34:55.168Z"
   },
   {
    "duration": 8,
    "start_time": "2022-10-22T13:35:02.792Z"
   },
   {
    "duration": 8,
    "start_time": "2022-10-22T13:35:06.707Z"
   },
   {
    "duration": 7,
    "start_time": "2022-10-22T13:35:12.345Z"
   },
   {
    "duration": 8,
    "start_time": "2022-10-22T13:35:17.498Z"
   },
   {
    "duration": 7,
    "start_time": "2022-10-22T13:35:22.501Z"
   },
   {
    "duration": 8,
    "start_time": "2022-10-22T13:35:26.066Z"
   },
   {
    "duration": 7,
    "start_time": "2022-10-22T13:35:29.270Z"
   },
   {
    "duration": 6,
    "start_time": "2022-10-22T13:35:32.423Z"
   },
   {
    "duration": 9,
    "start_time": "2022-10-22T13:35:44.427Z"
   },
   {
    "duration": 6,
    "start_time": "2022-10-22T13:37:21.241Z"
   },
   {
    "duration": 10,
    "start_time": "2022-10-22T13:44:50.160Z"
   },
   {
    "duration": 8,
    "start_time": "2022-10-22T13:49:10.152Z"
   },
   {
    "duration": 7,
    "start_time": "2022-10-22T13:49:20.183Z"
   },
   {
    "duration": 9,
    "start_time": "2022-10-22T13:49:38.336Z"
   },
   {
    "duration": 8,
    "start_time": "2022-10-22T13:49:46.766Z"
   },
   {
    "duration": 10,
    "start_time": "2022-10-22T13:51:11.081Z"
   },
   {
    "duration": 65,
    "start_time": "2022-10-22T13:51:26.780Z"
   },
   {
    "duration": 14,
    "start_time": "2022-10-22T13:51:26.847Z"
   },
   {
    "duration": 13,
    "start_time": "2022-10-22T13:51:26.862Z"
   },
   {
    "duration": 9,
    "start_time": "2022-10-22T13:51:26.876Z"
   },
   {
    "duration": 45,
    "start_time": "2022-10-22T13:51:26.886Z"
   },
   {
    "duration": 3,
    "start_time": "2022-10-22T13:51:26.932Z"
   },
   {
    "duration": 11,
    "start_time": "2022-10-22T13:51:26.936Z"
   },
   {
    "duration": 4,
    "start_time": "2022-10-22T13:51:26.949Z"
   },
   {
    "duration": 8,
    "start_time": "2022-10-22T13:51:26.954Z"
   },
   {
    "duration": 4,
    "start_time": "2022-10-22T13:51:26.964Z"
   },
   {
    "duration": 52,
    "start_time": "2022-10-22T13:51:26.970Z"
   },
   {
    "duration": 7,
    "start_time": "2022-10-22T13:51:27.024Z"
   },
   {
    "duration": 7,
    "start_time": "2022-10-22T13:51:27.032Z"
   },
   {
    "duration": 11,
    "start_time": "2022-10-22T13:51:27.040Z"
   },
   {
    "duration": 19,
    "start_time": "2022-10-22T13:51:27.052Z"
   },
   {
    "duration": 36,
    "start_time": "2022-10-22T13:51:27.072Z"
   },
   {
    "duration": 4,
    "start_time": "2022-10-22T13:51:27.109Z"
   },
   {
    "duration": 15,
    "start_time": "2022-10-22T13:51:27.114Z"
   },
   {
    "duration": 18,
    "start_time": "2022-10-22T13:51:27.131Z"
   },
   {
    "duration": 3,
    "start_time": "2022-10-22T13:51:27.151Z"
   },
   {
    "duration": 10,
    "start_time": "2022-10-22T13:51:27.156Z"
   },
   {
    "duration": 12,
    "start_time": "2022-10-22T13:51:27.167Z"
   },
   {
    "duration": 2,
    "start_time": "2022-10-22T13:51:27.180Z"
   },
   {
    "duration": 5,
    "start_time": "2022-10-22T13:51:27.183Z"
   },
   {
    "duration": 16,
    "start_time": "2022-10-22T13:51:27.190Z"
   },
   {
    "duration": 6,
    "start_time": "2022-10-22T13:51:27.207Z"
   },
   {
    "duration": 10,
    "start_time": "2022-10-22T13:51:51.143Z"
   },
   {
    "duration": 11,
    "start_time": "2022-10-22T13:52:17.546Z"
   },
   {
    "duration": 4,
    "start_time": "2022-10-22T13:53:08.992Z"
   },
   {
    "duration": 4,
    "start_time": "2022-10-22T13:53:47.010Z"
   },
   {
    "duration": 928,
    "start_time": "2022-10-22T13:53:57.497Z"
   },
   {
    "duration": 8,
    "start_time": "2022-10-22T13:56:58.375Z"
   },
   {
    "duration": 8,
    "start_time": "2022-10-22T13:57:06.654Z"
   },
   {
    "duration": 8,
    "start_time": "2022-10-22T13:57:16.206Z"
   },
   {
    "duration": 9,
    "start_time": "2022-10-22T13:57:23.124Z"
   },
   {
    "duration": 8,
    "start_time": "2022-10-22T13:57:29.610Z"
   },
   {
    "duration": 10,
    "start_time": "2022-10-22T13:57:36.557Z"
   },
   {
    "duration": 10,
    "start_time": "2022-10-22T13:57:53.623Z"
   },
   {
    "duration": 9,
    "start_time": "2022-10-22T13:58:39.822Z"
   },
   {
    "duration": 13,
    "start_time": "2022-10-22T13:58:52.998Z"
   },
   {
    "duration": 9,
    "start_time": "2022-10-22T13:59:01.450Z"
   },
   {
    "duration": 11,
    "start_time": "2022-10-22T14:00:05.355Z"
   },
   {
    "duration": 12,
    "start_time": "2022-10-22T14:00:17.248Z"
   },
   {
    "duration": 67,
    "start_time": "2022-10-22T14:00:27.048Z"
   },
   {
    "duration": 14,
    "start_time": "2022-10-22T14:00:27.117Z"
   },
   {
    "duration": 19,
    "start_time": "2022-10-22T14:00:27.132Z"
   },
   {
    "duration": 10,
    "start_time": "2022-10-22T14:00:27.152Z"
   },
   {
    "duration": 52,
    "start_time": "2022-10-22T14:00:27.165Z"
   },
   {
    "duration": 2,
    "start_time": "2022-10-22T14:00:27.219Z"
   },
   {
    "duration": 12,
    "start_time": "2022-10-22T14:00:27.223Z"
   },
   {
    "duration": 3,
    "start_time": "2022-10-22T14:00:27.237Z"
   },
   {
    "duration": 8,
    "start_time": "2022-10-22T14:00:27.241Z"
   },
   {
    "duration": 4,
    "start_time": "2022-10-22T14:00:27.251Z"
   },
   {
    "duration": 49,
    "start_time": "2022-10-22T14:00:27.256Z"
   },
   {
    "duration": 7,
    "start_time": "2022-10-22T14:00:27.307Z"
   },
   {
    "duration": 5,
    "start_time": "2022-10-22T14:00:27.315Z"
   },
   {
    "duration": 14,
    "start_time": "2022-10-22T14:00:27.321Z"
   },
   {
    "duration": 15,
    "start_time": "2022-10-22T14:00:27.337Z"
   },
   {
    "duration": 14,
    "start_time": "2022-10-22T14:00:27.354Z"
   },
   {
    "duration": 3,
    "start_time": "2022-10-22T14:00:27.370Z"
   },
   {
    "duration": 31,
    "start_time": "2022-10-22T14:00:27.374Z"
   },
   {
    "duration": 5,
    "start_time": "2022-10-22T14:00:27.407Z"
   },
   {
    "duration": 4,
    "start_time": "2022-10-22T14:00:27.413Z"
   },
   {
    "duration": 8,
    "start_time": "2022-10-22T14:00:27.419Z"
   },
   {
    "duration": 21,
    "start_time": "2022-10-22T14:00:27.428Z"
   },
   {
    "duration": 0,
    "start_time": "2022-10-22T14:00:27.451Z"
   },
   {
    "duration": 0,
    "start_time": "2022-10-22T14:00:27.452Z"
   },
   {
    "duration": 0,
    "start_time": "2022-10-22T14:00:27.453Z"
   },
   {
    "duration": 0,
    "start_time": "2022-10-22T14:00:27.454Z"
   },
   {
    "duration": 11,
    "start_time": "2022-10-22T14:00:53.788Z"
   },
   {
    "duration": 11,
    "start_time": "2022-10-22T14:01:05.502Z"
   },
   {
    "duration": 11,
    "start_time": "2022-10-22T14:01:30.004Z"
   },
   {
    "duration": 10,
    "start_time": "2022-10-22T14:02:22.962Z"
   },
   {
    "duration": 12,
    "start_time": "2022-10-22T14:05:49.798Z"
   },
   {
    "duration": 20,
    "start_time": "2022-10-22T14:07:17.468Z"
   },
   {
    "duration": 19,
    "start_time": "2022-10-22T14:07:30.654Z"
   },
   {
    "duration": 15,
    "start_time": "2022-10-22T14:07:37.693Z"
   },
   {
    "duration": 73,
    "start_time": "2022-10-22T14:07:50.188Z"
   },
   {
    "duration": 14,
    "start_time": "2022-10-22T14:07:50.262Z"
   },
   {
    "duration": 19,
    "start_time": "2022-10-22T14:07:50.278Z"
   },
   {
    "duration": 11,
    "start_time": "2022-10-22T14:07:50.299Z"
   },
   {
    "duration": 30,
    "start_time": "2022-10-22T14:07:50.311Z"
   },
   {
    "duration": 3,
    "start_time": "2022-10-22T14:07:50.343Z"
   },
   {
    "duration": 11,
    "start_time": "2022-10-22T14:07:50.347Z"
   },
   {
    "duration": 14,
    "start_time": "2022-10-22T14:07:50.359Z"
   },
   {
    "duration": 8,
    "start_time": "2022-10-22T14:07:50.375Z"
   },
   {
    "duration": 21,
    "start_time": "2022-10-22T14:07:50.385Z"
   },
   {
    "duration": 33,
    "start_time": "2022-10-22T14:07:50.408Z"
   },
   {
    "duration": 10,
    "start_time": "2022-10-22T14:07:50.443Z"
   },
   {
    "duration": 6,
    "start_time": "2022-10-22T14:07:50.455Z"
   },
   {
    "duration": 12,
    "start_time": "2022-10-22T14:07:50.463Z"
   },
   {
    "duration": 44,
    "start_time": "2022-10-22T14:07:50.477Z"
   },
   {
    "duration": 17,
    "start_time": "2022-10-22T14:07:50.522Z"
   },
   {
    "duration": 3,
    "start_time": "2022-10-22T14:07:50.541Z"
   },
   {
    "duration": 10,
    "start_time": "2022-10-22T14:07:50.546Z"
   },
   {
    "duration": 5,
    "start_time": "2022-10-22T14:07:50.558Z"
   },
   {
    "duration": 4,
    "start_time": "2022-10-22T14:07:50.565Z"
   },
   {
    "duration": 37,
    "start_time": "2022-10-22T14:07:50.571Z"
   },
   {
    "duration": 17,
    "start_time": "2022-10-22T14:07:50.611Z"
   },
   {
    "duration": 0,
    "start_time": "2022-10-22T14:07:50.630Z"
   },
   {
    "duration": 0,
    "start_time": "2022-10-22T14:07:50.631Z"
   },
   {
    "duration": 0,
    "start_time": "2022-10-22T14:07:50.632Z"
   },
   {
    "duration": 0,
    "start_time": "2022-10-22T14:07:50.634Z"
   },
   {
    "duration": 15,
    "start_time": "2022-10-22T14:08:03.812Z"
   },
   {
    "duration": 72,
    "start_time": "2022-10-22T14:08:36.121Z"
   },
   {
    "duration": 10,
    "start_time": "2022-10-22T15:05:38.422Z"
   },
   {
    "duration": 11,
    "start_time": "2022-10-22T15:36:43.303Z"
   },
   {
    "duration": 16,
    "start_time": "2022-10-22T15:40:19.916Z"
   },
   {
    "duration": 65,
    "start_time": "2022-10-22T15:40:23.754Z"
   },
   {
    "duration": 14,
    "start_time": "2022-10-22T15:40:23.821Z"
   },
   {
    "duration": 20,
    "start_time": "2022-10-22T15:40:23.836Z"
   },
   {
    "duration": 8,
    "start_time": "2022-10-22T15:40:23.857Z"
   },
   {
    "duration": 44,
    "start_time": "2022-10-22T15:40:23.867Z"
   },
   {
    "duration": 3,
    "start_time": "2022-10-22T15:40:23.912Z"
   },
   {
    "duration": 11,
    "start_time": "2022-10-22T15:40:23.916Z"
   },
   {
    "duration": 5,
    "start_time": "2022-10-22T15:40:23.928Z"
   },
   {
    "duration": 6,
    "start_time": "2022-10-22T15:40:23.934Z"
   },
   {
    "duration": 5,
    "start_time": "2022-10-22T15:40:23.941Z"
   },
   {
    "duration": 30,
    "start_time": "2022-10-22T15:40:23.948Z"
   },
   {
    "duration": 29,
    "start_time": "2022-10-22T15:40:23.980Z"
   },
   {
    "duration": 5,
    "start_time": "2022-10-22T15:40:24.010Z"
   },
   {
    "duration": 11,
    "start_time": "2022-10-22T15:40:24.017Z"
   },
   {
    "duration": 17,
    "start_time": "2022-10-22T15:40:24.029Z"
   },
   {
    "duration": 15,
    "start_time": "2022-10-22T15:40:24.047Z"
   },
   {
    "duration": 4,
    "start_time": "2022-10-22T15:40:24.063Z"
   },
   {
    "duration": 12,
    "start_time": "2022-10-22T15:40:24.068Z"
   },
   {
    "duration": 5,
    "start_time": "2022-10-22T15:40:24.106Z"
   },
   {
    "duration": 8,
    "start_time": "2022-10-22T15:40:24.113Z"
   },
   {
    "duration": 11,
    "start_time": "2022-10-22T15:40:24.123Z"
   },
   {
    "duration": 17,
    "start_time": "2022-10-22T15:40:24.135Z"
   },
   {
    "duration": 0,
    "start_time": "2022-10-22T15:40:24.154Z"
   },
   {
    "duration": 0,
    "start_time": "2022-10-22T15:40:24.155Z"
   },
   {
    "duration": 0,
    "start_time": "2022-10-22T15:40:24.156Z"
   },
   {
    "duration": 0,
    "start_time": "2022-10-22T15:40:24.157Z"
   },
   {
    "duration": 15,
    "start_time": "2022-10-22T15:40:34.894Z"
   },
   {
    "duration": 14,
    "start_time": "2022-10-22T15:40:46.760Z"
   },
   {
    "duration": 10,
    "start_time": "2022-10-22T15:40:55.019Z"
   },
   {
    "duration": 4,
    "start_time": "2022-10-22T15:44:12.088Z"
   },
   {
    "duration": 6,
    "start_time": "2022-10-22T15:44:25.412Z"
   },
   {
    "duration": 5,
    "start_time": "2022-10-22T15:44:44.583Z"
   },
   {
    "duration": 12,
    "start_time": "2022-10-22T15:53:40.250Z"
   },
   {
    "duration": 11,
    "start_time": "2022-10-22T15:54:38.528Z"
   },
   {
    "duration": 12,
    "start_time": "2022-10-22T15:55:21.262Z"
   },
   {
    "duration": 11,
    "start_time": "2022-10-22T15:55:37.332Z"
   },
   {
    "duration": 11,
    "start_time": "2022-10-22T15:55:46.545Z"
   },
   {
    "duration": 14,
    "start_time": "2022-10-22T15:55:52.077Z"
   },
   {
    "duration": 14,
    "start_time": "2022-10-22T15:57:17.666Z"
   },
   {
    "duration": 17,
    "start_time": "2022-10-22T15:59:00.137Z"
   },
   {
    "duration": 32,
    "start_time": "2022-10-22T15:59:28.025Z"
   },
   {
    "duration": 14,
    "start_time": "2022-10-22T16:00:39.243Z"
   },
   {
    "duration": 22,
    "start_time": "2022-10-22T16:02:57.369Z"
   },
   {
    "duration": 11,
    "start_time": "2022-10-22T16:03:35.304Z"
   },
   {
    "duration": 11,
    "start_time": "2022-10-22T16:03:59.225Z"
   },
   {
    "duration": 26,
    "start_time": "2022-10-22T16:04:38.320Z"
   },
   {
    "duration": 12,
    "start_time": "2022-10-22T16:05:37.932Z"
   },
   {
    "duration": 37,
    "start_time": "2022-10-22T16:05:46.307Z"
   },
   {
    "duration": 71,
    "start_time": "2022-10-22T16:15:43.964Z"
   },
   {
    "duration": 14,
    "start_time": "2022-10-22T16:15:50.167Z"
   },
   {
    "duration": 13,
    "start_time": "2022-10-22T18:47:40.169Z"
   },
   {
    "duration": 11,
    "start_time": "2022-10-22T18:47:57.786Z"
   },
   {
    "duration": 312,
    "start_time": "2022-10-22T18:55:59.062Z"
   },
   {
    "duration": 197,
    "start_time": "2022-10-22T18:56:34.242Z"
   },
   {
    "duration": 18,
    "start_time": "2022-10-22T18:56:53.038Z"
   },
   {
    "duration": 66,
    "start_time": "2022-10-22T18:57:08.761Z"
   },
   {
    "duration": 69,
    "start_time": "2022-10-22T18:57:27.211Z"
   },
   {
    "duration": 13,
    "start_time": "2022-10-22T19:05:43.924Z"
   },
   {
    "duration": 15,
    "start_time": "2022-10-22T19:14:36.720Z"
   },
   {
    "duration": 13,
    "start_time": "2022-10-22T19:14:45.544Z"
   },
   {
    "duration": 12,
    "start_time": "2022-10-22T19:15:22.115Z"
   },
   {
    "duration": 11,
    "start_time": "2022-10-22T19:15:32.005Z"
   },
   {
    "duration": 10,
    "start_time": "2022-10-22T19:15:43.588Z"
   },
   {
    "duration": 9,
    "start_time": "2022-10-22T19:15:46.335Z"
   },
   {
    "duration": 68,
    "start_time": "2022-10-22T19:15:49.866Z"
   },
   {
    "duration": 14,
    "start_time": "2022-10-22T19:15:49.936Z"
   },
   {
    "duration": 19,
    "start_time": "2022-10-22T19:15:49.952Z"
   },
   {
    "duration": 11,
    "start_time": "2022-10-22T19:15:49.974Z"
   },
   {
    "duration": 55,
    "start_time": "2022-10-22T19:15:49.987Z"
   },
   {
    "duration": 3,
    "start_time": "2022-10-22T19:15:50.043Z"
   },
   {
    "duration": 14,
    "start_time": "2022-10-22T19:15:50.048Z"
   },
   {
    "duration": 4,
    "start_time": "2022-10-22T19:15:50.064Z"
   },
   {
    "duration": 9,
    "start_time": "2022-10-22T19:15:50.070Z"
   },
   {
    "duration": 26,
    "start_time": "2022-10-22T19:15:50.081Z"
   },
   {
    "duration": 30,
    "start_time": "2022-10-22T19:15:50.109Z"
   },
   {
    "duration": 10,
    "start_time": "2022-10-22T19:15:50.140Z"
   },
   {
    "duration": 7,
    "start_time": "2022-10-22T19:15:50.151Z"
   },
   {
    "duration": 12,
    "start_time": "2022-10-22T19:15:50.159Z"
   },
   {
    "duration": 40,
    "start_time": "2022-10-22T19:15:50.173Z"
   },
   {
    "duration": 17,
    "start_time": "2022-10-22T19:15:50.214Z"
   },
   {
    "duration": 3,
    "start_time": "2022-10-22T19:15:50.232Z"
   },
   {
    "duration": 22,
    "start_time": "2022-10-22T19:15:50.237Z"
   },
   {
    "duration": 7,
    "start_time": "2022-10-22T19:15:50.261Z"
   },
   {
    "duration": 6,
    "start_time": "2022-10-22T19:15:50.269Z"
   },
   {
    "duration": 18,
    "start_time": "2022-10-22T19:15:50.276Z"
   },
   {
    "duration": 11,
    "start_time": "2022-10-22T19:15:50.305Z"
   },
   {
    "duration": 3,
    "start_time": "2022-10-22T19:15:50.318Z"
   },
   {
    "duration": 13,
    "start_time": "2022-10-22T19:15:50.322Z"
   },
   {
    "duration": 4,
    "start_time": "2022-10-22T19:15:50.337Z"
   },
   {
    "duration": 9,
    "start_time": "2022-10-22T19:15:50.343Z"
   },
   {
    "duration": 13,
    "start_time": "2022-10-22T19:16:04.077Z"
   },
   {
    "duration": 14,
    "start_time": "2022-10-22T19:28:03.751Z"
   },
   {
    "duration": 14,
    "start_time": "2022-10-22T19:28:52.266Z"
   },
   {
    "duration": 13,
    "start_time": "2022-10-22T19:28:59.418Z"
   },
   {
    "duration": 11,
    "start_time": "2022-10-22T19:30:43.428Z"
   },
   {
    "duration": 10,
    "start_time": "2022-10-22T19:31:04.387Z"
   },
   {
    "duration": 12,
    "start_time": "2022-10-22T19:31:12.726Z"
   },
   {
    "duration": 14,
    "start_time": "2022-10-22T19:32:22.745Z"
   },
   {
    "duration": 12,
    "start_time": "2022-10-22T19:32:54.076Z"
   },
   {
    "duration": 14,
    "start_time": "2022-10-22T19:33:16.592Z"
   },
   {
    "duration": 8,
    "start_time": "2022-10-22T19:33:27.896Z"
   },
   {
    "duration": 14,
    "start_time": "2022-10-22T19:36:14.318Z"
   },
   {
    "duration": 69,
    "start_time": "2022-10-22T19:42:25.125Z"
   },
   {
    "duration": 68,
    "start_time": "2022-10-22T19:42:40.592Z"
   },
   {
    "duration": 20,
    "start_time": "2022-10-22T19:43:07.926Z"
   },
   {
    "duration": 8,
    "start_time": "2022-10-22T19:43:17.752Z"
   },
   {
    "duration": 14,
    "start_time": "2022-10-22T19:53:21.890Z"
   },
   {
    "duration": 7,
    "start_time": "2022-10-22T20:05:43.017Z"
   },
   {
    "duration": 14,
    "start_time": "2022-10-22T20:06:33.651Z"
   },
   {
    "duration": 9,
    "start_time": "2022-10-22T20:19:39.822Z"
   },
   {
    "duration": 134,
    "start_time": "2022-10-22T20:20:04.984Z"
   },
   {
    "duration": 8,
    "start_time": "2022-10-22T20:20:13.825Z"
   },
   {
    "duration": 75,
    "start_time": "2022-10-22T20:20:49.325Z"
   },
   {
    "duration": 68,
    "start_time": "2022-10-22T20:20:57.683Z"
   },
   {
    "duration": 65,
    "start_time": "2022-10-22T20:21:02.747Z"
   },
   {
    "duration": 14,
    "start_time": "2022-10-22T20:21:02.814Z"
   },
   {
    "duration": 18,
    "start_time": "2022-10-22T20:21:02.829Z"
   },
   {
    "duration": 8,
    "start_time": "2022-10-22T20:21:02.849Z"
   },
   {
    "duration": 32,
    "start_time": "2022-10-22T20:21:02.859Z"
   },
   {
    "duration": 4,
    "start_time": "2022-10-22T20:21:02.907Z"
   },
   {
    "duration": 16,
    "start_time": "2022-10-22T20:21:02.913Z"
   },
   {
    "duration": 10,
    "start_time": "2022-10-22T20:21:02.931Z"
   },
   {
    "duration": 8,
    "start_time": "2022-10-22T20:21:02.942Z"
   },
   {
    "duration": 13,
    "start_time": "2022-10-22T20:21:02.953Z"
   },
   {
    "duration": 38,
    "start_time": "2022-10-22T20:21:02.968Z"
   },
   {
    "duration": 8,
    "start_time": "2022-10-22T20:21:03.007Z"
   },
   {
    "duration": 18,
    "start_time": "2022-10-22T20:21:03.016Z"
   },
   {
    "duration": 32,
    "start_time": "2022-10-22T20:21:03.035Z"
   },
   {
    "duration": 53,
    "start_time": "2022-10-22T20:21:03.069Z"
   },
   {
    "duration": 17,
    "start_time": "2022-10-22T20:21:03.124Z"
   },
   {
    "duration": 6,
    "start_time": "2022-10-22T20:21:03.142Z"
   },
   {
    "duration": 26,
    "start_time": "2022-10-22T20:21:03.149Z"
   },
   {
    "duration": 16,
    "start_time": "2022-10-22T20:21:03.176Z"
   },
   {
    "duration": 13,
    "start_time": "2022-10-22T20:21:03.194Z"
   },
   {
    "duration": 34,
    "start_time": "2022-10-22T20:21:03.209Z"
   },
   {
    "duration": 69,
    "start_time": "2022-10-22T20:21:03.245Z"
   },
   {
    "duration": 0,
    "start_time": "2022-10-22T20:21:03.316Z"
   },
   {
    "duration": 0,
    "start_time": "2022-10-22T20:21:03.317Z"
   },
   {
    "duration": 0,
    "start_time": "2022-10-22T20:21:03.318Z"
   },
   {
    "duration": 0,
    "start_time": "2022-10-22T20:21:03.319Z"
   },
   {
    "duration": 71,
    "start_time": "2022-10-22T20:21:17.172Z"
   },
   {
    "duration": 10,
    "start_time": "2022-10-22T20:21:27.272Z"
   },
   {
    "duration": 15,
    "start_time": "2022-10-22T20:21:54.649Z"
   },
   {
    "duration": 14,
    "start_time": "2022-10-22T20:25:35.122Z"
   },
   {
    "duration": 8,
    "start_time": "2022-10-22T20:33:38.315Z"
   },
   {
    "duration": 17,
    "start_time": "2022-10-22T20:42:33.804Z"
   },
   {
    "duration": 43,
    "start_time": "2022-10-23T10:49:47.326Z"
   },
   {
    "duration": 728,
    "start_time": "2022-10-23T10:49:52.405Z"
   },
   {
    "duration": 21,
    "start_time": "2022-10-23T10:49:53.135Z"
   },
   {
    "duration": 13,
    "start_time": "2022-10-23T10:49:53.158Z"
   },
   {
    "duration": 9,
    "start_time": "2022-10-23T10:49:53.173Z"
   },
   {
    "duration": 41,
    "start_time": "2022-10-23T10:49:53.184Z"
   },
   {
    "duration": 3,
    "start_time": "2022-10-23T10:49:53.227Z"
   },
   {
    "duration": 10,
    "start_time": "2022-10-23T10:49:53.232Z"
   },
   {
    "duration": 19,
    "start_time": "2022-10-23T10:49:53.243Z"
   },
   {
    "duration": 14,
    "start_time": "2022-10-23T10:49:53.263Z"
   },
   {
    "duration": 5,
    "start_time": "2022-10-23T10:49:53.281Z"
   },
   {
    "duration": 33,
    "start_time": "2022-10-23T10:49:53.287Z"
   },
   {
    "duration": 8,
    "start_time": "2022-10-23T10:49:53.322Z"
   },
   {
    "duration": 6,
    "start_time": "2022-10-23T10:49:53.331Z"
   },
   {
    "duration": 12,
    "start_time": "2022-10-23T10:49:53.338Z"
   },
   {
    "duration": 19,
    "start_time": "2022-10-23T10:49:53.352Z"
   },
   {
    "duration": 15,
    "start_time": "2022-10-23T10:49:53.373Z"
   },
   {
    "duration": 2,
    "start_time": "2022-10-23T10:49:53.390Z"
   },
   {
    "duration": 34,
    "start_time": "2022-10-23T10:49:53.394Z"
   },
   {
    "duration": 5,
    "start_time": "2022-10-23T10:49:53.430Z"
   },
   {
    "duration": 7,
    "start_time": "2022-10-23T10:49:53.436Z"
   },
   {
    "duration": 15,
    "start_time": "2022-10-23T10:49:53.444Z"
   },
   {
    "duration": 32,
    "start_time": "2022-10-23T10:49:53.460Z"
   },
   {
    "duration": 0,
    "start_time": "2022-10-23T10:49:53.493Z"
   },
   {
    "duration": 0,
    "start_time": "2022-10-23T10:49:53.494Z"
   },
   {
    "duration": 0,
    "start_time": "2022-10-23T10:49:53.495Z"
   },
   {
    "duration": 0,
    "start_time": "2022-10-23T10:49:53.496Z"
   },
   {
    "duration": 543,
    "start_time": "2022-10-23T10:50:38.603Z"
   },
   {
    "duration": 91,
    "start_time": "2022-10-23T10:51:07.087Z"
   },
   {
    "duration": 115,
    "start_time": "2022-10-23T10:51:40.271Z"
   },
   {
    "duration": 106,
    "start_time": "2022-10-23T10:52:03.509Z"
   },
   {
    "duration": 144,
    "start_time": "2022-10-23T10:57:38.556Z"
   },
   {
    "duration": 6,
    "start_time": "2022-10-23T10:57:59.911Z"
   },
   {
    "duration": 83,
    "start_time": "2022-10-23T10:58:14.576Z"
   },
   {
    "duration": 6,
    "start_time": "2022-10-23T10:58:20.326Z"
   },
   {
    "duration": 69,
    "start_time": "2022-10-23T10:58:26.364Z"
   },
   {
    "duration": 15,
    "start_time": "2022-10-23T10:58:26.435Z"
   },
   {
    "duration": 21,
    "start_time": "2022-10-23T10:58:26.452Z"
   },
   {
    "duration": 15,
    "start_time": "2022-10-23T10:58:26.475Z"
   },
   {
    "duration": 36,
    "start_time": "2022-10-23T10:58:26.491Z"
   },
   {
    "duration": 3,
    "start_time": "2022-10-23T10:58:26.528Z"
   },
   {
    "duration": 43,
    "start_time": "2022-10-23T10:58:26.533Z"
   },
   {
    "duration": 21,
    "start_time": "2022-10-23T10:58:26.577Z"
   },
   {
    "duration": 13,
    "start_time": "2022-10-23T10:58:26.599Z"
   },
   {
    "duration": 26,
    "start_time": "2022-10-23T10:58:26.614Z"
   },
   {
    "duration": 43,
    "start_time": "2022-10-23T10:58:26.642Z"
   },
   {
    "duration": 8,
    "start_time": "2022-10-23T10:58:26.686Z"
   },
   {
    "duration": 10,
    "start_time": "2022-10-23T10:58:26.697Z"
   },
   {
    "duration": 33,
    "start_time": "2022-10-23T10:58:26.708Z"
   },
   {
    "duration": 38,
    "start_time": "2022-10-23T10:58:26.743Z"
   },
   {
    "duration": 17,
    "start_time": "2022-10-23T10:58:26.795Z"
   },
   {
    "duration": 8,
    "start_time": "2022-10-23T10:58:26.814Z"
   },
   {
    "duration": 15,
    "start_time": "2022-10-23T10:58:26.824Z"
   },
   {
    "duration": 18,
    "start_time": "2022-10-23T10:58:26.841Z"
   },
   {
    "duration": 28,
    "start_time": "2022-10-23T10:58:26.861Z"
   },
   {
    "duration": 15,
    "start_time": "2022-10-23T10:58:26.890Z"
   },
   {
    "duration": 25,
    "start_time": "2022-10-23T10:58:26.907Z"
   },
   {
    "duration": 94,
    "start_time": "2022-10-23T10:58:26.933Z"
   },
   {
    "duration": 2,
    "start_time": "2022-10-23T10:58:27.029Z"
   },
   {
    "duration": 15,
    "start_time": "2022-10-23T10:58:27.033Z"
   },
   {
    "duration": 22,
    "start_time": "2022-10-23T10:58:27.049Z"
   },
   {
    "duration": 113,
    "start_time": "2022-10-23T10:58:48.796Z"
   },
   {
    "duration": 18,
    "start_time": "2022-10-23T11:03:35.953Z"
   },
   {
    "duration": 10,
    "start_time": "2022-10-23T11:03:48.619Z"
   },
   {
    "duration": 9,
    "start_time": "2022-10-23T11:03:55.418Z"
   },
   {
    "duration": 12,
    "start_time": "2022-10-23T11:04:47.756Z"
   },
   {
    "duration": 103,
    "start_time": "2022-10-23T11:04:51.893Z"
   },
   {
    "duration": 100,
    "start_time": "2022-10-23T11:10:50.190Z"
   },
   {
    "duration": 19,
    "start_time": "2022-10-23T11:11:56.929Z"
   },
   {
    "duration": 111,
    "start_time": "2022-10-23T11:12:30.710Z"
   },
   {
    "duration": 5,
    "start_time": "2022-10-23T11:12:54.880Z"
   },
   {
    "duration": 5,
    "start_time": "2022-10-23T11:13:06.775Z"
   },
   {
    "duration": 6,
    "start_time": "2022-10-23T11:14:07.327Z"
   },
   {
    "duration": 5,
    "start_time": "2022-10-23T11:14:16.213Z"
   },
   {
    "duration": 88,
    "start_time": "2022-10-23T11:14:48.836Z"
   },
   {
    "duration": 99,
    "start_time": "2022-10-23T11:15:04.476Z"
   },
   {
    "duration": 9,
    "start_time": "2022-10-23T11:17:47.840Z"
   },
   {
    "duration": 7,
    "start_time": "2022-10-23T11:18:06.296Z"
   },
   {
    "duration": 10,
    "start_time": "2022-10-23T11:18:45.582Z"
   },
   {
    "duration": 7,
    "start_time": "2022-10-23T11:21:44.561Z"
   },
   {
    "duration": 7,
    "start_time": "2022-10-23T11:21:52.034Z"
   },
   {
    "duration": 9,
    "start_time": "2022-10-23T11:25:01.638Z"
   },
   {
    "duration": 31,
    "start_time": "2022-10-23T11:25:11.129Z"
   },
   {
    "duration": 25,
    "start_time": "2022-10-23T11:26:33.802Z"
   },
   {
    "duration": 94,
    "start_time": "2022-10-23T11:27:16.646Z"
   },
   {
    "duration": 66,
    "start_time": "2022-10-23T11:27:22.210Z"
   },
   {
    "duration": 15,
    "start_time": "2022-10-23T11:27:22.278Z"
   },
   {
    "duration": 16,
    "start_time": "2022-10-23T11:27:22.294Z"
   },
   {
    "duration": 11,
    "start_time": "2022-10-23T11:27:22.311Z"
   },
   {
    "duration": 30,
    "start_time": "2022-10-23T11:27:22.324Z"
   },
   {
    "duration": 3,
    "start_time": "2022-10-23T11:27:22.355Z"
   },
   {
    "duration": 22,
    "start_time": "2022-10-23T11:27:22.360Z"
   },
   {
    "duration": 4,
    "start_time": "2022-10-23T11:27:22.384Z"
   },
   {
    "duration": 20,
    "start_time": "2022-10-23T11:27:22.389Z"
   },
   {
    "duration": 6,
    "start_time": "2022-10-23T11:27:22.414Z"
   },
   {
    "duration": 30,
    "start_time": "2022-10-23T11:27:22.422Z"
   },
   {
    "duration": 8,
    "start_time": "2022-10-23T11:27:22.454Z"
   },
   {
    "duration": 5,
    "start_time": "2022-10-23T11:27:22.463Z"
   },
   {
    "duration": 19,
    "start_time": "2022-10-23T11:27:22.470Z"
   },
   {
    "duration": 19,
    "start_time": "2022-10-23T11:27:22.490Z"
   },
   {
    "duration": 29,
    "start_time": "2022-10-23T11:27:22.510Z"
   },
   {
    "duration": 3,
    "start_time": "2022-10-23T11:27:22.540Z"
   },
   {
    "duration": 15,
    "start_time": "2022-10-23T11:27:22.545Z"
   },
   {
    "duration": 6,
    "start_time": "2022-10-23T11:27:22.562Z"
   },
   {
    "duration": 8,
    "start_time": "2022-10-23T11:27:22.570Z"
   },
   {
    "duration": 14,
    "start_time": "2022-10-23T11:27:22.579Z"
   },
   {
    "duration": 115,
    "start_time": "2022-10-23T11:27:22.594Z"
   },
   {
    "duration": 160,
    "start_time": "2022-10-23T11:27:22.711Z"
   },
   {
    "duration": 105,
    "start_time": "2022-10-23T11:27:22.872Z"
   },
   {
    "duration": 8,
    "start_time": "2022-10-23T11:27:22.978Z"
   },
   {
    "duration": 11,
    "start_time": "2022-10-23T11:27:22.988Z"
   },
   {
    "duration": 5,
    "start_time": "2022-10-23T11:27:23.000Z"
   },
   {
    "duration": 4,
    "start_time": "2022-10-23T11:35:48.333Z"
   },
   {
    "duration": 6,
    "start_time": "2022-10-23T11:35:56.837Z"
   },
   {
    "duration": 8,
    "start_time": "2022-10-23T11:38:42.686Z"
   },
   {
    "duration": 5,
    "start_time": "2022-10-23T11:38:52.133Z"
   },
   {
    "duration": 7,
    "start_time": "2022-10-23T11:39:03.523Z"
   },
   {
    "duration": 8,
    "start_time": "2022-10-23T11:39:39.544Z"
   },
   {
    "duration": 7,
    "start_time": "2022-10-23T11:40:22.617Z"
   },
   {
    "duration": 21,
    "start_time": "2022-10-23T11:42:42.630Z"
   },
   {
    "duration": 14,
    "start_time": "2022-10-23T11:43:03.112Z"
   },
   {
    "duration": 72,
    "start_time": "2022-10-23T12:10:28.001Z"
   },
   {
    "duration": 16,
    "start_time": "2022-10-23T12:10:28.075Z"
   },
   {
    "duration": 17,
    "start_time": "2022-10-23T12:10:28.092Z"
   },
   {
    "duration": 15,
    "start_time": "2022-10-23T12:10:28.111Z"
   },
   {
    "duration": 30,
    "start_time": "2022-10-23T12:10:28.129Z"
   },
   {
    "duration": 3,
    "start_time": "2022-10-23T12:10:28.161Z"
   },
   {
    "duration": 13,
    "start_time": "2022-10-23T12:10:28.165Z"
   },
   {
    "duration": 4,
    "start_time": "2022-10-23T12:10:28.179Z"
   },
   {
    "duration": 36,
    "start_time": "2022-10-23T12:10:28.185Z"
   },
   {
    "duration": 4,
    "start_time": "2022-10-23T12:10:28.223Z"
   },
   {
    "duration": 36,
    "start_time": "2022-10-23T12:10:28.229Z"
   },
   {
    "duration": 9,
    "start_time": "2022-10-23T12:10:28.267Z"
   },
   {
    "duration": 9,
    "start_time": "2022-10-23T12:10:28.277Z"
   },
   {
    "duration": 22,
    "start_time": "2022-10-23T12:10:28.287Z"
   },
   {
    "duration": 19,
    "start_time": "2022-10-23T12:10:28.311Z"
   },
   {
    "duration": 17,
    "start_time": "2022-10-23T12:10:28.332Z"
   },
   {
    "duration": 3,
    "start_time": "2022-10-23T12:10:28.351Z"
   },
   {
    "duration": 11,
    "start_time": "2022-10-23T12:10:28.355Z"
   },
   {
    "duration": 5,
    "start_time": "2022-10-23T12:10:28.367Z"
   },
   {
    "duration": 4,
    "start_time": "2022-10-23T12:10:28.373Z"
   },
   {
    "duration": 10,
    "start_time": "2022-10-23T12:10:28.378Z"
   },
   {
    "duration": 139,
    "start_time": "2022-10-23T12:10:28.389Z"
   },
   {
    "duration": 100,
    "start_time": "2022-10-23T12:10:28.530Z"
   },
   {
    "duration": 109,
    "start_time": "2022-10-23T12:10:28.632Z"
   },
   {
    "duration": 9,
    "start_time": "2022-10-23T12:10:28.743Z"
   },
   {
    "duration": 9,
    "start_time": "2022-10-23T12:10:28.754Z"
   },
   {
    "duration": 19,
    "start_time": "2022-10-23T12:10:28.764Z"
   },
   {
    "duration": 64,
    "start_time": "2022-10-23T12:22:10.518Z"
   },
   {
    "duration": 15,
    "start_time": "2022-10-23T12:22:10.584Z"
   },
   {
    "duration": 15,
    "start_time": "2022-10-23T12:22:10.600Z"
   },
   {
    "duration": 8,
    "start_time": "2022-10-23T12:22:10.617Z"
   },
   {
    "duration": 30,
    "start_time": "2022-10-23T12:22:10.626Z"
   },
   {
    "duration": 3,
    "start_time": "2022-10-23T12:22:10.657Z"
   },
   {
    "duration": 12,
    "start_time": "2022-10-23T12:22:10.662Z"
   },
   {
    "duration": 3,
    "start_time": "2022-10-23T12:22:10.676Z"
   },
   {
    "duration": 7,
    "start_time": "2022-10-23T12:22:10.681Z"
   },
   {
    "duration": 4,
    "start_time": "2022-10-23T12:22:10.746Z"
   },
   {
    "duration": 30,
    "start_time": "2022-10-23T12:22:10.752Z"
   },
   {
    "duration": 7,
    "start_time": "2022-10-23T12:22:10.784Z"
   },
   {
    "duration": 3,
    "start_time": "2022-10-23T12:22:10.793Z"
   },
   {
    "duration": 15,
    "start_time": "2022-10-23T12:22:10.797Z"
   },
   {
    "duration": 17,
    "start_time": "2022-10-23T12:22:10.813Z"
   },
   {
    "duration": 16,
    "start_time": "2022-10-23T12:22:10.831Z"
   },
   {
    "duration": 3,
    "start_time": "2022-10-23T12:22:10.849Z"
   },
   {
    "duration": 11,
    "start_time": "2022-10-23T12:22:10.854Z"
   },
   {
    "duration": 6,
    "start_time": "2022-10-23T12:22:11.011Z"
   },
   {
    "duration": 4,
    "start_time": "2022-10-23T12:22:11.019Z"
   },
   {
    "duration": 14,
    "start_time": "2022-10-23T12:22:11.024Z"
   },
   {
    "duration": 127,
    "start_time": "2022-10-23T12:22:11.040Z"
   },
   {
    "duration": 90,
    "start_time": "2022-10-23T12:22:11.169Z"
   },
   {
    "duration": 107,
    "start_time": "2022-10-23T12:22:11.261Z"
   },
   {
    "duration": 12,
    "start_time": "2022-10-23T12:22:11.370Z"
   },
   {
    "duration": 7,
    "start_time": "2022-10-23T12:22:11.384Z"
   },
   {
    "duration": 12,
    "start_time": "2022-10-23T12:22:11.392Z"
   },
   {
    "duration": 42,
    "start_time": "2022-10-23T12:23:19.813Z"
   },
   {
    "duration": 6,
    "start_time": "2022-10-23T12:23:26.259Z"
   },
   {
    "duration": 5,
    "start_time": "2022-10-23T12:23:37.537Z"
   },
   {
    "duration": 653,
    "start_time": "2022-10-23T12:23:44.358Z"
   },
   {
    "duration": 20,
    "start_time": "2022-10-23T12:23:45.013Z"
   },
   {
    "duration": 16,
    "start_time": "2022-10-23T12:23:45.034Z"
   },
   {
    "duration": 12,
    "start_time": "2022-10-23T12:23:45.052Z"
   },
   {
    "duration": 29,
    "start_time": "2022-10-23T12:23:45.065Z"
   },
   {
    "duration": 2,
    "start_time": "2022-10-23T12:23:45.096Z"
   },
   {
    "duration": 9,
    "start_time": "2022-10-23T12:23:45.100Z"
   },
   {
    "duration": 3,
    "start_time": "2022-10-23T12:23:45.121Z"
   },
   {
    "duration": 14,
    "start_time": "2022-10-23T12:23:45.125Z"
   },
   {
    "duration": 3,
    "start_time": "2022-10-23T12:23:45.141Z"
   },
   {
    "duration": 32,
    "start_time": "2022-10-23T12:23:45.146Z"
   },
   {
    "duration": 8,
    "start_time": "2022-10-23T12:23:45.179Z"
   },
   {
    "duration": 22,
    "start_time": "2022-10-23T12:23:45.188Z"
   },
   {
    "duration": 12,
    "start_time": "2022-10-23T12:23:45.212Z"
   },
   {
    "duration": 16,
    "start_time": "2022-10-23T12:23:45.226Z"
   },
   {
    "duration": 13,
    "start_time": "2022-10-23T12:23:45.244Z"
   },
   {
    "duration": 3,
    "start_time": "2022-10-23T12:23:45.259Z"
   },
   {
    "duration": 12,
    "start_time": "2022-10-23T12:23:45.263Z"
   },
   {
    "duration": 5,
    "start_time": "2022-10-23T12:23:45.276Z"
   },
   {
    "duration": 3,
    "start_time": "2022-10-23T12:23:45.282Z"
   },
   {
    "duration": 34,
    "start_time": "2022-10-23T12:23:45.287Z"
   },
   {
    "duration": 323,
    "start_time": "2022-10-23T12:23:45.323Z"
   },
   {
    "duration": 87,
    "start_time": "2022-10-23T12:23:45.647Z"
   },
   {
    "duration": 107,
    "start_time": "2022-10-23T12:23:45.735Z"
   },
   {
    "duration": 13,
    "start_time": "2022-10-23T12:23:45.844Z"
   },
   {
    "duration": 11,
    "start_time": "2022-10-23T12:23:45.859Z"
   },
   {
    "duration": 485,
    "start_time": "2022-10-23T12:27:23.177Z"
   },
   {
    "duration": 20,
    "start_time": "2022-10-23T12:27:23.664Z"
   },
   {
    "duration": 18,
    "start_time": "2022-10-23T12:27:23.686Z"
   },
   {
    "duration": 16,
    "start_time": "2022-10-23T12:27:23.706Z"
   },
   {
    "duration": 32,
    "start_time": "2022-10-23T12:27:23.724Z"
   },
   {
    "duration": 3,
    "start_time": "2022-10-23T12:27:23.757Z"
   },
   {
    "duration": 20,
    "start_time": "2022-10-23T12:27:23.761Z"
   },
   {
    "duration": 46,
    "start_time": "2022-10-23T12:27:23.782Z"
   },
   {
    "duration": 14,
    "start_time": "2022-10-23T12:27:23.830Z"
   },
   {
    "duration": 4,
    "start_time": "2022-10-23T12:27:23.847Z"
   },
   {
    "duration": 30,
    "start_time": "2022-10-23T12:27:23.853Z"
   },
   {
    "duration": 8,
    "start_time": "2022-10-23T12:27:23.885Z"
   },
   {
    "duration": 24,
    "start_time": "2022-10-23T12:27:23.894Z"
   },
   {
    "duration": 36,
    "start_time": "2022-10-23T12:27:23.919Z"
   },
   {
    "duration": 33,
    "start_time": "2022-10-23T12:27:23.957Z"
   },
   {
    "duration": 14,
    "start_time": "2022-10-23T12:27:23.991Z"
   },
   {
    "duration": 21,
    "start_time": "2022-10-23T12:27:24.006Z"
   },
   {
    "duration": 44,
    "start_time": "2022-10-23T12:27:24.028Z"
   },
   {
    "duration": 5,
    "start_time": "2022-10-23T12:27:24.073Z"
   },
   {
    "duration": 5,
    "start_time": "2022-10-23T12:27:24.079Z"
   },
   {
    "duration": 14,
    "start_time": "2022-10-23T12:27:24.085Z"
   },
   {
    "duration": 308,
    "start_time": "2022-10-23T12:27:24.101Z"
   },
   {
    "duration": 91,
    "start_time": "2022-10-23T12:27:24.410Z"
   },
   {
    "duration": 126,
    "start_time": "2022-10-23T12:27:24.503Z"
   },
   {
    "duration": 7,
    "start_time": "2022-10-23T12:27:24.631Z"
   },
   {
    "duration": 28,
    "start_time": "2022-10-23T12:27:24.639Z"
   },
   {
    "duration": 459,
    "start_time": "2022-10-23T12:29:37.813Z"
   },
   {
    "duration": 22,
    "start_time": "2022-10-23T12:29:38.274Z"
   },
   {
    "duration": 23,
    "start_time": "2022-10-23T12:29:38.298Z"
   },
   {
    "duration": 13,
    "start_time": "2022-10-23T12:29:38.324Z"
   },
   {
    "duration": 43,
    "start_time": "2022-10-23T12:29:38.339Z"
   },
   {
    "duration": 4,
    "start_time": "2022-10-23T12:29:38.384Z"
   },
   {
    "duration": 32,
    "start_time": "2022-10-23T12:29:38.390Z"
   },
   {
    "duration": 5,
    "start_time": "2022-10-23T12:29:38.424Z"
   },
   {
    "duration": 12,
    "start_time": "2022-10-23T12:29:38.431Z"
   },
   {
    "duration": 4,
    "start_time": "2022-10-23T12:29:38.446Z"
   },
   {
    "duration": 42,
    "start_time": "2022-10-23T12:29:38.452Z"
   },
   {
    "duration": 26,
    "start_time": "2022-10-23T12:29:38.496Z"
   },
   {
    "duration": 5,
    "start_time": "2022-10-23T12:29:38.524Z"
   },
   {
    "duration": 15,
    "start_time": "2022-10-23T12:29:38.530Z"
   },
   {
    "duration": 19,
    "start_time": "2022-10-23T12:29:38.547Z"
   },
   {
    "duration": 15,
    "start_time": "2022-10-23T12:29:38.567Z"
   },
   {
    "duration": 3,
    "start_time": "2022-10-23T12:29:38.584Z"
   },
   {
    "duration": 36,
    "start_time": "2022-10-23T12:29:38.588Z"
   },
   {
    "duration": 6,
    "start_time": "2022-10-23T12:29:38.625Z"
   },
   {
    "duration": 4,
    "start_time": "2022-10-23T12:29:38.633Z"
   },
   {
    "duration": 11,
    "start_time": "2022-10-23T12:29:38.638Z"
   },
   {
    "duration": 394,
    "start_time": "2022-10-23T12:29:38.651Z"
   },
   {
    "duration": 108,
    "start_time": "2022-10-23T12:29:39.047Z"
   },
   {
    "duration": 142,
    "start_time": "2022-10-23T12:29:39.157Z"
   },
   {
    "duration": 21,
    "start_time": "2022-10-23T12:29:39.301Z"
   },
   {
    "duration": 11,
    "start_time": "2022-10-23T12:29:39.323Z"
   },
   {
    "duration": 218141,
    "start_time": "2022-10-23T12:29:39.336Z"
   },
   {
    "duration": 78,
    "start_time": "2022-10-23T12:33:17.479Z"
   },
   {
    "duration": 11,
    "start_time": "2022-10-23T12:36:19.030Z"
   },
   {
    "duration": 118,
    "start_time": "2022-10-23T12:39:24.754Z"
   },
   {
    "duration": 13,
    "start_time": "2022-10-23T12:39:51.873Z"
   },
   {
    "duration": 13,
    "start_time": "2022-10-23T12:40:14.575Z"
   },
   {
    "duration": 113,
    "start_time": "2022-10-23T12:40:33.294Z"
   },
   {
    "duration": 129,
    "start_time": "2022-10-23T12:40:52.218Z"
   },
   {
    "duration": 112,
    "start_time": "2022-10-23T12:43:59.445Z"
   },
   {
    "duration": 59,
    "start_time": "2022-10-23T13:00:49.926Z"
   },
   {
    "duration": 494,
    "start_time": "2022-10-23T13:00:57.550Z"
   },
   {
    "duration": 21,
    "start_time": "2022-10-23T13:00:58.052Z"
   },
   {
    "duration": 14,
    "start_time": "2022-10-23T13:00:58.075Z"
   },
   {
    "duration": 8,
    "start_time": "2022-10-23T13:00:58.091Z"
   },
   {
    "duration": 58,
    "start_time": "2022-10-23T13:00:58.101Z"
   },
   {
    "duration": 3,
    "start_time": "2022-10-23T13:00:58.161Z"
   },
   {
    "duration": 11,
    "start_time": "2022-10-23T13:00:58.165Z"
   },
   {
    "duration": 6,
    "start_time": "2022-10-23T13:00:58.177Z"
   },
   {
    "duration": 12,
    "start_time": "2022-10-23T13:00:58.184Z"
   },
   {
    "duration": 4,
    "start_time": "2022-10-23T13:00:58.197Z"
   },
   {
    "duration": 61,
    "start_time": "2022-10-23T13:00:58.202Z"
   },
   {
    "duration": 9,
    "start_time": "2022-10-23T13:00:58.264Z"
   },
   {
    "duration": 12,
    "start_time": "2022-10-23T13:00:58.274Z"
   },
   {
    "duration": 14,
    "start_time": "2022-10-23T13:00:58.288Z"
   },
   {
    "duration": 30,
    "start_time": "2022-10-23T13:00:58.303Z"
   },
   {
    "duration": 20,
    "start_time": "2022-10-23T13:00:58.334Z"
   },
   {
    "duration": 8,
    "start_time": "2022-10-23T13:00:58.356Z"
   },
   {
    "duration": 11,
    "start_time": "2022-10-23T13:00:58.365Z"
   },
   {
    "duration": 5,
    "start_time": "2022-10-23T13:00:58.377Z"
   },
   {
    "duration": 3,
    "start_time": "2022-10-23T13:00:58.384Z"
   },
   {
    "duration": 13,
    "start_time": "2022-10-23T13:00:58.388Z"
   },
   {
    "duration": 379,
    "start_time": "2022-10-23T13:00:58.402Z"
   },
   {
    "duration": 118,
    "start_time": "2022-10-23T13:00:58.783Z"
   },
   {
    "duration": 94,
    "start_time": "2022-10-23T13:00:58.903Z"
   },
   {
    "duration": 0,
    "start_time": "2022-10-23T13:00:58.998Z"
   },
   {
    "duration": 0,
    "start_time": "2022-10-23T13:00:59.000Z"
   },
   {
    "duration": 0,
    "start_time": "2022-10-23T13:00:59.001Z"
   },
   {
    "duration": 0,
    "start_time": "2022-10-23T13:00:59.002Z"
   },
   {
    "duration": 0,
    "start_time": "2022-10-23T13:00:59.003Z"
   },
   {
    "duration": 120,
    "start_time": "2022-10-23T13:01:35.876Z"
   },
   {
    "duration": 78,
    "start_time": "2022-10-23T13:01:39.355Z"
   },
   {
    "duration": 12,
    "start_time": "2022-10-23T13:01:59.053Z"
   },
   {
    "duration": 13,
    "start_time": "2022-10-23T13:03:38.423Z"
   },
   {
    "duration": 105,
    "start_time": "2022-10-23T13:03:49.395Z"
   },
   {
    "duration": 126,
    "start_time": "2022-10-23T13:04:52.853Z"
   },
   {
    "duration": 11,
    "start_time": "2022-10-23T13:05:30.157Z"
   },
   {
    "duration": 34,
    "start_time": "2022-10-23T13:05:52.666Z"
   },
   {
    "duration": 10,
    "start_time": "2022-10-23T13:05:59.192Z"
   },
   {
    "duration": 11,
    "start_time": "2022-10-23T13:07:08.157Z"
   },
   {
    "duration": 15,
    "start_time": "2022-10-23T13:08:02.652Z"
   },
   {
    "duration": 9,
    "start_time": "2022-10-23T13:08:15.696Z"
   },
   {
    "duration": 9,
    "start_time": "2022-10-23T13:08:25.389Z"
   },
   {
    "duration": 8,
    "start_time": "2022-10-23T13:09:21.775Z"
   },
   {
    "duration": 15,
    "start_time": "2022-10-23T13:09:42.684Z"
   },
   {
    "duration": 174,
    "start_time": "2022-10-23T13:21:17.254Z"
   },
   {
    "duration": 10,
    "start_time": "2022-10-23T13:22:14.098Z"
   },
   {
    "duration": 117,
    "start_time": "2022-10-23T13:25:37.371Z"
   },
   {
    "duration": 116,
    "start_time": "2022-10-23T13:25:49.550Z"
   },
   {
    "duration": 96,
    "start_time": "2022-10-23T15:46:21.045Z"
   },
   {
    "duration": 425,
    "start_time": "2022-10-23T15:46:27.348Z"
   },
   {
    "duration": 32,
    "start_time": "2022-10-23T15:46:27.774Z"
   },
   {
    "duration": 17,
    "start_time": "2022-10-23T15:46:27.808Z"
   },
   {
    "duration": 9,
    "start_time": "2022-10-23T15:46:27.827Z"
   },
   {
    "duration": 30,
    "start_time": "2022-10-23T15:46:27.838Z"
   },
   {
    "duration": 9,
    "start_time": "2022-10-23T15:46:27.870Z"
   },
   {
    "duration": 11,
    "start_time": "2022-10-23T15:46:27.895Z"
   },
   {
    "duration": 5,
    "start_time": "2022-10-23T15:46:27.907Z"
   },
   {
    "duration": 9,
    "start_time": "2022-10-23T15:46:27.914Z"
   },
   {
    "duration": 5,
    "start_time": "2022-10-23T15:46:27.927Z"
   },
   {
    "duration": 32,
    "start_time": "2022-10-23T15:46:27.934Z"
   },
   {
    "duration": 32,
    "start_time": "2022-10-23T15:46:27.968Z"
   },
   {
    "duration": 5,
    "start_time": "2022-10-23T15:46:28.001Z"
   },
   {
    "duration": 10,
    "start_time": "2022-10-23T15:46:28.008Z"
   },
   {
    "duration": 22,
    "start_time": "2022-10-23T15:46:28.019Z"
   },
   {
    "duration": 15,
    "start_time": "2022-10-23T15:46:28.043Z"
   },
   {
    "duration": 3,
    "start_time": "2022-10-23T15:46:28.060Z"
   },
   {
    "duration": 23,
    "start_time": "2022-10-23T15:46:28.090Z"
   },
   {
    "duration": 5,
    "start_time": "2022-10-23T15:46:28.115Z"
   },
   {
    "duration": 4,
    "start_time": "2022-10-23T15:46:28.121Z"
   },
   {
    "duration": 9,
    "start_time": "2022-10-23T15:46:28.127Z"
   },
   {
    "duration": 88,
    "start_time": "2022-10-23T15:46:28.138Z"
   },
   {
    "duration": 0,
    "start_time": "2022-10-23T15:46:28.227Z"
   },
   {
    "duration": 0,
    "start_time": "2022-10-23T15:46:28.228Z"
   },
   {
    "duration": 0,
    "start_time": "2022-10-23T15:46:28.229Z"
   },
   {
    "duration": 0,
    "start_time": "2022-10-23T15:46:28.230Z"
   },
   {
    "duration": 0,
    "start_time": "2022-10-23T15:46:28.231Z"
   },
   {
    "duration": 0,
    "start_time": "2022-10-23T15:46:28.232Z"
   },
   {
    "duration": 0,
    "start_time": "2022-10-23T15:46:28.233Z"
   },
   {
    "duration": 370,
    "start_time": "2022-10-23T15:46:40.327Z"
   },
   {
    "duration": 487,
    "start_time": "2022-10-23T15:47:23.005Z"
   },
   {
    "duration": 28,
    "start_time": "2022-10-23T15:47:23.497Z"
   },
   {
    "duration": 17,
    "start_time": "2022-10-23T15:47:23.527Z"
   },
   {
    "duration": 11,
    "start_time": "2022-10-23T15:47:23.546Z"
   },
   {
    "duration": 58,
    "start_time": "2022-10-23T15:47:23.559Z"
   },
   {
    "duration": 3,
    "start_time": "2022-10-23T15:47:23.619Z"
   },
   {
    "duration": 10,
    "start_time": "2022-10-23T15:47:23.623Z"
   },
   {
    "duration": 4,
    "start_time": "2022-10-23T15:47:23.635Z"
   },
   {
    "duration": 7,
    "start_time": "2022-10-23T15:47:23.641Z"
   },
   {
    "duration": 4,
    "start_time": "2022-10-23T15:47:23.652Z"
   },
   {
    "duration": 76,
    "start_time": "2022-10-23T15:47:23.658Z"
   },
   {
    "duration": 9,
    "start_time": "2022-10-23T15:47:23.735Z"
   },
   {
    "duration": 4,
    "start_time": "2022-10-23T15:47:23.745Z"
   },
   {
    "duration": 11,
    "start_time": "2022-10-23T15:47:23.751Z"
   },
   {
    "duration": 47,
    "start_time": "2022-10-23T15:47:23.764Z"
   },
   {
    "duration": 16,
    "start_time": "2022-10-23T15:47:23.813Z"
   },
   {
    "duration": 3,
    "start_time": "2022-10-23T15:47:23.831Z"
   },
   {
    "duration": 12,
    "start_time": "2022-10-23T15:47:23.835Z"
   },
   {
    "duration": 5,
    "start_time": "2022-10-23T15:47:23.848Z"
   },
   {
    "duration": 6,
    "start_time": "2022-10-23T15:47:23.854Z"
   },
   {
    "duration": 46,
    "start_time": "2022-10-23T15:47:23.861Z"
   },
   {
    "duration": 369,
    "start_time": "2022-10-23T15:47:23.908Z"
   },
   {
    "duration": 29,
    "start_time": "2022-10-23T15:47:24.279Z"
   },
   {
    "duration": 144,
    "start_time": "2022-10-23T15:47:24.310Z"
   },
   {
    "duration": 12,
    "start_time": "2022-10-23T15:47:24.455Z"
   },
   {
    "duration": 141,
    "start_time": "2022-10-23T15:47:24.468Z"
   },
   {
    "duration": 11,
    "start_time": "2022-10-23T15:47:24.610Z"
   },
   {
    "duration": 142,
    "start_time": "2022-10-23T15:47:24.624Z"
   },
   {
    "duration": 11,
    "start_time": "2022-10-23T15:47:24.767Z"
   },
   {
    "duration": 477,
    "start_time": "2022-10-23T16:06:05.963Z"
   },
   {
    "duration": 25,
    "start_time": "2022-10-23T16:06:06.442Z"
   },
   {
    "duration": 38,
    "start_time": "2022-10-23T16:06:06.468Z"
   },
   {
    "duration": 12,
    "start_time": "2022-10-23T16:06:06.510Z"
   },
   {
    "duration": 43,
    "start_time": "2022-10-23T16:06:06.525Z"
   },
   {
    "duration": 4,
    "start_time": "2022-10-23T16:06:06.571Z"
   },
   {
    "duration": 30,
    "start_time": "2022-10-23T16:06:06.576Z"
   },
   {
    "duration": 7,
    "start_time": "2022-10-23T16:06:06.613Z"
   },
   {
    "duration": 8,
    "start_time": "2022-10-23T16:06:06.623Z"
   },
   {
    "duration": 8,
    "start_time": "2022-10-23T16:06:06.633Z"
   },
   {
    "duration": 64,
    "start_time": "2022-10-23T16:06:06.642Z"
   },
   {
    "duration": 12,
    "start_time": "2022-10-23T16:06:06.709Z"
   },
   {
    "duration": 5,
    "start_time": "2022-10-23T16:06:06.723Z"
   },
   {
    "duration": 16,
    "start_time": "2022-10-23T16:06:06.731Z"
   },
   {
    "duration": 46,
    "start_time": "2022-10-23T16:06:06.750Z"
   },
   {
    "duration": 26,
    "start_time": "2022-10-23T16:06:06.801Z"
   },
   {
    "duration": 4,
    "start_time": "2022-10-23T16:06:06.829Z"
   },
   {
    "duration": 12,
    "start_time": "2022-10-23T16:06:06.835Z"
   },
   {
    "duration": 9,
    "start_time": "2022-10-23T16:06:06.849Z"
   },
   {
    "duration": 4,
    "start_time": "2022-10-23T16:06:06.859Z"
   },
   {
    "duration": 37,
    "start_time": "2022-10-23T16:06:06.865Z"
   },
   {
    "duration": 386,
    "start_time": "2022-10-23T16:06:06.907Z"
   },
   {
    "duration": 13,
    "start_time": "2022-10-23T16:06:07.298Z"
   },
   {
    "duration": 130,
    "start_time": "2022-10-23T16:06:07.313Z"
   },
   {
    "duration": 12,
    "start_time": "2022-10-23T16:06:07.444Z"
   },
   {
    "duration": 136,
    "start_time": "2022-10-23T16:06:07.458Z"
   },
   {
    "duration": 12,
    "start_time": "2022-10-23T16:06:07.596Z"
   },
   {
    "duration": 151,
    "start_time": "2022-10-23T16:06:07.609Z"
   },
   {
    "duration": 12,
    "start_time": "2022-10-23T16:06:07.761Z"
   },
   {
    "duration": 46,
    "start_time": "2022-10-23T18:18:06.878Z"
   },
   {
    "duration": 7,
    "start_time": "2022-10-23T18:18:12.843Z"
   },
   {
    "duration": 689,
    "start_time": "2022-10-23T18:18:16.774Z"
   },
   {
    "duration": 22,
    "start_time": "2022-10-23T18:18:17.465Z"
   },
   {
    "duration": 16,
    "start_time": "2022-10-23T18:18:17.489Z"
   },
   {
    "duration": 13,
    "start_time": "2022-10-23T18:18:17.507Z"
   },
   {
    "duration": 43,
    "start_time": "2022-10-23T18:18:17.521Z"
   },
   {
    "duration": 3,
    "start_time": "2022-10-23T18:18:17.566Z"
   },
   {
    "duration": 23,
    "start_time": "2022-10-23T18:18:17.571Z"
   },
   {
    "duration": 8,
    "start_time": "2022-10-23T18:18:17.596Z"
   },
   {
    "duration": 19,
    "start_time": "2022-10-23T18:18:17.605Z"
   },
   {
    "duration": 10,
    "start_time": "2022-10-23T18:18:17.626Z"
   },
   {
    "duration": 49,
    "start_time": "2022-10-23T18:18:17.637Z"
   },
   {
    "duration": 10,
    "start_time": "2022-10-23T18:18:17.688Z"
   },
   {
    "duration": 19,
    "start_time": "2022-10-23T18:18:17.699Z"
   },
   {
    "duration": 18,
    "start_time": "2022-10-23T18:18:17.720Z"
   },
   {
    "duration": 34,
    "start_time": "2022-10-23T18:18:17.739Z"
   },
   {
    "duration": 17,
    "start_time": "2022-10-23T18:18:17.775Z"
   },
   {
    "duration": 4,
    "start_time": "2022-10-23T18:18:17.794Z"
   },
   {
    "duration": 25,
    "start_time": "2022-10-23T18:18:17.800Z"
   },
   {
    "duration": 14,
    "start_time": "2022-10-23T18:18:17.827Z"
   },
   {
    "duration": 18,
    "start_time": "2022-10-23T18:18:17.842Z"
   },
   {
    "duration": 33,
    "start_time": "2022-10-23T18:18:17.862Z"
   },
   {
    "duration": 572,
    "start_time": "2022-10-23T18:18:17.896Z"
   },
   {
    "duration": 11,
    "start_time": "2022-10-23T18:18:18.470Z"
   },
   {
    "duration": 144,
    "start_time": "2022-10-23T18:18:18.482Z"
   },
   {
    "duration": 11,
    "start_time": "2022-10-23T18:18:18.628Z"
   },
   {
    "duration": 121,
    "start_time": "2022-10-23T18:18:18.640Z"
   },
   {
    "duration": 10,
    "start_time": "2022-10-23T18:18:18.763Z"
   },
   {
    "duration": 139,
    "start_time": "2022-10-23T18:18:18.774Z"
   },
   {
    "duration": 11,
    "start_time": "2022-10-23T18:18:18.916Z"
   },
   {
    "duration": 52,
    "start_time": "2022-10-23T18:32:43.564Z"
   },
   {
    "duration": 7,
    "start_time": "2022-10-23T18:33:07.536Z"
   },
   {
    "duration": 15,
    "start_time": "2022-10-23T18:33:16.781Z"
   },
   {
    "duration": 74,
    "start_time": "2022-10-23T18:33:55.813Z"
   },
   {
    "duration": 64,
    "start_time": "2022-10-23T18:33:55.889Z"
   },
   {
    "duration": 20,
    "start_time": "2022-10-23T18:33:55.955Z"
   },
   {
    "duration": 19,
    "start_time": "2022-10-23T18:33:55.977Z"
   },
   {
    "duration": 49,
    "start_time": "2022-10-23T18:33:55.998Z"
   },
   {
    "duration": 3,
    "start_time": "2022-10-23T18:33:56.048Z"
   },
   {
    "duration": 14,
    "start_time": "2022-10-23T18:33:56.053Z"
   },
   {
    "duration": 4,
    "start_time": "2022-10-23T18:33:56.068Z"
   },
   {
    "duration": 5,
    "start_time": "2022-10-23T18:33:56.074Z"
   },
   {
    "duration": 4,
    "start_time": "2022-10-23T18:33:56.081Z"
   },
   {
    "duration": 57,
    "start_time": "2022-10-23T18:33:56.086Z"
   },
   {
    "duration": 9,
    "start_time": "2022-10-23T18:33:56.145Z"
   },
   {
    "duration": 3,
    "start_time": "2022-10-23T18:33:56.156Z"
   },
   {
    "duration": 10,
    "start_time": "2022-10-23T18:33:56.161Z"
   },
   {
    "duration": 16,
    "start_time": "2022-10-23T18:33:56.173Z"
   },
   {
    "duration": 47,
    "start_time": "2022-10-23T18:33:56.191Z"
   },
   {
    "duration": 3,
    "start_time": "2022-10-23T18:33:56.240Z"
   },
   {
    "duration": 11,
    "start_time": "2022-10-23T18:33:56.245Z"
   },
   {
    "duration": 5,
    "start_time": "2022-10-23T18:33:56.257Z"
   },
   {
    "duration": 3,
    "start_time": "2022-10-23T18:33:56.264Z"
   },
   {
    "duration": 10,
    "start_time": "2022-10-23T18:33:56.269Z"
   },
   {
    "duration": 132,
    "start_time": "2022-10-23T18:33:56.281Z"
   },
   {
    "duration": 16,
    "start_time": "2022-10-23T18:33:56.415Z"
   },
   {
    "duration": 125,
    "start_time": "2022-10-23T18:33:56.433Z"
   },
   {
    "duration": 11,
    "start_time": "2022-10-23T18:33:56.559Z"
   },
   {
    "duration": 118,
    "start_time": "2022-10-23T18:33:56.572Z"
   },
   {
    "duration": 11,
    "start_time": "2022-10-23T18:33:56.692Z"
   },
   {
    "duration": 25,
    "start_time": "2022-10-23T18:33:56.705Z"
   },
   {
    "duration": 134,
    "start_time": "2022-10-23T18:33:56.732Z"
   },
   {
    "duration": 12,
    "start_time": "2022-10-23T18:33:56.868Z"
   },
   {
    "duration": 70,
    "start_time": "2022-10-23T18:46:19.059Z"
   },
   {
    "duration": 72,
    "start_time": "2022-10-23T18:46:28.442Z"
   },
   {
    "duration": 14,
    "start_time": "2022-10-23T18:46:28.516Z"
   },
   {
    "duration": 14,
    "start_time": "2022-10-23T18:46:28.532Z"
   },
   {
    "duration": 8,
    "start_time": "2022-10-23T18:46:28.548Z"
   },
   {
    "duration": 31,
    "start_time": "2022-10-23T18:46:28.558Z"
   },
   {
    "duration": 3,
    "start_time": "2022-10-23T18:46:28.590Z"
   },
   {
    "duration": 30,
    "start_time": "2022-10-23T18:46:28.595Z"
   },
   {
    "duration": 7,
    "start_time": "2022-10-23T18:46:28.627Z"
   },
   {
    "duration": 6,
    "start_time": "2022-10-23T18:46:28.635Z"
   },
   {
    "duration": 5,
    "start_time": "2022-10-23T18:46:28.643Z"
   },
   {
    "duration": 31,
    "start_time": "2022-10-23T18:46:28.650Z"
   },
   {
    "duration": 10,
    "start_time": "2022-10-23T18:46:28.683Z"
   },
   {
    "duration": 32,
    "start_time": "2022-10-23T18:46:28.695Z"
   },
   {
    "duration": 11,
    "start_time": "2022-10-23T18:46:28.729Z"
   },
   {
    "duration": 21,
    "start_time": "2022-10-23T18:46:28.741Z"
   },
   {
    "duration": 16,
    "start_time": "2022-10-23T18:46:28.764Z"
   },
   {
    "duration": 3,
    "start_time": "2022-10-23T18:46:28.782Z"
   },
   {
    "duration": 39,
    "start_time": "2022-10-23T18:46:28.786Z"
   },
   {
    "duration": 6,
    "start_time": "2022-10-23T18:46:28.826Z"
   },
   {
    "duration": 3,
    "start_time": "2022-10-23T18:46:28.835Z"
   },
   {
    "duration": 9,
    "start_time": "2022-10-23T18:46:28.840Z"
   },
   {
    "duration": 137,
    "start_time": "2022-10-23T18:46:28.851Z"
   },
   {
    "duration": 11,
    "start_time": "2022-10-23T18:46:28.989Z"
   },
   {
    "duration": 134,
    "start_time": "2022-10-23T18:46:29.001Z"
   },
   {
    "duration": 10,
    "start_time": "2022-10-23T18:46:29.137Z"
   },
   {
    "duration": 114,
    "start_time": "2022-10-23T18:46:29.149Z"
   },
   {
    "duration": 11,
    "start_time": "2022-10-23T18:46:29.266Z"
   },
   {
    "duration": 91,
    "start_time": "2022-10-23T18:46:29.279Z"
   },
   {
    "duration": 0,
    "start_time": "2022-10-23T18:46:29.371Z"
   },
   {
    "duration": 0,
    "start_time": "2022-10-23T18:46:29.373Z"
   },
   {
    "duration": 70,
    "start_time": "2022-10-23T18:46:42.765Z"
   },
   {
    "duration": 89,
    "start_time": "2022-10-23T18:47:19.354Z"
   },
   {
    "duration": 67,
    "start_time": "2022-10-23T18:47:29.799Z"
   },
   {
    "duration": 98,
    "start_time": "2022-10-23T18:56:49.557Z"
   },
   {
    "duration": 3,
    "start_time": "2022-10-23T18:57:21.102Z"
   },
   {
    "duration": 71,
    "start_time": "2022-10-23T18:57:32.702Z"
   },
   {
    "duration": 77,
    "start_time": "2022-10-24T09:48:50.045Z"
   },
   {
    "duration": 655,
    "start_time": "2022-10-24T09:53:12.488Z"
   },
   {
    "duration": 20,
    "start_time": "2022-10-24T09:53:13.145Z"
   },
   {
    "duration": 15,
    "start_time": "2022-10-24T09:53:13.167Z"
   },
   {
    "duration": 9,
    "start_time": "2022-10-24T09:53:13.184Z"
   },
   {
    "duration": 41,
    "start_time": "2022-10-24T09:53:13.195Z"
   },
   {
    "duration": 3,
    "start_time": "2022-10-24T09:53:13.237Z"
   },
   {
    "duration": 10,
    "start_time": "2022-10-24T09:53:13.242Z"
   },
   {
    "duration": 3,
    "start_time": "2022-10-24T09:53:13.254Z"
   },
   {
    "duration": 9,
    "start_time": "2022-10-24T09:53:13.259Z"
   },
   {
    "duration": 4,
    "start_time": "2022-10-24T09:53:13.270Z"
   },
   {
    "duration": 60,
    "start_time": "2022-10-24T09:53:13.275Z"
   },
   {
    "duration": 9,
    "start_time": "2022-10-24T09:53:13.336Z"
   },
   {
    "duration": 6,
    "start_time": "2022-10-24T09:53:13.347Z"
   },
   {
    "duration": 13,
    "start_time": "2022-10-24T09:53:13.355Z"
   },
   {
    "duration": 25,
    "start_time": "2022-10-24T09:53:13.370Z"
   },
   {
    "duration": 30,
    "start_time": "2022-10-24T09:53:13.396Z"
   },
   {
    "duration": 3,
    "start_time": "2022-10-24T09:53:13.428Z"
   },
   {
    "duration": 11,
    "start_time": "2022-10-24T09:53:13.433Z"
   },
   {
    "duration": 8,
    "start_time": "2022-10-24T09:53:13.446Z"
   },
   {
    "duration": 4,
    "start_time": "2022-10-24T09:53:13.455Z"
   },
   {
    "duration": 11,
    "start_time": "2022-10-24T09:53:13.461Z"
   },
   {
    "duration": 496,
    "start_time": "2022-10-24T09:53:13.474Z"
   },
   {
    "duration": 10,
    "start_time": "2022-10-24T09:53:13.972Z"
   },
   {
    "duration": 123,
    "start_time": "2022-10-24T09:53:13.983Z"
   },
   {
    "duration": 16,
    "start_time": "2022-10-24T09:53:14.108Z"
   },
   {
    "duration": 109,
    "start_time": "2022-10-24T09:53:14.125Z"
   },
   {
    "duration": 10,
    "start_time": "2022-10-24T09:53:14.235Z"
   },
   {
    "duration": 69,
    "start_time": "2022-10-24T09:53:14.247Z"
   },
   {
    "duration": 0,
    "start_time": "2022-10-24T09:53:14.317Z"
   },
   {
    "duration": 0,
    "start_time": "2022-10-24T09:53:14.318Z"
   },
   {
    "duration": 74,
    "start_time": "2022-10-24T09:54:23.078Z"
   },
   {
    "duration": 65,
    "start_time": "2022-10-24T09:54:44.889Z"
   },
   {
    "duration": 80,
    "start_time": "2022-10-24T09:55:04.816Z"
   },
   {
    "duration": 68,
    "start_time": "2022-10-24T10:43:08.984Z"
   },
   {
    "duration": 14,
    "start_time": "2022-10-24T10:43:09.053Z"
   },
   {
    "duration": 20,
    "start_time": "2022-10-24T10:43:09.069Z"
   },
   {
    "duration": 9,
    "start_time": "2022-10-24T10:43:09.090Z"
   },
   {
    "duration": 46,
    "start_time": "2022-10-24T10:43:09.101Z"
   },
   {
    "duration": 4,
    "start_time": "2022-10-24T10:43:09.149Z"
   },
   {
    "duration": 11,
    "start_time": "2022-10-24T10:43:09.155Z"
   },
   {
    "duration": 5,
    "start_time": "2022-10-24T10:43:09.168Z"
   },
   {
    "duration": 10,
    "start_time": "2022-10-24T10:43:09.174Z"
   },
   {
    "duration": 4,
    "start_time": "2022-10-24T10:43:09.186Z"
   },
   {
    "duration": 70,
    "start_time": "2022-10-24T10:43:09.192Z"
   },
   {
    "duration": 9,
    "start_time": "2022-10-24T10:43:09.265Z"
   },
   {
    "duration": 4,
    "start_time": "2022-10-24T10:43:09.275Z"
   },
   {
    "duration": 11,
    "start_time": "2022-10-24T10:43:09.281Z"
   },
   {
    "duration": 45,
    "start_time": "2022-10-24T10:43:09.293Z"
   },
   {
    "duration": 20,
    "start_time": "2022-10-24T10:43:09.340Z"
   },
   {
    "duration": 5,
    "start_time": "2022-10-24T10:43:09.361Z"
   },
   {
    "duration": 19,
    "start_time": "2022-10-24T10:43:09.368Z"
   },
   {
    "duration": 12,
    "start_time": "2022-10-24T10:43:09.389Z"
   },
   {
    "duration": 21,
    "start_time": "2022-10-24T10:43:09.402Z"
   },
   {
    "duration": 24,
    "start_time": "2022-10-24T10:43:09.424Z"
   },
   {
    "duration": 127,
    "start_time": "2022-10-24T10:43:09.450Z"
   },
   {
    "duration": 9,
    "start_time": "2022-10-24T10:43:09.579Z"
   },
   {
    "duration": 178,
    "start_time": "2022-10-24T10:43:09.589Z"
   },
   {
    "duration": 10,
    "start_time": "2022-10-24T10:43:09.770Z"
   },
   {
    "duration": 73,
    "start_time": "2022-10-24T10:43:09.781Z"
   },
   {
    "duration": 0,
    "start_time": "2022-10-24T10:43:09.855Z"
   },
   {
    "duration": 0,
    "start_time": "2022-10-24T10:43:09.856Z"
   },
   {
    "duration": 0,
    "start_time": "2022-10-24T10:43:09.857Z"
   },
   {
    "duration": 0,
    "start_time": "2022-10-24T10:43:09.858Z"
   },
   {
    "duration": 23,
    "start_time": "2022-10-24T10:46:06.636Z"
   },
   {
    "duration": 98,
    "start_time": "2022-10-24T10:50:01.469Z"
   },
   {
    "duration": 23,
    "start_time": "2022-10-24T10:50:41.822Z"
   },
   {
    "duration": 129,
    "start_time": "2022-10-24T10:51:12.005Z"
   },
   {
    "duration": 10,
    "start_time": "2022-10-24T10:51:18.837Z"
   },
   {
    "duration": 120,
    "start_time": "2022-10-24T10:51:28.339Z"
   },
   {
    "duration": 11,
    "start_time": "2022-10-24T10:51:31.961Z"
   },
   {
    "duration": 102,
    "start_time": "2022-10-24T10:51:37.935Z"
   },
   {
    "duration": 16,
    "start_time": "2022-10-24T10:51:41.113Z"
   },
   {
    "duration": 111,
    "start_time": "2022-10-24T10:51:48.856Z"
   },
   {
    "duration": 9,
    "start_time": "2022-10-24T10:51:51.195Z"
   },
   {
    "duration": 97,
    "start_time": "2022-10-24T10:52:11.265Z"
   },
   {
    "duration": 9,
    "start_time": "2022-10-24T10:52:14.281Z"
   },
   {
    "duration": 114,
    "start_time": "2022-10-24T10:52:27.666Z"
   },
   {
    "duration": 11,
    "start_time": "2022-10-24T10:52:37.359Z"
   },
   {
    "duration": 118,
    "start_time": "2022-10-24T10:53:03.937Z"
   },
   {
    "duration": 12,
    "start_time": "2022-10-24T10:53:07.770Z"
   },
   {
    "duration": 99,
    "start_time": "2022-10-24T10:54:25.481Z"
   },
   {
    "duration": 12,
    "start_time": "2022-10-24T10:54:28.532Z"
   },
   {
    "duration": 15,
    "start_time": "2022-10-24T10:54:30.199Z"
   },
   {
    "duration": 77,
    "start_time": "2022-10-24T11:13:30.562Z"
   },
   {
    "duration": 14,
    "start_time": "2022-10-24T11:13:30.641Z"
   },
   {
    "duration": 28,
    "start_time": "2022-10-24T11:13:30.657Z"
   },
   {
    "duration": 24,
    "start_time": "2022-10-24T11:13:30.688Z"
   },
   {
    "duration": 53,
    "start_time": "2022-10-24T11:13:30.714Z"
   },
   {
    "duration": 4,
    "start_time": "2022-10-24T11:13:30.769Z"
   },
   {
    "duration": 23,
    "start_time": "2022-10-24T11:13:30.775Z"
   },
   {
    "duration": 43,
    "start_time": "2022-10-24T11:13:30.800Z"
   },
   {
    "duration": 26,
    "start_time": "2022-10-24T11:13:30.844Z"
   },
   {
    "duration": 21,
    "start_time": "2022-10-24T11:13:30.873Z"
   },
   {
    "duration": 47,
    "start_time": "2022-10-24T11:13:30.896Z"
   },
   {
    "duration": 15,
    "start_time": "2022-10-24T11:13:30.945Z"
   },
   {
    "duration": 17,
    "start_time": "2022-10-24T11:13:30.961Z"
   },
   {
    "duration": 24,
    "start_time": "2022-10-24T11:13:30.979Z"
   },
   {
    "duration": 69,
    "start_time": "2022-10-24T11:13:31.005Z"
   },
   {
    "duration": 23,
    "start_time": "2022-10-24T11:13:31.075Z"
   },
   {
    "duration": 15,
    "start_time": "2022-10-24T11:13:31.100Z"
   },
   {
    "duration": 35,
    "start_time": "2022-10-24T11:13:31.117Z"
   },
   {
    "duration": 9,
    "start_time": "2022-10-24T11:13:31.154Z"
   },
   {
    "duration": 19,
    "start_time": "2022-10-24T11:13:31.164Z"
   },
   {
    "duration": 96,
    "start_time": "2022-10-24T11:13:31.184Z"
   },
   {
    "duration": 193,
    "start_time": "2022-10-24T11:13:31.281Z"
   },
   {
    "duration": 9,
    "start_time": "2022-10-24T11:13:31.476Z"
   },
   {
    "duration": 215,
    "start_time": "2022-10-24T11:13:31.486Z"
   },
   {
    "duration": 27,
    "start_time": "2022-10-24T11:13:31.703Z"
   },
   {
    "duration": 126,
    "start_time": "2022-10-24T11:13:31.732Z"
   },
   {
    "duration": 0,
    "start_time": "2022-10-24T11:13:31.859Z"
   },
   {
    "duration": 0,
    "start_time": "2022-10-24T11:13:31.861Z"
   },
   {
    "duration": 0,
    "start_time": "2022-10-24T11:13:31.862Z"
   },
   {
    "duration": 0,
    "start_time": "2022-10-24T11:13:31.863Z"
   },
   {
    "duration": 106,
    "start_time": "2022-10-24T11:14:01.871Z"
   },
   {
    "duration": 252,
    "start_time": "2022-10-24T11:20:02.428Z"
   },
   {
    "duration": 108,
    "start_time": "2022-10-24T11:20:24.088Z"
   },
   {
    "duration": 99,
    "start_time": "2022-10-24T11:20:42.783Z"
   },
   {
    "duration": 101,
    "start_time": "2022-10-24T11:20:49.253Z"
   },
   {
    "duration": 107,
    "start_time": "2022-10-24T11:20:55.294Z"
   },
   {
    "duration": 139,
    "start_time": "2022-10-24T11:20:59.266Z"
   },
   {
    "duration": 80,
    "start_time": "2022-10-24T11:21:17.340Z"
   },
   {
    "duration": 115,
    "start_time": "2022-10-24T11:21:34.581Z"
   },
   {
    "duration": 138,
    "start_time": "2022-10-24T11:21:46.876Z"
   },
   {
    "duration": 93,
    "start_time": "2022-10-24T11:21:55.502Z"
   },
   {
    "duration": 118,
    "start_time": "2022-10-24T11:21:58.770Z"
   },
   {
    "duration": 13,
    "start_time": "2022-10-24T11:22:13.963Z"
   },
   {
    "duration": 112,
    "start_time": "2022-10-24T11:22:17.539Z"
   },
   {
    "duration": 106,
    "start_time": "2022-10-24T11:23:06.350Z"
   },
   {
    "duration": 187,
    "start_time": "2022-10-24T11:23:14.541Z"
   },
   {
    "duration": 122,
    "start_time": "2022-10-24T11:23:23.465Z"
   },
   {
    "duration": 110,
    "start_time": "2022-10-24T11:23:30.335Z"
   },
   {
    "duration": 11,
    "start_time": "2022-10-24T11:23:49.870Z"
   },
   {
    "duration": 17,
    "start_time": "2022-10-24T11:23:52.363Z"
   },
   {
    "duration": 119,
    "start_time": "2022-10-24T11:27:30.443Z"
   }
  ],
  "colab": {
   "name": "dpp_template_part2.ipynb",
   "provenance": []
  },
  "kernelspec": {
   "display_name": "Python 3 (ipykernel)",
   "language": "python",
   "name": "python3"
  },
  "language_info": {
   "codemirror_mode": {
    "name": "ipython",
    "version": 3
   },
   "file_extension": ".py",
   "mimetype": "text/x-python",
   "name": "python",
   "nbconvert_exporter": "python",
   "pygments_lexer": "ipython3",
   "version": "3.11.3"
  },
  "toc": {
   "base_numbering": 1,
   "nav_menu": {},
   "number_sections": true,
   "sideBar": true,
   "skip_h1_title": true,
   "title_cell": "Table of Contents",
   "title_sidebar": "Contents",
   "toc_cell": false,
   "toc_position": {},
   "toc_section_display": true,
   "toc_window_display": false
  }
 },
 "nbformat": 4,
 "nbformat_minor": 5
}
