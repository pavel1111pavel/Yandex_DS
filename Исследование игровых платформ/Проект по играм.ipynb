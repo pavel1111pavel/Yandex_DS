{
 "cells": [
  {
   "cell_type": "markdown",
   "metadata": {
    "id": "UrdAqC9kHbAo"
   },
   "source": [
    "# Начало проекта\n"
   ]
  },
  {
   "cell_type": "markdown",
   "metadata": {
    "id": "mpUeBtVyHbAq"
   },
   "source": [
    "##  импорт библиотек и открытие данных ##"
   ]
  },
  {
   "cell_type": "code",
   "execution_count": 47,
   "metadata": {
    "id": "87mljPXYHbAr"
   },
   "outputs": [],
   "source": [
    "import plotly.express as px\n",
    "import pandas as pd\n",
    "pd.set_option('display.max_columns', None)\n",
    "pd.set_option('display.max_rows', None)\n",
    "import numpy as np\n",
    "import seaborn as sns\n",
    "import matplotlib.pyplot as plt\n",
    "from scipy import stats as st\n",
    "\n",
    "try:\n",
    "    df = pd.read_csv('/datasets/games.csv.')\n",
    "except:\n",
    "    df = pd.read_csv('https://code.s3.yandex.net/datasets/games.csv')"
   ]
  },
  {
   "cell_type": "code",
   "execution_count": 48,
   "metadata": {
    "colab": {
     "base_uri": "https://localhost:8080/",
     "height": 363
    },
    "id": "SNgmyrC7HbAt",
    "outputId": "11bd805e-c5e5-43f3-89e1-99c9ec62b8c0"
   },
   "outputs": [
    {
     "data": {
      "text/html": [
       "<div>\n",
       "<style scoped>\n",
       "    .dataframe tbody tr th:only-of-type {\n",
       "        vertical-align: middle;\n",
       "    }\n",
       "\n",
       "    .dataframe tbody tr th {\n",
       "        vertical-align: top;\n",
       "    }\n",
       "\n",
       "    .dataframe thead th {\n",
       "        text-align: right;\n",
       "    }\n",
       "</style>\n",
       "<table border=\"1\" class=\"dataframe\">\n",
       "  <thead>\n",
       "    <tr style=\"text-align: right;\">\n",
       "      <th></th>\n",
       "      <th>Name</th>\n",
       "      <th>Platform</th>\n",
       "      <th>Year_of_Release</th>\n",
       "      <th>Genre</th>\n",
       "      <th>NA_sales</th>\n",
       "      <th>EU_sales</th>\n",
       "      <th>JP_sales</th>\n",
       "      <th>Other_sales</th>\n",
       "      <th>Critic_Score</th>\n",
       "      <th>User_Score</th>\n",
       "      <th>Rating</th>\n",
       "    </tr>\n",
       "  </thead>\n",
       "  <tbody>\n",
       "    <tr>\n",
       "      <th>0</th>\n",
       "      <td>Wii Sports</td>\n",
       "      <td>Wii</td>\n",
       "      <td>2006.0</td>\n",
       "      <td>Sports</td>\n",
       "      <td>41.36</td>\n",
       "      <td>28.96</td>\n",
       "      <td>3.77</td>\n",
       "      <td>8.45</td>\n",
       "      <td>76.0</td>\n",
       "      <td>8</td>\n",
       "      <td>E</td>\n",
       "    </tr>\n",
       "    <tr>\n",
       "      <th>1</th>\n",
       "      <td>Super Mario Bros.</td>\n",
       "      <td>NES</td>\n",
       "      <td>1985.0</td>\n",
       "      <td>Platform</td>\n",
       "      <td>29.08</td>\n",
       "      <td>3.58</td>\n",
       "      <td>6.81</td>\n",
       "      <td>0.77</td>\n",
       "      <td>NaN</td>\n",
       "      <td>NaN</td>\n",
       "      <td>NaN</td>\n",
       "    </tr>\n",
       "    <tr>\n",
       "      <th>2</th>\n",
       "      <td>Mario Kart Wii</td>\n",
       "      <td>Wii</td>\n",
       "      <td>2008.0</td>\n",
       "      <td>Racing</td>\n",
       "      <td>15.68</td>\n",
       "      <td>12.76</td>\n",
       "      <td>3.79</td>\n",
       "      <td>3.29</td>\n",
       "      <td>82.0</td>\n",
       "      <td>8.3</td>\n",
       "      <td>E</td>\n",
       "    </tr>\n",
       "    <tr>\n",
       "      <th>3</th>\n",
       "      <td>Wii Sports Resort</td>\n",
       "      <td>Wii</td>\n",
       "      <td>2009.0</td>\n",
       "      <td>Sports</td>\n",
       "      <td>15.61</td>\n",
       "      <td>10.93</td>\n",
       "      <td>3.28</td>\n",
       "      <td>2.95</td>\n",
       "      <td>80.0</td>\n",
       "      <td>8</td>\n",
       "      <td>E</td>\n",
       "    </tr>\n",
       "    <tr>\n",
       "      <th>4</th>\n",
       "      <td>Pokemon Red/Pokemon Blue</td>\n",
       "      <td>GB</td>\n",
       "      <td>1996.0</td>\n",
       "      <td>Role-Playing</td>\n",
       "      <td>11.27</td>\n",
       "      <td>8.89</td>\n",
       "      <td>10.22</td>\n",
       "      <td>1.00</td>\n",
       "      <td>NaN</td>\n",
       "      <td>NaN</td>\n",
       "      <td>NaN</td>\n",
       "    </tr>\n",
       "    <tr>\n",
       "      <th>5</th>\n",
       "      <td>Tetris</td>\n",
       "      <td>GB</td>\n",
       "      <td>1989.0</td>\n",
       "      <td>Puzzle</td>\n",
       "      <td>23.20</td>\n",
       "      <td>2.26</td>\n",
       "      <td>4.22</td>\n",
       "      <td>0.58</td>\n",
       "      <td>NaN</td>\n",
       "      <td>NaN</td>\n",
       "      <td>NaN</td>\n",
       "    </tr>\n",
       "    <tr>\n",
       "      <th>6</th>\n",
       "      <td>New Super Mario Bros.</td>\n",
       "      <td>DS</td>\n",
       "      <td>2006.0</td>\n",
       "      <td>Platform</td>\n",
       "      <td>11.28</td>\n",
       "      <td>9.14</td>\n",
       "      <td>6.50</td>\n",
       "      <td>2.88</td>\n",
       "      <td>89.0</td>\n",
       "      <td>8.5</td>\n",
       "      <td>E</td>\n",
       "    </tr>\n",
       "    <tr>\n",
       "      <th>7</th>\n",
       "      <td>Wii Play</td>\n",
       "      <td>Wii</td>\n",
       "      <td>2006.0</td>\n",
       "      <td>Misc</td>\n",
       "      <td>13.96</td>\n",
       "      <td>9.18</td>\n",
       "      <td>2.93</td>\n",
       "      <td>2.84</td>\n",
       "      <td>58.0</td>\n",
       "      <td>6.6</td>\n",
       "      <td>E</td>\n",
       "    </tr>\n",
       "    <tr>\n",
       "      <th>8</th>\n",
       "      <td>New Super Mario Bros. Wii</td>\n",
       "      <td>Wii</td>\n",
       "      <td>2009.0</td>\n",
       "      <td>Platform</td>\n",
       "      <td>14.44</td>\n",
       "      <td>6.94</td>\n",
       "      <td>4.70</td>\n",
       "      <td>2.24</td>\n",
       "      <td>87.0</td>\n",
       "      <td>8.4</td>\n",
       "      <td>E</td>\n",
       "    </tr>\n",
       "    <tr>\n",
       "      <th>9</th>\n",
       "      <td>Duck Hunt</td>\n",
       "      <td>NES</td>\n",
       "      <td>1984.0</td>\n",
       "      <td>Shooter</td>\n",
       "      <td>26.93</td>\n",
       "      <td>0.63</td>\n",
       "      <td>0.28</td>\n",
       "      <td>0.47</td>\n",
       "      <td>NaN</td>\n",
       "      <td>NaN</td>\n",
       "      <td>NaN</td>\n",
       "    </tr>\n",
       "  </tbody>\n",
       "</table>\n",
       "</div>"
      ],
      "text/plain": [
       "                        Name Platform  Year_of_Release         Genre  \\\n",
       "0                 Wii Sports      Wii           2006.0        Sports   \n",
       "1          Super Mario Bros.      NES           1985.0      Platform   \n",
       "2             Mario Kart Wii      Wii           2008.0        Racing   \n",
       "3          Wii Sports Resort      Wii           2009.0        Sports   \n",
       "4   Pokemon Red/Pokemon Blue       GB           1996.0  Role-Playing   \n",
       "5                     Tetris       GB           1989.0        Puzzle   \n",
       "6      New Super Mario Bros.       DS           2006.0      Platform   \n",
       "7                   Wii Play      Wii           2006.0          Misc   \n",
       "8  New Super Mario Bros. Wii      Wii           2009.0      Platform   \n",
       "9                  Duck Hunt      NES           1984.0       Shooter   \n",
       "\n",
       "   NA_sales  EU_sales  JP_sales  Other_sales  Critic_Score User_Score Rating  \n",
       "0     41.36     28.96      3.77         8.45          76.0          8      E  \n",
       "1     29.08      3.58      6.81         0.77           NaN        NaN    NaN  \n",
       "2     15.68     12.76      3.79         3.29          82.0        8.3      E  \n",
       "3     15.61     10.93      3.28         2.95          80.0          8      E  \n",
       "4     11.27      8.89     10.22         1.00           NaN        NaN    NaN  \n",
       "5     23.20      2.26      4.22         0.58           NaN        NaN    NaN  \n",
       "6     11.28      9.14      6.50         2.88          89.0        8.5      E  \n",
       "7     13.96      9.18      2.93         2.84          58.0        6.6      E  \n",
       "8     14.44      6.94      4.70         2.24          87.0        8.4      E  \n",
       "9     26.93      0.63      0.28         0.47           NaN        NaN    NaN  "
      ]
     },
     "execution_count": 48,
     "metadata": {},
     "output_type": "execute_result"
    }
   ],
   "source": [
    "data = df.copy()\n",
    "data.head(10)"
   ]
  },
  {
   "cell_type": "code",
   "execution_count": 49,
   "metadata": {
    "id": "6OfITOP4HbAu"
   },
   "outputs": [],
   "source": [
    "ny = pd.DataFrame(data[data['Year_of_Release'].notnull()].groupby('Name')['Year_of_Release'].first().reset_index())\n",
    "for a in df['Name'].unique():\n",
    "    rows = (df['Name']== a) & (df['Year_of_Release'].isna())\n",
    "    refill_years = ny.loc[ny['Name']==a, 'Year_of_Release']\n",
    "    if refill_years.shape[0]>0:\n",
    "        df.loc[rows ,'Year_of_Release'] = df.loc[rows ,'Year_of_Release'].fillna(float(refill_years))"
   ]
  },
  {
   "cell_type": "code",
   "execution_count": 50,
   "metadata": {
    "colab": {
     "base_uri": "https://localhost:8080/"
    },
    "id": "Y8j0FDCYHbAv",
    "outputId": "9c036afd-1070-46a7-d970-9694991274e0"
   },
   "outputs": [
    {
     "data": {
      "text/plain": [
       "(16715, 11)"
      ]
     },
     "execution_count": 50,
     "metadata": {},
     "output_type": "execute_result"
    }
   ],
   "source": [
    "data.shape"
   ]
  },
  {
   "cell_type": "code",
   "execution_count": 51,
   "metadata": {
    "id": "UkNy02ZlHbAv",
    "scrolled": true
   },
   "outputs": [],
   "source": [
    "data.columns = data.columns.str.lower()"
   ]
  },
  {
   "cell_type": "markdown",
   "metadata": {
    "id": "eFTViEA1HbAw"
   },
   "source": [
    "##  замена типов данных, замена значений ##"
   ]
  },
  {
   "cell_type": "code",
   "execution_count": 52,
   "metadata": {
    "colab": {
     "base_uri": "https://localhost:8080/"
    },
    "id": "WbMj0S4lHbAw",
    "outputId": "7426de09-ad24-4611-9d22-362ba04dbc79"
   },
   "outputs": [
    {
     "name": "stdout",
     "output_type": "stream",
     "text": [
      "<class 'pandas.core.frame.DataFrame'>\n",
      "RangeIndex: 16715 entries, 0 to 16714\n",
      "Data columns (total 11 columns):\n",
      " #   Column           Non-Null Count  Dtype  \n",
      "---  ------           --------------  -----  \n",
      " 0   name             16713 non-null  object \n",
      " 1   platform         16715 non-null  object \n",
      " 2   year_of_release  16446 non-null  float64\n",
      " 3   genre            16713 non-null  object \n",
      " 4   na_sales         16715 non-null  float64\n",
      " 5   eu_sales         16715 non-null  float64\n",
      " 6   jp_sales         16715 non-null  float64\n",
      " 7   other_sales      16715 non-null  float64\n",
      " 8   critic_score     16715 non-null  float64\n",
      " 9   user_score       16715 non-null  float64\n",
      " 10  rating           9949 non-null   object \n",
      "dtypes: float64(7), object(4)\n",
      "memory usage: 1.4+ MB\n"
     ]
    }
   ],
   "source": [
    "data.critic_score = data.critic_score.replace('tbd', -1)\n",
    "data.critic_score = data.critic_score.fillna(0)\n",
    "data.critic_score = data.critic_score.astype('float64')\n",
    "\n",
    "data.user_score = data.user_score.replace('tbd', -1)\n",
    "data.user_score = data.user_score.fillna(0)\n",
    "data.user_score = data.user_score.astype('float64')\n",
    "data.info()"
   ]
  },
  {
   "cell_type": "code",
   "execution_count": 53,
   "metadata": {
    "colab": {
     "base_uri": "https://localhost:8080/"
    },
    "id": "i8A-LoOU6nzs",
    "outputId": "43d08344-c36d-47bb-d77b-968709702e4d"
   },
   "outputs": [],
   "source": [
    "data.year_of_release = data.year_of_release.fillna('0')\n",
    "data = data.drop(np.where(data['year_of_release'] == 0)[-1])\n",
    "data.year_of_release = data.year_of_release.astype('int')\n",
    "data.year_of_release = data.year_of_release.fillna('0')\n",
    "data = data.drop(np.where(data['year_of_release'] == 0)[-1])\n",
    "data.rating = data.rating.replace('K-A', 'E')"
   ]
  },
  {
   "cell_type": "code",
   "execution_count": 54,
   "metadata": {
    "colab": {
     "base_uri": "https://localhost:8080/"
    },
    "id": "fZ1ZGmesHbAy",
    "outputId": "11a20477-49d5-4249-9cd8-e22a4fe16b68"
   },
   "outputs": [
    {
     "data": {
      "text/plain": [
       "rating             6678\n",
       "name                  2\n",
       "genre                 2\n",
       "platform              0\n",
       "year_of_release       0\n",
       "na_sales              0\n",
       "eu_sales              0\n",
       "jp_sales              0\n",
       "other_sales           0\n",
       "critic_score          0\n",
       "user_score            0\n",
       "dtype: int64"
      ]
     },
     "execution_count": 54,
     "metadata": {},
     "output_type": "execute_result"
    }
   ],
   "source": [
    "data.isna().sum().sort_values(ascending=False)"
   ]
  },
  {
   "cell_type": "code",
   "execution_count": 55,
   "metadata": {
    "colab": {
     "base_uri": "https://localhost:8080/",
     "height": 112
    },
    "id": "RfIGlzJhHbAy",
    "outputId": "00254dd9-8f16-4e29-b2c9-69728979cf55",
    "scrolled": true
   },
   "outputs": [
    {
     "data": {
      "text/html": [
       "<div>\n",
       "<style scoped>\n",
       "    .dataframe tbody tr th:only-of-type {\n",
       "        vertical-align: middle;\n",
       "    }\n",
       "\n",
       "    .dataframe tbody tr th {\n",
       "        vertical-align: top;\n",
       "    }\n",
       "\n",
       "    .dataframe thead th {\n",
       "        text-align: right;\n",
       "    }\n",
       "</style>\n",
       "<table border=\"1\" class=\"dataframe\">\n",
       "  <thead>\n",
       "    <tr style=\"text-align: right;\">\n",
       "      <th></th>\n",
       "      <th>name</th>\n",
       "      <th>platform</th>\n",
       "      <th>year_of_release</th>\n",
       "      <th>genre</th>\n",
       "      <th>na_sales</th>\n",
       "      <th>eu_sales</th>\n",
       "      <th>jp_sales</th>\n",
       "      <th>other_sales</th>\n",
       "      <th>critic_score</th>\n",
       "      <th>user_score</th>\n",
       "      <th>rating</th>\n",
       "    </tr>\n",
       "  </thead>\n",
       "  <tbody>\n",
       "    <tr>\n",
       "      <th>659</th>\n",
       "      <td>NaN</td>\n",
       "      <td>GEN</td>\n",
       "      <td>1993</td>\n",
       "      <td>NaN</td>\n",
       "      <td>1.78</td>\n",
       "      <td>0.53</td>\n",
       "      <td>0.00</td>\n",
       "      <td>0.08</td>\n",
       "      <td>0.0</td>\n",
       "      <td>0.0</td>\n",
       "      <td>NaN</td>\n",
       "    </tr>\n",
       "    <tr>\n",
       "      <th>14244</th>\n",
       "      <td>NaN</td>\n",
       "      <td>GEN</td>\n",
       "      <td>1993</td>\n",
       "      <td>NaN</td>\n",
       "      <td>0.00</td>\n",
       "      <td>0.00</td>\n",
       "      <td>0.03</td>\n",
       "      <td>0.00</td>\n",
       "      <td>0.0</td>\n",
       "      <td>0.0</td>\n",
       "      <td>NaN</td>\n",
       "    </tr>\n",
       "  </tbody>\n",
       "</table>\n",
       "</div>"
      ],
      "text/plain": [
       "      name platform  year_of_release genre  na_sales  eu_sales  jp_sales  \\\n",
       "659    NaN      GEN             1993   NaN      1.78      0.53      0.00   \n",
       "14244  NaN      GEN             1993   NaN      0.00      0.00      0.03   \n",
       "\n",
       "       other_sales  critic_score  user_score rating  \n",
       "659           0.08           0.0         0.0    NaN  \n",
       "14244         0.00           0.0         0.0    NaN  "
      ]
     },
     "execution_count": 55,
     "metadata": {},
     "output_type": "execute_result"
    }
   ],
   "source": [
    "data[data.name.isnull()]"
   ]
  },
  {
   "cell_type": "markdown",
   "metadata": {
    "id": "2INVaPvLHbAy"
   },
   "source": [
    "---пропуски есть в колонках с возрастным рейтингом игр и рейтингом критиков и пользователей. Сперва может показаться, что рейтинг отсутсвует у старых игр, но при случайных выборках оказывается, что рейтинг осутствует у плохопродаваемых игр. Возможно, это локальные игры, или низкобюджетные. Кроме того ESRB североамериканская компания и не обязана заниматься всеми играми в мире\n",
    "---пропуски оставлю для дальнейшей работы. Возможно их придется заменить на заглушки, покажет время."
   ]
  },
  {
   "cell_type": "markdown",
   "metadata": {
    "id": "m5huzKL1HbAz"
   },
   "source": [
    "---в колонке с оценкой пользователей есть значение 'tbd', что означает - подлежит определению. Такое значение также присуще плохопокупаемым играм, или играм вне оценки ESRB. Для дальнейшей работы считаю корректным заменить 'tbd' на значение Nan"
   ]
  },
  {
   "cell_type": "markdown",
   "metadata": {
    "id": "SvJgksM6HbA0"
   },
   "source": [
    "##  вывод новой колонки total_sales ##"
   ]
  },
  {
   "cell_type": "code",
   "execution_count": 56,
   "metadata": {
    "colab": {
     "base_uri": "https://localhost:8080/",
     "height": 363
    },
    "id": "O77lSQ9lHbA0",
    "outputId": "1ff7c81a-1d16-4aa2-f2f9-8a938a255489",
    "scrolled": false
   },
   "outputs": [
    {
     "data": {
      "text/html": [
       "<div>\n",
       "<style scoped>\n",
       "    .dataframe tbody tr th:only-of-type {\n",
       "        vertical-align: middle;\n",
       "    }\n",
       "\n",
       "    .dataframe tbody tr th {\n",
       "        vertical-align: top;\n",
       "    }\n",
       "\n",
       "    .dataframe thead th {\n",
       "        text-align: right;\n",
       "    }\n",
       "</style>\n",
       "<table border=\"1\" class=\"dataframe\">\n",
       "  <thead>\n",
       "    <tr style=\"text-align: right;\">\n",
       "      <th></th>\n",
       "      <th>name</th>\n",
       "      <th>platform</th>\n",
       "      <th>year_of_release</th>\n",
       "      <th>genre</th>\n",
       "      <th>na_sales</th>\n",
       "      <th>eu_sales</th>\n",
       "      <th>jp_sales</th>\n",
       "      <th>other_sales</th>\n",
       "      <th>critic_score</th>\n",
       "      <th>user_score</th>\n",
       "      <th>rating</th>\n",
       "      <th>total_sales</th>\n",
       "    </tr>\n",
       "  </thead>\n",
       "  <tbody>\n",
       "    <tr>\n",
       "      <th>5362</th>\n",
       "      <td>Monster Rancher 4</td>\n",
       "      <td>PS2</td>\n",
       "      <td>2003</td>\n",
       "      <td>Simulation</td>\n",
       "      <td>0.08</td>\n",
       "      <td>0.06</td>\n",
       "      <td>0.19</td>\n",
       "      <td>0.02</td>\n",
       "      <td>77.0</td>\n",
       "      <td>9.1</td>\n",
       "      <td>E</td>\n",
       "      <td>0.35</td>\n",
       "    </tr>\n",
       "    <tr>\n",
       "      <th>2073</th>\n",
       "      <td>Dynasty Warriors 3: Xtreme Legends</td>\n",
       "      <td>PS2</td>\n",
       "      <td>2002</td>\n",
       "      <td>Action</td>\n",
       "      <td>0.13</td>\n",
       "      <td>0.10</td>\n",
       "      <td>0.74</td>\n",
       "      <td>0.03</td>\n",
       "      <td>72.0</td>\n",
       "      <td>9.3</td>\n",
       "      <td>T</td>\n",
       "      <td>1.00</td>\n",
       "    </tr>\n",
       "    <tr>\n",
       "      <th>14537</th>\n",
       "      <td>Rayman 3: Hoodlum Havoc</td>\n",
       "      <td>PC</td>\n",
       "      <td>2003</td>\n",
       "      <td>Platform</td>\n",
       "      <td>0.00</td>\n",
       "      <td>0.03</td>\n",
       "      <td>0.00</td>\n",
       "      <td>0.00</td>\n",
       "      <td>74.0</td>\n",
       "      <td>8.3</td>\n",
       "      <td>E</td>\n",
       "      <td>0.03</td>\n",
       "    </tr>\n",
       "    <tr>\n",
       "      <th>14851</th>\n",
       "      <td>Rugby Challenge 3</td>\n",
       "      <td>PS3</td>\n",
       "      <td>2016</td>\n",
       "      <td>Sports</td>\n",
       "      <td>0.00</td>\n",
       "      <td>0.02</td>\n",
       "      <td>0.00</td>\n",
       "      <td>0.00</td>\n",
       "      <td>0.0</td>\n",
       "      <td>-1.0</td>\n",
       "      <td>NaN</td>\n",
       "      <td>0.02</td>\n",
       "    </tr>\n",
       "    <tr>\n",
       "      <th>6498</th>\n",
       "      <td>Gundam Battle Universe</td>\n",
       "      <td>PSP</td>\n",
       "      <td>2008</td>\n",
       "      <td>Fighting</td>\n",
       "      <td>0.00</td>\n",
       "      <td>0.00</td>\n",
       "      <td>0.26</td>\n",
       "      <td>0.00</td>\n",
       "      <td>0.0</td>\n",
       "      <td>0.0</td>\n",
       "      <td>NaN</td>\n",
       "      <td>0.26</td>\n",
       "    </tr>\n",
       "    <tr>\n",
       "      <th>3976</th>\n",
       "      <td>Sega Bass Fishing</td>\n",
       "      <td>Wii</td>\n",
       "      <td>2008</td>\n",
       "      <td>Sports</td>\n",
       "      <td>0.45</td>\n",
       "      <td>0.01</td>\n",
       "      <td>0.00</td>\n",
       "      <td>0.04</td>\n",
       "      <td>59.0</td>\n",
       "      <td>6.3</td>\n",
       "      <td>E</td>\n",
       "      <td>0.50</td>\n",
       "    </tr>\n",
       "    <tr>\n",
       "      <th>7052</th>\n",
       "      <td>Freedom Fighters</td>\n",
       "      <td>XB</td>\n",
       "      <td>2003</td>\n",
       "      <td>Shooter</td>\n",
       "      <td>0.17</td>\n",
       "      <td>0.05</td>\n",
       "      <td>0.00</td>\n",
       "      <td>0.01</td>\n",
       "      <td>82.0</td>\n",
       "      <td>8.2</td>\n",
       "      <td>T</td>\n",
       "      <td>0.23</td>\n",
       "    </tr>\n",
       "    <tr>\n",
       "      <th>9144</th>\n",
       "      <td>Pro Evolution Soccer 2015</td>\n",
       "      <td>X360</td>\n",
       "      <td>2014</td>\n",
       "      <td>Sports</td>\n",
       "      <td>0.05</td>\n",
       "      <td>0.08</td>\n",
       "      <td>0.00</td>\n",
       "      <td>0.01</td>\n",
       "      <td>0.0</td>\n",
       "      <td>6.8</td>\n",
       "      <td>E</td>\n",
       "      <td>0.14</td>\n",
       "    </tr>\n",
       "    <tr>\n",
       "      <th>10759</th>\n",
       "      <td>Shining Force EXA</td>\n",
       "      <td>PS2</td>\n",
       "      <td>2007</td>\n",
       "      <td>Role-Playing</td>\n",
       "      <td>0.00</td>\n",
       "      <td>0.00</td>\n",
       "      <td>0.10</td>\n",
       "      <td>0.00</td>\n",
       "      <td>64.0</td>\n",
       "      <td>7.3</td>\n",
       "      <td>E10+</td>\n",
       "      <td>0.10</td>\n",
       "    </tr>\n",
       "    <tr>\n",
       "      <th>9739</th>\n",
       "      <td>Mobile Suit Gundam Seed: Rengou vs. Z.A.F.T. P...</td>\n",
       "      <td>PSP</td>\n",
       "      <td>2007</td>\n",
       "      <td>Shooter</td>\n",
       "      <td>0.00</td>\n",
       "      <td>0.00</td>\n",
       "      <td>0.12</td>\n",
       "      <td>0.00</td>\n",
       "      <td>0.0</td>\n",
       "      <td>0.0</td>\n",
       "      <td>NaN</td>\n",
       "      <td>0.12</td>\n",
       "    </tr>\n",
       "  </tbody>\n",
       "</table>\n",
       "</div>"
      ],
      "text/plain": [
       "                                                    name platform  \\\n",
       "5362                                   Monster Rancher 4      PS2   \n",
       "2073                  Dynasty Warriors 3: Xtreme Legends      PS2   \n",
       "14537                            Rayman 3: Hoodlum Havoc       PC   \n",
       "14851                                  Rugby Challenge 3      PS3   \n",
       "6498                              Gundam Battle Universe      PSP   \n",
       "3976                                   Sega Bass Fishing      Wii   \n",
       "7052                                    Freedom Fighters       XB   \n",
       "9144                           Pro Evolution Soccer 2015     X360   \n",
       "10759                                  Shining Force EXA      PS2   \n",
       "9739   Mobile Suit Gundam Seed: Rengou vs. Z.A.F.T. P...      PSP   \n",
       "\n",
       "       year_of_release         genre  na_sales  eu_sales  jp_sales  \\\n",
       "5362              2003    Simulation      0.08      0.06      0.19   \n",
       "2073              2002        Action      0.13      0.10      0.74   \n",
       "14537             2003      Platform      0.00      0.03      0.00   \n",
       "14851             2016        Sports      0.00      0.02      0.00   \n",
       "6498              2008      Fighting      0.00      0.00      0.26   \n",
       "3976              2008        Sports      0.45      0.01      0.00   \n",
       "7052              2003       Shooter      0.17      0.05      0.00   \n",
       "9144              2014        Sports      0.05      0.08      0.00   \n",
       "10759             2007  Role-Playing      0.00      0.00      0.10   \n",
       "9739              2007       Shooter      0.00      0.00      0.12   \n",
       "\n",
       "       other_sales  critic_score  user_score rating  total_sales  \n",
       "5362          0.02          77.0         9.1      E         0.35  \n",
       "2073          0.03          72.0         9.3      T         1.00  \n",
       "14537         0.00          74.0         8.3      E         0.03  \n",
       "14851         0.00           0.0        -1.0    NaN         0.02  \n",
       "6498          0.00           0.0         0.0    NaN         0.26  \n",
       "3976          0.04          59.0         6.3      E         0.50  \n",
       "7052          0.01          82.0         8.2      T         0.23  \n",
       "9144          0.01           0.0         6.8      E         0.14  \n",
       "10759         0.00          64.0         7.3   E10+         0.10  \n",
       "9739          0.00           0.0         0.0    NaN         0.12  "
      ]
     },
     "execution_count": 56,
     "metadata": {},
     "output_type": "execute_result"
    }
   ],
   "source": [
    "data['total_sales'] =  data[['na_sales','eu_sales','jp_sales', 'other_sales']].sum(axis = 1)\n",
    "data.sample(10)"
   ]
  },
  {
   "cell_type": "markdown",
   "metadata": {
    "id": "86UfVJDGHbA1"
   },
   "source": [
    "## вывод новой колонки platforms_by_category ##"
   ]
  },
  {
   "cell_type": "code",
   "execution_count": 57,
   "metadata": {
    "colab": {
     "base_uri": "https://localhost:8080/",
     "height": 486
    },
    "id": "FwviA99EHbA1",
    "outputId": "f85cf2cc-ff25-4091-8243-d81690569211"
   },
   "outputs": [
    {
     "data": {
      "image/png": "[encoded data removed]",
      "text/plain": [
       "<Figure size 432x288 with 1 Axes>"
      ]
     },
     "metadata": {
      "needs_background": "light"
     },
     "output_type": "display_data"
    }
   ],
   "source": [
    "platforms_by_category = {\n",
    "    'sony': ['PS', 'PS2', 'PS3', 'PS4', 'PSP', 'PSV'],\n",
    "    'nintendo': ['Wii', 'WiiU', 'NES', 'GB', 'DS', 'SNES', 'GBA', '3DS', 'N64', 'GC', 'NG'],\n",
    "    'microsoft': ['X360', 'XOne', 'XB'],\n",
    "    'good_game': ['GG'],\n",
    "    'sega':['GEN', 'SAT'],\n",
    "    'pc': ['PC'],\n",
    "    'atari': ['2600'],\n",
    "    'other': ['SCD', 'DC', 'WS', 'TG16','3DO', 'PCFX']\n",
    "}\n",
    "platform_to_category = {platform: category\n",
    "                        for category, platforms in platforms_by_category.items()\n",
    "                        for platform in platforms}\n",
    "data['platform_category'] = data.platform.map(platform_to_category)\n",
    "data['platform_category'].hist();"
   ]
  },
  {
   "cell_type": "markdown",
   "metadata": {
    "id": "Apl-nca4HbA1"
   },
   "source": [
    "## вывод новой колонки portable_and_station\n",
    "возможно, что анализ портативных устройств для нас тоже будет интересен"
   ]
  },
  {
   "cell_type": "code",
   "execution_count": 58,
   "metadata": {
    "colab": {
     "base_uri": "https://localhost:8080/",
     "height": 502
    },
    "id": "JMLG-mhSHbA2",
    "outputId": "fbd55eed-55e9-459e-bc74-326bb66bcb4c"
   },
   "outputs": [
    {
     "data": {
      "text/plain": [
       "<AxesSubplot:>"
      ]
     },
     "execution_count": 58,
     "metadata": {},
     "output_type": "execute_result"
    },
    {
     "data": {
      "image/png": "[encoded data removed]",
      "text/plain": [
       "<Figure size 432x288 with 1 Axes>"
      ]
     },
     "metadata": {
      "needs_background": "light"
     },
     "output_type": "display_data"
    }
   ],
   "source": [
    "portable_and_station = {\n",
    "    '1': [ 'PSP', 'PSV', 'GB', 'GBA', 'DS', '3DS'],\n",
    "    '0': [\n",
    "        'SCD', 'DC', 'WS', 'TG16','3DO', 'PCFX','2600','PC','GEN', \n",
    "        'SAT','GG','PS', 'PS2', 'PS3', 'PS4','Wii', 'X360', 'XOne', \n",
    "        'XB', 'WiiU', 'NES', 'SNES', 'N64', 'GC', 'NG','X360', 'XOne', 'XB'\n",
    "    ]\n",
    "}\n",
    "#0 это портативные устройства\n",
    "#1 это стационарные устройства\n",
    "portable_and_station = {por_and_stat: category\n",
    "                        for category, platforms in portable_and_station.items()\n",
    "                        for por_and_stat in platforms}\n",
    "data['portable_and_station'] = data.platform.map(portable_and_station)\n",
    "data['portable_and_station'].hist()"
   ]
  },
  {
   "cell_type": "markdown",
   "metadata": {
    "id": "7QEDhA6pHbA2"
   },
   "source": [
    "# 2. Исследовательских анализ данных #"
   ]
  },
  {
   "cell_type": "markdown",
   "metadata": {
    "id": "u631BMA6HbA3"
   },
   "source": [
    "---здесь нам предстоит посмотреть данные по играм по \n",
    "    \n",
    "    \n",
    "    \n",
    "    годам\n",
    "    платформам\n",
    "    периодам\n",
    "    отзывам\n",
    "    жанрам\n",
    "\n",
    "\n",
    "предстоит использовать графики и таблицы"
   ]
  },
  {
   "cell_type": "markdown",
   "metadata": {
    "id": "xZnDpc4rHbA3"
   },
   "source": [
    "##  Проверка по годам"
   ]
  },
  {
   "cell_type": "code",
   "execution_count": 59,
   "metadata": {
    "colab": {
     "base_uri": "https://localhost:8080/",
     "height": 394
    },
    "id": "KC9xmPaMHbA3",
    "outputId": "84786511-e446-4e11-836c-2c653f8544eb",
    "scrolled": true
   },
   "outputs": [
    {
     "data": {
      "text/html": [
       "<div>\n",
       "<style scoped>\n",
       "    .dataframe tbody tr th:only-of-type {\n",
       "        vertical-align: middle;\n",
       "    }\n",
       "\n",
       "    .dataframe tbody tr th {\n",
       "        vertical-align: top;\n",
       "    }\n",
       "\n",
       "    .dataframe thead th {\n",
       "        text-align: right;\n",
       "    }\n",
       "</style>\n",
       "<table border=\"1\" class=\"dataframe\">\n",
       "  <thead>\n",
       "    <tr style=\"text-align: right;\">\n",
       "      <th></th>\n",
       "      <th>0</th>\n",
       "    </tr>\n",
       "    <tr>\n",
       "      <th>year_of_release</th>\n",
       "      <th></th>\n",
       "    </tr>\n",
       "  </thead>\n",
       "  <tbody>\n",
       "    <tr>\n",
       "      <th>2008</th>\n",
       "      <td>1427</td>\n",
       "    </tr>\n",
       "    <tr>\n",
       "      <th>2009</th>\n",
       "      <td>1426</td>\n",
       "    </tr>\n",
       "    <tr>\n",
       "      <th>2010</th>\n",
       "      <td>1255</td>\n",
       "    </tr>\n",
       "    <tr>\n",
       "      <th>2007</th>\n",
       "      <td>1197</td>\n",
       "    </tr>\n",
       "    <tr>\n",
       "      <th>2011</th>\n",
       "      <td>1136</td>\n",
       "    </tr>\n",
       "    <tr>\n",
       "      <th>2006</th>\n",
       "      <td>1006</td>\n",
       "    </tr>\n",
       "    <tr>\n",
       "      <th>2005</th>\n",
       "      <td>939</td>\n",
       "    </tr>\n",
       "    <tr>\n",
       "      <th>2002</th>\n",
       "      <td>829</td>\n",
       "    </tr>\n",
       "    <tr>\n",
       "      <th>2003</th>\n",
       "      <td>775</td>\n",
       "    </tr>\n",
       "    <tr>\n",
       "      <th>2004</th>\n",
       "      <td>762</td>\n",
       "    </tr>\n",
       "  </tbody>\n",
       "</table>\n",
       "</div>"
      ],
      "text/plain": [
       "                    0\n",
       "year_of_release      \n",
       "2008             1427\n",
       "2009             1426\n",
       "2010             1255\n",
       "2007             1197\n",
       "2011             1136\n",
       "2006             1006\n",
       "2005              939\n",
       "2002              829\n",
       "2003              775\n",
       "2004              762"
      ]
     },
     "execution_count": 59,
     "metadata": {},
     "output_type": "execute_result"
    }
   ],
   "source": [
    "data.value_counts('year_of_release').to_frame().head(10)"
   ]
  },
  {
   "cell_type": "markdown",
   "metadata": {
    "id": "NrUhRc2tHbA4"
   },
   "source": [
    "---пик продаж пришелся на 2007-2011 года"
   ]
  },
  {
   "cell_type": "code",
   "execution_count": 60,
   "metadata": {
    "colab": {
     "base_uri": "https://localhost:8080/",
     "height": 322
    },
    "id": "Gq81cc9JHbA4",
    "outputId": "e6938caf-ba92-41fd-9617-71a78af43d69"
   },
   "outputs": [
    {
     "data": {
      "image/png": "[encoded data removed]",
      "text/plain": [
       "<Figure size 1080x360 with 1 Axes>"
      ]
     },
     "metadata": {
      "needs_background": "light"
     },
     "output_type": "display_data"
    }
   ],
   "source": [
    "data.year_of_release.hist(bins = 39, figsize = (15,5), range=(1978, 2018));"
   ]
  },
  {
   "cell_type": "code",
   "execution_count": 61,
   "metadata": {
    "colab": {
     "base_uri": "https://localhost:8080/",
     "height": 213
    },
    "id": "w0ONBvelHbA4",
    "outputId": "c7097b27-f971-42fb-e0ea-1d173fa92944",
    "scrolled": true
   },
   "outputs": [
    {
     "data": {
      "image/png": "[encoded data removed]",
      "text/plain": [
       "<Figure size 1080x216 with 1 Axes>"
      ]
     },
     "metadata": {
      "needs_background": "light"
     },
     "output_type": "display_data"
    }
   ],
   "source": [
    "data.year_of_release.hist(bins = 20, figsize = (15,3), range=(1980, 2000));"
   ]
  },
  {
   "cell_type": "markdown",
   "metadata": {
    "id": "SDDIpl4KHbA4"
   },
   "source": [
    "--- с 80х годов по 91 выпуск игр был стабильным и низким. Начало роста количества игр связано с развитием ПК и ЭВМ.\n",
    "\n",
    "--- нулевые значения считаю нужным оставить, т.к.в них могут находится статистически важные данные о жанрах\n",
    "\n",
    "---снижение после 2009 может быть связано с развитием мобильных устройств или игр, с развитием персональных компютеров или по другим причинам"
   ]
  },
  {
   "cell_type": "markdown",
   "metadata": {
    "id": "YxWOYG3bHbA5"
   },
   "source": [
    "--- наибольшие суммарные продажи показывают таки платформы, как PS2, X360, PS3, Wii, DS, PS"
   ]
  },
  {
   "cell_type": "markdown",
   "metadata": {
    "id": "lLgaKLfUHbA6"
   },
   "source": [
    "## Проверка по платформам ##"
   ]
  },
  {
   "cell_type": "code",
   "execution_count": 98,
   "metadata": {
    "colab": {
     "base_uri": "https://localhost:8080/",
     "height": 1000
    },
    "id": "zsEypIoA8Lsb",
    "outputId": "91eaaaaa-9b73-4edc-edf7-e4c5ffa04308"
   },
   "outputs": [
    {
     "data": {
      "image/png": "[encoded data removed]",
      "text/plain": [
       "<Figure size 1440x2160 with 1 Axes>"
      ]
     },
     "metadata": {},
     "output_type": "display_data"
    }
   ],
   "source": [
    "data_pivot=data.pivot_table(index='platform',values=['na_sales','eu_sales','jp_sales','other_sales', 'total_sales'],aggfunc=('sum'))\n",
    "data_pivot.sort_values(by='total_sales',ascending=True).plot(kind='barh',figsize=(20,30));"
   ]
  },
  {
   "cell_type": "code",
   "execution_count": 63,
   "metadata": {
    "colab": {
     "base_uri": "https://localhost:8080/",
     "height": 611
    },
    "id": "PbHZA2w78awM",
    "outputId": "2b6ec812-157c-485f-ad23-d5b5ac3136fd"
   },
   "outputs": [
    {
     "data": {
      "text/plain": [
       "<AxesSubplot:ylabel='platform'>"
      ]
     },
     "execution_count": 63,
     "metadata": {},
     "output_type": "execute_result"
    },
    {
     "data": {
      "image/png": "[encoded data removed]",
      "text/plain": [
       "<Figure size 1440x720 with 1 Axes>"
      ]
     },
     "metadata": {
      "needs_background": "light"
     },
     "output_type": "display_data"
    }
   ],
   "source": [
    "p_filter = ['PS2', 'X360', 'PS3', 'Wii', 'DS', 'PS', 'PS4', 'PSP']\n",
    "platform_best = data[data.platform.isin(p_filter)]\n",
    "\n",
    "platform_best.pivot_table(index='platform',values='total_sales').plot(kind='barh',figsize=(20,10));"
   ]
  },
  {
   "cell_type": "code",
   "execution_count": 64,
   "metadata": {
    "colab": {
     "base_uri": "https://localhost:8080/",
     "height": 1000
    },
    "id": "mqD4YtOo8fjr",
    "outputId": "b6970eaa-e103-42dd-a233-b0d0b7d4fa32"
   },
   "outputs": [
    {
     "data": {
      "image/png": "[encoded data removed]",
      "text/plain": [
       "<Figure size 432x288 with 1 Axes>"
      ]
     },
     "metadata": {
      "needs_background": "light"
     },
     "output_type": "display_data"
    },
    {
     "data": {
      "image/png": "[encoded data removed]",
      "text/plain": [
       "<Figure size 432x288 with 1 Axes>"
      ]
     },
     "metadata": {
      "needs_background": "light"
     },
     "output_type": "display_data"
    },
    {
     "data": {
      "image/png": "[encoded data removed]",
      "text/plain": [
       "<Figure size 432x288 with 1 Axes>"
      ]
     },
     "metadata": {
      "needs_background": "light"
     },
     "output_type": "display_data"
    },
    {
     "data": {
      "image/png": "[encoded data removed]",
      "text/plain": [
       "<Figure size 432x288 with 1 Axes>"
      ]
     },
     "metadata": {
      "needs_background": "light"
     },
     "output_type": "display_data"
    },
    {
     "data": {
      "image/png": "[encoded data removed]",
      "text/plain": [
       "<Figure size 432x288 with 1 Axes>"
      ]
     },
     "metadata": {
      "needs_background": "light"
     },
     "output_type": "display_data"
    },
    {
     "data": {
      "image/png": "[encoded data removed]",
      "text/plain": [
       "<Figure size 432x288 with 1 Axes>"
      ]
     },
     "metadata": {
      "needs_background": "light"
     },
     "output_type": "display_data"
    },
    {
     "data": {
      "image/png": "[encoded data removed]",
      "text/plain": [
       "<Figure size 432x288 with 1 Axes>"
      ]
     },
     "metadata": {
      "needs_background": "light"
     },
     "output_type": "display_data"
    },
    {
     "data": {
      "image/png": "[encoded data removed]",
      "text/plain": [
       "<Figure size 432x288 with 1 Axes>"
      ]
     },
     "metadata": {
      "needs_background": "light"
     },
     "output_type": "display_data"
    }
   ],
   "source": [
    "platform_total_sales = platform_best.pivot_table(index='platform', values='total_sales', aggfunc='sum').reset_index()\n",
    "platform_total_sales = platform_total_sales.sort_values(by='total_sales', ascending=False)\n",
    "platform_unique = platform_total_sales[platform_total_sales['total_sales'] > 259]['platform'].unique()\n",
    "for i in platform_unique:\n",
    "    platform = data[data['platform'] == i].pivot_table(index = 'year_of_release', values = 'total_sales',aggfunc = 'sum').reset_index()\n",
    "    platform.plot(kind='bar', x = 'year_of_release', y = 'total_sales', xlim = (1980, 2016), title=i)\n",
    "    plt.xticks(rotation=90)\n",
    "    plt.show() \n"
   ]
  },
  {
   "cell_type": "code",
   "execution_count": 100,
   "metadata": {
    "colab": {
     "base_uri": "https://localhost:8080/",
     "height": 542
    },
    "id": "2wFuJK9HHbA6",
    "outputId": "41f631c6-bbc6-4f8a-c3fc-b2dc1581813b"
   },
   "outputs": [
    {
     "data": {
      "application/vnd.plotly.v1+json": {
       "config": {
        "plotlyServerURL": "https://plot.ly"
       },
       "data": [
        {
         "alignmentgroup": "True",
         "hovertemplate": "total_sales=%{x}<br>platform_category=%{y}<extra></extra>",
         "legendgroup": "",
         "marker": {
          "color": "#636efa",
          "pattern": {
           "shape": ""
          }
         },
         "name": "",
         "offsetgroup": "",
         "orientation": "h",
         "showlegend": false,
         "textposition": "auto",
         "type": "bar",
         "x": [
          86.48000000000005,
          0.04,
          1372.1299999999774,
          3468.540000000145,
          19.519999999999996,
          255.76000000000076,
          64.35999999999994,
          3549.9600000001515
         ],
         "xaxis": "x",
         "y": [
          "atari",
          "good_game",
          "microsoft",
          "nintendo",
          "other",
          "pc",
          "sega",
          "sony"
         ],
         "yaxis": "y"
        }
       ],
       "layout": {
        "barmode": "relative",
        "legend": {
         "tracegroupgap": 0
        },
        "template": {
         "data": {
          "bar": [
           {
            "error_x": {
             "color": "#2a3f5f"
            },
            "error_y": {
             "color": "#2a3f5f"
            },
            "marker": {
             "line": {
              "color": "#E5ECF6",
              "width": 0.5
             },
             "pattern": {
              "fillmode": "overlay",
              "size": 10,
              "solidity": 0.2
             }
            },
            "type": "bar"
           }
          ],
          "barpolar": [
           {
            "marker": {
             "line": {
              "color": "#E5ECF6",
              "width": 0.5
             },
             "pattern": {
              "fillmode": "overlay",
              "size": 10,
              "solidity": 0.2
             }
            },
            "type": "barpolar"
           }
          ],
          "carpet": [
           {
            "aaxis": {
             "endlinecolor": "#2a3f5f",
             "gridcolor": "white",
             "linecolor": "white",
             "minorgridcolor": "white",
             "startlinecolor": "#2a3f5f"
            },
            "baxis": {
             "endlinecolor": "#2a3f5f",
             "gridcolor": "white",
             "linecolor": "white",
             "minorgridcolor": "white",
             "startlinecolor": "#2a3f5f"
            },
            "type": "carpet"
           }
          ],
          "choropleth": [
           {
            "colorbar": {
             "outlinewidth": 0,
             "ticks": ""
            },
            "type": "choropleth"
           }
          ],
          "contour": [
           {
            "colorbar": {
             "outlinewidth": 0,
             "ticks": ""
            },
            "colorscale": [
             [
              0,
              "#0d0887"
             ],
             [
              0.1111111111111111,
              "#46039f"
             ],
             [
              0.2222222222222222,
              "#7201a8"
             ],
             [
              0.3333333333333333,
              "#9c179e"
             ],
             [
              0.4444444444444444,
              "#bd3786"
             ],
             [
              0.5555555555555556,
              "#d8576b"
             ],
             [
              0.6666666666666666,
              "#ed7953"
             ],
             [
              0.7777777777777778,
              "#fb9f3a"
             ],
             [
              0.8888888888888888,
              "#fdca26"
             ],
             [
              1,
              "#f0f921"
             ]
            ],
            "type": "contour"
           }
          ],
          "contourcarpet": [
           {
            "colorbar": {
             "outlinewidth": 0,
             "ticks": ""
            },
            "type": "contourcarpet"
           }
          ],
          "heatmap": [
           {
            "colorbar": {
             "outlinewidth": 0,
             "ticks": ""
            },
            "colorscale": [
             [
              0,
              "#0d0887"
             ],
             [
              0.1111111111111111,
              "#46039f"
             ],
             [
              0.2222222222222222,
              "#7201a8"
             ],
             [
              0.3333333333333333,
              "#9c179e"
             ],
             [
              0.4444444444444444,
              "#bd3786"
             ],
             [
              0.5555555555555556,
              "#d8576b"
             ],
             [
              0.6666666666666666,
              "#ed7953"
             ],
             [
              0.7777777777777778,
              "#fb9f3a"
             ],
             [
              0.8888888888888888,
              "#fdca26"
             ],
             [
              1,
              "#f0f921"
             ]
            ],
            "type": "heatmap"
           }
          ],
          "heatmapgl": [
           {
            "colorbar": {
             "outlinewidth": 0,
             "ticks": ""
            },
            "colorscale": [
             [
              0,
              "#0d0887"
             ],
             [
              0.1111111111111111,
              "#46039f"
             ],
             [
              0.2222222222222222,
              "#7201a8"
             ],
             [
              0.3333333333333333,
              "#9c179e"
             ],
             [
              0.4444444444444444,
              "#bd3786"
             ],
             [
              0.5555555555555556,
              "#d8576b"
             ],
             [
              0.6666666666666666,
              "#ed7953"
             ],
             [
              0.7777777777777778,
              "#fb9f3a"
             ],
             [
              0.8888888888888888,
              "#fdca26"
             ],
             [
              1,
              "#f0f921"
             ]
            ],
            "type": "heatmapgl"
           }
          ],
          "histogram": [
           {
            "marker": {
             "pattern": {
              "fillmode": "overlay",
              "size": 10,
              "solidity": 0.2
             }
            },
            "type": "histogram"
           }
          ],
          "histogram2d": [
           {
            "colorbar": {
             "outlinewidth": 0,
             "ticks": ""
            },
            "colorscale": [
             [
              0,
              "#0d0887"
             ],
             [
              0.1111111111111111,
              "#46039f"
             ],
             [
              0.2222222222222222,
              "#7201a8"
             ],
             [
              0.3333333333333333,
              "#9c179e"
             ],
             [
              0.4444444444444444,
              "#bd3786"
             ],
             [
              0.5555555555555556,
              "#d8576b"
             ],
             [
              0.6666666666666666,
              "#ed7953"
             ],
             [
              0.7777777777777778,
              "#fb9f3a"
             ],
             [
              0.8888888888888888,
              "#fdca26"
             ],
             [
              1,
              "#f0f921"
             ]
            ],
            "type": "histogram2d"
           }
          ],
          "histogram2dcontour": [
           {
            "colorbar": {
             "outlinewidth": 0,
             "ticks": ""
            },
            "colorscale": [
             [
              0,
              "#0d0887"
             ],
             [
              0.1111111111111111,
              "#46039f"
             ],
             [
              0.2222222222222222,
              "#7201a8"
             ],
             [
              0.3333333333333333,
              "#9c179e"
             ],
             [
              0.4444444444444444,
              "#bd3786"
             ],
             [
              0.5555555555555556,
              "#d8576b"
             ],
             [
              0.6666666666666666,
              "#ed7953"
             ],
             [
              0.7777777777777778,
              "#fb9f3a"
             ],
             [
              0.8888888888888888,
              "#fdca26"
             ],
             [
              1,
              "#f0f921"
             ]
            ],
            "type": "histogram2dcontour"
           }
          ],
          "mesh3d": [
           {
            "colorbar": {
             "outlinewidth": 0,
             "ticks": ""
            },
            "type": "mesh3d"
           }
          ],
          "parcoords": [
           {
            "line": {
             "colorbar": {
              "outlinewidth": 0,
              "ticks": ""
             }
            },
            "type": "parcoords"
           }
          ],
          "pie": [
           {
            "automargin": true,
            "type": "pie"
           }
          ],
          "scatter": [
           {
            "marker": {
             "colorbar": {
              "outlinewidth": 0,
              "ticks": ""
             }
            },
            "type": "scatter"
           }
          ],
          "scatter3d": [
           {
            "line": {
             "colorbar": {
              "outlinewidth": 0,
              "ticks": ""
             }
            },
            "marker": {
             "colorbar": {
              "outlinewidth": 0,
              "ticks": ""
             }
            },
            "type": "scatter3d"
           }
          ],
          "scattercarpet": [
           {
            "marker": {
             "colorbar": {
              "outlinewidth": 0,
              "ticks": ""
             }
            },
            "type": "scattercarpet"
           }
          ],
          "scattergeo": [
           {
            "marker": {
             "colorbar": {
              "outlinewidth": 0,
              "ticks": ""
             }
            },
            "type": "scattergeo"
           }
          ],
          "scattergl": [
           {
            "marker": {
             "colorbar": {
              "outlinewidth": 0,
              "ticks": ""
             }
            },
            "type": "scattergl"
           }
          ],
          "scattermapbox": [
           {
            "marker": {
             "colorbar": {
              "outlinewidth": 0,
              "ticks": ""
             }
            },
            "type": "scattermapbox"
           }
          ],
          "scatterpolar": [
           {
            "marker": {
             "colorbar": {
              "outlinewidth": 0,
              "ticks": ""
             }
            },
            "type": "scatterpolar"
           }
          ],
          "scatterpolargl": [
           {
            "marker": {
             "colorbar": {
              "outlinewidth": 0,
              "ticks": ""
             }
            },
            "type": "scatterpolargl"
           }
          ],
          "scatterternary": [
           {
            "marker": {
             "colorbar": {
              "outlinewidth": 0,
              "ticks": ""
             }
            },
            "type": "scatterternary"
           }
          ],
          "surface": [
           {
            "colorbar": {
             "outlinewidth": 0,
             "ticks": ""
            },
            "colorscale": [
             [
              0,
              "#0d0887"
             ],
             [
              0.1111111111111111,
              "#46039f"
             ],
             [
              0.2222222222222222,
              "#7201a8"
             ],
             [
              0.3333333333333333,
              "#9c179e"
             ],
             [
              0.4444444444444444,
              "#bd3786"
             ],
             [
              0.5555555555555556,
              "#d8576b"
             ],
             [
              0.6666666666666666,
              "#ed7953"
             ],
             [
              0.7777777777777778,
              "#fb9f3a"
             ],
             [
              0.8888888888888888,
              "#fdca26"
             ],
             [
              1,
              "#f0f921"
             ]
            ],
            "type": "surface"
           }
          ],
          "table": [
           {
            "cells": {
             "fill": {
              "color": "#EBF0F8"
             },
             "line": {
              "color": "white"
             }
            },
            "header": {
             "fill": {
              "color": "#C8D4E3"
             },
             "line": {
              "color": "white"
             }
            },
            "type": "table"
           }
          ]
         },
         "layout": {
          "annotationdefaults": {
           "arrowcolor": "#2a3f5f",
           "arrowhead": 0,
           "arrowwidth": 1
          },
          "autotypenumbers": "strict",
          "coloraxis": {
           "colorbar": {
            "outlinewidth": 0,
            "ticks": ""
           }
          },
          "colorscale": {
           "diverging": [
            [
             0,
             "#8e0152"
            ],
            [
             0.1,
             "#c51b7d"
            ],
            [
             0.2,
             "#de77ae"
            ],
            [
             0.3,
             "#f1b6da"
            ],
            [
             0.4,
             "#fde0ef"
            ],
            [
             0.5,
             "#f7f7f7"
            ],
            [
             0.6,
             "#e6f5d0"
            ],
            [
             0.7,
             "#b8e186"
            ],
            [
             0.8,
             "#7fbc41"
            ],
            [
             0.9,
             "#4d9221"
            ],
            [
             1,
             "#276419"
            ]
           ],
           "sequential": [
            [
             0,
             "#0d0887"
            ],
            [
             0.1111111111111111,
             "#46039f"
            ],
            [
             0.2222222222222222,
             "#7201a8"
            ],
            [
             0.3333333333333333,
             "#9c179e"
            ],
            [
             0.4444444444444444,
             "#bd3786"
            ],
            [
             0.5555555555555556,
             "#d8576b"
            ],
            [
             0.6666666666666666,
             "#ed7953"
            ],
            [
             0.7777777777777778,
             "#fb9f3a"
            ],
            [
             0.8888888888888888,
             "#fdca26"
            ],
            [
             1,
             "#f0f921"
            ]
           ],
           "sequentialminus": [
            [
             0,
             "#0d0887"
            ],
            [
             0.1111111111111111,
             "#46039f"
            ],
            [
             0.2222222222222222,
             "#7201a8"
            ],
            [
             0.3333333333333333,
             "#9c179e"
            ],
            [
             0.4444444444444444,
             "#bd3786"
            ],
            [
             0.5555555555555556,
             "#d8576b"
            ],
            [
             0.6666666666666666,
             "#ed7953"
            ],
            [
             0.7777777777777778,
             "#fb9f3a"
            ],
            [
             0.8888888888888888,
             "#fdca26"
            ],
            [
             1,
             "#f0f921"
            ]
           ]
          },
          "colorway": [
           "#636efa",
           "#EF553B",
           "#00cc96",
           "#ab63fa",
           "#FFA15A",
           "#19d3f3",
           "#FF6692",
           "#B6E880",
           "#FF97FF",
           "#FECB52"
          ],
          "font": {
           "color": "#2a3f5f"
          },
          "geo": {
           "bgcolor": "white",
           "lakecolor": "white",
           "landcolor": "#E5ECF6",
           "showlakes": true,
           "showland": true,
           "subunitcolor": "white"
          },
          "hoverlabel": {
           "align": "left"
          },
          "hovermode": "closest",
          "mapbox": {
           "style": "light"
          },
          "paper_bgcolor": "white",
          "plot_bgcolor": "#E5ECF6",
          "polar": {
           "angularaxis": {
            "gridcolor": "white",
            "linecolor": "white",
            "ticks": ""
           },
           "bgcolor": "#E5ECF6",
           "radialaxis": {
            "gridcolor": "white",
            "linecolor": "white",
            "ticks": ""
           }
          },
          "scene": {
           "xaxis": {
            "backgroundcolor": "#E5ECF6",
            "gridcolor": "white",
            "gridwidth": 2,
            "linecolor": "white",
            "showbackground": true,
            "ticks": "",
            "zerolinecolor": "white"
           },
           "yaxis": {
            "backgroundcolor": "#E5ECF6",
            "gridcolor": "white",
            "gridwidth": 2,
            "linecolor": "white",
            "showbackground": true,
            "ticks": "",
            "zerolinecolor": "white"
           },
           "zaxis": {
            "backgroundcolor": "#E5ECF6",
            "gridcolor": "white",
            "gridwidth": 2,
            "linecolor": "white",
            "showbackground": true,
            "ticks": "",
            "zerolinecolor": "white"
           }
          },
          "shapedefaults": {
           "line": {
            "color": "#2a3f5f"
           }
          },
          "ternary": {
           "aaxis": {
            "gridcolor": "white",
            "linecolor": "white",
            "ticks": ""
           },
           "baxis": {
            "gridcolor": "white",
            "linecolor": "white",
            "ticks": ""
           },
           "bgcolor": "#E5ECF6",
           "caxis": {
            "gridcolor": "white",
            "linecolor": "white",
            "ticks": ""
           }
          },
          "title": {
           "x": 0.05
          },
          "xaxis": {
           "automargin": true,
           "gridcolor": "white",
           "linecolor": "white",
           "ticks": "",
           "title": {
            "standoff": 15
           },
           "zerolinecolor": "white",
           "zerolinewidth": 2
          },
          "yaxis": {
           "automargin": true,
           "gridcolor": "white",
           "linecolor": "white",
           "ticks": "",
           "title": {
            "standoff": 15
           },
           "zerolinecolor": "white",
           "zerolinewidth": 2
          }
         }
        },
        "title": {
         "text": "Long-Form Input"
        },
        "xaxis": {
         "anchor": "y",
         "domain": [
          0,
          1
         ],
         "title": {
          "text": "total_sales"
         }
        },
        "yaxis": {
         "anchor": "x",
         "domain": [
          0,
          1
         ],
         "title": {
          "text": "platform_category"
         }
        }
       }
      },
      "text/html": [
       "<div>                            <div id=\"3eb6c786-5d6d-4e9b-ac52-7e87ce552cb4\" class=\"plotly-graph-div\" style=\"height:525px; width:100%;\"></div>            <script type=\"text/javascript\">                require([\"plotly\"], function(Plotly) {                    window.PLOTLYENV=window.PLOTLYENV || {};                                    if (document.getElementById(\"3eb6c786-5d6d-4e9b-ac52-7e87ce552cb4\")) {                    Plotly.newPlot(                        \"3eb6c786-5d6d-4e9b-ac52-7e87ce552cb4\",                        [{\"alignmentgroup\":\"True\",\"hovertemplate\":\"total_sales=%{x}<br>platform_category=%{y}<extra></extra>\",\"legendgroup\":\"\",\"marker\":{\"color\":\"#636efa\",\"pattern\":{\"shape\":\"\"}},\"name\":\"\",\"offsetgroup\":\"\",\"orientation\":\"h\",\"showlegend\":false,\"textposition\":\"auto\",\"x\":[86.48000000000005,0.04,1372.1299999999774,3468.540000000145,19.519999999999996,255.76000000000076,64.35999999999994,3549.9600000001515],\"xaxis\":\"x\",\"y\":[\"atari\",\"good_game\",\"microsoft\",\"nintendo\",\"other\",\"pc\",\"sega\",\"sony\"],\"yaxis\":\"y\",\"type\":\"bar\"}],                        {\"template\":{\"data\":{\"bar\":[{\"error_x\":{\"color\":\"#2a3f5f\"},\"error_y\":{\"color\":\"#2a3f5f\"},\"marker\":{\"line\":{\"color\":\"#E5ECF6\",\"width\":0.5},\"pattern\":{\"fillmode\":\"overlay\",\"size\":10,\"solidity\":0.2}},\"type\":\"bar\"}],\"barpolar\":[{\"marker\":{\"line\":{\"color\":\"#E5ECF6\",\"width\":0.5},\"pattern\":{\"fillmode\":\"overlay\",\"size\":10,\"solidity\":0.2}},\"type\":\"barpolar\"}],\"carpet\":[{\"aaxis\":{\"endlinecolor\":\"#2a3f5f\",\"gridcolor\":\"white\",\"linecolor\":\"white\",\"minorgridcolor\":\"white\",\"startlinecolor\":\"#2a3f5f\"},\"baxis\":{\"endlinecolor\":\"#2a3f5f\",\"gridcolor\":\"white\",\"linecolor\":\"white\",\"minorgridcolor\":\"white\",\"startlinecolor\":\"#2a3f5f\"},\"type\":\"carpet\"}],\"choropleth\":[{\"colorbar\":{\"outlinewidth\":0,\"ticks\":\"\"},\"type\":\"choropleth\"}],\"contour\":[{\"colorbar\":{\"outlinewidth\":0,\"ticks\":\"\"},\"colorscale\":[[0.0,\"#0d0887\"],[0.1111111111111111,\"#46039f\"],[0.2222222222222222,\"#7201a8\"],[0.3333333333333333,\"#9c179e\"],[0.4444444444444444,\"#bd3786\"],[0.5555555555555556,\"#d8576b\"],[0.6666666666666666,\"#ed7953\"],[0.7777777777777778,\"#fb9f3a\"],[0.8888888888888888,\"#fdca26\"],[1.0,\"#f0f921\"]],\"type\":\"contour\"}],\"contourcarpet\":[{\"colorbar\":{\"outlinewidth\":0,\"ticks\":\"\"},\"type\":\"contourcarpet\"}],\"heatmap\":[{\"colorbar\":{\"outlinewidth\":0,\"ticks\":\"\"},\"colorscale\":[[0.0,\"#0d0887\"],[0.1111111111111111,\"#46039f\"],[0.2222222222222222,\"#7201a8\"],[0.3333333333333333,\"#9c179e\"],[0.4444444444444444,\"#bd3786\"],[0.5555555555555556,\"#d8576b\"],[0.6666666666666666,\"#ed7953\"],[0.7777777777777778,\"#fb9f3a\"],[0.8888888888888888,\"#fdca26\"],[1.0,\"#f0f921\"]],\"type\":\"heatmap\"}],\"heatmapgl\":[{\"colorbar\":{\"outlinewidth\":0,\"ticks\":\"\"},\"colorscale\":[[0.0,\"#0d0887\"],[0.1111111111111111,\"#46039f\"],[0.2222222222222222,\"#7201a8\"],[0.3333333333333333,\"#9c179e\"],[0.4444444444444444,\"#bd3786\"],[0.5555555555555556,\"#d8576b\"],[0.6666666666666666,\"#ed7953\"],[0.7777777777777778,\"#fb9f3a\"],[0.8888888888888888,\"#fdca26\"],[1.0,\"#f0f921\"]],\"type\":\"heatmapgl\"}],\"histogram\":[{\"marker\":{\"pattern\":{\"fillmode\":\"overlay\",\"size\":10,\"solidity\":0.2}},\"type\":\"histogram\"}],\"histogram2d\":[{\"colorbar\":{\"outlinewidth\":0,\"ticks\":\"\"},\"colorscale\":[[0.0,\"#0d0887\"],[0.1111111111111111,\"#46039f\"],[0.2222222222222222,\"#7201a8\"],[0.3333333333333333,\"#9c179e\"],[0.4444444444444444,\"#bd3786\"],[0.5555555555555556,\"#d8576b\"],[0.6666666666666666,\"#ed7953\"],[0.7777777777777778,\"#fb9f3a\"],[0.8888888888888888,\"#fdca26\"],[1.0,\"#f0f921\"]],\"type\":\"histogram2d\"}],\"histogram2dcontour\":[{\"colorbar\":{\"outlinewidth\":0,\"ticks\":\"\"},\"colorscale\":[[0.0,\"#0d0887\"],[0.1111111111111111,\"#46039f\"],[0.2222222222222222,\"#7201a8\"],[0.3333333333333333,\"#9c179e\"],[0.4444444444444444,\"#bd3786\"],[0.5555555555555556,\"#d8576b\"],[0.6666666666666666,\"#ed7953\"],[0.7777777777777778,\"#fb9f3a\"],[0.8888888888888888,\"#fdca26\"],[1.0,\"#f0f921\"]],\"type\":\"histogram2dcontour\"}],\"mesh3d\":[{\"colorbar\":{\"outlinewidth\":0,\"ticks\":\"\"},\"type\":\"mesh3d\"}],\"parcoords\":[{\"line\":{\"colorbar\":{\"outlinewidth\":0,\"ticks\":\"\"}},\"type\":\"parcoords\"}],\"pie\":[{\"automargin\":true,\"type\":\"pie\"}],\"scatter\":[{\"marker\":{\"colorbar\":{\"outlinewidth\":0,\"ticks\":\"\"}},\"type\":\"scatter\"}],\"scatter3d\":[{\"line\":{\"colorbar\":{\"outlinewidth\":0,\"ticks\":\"\"}},\"marker\":{\"colorbar\":{\"outlinewidth\":0,\"ticks\":\"\"}},\"type\":\"scatter3d\"}],\"scattercarpet\":[{\"marker\":{\"colorbar\":{\"outlinewidth\":0,\"ticks\":\"\"}},\"type\":\"scattercarpet\"}],\"scattergeo\":[{\"marker\":{\"colorbar\":{\"outlinewidth\":0,\"ticks\":\"\"}},\"type\":\"scattergeo\"}],\"scattergl\":[{\"marker\":{\"colorbar\":{\"outlinewidth\":0,\"ticks\":\"\"}},\"type\":\"scattergl\"}],\"scattermapbox\":[{\"marker\":{\"colorbar\":{\"outlinewidth\":0,\"ticks\":\"\"}},\"type\":\"scattermapbox\"}],\"scatterpolar\":[{\"marker\":{\"colorbar\":{\"outlinewidth\":0,\"ticks\":\"\"}},\"type\":\"scatterpolar\"}],\"scatterpolargl\":[{\"marker\":{\"colorbar\":{\"outlinewidth\":0,\"ticks\":\"\"}},\"type\":\"scatterpolargl\"}],\"scatterternary\":[{\"marker\":{\"colorbar\":{\"outlinewidth\":0,\"ticks\":\"\"}},\"type\":\"scatterternary\"}],\"surface\":[{\"colorbar\":{\"outlinewidth\":0,\"ticks\":\"\"},\"colorscale\":[[0.0,\"#0d0887\"],[0.1111111111111111,\"#46039f\"],[0.2222222222222222,\"#7201a8\"],[0.3333333333333333,\"#9c179e\"],[0.4444444444444444,\"#bd3786\"],[0.5555555555555556,\"#d8576b\"],[0.6666666666666666,\"#ed7953\"],[0.7777777777777778,\"#fb9f3a\"],[0.8888888888888888,\"#fdca26\"],[1.0,\"#f0f921\"]],\"type\":\"surface\"}],\"table\":[{\"cells\":{\"fill\":{\"color\":\"#EBF0F8\"},\"line\":{\"color\":\"white\"}},\"header\":{\"fill\":{\"color\":\"#C8D4E3\"},\"line\":{\"color\":\"white\"}},\"type\":\"table\"}]},\"layout\":{\"annotationdefaults\":{\"arrowcolor\":\"#2a3f5f\",\"arrowhead\":0,\"arrowwidth\":1},\"autotypenumbers\":\"strict\",\"coloraxis\":{\"colorbar\":{\"outlinewidth\":0,\"ticks\":\"\"}},\"colorscale\":{\"diverging\":[[0,\"#8e0152\"],[0.1,\"#c51b7d\"],[0.2,\"#de77ae\"],[0.3,\"#f1b6da\"],[0.4,\"#fde0ef\"],[0.5,\"#f7f7f7\"],[0.6,\"#e6f5d0\"],[0.7,\"#b8e186\"],[0.8,\"#7fbc41\"],[0.9,\"#4d9221\"],[1,\"#276419\"]],\"sequential\":[[0.0,\"#0d0887\"],[0.1111111111111111,\"#46039f\"],[0.2222222222222222,\"#7201a8\"],[0.3333333333333333,\"#9c179e\"],[0.4444444444444444,\"#bd3786\"],[0.5555555555555556,\"#d8576b\"],[0.6666666666666666,\"#ed7953\"],[0.7777777777777778,\"#fb9f3a\"],[0.8888888888888888,\"#fdca26\"],[1.0,\"#f0f921\"]],\"sequentialminus\":[[0.0,\"#0d0887\"],[0.1111111111111111,\"#46039f\"],[0.2222222222222222,\"#7201a8\"],[0.3333333333333333,\"#9c179e\"],[0.4444444444444444,\"#bd3786\"],[0.5555555555555556,\"#d8576b\"],[0.6666666666666666,\"#ed7953\"],[0.7777777777777778,\"#fb9f3a\"],[0.8888888888888888,\"#fdca26\"],[1.0,\"#f0f921\"]]},\"colorway\":[\"#636efa\",\"#EF553B\",\"#00cc96\",\"#ab63fa\",\"#FFA15A\",\"#19d3f3\",\"#FF6692\",\"#B6E880\",\"#FF97FF\",\"#FECB52\"],\"font\":{\"color\":\"#2a3f5f\"},\"geo\":{\"bgcolor\":\"white\",\"lakecolor\":\"white\",\"landcolor\":\"#E5ECF6\",\"showlakes\":true,\"showland\":true,\"subunitcolor\":\"white\"},\"hoverlabel\":{\"align\":\"left\"},\"hovermode\":\"closest\",\"mapbox\":{\"style\":\"light\"},\"paper_bgcolor\":\"white\",\"plot_bgcolor\":\"#E5ECF6\",\"polar\":{\"angularaxis\":{\"gridcolor\":\"white\",\"linecolor\":\"white\",\"ticks\":\"\"},\"bgcolor\":\"#E5ECF6\",\"radialaxis\":{\"gridcolor\":\"white\",\"linecolor\":\"white\",\"ticks\":\"\"}},\"scene\":{\"xaxis\":{\"backgroundcolor\":\"#E5ECF6\",\"gridcolor\":\"white\",\"gridwidth\":2,\"linecolor\":\"white\",\"showbackground\":true,\"ticks\":\"\",\"zerolinecolor\":\"white\"},\"yaxis\":{\"backgroundcolor\":\"#E5ECF6\",\"gridcolor\":\"white\",\"gridwidth\":2,\"linecolor\":\"white\",\"showbackground\":true,\"ticks\":\"\",\"zerolinecolor\":\"white\"},\"zaxis\":{\"backgroundcolor\":\"#E5ECF6\",\"gridcolor\":\"white\",\"gridwidth\":2,\"linecolor\":\"white\",\"showbackground\":true,\"ticks\":\"\",\"zerolinecolor\":\"white\"}},\"shapedefaults\":{\"line\":{\"color\":\"#2a3f5f\"}},\"ternary\":{\"aaxis\":{\"gridcolor\":\"white\",\"linecolor\":\"white\",\"ticks\":\"\"},\"baxis\":{\"gridcolor\":\"white\",\"linecolor\":\"white\",\"ticks\":\"\"},\"bgcolor\":\"#E5ECF6\",\"caxis\":{\"gridcolor\":\"white\",\"linecolor\":\"white\",\"ticks\":\"\"}},\"title\":{\"x\":0.05},\"xaxis\":{\"automargin\":true,\"gridcolor\":\"white\",\"linecolor\":\"white\",\"ticks\":\"\",\"title\":{\"standoff\":15},\"zerolinecolor\":\"white\",\"zerolinewidth\":2},\"yaxis\":{\"automargin\":true,\"gridcolor\":\"white\",\"linecolor\":\"white\",\"ticks\":\"\",\"title\":{\"standoff\":15},\"zerolinecolor\":\"white\",\"zerolinewidth\":2}}},\"xaxis\":{\"anchor\":\"y\",\"domain\":[0.0,1.0],\"title\":{\"text\":\"total_sales\"}},\"yaxis\":{\"anchor\":\"x\",\"domain\":[0.0,1.0],\"title\":{\"text\":\"platform_category\"}},\"legend\":{\"tracegroupgap\":0},\"title\":{\"text\":\"Long-Form Input\"},\"barmode\":\"relative\"},                        {\"responsive\": true}                    ).then(function(){\n",
       "                            \n",
       "var gd = document.getElementById('3eb6c786-5d6d-4e9b-ac52-7e87ce552cb4');\n",
       "var x = new MutationObserver(function (mutations, observer) {{\n",
       "        var display = window.getComputedStyle(gd).display;\n",
       "        if (!display || display === 'none') {{\n",
       "            console.log([gd, 'removed!']);\n",
       "            Plotly.purge(gd);\n",
       "            observer.disconnect();\n",
       "        }}\n",
       "}});\n",
       "\n",
       "// Listen for the removal of the full notebook cells\n",
       "var notebookContainer = gd.closest('#notebook-container');\n",
       "if (notebookContainer) {{\n",
       "    x.observe(notebookContainer, {childList: true});\n",
       "}}\n",
       "\n",
       "// Listen for the clearing of the current output cell\n",
       "var outputEl = gd.closest('.output');\n",
       "if (outputEl) {{\n",
       "    x.observe(outputEl, {childList: true});\n",
       "}}\n",
       "\n",
       "                        })                };                });            </script>        </div>"
      ]
     },
     "metadata": {},
     "output_type": "display_data"
    }
   ],
   "source": [
    "group_data = data.groupby(['platform_category'])['total_sales'].sum()\n",
    "fig = px.bar(group_data, x=\"total_sales\", title=\"Long-Form Input\")\n",
    "fig.show()"
   ]
  },
  {
   "cell_type": "code",
   "execution_count": 101,
   "metadata": {
    "colab": {
     "base_uri": "https://localhost:8080/",
     "height": 542
    },
    "id": "RF3DZV3dKXL4",
    "outputId": "43d57749-e281-4a52-b89a-f0af23ef01f4"
   },
   "outputs": [
    {
     "data": {
      "application/vnd.plotly.v1+json": {
       "config": {
        "plotlyServerURL": "https://plot.ly"
       },
       "data": [
        {
         "alignmentgroup": "True",
         "hovertemplate": "total_sales=%{x}<br>platform_category=%{y}<extra></extra>",
         "legendgroup": "",
         "marker": {
          "color": "#636efa",
          "pattern": {
           "shape": ""
          }
         },
         "name": "",
         "offsetgroup": "",
         "orientation": "h",
         "showlegend": false,
         "textposition": "auto",
         "type": "bar",
         "x": [
          961.2399999999982,
          1693.9599999999498,
          3496.150000000124
         ],
         "xaxis": "x",
         "y": [
          "microsoft",
          "nintendo",
          "sony"
         ],
         "yaxis": "y"
        }
       ],
       "layout": {
        "barmode": "relative",
        "legend": {
         "tracegroupgap": 0
        },
        "margin": {
         "t": 60
        },
        "template": {
         "data": {
          "bar": [
           {
            "error_x": {
             "color": "#2a3f5f"
            },
            "error_y": {
             "color": "#2a3f5f"
            },
            "marker": {
             "line": {
              "color": "#E5ECF6",
              "width": 0.5
             },
             "pattern": {
              "fillmode": "overlay",
              "size": 10,
              "solidity": 0.2
             }
            },
            "type": "bar"
           }
          ],
          "barpolar": [
           {
            "marker": {
             "line": {
              "color": "#E5ECF6",
              "width": 0.5
             },
             "pattern": {
              "fillmode": "overlay",
              "size": 10,
              "solidity": 0.2
             }
            },
            "type": "barpolar"
           }
          ],
          "carpet": [
           {
            "aaxis": {
             "endlinecolor": "#2a3f5f",
             "gridcolor": "white",
             "linecolor": "white",
             "minorgridcolor": "white",
             "startlinecolor": "#2a3f5f"
            },
            "baxis": {
             "endlinecolor": "#2a3f5f",
             "gridcolor": "white",
             "linecolor": "white",
             "minorgridcolor": "white",
             "startlinecolor": "#2a3f5f"
            },
            "type": "carpet"
           }
          ],
          "choropleth": [
           {
            "colorbar": {
             "outlinewidth": 0,
             "ticks": ""
            },
            "type": "choropleth"
           }
          ],
          "contour": [
           {
            "colorbar": {
             "outlinewidth": 0,
             "ticks": ""
            },
            "colorscale": [
             [
              0,
              "#0d0887"
             ],
             [
              0.1111111111111111,
              "#46039f"
             ],
             [
              0.2222222222222222,
              "#7201a8"
             ],
             [
              0.3333333333333333,
              "#9c179e"
             ],
             [
              0.4444444444444444,
              "#bd3786"
             ],
             [
              0.5555555555555556,
              "#d8576b"
             ],
             [
              0.6666666666666666,
              "#ed7953"
             ],
             [
              0.7777777777777778,
              "#fb9f3a"
             ],
             [
              0.8888888888888888,
              "#fdca26"
             ],
             [
              1,
              "#f0f921"
             ]
            ],
            "type": "contour"
           }
          ],
          "contourcarpet": [
           {
            "colorbar": {
             "outlinewidth": 0,
             "ticks": ""
            },
            "type": "contourcarpet"
           }
          ],
          "heatmap": [
           {
            "colorbar": {
             "outlinewidth": 0,
             "ticks": ""
            },
            "colorscale": [
             [
              0,
              "#0d0887"
             ],
             [
              0.1111111111111111,
              "#46039f"
             ],
             [
              0.2222222222222222,
              "#7201a8"
             ],
             [
              0.3333333333333333,
              "#9c179e"
             ],
             [
              0.4444444444444444,
              "#bd3786"
             ],
             [
              0.5555555555555556,
              "#d8576b"
             ],
             [
              0.6666666666666666,
              "#ed7953"
             ],
             [
              0.7777777777777778,
              "#fb9f3a"
             ],
             [
              0.8888888888888888,
              "#fdca26"
             ],
             [
              1,
              "#f0f921"
             ]
            ],
            "type": "heatmap"
           }
          ],
          "heatmapgl": [
           {
            "colorbar": {
             "outlinewidth": 0,
             "ticks": ""
            },
            "colorscale": [
             [
              0,
              "#0d0887"
             ],
             [
              0.1111111111111111,
              "#46039f"
             ],
             [
              0.2222222222222222,
              "#7201a8"
             ],
             [
              0.3333333333333333,
              "#9c179e"
             ],
             [
              0.4444444444444444,
              "#bd3786"
             ],
             [
              0.5555555555555556,
              "#d8576b"
             ],
             [
              0.6666666666666666,
              "#ed7953"
             ],
             [
              0.7777777777777778,
              "#fb9f3a"
             ],
             [
              0.8888888888888888,
              "#fdca26"
             ],
             [
              1,
              "#f0f921"
             ]
            ],
            "type": "heatmapgl"
           }
          ],
          "histogram": [
           {
            "marker": {
             "pattern": {
              "fillmode": "overlay",
              "size": 10,
              "solidity": 0.2
             }
            },
            "type": "histogram"
           }
          ],
          "histogram2d": [
           {
            "colorbar": {
             "outlinewidth": 0,
             "ticks": ""
            },
            "colorscale": [
             [
              0,
              "#0d0887"
             ],
             [
              0.1111111111111111,
              "#46039f"
             ],
             [
              0.2222222222222222,
              "#7201a8"
             ],
             [
              0.3333333333333333,
              "#9c179e"
             ],
             [
              0.4444444444444444,
              "#bd3786"
             ],
             [
              0.5555555555555556,
              "#d8576b"
             ],
             [
              0.6666666666666666,
              "#ed7953"
             ],
             [
              0.7777777777777778,
              "#fb9f3a"
             ],
             [
              0.8888888888888888,
              "#fdca26"
             ],
             [
              1,
              "#f0f921"
             ]
            ],
            "type": "histogram2d"
           }
          ],
          "histogram2dcontour": [
           {
            "colorbar": {
             "outlinewidth": 0,
             "ticks": ""
            },
            "colorscale": [
             [
              0,
              "#0d0887"
             ],
             [
              0.1111111111111111,
              "#46039f"
             ],
             [
              0.2222222222222222,
              "#7201a8"
             ],
             [
              0.3333333333333333,
              "#9c179e"
             ],
             [
              0.4444444444444444,
              "#bd3786"
             ],
             [
              0.5555555555555556,
              "#d8576b"
             ],
             [
              0.6666666666666666,
              "#ed7953"
             ],
             [
              0.7777777777777778,
              "#fb9f3a"
             ],
             [
              0.8888888888888888,
              "#fdca26"
             ],
             [
              1,
              "#f0f921"
             ]
            ],
            "type": "histogram2dcontour"
           }
          ],
          "mesh3d": [
           {
            "colorbar": {
             "outlinewidth": 0,
             "ticks": ""
            },
            "type": "mesh3d"
           }
          ],
          "parcoords": [
           {
            "line": {
             "colorbar": {
              "outlinewidth": 0,
              "ticks": ""
             }
            },
            "type": "parcoords"
           }
          ],
          "pie": [
           {
            "automargin": true,
            "type": "pie"
           }
          ],
          "scatter": [
           {
            "marker": {
             "colorbar": {
              "outlinewidth": 0,
              "ticks": ""
             }
            },
            "type": "scatter"
           }
          ],
          "scatter3d": [
           {
            "line": {
             "colorbar": {
              "outlinewidth": 0,
              "ticks": ""
             }
            },
            "marker": {
             "colorbar": {
              "outlinewidth": 0,
              "ticks": ""
             }
            },
            "type": "scatter3d"
           }
          ],
          "scattercarpet": [
           {
            "marker": {
             "colorbar": {
              "outlinewidth": 0,
              "ticks": ""
             }
            },
            "type": "scattercarpet"
           }
          ],
          "scattergeo": [
           {
            "marker": {
             "colorbar": {
              "outlinewidth": 0,
              "ticks": ""
             }
            },
            "type": "scattergeo"
           }
          ],
          "scattergl": [
           {
            "marker": {
             "colorbar": {
              "outlinewidth": 0,
              "ticks": ""
             }
            },
            "type": "scattergl"
           }
          ],
          "scattermapbox": [
           {
            "marker": {
             "colorbar": {
              "outlinewidth": 0,
              "ticks": ""
             }
            },
            "type": "scattermapbox"
           }
          ],
          "scatterpolar": [
           {
            "marker": {
             "colorbar": {
              "outlinewidth": 0,
              "ticks": ""
             }
            },
            "type": "scatterpolar"
           }
          ],
          "scatterpolargl": [
           {
            "marker": {
             "colorbar": {
              "outlinewidth": 0,
              "ticks": ""
             }
            },
            "type": "scatterpolargl"
           }
          ],
          "scatterternary": [
           {
            "marker": {
             "colorbar": {
              "outlinewidth": 0,
              "ticks": ""
             }
            },
            "type": "scatterternary"
           }
          ],
          "surface": [
           {
            "colorbar": {
             "outlinewidth": 0,
             "ticks": ""
            },
            "colorscale": [
             [
              0,
              "#0d0887"
             ],
             [
              0.1111111111111111,
              "#46039f"
             ],
             [
              0.2222222222222222,
              "#7201a8"
             ],
             [
              0.3333333333333333,
              "#9c179e"
             ],
             [
              0.4444444444444444,
              "#bd3786"
             ],
             [
              0.5555555555555556,
              "#d8576b"
             ],
             [
              0.6666666666666666,
              "#ed7953"
             ],
             [
              0.7777777777777778,
              "#fb9f3a"
             ],
             [
              0.8888888888888888,
              "#fdca26"
             ],
             [
              1,
              "#f0f921"
             ]
            ],
            "type": "surface"
           }
          ],
          "table": [
           {
            "cells": {
             "fill": {
              "color": "#EBF0F8"
             },
             "line": {
              "color": "white"
             }
            },
            "header": {
             "fill": {
              "color": "#C8D4E3"
             },
             "line": {
              "color": "white"
             }
            },
            "type": "table"
           }
          ]
         },
         "layout": {
          "annotationdefaults": {
           "arrowcolor": "#2a3f5f",
           "arrowhead": 0,
           "arrowwidth": 1
          },
          "autotypenumbers": "strict",
          "coloraxis": {
           "colorbar": {
            "outlinewidth": 0,
            "ticks": ""
           }
          },
          "colorscale": {
           "diverging": [
            [
             0,
             "#8e0152"
            ],
            [
             0.1,
             "#c51b7d"
            ],
            [
             0.2,
             "#de77ae"
            ],
            [
             0.3,
             "#f1b6da"
            ],
            [
             0.4,
             "#fde0ef"
            ],
            [
             0.5,
             "#f7f7f7"
            ],
            [
             0.6,
             "#e6f5d0"
            ],
            [
             0.7,
             "#b8e186"
            ],
            [
             0.8,
             "#7fbc41"
            ],
            [
             0.9,
             "#4d9221"
            ],
            [
             1,
             "#276419"
            ]
           ],
           "sequential": [
            [
             0,
             "#0d0887"
            ],
            [
             0.1111111111111111,
             "#46039f"
            ],
            [
             0.2222222222222222,
             "#7201a8"
            ],
            [
             0.3333333333333333,
             "#9c179e"
            ],
            [
             0.4444444444444444,
             "#bd3786"
            ],
            [
             0.5555555555555556,
             "#d8576b"
            ],
            [
             0.6666666666666666,
             "#ed7953"
            ],
            [
             0.7777777777777778,
             "#fb9f3a"
            ],
            [
             0.8888888888888888,
             "#fdca26"
            ],
            [
             1,
             "#f0f921"
            ]
           ],
           "sequentialminus": [
            [
             0,
             "#0d0887"
            ],
            [
             0.1111111111111111,
             "#46039f"
            ],
            [
             0.2222222222222222,
             "#7201a8"
            ],
            [
             0.3333333333333333,
             "#9c179e"
            ],
            [
             0.4444444444444444,
             "#bd3786"
            ],
            [
             0.5555555555555556,
             "#d8576b"
            ],
            [
             0.6666666666666666,
             "#ed7953"
            ],
            [
             0.7777777777777778,
             "#fb9f3a"
            ],
            [
             0.8888888888888888,
             "#fdca26"
            ],
            [
             1,
             "#f0f921"
            ]
           ]
          },
          "colorway": [
           "#636efa",
           "#EF553B",
           "#00cc96",
           "#ab63fa",
           "#FFA15A",
           "#19d3f3",
           "#FF6692",
           "#B6E880",
           "#FF97FF",
           "#FECB52"
          ],
          "font": {
           "color": "#2a3f5f"
          },
          "geo": {
           "bgcolor": "white",
           "lakecolor": "white",
           "landcolor": "#E5ECF6",
           "showlakes": true,
           "showland": true,
           "subunitcolor": "white"
          },
          "hoverlabel": {
           "align": "left"
          },
          "hovermode": "closest",
          "mapbox": {
           "style": "light"
          },
          "paper_bgcolor": "white",
          "plot_bgcolor": "#E5ECF6",
          "polar": {
           "angularaxis": {
            "gridcolor": "white",
            "linecolor": "white",
            "ticks": ""
           },
           "bgcolor": "#E5ECF6",
           "radialaxis": {
            "gridcolor": "white",
            "linecolor": "white",
            "ticks": ""
           }
          },
          "scene": {
           "xaxis": {
            "backgroundcolor": "#E5ECF6",
            "gridcolor": "white",
            "gridwidth": 2,
            "linecolor": "white",
            "showbackground": true,
            "ticks": "",
            "zerolinecolor": "white"
           },
           "yaxis": {
            "backgroundcolor": "#E5ECF6",
            "gridcolor": "white",
            "gridwidth": 2,
            "linecolor": "white",
            "showbackground": true,
            "ticks": "",
            "zerolinecolor": "white"
           },
           "zaxis": {
            "backgroundcolor": "#E5ECF6",
            "gridcolor": "white",
            "gridwidth": 2,
            "linecolor": "white",
            "showbackground": true,
            "ticks": "",
            "zerolinecolor": "white"
           }
          },
          "shapedefaults": {
           "line": {
            "color": "#2a3f5f"
           }
          },
          "ternary": {
           "aaxis": {
            "gridcolor": "white",
            "linecolor": "white",
            "ticks": ""
           },
           "baxis": {
            "gridcolor": "white",
            "linecolor": "white",
            "ticks": ""
           },
           "bgcolor": "#E5ECF6",
           "caxis": {
            "gridcolor": "white",
            "linecolor": "white",
            "ticks": ""
           }
          },
          "title": {
           "x": 0.05
          },
          "xaxis": {
           "automargin": true,
           "gridcolor": "white",
           "linecolor": "white",
           "ticks": "",
           "title": {
            "standoff": 15
           },
           "zerolinecolor": "white",
           "zerolinewidth": 2
          },
          "yaxis": {
           "automargin": true,
           "gridcolor": "white",
           "linecolor": "white",
           "ticks": "",
           "title": {
            "standoff": 15
           },
           "zerolinecolor": "white",
           "zerolinewidth": 2
          }
         }
        },
        "xaxis": {
         "anchor": "y",
         "domain": [
          0,
          1
         ],
         "title": {
          "text": "total_sales"
         }
        },
        "yaxis": {
         "anchor": "x",
         "domain": [
          0,
          1
         ],
         "title": {
          "text": "platform_category"
         }
        }
       }
      },
      "text/html": [
       "<div>                            <div id=\"5bfe9b2e-302a-4827-bd90-7ba91acde749\" class=\"plotly-graph-div\" style=\"height:525px; width:100%;\"></div>            <script type=\"text/javascript\">                require([\"plotly\"], function(Plotly) {                    window.PLOTLYENV=window.PLOTLYENV || {};                                    if (document.getElementById(\"5bfe9b2e-302a-4827-bd90-7ba91acde749\")) {                    Plotly.newPlot(                        \"5bfe9b2e-302a-4827-bd90-7ba91acde749\",                        [{\"alignmentgroup\":\"True\",\"hovertemplate\":\"total_sales=%{x}<br>platform_category=%{y}<extra></extra>\",\"legendgroup\":\"\",\"marker\":{\"color\":\"#636efa\",\"pattern\":{\"shape\":\"\"}},\"name\":\"\",\"offsetgroup\":\"\",\"orientation\":\"h\",\"showlegend\":false,\"textposition\":\"auto\",\"x\":[961.2399999999982,1693.9599999999498,3496.150000000124],\"xaxis\":\"x\",\"y\":[\"microsoft\",\"nintendo\",\"sony\"],\"yaxis\":\"y\",\"type\":\"bar\"}],                        {\"template\":{\"data\":{\"bar\":[{\"error_x\":{\"color\":\"#2a3f5f\"},\"error_y\":{\"color\":\"#2a3f5f\"},\"marker\":{\"line\":{\"color\":\"#E5ECF6\",\"width\":0.5},\"pattern\":{\"fillmode\":\"overlay\",\"size\":10,\"solidity\":0.2}},\"type\":\"bar\"}],\"barpolar\":[{\"marker\":{\"line\":{\"color\":\"#E5ECF6\",\"width\":0.5},\"pattern\":{\"fillmode\":\"overlay\",\"size\":10,\"solidity\":0.2}},\"type\":\"barpolar\"}],\"carpet\":[{\"aaxis\":{\"endlinecolor\":\"#2a3f5f\",\"gridcolor\":\"white\",\"linecolor\":\"white\",\"minorgridcolor\":\"white\",\"startlinecolor\":\"#2a3f5f\"},\"baxis\":{\"endlinecolor\":\"#2a3f5f\",\"gridcolor\":\"white\",\"linecolor\":\"white\",\"minorgridcolor\":\"white\",\"startlinecolor\":\"#2a3f5f\"},\"type\":\"carpet\"}],\"choropleth\":[{\"colorbar\":{\"outlinewidth\":0,\"ticks\":\"\"},\"type\":\"choropleth\"}],\"contour\":[{\"colorbar\":{\"outlinewidth\":0,\"ticks\":\"\"},\"colorscale\":[[0.0,\"#0d0887\"],[0.1111111111111111,\"#46039f\"],[0.2222222222222222,\"#7201a8\"],[0.3333333333333333,\"#9c179e\"],[0.4444444444444444,\"#bd3786\"],[0.5555555555555556,\"#d8576b\"],[0.6666666666666666,\"#ed7953\"],[0.7777777777777778,\"#fb9f3a\"],[0.8888888888888888,\"#fdca26\"],[1.0,\"#f0f921\"]],\"type\":\"contour\"}],\"contourcarpet\":[{\"colorbar\":{\"outlinewidth\":0,\"ticks\":\"\"},\"type\":\"contourcarpet\"}],\"heatmap\":[{\"colorbar\":{\"outlinewidth\":0,\"ticks\":\"\"},\"colorscale\":[[0.0,\"#0d0887\"],[0.1111111111111111,\"#46039f\"],[0.2222222222222222,\"#7201a8\"],[0.3333333333333333,\"#9c179e\"],[0.4444444444444444,\"#bd3786\"],[0.5555555555555556,\"#d8576b\"],[0.6666666666666666,\"#ed7953\"],[0.7777777777777778,\"#fb9f3a\"],[0.8888888888888888,\"#fdca26\"],[1.0,\"#f0f921\"]],\"type\":\"heatmap\"}],\"heatmapgl\":[{\"colorbar\":{\"outlinewidth\":0,\"ticks\":\"\"},\"colorscale\":[[0.0,\"#0d0887\"],[0.1111111111111111,\"#46039f\"],[0.2222222222222222,\"#7201a8\"],[0.3333333333333333,\"#9c179e\"],[0.4444444444444444,\"#bd3786\"],[0.5555555555555556,\"#d8576b\"],[0.6666666666666666,\"#ed7953\"],[0.7777777777777778,\"#fb9f3a\"],[0.8888888888888888,\"#fdca26\"],[1.0,\"#f0f921\"]],\"type\":\"heatmapgl\"}],\"histogram\":[{\"marker\":{\"pattern\":{\"fillmode\":\"overlay\",\"size\":10,\"solidity\":0.2}},\"type\":\"histogram\"}],\"histogram2d\":[{\"colorbar\":{\"outlinewidth\":0,\"ticks\":\"\"},\"colorscale\":[[0.0,\"#0d0887\"],[0.1111111111111111,\"#46039f\"],[0.2222222222222222,\"#7201a8\"],[0.3333333333333333,\"#9c179e\"],[0.4444444444444444,\"#bd3786\"],[0.5555555555555556,\"#d8576b\"],[0.6666666666666666,\"#ed7953\"],[0.7777777777777778,\"#fb9f3a\"],[0.8888888888888888,\"#fdca26\"],[1.0,\"#f0f921\"]],\"type\":\"histogram2d\"}],\"histogram2dcontour\":[{\"colorbar\":{\"outlinewidth\":0,\"ticks\":\"\"},\"colorscale\":[[0.0,\"#0d0887\"],[0.1111111111111111,\"#46039f\"],[0.2222222222222222,\"#7201a8\"],[0.3333333333333333,\"#9c179e\"],[0.4444444444444444,\"#bd3786\"],[0.5555555555555556,\"#d8576b\"],[0.6666666666666666,\"#ed7953\"],[0.7777777777777778,\"#fb9f3a\"],[0.8888888888888888,\"#fdca26\"],[1.0,\"#f0f921\"]],\"type\":\"histogram2dcontour\"}],\"mesh3d\":[{\"colorbar\":{\"outlinewidth\":0,\"ticks\":\"\"},\"type\":\"mesh3d\"}],\"parcoords\":[{\"line\":{\"colorbar\":{\"outlinewidth\":0,\"ticks\":\"\"}},\"type\":\"parcoords\"}],\"pie\":[{\"automargin\":true,\"type\":\"pie\"}],\"scatter\":[{\"marker\":{\"colorbar\":{\"outlinewidth\":0,\"ticks\":\"\"}},\"type\":\"scatter\"}],\"scatter3d\":[{\"line\":{\"colorbar\":{\"outlinewidth\":0,\"ticks\":\"\"}},\"marker\":{\"colorbar\":{\"outlinewidth\":0,\"ticks\":\"\"}},\"type\":\"scatter3d\"}],\"scattercarpet\":[{\"marker\":{\"colorbar\":{\"outlinewidth\":0,\"ticks\":\"\"}},\"type\":\"scattercarpet\"}],\"scattergeo\":[{\"marker\":{\"colorbar\":{\"outlinewidth\":0,\"ticks\":\"\"}},\"type\":\"scattergeo\"}],\"scattergl\":[{\"marker\":{\"colorbar\":{\"outlinewidth\":0,\"ticks\":\"\"}},\"type\":\"scattergl\"}],\"scattermapbox\":[{\"marker\":{\"colorbar\":{\"outlinewidth\":0,\"ticks\":\"\"}},\"type\":\"scattermapbox\"}],\"scatterpolar\":[{\"marker\":{\"colorbar\":{\"outlinewidth\":0,\"ticks\":\"\"}},\"type\":\"scatterpolar\"}],\"scatterpolargl\":[{\"marker\":{\"colorbar\":{\"outlinewidth\":0,\"ticks\":\"\"}},\"type\":\"scatterpolargl\"}],\"scatterternary\":[{\"marker\":{\"colorbar\":{\"outlinewidth\":0,\"ticks\":\"\"}},\"type\":\"scatterternary\"}],\"surface\":[{\"colorbar\":{\"outlinewidth\":0,\"ticks\":\"\"},\"colorscale\":[[0.0,\"#0d0887\"],[0.1111111111111111,\"#46039f\"],[0.2222222222222222,\"#7201a8\"],[0.3333333333333333,\"#9c179e\"],[0.4444444444444444,\"#bd3786\"],[0.5555555555555556,\"#d8576b\"],[0.6666666666666666,\"#ed7953\"],[0.7777777777777778,\"#fb9f3a\"],[0.8888888888888888,\"#fdca26\"],[1.0,\"#f0f921\"]],\"type\":\"surface\"}],\"table\":[{\"cells\":{\"fill\":{\"color\":\"#EBF0F8\"},\"line\":{\"color\":\"white\"}},\"header\":{\"fill\":{\"color\":\"#C8D4E3\"},\"line\":{\"color\":\"white\"}},\"type\":\"table\"}]},\"layout\":{\"annotationdefaults\":{\"arrowcolor\":\"#2a3f5f\",\"arrowhead\":0,\"arrowwidth\":1},\"autotypenumbers\":\"strict\",\"coloraxis\":{\"colorbar\":{\"outlinewidth\":0,\"ticks\":\"\"}},\"colorscale\":{\"diverging\":[[0,\"#8e0152\"],[0.1,\"#c51b7d\"],[0.2,\"#de77ae\"],[0.3,\"#f1b6da\"],[0.4,\"#fde0ef\"],[0.5,\"#f7f7f7\"],[0.6,\"#e6f5d0\"],[0.7,\"#b8e186\"],[0.8,\"#7fbc41\"],[0.9,\"#4d9221\"],[1,\"#276419\"]],\"sequential\":[[0.0,\"#0d0887\"],[0.1111111111111111,\"#46039f\"],[0.2222222222222222,\"#7201a8\"],[0.3333333333333333,\"#9c179e\"],[0.4444444444444444,\"#bd3786\"],[0.5555555555555556,\"#d8576b\"],[0.6666666666666666,\"#ed7953\"],[0.7777777777777778,\"#fb9f3a\"],[0.8888888888888888,\"#fdca26\"],[1.0,\"#f0f921\"]],\"sequentialminus\":[[0.0,\"#0d0887\"],[0.1111111111111111,\"#46039f\"],[0.2222222222222222,\"#7201a8\"],[0.3333333333333333,\"#9c179e\"],[0.4444444444444444,\"#bd3786\"],[0.5555555555555556,\"#d8576b\"],[0.6666666666666666,\"#ed7953\"],[0.7777777777777778,\"#fb9f3a\"],[0.8888888888888888,\"#fdca26\"],[1.0,\"#f0f921\"]]},\"colorway\":[\"#636efa\",\"#EF553B\",\"#00cc96\",\"#ab63fa\",\"#FFA15A\",\"#19d3f3\",\"#FF6692\",\"#B6E880\",\"#FF97FF\",\"#FECB52\"],\"font\":{\"color\":\"#2a3f5f\"},\"geo\":{\"bgcolor\":\"white\",\"lakecolor\":\"white\",\"landcolor\":\"#E5ECF6\",\"showlakes\":true,\"showland\":true,\"subunitcolor\":\"white\"},\"hoverlabel\":{\"align\":\"left\"},\"hovermode\":\"closest\",\"mapbox\":{\"style\":\"light\"},\"paper_bgcolor\":\"white\",\"plot_bgcolor\":\"#E5ECF6\",\"polar\":{\"angularaxis\":{\"gridcolor\":\"white\",\"linecolor\":\"white\",\"ticks\":\"\"},\"bgcolor\":\"#E5ECF6\",\"radialaxis\":{\"gridcolor\":\"white\",\"linecolor\":\"white\",\"ticks\":\"\"}},\"scene\":{\"xaxis\":{\"backgroundcolor\":\"#E5ECF6\",\"gridcolor\":\"white\",\"gridwidth\":2,\"linecolor\":\"white\",\"showbackground\":true,\"ticks\":\"\",\"zerolinecolor\":\"white\"},\"yaxis\":{\"backgroundcolor\":\"#E5ECF6\",\"gridcolor\":\"white\",\"gridwidth\":2,\"linecolor\":\"white\",\"showbackground\":true,\"ticks\":\"\",\"zerolinecolor\":\"white\"},\"zaxis\":{\"backgroundcolor\":\"#E5ECF6\",\"gridcolor\":\"white\",\"gridwidth\":2,\"linecolor\":\"white\",\"showbackground\":true,\"ticks\":\"\",\"zerolinecolor\":\"white\"}},\"shapedefaults\":{\"line\":{\"color\":\"#2a3f5f\"}},\"ternary\":{\"aaxis\":{\"gridcolor\":\"white\",\"linecolor\":\"white\",\"ticks\":\"\"},\"baxis\":{\"gridcolor\":\"white\",\"linecolor\":\"white\",\"ticks\":\"\"},\"bgcolor\":\"#E5ECF6\",\"caxis\":{\"gridcolor\":\"white\",\"linecolor\":\"white\",\"ticks\":\"\"}},\"title\":{\"x\":0.05},\"xaxis\":{\"automargin\":true,\"gridcolor\":\"white\",\"linecolor\":\"white\",\"ticks\":\"\",\"title\":{\"standoff\":15},\"zerolinecolor\":\"white\",\"zerolinewidth\":2},\"yaxis\":{\"automargin\":true,\"gridcolor\":\"white\",\"linecolor\":\"white\",\"ticks\":\"\",\"title\":{\"standoff\":15},\"zerolinecolor\":\"white\",\"zerolinewidth\":2}}},\"xaxis\":{\"anchor\":\"y\",\"domain\":[0.0,1.0],\"title\":{\"text\":\"total_sales\"}},\"yaxis\":{\"anchor\":\"x\",\"domain\":[0.0,1.0],\"title\":{\"text\":\"platform_category\"}},\"legend\":{\"tracegroupgap\":0},\"margin\":{\"t\":60},\"barmode\":\"relative\"},                        {\"responsive\": true}                    ).then(function(){\n",
       "                            \n",
       "var gd = document.getElementById('5bfe9b2e-302a-4827-bd90-7ba91acde749');\n",
       "var x = new MutationObserver(function (mutations, observer) {{\n",
       "        var display = window.getComputedStyle(gd).display;\n",
       "        if (!display || display === 'none') {{\n",
       "            console.log([gd, 'removed!']);\n",
       "            Plotly.purge(gd);\n",
       "            observer.disconnect();\n",
       "        }}\n",
       "}});\n",
       "\n",
       "// Listen for the removal of the full notebook cells\n",
       "var notebookContainer = gd.closest('#notebook-container');\n",
       "if (notebookContainer) {{\n",
       "    x.observe(notebookContainer, {childList: true});\n",
       "}}\n",
       "\n",
       "// Listen for the clearing of the current output cell\n",
       "var outputEl = gd.closest('.output');\n",
       "if (outputEl) {{\n",
       "    x.observe(outputEl, {childList: true});\n",
       "}}\n",
       "\n",
       "                        })                };                });            </script>        </div>"
      ]
     },
     "metadata": {},
     "output_type": "display_data"
    }
   ],
   "source": [
    "group_data = platform_best.groupby(['platform_category'])['total_sales'].sum()\n",
    "fig = px.bar(group_data, x=\"total_sales\")\n",
    "fig.show()"
   ]
  },
  {
   "cell_type": "markdown",
   "metadata": {
    "id": "e8Ajppl0KoFn"
   },
   "source": [
    "Несмотря на то, что sony и nintendo в абсолютных продажах не уступают друг другу, в выборке по лучшим приставкам sony превосходит nintendo почти в полтора раза. Этот график показывает, что PS чаще меняет поколения и они более актуальны"
   ]
  },
  {
   "cell_type": "code",
   "execution_count": 67,
   "metadata": {
    "colab": {
     "base_uri": "https://localhost:8080/",
     "height": 374
    },
    "id": "QCEt83xy_l8e",
    "outputId": "19250034-4dcf-4e22-82c2-68c5372908b6"
   },
   "outputs": [
    {
     "data": {
      "text/plain": [
       "<AxesSubplot:xlabel='year_of_release', ylabel='platform'>"
      ]
     },
     "execution_count": 67,
     "metadata": {},
     "output_type": "execute_result"
    },
    {
     "data": {
      "image/png": "[encoded data removed]",
      "text/plain": [
       "<Figure size 1440x360 with 2 Axes>"
      ]
     },
     "metadata": {
      "needs_background": "light"
     },
     "output_type": "display_data"
    }
   ],
   "source": [
    "data_pivot_plat_year=data.pivot_table(index=\"platform\",columns='year_of_release',values='total_sales',aggfunc=('sum'))\n",
    "top_heat=data_pivot_plat_year.query('platform in @p_filter')\n",
    "plt.figure(figsize=(20,5))\n",
    "sns.heatmap(top_heat, fmt='d');"
   ]
  },
  {
   "cell_type": "markdown",
   "metadata": {
    "id": "tbJoKzL16EG-"
   },
   "source": [
    "Ps2 вышла в 2000, 4 года держалась на высоком уровне, потом пошел спад до10 года\n",
    "Х360 вышла в 2005 , с пиком в 2010 и совсем ушла с рынка в 2016\n",
    "ps3 появилась в 2006, спрос рос до 2011 и изчез в 2016\n",
    "Wii вышла в 2006 и совсем угасала с 2013\n",
    "ds вшла в 2004, был стабильный высокий спрос до 2010\n",
    "ps вышла в 1994 и продавалась до 2002\n",
    "GBA продавался с 2001 по 2007\n",
    "PS4 вышла в 2013, но наши данные обрываются в 2016, и неизвестно, есть ли дальнейший рост\n",
    "PSP вышла в 2004 и изчезла с графика в 2014\n",
    "В среднем платформы живут на рынке 9-10 лет, перекрывая жизнь поколений своих производителей и не отставая от конкурентов. Не успешные платформы сразу показывают короткий период жизни\n",
    "Для смены поколения необходимо минимум 2 года, но это уже когда спрос на платформу начинает падать\n",
    "\n",
    "В этом графике видно, насколько сильно и долго лидировали те или иные платформы. \n",
    "Интересно, что пик популярности смещен к началу презентации и далее идет медленное угасание продаж. Возможно, это повлияет на будщие прогнозы по продажам"
   ]
  },
  {
   "cell_type": "markdown",
   "metadata": {
    "id": "x1IZFz2PHbA_"
   },
   "source": [
    "### Определение перспективных платформ по продажам ###"
   ]
  },
  {
   "cell_type": "markdown",
   "metadata": {
    "id": "NnR_rbTW8DEW"
   },
   "source": [
    "В среднем жизнь платформы составляет до 10 лет, с стремительным набором популярности до середины актуальности и дальнейшим уменьшением популярности.\n",
    "\n",
    "Если платформа только вышла, то у продавцов игр есть 4-5 лет для активной продажи и 4-5 лет для ниспадающих продаж.\n",
    "\n",
    "Если нам нужно составить прогноз к 2017, то считаю коректным выбрать актуальный период в 5 лет, с 2012 года и далее. Так мы можем увидеть и актуальные тенденции и угасающие\n",
    "\n"
   ]
  },
  {
   "cell_type": "markdown",
   "metadata": {
    "id": "T1nYIJ_YHbA_"
   },
   "source": [
    "### ящик сусами. Глобальные продажи игр в разбивке по платформам. Результат ###"
   ]
  },
  {
   "cell_type": "code",
   "execution_count": 68,
   "metadata": {
    "colab": {
     "base_uri": "https://localhost:8080/",
     "height": 632
    },
    "id": "YRBPMI636q_7",
    "outputId": "710e50de-9322-437a-e325-6be9f25ff7cb"
   },
   "outputs": [
    {
     "data": {
      "text/plain": [
       "<AxesSubplot:xlabel='platform', ylabel='total_sales'>"
      ]
     },
     "execution_count": 68,
     "metadata": {},
     "output_type": "execute_result"
    },
    {
     "data": {
      "image/png": "[encoded data removed]",
      "text/plain": [
       "<Figure size 1440x720 with 1 Axes>"
      ]
     },
     "metadata": {
      "needs_background": "light"
     },
     "output_type": "display_data"
    }
   ],
   "source": [
    "actual_data=data.query('platform in @p_filter and year_of_release>=2010')\n",
    "plt.figure(figsize=(20,10))\n",
    "plt.ylim(0,10)\n",
    "sns.boxplot(x='platform',y='total_sales',data=actual_data)"
   ]
  },
  {
   "cell_type": "markdown",
   "metadata": {
    "id": "6CTKJuMAJ8Zj"
   },
   "source": [
    "Большинство успешных игр были на платформах Х360 и PS4. Но у них медианы довольно сильно скошенны влево. PS2 хоть и выделяется на тепловом графике, по общему числу может сравниться с PSP"
   ]
  },
  {
   "cell_type": "markdown",
   "metadata": {
    "id": "v5Pme-3kHbBA"
   },
   "source": [
    "### Корреляция продаж и отзывов. Диаграмма рассеяния, корр. между отз. и продажами.Выводы ###"
   ]
  },
  {
   "cell_type": "code",
   "execution_count": 69,
   "metadata": {
    "colab": {
     "base_uri": "https://localhost:8080/",
     "height": 410
    },
    "id": "82LbGQYQOXFD",
    "outputId": "a77fba68-70e6-45c4-d28d-1ca406c2d8bc"
   },
   "outputs": [
    {
     "data": {
      "text/plain": [
       "<AxesSubplot:title={'center':'зависимость продаж платформы  PS3 от отзывов критиков'}, xlabel='critic_score', ylabel='total_sales'>"
      ]
     },
     "execution_count": 69,
     "metadata": {},
     "output_type": "execute_result"
    },
    {
     "data": {
      "image/png": "[encoded data removed]",
      "text/plain": [
       "<Figure size 1440x360 with 1 Axes>"
      ]
     },
     "metadata": {
      "needs_background": "light"
     },
     "output_type": "display_data"
    }
   ],
   "source": [
    "actual_data.query('platform==\"PS3\" and total_sales<=3').sort_values(by='critic_score',ascending=True).plot(kind='scatter',x='critic_score',y='total_sales',figsize=(20, 5),title='зависимость продаж платформы  PS3 от отзывов критиков')\n"
   ]
  },
  {
   "cell_type": "markdown",
   "metadata": {
    "id": "tNfbrKylREQ9"
   },
   "source": [
    "Большинство продаж с рейтингом больше 50, посмотрим на другие платформы"
   ]
  },
  {
   "cell_type": "code",
   "execution_count": 70,
   "metadata": {
    "colab": {
     "base_uri": "https://localhost:8080/",
     "height": 410
    },
    "id": "vjRG9pAyQC1j",
    "outputId": "2c491aa7-805d-4b71-ebbe-f49c39c040d1"
   },
   "outputs": [
    {
     "data": {
      "text/plain": [
       "<AxesSubplot:title={'center':'зависимость продаж платформы  PS4 от отзывов критиков'}, xlabel='critic_score', ylabel='total_sales'>"
      ]
     },
     "execution_count": 70,
     "metadata": {},
     "output_type": "execute_result"
    },
    {
     "data": {
      "image/png": "[encoded data removed]",
      "text/plain": [
       "<Figure size 1440x360 with 1 Axes>"
      ]
     },
     "metadata": {
      "needs_background": "light"
     },
     "output_type": "display_data"
    }
   ],
   "source": [
    "actual_data.query('platform==\"PS4\" and total_sales<=3').sort_values(by='critic_score',ascending=True).plot(kind='scatter',x='critic_score',y='total_sales',figsize=(20, 5),title='зависимость продаж платформы  PS4 от отзывов критиков')\n"
   ]
  },
  {
   "cell_type": "markdown",
   "metadata": {
    "id": "bXDcn5DcRRzi"
   },
   "source": [
    "на PS4 небольшое количество продаж, да и данные у нас неполные для обширного анализа, но и здесь видно, что чем больше оценка, тем больше продаж"
   ]
  },
  {
   "cell_type": "code",
   "execution_count": 71,
   "metadata": {
    "colab": {
     "base_uri": "https://localhost:8080/",
     "height": 410
    },
    "id": "DSL9shidQDEr",
    "outputId": "2ac5c57c-3a78-4a7e-f317-430169ada563"
   },
   "outputs": [
    {
     "data": {
      "text/plain": [
       "<AxesSubplot:title={'center':'зависимость продаж платформы  X360 от отзывов критиков'}, xlabel='critic_score', ylabel='total_sales'>"
      ]
     },
     "execution_count": 71,
     "metadata": {},
     "output_type": "execute_result"
    },
    {
     "data": {
      "image/png": "[encoded data removed]",
      "text/plain": [
       "<Figure size 1440x360 with 1 Axes>"
      ]
     },
     "metadata": {
      "needs_background": "light"
     },
     "output_type": "display_data"
    }
   ],
   "source": [
    "actual_data.query('platform==\"X360\" and total_sales<=3').sort_values(by='critic_score',ascending=True).plot(kind='scatter',x='critic_score',y='total_sales',figsize=(20, 5),title='зависимость продаж платформы  X360 от отзывов критиков')\n"
   ]
  },
  {
   "cell_type": "markdown",
   "metadata": {
    "id": "Hr5YM6_DSAkv"
   },
   "source": [
    "для X360 зависимость более плавная и более частые покупки связаны с высоким рейтингом, но игроки готовы покупать и менее пополярные игры"
   ]
  },
  {
   "cell_type": "code",
   "execution_count": 72,
   "metadata": {
    "colab": {
     "base_uri": "https://localhost:8080/",
     "height": 410
    },
    "id": "Vymx99RLQDOx",
    "outputId": "59afd27d-7ef7-4135-ad78-6d02c3014f04"
   },
   "outputs": [
    {
     "data": {
      "text/plain": [
       "<AxesSubplot:title={'center':'зависимость продаж платформы  PS3 от отзывов игроков'}, xlabel='user_score', ylabel='total_sales'>"
      ]
     },
     "execution_count": 72,
     "metadata": {},
     "output_type": "execute_result"
    },
    {
     "data": {
      "image/png": "[encoded data removed]",
      "text/plain": [
       "<Figure size 1440x360 with 1 Axes>"
      ]
     },
     "metadata": {
      "needs_background": "light"
     },
     "output_type": "display_data"
    }
   ],
   "source": [
    "actual_data.query('platform==\"PS3\" and total_sales<=3').sort_values(by='user_score',ascending=True).plot(kind='scatter',x='user_score',y='total_sales',figsize=(20,5),title='зависимость продаж платформы  PS3 от отзывов игроков')\n"
   ]
  },
  {
   "cell_type": "markdown",
   "metadata": {
    "id": "Raolv6H3SUQz"
   },
   "source": [
    "Для PS3 картина в общем и целом сохраняется - чем выше оценка, тем больше продаж"
   ]
  },
  {
   "cell_type": "code",
   "execution_count": 73,
   "metadata": {
    "colab": {
     "base_uri": "https://localhost:8080/"
    },
    "id": "Hl34UwsWQDS5",
    "outputId": "3d249b3e-28c2-445a-b8e4-e78bf4843adb"
   },
   "outputs": [
    {
     "data": {
      "text/plain": [
       "0.25247636215531116"
      ]
     },
     "execution_count": 73,
     "metadata": {},
     "output_type": "execute_result"
    }
   ],
   "source": [
    "ps3_actual=actual_data.query('platform==\"PS3\"')\n",
    "ps3_actual['total_sales'].corr(ps3_actual['user_score'])"
   ]
  },
  {
   "cell_type": "code",
   "execution_count": 74,
   "metadata": {
    "colab": {
     "base_uri": "https://localhost:8080/"
    },
    "id": "CxRrzdU2XeMd",
    "outputId": "df8606c4-916a-4e08-85c5-4327b7246dfa"
   },
   "outputs": [
    {
     "data": {
      "text/plain": [
       "0.25247636215531116"
      ]
     },
     "execution_count": 74,
     "metadata": {},
     "output_type": "execute_result"
    }
   ],
   "source": [
    "X360_actual=actual_data.query('platform==\"X360\"')\n",
    "ps3_actual['total_sales'].corr(ps3_actual['user_score'])"
   ]
  },
  {
   "cell_type": "markdown",
   "metadata": {
    "id": "DudWt79kYXoD"
   },
   "source": [
    "Зависимость продаж от оценки игроков не сильная"
   ]
  },
  {
   "cell_type": "code",
   "execution_count": 75,
   "metadata": {
    "colab": {
     "base_uri": "https://localhost:8080/"
    },
    "id": "pGovb3YQXlfn",
    "outputId": "778063ce-a033-4d99-bbe7-0f6cb14cfca8"
   },
   "outputs": [
    {
     "data": {
      "text/plain": [
       "0.3367978624916017"
      ]
     },
     "execution_count": 75,
     "metadata": {},
     "output_type": "execute_result"
    }
   ],
   "source": [
    "ps3_actual['total_sales'].corr(ps3_actual['critic_score'])"
   ]
  },
  {
   "cell_type": "code",
   "execution_count": 76,
   "metadata": {
    "colab": {
     "base_uri": "https://localhost:8080/"
    },
    "id": "FeLyuqIHXlkg",
    "outputId": "79f9ef68-85c0-48f3-9fb2-85ad64fa8916"
   },
   "outputs": [
    {
     "data": {
      "text/plain": [
       "0.3042887201750376"
      ]
     },
     "execution_count": 76,
     "metadata": {},
     "output_type": "execute_result"
    }
   ],
   "source": [
    "\n",
    "X360_actual['total_sales'].corr(X360_actual['critic_score'])"
   ]
  },
  {
   "cell_type": "markdown",
   "metadata": {
    "id": "LKNouovVYeF0"
   },
   "source": [
    "зависимость продаж от оценки критиков положительная\n"
   ]
  },
  {
   "cell_type": "code",
   "execution_count": 77,
   "metadata": {
    "colab": {
     "base_uri": "https://localhost:8080/"
    },
    "id": "ydG1WNrlXln_",
    "outputId": "01e7ce3c-154e-4ea7-988d-028d7605a4bd"
   },
   "outputs": [
    {
     "data": {
      "text/plain": [
       "0.3476235723677851"
      ]
     },
     "execution_count": 77,
     "metadata": {},
     "output_type": "execute_result"
    }
   ],
   "source": [
    "sony_actual=actual_data.query('platform_category==\"sony\"')\n",
    "sony_actual['total_sales'].corr(sony_actual['critic_score'])"
   ]
  },
  {
   "cell_type": "code",
   "execution_count": 78,
   "metadata": {
    "colab": {
     "base_uri": "https://localhost:8080/"
    },
    "id": "ujIoVeq8XlrH",
    "outputId": "da2367f7-44fd-43e4-9e41-a8bdf4f0d881"
   },
   "outputs": [
    {
     "data": {
      "text/plain": [
       "0.369662662063952"
      ]
     },
     "execution_count": 78,
     "metadata": {},
     "output_type": "execute_result"
    }
   ],
   "source": [
    "nintendo_actual=actual_data.query('platform_category==\"nintendo\" and total_sales<=3')\n",
    "nintendo_actual['total_sales'].corr(nintendo_actual['critic_score'])"
   ]
  },
  {
   "cell_type": "markdown",
   "metadata": {
    "id": "hgRd_twHYk2b"
   },
   "source": [
    "зависимость продаж по производителям и оценкам критиков различается и у sony сильнее, чем у nintendo\n",
    "можно предположить, что более успешные платформы получают оценки выше и чем выше оценки, тем и больше продажи"
   ]
  },
  {
   "cell_type": "markdown",
   "metadata": {
    "id": "2PE4jxAJHbBA"
   },
   "source": [
    "### Продажи на других платформах ###"
   ]
  },
  {
   "cell_type": "markdown",
   "metadata": {
    "id": "2Z8_YTgWHbBA"
   },
   "source": [
    "### Распределение игр по жанрам. Самые прибыльные жанры? выделяются ли жанры с низ.и выс.продажами ###"
   ]
  },
  {
   "cell_type": "code",
   "execution_count": 79,
   "metadata": {
    "colab": {
     "base_uri": "https://localhost:8080/",
     "height": 502
    },
    "id": "rBwKfCbX0Mw0",
    "outputId": "23ad6d9a-3fa9-43b1-dea3-2a522e2cf5c9"
   },
   "outputs": [
    {
     "data": {
      "image/png": "[encoded data removed]",
      "text/plain": [
       "<Figure size 1440x576 with 2 Axes>"
      ]
     },
     "metadata": {},
     "output_type": "display_data"
    }
   ],
   "source": [
    "heat_genre_year = actual_data.pivot_table(index='genre',\n",
    "                                          columns='year_of_release',\n",
    "                                          values='name',\n",
    "                                          aggfunc='count')\n",
    "sns.set(rc = {'figure.figsize':(20,8)})\n",
    "sns.heatmap(heat_genre_year, fmt='d', cmap=\"Spectral\");"
   ]
  },
  {
   "cell_type": "code",
   "execution_count": 80,
   "metadata": {
    "colab": {
     "base_uri": "https://localhost:8080/",
     "height": 468
    },
    "id": "gJA9p4qpcuc6",
    "outputId": "f2534c87-c164-4b43-d4bf-08d579a49ec0"
   },
   "outputs": [
    {
     "data": {
      "image/png": "[encoded data removed]",
      "text/plain": [
       "<Figure size 1440x432 with 1 Axes>"
      ]
     },
     "metadata": {},
     "output_type": "display_data"
    }
   ],
   "source": [
    "genre_sales=actual_data.groupby('genre')['total_sales'].sum().sort_values(ascending=False)\n",
    "genre_sales.plot(y='genre',grid=True,figsize=(20,6),kind='bar',title='Продажи по жанрам');\n"
   ]
  },
  {
   "cell_type": "markdown",
   "metadata": {
    "id": "BSkjiF7JdWgU"
   },
   "source": [
    "самый многочисленные по продажам это экшены, спортивные игры и шутеры\n",
    "\n",
    "не популярные по продажам приключения, пазлы и стратегии\n",
    "\n",
    "несмотря на то, что пик экшенов пришелся на начало исследуемого периода, интерес к нему не утих и в конце актуального периода"
   ]
  },
  {
   "cell_type": "code",
   "execution_count": 81,
   "metadata": {
    "colab": {
     "base_uri": "https://localhost:8080/",
     "height": 506
    },
    "id": "LwJRvaqcaPO9",
    "outputId": "265eb551-3c65-40cd-9c27-30a4a4830ad2"
   },
   "outputs": [
    {
     "data": {
      "image/png": "[encoded data removed]",
      "text/plain": [
       "<Figure size 720x504 with 2 Axes>"
      ]
     },
     "metadata": {},
     "output_type": "display_data"
    }
   ],
   "source": [
    "heatmap_user=platform_best.pivot_table(index='platform',columns='genre',values='user_score')\n",
    "plt.figure(figsize=(10,7))\n",
    "sns.heatmap(heatmap_user);"
   ]
  },
  {
   "cell_type": "code",
   "execution_count": 82,
   "metadata": {
    "colab": {
     "base_uri": "https://localhost:8080/",
     "height": 506
    },
    "id": "VaowoHJTaMDt",
    "outputId": "2b4d558e-ff1c-4c43-b16a-6f63b4421784"
   },
   "outputs": [
    {
     "data": {
      "image/png": "[encoded data removed]",
      "text/plain": [
       "<Figure size 720x504 with 2 Axes>"
      ]
     },
     "metadata": {},
     "output_type": "display_data"
    }
   ],
   "source": [
    "heatmap_critic=platform_best.pivot_table(index='platform',columns='genre',values='critic_score') \n",
    "plt.figure(figsize=(10,7))\n",
    "sns.heatmap(heatmap_critic);"
   ]
  },
  {
   "cell_type": "markdown",
   "metadata": {
    "id": "PdtEjBUNat-r"
   },
   "source": [
    "самая высокооцениваемый жанр это puzzle на ps4, возможно это популярная у подростков minecraft, и не удивительно, что любимая игра активной части аудитории получает больше всего оценок\n"
   ]
  },
  {
   "cell_type": "code",
   "execution_count": 83,
   "metadata": {
    "colab": {
     "base_uri": "https://localhost:8080/",
     "height": 506
    },
    "id": "oeAEP7h1bbz8",
    "outputId": "764a6b60-5052-4802-ceaa-4f0cdf3878b2"
   },
   "outputs": [
    {
     "data": {
      "image/png": "[encoded data removed]",
      "text/plain": [
       "<Figure size 720x504 with 2 Axes>"
      ]
     },
     "metadata": {},
     "output_type": "display_data"
    }
   ],
   "source": [
    "heatmap_critic=platform_best.pivot_table(index='platform',columns='genre',values='total_sales') \n",
    "plt.figure(figsize=(10,7))\n",
    "sns.heatmap(heatmap_critic);"
   ]
  },
  {
   "cell_type": "markdown",
   "metadata": {
    "id": "wCptHL-4cAWV"
   },
   "source": [
    "по продажам лидируют шутеры и спортивные игры на PS4\n",
    "шутеры на PS3 и Х360\n",
    "также популярны платформенные игры и спортивные на Wii\n",
    "выделение жанров по продажам достаточное, чтобы обратить на это внимание"
   ]
  },
  {
   "cell_type": "markdown",
   "metadata": {
    "id": "cOTQHgUdHbBB"
   },
   "source": [
    "# Составление портрета пользователя каждого региона # "
   ]
  },
  {
   "cell_type": "markdown",
   "metadata": {
    "id": "9zt9JGiJHbBB"
   },
   "source": [
    "## Определение пользователя кажого региона (3шт)"
   ]
  },
  {
   "cell_type": "markdown",
   "metadata": {
    "id": "uQvM_I5hHbBB"
   },
   "source": [
    "## Топ-5 популярных платформ. Пояснить разницу ##"
   ]
  },
  {
   "cell_type": "code",
   "execution_count": 84,
   "metadata": {
    "colab": {
     "base_uri": "https://localhost:8080/",
     "height": 554
    },
    "id": "jOQYbyt7gAf8",
    "outputId": "ed41d5ce-6104-45e5-8405-a7eaab786403"
   },
   "outputs": [
    {
     "data": {
      "image/png": "[encoded data removed]",
      "text/plain": [
       "<Figure size 1440x576 with 1 Axes>"
      ]
     },
     "metadata": {},
     "output_type": "display_data"
    }
   ],
   "source": [
    "na_top = actual_data.groupby('platform')['na_sales'].sum().sort_values(ascending=False).head(5)\n",
    "na_top.plot(x = 'platform', y = 'na_sales', kind = 'bar', figsize=(20,8), grid=True, title = 'попоулярные платформы в Северной Америке');"
   ]
  },
  {
   "cell_type": "code",
   "execution_count": 85,
   "metadata": {
    "colab": {
     "base_uri": "https://localhost:8080/",
     "height": 554
    },
    "id": "KwH_xvPVgme9",
    "outputId": "972d5771-7fe9-4afe-de43-d9cde5f6bf13"
   },
   "outputs": [
    {
     "data": {
      "image/png": "[encoded data removed]",
      "text/plain": [
       "<Figure size 1440x576 with 1 Axes>"
      ]
     },
     "metadata": {},
     "output_type": "display_data"
    }
   ],
   "source": [
    "eu_top = actual_data.groupby('platform')['eu_sales'].sum().sort_values(ascending=False).head(5)\n",
    "eu_top.plot(x = 'platform', y = 'eu_sales', kind = 'bar', figsize=(20,8), grid=True, title = 'популярные платформы в Европе');"
   ]
  },
  {
   "cell_type": "code",
   "execution_count": 86,
   "metadata": {
    "colab": {
     "base_uri": "https://localhost:8080/",
     "height": 546
    },
    "id": "-5VeJC42gouj",
    "outputId": "8c47cedb-68a0-4745-d0c9-490687f26630"
   },
   "outputs": [
    {
     "data": {
      "image/png": "[encoded data removed]",
      "text/plain": [
       "<Figure size 1440x576 with 1 Axes>"
      ]
     },
     "metadata": {},
     "output_type": "display_data"
    }
   ],
   "source": [
    "jp_top = actual_data.groupby('platform')['jp_sales'].sum().sort_values(ascending=False).head(5)\n",
    "jp_top.plot(x = 'platform', y = 'jp_sales', kind = 'bar', figsize=(20,8), grid=True, title = 'популярные платформы в Японии');"
   ]
  },
  {
   "cell_type": "markdown",
   "metadata": {
    "id": "L--Kv1cAtgPr"
   },
   "source": [
    "Пальму первенства в разных регионах получают разные платформы\n",
    "в северной америке это платформы от microsoft, в японии от sony, а в европе предпочитают обе"
   ]
  },
  {
   "cell_type": "markdown",
   "metadata": {
    "id": "ZuyvaWJzHbBC"
   },
   "source": [
    "## Топ-5 популярные жанры. пояснить разницу ##"
   ]
  },
  {
   "cell_type": "code",
   "execution_count": 87,
   "metadata": {
    "colab": {
     "base_uri": "https://localhost:8080/",
     "height": 576
    },
    "id": "4S6MJ2X1soXh",
    "outputId": "72159022-0c5f-47cc-c53f-f61d5dcb5b50"
   },
   "outputs": [
    {
     "data": {
      "image/png": "[encoded data removed]",
      "text/plain": [
       "<Figure size 1440x576 with 1 Axes>"
      ]
     },
     "metadata": {},
     "output_type": "display_data"
    }
   ],
   "source": [
    "jp_top = actual_data.groupby('genre')['jp_sales'].sum().sort_values(ascending=False).head(5)\n",
    "jp_top.plot(x = 'genre', y = 'jp_sales', kind = 'bar', figsize=(20,8), grid=True, title = 'популярные жанры в японии');"
   ]
  },
  {
   "cell_type": "code",
   "execution_count": 88,
   "metadata": {
    "colab": {
     "base_uri": "https://localhost:8080/",
     "height": 576
    },
    "id": "ejD9AoRzsqji",
    "outputId": "19e09126-e7d2-4e2b-d432-380d996657e9"
   },
   "outputs": [
    {
     "data": {
      "image/png": "[encoded data removed]",
      "text/plain": [
       "<Figure size 1440x576 with 1 Axes>"
      ]
     },
     "metadata": {},
     "output_type": "display_data"
    }
   ],
   "source": [
    "na_top = actual_data.groupby('genre')['na_sales'].sum().sort_values(ascending=False).head(5)\n",
    "na_top.plot(x = 'genre', y = 'na_sales', kind = 'bar', figsize=(20,8), grid=True, title = 'популярные жанры в северной америке');"
   ]
  },
  {
   "cell_type": "code",
   "execution_count": 89,
   "metadata": {
    "colab": {
     "base_uri": "https://localhost:8080/",
     "height": 576
    },
    "id": "1KeWTAl6sqmx",
    "outputId": "5f1e5b60-7354-4faf-d19f-12e6dd94e653"
   },
   "outputs": [
    {
     "data": {
      "image/png": "[encoded data removed]",
      "text/plain": [
       "<Figure size 1440x576 with 1 Axes>"
      ]
     },
     "metadata": {},
     "output_type": "display_data"
    }
   ],
   "source": [
    "eu_top = actual_data.groupby('genre')['eu_sales'].sum().sort_values(ascending=False).head(5)\n",
    "eu_top.plot(x = 'genre', y = 'eu_sales', kind = 'bar', figsize=(20,8), grid=True, title = 'популярные жанры в европе');"
   ]
  },
  {
   "cell_type": "markdown",
   "metadata": {
    "id": "73d_FNGht7DQ"
   },
   "source": [
    "По жанрам также есть разница - в Северной Америке и Европе предпочитают экшены и спортивные игры, в то время как с ощутимым отрывом в Японии выбирают ролевые игры\n",
    "Скорее всего это некоторая особенность ментальности людей и их культуры"
   ]
  },
  {
   "cell_type": "markdown",
   "metadata": {
    "id": "sZJ7g2CvHbBC"
   },
   "source": [
    "## Влияние рейтинга ESRB на продажи в отдельном регионе ##"
   ]
  },
  {
   "cell_type": "code",
   "execution_count": 90,
   "metadata": {
    "colab": {
     "base_uri": "https://localhost:8080/",
     "height": 357
    },
    "id": "UZC-xfU2uZM7",
    "outputId": "cf118346-b70b-4814-ca43-0bfdab820f80"
   },
   "outputs": [
    {
     "data": {
      "image/png": "[encoded data removed]",
      "text/plain": [
       "<Figure size 432x432 with 1 Axes>"
      ]
     },
     "metadata": {},
     "output_type": "display_data"
    }
   ],
   "source": [
    "jp_rating = actual_data.groupby('rating')['jp_sales'].sum().sort_values(ascending=False)\n",
    "na_rating = actual_data.groupby('rating')['na_sales'].sum().sort_values(ascending=False)\n",
    "eu_rating = actual_data.groupby('rating')['eu_sales'].sum().sort_values(ascending=False)\n",
    "eu_rating.plot(kind=\"pie\", y='eu_rating', figsize=(6,6));"
   ]
  },
  {
   "cell_type": "code",
   "execution_count": 91,
   "metadata": {
    "colab": {
     "base_uri": "https://localhost:8080/",
     "height": 357
    },
    "id": "x8F6LqstwxOA",
    "outputId": "4d404cbf-785d-4a7c-a31c-653b8a9df075"
   },
   "outputs": [
    {
     "data": {
      "image/png": "[encoded data removed]",
      "text/plain": [
       "<Figure size 432x432 with 1 Axes>"
      ]
     },
     "metadata": {},
     "output_type": "display_data"
    }
   ],
   "source": [
    "na_rating.plot(kind=\"pie\", y='na_rating', figsize=(6,6));"
   ]
  },
  {
   "cell_type": "code",
   "execution_count": 92,
   "metadata": {
    "colab": {
     "base_uri": "https://localhost:8080/",
     "height": 357
    },
    "id": "im7dy-NQwxah",
    "outputId": "80182be8-b98c-4324-b19d-3b2845d85b7d"
   },
   "outputs": [
    {
     "data": {
      "image/png": "[encoded data removed]",
      "text/plain": [
       "<Figure size 432x432 with 1 Axes>"
      ]
     },
     "metadata": {},
     "output_type": "display_data"
    }
   ],
   "source": [
    "jp_rating.plot(kind=\"pie\", y='jp_rating', figsize=(6,6));"
   ]
  },
  {
   "cell_type": "markdown",
   "metadata": {
    "id": "-tt9W19exWZM"
   },
   "source": [
    "Во всех трех регионах наблюдается одинковая тенденция по выбору в возрастных категориях\n",
    "Самый частый выбор из категории М = от 17 лет, потом из категорий Е и Т = для всех и для подростков, соответсвенно\n",
    "Игры узкой специализации или непопулярной возрастной категории будут покупаться реже"
   ]
  },
  {
   "cell_type": "markdown",
   "metadata": {
    "id": "01TKZM2FHbBC"
   },
   "source": [
    "# Проверка гипотез #"
   ]
  },
  {
   "cell_type": "markdown",
   "metadata": {
    "id": "69UvB77bHbBC"
   },
   "source": [
    "## Средние пользовательские рейтинги платформ Xbox One и PC одинаковые ##"
   ]
  },
  {
   "cell_type": "markdown",
   "metadata": {
    "id": "M8rt9rYcg-eF"
   },
   "source": [
    "Нулевая гипотеза - Средние пользовательские рейтинги платформ Xbox One и PC одинаковые\n",
    "\n",
    "Альтернативная гипотеза - Средние пользовательские рейтинги платформ Xbox One и PC неодинаковые"
   ]
  },
  {
   "cell_type": "code",
   "execution_count": 93,
   "metadata": {
    "colab": {
     "base_uri": "https://localhost:8080/"
    },
    "id": "XtKQvQad4GXl",
    "outputId": "0a6da507-3f1e-42c6-e8db-1d43ad04e8d1"
   },
   "outputs": [
    {
     "name": "stdout",
     "output_type": "stream",
     "text": [
      "р-значение: 0.0009461326606798378\n",
      "Отвергаем нулевую гипотезу\n"
     ]
    }
   ],
   "source": [
    "\n",
    "xb_data=data.query('platform==\"XOne\"')\n",
    "pc_data=data.query('platform==\"PC\"')\n",
    "result=st.ttest_ind(xb_data['user_score'],pc_data['user_score'],equal_var=False) \n",
    "alpha = .05\n",
    "\n",
    "print('р-значение:', result.pvalue)\n",
    "if (result.pvalue < alpha):\n",
    "  print('Отвергаем нулевую гипотезу')\n",
    "else:\n",
    "  print('Не отвергаем нулевую гипотезу')\n"
   ]
  },
  {
   "cell_type": "markdown",
   "metadata": {
    "id": "W4Ri06Ufj2tV"
   },
   "source": [
    "На основании имеющихся данных и с уровнем значимости 5% есть основания отвергнуть нулевую гипотезу в пользу альтернативной, которая говорит, что средние пользовательские рейтинги неодинаковые"
   ]
  },
  {
   "cell_type": "markdown",
   "metadata": {
    "id": "f-cdKYlJHbBC"
   },
   "source": [
    "## Средние пользовательские рейтинги жанров Action (англ. «действие», экшен-игры) и Sports (англ. «спортивные соревнования») разные. ##"
   ]
  },
  {
   "cell_type": "markdown",
   "metadata": {
    "id": "-5zHBQAhheZO"
   },
   "source": [
    "Нулевая гипотеза - Средние пользовательские рейтинги жанров Action и Sports разные.\n",
    "\n",
    "Альтернативная гипотеза - Средние пользовательские рейтинги жанров Action и Sports одинаковые"
   ]
  },
  {
   "cell_type": "code",
   "execution_count": 94,
   "metadata": {
    "colab": {
     "base_uri": "https://localhost:8080/"
    },
    "id": "TptkPYIqZzwm",
    "outputId": "cf07d42c-dea6-4d3b-f36b-89521cff4ef6"
   },
   "outputs": [
    {
     "name": "stdout",
     "output_type": "stream",
     "text": [
      "р-значение: 6.310192688581176e-10\n",
      "Отвергаем нулевую гипотезу\n"
     ]
    }
   ],
   "source": [
    "action = data.query('genre==\"Action\"')\n",
    "sport = data.query('genre==\"Sports\"') \n",
    "result = st.ttest_ind(action.user_score, sport.user_score)\n",
    "\n",
    "print('р-значение:', result.pvalue)\n",
    "if (result.pvalue < alpha):\n",
    "  print('Отвергаем нулевую гипотезу')\n",
    "else:\n",
    "  print('Не отвергаем нулевую гипотезу')"
   ]
  },
  {
   "cell_type": "markdown",
   "metadata": {
    "id": "U_-GHP0BkWgV"
   },
   "source": [
    "На основании имеющихся данных, на уровне значимости 5% есть основания отвергнуть нулевую гипотезу в пользу альтернативной, которая говорит, что средние пользовательские рейнтинги жанров Action и Sports одинаковые"
   ]
  },
  {
   "cell_type": "markdown",
   "metadata": {
    "id": "7_lCH75VHbBD"
   },
   "source": [
    "## Задайте самостоятельно пороговое значение alpha. ##\n",
    "Поясните:\n",
    "Как вы сформулировали нулевую и альтернативную гипотезы;\n",
    "Какой критерий применили для проверки гипотез и почему."
   ]
  },
  {
   "cell_type": "code",
   "execution_count": 95,
   "metadata": {
    "colab": {
     "base_uri": "https://localhost:8080/"
    },
    "id": "p5FK2AajlL49",
    "outputId": "a59dee0b-20c7-4b4e-8016-8514c7514cf5"
   },
   "outputs": [
    {
     "name": "stdout",
     "output_type": "stream",
     "text": [
      "р-значение: 0.0009461326606798378\n",
      "Отвергаем нулевую гипотезу\n"
     ]
    }
   ],
   "source": [
    "xb_data=data.query('platform==\"XOne\"')\n",
    "pc_data=data.query('platform==\"PC\"')\n",
    "result=st.ttest_ind(xb_data['user_score'],pc_data['user_score'],equal_var=False) \n",
    "alpha = .01\n",
    "\n",
    "print('р-значение:', result.pvalue)\n",
    "if (result.pvalue < alpha):\n",
    "  print('Отвергаем нулевую гипотезу')\n",
    "else:\n",
    "  print('Не отвергаем нулевую гипотезу')"
   ]
  },
  {
   "cell_type": "markdown",
   "metadata": {
    "id": "r-elwqRwmCUN"
   },
   "source": [
    "даже при низком уровне значимости в 1 % есть основания рассмотреть гипотезу, что средние пользовательские рейтинги однинаковые\n",
    "Нулевая гипотеза может вывести предположение, что успешность платформы/игры зависит или от самой платформы или от жанра. Но судя по одностороннему Т-тесту (а он такой, потому что мы делаем прогноз на следующий год) дело при оценках зрителей не в платформе или жанре, а в других аспектах"
   ]
  },
  {
   "cell_type": "markdown",
   "metadata": {
    "id": "vhAW7gxlHbBD"
   },
   "source": [
    "# Общий вывод #"
   ]
  },
  {
   "cell_type": "markdown",
   "metadata": {
    "id": "F1tdY6N7ntvv"
   },
   "source": [
    "<div class=\"alert alert-success\">\n",
    "<font size=\"4\"><b>ВЫВОД</b></font>\n",
    "    <br /> \n",
    "    <font size=\"3\", color = \"black\">\n",
    "<br />\n",
    "    Произведя анализ общего развития игровой индустрии и актального периода, взятого с 2010 по 2016 год можно сделать следующие выводы:\n",
    "\n",
    "---необходимо рассматривать актуальную игровую платформу. в среднем активное развитие платформы составляет 5 лет, за это время нужно успеть развивать рекламу и продажи. дальнейшие рекламные компании будут в убыток\n",
    "\n",
    "----в зависимости от региона нужно продвигать разные жанры игр. В японии это ролевые и экшн игры, в северной америке и европе - экшены и шутеры\n",
    "\n",
    "----также в зависимотси от региона распространены и соотвутсвующие платформы. Для японии это sony, для европы и северной америки - продукция microsoft\n",
    "\n",
    "----мобильные игровые устройства, скорее всего, совершенно заменяются мобильными телефонами и имеют минимальный спрос. возможно поэтому нет развития этой ниши\n",
    "\n",
    "\n",
    "\n",
    "***на слудющий год необходимо рассмотреть первоочердные продажи по жанрам - шутеры,экшены, а ролевые игры для японии и в зависимости от регионального предпочтения производителя платформы*** \n",
    "        <br />\n",
    "    </font>\n",
    "\n",
    "</div>\n",
    "\n",
    "\n"
   ]
  }
 ],
 "metadata": {
  "ExecuteTimeLog": [
   {
    "duration": 571,
    "start_time": "2022-11-28T07:36:06.532Z"
   },
   {
    "duration": 166,
    "start_time": "2022-11-28T07:37:53.515Z"
   },
   {
    "duration": 174,
    "start_time": "2022-11-28T07:38:12.249Z"
   },
   {
    "duration": 19,
    "start_time": "2022-11-28T07:38:44.664Z"
   },
   {
    "duration": 138,
    "start_time": "2022-11-28T07:38:48.198Z"
   },
   {
    "duration": 30,
    "start_time": "2022-11-28T07:40:30.283Z"
   },
   {
    "duration": 14,
    "start_time": "2022-11-28T07:40:50.137Z"
   },
   {
    "duration": 11,
    "start_time": "2022-11-28T07:45:20.247Z"
   },
   {
    "duration": 153,
    "start_time": "2022-11-28T07:49:38.965Z"
   },
   {
    "duration": 17,
    "start_time": "2022-11-28T07:49:39.829Z"
   },
   {
    "duration": 28,
    "start_time": "2022-11-28T07:49:42.252Z"
   },
   {
    "duration": 15,
    "start_time": "2022-11-28T07:49:43.626Z"
   },
   {
    "duration": 7,
    "start_time": "2022-11-28T07:50:09.165Z"
   },
   {
    "duration": 4,
    "start_time": "2022-11-28T07:50:27.111Z"
   },
   {
    "duration": 13,
    "start_time": "2022-11-28T07:50:30.874Z"
   },
   {
    "duration": 16,
    "start_time": "2022-11-28T07:50:37.923Z"
   },
   {
    "duration": 8,
    "start_time": "2022-11-28T07:53:11.531Z"
   },
   {
    "duration": 8,
    "start_time": "2022-11-28T07:54:25.719Z"
   },
   {
    "duration": 10,
    "start_time": "2022-11-28T07:55:17.511Z"
   },
   {
    "duration": 10,
    "start_time": "2022-11-28T07:55:45.052Z"
   },
   {
    "duration": 9,
    "start_time": "2022-11-28T07:56:22.806Z"
   },
   {
    "duration": 8,
    "start_time": "2022-11-28T07:56:30.632Z"
   },
   {
    "duration": 7,
    "start_time": "2022-11-28T07:56:42.165Z"
   },
   {
    "duration": 4,
    "start_time": "2022-11-28T07:56:52.458Z"
   },
   {
    "duration": 3,
    "start_time": "2022-11-28T07:57:14.305Z"
   },
   {
    "duration": 5,
    "start_time": "2022-11-28T07:57:22.653Z"
   },
   {
    "duration": 13,
    "start_time": "2022-11-28T08:07:31.626Z"
   },
   {
    "duration": 12,
    "start_time": "2022-11-28T08:07:53.026Z"
   },
   {
    "duration": 11,
    "start_time": "2022-11-28T08:08:04.307Z"
   },
   {
    "duration": 12,
    "start_time": "2022-11-28T08:08:42.021Z"
   },
   {
    "duration": 6,
    "start_time": "2022-11-28T08:10:08.983Z"
   },
   {
    "duration": 6,
    "start_time": "2022-11-28T08:10:18.339Z"
   },
   {
    "duration": 10,
    "start_time": "2022-11-28T08:10:34.321Z"
   },
   {
    "duration": 9,
    "start_time": "2022-11-28T08:10:46.609Z"
   },
   {
    "duration": 9,
    "start_time": "2022-11-28T08:10:56.693Z"
   },
   {
    "duration": 16,
    "start_time": "2022-11-28T08:11:19.890Z"
   },
   {
    "duration": 8,
    "start_time": "2022-11-28T08:11:32.717Z"
   },
   {
    "duration": 14,
    "start_time": "2022-11-28T08:11:36.331Z"
   },
   {
    "duration": 9,
    "start_time": "2022-11-28T08:11:46.150Z"
   },
   {
    "duration": 8,
    "start_time": "2022-11-28T08:11:49.702Z"
   },
   {
    "duration": 6,
    "start_time": "2022-11-28T08:12:01.327Z"
   },
   {
    "duration": 6,
    "start_time": "2022-11-28T08:12:08.080Z"
   },
   {
    "duration": 20,
    "start_time": "2022-11-28T08:12:10.351Z"
   },
   {
    "duration": 6,
    "start_time": "2022-11-28T08:12:17.269Z"
   },
   {
    "duration": 15,
    "start_time": "2022-11-28T08:12:18.408Z"
   },
   {
    "duration": 6,
    "start_time": "2022-11-28T08:15:49.353Z"
   },
   {
    "duration": 20,
    "start_time": "2022-11-28T08:23:14.269Z"
   },
   {
    "duration": 28,
    "start_time": "2022-11-28T08:24:16.065Z"
   },
   {
    "duration": 127,
    "start_time": "2022-11-28T08:24:30.438Z"
   },
   {
    "duration": 17,
    "start_time": "2022-11-28T08:24:30.567Z"
   },
   {
    "duration": 66,
    "start_time": "2022-11-28T08:24:30.586Z"
   },
   {
    "duration": 11,
    "start_time": "2022-11-28T08:24:30.654Z"
   },
   {
    "duration": 23,
    "start_time": "2022-11-28T08:24:30.667Z"
   },
   {
    "duration": 23,
    "start_time": "2022-11-28T08:24:30.691Z"
   },
   {
    "duration": 41,
    "start_time": "2022-11-28T08:24:30.715Z"
   },
   {
    "duration": 20,
    "start_time": "2022-11-28T08:25:22.556Z"
   },
   {
    "duration": 17,
    "start_time": "2022-11-28T08:25:39.246Z"
   },
   {
    "duration": 16,
    "start_time": "2022-11-28T08:25:53.811Z"
   },
   {
    "duration": 15,
    "start_time": "2022-11-28T08:25:59.704Z"
   },
   {
    "duration": 10,
    "start_time": "2022-11-28T08:28:25.900Z"
   },
   {
    "duration": 18,
    "start_time": "2022-11-28T08:41:29.296Z"
   },
   {
    "duration": 16,
    "start_time": "2022-11-28T08:41:48.375Z"
   },
   {
    "duration": 8,
    "start_time": "2022-11-28T08:44:19.615Z"
   },
   {
    "duration": 22,
    "start_time": "2022-11-28T08:44:26.003Z"
   },
   {
    "duration": 18,
    "start_time": "2022-11-28T08:45:29.880Z"
   },
   {
    "duration": 18,
    "start_time": "2022-11-28T08:54:38.844Z"
   },
   {
    "duration": 19,
    "start_time": "2022-11-28T08:54:56.387Z"
   },
   {
    "duration": 18,
    "start_time": "2022-11-28T08:55:03.113Z"
   },
   {
    "duration": 18,
    "start_time": "2022-11-28T08:55:13.418Z"
   },
   {
    "duration": 18,
    "start_time": "2022-11-28T08:55:17.903Z"
   },
   {
    "duration": 17,
    "start_time": "2022-11-28T08:56:48.908Z"
   },
   {
    "duration": 7,
    "start_time": "2022-11-28T08:59:51.162Z"
   },
   {
    "duration": 7,
    "start_time": "2022-11-28T09:00:02.176Z"
   },
   {
    "duration": 8,
    "start_time": "2022-11-28T09:05:41.196Z"
   },
   {
    "duration": 9,
    "start_time": "2022-11-28T09:06:03.998Z"
   },
   {
    "duration": 8,
    "start_time": "2022-11-28T09:06:11.083Z"
   },
   {
    "duration": 7,
    "start_time": "2022-11-28T09:12:18.638Z"
   },
   {
    "duration": 9,
    "start_time": "2022-11-28T09:12:25.741Z"
   },
   {
    "duration": 5,
    "start_time": "2022-11-28T09:12:42.320Z"
   },
   {
    "duration": 119,
    "start_time": "2022-11-28T09:12:58.408Z"
   },
   {
    "duration": 16,
    "start_time": "2022-11-28T09:12:58.529Z"
   },
   {
    "duration": 17,
    "start_time": "2022-11-28T09:12:58.547Z"
   },
   {
    "duration": 4,
    "start_time": "2022-11-28T09:12:58.566Z"
   },
   {
    "duration": 12,
    "start_time": "2022-11-28T09:12:58.571Z"
   },
   {
    "duration": 10,
    "start_time": "2022-11-28T09:12:58.585Z"
   },
   {
    "duration": 16,
    "start_time": "2022-11-28T09:12:58.597Z"
   },
   {
    "duration": 11,
    "start_time": "2022-11-28T09:12:58.614Z"
   },
   {
    "duration": 41,
    "start_time": "2022-11-28T09:12:58.626Z"
   },
   {
    "duration": 5,
    "start_time": "2022-11-28T09:12:58.670Z"
   },
   {
    "duration": 6,
    "start_time": "2022-11-28T09:13:22.994Z"
   },
   {
    "duration": 8,
    "start_time": "2022-11-28T09:14:12.328Z"
   },
   {
    "duration": 6,
    "start_time": "2022-11-28T09:18:45.100Z"
   },
   {
    "duration": 5,
    "start_time": "2022-11-28T09:19:08.740Z"
   },
   {
    "duration": 136,
    "start_time": "2022-11-28T09:19:41.502Z"
   },
   {
    "duration": 8,
    "start_time": "2022-11-28T09:19:41.639Z"
   },
   {
    "duration": 0,
    "start_time": "2022-11-28T09:19:41.649Z"
   },
   {
    "duration": 0,
    "start_time": "2022-11-28T09:19:41.650Z"
   },
   {
    "duration": 0,
    "start_time": "2022-11-28T09:19:41.652Z"
   },
   {
    "duration": 0,
    "start_time": "2022-11-28T09:19:41.653Z"
   },
   {
    "duration": 0,
    "start_time": "2022-11-28T09:19:41.655Z"
   },
   {
    "duration": 0,
    "start_time": "2022-11-28T09:19:41.657Z"
   },
   {
    "duration": 0,
    "start_time": "2022-11-28T09:19:41.659Z"
   },
   {
    "duration": 0,
    "start_time": "2022-11-28T09:19:41.660Z"
   },
   {
    "duration": 0,
    "start_time": "2022-11-28T09:19:41.662Z"
   },
   {
    "duration": 0,
    "start_time": "2022-11-28T09:19:41.663Z"
   },
   {
    "duration": 17,
    "start_time": "2022-11-28T09:21:06.664Z"
   },
   {
    "duration": 364,
    "start_time": "2022-11-28T09:21:09.467Z"
   },
   {
    "duration": 16,
    "start_time": "2022-11-28T09:21:09.833Z"
   },
   {
    "duration": 17,
    "start_time": "2022-11-28T09:21:09.851Z"
   },
   {
    "duration": 6,
    "start_time": "2022-11-28T09:21:09.870Z"
   },
   {
    "duration": 8,
    "start_time": "2022-11-28T09:21:09.877Z"
   },
   {
    "duration": 12,
    "start_time": "2022-11-28T09:21:09.887Z"
   },
   {
    "duration": 16,
    "start_time": "2022-11-28T09:21:09.901Z"
   },
   {
    "duration": 40,
    "start_time": "2022-11-28T09:21:09.918Z"
   },
   {
    "duration": 20,
    "start_time": "2022-11-28T09:21:09.959Z"
   },
   {
    "duration": 11,
    "start_time": "2022-11-28T09:21:09.982Z"
   },
   {
    "duration": 18,
    "start_time": "2022-11-28T09:21:09.995Z"
   },
   {
    "duration": 14,
    "start_time": "2022-11-28T09:21:10.015Z"
   },
   {
    "duration": 186,
    "start_time": "2022-11-28T09:22:47.184Z"
   },
   {
    "duration": 186,
    "start_time": "2022-11-28T09:22:51.030Z"
   },
   {
    "duration": 123,
    "start_time": "2022-11-28T09:23:01.231Z"
   },
   {
    "duration": 17,
    "start_time": "2022-11-28T09:23:01.356Z"
   },
   {
    "duration": 24,
    "start_time": "2022-11-28T09:23:01.375Z"
   },
   {
    "duration": 32,
    "start_time": "2022-11-28T09:23:01.401Z"
   },
   {
    "duration": 34,
    "start_time": "2022-11-28T09:23:01.435Z"
   },
   {
    "duration": 23,
    "start_time": "2022-11-28T09:23:01.471Z"
   },
   {
    "duration": 30,
    "start_time": "2022-11-28T09:23:01.496Z"
   },
   {
    "duration": 10,
    "start_time": "2022-11-28T09:23:01.528Z"
   },
   {
    "duration": 33,
    "start_time": "2022-11-28T09:23:01.540Z"
   },
   {
    "duration": 8,
    "start_time": "2022-11-28T09:23:01.575Z"
   },
   {
    "duration": 10,
    "start_time": "2022-11-28T09:23:01.585Z"
   },
   {
    "duration": 31,
    "start_time": "2022-11-28T09:23:01.597Z"
   },
   {
    "duration": 7,
    "start_time": "2022-11-28T09:23:31.752Z"
   },
   {
    "duration": 13,
    "start_time": "2022-11-28T09:36:25.510Z"
   },
   {
    "duration": 10,
    "start_time": "2022-11-28T09:36:34.722Z"
   },
   {
    "duration": 12,
    "start_time": "2022-11-28T09:36:42.072Z"
   },
   {
    "duration": 24,
    "start_time": "2022-11-28T09:36:51.118Z"
   },
   {
    "duration": 4,
    "start_time": "2022-11-28T09:37:24.916Z"
   },
   {
    "duration": 8,
    "start_time": "2022-11-28T09:38:58.491Z"
   },
   {
    "duration": 8,
    "start_time": "2022-11-28T09:39:03.534Z"
   },
   {
    "duration": 55,
    "start_time": "2022-11-28T09:43:01.934Z"
   },
   {
    "duration": 9,
    "start_time": "2022-11-28T09:43:16.379Z"
   },
   {
    "duration": 590,
    "start_time": "2022-11-28T09:43:56.572Z"
   },
   {
    "duration": 47,
    "start_time": "2022-11-28T09:44:41.698Z"
   },
   {
    "duration": 143,
    "start_time": "2022-11-28T09:44:53.978Z"
   },
   {
    "duration": 220,
    "start_time": "2022-11-28T09:45:13.147Z"
   },
   {
    "duration": 183,
    "start_time": "2022-11-28T09:45:29.852Z"
   },
   {
    "duration": 11,
    "start_time": "2022-11-28T09:45:41.578Z"
   },
   {
    "duration": 246,
    "start_time": "2022-11-28T09:46:19.240Z"
   },
   {
    "duration": 180,
    "start_time": "2022-11-28T09:46:35.598Z"
   },
   {
    "duration": 243,
    "start_time": "2022-11-28T09:46:47.753Z"
   },
   {
    "duration": 246,
    "start_time": "2022-11-28T09:47:13.417Z"
   },
   {
    "duration": 2881,
    "start_time": "2022-11-28T09:47:27.164Z"
   },
   {
    "duration": 148,
    "start_time": "2022-11-28T09:55:57.423Z"
   },
   {
    "duration": 19,
    "start_time": "2022-11-28T09:55:57.574Z"
   },
   {
    "duration": 17,
    "start_time": "2022-11-28T09:55:57.595Z"
   },
   {
    "duration": 16,
    "start_time": "2022-11-28T09:55:57.615Z"
   },
   {
    "duration": 23,
    "start_time": "2022-11-28T09:55:57.633Z"
   },
   {
    "duration": 11,
    "start_time": "2022-11-28T09:55:57.658Z"
   },
   {
    "duration": 17,
    "start_time": "2022-11-28T09:55:57.671Z"
   },
   {
    "duration": 12,
    "start_time": "2022-11-28T09:55:57.690Z"
   },
   {
    "duration": 58,
    "start_time": "2022-11-28T09:55:57.703Z"
   },
   {
    "duration": 8,
    "start_time": "2022-11-28T09:55:57.764Z"
   },
   {
    "duration": 7,
    "start_time": "2022-11-28T09:55:57.774Z"
   },
   {
    "duration": 10,
    "start_time": "2022-11-28T09:55:57.783Z"
   },
   {
    "duration": 16,
    "start_time": "2022-11-28T09:55:57.795Z"
   },
   {
    "duration": 12,
    "start_time": "2022-11-28T09:55:57.813Z"
   },
   {
    "duration": 196,
    "start_time": "2022-11-28T09:55:57.854Z"
   },
   {
    "duration": 3347,
    "start_time": "2022-11-28T09:55:58.052Z"
   },
   {
    "duration": 175,
    "start_time": "2022-11-28T10:29:39.038Z"
   },
   {
    "duration": 16,
    "start_time": "2022-11-28T10:29:39.215Z"
   },
   {
    "duration": 19,
    "start_time": "2022-11-28T10:29:39.233Z"
   },
   {
    "duration": 4,
    "start_time": "2022-11-28T10:29:39.255Z"
   },
   {
    "duration": 7,
    "start_time": "2022-11-28T10:29:39.261Z"
   },
   {
    "duration": 24,
    "start_time": "2022-11-28T10:29:39.270Z"
   },
   {
    "duration": 17,
    "start_time": "2022-11-28T10:29:39.296Z"
   },
   {
    "duration": 14,
    "start_time": "2022-11-28T10:29:39.315Z"
   },
   {
    "duration": 37,
    "start_time": "2022-11-28T10:29:39.331Z"
   },
   {
    "duration": 7,
    "start_time": "2022-11-28T10:29:39.371Z"
   },
   {
    "duration": 8,
    "start_time": "2022-11-28T10:29:39.379Z"
   },
   {
    "duration": 6,
    "start_time": "2022-11-28T10:29:39.389Z"
   },
   {
    "duration": 15,
    "start_time": "2022-11-28T10:29:39.397Z"
   },
   {
    "duration": 9,
    "start_time": "2022-11-28T10:29:39.414Z"
   },
   {
    "duration": 216,
    "start_time": "2022-11-28T10:29:39.425Z"
   },
   {
    "duration": 2878,
    "start_time": "2022-11-28T10:29:39.643Z"
   },
   {
    "duration": 182,
    "start_time": "2022-11-28T10:34:34.969Z"
   },
   {
    "duration": 16,
    "start_time": "2022-11-28T10:34:35.153Z"
   },
   {
    "duration": 16,
    "start_time": "2022-11-28T10:34:35.171Z"
   },
   {
    "duration": 5,
    "start_time": "2022-11-28T10:34:35.189Z"
   },
   {
    "duration": 8,
    "start_time": "2022-11-28T10:34:35.195Z"
   },
   {
    "duration": 17,
    "start_time": "2022-11-28T10:34:35.205Z"
   },
   {
    "duration": 44,
    "start_time": "2022-11-28T10:34:35.224Z"
   },
   {
    "duration": 18,
    "start_time": "2022-11-28T10:34:35.270Z"
   },
   {
    "duration": 40,
    "start_time": "2022-11-28T10:34:35.290Z"
   },
   {
    "duration": 7,
    "start_time": "2022-11-28T10:34:35.332Z"
   },
   {
    "duration": 14,
    "start_time": "2022-11-28T10:34:35.341Z"
   },
   {
    "duration": 7,
    "start_time": "2022-11-28T10:34:35.357Z"
   },
   {
    "duration": 19,
    "start_time": "2022-11-28T10:34:35.365Z"
   },
   {
    "duration": 9,
    "start_time": "2022-11-28T10:34:35.386Z"
   },
   {
    "duration": 206,
    "start_time": "2022-11-28T10:34:35.396Z"
   },
   {
    "duration": 2876,
    "start_time": "2022-11-28T10:34:35.604Z"
   },
   {
    "duration": 3168,
    "start_time": "2022-11-28T10:37:29.949Z"
   },
   {
    "duration": 171,
    "start_time": "2022-11-28T10:37:41.405Z"
   },
   {
    "duration": 163,
    "start_time": "2022-11-28T10:37:57.330Z"
   },
   {
    "duration": 169,
    "start_time": "2022-11-28T10:38:04.067Z"
   },
   {
    "duration": 171,
    "start_time": "2022-11-28T10:38:13.848Z"
   },
   {
    "duration": 15,
    "start_time": "2022-11-28T10:51:39.490Z"
   },
   {
    "duration": 31,
    "start_time": "2022-11-28T10:52:22.739Z"
   },
   {
    "duration": 195,
    "start_time": "2022-11-28T10:52:25.998Z"
   },
   {
    "duration": 17,
    "start_time": "2022-11-28T10:52:26.195Z"
   },
   {
    "duration": 20,
    "start_time": "2022-11-28T10:52:26.213Z"
   },
   {
    "duration": 3,
    "start_time": "2022-11-28T10:52:26.235Z"
   },
   {
    "duration": 15,
    "start_time": "2022-11-28T10:52:26.240Z"
   },
   {
    "duration": 13,
    "start_time": "2022-11-28T10:52:26.257Z"
   },
   {
    "duration": 18,
    "start_time": "2022-11-28T10:52:26.272Z"
   },
   {
    "duration": 10,
    "start_time": "2022-11-28T10:52:26.292Z"
   },
   {
    "duration": 22,
    "start_time": "2022-11-28T10:52:26.303Z"
   },
   {
    "duration": 31,
    "start_time": "2022-11-28T10:52:26.328Z"
   },
   {
    "duration": 6,
    "start_time": "2022-11-28T10:52:26.360Z"
   },
   {
    "duration": 9,
    "start_time": "2022-11-28T10:52:26.368Z"
   },
   {
    "duration": 26,
    "start_time": "2022-11-28T10:52:26.378Z"
   },
   {
    "duration": 21,
    "start_time": "2022-11-28T10:52:26.406Z"
   },
   {
    "duration": 193,
    "start_time": "2022-11-28T10:52:26.429Z"
   },
   {
    "duration": 184,
    "start_time": "2022-11-28T10:52:26.624Z"
   },
   {
    "duration": 22,
    "start_time": "2022-11-28T10:52:26.809Z"
   },
   {
    "duration": 0,
    "start_time": "2022-11-28T10:52:26.832Z"
   },
   {
    "duration": 22,
    "start_time": "2022-11-28T10:53:08.531Z"
   },
   {
    "duration": 18,
    "start_time": "2022-11-28T10:53:20.009Z"
   },
   {
    "duration": 8,
    "start_time": "2022-11-28T10:54:39.998Z"
   },
   {
    "duration": 5,
    "start_time": "2022-11-28T10:54:43.992Z"
   },
   {
    "duration": 15,
    "start_time": "2022-11-28T10:54:47.141Z"
   },
   {
    "duration": 26,
    "start_time": "2022-11-28T10:54:56.434Z"
   },
   {
    "duration": 16,
    "start_time": "2022-11-28T10:54:58.950Z"
   },
   {
    "duration": 9,
    "start_time": "2022-11-28T10:55:14.433Z"
   },
   {
    "duration": 6,
    "start_time": "2022-11-28T10:55:15.251Z"
   },
   {
    "duration": 15,
    "start_time": "2022-11-28T10:55:17.404Z"
   },
   {
    "duration": 10,
    "start_time": "2022-11-28T10:55:27.049Z"
   },
   {
    "duration": 23,
    "start_time": "2022-11-28T10:55:27.084Z"
   },
   {
    "duration": 13,
    "start_time": "2022-11-28T10:55:28.190Z"
   },
   {
    "duration": 763,
    "start_time": "2022-11-28T10:56:18.798Z"
   },
   {
    "duration": 759,
    "start_time": "2022-11-28T10:56:36.084Z"
   },
   {
    "duration": 883,
    "start_time": "2022-11-28T10:59:45.530Z"
   },
   {
    "duration": 6,
    "start_time": "2022-11-28T10:59:46.699Z"
   },
   {
    "duration": 8,
    "start_time": "2022-11-28T11:00:01.490Z"
   },
   {
    "duration": 5,
    "start_time": "2022-11-28T11:00:03.258Z"
   },
   {
    "duration": 15,
    "start_time": "2022-11-28T11:00:06.464Z"
   },
   {
    "duration": 5,
    "start_time": "2022-11-28T11:01:01.407Z"
   },
   {
    "duration": 8,
    "start_time": "2022-11-28T11:01:02.222Z"
   },
   {
    "duration": 16,
    "start_time": "2022-11-28T11:01:06.842Z"
   },
   {
    "duration": 12,
    "start_time": "2022-11-28T11:01:20.455Z"
   },
   {
    "duration": 22,
    "start_time": "2022-11-28T11:01:24.738Z"
   },
   {
    "duration": 16,
    "start_time": "2022-11-28T11:01:26.957Z"
   },
   {
    "duration": 15,
    "start_time": "2022-11-28T11:01:28.436Z"
   },
   {
    "duration": 15,
    "start_time": "2022-11-28T11:01:40.060Z"
   },
   {
    "duration": 3,
    "start_time": "2022-11-28T11:04:04.304Z"
   },
   {
    "duration": 6,
    "start_time": "2022-11-28T11:04:06.032Z"
   },
   {
    "duration": 142,
    "start_time": "2022-11-28T11:08:33.594Z"
   },
   {
    "duration": 23,
    "start_time": "2022-11-28T11:08:33.739Z"
   },
   {
    "duration": 29,
    "start_time": "2022-11-28T11:08:33.764Z"
   },
   {
    "duration": 14,
    "start_time": "2022-11-28T11:08:33.795Z"
   },
   {
    "duration": 26,
    "start_time": "2022-11-28T11:08:33.812Z"
   },
   {
    "duration": 17,
    "start_time": "2022-11-28T11:08:33.839Z"
   },
   {
    "duration": 22,
    "start_time": "2022-11-28T11:08:33.858Z"
   },
   {
    "duration": 16,
    "start_time": "2022-11-28T11:08:33.882Z"
   },
   {
    "duration": 25,
    "start_time": "2022-11-28T11:08:33.900Z"
   },
   {
    "duration": 16,
    "start_time": "2022-11-28T11:08:33.927Z"
   },
   {
    "duration": 33,
    "start_time": "2022-11-28T11:08:33.945Z"
   },
   {
    "duration": 30,
    "start_time": "2022-11-28T11:08:33.981Z"
   },
   {
    "duration": 40,
    "start_time": "2022-11-28T11:08:34.012Z"
   },
   {
    "duration": 227,
    "start_time": "2022-11-28T11:08:34.056Z"
   },
   {
    "duration": 198,
    "start_time": "2022-11-28T11:08:34.285Z"
   },
   {
    "duration": 27,
    "start_time": "2022-11-28T11:08:34.485Z"
   },
   {
    "duration": 0,
    "start_time": "2022-11-28T11:08:34.515Z"
   },
   {
    "duration": 25,
    "start_time": "2022-11-28T11:08:54.453Z"
   },
   {
    "duration": 21,
    "start_time": "2022-11-28T11:08:56.144Z"
   },
   {
    "duration": 10,
    "start_time": "2022-11-28T11:09:20.679Z"
   },
   {
    "duration": 4,
    "start_time": "2022-11-28T11:09:30.408Z"
   },
   {
    "duration": 15,
    "start_time": "2022-11-28T11:09:32.347Z"
   },
   {
    "duration": 3,
    "start_time": "2022-11-28T11:09:40.428Z"
   },
   {
    "duration": 14,
    "start_time": "2022-11-28T11:09:41.862Z"
   },
   {
    "duration": 4,
    "start_time": "2022-11-28T11:09:49.635Z"
   },
   {
    "duration": 17,
    "start_time": "2022-11-28T11:09:50.942Z"
   },
   {
    "duration": 14,
    "start_time": "2022-11-28T11:14:19.873Z"
   },
   {
    "duration": 4,
    "start_time": "2022-11-28T11:14:29.606Z"
   },
   {
    "duration": 14,
    "start_time": "2022-11-28T11:14:30.606Z"
   },
   {
    "duration": 8,
    "start_time": "2022-11-28T11:14:44.046Z"
   },
   {
    "duration": 5,
    "start_time": "2022-11-28T11:15:00.184Z"
   },
   {
    "duration": 14,
    "start_time": "2022-11-28T11:15:01.882Z"
   },
   {
    "duration": 9,
    "start_time": "2022-11-28T11:17:22.896Z"
   },
   {
    "duration": 14,
    "start_time": "2022-11-28T11:17:23.590Z"
   },
   {
    "duration": 7,
    "start_time": "2022-11-28T11:17:36.961Z"
   },
   {
    "duration": 16,
    "start_time": "2022-11-28T11:17:37.562Z"
   },
   {
    "duration": 180,
    "start_time": "2022-11-28T11:17:42.737Z"
   },
   {
    "duration": 18,
    "start_time": "2022-11-28T11:17:42.919Z"
   },
   {
    "duration": 21,
    "start_time": "2022-11-28T11:17:42.938Z"
   },
   {
    "duration": 4,
    "start_time": "2022-11-28T11:17:42.961Z"
   },
   {
    "duration": 31,
    "start_time": "2022-11-28T11:17:42.966Z"
   },
   {
    "duration": 14,
    "start_time": "2022-11-28T11:17:42.999Z"
   },
   {
    "duration": 25,
    "start_time": "2022-11-28T11:17:43.014Z"
   },
   {
    "duration": 10,
    "start_time": "2022-11-28T11:17:43.040Z"
   },
   {
    "duration": 22,
    "start_time": "2022-11-28T11:17:43.052Z"
   },
   {
    "duration": 12,
    "start_time": "2022-11-28T11:17:43.076Z"
   },
   {
    "duration": 11,
    "start_time": "2022-11-28T11:17:43.089Z"
   },
   {
    "duration": 24,
    "start_time": "2022-11-28T11:17:43.102Z"
   },
   {
    "duration": 32,
    "start_time": "2022-11-28T11:17:43.127Z"
   },
   {
    "duration": 11,
    "start_time": "2022-11-28T11:17:43.161Z"
   },
   {
    "duration": 194,
    "start_time": "2022-11-28T11:17:43.174Z"
   },
   {
    "duration": 187,
    "start_time": "2022-11-28T11:17:43.370Z"
   },
   {
    "duration": 21,
    "start_time": "2022-11-28T11:17:43.559Z"
   },
   {
    "duration": 0,
    "start_time": "2022-11-28T11:17:43.582Z"
   },
   {
    "duration": 5,
    "start_time": "2022-11-28T11:18:10.544Z"
   },
   {
    "duration": 13,
    "start_time": "2022-11-28T11:18:12.090Z"
   },
   {
    "duration": 9,
    "start_time": "2022-11-28T11:18:41.991Z"
   },
   {
    "duration": 17,
    "start_time": "2022-11-28T11:18:42.428Z"
   },
   {
    "duration": 15,
    "start_time": "2022-11-28T11:18:55.396Z"
   },
   {
    "duration": 18,
    "start_time": "2022-11-28T11:19:01.355Z"
   },
   {
    "duration": 10,
    "start_time": "2022-11-28T11:20:07.226Z"
   },
   {
    "duration": 17,
    "start_time": "2022-11-28T11:20:07.774Z"
   },
   {
    "duration": 13,
    "start_time": "2022-11-28T11:20:31.044Z"
   },
   {
    "duration": 8,
    "start_time": "2022-11-28T12:12:09.578Z"
   },
   {
    "duration": 5,
    "start_time": "2022-11-28T12:21:02.677Z"
   },
   {
    "duration": 53,
    "start_time": "2022-11-28T12:32:11.899Z"
   },
   {
    "duration": 5,
    "start_time": "2022-11-28T12:32:17.800Z"
   },
   {
    "duration": 7,
    "start_time": "2022-11-28T12:32:25.367Z"
   },
   {
    "duration": 7,
    "start_time": "2022-11-28T12:34:32.609Z"
   },
   {
    "duration": 6,
    "start_time": "2022-11-28T12:34:33.738Z"
   },
   {
    "duration": 19,
    "start_time": "2022-11-28T12:34:34.652Z"
   },
   {
    "duration": 17,
    "start_time": "2022-11-28T12:34:41.046Z"
   },
   {
    "duration": 22,
    "start_time": "2022-11-28T12:34:44.598Z"
   },
   {
    "duration": 17,
    "start_time": "2022-11-28T12:34:46.074Z"
   },
   {
    "duration": 259,
    "start_time": "2022-11-28T12:34:53.549Z"
   },
   {
    "duration": 514,
    "start_time": "2022-11-28T12:34:59.242Z"
   },
   {
    "duration": 17,
    "start_time": "2022-11-28T12:34:59.758Z"
   },
   {
    "duration": 17,
    "start_time": "2022-11-28T12:34:59.776Z"
   },
   {
    "duration": 8,
    "start_time": "2022-11-28T12:34:59.796Z"
   },
   {
    "duration": 24,
    "start_time": "2022-11-28T12:34:59.806Z"
   },
   {
    "duration": 25,
    "start_time": "2022-11-28T12:34:59.832Z"
   },
   {
    "duration": 9,
    "start_time": "2022-11-28T12:34:59.859Z"
   },
   {
    "duration": 37,
    "start_time": "2022-11-28T12:34:59.870Z"
   },
   {
    "duration": 17,
    "start_time": "2022-11-28T12:34:59.908Z"
   },
   {
    "duration": 249,
    "start_time": "2022-11-28T12:34:59.928Z"
   },
   {
    "duration": 0,
    "start_time": "2022-11-28T12:35:00.179Z"
   },
   {
    "duration": 0,
    "start_time": "2022-11-28T12:35:00.181Z"
   },
   {
    "duration": 0,
    "start_time": "2022-11-28T12:35:00.182Z"
   },
   {
    "duration": 0,
    "start_time": "2022-11-28T12:35:00.183Z"
   },
   {
    "duration": 0,
    "start_time": "2022-11-28T12:35:00.184Z"
   },
   {
    "duration": 0,
    "start_time": "2022-11-28T12:35:00.185Z"
   },
   {
    "duration": 0,
    "start_time": "2022-11-28T12:35:00.186Z"
   },
   {
    "duration": 0,
    "start_time": "2022-11-28T12:35:00.187Z"
   },
   {
    "duration": 0,
    "start_time": "2022-11-28T12:35:00.188Z"
   },
   {
    "duration": 123,
    "start_time": "2022-11-28T12:35:40.953Z"
   },
   {
    "duration": 17,
    "start_time": "2022-11-28T12:35:41.078Z"
   },
   {
    "duration": 41,
    "start_time": "2022-11-28T12:35:41.097Z"
   },
   {
    "duration": 23,
    "start_time": "2022-11-28T12:35:41.140Z"
   },
   {
    "duration": 24,
    "start_time": "2022-11-28T12:35:41.165Z"
   },
   {
    "duration": 27,
    "start_time": "2022-11-28T12:35:41.191Z"
   },
   {
    "duration": 23,
    "start_time": "2022-11-28T12:35:41.220Z"
   },
   {
    "duration": 32,
    "start_time": "2022-11-28T12:35:41.245Z"
   },
   {
    "duration": 35,
    "start_time": "2022-11-28T12:35:41.279Z"
   },
   {
    "duration": 30,
    "start_time": "2022-11-28T12:35:41.316Z"
   },
   {
    "duration": 16,
    "start_time": "2022-11-28T12:35:41.347Z"
   },
   {
    "duration": 31,
    "start_time": "2022-11-28T12:35:41.364Z"
   },
   {
    "duration": 0,
    "start_time": "2022-11-28T12:35:41.396Z"
   },
   {
    "duration": 0,
    "start_time": "2022-11-28T12:35:41.398Z"
   },
   {
    "duration": 0,
    "start_time": "2022-11-28T12:35:41.399Z"
   },
   {
    "duration": 0,
    "start_time": "2022-11-28T12:35:41.400Z"
   },
   {
    "duration": 0,
    "start_time": "2022-11-28T12:35:41.401Z"
   },
   {
    "duration": 0,
    "start_time": "2022-11-28T12:35:41.403Z"
   },
   {
    "duration": 0,
    "start_time": "2022-11-28T12:35:41.404Z"
   },
   {
    "duration": 17,
    "start_time": "2022-11-28T12:36:30.588Z"
   },
   {
    "duration": 174,
    "start_time": "2022-11-28T12:36:45.229Z"
   },
   {
    "duration": 18,
    "start_time": "2022-11-28T12:36:45.405Z"
   },
   {
    "duration": 22,
    "start_time": "2022-11-28T12:36:45.424Z"
   },
   {
    "duration": 3,
    "start_time": "2022-11-28T12:36:45.449Z"
   },
   {
    "duration": 12,
    "start_time": "2022-11-28T12:36:45.454Z"
   },
   {
    "duration": 25,
    "start_time": "2022-11-28T12:36:45.467Z"
   },
   {
    "duration": 17,
    "start_time": "2022-11-28T12:36:45.494Z"
   },
   {
    "duration": 5,
    "start_time": "2022-11-28T12:36:45.513Z"
   },
   {
    "duration": 35,
    "start_time": "2022-11-28T12:36:45.520Z"
   },
   {
    "duration": 10,
    "start_time": "2022-11-28T12:36:45.558Z"
   },
   {
    "duration": 13,
    "start_time": "2022-11-28T12:36:45.570Z"
   },
   {
    "duration": 20,
    "start_time": "2022-11-28T12:36:45.585Z"
   },
   {
    "duration": 0,
    "start_time": "2022-11-28T12:36:45.607Z"
   },
   {
    "duration": 0,
    "start_time": "2022-11-28T12:36:45.608Z"
   },
   {
    "duration": 0,
    "start_time": "2022-11-28T12:36:45.610Z"
   },
   {
    "duration": 0,
    "start_time": "2022-11-28T12:36:45.611Z"
   },
   {
    "duration": 0,
    "start_time": "2022-11-28T12:36:45.612Z"
   },
   {
    "duration": 0,
    "start_time": "2022-11-28T12:36:45.613Z"
   },
   {
    "duration": 0,
    "start_time": "2022-11-28T12:36:45.614Z"
   },
   {
    "duration": 8,
    "start_time": "2022-11-28T12:37:02.692Z"
   },
   {
    "duration": 197,
    "start_time": "2022-11-28T12:37:15.519Z"
   },
   {
    "duration": 8,
    "start_time": "2022-11-28T12:37:49.927Z"
   },
   {
    "duration": 192,
    "start_time": "2022-11-28T12:38:36.247Z"
   },
   {
    "duration": 168,
    "start_time": "2022-11-28T12:38:37.867Z"
   },
   {
    "duration": 21,
    "start_time": "2022-11-28T12:38:45.752Z"
   },
   {
    "duration": 14,
    "start_time": "2022-11-28T12:38:50.078Z"
   },
   {
    "duration": 13,
    "start_time": "2022-11-28T12:39:26.391Z"
   },
   {
    "duration": 18,
    "start_time": "2022-11-28T12:39:43.431Z"
   },
   {
    "duration": 5,
    "start_time": "2022-11-28T12:41:04.174Z"
   },
   {
    "duration": 18,
    "start_time": "2022-11-28T12:41:05.948Z"
   },
   {
    "duration": 8,
    "start_time": "2022-11-28T12:41:17.676Z"
   },
   {
    "duration": 32,
    "start_time": "2022-11-28T12:42:24.764Z"
   },
   {
    "duration": 36,
    "start_time": "2022-11-28T12:42:39.582Z"
   },
   {
    "duration": 45,
    "start_time": "2022-11-28T12:45:44.250Z"
   },
   {
    "duration": 9,
    "start_time": "2022-11-28T12:45:48.533Z"
   },
   {
    "duration": 21,
    "start_time": "2022-11-28T12:45:56.085Z"
   },
   {
    "duration": 32,
    "start_time": "2022-11-28T12:46:15.050Z"
   },
   {
    "duration": 20,
    "start_time": "2022-11-28T12:47:25.641Z"
   },
   {
    "duration": 239,
    "start_time": "2022-11-28T12:49:14.038Z"
   },
   {
    "duration": 261,
    "start_time": "2022-11-28T12:49:35.567Z"
   },
   {
    "duration": 280,
    "start_time": "2022-11-28T12:50:00.079Z"
   },
   {
    "duration": 288,
    "start_time": "2022-11-28T12:50:07.548Z"
   },
   {
    "duration": 5,
    "start_time": "2022-11-28T12:50:38.025Z"
   },
   {
    "duration": 9,
    "start_time": "2022-11-28T12:50:54.297Z"
   },
   {
    "duration": 9,
    "start_time": "2022-11-28T12:52:35.089Z"
   },
   {
    "duration": 7,
    "start_time": "2022-11-28T12:52:39.687Z"
   },
   {
    "duration": 14,
    "start_time": "2022-11-28T12:56:40.584Z"
   },
   {
    "duration": 13,
    "start_time": "2022-11-28T12:57:12.459Z"
   },
   {
    "duration": 16,
    "start_time": "2022-11-28T12:57:54.807Z"
   },
   {
    "duration": 18,
    "start_time": "2022-11-28T12:58:16.638Z"
   },
   {
    "duration": 14,
    "start_time": "2022-11-28T12:59:10.308Z"
   },
   {
    "duration": 15,
    "start_time": "2022-11-28T12:59:29.290Z"
   },
   {
    "duration": 262,
    "start_time": "2022-11-28T12:59:38.381Z"
   },
   {
    "duration": 16,
    "start_time": "2022-11-28T12:59:44.259Z"
   },
   {
    "duration": 332,
    "start_time": "2022-11-28T13:00:06.102Z"
   },
   {
    "duration": 323,
    "start_time": "2022-11-28T13:02:33.627Z"
   },
   {
    "duration": 16,
    "start_time": "2022-11-28T13:04:16.731Z"
   },
   {
    "duration": 16,
    "start_time": "2022-11-28T13:04:23.830Z"
   },
   {
    "duration": 5,
    "start_time": "2022-11-28T13:04:48.752Z"
   },
   {
    "duration": 12,
    "start_time": "2022-11-28T13:04:54.541Z"
   },
   {
    "duration": 8,
    "start_time": "2022-11-28T13:05:04.334Z"
   },
   {
    "duration": 8,
    "start_time": "2022-11-28T13:05:08.531Z"
   },
   {
    "duration": 9,
    "start_time": "2022-11-28T13:06:57.105Z"
   },
   {
    "duration": 9,
    "start_time": "2022-11-28T13:07:05.633Z"
   },
   {
    "duration": 8,
    "start_time": "2022-11-28T13:07:10.975Z"
   },
   {
    "duration": 9,
    "start_time": "2022-11-28T13:07:18.699Z"
   },
   {
    "duration": 143,
    "start_time": "2022-11-28T13:07:42.279Z"
   },
   {
    "duration": 19,
    "start_time": "2022-11-28T13:07:56.843Z"
   },
   {
    "duration": 199,
    "start_time": "2022-11-28T13:08:28.263Z"
   },
   {
    "duration": 136,
    "start_time": "2022-11-28T13:08:36.362Z"
   },
   {
    "duration": 16,
    "start_time": "2022-11-28T13:08:36.500Z"
   },
   {
    "duration": 17,
    "start_time": "2022-11-28T13:08:36.518Z"
   },
   {
    "duration": 4,
    "start_time": "2022-11-28T13:08:36.537Z"
   },
   {
    "duration": 17,
    "start_time": "2022-11-28T13:08:36.544Z"
   },
   {
    "duration": 17,
    "start_time": "2022-11-28T13:08:36.562Z"
   },
   {
    "duration": 18,
    "start_time": "2022-11-28T13:08:36.581Z"
   },
   {
    "duration": 13,
    "start_time": "2022-11-28T13:08:36.600Z"
   },
   {
    "duration": 19,
    "start_time": "2022-11-28T13:08:36.614Z"
   },
   {
    "duration": 24,
    "start_time": "2022-11-28T13:08:36.635Z"
   },
   {
    "duration": 8,
    "start_time": "2022-11-28T13:08:36.660Z"
   },
   {
    "duration": 11,
    "start_time": "2022-11-28T13:08:36.669Z"
   },
   {
    "duration": 0,
    "start_time": "2022-11-28T13:08:36.681Z"
   },
   {
    "duration": 0,
    "start_time": "2022-11-28T13:08:36.683Z"
   },
   {
    "duration": 0,
    "start_time": "2022-11-28T13:08:36.684Z"
   },
   {
    "duration": 0,
    "start_time": "2022-11-28T13:08:36.685Z"
   },
   {
    "duration": 0,
    "start_time": "2022-11-28T13:08:36.686Z"
   },
   {
    "duration": 0,
    "start_time": "2022-11-28T13:08:36.687Z"
   },
   {
    "duration": 0,
    "start_time": "2022-11-28T13:08:36.688Z"
   },
   {
    "duration": 0,
    "start_time": "2022-11-28T13:08:36.689Z"
   },
   {
    "duration": 5,
    "start_time": "2022-11-28T13:08:52.230Z"
   },
   {
    "duration": 23,
    "start_time": "2022-11-28T13:08:52.236Z"
   },
   {
    "duration": 14,
    "start_time": "2022-11-28T13:08:52.261Z"
   },
   {
    "duration": 14,
    "start_time": "2022-11-28T13:08:52.276Z"
   },
   {
    "duration": 201,
    "start_time": "2022-11-28T13:08:52.293Z"
   },
   {
    "duration": 186,
    "start_time": "2022-11-28T13:08:52.496Z"
   },
   {
    "duration": 10,
    "start_time": "2022-11-28T13:08:52.683Z"
   },
   {
    "duration": 289,
    "start_time": "2022-11-28T13:08:52.694Z"
   },
   {
    "duration": 16,
    "start_time": "2022-11-28T13:08:52.985Z"
   },
   {
    "duration": 74,
    "start_time": "2022-11-28T13:09:24.431Z"
   },
   {
    "duration": 8,
    "start_time": "2022-11-28T13:09:31.172Z"
   },
   {
    "duration": 182,
    "start_time": "2022-11-28T13:09:38.633Z"
   },
   {
    "duration": 9,
    "start_time": "2022-11-28T13:14:11.262Z"
   },
   {
    "duration": 272,
    "start_time": "2022-11-28T13:15:53.131Z"
   },
   {
    "duration": 294,
    "start_time": "2022-11-28T13:16:39.524Z"
   },
   {
    "duration": 288,
    "start_time": "2022-11-28T13:17:40.424Z"
   },
   {
    "duration": 286,
    "start_time": "2022-11-28T13:17:49.866Z"
   },
   {
    "duration": 7,
    "start_time": "2022-11-28T13:19:12.623Z"
   },
   {
    "duration": 6,
    "start_time": "2022-11-28T13:20:29.761Z"
   },
   {
    "duration": 17,
    "start_time": "2022-11-28T13:20:43.593Z"
   },
   {
    "duration": 139,
    "start_time": "2022-11-28T13:23:05.957Z"
   },
   {
    "duration": 18,
    "start_time": "2022-11-28T13:23:06.098Z"
   },
   {
    "duration": 8,
    "start_time": "2022-11-28T13:23:06.118Z"
   },
   {
    "duration": 28,
    "start_time": "2022-11-28T13:23:06.128Z"
   },
   {
    "duration": 4,
    "start_time": "2022-11-28T13:23:06.158Z"
   },
   {
    "duration": 23,
    "start_time": "2022-11-28T13:23:06.163Z"
   },
   {
    "duration": 25,
    "start_time": "2022-11-28T13:23:06.188Z"
   },
   {
    "duration": 9,
    "start_time": "2022-11-28T13:23:06.215Z"
   },
   {
    "duration": 49,
    "start_time": "2022-11-28T13:23:06.226Z"
   },
   {
    "duration": 16,
    "start_time": "2022-11-28T13:23:06.278Z"
   },
   {
    "duration": 16,
    "start_time": "2022-11-28T13:23:06.296Z"
   },
   {
    "duration": 9,
    "start_time": "2022-11-28T13:23:06.314Z"
   },
   {
    "duration": 40,
    "start_time": "2022-11-28T13:23:06.326Z"
   },
   {
    "duration": 16,
    "start_time": "2022-11-28T13:23:06.367Z"
   },
   {
    "duration": 15,
    "start_time": "2022-11-28T13:23:06.385Z"
   },
   {
    "duration": 235,
    "start_time": "2022-11-28T13:23:06.402Z"
   },
   {
    "duration": 199,
    "start_time": "2022-11-28T13:23:06.639Z"
   },
   {
    "duration": 16,
    "start_time": "2022-11-28T13:23:06.840Z"
   },
   {
    "duration": 327,
    "start_time": "2022-11-28T13:23:06.857Z"
   },
   {
    "duration": 12,
    "start_time": "2022-11-28T13:23:07.186Z"
   },
   {
    "duration": 32,
    "start_time": "2022-11-28T13:24:18.093Z"
   },
   {
    "duration": 54,
    "start_time": "2022-11-28T13:25:40.376Z"
   },
   {
    "duration": 290,
    "start_time": "2022-11-28T13:25:45.431Z"
   },
   {
    "duration": 15,
    "start_time": "2022-11-28T13:25:50.041Z"
   },
   {
    "duration": 6,
    "start_time": "2022-11-28T13:28:44.219Z"
   },
   {
    "duration": 11,
    "start_time": "2022-11-28T13:28:55.801Z"
   },
   {
    "duration": 323,
    "start_time": "2022-11-28T13:29:08.412Z"
   },
   {
    "duration": 10,
    "start_time": "2022-11-28T13:29:32.237Z"
   },
   {
    "duration": 295,
    "start_time": "2022-11-28T13:29:33.324Z"
   },
   {
    "duration": 155,
    "start_time": "2022-11-28T13:29:55.494Z"
   },
   {
    "duration": 18,
    "start_time": "2022-11-28T13:30:00.675Z"
   },
   {
    "duration": 600,
    "start_time": "2022-11-28T14:31:27.786Z"
   },
   {
    "duration": 31,
    "start_time": "2022-11-28T14:31:28.388Z"
   },
   {
    "duration": 7,
    "start_time": "2022-11-28T14:31:28.421Z"
   },
   {
    "duration": 35,
    "start_time": "2022-11-28T14:31:28.430Z"
   },
   {
    "duration": 5,
    "start_time": "2022-11-28T14:31:28.467Z"
   },
   {
    "duration": 19,
    "start_time": "2022-11-28T14:31:28.474Z"
   },
   {
    "duration": 24,
    "start_time": "2022-11-28T14:31:28.496Z"
   },
   {
    "duration": 36,
    "start_time": "2022-11-28T14:31:28.522Z"
   },
   {
    "duration": 25,
    "start_time": "2022-11-28T14:31:28.561Z"
   },
   {
    "duration": 15,
    "start_time": "2022-11-28T14:31:28.589Z"
   },
   {
    "duration": 7,
    "start_time": "2022-11-28T14:31:28.606Z"
   },
   {
    "duration": 52,
    "start_time": "2022-11-28T14:31:28.615Z"
   },
   {
    "duration": 14,
    "start_time": "2022-11-28T14:31:28.669Z"
   },
   {
    "duration": 26,
    "start_time": "2022-11-28T14:31:28.684Z"
   },
   {
    "duration": 484,
    "start_time": "2022-11-28T14:31:28.712Z"
   },
   {
    "duration": 176,
    "start_time": "2022-11-28T14:31:29.198Z"
   },
   {
    "duration": 10,
    "start_time": "2022-11-28T14:31:29.375Z"
   },
   {
    "duration": 306,
    "start_time": "2022-11-28T14:31:29.386Z"
   },
   {
    "duration": 16,
    "start_time": "2022-11-28T14:31:29.694Z"
   },
   {
    "duration": 54,
    "start_time": "2022-11-29T06:05:25.568Z"
   },
   {
    "duration": 600,
    "start_time": "2022-11-29T06:05:30.720Z"
   },
   {
    "duration": 25,
    "start_time": "2022-11-29T06:05:31.323Z"
   },
   {
    "duration": 25,
    "start_time": "2022-11-29T06:05:31.350Z"
   },
   {
    "duration": 69,
    "start_time": "2022-11-29T06:05:31.379Z"
   },
   {
    "duration": 62,
    "start_time": "2022-11-29T06:05:31.450Z"
   },
   {
    "duration": 39,
    "start_time": "2022-11-29T06:05:31.514Z"
   },
   {
    "duration": 65,
    "start_time": "2022-11-29T06:05:31.555Z"
   },
   {
    "duration": 16,
    "start_time": "2022-11-29T06:05:31.622Z"
   },
   {
    "duration": 74,
    "start_time": "2022-11-29T06:05:31.640Z"
   },
   {
    "duration": 34,
    "start_time": "2022-11-29T06:05:31.718Z"
   },
   {
    "duration": 57,
    "start_time": "2022-11-29T06:05:31.754Z"
   },
   {
    "duration": 0,
    "start_time": "2022-11-29T06:05:31.813Z"
   },
   {
    "duration": 0,
    "start_time": "2022-11-29T06:05:31.815Z"
   },
   {
    "duration": 0,
    "start_time": "2022-11-29T06:05:31.816Z"
   },
   {
    "duration": 0,
    "start_time": "2022-11-29T06:05:31.818Z"
   },
   {
    "duration": 0,
    "start_time": "2022-11-29T06:05:31.819Z"
   },
   {
    "duration": 0,
    "start_time": "2022-11-29T06:05:31.821Z"
   },
   {
    "duration": 0,
    "start_time": "2022-11-29T06:05:31.822Z"
   },
   {
    "duration": 0,
    "start_time": "2022-11-29T06:05:31.825Z"
   },
   {
    "duration": 0,
    "start_time": "2022-11-29T06:05:31.826Z"
   },
   {
    "duration": 2,
    "start_time": "2022-11-29T06:05:53.105Z"
   },
   {
    "duration": 21,
    "start_time": "2022-11-29T06:05:53.112Z"
   },
   {
    "duration": 49,
    "start_time": "2022-11-29T06:05:53.138Z"
   },
   {
    "duration": 13,
    "start_time": "2022-11-29T06:05:53.189Z"
   },
   {
    "duration": 23,
    "start_time": "2022-11-29T06:05:53.204Z"
   },
   {
    "duration": 613,
    "start_time": "2022-11-29T06:05:53.229Z"
   },
   {
    "duration": 217,
    "start_time": "2022-11-29T06:05:53.845Z"
   },
   {
    "duration": 12,
    "start_time": "2022-11-29T06:05:54.063Z"
   },
   {
    "duration": 412,
    "start_time": "2022-11-29T06:05:54.078Z"
   },
   {
    "duration": 0,
    "start_time": "2022-11-29T06:05:54.491Z"
   },
   {
    "duration": 9,
    "start_time": "2022-11-29T06:09:43.129Z"
   },
   {
    "duration": 659,
    "start_time": "2022-11-29T06:10:04.025Z"
   },
   {
    "duration": 607,
    "start_time": "2022-11-29T06:14:13.971Z"
   },
   {
    "duration": 35,
    "start_time": "2022-11-29T06:14:14.581Z"
   },
   {
    "duration": 16,
    "start_time": "2022-11-29T06:14:14.619Z"
   },
   {
    "duration": 56,
    "start_time": "2022-11-29T06:14:14.638Z"
   },
   {
    "duration": 16,
    "start_time": "2022-11-29T06:14:14.698Z"
   },
   {
    "duration": 37,
    "start_time": "2022-11-29T06:14:14.716Z"
   },
   {
    "duration": 61,
    "start_time": "2022-11-29T06:14:14.755Z"
   },
   {
    "duration": 8,
    "start_time": "2022-11-29T06:14:14.818Z"
   },
   {
    "duration": 17,
    "start_time": "2022-11-29T06:14:14.827Z"
   },
   {
    "duration": 10,
    "start_time": "2022-11-29T06:14:14.846Z"
   },
   {
    "duration": 26,
    "start_time": "2022-11-29T06:14:14.858Z"
   },
   {
    "duration": 12,
    "start_time": "2022-11-29T06:14:14.885Z"
   },
   {
    "duration": 34,
    "start_time": "2022-11-29T06:14:14.901Z"
   },
   {
    "duration": 18,
    "start_time": "2022-11-29T06:14:14.938Z"
   },
   {
    "duration": 40,
    "start_time": "2022-11-29T06:14:14.958Z"
   },
   {
    "duration": 499,
    "start_time": "2022-11-29T06:14:15.001Z"
   },
   {
    "duration": 208,
    "start_time": "2022-11-29T06:14:15.503Z"
   },
   {
    "duration": 9,
    "start_time": "2022-11-29T06:14:15.713Z"
   },
   {
    "duration": 719,
    "start_time": "2022-11-29T06:14:15.724Z"
   },
   {
    "duration": 0,
    "start_time": "2022-11-29T06:14:16.446Z"
   },
   {
    "duration": 17,
    "start_time": "2022-11-29T06:14:32.689Z"
   },
   {
    "duration": 16,
    "start_time": "2022-11-29T06:14:41.819Z"
   },
   {
    "duration": 1001,
    "start_time": "2022-11-29T06:14:50.768Z"
   },
   {
    "duration": 949,
    "start_time": "2022-11-29T06:15:14.159Z"
   },
   {
    "duration": 1007,
    "start_time": "2022-11-29T06:15:53.590Z"
   },
   {
    "duration": 765,
    "start_time": "2022-11-29T06:18:03.220Z"
   },
   {
    "duration": 684,
    "start_time": "2022-11-29T06:18:12.026Z"
   },
   {
    "duration": 914,
    "start_time": "2022-11-29T06:18:20.207Z"
   },
   {
    "duration": 1499,
    "start_time": "2022-11-29T06:18:47.271Z"
   },
   {
    "duration": 129,
    "start_time": "2022-11-29T06:20:45.569Z"
   },
   {
    "duration": 19,
    "start_time": "2022-11-29T06:20:45.700Z"
   },
   {
    "duration": 12,
    "start_time": "2022-11-29T06:20:45.722Z"
   },
   {
    "duration": 25,
    "start_time": "2022-11-29T06:20:45.737Z"
   },
   {
    "duration": 5,
    "start_time": "2022-11-29T06:20:45.764Z"
   },
   {
    "duration": 18,
    "start_time": "2022-11-29T06:20:45.772Z"
   },
   {
    "duration": 19,
    "start_time": "2022-11-29T06:20:45.793Z"
   },
   {
    "duration": 6,
    "start_time": "2022-11-29T06:20:45.815Z"
   },
   {
    "duration": 42,
    "start_time": "2022-11-29T06:20:45.823Z"
   },
   {
    "duration": 11,
    "start_time": "2022-11-29T06:20:45.868Z"
   },
   {
    "duration": 9,
    "start_time": "2022-11-29T06:20:45.881Z"
   },
   {
    "duration": 11,
    "start_time": "2022-11-29T06:20:45.892Z"
   },
   {
    "duration": 25,
    "start_time": "2022-11-29T06:20:45.904Z"
   },
   {
    "duration": 14,
    "start_time": "2022-11-29T06:20:45.931Z"
   },
   {
    "duration": 11,
    "start_time": "2022-11-29T06:20:45.947Z"
   },
   {
    "duration": 332,
    "start_time": "2022-11-29T06:20:45.960Z"
   },
   {
    "duration": 182,
    "start_time": "2022-11-29T06:20:46.294Z"
   },
   {
    "duration": 10,
    "start_time": "2022-11-29T06:20:46.478Z"
   },
   {
    "duration": 983,
    "start_time": "2022-11-29T06:20:46.490Z"
   },
   {
    "duration": 3,
    "start_time": "2022-11-29T06:20:47.475Z"
   },
   {
    "duration": 56,
    "start_time": "2022-11-29T06:21:00.509Z"
   },
   {
    "duration": 15,
    "start_time": "2022-11-29T06:31:31.035Z"
   },
   {
    "duration": 26,
    "start_time": "2022-11-29T06:34:32.070Z"
   },
   {
    "duration": 94,
    "start_time": "2022-11-29T06:35:39.952Z"
   },
   {
    "duration": 2809,
    "start_time": "2022-11-29T06:42:55.630Z"
   },
   {
    "duration": 36,
    "start_time": "2022-11-29T06:44:44.471Z"
   },
   {
    "duration": 62,
    "start_time": "2022-11-29T06:50:12.755Z"
   },
   {
    "duration": 91,
    "start_time": "2022-11-29T06:50:19.942Z"
   },
   {
    "duration": 57,
    "start_time": "2022-11-29T06:51:08.481Z"
   },
   {
    "duration": 39,
    "start_time": "2022-11-29T06:51:13.492Z"
   },
   {
    "duration": 19,
    "start_time": "2022-11-29T06:51:29.216Z"
   },
   {
    "duration": 29,
    "start_time": "2022-11-29T06:51:32.839Z"
   },
   {
    "duration": 16,
    "start_time": "2022-11-29T06:52:12.018Z"
   },
   {
    "duration": 17,
    "start_time": "2022-11-29T06:52:29.196Z"
   },
   {
    "duration": 41,
    "start_time": "2022-11-29T06:52:50.540Z"
   },
   {
    "duration": 42,
    "start_time": "2022-11-29T06:53:05.034Z"
   },
   {
    "duration": 32,
    "start_time": "2022-11-29T06:53:26.153Z"
   },
   {
    "duration": 171,
    "start_time": "2022-11-29T06:54:15.888Z"
   },
   {
    "duration": 44,
    "start_time": "2022-11-29T08:26:07.923Z"
   },
   {
    "duration": 54,
    "start_time": "2022-11-29T08:26:13.188Z"
   },
   {
    "duration": 4,
    "start_time": "2022-11-29T08:26:17.286Z"
   },
   {
    "duration": 12,
    "start_time": "2022-11-29T08:26:41.845Z"
   },
   {
    "duration": 10,
    "start_time": "2022-11-29T08:26:55.467Z"
   },
   {
    "duration": 47,
    "start_time": "2022-11-29T08:26:58.569Z"
   },
   {
    "duration": 5819,
    "start_time": "2022-11-29T08:27:00.205Z"
   },
   {
    "duration": 14,
    "start_time": "2022-11-29T08:28:10.548Z"
   },
   {
    "duration": 17,
    "start_time": "2022-11-29T08:31:41.847Z"
   },
   {
    "duration": 24,
    "start_time": "2022-11-29T08:47:49.075Z"
   },
   {
    "duration": 22,
    "start_time": "2022-11-29T08:59:57.348Z"
   },
   {
    "duration": 2151,
    "start_time": "2022-11-29T09:00:22.587Z"
   },
   {
    "duration": 16,
    "start_time": "2022-11-29T09:00:37.507Z"
   },
   {
    "duration": 112,
    "start_time": "2022-11-29T09:01:08.911Z"
   },
   {
    "duration": 1847,
    "start_time": "2022-11-29T09:01:16.850Z"
   },
   {
    "duration": 828,
    "start_time": "2022-11-29T09:02:08.613Z"
   },
   {
    "duration": 1219,
    "start_time": "2022-11-29T09:02:47.434Z"
   },
   {
    "duration": 51,
    "start_time": "2022-11-29T09:07:33.802Z"
   },
   {
    "duration": 67,
    "start_time": "2022-11-29T09:07:51.129Z"
   },
   {
    "duration": 17,
    "start_time": "2022-11-29T09:07:54.990Z"
   },
   {
    "duration": 16,
    "start_time": "2022-11-29T09:08:11.937Z"
   },
   {
    "duration": 828,
    "start_time": "2022-11-29T09:08:27.205Z"
   },
   {
    "duration": 9,
    "start_time": "2022-11-29T09:08:39.771Z"
   },
   {
    "duration": 19,
    "start_time": "2022-11-29T09:08:51.799Z"
   },
   {
    "duration": 17,
    "start_time": "2022-11-29T09:09:27.691Z"
   },
   {
    "duration": 53,
    "start_time": "2022-11-29T10:16:55.775Z"
   },
   {
    "duration": 33,
    "start_time": "2022-11-29T10:17:02.610Z"
   },
   {
    "duration": 522,
    "start_time": "2022-11-29T10:17:08.374Z"
   },
   {
    "duration": 18,
    "start_time": "2022-11-29T10:17:08.898Z"
   },
   {
    "duration": 9,
    "start_time": "2022-11-29T10:17:08.918Z"
   },
   {
    "duration": 41,
    "start_time": "2022-11-29T10:17:08.929Z"
   },
   {
    "duration": 9,
    "start_time": "2022-11-29T10:17:08.978Z"
   },
   {
    "duration": 14,
    "start_time": "2022-11-29T10:17:08.988Z"
   },
   {
    "duration": 35,
    "start_time": "2022-11-29T10:17:09.003Z"
   },
   {
    "duration": 17,
    "start_time": "2022-11-29T10:17:09.040Z"
   },
   {
    "duration": 37,
    "start_time": "2022-11-29T10:17:09.058Z"
   },
   {
    "duration": 10,
    "start_time": "2022-11-29T10:17:09.097Z"
   },
   {
    "duration": 37,
    "start_time": "2022-11-29T10:17:09.109Z"
   },
   {
    "duration": 33,
    "start_time": "2022-11-29T10:17:09.148Z"
   },
   {
    "duration": 30,
    "start_time": "2022-11-29T10:17:09.183Z"
   },
   {
    "duration": 20,
    "start_time": "2022-11-29T10:17:09.215Z"
   },
   {
    "duration": 35,
    "start_time": "2022-11-29T10:17:09.237Z"
   },
   {
    "duration": 216,
    "start_time": "2022-11-29T10:17:09.273Z"
   },
   {
    "duration": 196,
    "start_time": "2022-11-29T10:17:09.491Z"
   },
   {
    "duration": 12,
    "start_time": "2022-11-29T10:17:09.689Z"
   },
   {
    "duration": 62,
    "start_time": "2022-11-29T10:17:09.703Z"
   },
   {
    "duration": 31,
    "start_time": "2022-11-29T10:17:09.767Z"
   },
   {
    "duration": 5,
    "start_time": "2022-11-29T10:17:09.800Z"
   },
   {
    "duration": 33,
    "start_time": "2022-11-29T10:17:09.807Z"
   },
   {
    "duration": 34,
    "start_time": "2022-11-29T10:17:40.773Z"
   },
   {
    "duration": 583,
    "start_time": "2022-11-29T10:26:01.364Z"
   },
   {
    "duration": 22,
    "start_time": "2022-11-29T10:26:01.949Z"
   },
   {
    "duration": 4,
    "start_time": "2022-11-29T10:26:01.973Z"
   },
   {
    "duration": 18,
    "start_time": "2022-11-29T10:26:01.980Z"
   },
   {
    "duration": 4,
    "start_time": "2022-11-29T10:26:02.000Z"
   },
   {
    "duration": 13,
    "start_time": "2022-11-29T10:26:02.007Z"
   },
   {
    "duration": 41,
    "start_time": "2022-11-29T10:26:02.022Z"
   },
   {
    "duration": 12,
    "start_time": "2022-11-29T10:26:02.066Z"
   },
   {
    "duration": 20,
    "start_time": "2022-11-29T10:26:02.080Z"
   },
   {
    "duration": 11,
    "start_time": "2022-11-29T10:26:02.103Z"
   },
   {
    "duration": 5,
    "start_time": "2022-11-29T10:26:02.116Z"
   },
   {
    "duration": 34,
    "start_time": "2022-11-29T10:26:02.122Z"
   },
   {
    "duration": 22,
    "start_time": "2022-11-29T10:26:02.157Z"
   },
   {
    "duration": 15,
    "start_time": "2022-11-29T10:26:02.180Z"
   },
   {
    "duration": 12,
    "start_time": "2022-11-29T10:26:02.196Z"
   },
   {
    "duration": 448,
    "start_time": "2022-11-29T10:26:02.210Z"
   },
   {
    "duration": 171,
    "start_time": "2022-11-29T10:26:02.660Z"
   },
   {
    "duration": 21,
    "start_time": "2022-11-29T10:26:02.833Z"
   },
   {
    "duration": 528,
    "start_time": "2022-11-29T10:26:02.857Z"
   },
   {
    "duration": 28,
    "start_time": "2022-11-29T10:26:03.387Z"
   },
   {
    "duration": 6,
    "start_time": "2022-11-29T10:26:03.417Z"
   },
   {
    "duration": 54,
    "start_time": "2022-11-29T10:26:03.424Z"
   },
   {
    "duration": 128,
    "start_time": "2022-11-29T10:26:03.479Z"
   },
   {
    "duration": 144,
    "start_time": "2022-11-29T10:28:15.970Z"
   },
   {
    "duration": 17,
    "start_time": "2022-11-29T10:28:47.300Z"
   },
   {
    "duration": 133,
    "start_time": "2022-11-29T10:29:11.623Z"
   },
   {
    "duration": 6,
    "start_time": "2022-11-29T10:31:22.644Z"
   },
   {
    "duration": 13,
    "start_time": "2022-11-29T10:32:36.587Z"
   },
   {
    "duration": 15,
    "start_time": "2022-11-29T10:33:38.925Z"
   },
   {
    "duration": 15,
    "start_time": "2022-11-29T10:33:48.086Z"
   },
   {
    "duration": 120,
    "start_time": "2022-11-29T10:34:05.127Z"
   },
   {
    "duration": 59,
    "start_time": "2022-11-29T11:04:05.791Z"
   },
   {
    "duration": 630,
    "start_time": "2022-11-29T11:12:50.619Z"
   },
   {
    "duration": 26,
    "start_time": "2022-11-29T11:12:51.251Z"
   },
   {
    "duration": 6,
    "start_time": "2022-11-29T11:12:51.279Z"
   },
   {
    "duration": 18,
    "start_time": "2022-11-29T11:12:51.286Z"
   },
   {
    "duration": 4,
    "start_time": "2022-11-29T11:12:51.307Z"
   },
   {
    "duration": 12,
    "start_time": "2022-11-29T11:12:51.313Z"
   },
   {
    "duration": 19,
    "start_time": "2022-11-29T11:12:51.354Z"
   },
   {
    "duration": 6,
    "start_time": "2022-11-29T11:12:51.374Z"
   },
   {
    "duration": 20,
    "start_time": "2022-11-29T11:12:51.381Z"
   },
   {
    "duration": 10,
    "start_time": "2022-11-29T11:12:51.403Z"
   },
   {
    "duration": 9,
    "start_time": "2022-11-29T11:12:51.414Z"
   },
   {
    "duration": 32,
    "start_time": "2022-11-29T11:12:51.424Z"
   },
   {
    "duration": 23,
    "start_time": "2022-11-29T11:12:51.457Z"
   },
   {
    "duration": 14,
    "start_time": "2022-11-29T11:12:51.482Z"
   },
   {
    "duration": 11,
    "start_time": "2022-11-29T11:12:51.497Z"
   },
   {
    "duration": 443,
    "start_time": "2022-11-29T11:12:51.510Z"
   },
   {
    "duration": 162,
    "start_time": "2022-11-29T11:12:51.955Z"
   },
   {
    "duration": 9,
    "start_time": "2022-11-29T11:12:52.118Z"
   },
   {
    "duration": 561,
    "start_time": "2022-11-29T11:12:52.129Z"
   },
   {
    "duration": 26,
    "start_time": "2022-11-29T11:12:52.692Z"
   },
   {
    "duration": 5,
    "start_time": "2022-11-29T11:12:52.720Z"
   },
   {
    "duration": 41,
    "start_time": "2022-11-29T11:12:52.727Z"
   },
   {
    "duration": 0,
    "start_time": "2022-11-29T11:12:52.770Z"
   },
   {
    "duration": 100,
    "start_time": "2022-11-29T11:15:05.492Z"
   },
   {
    "duration": 1037,
    "start_time": "2022-11-29T11:15:15.915Z"
   },
   {
    "duration": 16,
    "start_time": "2022-11-29T11:36:33.194Z"
   },
   {
    "duration": 45,
    "start_time": "2022-11-29T12:24:48.298Z"
   },
   {
    "duration": 182,
    "start_time": "2022-11-29T12:24:56.228Z"
   },
   {
    "duration": 15,
    "start_time": "2022-11-29T12:26:22.339Z"
   },
   {
    "duration": 23,
    "start_time": "2022-11-29T12:26:33.876Z"
   },
   {
    "duration": 69,
    "start_time": "2022-11-29T12:27:01.996Z"
   },
   {
    "duration": 13,
    "start_time": "2022-11-29T12:27:13.498Z"
   },
   {
    "duration": 23,
    "start_time": "2022-11-29T12:27:55.137Z"
   },
   {
    "duration": 14,
    "start_time": "2022-11-29T12:28:20.662Z"
   },
   {
    "duration": 17,
    "start_time": "2022-11-29T12:30:15.642Z"
   },
   {
    "duration": 144,
    "start_time": "2022-11-29T12:31:12.779Z"
   },
   {
    "duration": 14,
    "start_time": "2022-11-29T12:31:31.760Z"
   },
   {
    "duration": 16,
    "start_time": "2022-11-29T12:31:39.087Z"
   },
   {
    "duration": 15,
    "start_time": "2022-11-29T12:33:20.538Z"
   },
   {
    "duration": 21,
    "start_time": "2022-11-29T12:40:50.979Z"
   },
   {
    "duration": 8,
    "start_time": "2022-11-29T12:45:58.126Z"
   },
   {
    "duration": 16,
    "start_time": "2022-11-29T12:46:33.501Z"
   },
   {
    "duration": 9,
    "start_time": "2022-11-29T12:47:23.292Z"
   },
   {
    "duration": 1460,
    "start_time": "2022-11-29T12:54:08.085Z"
   },
   {
    "duration": 23,
    "start_time": "2022-11-29T12:54:09.547Z"
   },
   {
    "duration": 6,
    "start_time": "2022-11-29T12:54:09.571Z"
   },
   {
    "duration": 21,
    "start_time": "2022-11-29T12:54:09.579Z"
   },
   {
    "duration": 5,
    "start_time": "2022-11-29T12:54:09.602Z"
   },
   {
    "duration": 13,
    "start_time": "2022-11-29T12:54:09.609Z"
   },
   {
    "duration": 46,
    "start_time": "2022-11-29T12:54:09.624Z"
   },
   {
    "duration": 12,
    "start_time": "2022-11-29T12:54:09.673Z"
   },
   {
    "duration": 24,
    "start_time": "2022-11-29T12:54:09.687Z"
   },
   {
    "duration": 14,
    "start_time": "2022-11-29T12:54:09.714Z"
   },
   {
    "duration": 36,
    "start_time": "2022-11-29T12:54:09.730Z"
   },
   {
    "duration": 21,
    "start_time": "2022-11-29T12:54:09.768Z"
   },
   {
    "duration": 15,
    "start_time": "2022-11-29T12:54:09.791Z"
   },
   {
    "duration": 50,
    "start_time": "2022-11-29T12:54:09.808Z"
   },
   {
    "duration": 19,
    "start_time": "2022-11-29T12:54:09.864Z"
   },
   {
    "duration": 20,
    "start_time": "2022-11-29T12:54:09.885Z"
   },
   {
    "duration": 283,
    "start_time": "2022-11-29T12:54:09.908Z"
   },
   {
    "duration": 180,
    "start_time": "2022-11-29T12:54:10.193Z"
   },
   {
    "duration": 9,
    "start_time": "2022-11-29T12:54:10.375Z"
   },
   {
    "duration": 145,
    "start_time": "2022-11-29T12:54:10.386Z"
   },
   {
    "duration": 0,
    "start_time": "2022-11-29T12:54:10.533Z"
   },
   {
    "duration": 0,
    "start_time": "2022-11-29T12:54:10.535Z"
   },
   {
    "duration": 0,
    "start_time": "2022-11-29T12:54:10.537Z"
   },
   {
    "duration": 0,
    "start_time": "2022-11-29T12:54:10.538Z"
   },
   {
    "duration": 0,
    "start_time": "2022-11-29T12:54:10.540Z"
   },
   {
    "duration": 0,
    "start_time": "2022-11-29T12:54:10.541Z"
   },
   {
    "duration": 2,
    "start_time": "2022-11-29T12:54:28.606Z"
   },
   {
    "duration": 153,
    "start_time": "2022-11-29T12:54:28.633Z"
   },
   {
    "duration": 17,
    "start_time": "2022-11-29T12:54:28.788Z"
   },
   {
    "duration": 9,
    "start_time": "2022-11-29T12:54:28.807Z"
   },
   {
    "duration": 11,
    "start_time": "2022-11-29T12:54:28.818Z"
   },
   {
    "duration": 0,
    "start_time": "2022-11-29T12:54:28.830Z"
   },
   {
    "duration": 0,
    "start_time": "2022-11-29T12:54:28.831Z"
   },
   {
    "duration": 1568,
    "start_time": "2022-11-29T13:00:31.664Z"
   },
   {
    "duration": 23,
    "start_time": "2022-11-29T13:00:33.234Z"
   },
   {
    "duration": 6,
    "start_time": "2022-11-29T13:00:33.259Z"
   },
   {
    "duration": 21,
    "start_time": "2022-11-29T13:00:33.267Z"
   },
   {
    "duration": 5,
    "start_time": "2022-11-29T13:00:33.290Z"
   },
   {
    "duration": 12,
    "start_time": "2022-11-29T13:00:33.297Z"
   },
   {
    "duration": 52,
    "start_time": "2022-11-29T13:00:33.310Z"
   },
   {
    "duration": 10,
    "start_time": "2022-11-29T13:00:33.364Z"
   },
   {
    "duration": 16,
    "start_time": "2022-11-29T13:00:33.377Z"
   },
   {
    "duration": 10,
    "start_time": "2022-11-29T13:00:33.396Z"
   },
   {
    "duration": 18,
    "start_time": "2022-11-29T13:00:33.408Z"
   },
   {
    "duration": 14,
    "start_time": "2022-11-29T13:00:33.455Z"
   },
   {
    "duration": 13,
    "start_time": "2022-11-29T13:00:33.471Z"
   },
   {
    "duration": 21,
    "start_time": "2022-11-29T13:00:33.485Z"
   },
   {
    "duration": 15,
    "start_time": "2022-11-29T13:00:33.508Z"
   },
   {
    "duration": 37,
    "start_time": "2022-11-29T13:00:33.525Z"
   },
   {
    "duration": 256,
    "start_time": "2022-11-29T13:00:33.564Z"
   },
   {
    "duration": 180,
    "start_time": "2022-11-29T13:00:33.822Z"
   },
   {
    "duration": 10,
    "start_time": "2022-11-29T13:00:34.005Z"
   },
   {
    "duration": 9,
    "start_time": "2022-11-29T13:00:34.017Z"
   },
   {
    "duration": 174,
    "start_time": "2022-11-29T13:00:34.028Z"
   },
   {
    "duration": 10,
    "start_time": "2022-11-29T13:00:34.204Z"
   },
   {
    "duration": 111,
    "start_time": "2022-11-29T13:00:34.216Z"
   },
   {
    "duration": 0,
    "start_time": "2022-11-29T13:00:34.329Z"
   },
   {
    "duration": 0,
    "start_time": "2022-11-29T13:00:34.330Z"
   },
   {
    "duration": 0,
    "start_time": "2022-11-29T13:00:34.331Z"
   },
   {
    "duration": 171,
    "start_time": "2022-11-29T13:00:51.107Z"
   },
   {
    "duration": 163,
    "start_time": "2022-11-29T13:01:02.147Z"
   },
   {
    "duration": 145,
    "start_time": "2022-11-29T13:01:19.592Z"
   },
   {
    "duration": 142,
    "start_time": "2022-11-29T13:01:31.637Z"
   },
   {
    "duration": 131,
    "start_time": "2022-11-29T13:01:36.000Z"
   },
   {
    "duration": 142,
    "start_time": "2022-11-29T13:02:01.179Z"
   },
   {
    "duration": 158,
    "start_time": "2022-11-29T13:02:20.415Z"
   },
   {
    "duration": 11316,
    "start_time": "2022-11-29T13:03:23.088Z"
   },
   {
    "duration": 5623,
    "start_time": "2022-11-29T13:04:20.507Z"
   },
   {
    "duration": 156,
    "start_time": "2022-11-29T13:04:29.910Z"
   },
   {
    "duration": 161,
    "start_time": "2022-11-29T13:04:39.323Z"
   },
   {
    "duration": 144,
    "start_time": "2022-11-29T13:04:44.174Z"
   },
   {
    "duration": 141,
    "start_time": "2022-11-29T13:04:48.183Z"
   },
   {
    "duration": 151,
    "start_time": "2022-11-29T13:04:52.264Z"
   },
   {
    "duration": 13,
    "start_time": "2022-11-29T13:11:15.333Z"
   },
   {
    "duration": 15,
    "start_time": "2022-11-29T13:11:28.190Z"
   },
   {
    "duration": 62,
    "start_time": "2022-11-29T13:13:19.330Z"
   },
   {
    "duration": 62,
    "start_time": "2022-11-29T13:13:26.349Z"
   },
   {
    "duration": 54,
    "start_time": "2022-11-29T13:13:43.499Z"
   },
   {
    "duration": 23,
    "start_time": "2022-11-29T13:13:54.607Z"
   },
   {
    "duration": 28,
    "start_time": "2022-11-29T13:14:29.686Z"
   },
   {
    "duration": 16,
    "start_time": "2022-11-29T13:14:39.191Z"
   },
   {
    "duration": 23,
    "start_time": "2022-11-29T13:14:53.432Z"
   },
   {
    "duration": 212,
    "start_time": "2022-11-29T13:15:09.147Z"
   },
   {
    "duration": 641,
    "start_time": "2022-11-29T13:15:25.477Z"
   },
   {
    "duration": 292,
    "start_time": "2022-11-29T13:15:41.663Z"
   },
   {
    "duration": 282,
    "start_time": "2022-11-29T13:16:07.427Z"
   },
   {
    "duration": 338,
    "start_time": "2022-11-29T13:16:13.060Z"
   },
   {
    "duration": 5084,
    "start_time": "2022-11-29T13:17:49.869Z"
   },
   {
    "duration": 6077,
    "start_time": "2022-11-29T13:18:10.371Z"
   },
   {
    "duration": 44,
    "start_time": "2022-11-30T06:36:28.287Z"
   },
   {
    "duration": 1350,
    "start_time": "2022-11-30T06:36:33.066Z"
   },
   {
    "duration": 18,
    "start_time": "2022-11-30T06:36:34.420Z"
   },
   {
    "duration": 4,
    "start_time": "2022-11-30T06:36:34.439Z"
   },
   {
    "duration": 14,
    "start_time": "2022-11-30T06:36:34.446Z"
   },
   {
    "duration": 3,
    "start_time": "2022-11-30T06:36:34.461Z"
   },
   {
    "duration": 11,
    "start_time": "2022-11-30T06:36:34.465Z"
   },
   {
    "duration": 35,
    "start_time": "2022-11-30T06:36:34.478Z"
   },
   {
    "duration": 9,
    "start_time": "2022-11-30T06:36:34.514Z"
   },
   {
    "duration": 21,
    "start_time": "2022-11-30T06:36:34.524Z"
   },
   {
    "duration": 9,
    "start_time": "2022-11-30T06:36:34.547Z"
   },
   {
    "duration": 17,
    "start_time": "2022-11-30T06:36:34.557Z"
   },
   {
    "duration": 16,
    "start_time": "2022-11-30T06:36:34.575Z"
   },
   {
    "duration": 6,
    "start_time": "2022-11-30T06:36:34.605Z"
   },
   {
    "duration": 25,
    "start_time": "2022-11-30T06:36:34.613Z"
   },
   {
    "duration": 13,
    "start_time": "2022-11-30T06:36:34.639Z"
   },
   {
    "duration": 11,
    "start_time": "2022-11-30T06:36:34.653Z"
   },
   {
    "duration": 190,
    "start_time": "2022-11-30T06:36:34.665Z"
   },
   {
    "duration": 159,
    "start_time": "2022-11-30T06:36:34.856Z"
   },
   {
    "duration": 8,
    "start_time": "2022-11-30T06:36:35.016Z"
   },
   {
    "duration": 7,
    "start_time": "2022-11-30T06:36:35.026Z"
   },
   {
    "duration": 158,
    "start_time": "2022-11-30T06:36:35.034Z"
   },
   {
    "duration": 12,
    "start_time": "2022-11-30T06:36:35.193Z"
   },
   {
    "duration": 143,
    "start_time": "2022-11-30T06:36:35.206Z"
   },
   {
    "duration": 265,
    "start_time": "2022-11-30T06:36:35.351Z"
   },
   {
    "duration": 16,
    "start_time": "2022-11-30T06:36:35.617Z"
   },
   {
    "duration": 46,
    "start_time": "2022-11-30T06:36:35.635Z"
   },
   {
    "duration": 4365,
    "start_time": "2022-11-30T06:36:35.682Z"
   },
   {
    "duration": 187,
    "start_time": "2022-11-30T09:00:13.517Z"
   },
   {
    "duration": 17,
    "start_time": "2022-11-30T09:00:13.705Z"
   },
   {
    "duration": 8,
    "start_time": "2022-11-30T09:00:13.723Z"
   },
   {
    "duration": 16,
    "start_time": "2022-11-30T09:00:13.733Z"
   },
   {
    "duration": 17,
    "start_time": "2022-11-30T09:00:13.751Z"
   },
   {
    "duration": 22,
    "start_time": "2022-11-30T09:00:13.770Z"
   },
   {
    "duration": 21,
    "start_time": "2022-11-30T09:00:13.794Z"
   },
   {
    "duration": 10,
    "start_time": "2022-11-30T09:00:13.817Z"
   },
   {
    "duration": 18,
    "start_time": "2022-11-30T09:00:13.830Z"
   },
   {
    "duration": 10,
    "start_time": "2022-11-30T09:00:13.850Z"
   },
   {
    "duration": 19,
    "start_time": "2022-11-30T09:00:13.861Z"
   },
   {
    "duration": 31,
    "start_time": "2022-11-30T09:00:13.881Z"
   },
   {
    "duration": 9,
    "start_time": "2022-11-30T09:00:13.913Z"
   },
   {
    "duration": 19,
    "start_time": "2022-11-30T09:00:13.923Z"
   },
   {
    "duration": 12,
    "start_time": "2022-11-30T09:00:13.944Z"
   },
   {
    "duration": 10,
    "start_time": "2022-11-30T09:00:13.957Z"
   },
   {
    "duration": 200,
    "start_time": "2022-11-30T09:00:13.969Z"
   },
   {
    "duration": 165,
    "start_time": "2022-11-30T09:00:14.171Z"
   },
   {
    "duration": 8,
    "start_time": "2022-11-30T09:00:14.337Z"
   },
   {
    "duration": 13,
    "start_time": "2022-11-30T09:00:14.346Z"
   },
   {
    "duration": 145,
    "start_time": "2022-11-30T09:00:14.361Z"
   },
   {
    "duration": 8,
    "start_time": "2022-11-30T09:00:14.507Z"
   },
   {
    "duration": 154,
    "start_time": "2022-11-30T09:00:14.517Z"
   },
   {
    "duration": 533,
    "start_time": "2022-11-30T09:00:14.673Z"
   },
   {
    "duration": 17,
    "start_time": "2022-11-30T09:00:15.208Z"
   },
   {
    "duration": 11,
    "start_time": "2022-11-30T09:00:15.226Z"
   },
   {
    "duration": 395,
    "start_time": "2022-11-30T11:03:27.966Z"
   },
   {
    "duration": 4122,
    "start_time": "2022-11-30T11:04:13.145Z"
   },
   {
    "duration": 1155,
    "start_time": "2022-11-30T11:08:56.173Z"
   },
   {
    "duration": 814,
    "start_time": "2022-11-30T11:09:38.027Z"
   },
   {
    "duration": 845,
    "start_time": "2022-11-30T11:10:14.927Z"
   },
   {
    "duration": 902,
    "start_time": "2022-11-30T11:10:41.956Z"
   },
   {
    "duration": 77,
    "start_time": "2022-11-30T11:11:03.408Z"
   },
   {
    "duration": 36,
    "start_time": "2022-11-30T11:13:57.797Z"
   },
   {
    "duration": 154,
    "start_time": "2022-11-30T11:14:18.456Z"
   },
   {
    "duration": 5688,
    "start_time": "2022-11-30T11:14:43.713Z"
   },
   {
    "duration": 14,
    "start_time": "2022-11-30T11:15:00.906Z"
   },
   {
    "duration": 7,
    "start_time": "2022-11-30T12:27:24.790Z"
   },
   {
    "duration": 11,
    "start_time": "2022-11-30T12:27:45.519Z"
   },
   {
    "duration": 14,
    "start_time": "2022-11-30T12:29:00.447Z"
   },
   {
    "duration": 45,
    "start_time": "2022-11-30T12:29:12.707Z"
   },
   {
    "duration": 11,
    "start_time": "2022-11-30T12:29:35.987Z"
   },
   {
    "duration": 9,
    "start_time": "2022-11-30T12:29:58.642Z"
   },
   {
    "duration": 13,
    "start_time": "2022-11-30T12:30:18.946Z"
   },
   {
    "duration": 12,
    "start_time": "2022-11-30T12:31:13.014Z"
   },
   {
    "duration": 14,
    "start_time": "2022-11-30T12:32:59.466Z"
   },
   {
    "duration": 14,
    "start_time": "2022-11-30T12:34:19.428Z"
   },
   {
    "duration": 69,
    "start_time": "2022-11-30T12:34:37.584Z"
   },
   {
    "duration": 43,
    "start_time": "2022-11-30T12:35:05.192Z"
   },
   {
    "duration": 58,
    "start_time": "2022-11-30T12:35:42.474Z"
   },
   {
    "duration": 22,
    "start_time": "2022-11-30T12:36:38.662Z"
   },
   {
    "duration": 23,
    "start_time": "2022-11-30T12:36:57.166Z"
   },
   {
    "duration": 1654,
    "start_time": "2022-11-30T12:37:28.551Z"
   },
   {
    "duration": 20,
    "start_time": "2022-11-30T12:38:14.506Z"
   },
   {
    "duration": 26,
    "start_time": "2022-11-30T12:38:31.733Z"
   },
   {
    "duration": 1670,
    "start_time": "2022-11-30T12:38:53.424Z"
   },
   {
    "duration": 35,
    "start_time": "2022-11-30T12:45:37.527Z"
   },
   {
    "duration": 1865,
    "start_time": "2022-11-30T12:45:55.965Z"
   },
   {
    "duration": 1774,
    "start_time": "2022-11-30T12:46:37.940Z"
   },
   {
    "duration": 1793,
    "start_time": "2022-11-30T12:47:16.495Z"
   },
   {
    "duration": 117,
    "start_time": "2022-11-30T12:48:12.661Z"
   },
   {
    "duration": 15,
    "start_time": "2022-11-30T12:48:12.780Z"
   },
   {
    "duration": 5,
    "start_time": "2022-11-30T12:48:12.796Z"
   },
   {
    "duration": 20,
    "start_time": "2022-11-30T12:48:12.803Z"
   },
   {
    "duration": 5,
    "start_time": "2022-11-30T12:48:12.825Z"
   },
   {
    "duration": 16,
    "start_time": "2022-11-30T12:48:12.832Z"
   },
   {
    "duration": 24,
    "start_time": "2022-11-30T12:48:12.850Z"
   },
   {
    "duration": 13,
    "start_time": "2022-11-30T12:48:12.877Z"
   },
   {
    "duration": 16,
    "start_time": "2022-11-30T12:48:12.905Z"
   },
   {
    "duration": 32,
    "start_time": "2022-11-30T12:48:12.923Z"
   },
   {
    "duration": 17,
    "start_time": "2022-11-30T12:48:12.957Z"
   },
   {
    "duration": 14,
    "start_time": "2022-11-30T12:48:12.976Z"
   },
   {
    "duration": 17,
    "start_time": "2022-11-30T12:48:12.992Z"
   },
   {
    "duration": 20,
    "start_time": "2022-11-30T12:48:13.011Z"
   },
   {
    "duration": 13,
    "start_time": "2022-11-30T12:48:13.032Z"
   },
   {
    "duration": 14,
    "start_time": "2022-11-30T12:48:13.047Z"
   },
   {
    "duration": 184,
    "start_time": "2022-11-30T12:48:13.065Z"
   },
   {
    "duration": 159,
    "start_time": "2022-11-30T12:48:13.251Z"
   },
   {
    "duration": 1671,
    "start_time": "2022-11-30T12:48:13.746Z"
   },
   {
    "duration": 8,
    "start_time": "2022-11-30T12:48:15.419Z"
   },
   {
    "duration": 0,
    "start_time": "2022-11-30T12:48:15.429Z"
   },
   {
    "duration": 0,
    "start_time": "2022-11-30T12:48:15.430Z"
   },
   {
    "duration": 0,
    "start_time": "2022-11-30T12:48:15.431Z"
   },
   {
    "duration": 0,
    "start_time": "2022-11-30T12:48:15.432Z"
   },
   {
    "duration": 0,
    "start_time": "2022-11-30T12:48:15.433Z"
   },
   {
    "duration": 0,
    "start_time": "2022-11-30T12:48:15.434Z"
   },
   {
    "duration": 0,
    "start_time": "2022-11-30T12:48:15.435Z"
   },
   {
    "duration": 0,
    "start_time": "2022-11-30T12:48:15.436Z"
   },
   {
    "duration": 0,
    "start_time": "2022-11-30T12:48:15.437Z"
   },
   {
    "duration": 0,
    "start_time": "2022-11-30T12:48:15.438Z"
   },
   {
    "duration": 0,
    "start_time": "2022-11-30T12:48:15.439Z"
   },
   {
    "duration": 214,
    "start_time": "2022-11-30T12:49:13.838Z"
   },
   {
    "duration": 204,
    "start_time": "2022-11-30T12:49:33.535Z"
   },
   {
    "duration": 193,
    "start_time": "2022-11-30T12:50:16.219Z"
   },
   {
    "duration": 1588,
    "start_time": "2022-11-30T12:50:45.764Z"
   },
   {
    "duration": 216,
    "start_time": "2022-11-30T12:52:10.869Z"
   },
   {
    "duration": 19,
    "start_time": "2022-11-30T12:53:00.494Z"
   },
   {
    "duration": 8,
    "start_time": "2022-11-30T12:56:09.375Z"
   },
   {
    "duration": 18,
    "start_time": "2022-11-30T12:56:19.891Z"
   },
   {
    "duration": 17,
    "start_time": "2022-11-30T12:56:43.109Z"
   },
   {
    "duration": 17,
    "start_time": "2022-11-30T12:58:37.882Z"
   },
   {
    "duration": 86,
    "start_time": "2022-11-30T12:59:06.449Z"
   },
   {
    "duration": 15,
    "start_time": "2022-11-30T12:59:13.644Z"
   },
   {
    "duration": 15,
    "start_time": "2022-11-30T12:59:34.605Z"
   },
   {
    "duration": 16,
    "start_time": "2022-11-30T12:59:53.770Z"
   },
   {
    "duration": 140,
    "start_time": "2022-11-30T13:00:12.344Z"
   },
   {
    "duration": 16,
    "start_time": "2022-11-30T13:00:12.486Z"
   },
   {
    "duration": 9,
    "start_time": "2022-11-30T13:00:12.504Z"
   },
   {
    "duration": 14,
    "start_time": "2022-11-30T13:00:12.516Z"
   },
   {
    "duration": 4,
    "start_time": "2022-11-30T13:00:12.532Z"
   },
   {
    "duration": 12,
    "start_time": "2022-11-30T13:00:12.538Z"
   },
   {
    "duration": 17,
    "start_time": "2022-11-30T13:00:12.552Z"
   },
   {
    "duration": 37,
    "start_time": "2022-11-30T13:00:12.571Z"
   },
   {
    "duration": 17,
    "start_time": "2022-11-30T13:00:12.609Z"
   },
   {
    "duration": 9,
    "start_time": "2022-11-30T13:00:12.629Z"
   },
   {
    "duration": 15,
    "start_time": "2022-11-30T13:00:12.640Z"
   },
   {
    "duration": 16,
    "start_time": "2022-11-30T13:00:12.656Z"
   },
   {
    "duration": 31,
    "start_time": "2022-11-30T13:00:12.674Z"
   },
   {
    "duration": 18,
    "start_time": "2022-11-30T13:00:12.707Z"
   },
   {
    "duration": 12,
    "start_time": "2022-11-30T13:00:12.727Z"
   },
   {
    "duration": 14,
    "start_time": "2022-11-30T13:00:12.741Z"
   },
   {
    "duration": 183,
    "start_time": "2022-11-30T13:00:12.756Z"
   },
   {
    "duration": 154,
    "start_time": "2022-11-30T13:00:12.940Z"
   },
   {
    "duration": 1579,
    "start_time": "2022-11-30T13:00:13.185Z"
   },
   {
    "duration": 40,
    "start_time": "2022-11-30T13:00:14.765Z"
   },
   {
    "duration": 16,
    "start_time": "2022-11-30T13:00:14.807Z"
   },
   {
    "duration": 9,
    "start_time": "2022-11-30T13:00:14.825Z"
   },
   {
    "duration": 182,
    "start_time": "2022-11-30T13:00:14.835Z"
   },
   {
    "duration": 9,
    "start_time": "2022-11-30T13:00:15.019Z"
   },
   {
    "duration": 164,
    "start_time": "2022-11-30T13:00:15.029Z"
   },
   {
    "duration": 10,
    "start_time": "2022-11-30T13:00:15.194Z"
   },
   {
    "duration": 16,
    "start_time": "2022-11-30T13:00:15.205Z"
   },
   {
    "duration": 39,
    "start_time": "2022-11-30T13:00:15.223Z"
   },
   {
    "duration": 4476,
    "start_time": "2022-11-30T13:00:15.263Z"
   },
   {
    "duration": 17,
    "start_time": "2022-11-30T13:00:19.740Z"
   },
   {
    "duration": 0,
    "start_time": "2022-11-30T13:00:19.758Z"
   },
   {
    "duration": 0,
    "start_time": "2022-11-30T13:00:19.759Z"
   },
   {
    "duration": 15,
    "start_time": "2022-11-30T13:04:47.886Z"
   },
   {
    "duration": 43,
    "start_time": "2022-12-01T06:49:45.517Z"
   },
   {
    "duration": 0,
    "start_time": "2022-12-01T06:49:45.562Z"
   },
   {
    "duration": 0,
    "start_time": "2022-12-01T06:49:45.563Z"
   },
   {
    "duration": 13,
    "start_time": "2022-12-01T06:49:45.570Z"
   },
   {
    "duration": 5,
    "start_time": "2022-12-01T06:49:45.584Z"
   },
   {
    "duration": 8,
    "start_time": "2022-12-01T06:49:45.591Z"
   },
   {
    "duration": 425,
    "start_time": "2022-12-01T06:49:45.601Z"
   },
   {
    "duration": 0,
    "start_time": "2022-12-01T06:49:46.028Z"
   },
   {
    "duration": 0,
    "start_time": "2022-12-01T06:49:46.029Z"
   },
   {
    "duration": 0,
    "start_time": "2022-12-01T06:49:46.030Z"
   },
   {
    "duration": 0,
    "start_time": "2022-12-01T06:49:46.031Z"
   },
   {
    "duration": 0,
    "start_time": "2022-12-01T06:49:46.033Z"
   },
   {
    "duration": 0,
    "start_time": "2022-12-01T06:49:46.034Z"
   },
   {
    "duration": 0,
    "start_time": "2022-12-01T06:49:46.035Z"
   },
   {
    "duration": 0,
    "start_time": "2022-12-01T06:49:46.037Z"
   },
   {
    "duration": 0,
    "start_time": "2022-12-01T06:49:46.037Z"
   },
   {
    "duration": 0,
    "start_time": "2022-12-01T06:49:46.039Z"
   },
   {
    "duration": 0,
    "start_time": "2022-12-01T06:49:46.040Z"
   },
   {
    "duration": 0,
    "start_time": "2022-12-01T06:49:46.041Z"
   },
   {
    "duration": 0,
    "start_time": "2022-12-01T06:49:46.043Z"
   },
   {
    "duration": 0,
    "start_time": "2022-12-01T06:49:46.044Z"
   },
   {
    "duration": 0,
    "start_time": "2022-12-01T06:49:46.045Z"
   },
   {
    "duration": 0,
    "start_time": "2022-12-01T06:49:46.046Z"
   },
   {
    "duration": 0,
    "start_time": "2022-12-01T06:49:46.047Z"
   },
   {
    "duration": 0,
    "start_time": "2022-12-01T06:49:46.048Z"
   },
   {
    "duration": 0,
    "start_time": "2022-12-01T06:49:46.049Z"
   },
   {
    "duration": 0,
    "start_time": "2022-12-01T06:49:46.050Z"
   },
   {
    "duration": 0,
    "start_time": "2022-12-01T06:49:46.050Z"
   },
   {
    "duration": 0,
    "start_time": "2022-12-01T06:49:46.052Z"
   },
   {
    "duration": 0,
    "start_time": "2022-12-01T06:49:46.052Z"
   },
   {
    "duration": 0,
    "start_time": "2022-12-01T06:49:46.053Z"
   },
   {
    "duration": 0,
    "start_time": "2022-12-01T06:49:46.054Z"
   },
   {
    "duration": 195,
    "start_time": "2022-12-01T06:50:27.071Z"
   },
   {
    "duration": 16,
    "start_time": "2022-12-01T06:50:27.268Z"
   },
   {
    "duration": 8,
    "start_time": "2022-12-01T06:50:27.285Z"
   },
   {
    "duration": 18,
    "start_time": "2022-12-01T06:50:27.295Z"
   },
   {
    "duration": 3,
    "start_time": "2022-12-01T06:50:27.315Z"
   },
   {
    "duration": 18,
    "start_time": "2022-12-01T06:50:27.321Z"
   },
   {
    "duration": 33,
    "start_time": "2022-12-01T06:50:27.340Z"
   },
   {
    "duration": 7,
    "start_time": "2022-12-01T06:50:27.375Z"
   },
   {
    "duration": 18,
    "start_time": "2022-12-01T06:50:27.383Z"
   },
   {
    "duration": 16,
    "start_time": "2022-12-01T06:50:27.404Z"
   },
   {
    "duration": 11,
    "start_time": "2022-12-01T06:50:27.421Z"
   },
   {
    "duration": 11,
    "start_time": "2022-12-01T06:50:27.433Z"
   },
   {
    "duration": 0,
    "start_time": "2022-12-01T06:50:27.445Z"
   },
   {
    "duration": 0,
    "start_time": "2022-12-01T06:50:27.446Z"
   },
   {
    "duration": 0,
    "start_time": "2022-12-01T06:50:27.447Z"
   },
   {
    "duration": 0,
    "start_time": "2022-12-01T06:50:27.448Z"
   },
   {
    "duration": 0,
    "start_time": "2022-12-01T06:50:27.449Z"
   },
   {
    "duration": 0,
    "start_time": "2022-12-01T06:50:27.450Z"
   },
   {
    "duration": 0,
    "start_time": "2022-12-01T06:50:27.451Z"
   },
   {
    "duration": 0,
    "start_time": "2022-12-01T06:50:27.451Z"
   },
   {
    "duration": 0,
    "start_time": "2022-12-01T06:50:27.452Z"
   },
   {
    "duration": 0,
    "start_time": "2022-12-01T06:50:27.453Z"
   },
   {
    "duration": 0,
    "start_time": "2022-12-01T06:50:27.455Z"
   },
   {
    "duration": 0,
    "start_time": "2022-12-01T06:50:27.456Z"
   },
   {
    "duration": 0,
    "start_time": "2022-12-01T06:50:27.457Z"
   },
   {
    "duration": 0,
    "start_time": "2022-12-01T06:50:27.458Z"
   },
   {
    "duration": 0,
    "start_time": "2022-12-01T06:50:27.459Z"
   },
   {
    "duration": 0,
    "start_time": "2022-12-01T06:50:27.459Z"
   },
   {
    "duration": 0,
    "start_time": "2022-12-01T06:50:27.460Z"
   },
   {
    "duration": 0,
    "start_time": "2022-12-01T06:50:27.462Z"
   },
   {
    "duration": 0,
    "start_time": "2022-12-01T06:50:27.463Z"
   },
   {
    "duration": 0,
    "start_time": "2022-12-01T06:50:27.464Z"
   },
   {
    "duration": 10,
    "start_time": "2022-12-01T06:50:42.552Z"
   },
   {
    "duration": 7,
    "start_time": "2022-12-01T06:50:52.025Z"
   },
   {
    "duration": 17,
    "start_time": "2022-12-01T06:50:52.046Z"
   },
   {
    "duration": 12,
    "start_time": "2022-12-01T06:50:52.065Z"
   },
   {
    "duration": 25,
    "start_time": "2022-12-01T06:50:52.079Z"
   },
   {
    "duration": 189,
    "start_time": "2022-12-01T06:50:52.106Z"
   },
   {
    "duration": 156,
    "start_time": "2022-12-01T06:50:52.296Z"
   },
   {
    "duration": 1727,
    "start_time": "2022-12-01T06:50:52.453Z"
   },
   {
    "duration": 15,
    "start_time": "2022-12-01T06:50:54.222Z"
   },
   {
    "duration": 15,
    "start_time": "2022-12-01T06:50:54.238Z"
   },
   {
    "duration": 6,
    "start_time": "2022-12-01T06:50:54.255Z"
   },
   {
    "duration": 289,
    "start_time": "2022-12-01T06:50:54.262Z"
   },
   {
    "duration": 7,
    "start_time": "2022-12-01T06:50:54.552Z"
   },
   {
    "duration": 288,
    "start_time": "2022-12-01T06:50:54.561Z"
   },
   {
    "duration": 2,
    "start_time": "2022-12-01T06:50:54.850Z"
   },
   {
    "duration": 17,
    "start_time": "2022-12-01T06:50:54.854Z"
   },
   {
    "duration": 49,
    "start_time": "2022-12-01T06:50:54.872Z"
   },
   {
    "duration": 4612,
    "start_time": "2022-12-01T06:50:54.923Z"
   },
   {
    "duration": 19,
    "start_time": "2022-12-01T06:50:59.536Z"
   },
   {
    "duration": 0,
    "start_time": "2022-12-01T06:50:59.556Z"
   },
   {
    "duration": 0,
    "start_time": "2022-12-01T06:50:59.558Z"
   },
   {
    "duration": 402,
    "start_time": "2022-12-01T06:51:59.582Z"
   },
   {
    "duration": 161,
    "start_time": "2022-12-01T06:52:08.264Z"
   },
   {
    "duration": 114,
    "start_time": "2022-12-01T07:11:34.612Z"
   },
   {
    "duration": 105,
    "start_time": "2022-12-01T07:11:40.962Z"
   },
   {
    "duration": 12,
    "start_time": "2022-12-01T07:12:27.702Z"
   },
   {
    "duration": 13,
    "start_time": "2022-12-01T07:12:31.206Z"
   },
   {
    "duration": 13,
    "start_time": "2022-12-01T07:12:39.187Z"
   },
   {
    "duration": 11,
    "start_time": "2022-12-01T07:13:24.834Z"
   },
   {
    "duration": 177,
    "start_time": "2022-12-01T07:16:06.554Z"
   },
   {
    "duration": 16,
    "start_time": "2022-12-01T07:16:06.732Z"
   },
   {
    "duration": 14,
    "start_time": "2022-12-01T07:16:06.749Z"
   },
   {
    "duration": 14,
    "start_time": "2022-12-01T07:16:06.765Z"
   },
   {
    "duration": 3,
    "start_time": "2022-12-01T07:16:06.781Z"
   },
   {
    "duration": 11,
    "start_time": "2022-12-01T07:16:06.785Z"
   },
   {
    "duration": 36,
    "start_time": "2022-12-01T07:16:06.798Z"
   },
   {
    "duration": 10,
    "start_time": "2022-12-01T07:16:06.835Z"
   },
   {
    "duration": 39,
    "start_time": "2022-12-01T07:16:06.847Z"
   },
   {
    "duration": 9,
    "start_time": "2022-12-01T07:16:06.889Z"
   },
   {
    "duration": 25,
    "start_time": "2022-12-01T07:16:06.900Z"
   },
   {
    "duration": 27,
    "start_time": "2022-12-01T07:16:06.927Z"
   },
   {
    "duration": 21,
    "start_time": "2022-12-01T07:16:06.955Z"
   },
   {
    "duration": 131,
    "start_time": "2022-12-01T07:16:06.977Z"
   },
   {
    "duration": 14,
    "start_time": "2022-12-01T07:16:07.110Z"
   },
   {
    "duration": 0,
    "start_time": "2022-12-01T07:16:07.125Z"
   },
   {
    "duration": 0,
    "start_time": "2022-12-01T07:16:07.126Z"
   },
   {
    "duration": 0,
    "start_time": "2022-12-01T07:16:07.127Z"
   },
   {
    "duration": 0,
    "start_time": "2022-12-01T07:16:07.128Z"
   },
   {
    "duration": 0,
    "start_time": "2022-12-01T07:16:07.130Z"
   },
   {
    "duration": 0,
    "start_time": "2022-12-01T07:16:07.131Z"
   },
   {
    "duration": 0,
    "start_time": "2022-12-01T07:16:07.132Z"
   },
   {
    "duration": 0,
    "start_time": "2022-12-01T07:16:07.133Z"
   },
   {
    "duration": 0,
    "start_time": "2022-12-01T07:16:07.134Z"
   },
   {
    "duration": 0,
    "start_time": "2022-12-01T07:16:07.135Z"
   },
   {
    "duration": 0,
    "start_time": "2022-12-01T07:16:07.136Z"
   },
   {
    "duration": 0,
    "start_time": "2022-12-01T07:16:07.137Z"
   },
   {
    "duration": 0,
    "start_time": "2022-12-01T07:16:07.138Z"
   },
   {
    "duration": 0,
    "start_time": "2022-12-01T07:16:07.139Z"
   },
   {
    "duration": 0,
    "start_time": "2022-12-01T07:16:07.141Z"
   },
   {
    "duration": 0,
    "start_time": "2022-12-01T07:16:07.142Z"
   },
   {
    "duration": 0,
    "start_time": "2022-12-01T07:16:07.143Z"
   },
   {
    "duration": 9,
    "start_time": "2022-12-01T07:17:06.106Z"
   },
   {
    "duration": 118,
    "start_time": "2022-12-01T07:18:12.044Z"
   },
   {
    "duration": 111,
    "start_time": "2022-12-01T07:18:30.110Z"
   },
   {
    "duration": 147,
    "start_time": "2022-12-01T07:21:28.165Z"
   },
   {
    "duration": 16,
    "start_time": "2022-12-01T07:21:28.313Z"
   },
   {
    "duration": 9,
    "start_time": "2022-12-01T07:21:28.330Z"
   },
   {
    "duration": 15,
    "start_time": "2022-12-01T07:21:28.341Z"
   },
   {
    "duration": 10,
    "start_time": "2022-12-01T07:21:28.357Z"
   },
   {
    "duration": 11,
    "start_time": "2022-12-01T07:21:28.368Z"
   },
   {
    "duration": 26,
    "start_time": "2022-12-01T07:21:28.381Z"
   },
   {
    "duration": 5,
    "start_time": "2022-12-01T07:21:28.409Z"
   },
   {
    "duration": 24,
    "start_time": "2022-12-01T07:21:28.415Z"
   },
   {
    "duration": 9,
    "start_time": "2022-12-01T07:21:28.441Z"
   },
   {
    "duration": 13,
    "start_time": "2022-12-01T07:21:28.452Z"
   },
   {
    "duration": 17,
    "start_time": "2022-12-01T07:21:28.466Z"
   },
   {
    "duration": 22,
    "start_time": "2022-12-01T07:21:28.484Z"
   },
   {
    "duration": 144,
    "start_time": "2022-12-01T07:21:28.508Z"
   },
   {
    "duration": 117,
    "start_time": "2022-12-01T07:21:28.654Z"
   },
   {
    "duration": 14,
    "start_time": "2022-12-01T07:21:28.773Z"
   },
   {
    "duration": 8,
    "start_time": "2022-12-01T07:21:28.789Z"
   },
   {
    "duration": 185,
    "start_time": "2022-12-01T07:21:28.799Z"
   },
   {
    "duration": 160,
    "start_time": "2022-12-01T07:21:28.985Z"
   },
   {
    "duration": 1741,
    "start_time": "2022-12-01T07:21:29.147Z"
   },
   {
    "duration": 36,
    "start_time": "2022-12-01T07:21:30.891Z"
   },
   {
    "duration": 16,
    "start_time": "2022-12-01T07:21:30.928Z"
   },
   {
    "duration": 290,
    "start_time": "2022-12-01T07:21:30.945Z"
   },
   {
    "duration": 7,
    "start_time": "2022-12-01T07:21:31.237Z"
   },
   {
    "duration": 298,
    "start_time": "2022-12-01T07:21:31.245Z"
   },
   {
    "duration": 3,
    "start_time": "2022-12-01T07:21:31.545Z"
   },
   {
    "duration": 2,
    "start_time": "2022-12-01T07:21:31.550Z"
   },
   {
    "duration": 66,
    "start_time": "2022-12-01T07:21:31.556Z"
   },
   {
    "duration": 4706,
    "start_time": "2022-12-01T07:21:31.624Z"
   },
   {
    "duration": 17,
    "start_time": "2022-12-01T07:21:36.332Z"
   },
   {
    "duration": 0,
    "start_time": "2022-12-01T07:21:36.350Z"
   },
   {
    "duration": 0,
    "start_time": "2022-12-01T07:21:36.352Z"
   },
   {
    "duration": 9,
    "start_time": "2022-12-01T07:27:16.648Z"
   },
   {
    "duration": 84,
    "start_time": "2022-12-01T07:27:32.888Z"
   },
   {
    "duration": 7,
    "start_time": "2022-12-01T07:27:39.783Z"
   },
   {
    "duration": 15,
    "start_time": "2022-12-01T07:31:52.941Z"
   },
   {
    "duration": 10,
    "start_time": "2022-12-01T07:31:55.204Z"
   },
   {
    "duration": 17,
    "start_time": "2022-12-01T07:32:07.252Z"
   },
   {
    "duration": 16,
    "start_time": "2022-12-01T07:34:35.775Z"
   },
   {
    "duration": 1241,
    "start_time": "2022-12-01T07:39:36.276Z"
   },
   {
    "duration": 20,
    "start_time": "2022-12-01T07:39:37.519Z"
   },
   {
    "duration": 4,
    "start_time": "2022-12-01T07:39:37.540Z"
   },
   {
    "duration": 18,
    "start_time": "2022-12-01T07:39:37.546Z"
   },
   {
    "duration": 3,
    "start_time": "2022-12-01T07:39:37.566Z"
   },
   {
    "duration": 15,
    "start_time": "2022-12-01T07:39:37.571Z"
   },
   {
    "duration": 39,
    "start_time": "2022-12-01T07:39:37.588Z"
   },
   {
    "duration": 5,
    "start_time": "2022-12-01T07:39:37.629Z"
   },
   {
    "duration": 22,
    "start_time": "2022-12-01T07:39:37.635Z"
   },
   {
    "duration": 15,
    "start_time": "2022-12-01T07:39:37.660Z"
   },
   {
    "duration": 30,
    "start_time": "2022-12-01T07:39:37.676Z"
   },
   {
    "duration": 11,
    "start_time": "2022-12-01T07:39:37.708Z"
   },
   {
    "duration": 25,
    "start_time": "2022-12-01T07:39:37.720Z"
   },
   {
    "duration": 148,
    "start_time": "2022-12-01T07:39:37.747Z"
   },
   {
    "duration": 105,
    "start_time": "2022-12-01T07:39:37.896Z"
   },
   {
    "duration": 23,
    "start_time": "2022-12-01T07:39:38.003Z"
   },
   {
    "duration": 15,
    "start_time": "2022-12-01T07:39:38.027Z"
   },
   {
    "duration": 172,
    "start_time": "2022-12-01T07:39:38.044Z"
   },
   {
    "duration": 176,
    "start_time": "2022-12-01T07:39:38.218Z"
   },
   {
    "duration": 3605,
    "start_time": "2022-12-01T07:39:38.395Z"
   },
   {
    "duration": 15,
    "start_time": "2022-12-01T07:39:42.001Z"
   },
   {
    "duration": 39,
    "start_time": "2022-12-01T07:39:42.018Z"
   },
   {
    "duration": 173,
    "start_time": "2022-12-01T07:39:42.059Z"
   },
   {
    "duration": 9,
    "start_time": "2022-12-01T07:39:42.234Z"
   },
   {
    "duration": 152,
    "start_time": "2022-12-01T07:39:42.244Z"
   },
   {
    "duration": 2,
    "start_time": "2022-12-01T07:39:42.398Z"
   },
   {
    "duration": 11,
    "start_time": "2022-12-01T07:39:42.402Z"
   },
   {
    "duration": 2,
    "start_time": "2022-12-01T07:39:42.420Z"
   },
   {
    "duration": 4532,
    "start_time": "2022-12-01T07:39:42.424Z"
   },
   {
    "duration": 111,
    "start_time": "2022-12-01T07:39:46.957Z"
   },
   {
    "duration": 0,
    "start_time": "2022-12-01T07:39:47.070Z"
   },
   {
    "duration": 0,
    "start_time": "2022-12-01T07:39:47.072Z"
   },
   {
    "duration": 107158,
    "start_time": "2022-12-01T07:44:03.279Z"
   },
   {
    "duration": 108683,
    "start_time": "2022-12-01T07:46:09.555Z"
   },
   {
    "duration": 1333,
    "start_time": "2022-12-01T07:53:20.191Z"
   },
   {
    "duration": 21,
    "start_time": "2022-12-01T07:53:21.526Z"
   },
   {
    "duration": 5,
    "start_time": "2022-12-01T07:53:21.549Z"
   },
   {
    "duration": 26,
    "start_time": "2022-12-01T07:53:21.556Z"
   },
   {
    "duration": 4,
    "start_time": "2022-12-01T07:53:21.584Z"
   },
   {
    "duration": 21,
    "start_time": "2022-12-01T07:53:21.590Z"
   },
   {
    "duration": 26,
    "start_time": "2022-12-01T07:53:21.612Z"
   },
   {
    "duration": 5,
    "start_time": "2022-12-01T07:53:21.640Z"
   },
   {
    "duration": 19,
    "start_time": "2022-12-01T07:53:21.647Z"
   },
   {
    "duration": 9,
    "start_time": "2022-12-01T07:53:21.667Z"
   },
   {
    "duration": 17,
    "start_time": "2022-12-01T07:53:21.677Z"
   },
   {
    "duration": 12,
    "start_time": "2022-12-01T07:53:21.696Z"
   },
   {
    "duration": 32,
    "start_time": "2022-12-01T07:53:21.709Z"
   },
   {
    "duration": 159,
    "start_time": "2022-12-01T07:53:21.744Z"
   },
   {
    "duration": 117,
    "start_time": "2022-12-01T07:53:21.905Z"
   },
   {
    "duration": 14,
    "start_time": "2022-12-01T07:53:22.024Z"
   },
   {
    "duration": 14,
    "start_time": "2022-12-01T07:53:22.039Z"
   },
   {
    "duration": 172,
    "start_time": "2022-12-01T07:53:22.054Z"
   },
   {
    "duration": 159,
    "start_time": "2022-12-01T07:53:22.228Z"
   },
   {
    "duration": 2976,
    "start_time": "2022-12-01T07:53:22.388Z"
   },
   {
    "duration": 1066,
    "start_time": "2022-12-01T07:53:25.367Z"
   },
   {
    "duration": 14,
    "start_time": "2022-12-01T07:53:26.434Z"
   },
   {
    "duration": 44,
    "start_time": "2022-12-01T07:53:26.450Z"
   },
   {
    "duration": 128,
    "start_time": "2022-12-01T07:53:26.496Z"
   },
   {
    "duration": 7,
    "start_time": "2022-12-01T07:53:26.625Z"
   },
   {
    "duration": 147,
    "start_time": "2022-12-01T07:53:26.633Z"
   },
   {
    "duration": 3,
    "start_time": "2022-12-01T07:53:26.781Z"
   },
   {
    "duration": 11,
    "start_time": "2022-12-01T07:53:26.785Z"
   },
   {
    "duration": 28,
    "start_time": "2022-12-01T07:53:26.798Z"
   },
   {
    "duration": 4340,
    "start_time": "2022-12-01T07:53:26.827Z"
   },
   {
    "duration": 107,
    "start_time": "2022-12-01T07:53:31.169Z"
   },
   {
    "duration": 0,
    "start_time": "2022-12-01T07:53:31.278Z"
   },
   {
    "duration": 0,
    "start_time": "2022-12-01T07:53:31.279Z"
   },
   {
    "duration": 319,
    "start_time": "2022-12-01T07:59:53.212Z"
   },
   {
    "duration": 312,
    "start_time": "2022-12-01T08:04:07.474Z"
   },
   {
    "duration": 25,
    "start_time": "2022-12-01T08:14:15.931Z"
   },
   {
    "duration": 74,
    "start_time": "2022-12-01T08:14:26.548Z"
   },
   {
    "duration": 29,
    "start_time": "2022-12-01T08:14:55.614Z"
   },
   {
    "duration": 25,
    "start_time": "2022-12-01T08:18:23.451Z"
   },
   {
    "duration": 30,
    "start_time": "2022-12-01T08:18:52.904Z"
   },
   {
    "duration": 24,
    "start_time": "2022-12-01T08:19:12.060Z"
   },
   {
    "duration": 9,
    "start_time": "2022-12-01T08:19:40.670Z"
   },
   {
    "duration": 19,
    "start_time": "2022-12-01T08:20:08.382Z"
   },
   {
    "duration": 2,
    "start_time": "2022-12-01T08:24:29.025Z"
   },
   {
    "duration": 13,
    "start_time": "2022-12-01T08:29:10.560Z"
   },
   {
    "duration": 49,
    "start_time": "2022-12-01T08:31:12.900Z"
   },
   {
    "duration": 175,
    "start_time": "2022-12-01T08:34:22.868Z"
   },
   {
    "duration": 23,
    "start_time": "2022-12-01T08:35:01.034Z"
   },
   {
    "duration": 188,
    "start_time": "2022-12-01T08:35:07.462Z"
   },
   {
    "duration": 122,
    "start_time": "2022-12-01T08:36:13.979Z"
   },
   {
    "duration": 124,
    "start_time": "2022-12-01T08:36:38.893Z"
   },
   {
    "duration": 15,
    "start_time": "2022-12-01T08:41:54.410Z"
   },
   {
    "duration": 12,
    "start_time": "2022-12-01T08:42:28.276Z"
   },
   {
    "duration": 11,
    "start_time": "2022-12-01T08:43:15.616Z"
   },
   {
    "duration": 8,
    "start_time": "2022-12-01T08:44:26.379Z"
   },
   {
    "duration": 250,
    "start_time": "2022-12-01T08:44:27.580Z"
   },
   {
    "duration": 195,
    "start_time": "2022-12-01T08:45:00.066Z"
   },
   {
    "duration": 19,
    "start_time": "2022-12-01T08:45:00.263Z"
   },
   {
    "duration": 141,
    "start_time": "2022-12-01T08:45:00.286Z"
   },
   {
    "duration": 70,
    "start_time": "2022-12-01T08:45:00.429Z"
   },
   {
    "duration": 56,
    "start_time": "2022-12-01T08:45:00.501Z"
   },
   {
    "duration": 121,
    "start_time": "2022-12-01T08:45:00.559Z"
   },
   {
    "duration": 126,
    "start_time": "2022-12-01T08:45:00.682Z"
   },
   {
    "duration": 108,
    "start_time": "2022-12-01T08:45:00.809Z"
   },
   {
    "duration": 85,
    "start_time": "2022-12-01T08:45:00.919Z"
   },
   {
    "duration": 13,
    "start_time": "2022-12-01T08:45:01.314Z"
   },
   {
    "duration": 70,
    "start_time": "2022-12-01T08:45:01.329Z"
   },
   {
    "duration": 35,
    "start_time": "2022-12-01T08:45:01.402Z"
   },
   {
    "duration": 29,
    "start_time": "2022-12-01T08:45:01.439Z"
   },
   {
    "duration": 194,
    "start_time": "2022-12-01T08:45:01.470Z"
   },
   {
    "duration": 117,
    "start_time": "2022-12-01T08:45:01.666Z"
   },
   {
    "duration": 44,
    "start_time": "2022-12-01T08:45:01.784Z"
   },
   {
    "duration": 75,
    "start_time": "2022-12-01T08:45:01.829Z"
   },
   {
    "duration": 225,
    "start_time": "2022-12-01T08:45:01.906Z"
   },
   {
    "duration": 0,
    "start_time": "2022-12-01T08:45:02.133Z"
   },
   {
    "duration": 0,
    "start_time": "2022-12-01T08:45:02.134Z"
   },
   {
    "duration": 0,
    "start_time": "2022-12-01T08:45:02.136Z"
   },
   {
    "duration": 0,
    "start_time": "2022-12-01T08:45:02.136Z"
   },
   {
    "duration": 0,
    "start_time": "2022-12-01T08:45:02.138Z"
   },
   {
    "duration": 0,
    "start_time": "2022-12-01T08:45:02.139Z"
   },
   {
    "duration": 0,
    "start_time": "2022-12-01T08:45:02.139Z"
   },
   {
    "duration": 0,
    "start_time": "2022-12-01T08:45:02.141Z"
   },
   {
    "duration": 0,
    "start_time": "2022-12-01T08:45:02.143Z"
   },
   {
    "duration": 1,
    "start_time": "2022-12-01T08:45:02.144Z"
   },
   {
    "duration": 0,
    "start_time": "2022-12-01T08:45:02.145Z"
   },
   {
    "duration": 0,
    "start_time": "2022-12-01T08:45:02.147Z"
   },
   {
    "duration": 0,
    "start_time": "2022-12-01T08:45:02.149Z"
   },
   {
    "duration": 0,
    "start_time": "2022-12-01T08:45:02.150Z"
   },
   {
    "duration": 0,
    "start_time": "2022-12-01T08:45:02.151Z"
   },
   {
    "duration": 0,
    "start_time": "2022-12-01T08:45:02.152Z"
   },
   {
    "duration": 0,
    "start_time": "2022-12-01T08:45:02.153Z"
   },
   {
    "duration": 0,
    "start_time": "2022-12-01T08:45:02.154Z"
   },
   {
    "duration": 0,
    "start_time": "2022-12-01T08:45:02.155Z"
   },
   {
    "duration": 0,
    "start_time": "2022-12-01T08:45:02.156Z"
   },
   {
    "duration": 595,
    "start_time": "2022-12-01T08:46:13.261Z"
   },
   {
    "duration": 540,
    "start_time": "2022-12-01T08:46:33.495Z"
   },
   {
    "duration": 9,
    "start_time": "2022-12-01T08:46:56.439Z"
   },
   {
    "duration": 9,
    "start_time": "2022-12-01T08:47:17.593Z"
   },
   {
    "duration": 10,
    "start_time": "2022-12-01T08:52:39.736Z"
   },
   {
    "duration": 100,
    "start_time": "2022-12-01T08:52:57.191Z"
   },
   {
    "duration": 27,
    "start_time": "2022-12-01T08:55:26.110Z"
   },
   {
    "duration": 119,
    "start_time": "2022-12-01T08:56:03.389Z"
   },
   {
    "duration": 130,
    "start_time": "2022-12-01T08:56:18.599Z"
   },
   {
    "duration": 41,
    "start_time": "2022-12-01T08:56:37.639Z"
   },
   {
    "duration": 141,
    "start_time": "2022-12-01T08:56:49.547Z"
   },
   {
    "duration": 134,
    "start_time": "2022-12-01T08:57:07.760Z"
   },
   {
    "duration": 208,
    "start_time": "2022-12-01T08:59:03.061Z"
   },
   {
    "duration": 72,
    "start_time": "2022-12-01T08:59:16.692Z"
   },
   {
    "duration": 79,
    "start_time": "2022-12-01T08:59:24.890Z"
   },
   {
    "duration": 74,
    "start_time": "2022-12-01T08:59:29.163Z"
   },
   {
    "duration": 75,
    "start_time": "2022-12-01T08:59:32.281Z"
   },
   {
    "duration": 214,
    "start_time": "2022-12-01T08:59:36.934Z"
   },
   {
    "duration": 195,
    "start_time": "2022-12-01T08:59:51.852Z"
   },
   {
    "duration": 168,
    "start_time": "2022-12-01T09:00:33.143Z"
   },
   {
    "duration": 269,
    "start_time": "2022-12-01T09:00:50.525Z"
   },
   {
    "duration": 249,
    "start_time": "2022-12-01T09:59:03.942Z"
   },
   {
    "duration": 156,
    "start_time": "2022-12-01T09:59:06.581Z"
   },
   {
    "duration": 51,
    "start_time": "2022-12-01T10:00:44.163Z"
   },
   {
    "duration": 187,
    "start_time": "2022-12-01T10:01:12.468Z"
   },
   {
    "duration": 151,
    "start_time": "2022-12-01T10:01:33.938Z"
   },
   {
    "duration": 19,
    "start_time": "2022-12-01T10:02:03.397Z"
   },
   {
    "duration": 11,
    "start_time": "2022-12-01T10:02:12.715Z"
   },
   {
    "duration": 16,
    "start_time": "2022-12-01T10:02:20.327Z"
   },
   {
    "duration": 18,
    "start_time": "2022-12-01T10:02:33.961Z"
   },
   {
    "duration": 8,
    "start_time": "2022-12-01T10:05:14.600Z"
   },
   {
    "duration": 55,
    "start_time": "2022-12-01T10:05:18.124Z"
   },
   {
    "duration": 165,
    "start_time": "2022-12-01T10:05:19.708Z"
   },
   {
    "duration": 127,
    "start_time": "2022-12-01T10:05:36.396Z"
   },
   {
    "duration": 174,
    "start_time": "2022-12-01T10:05:42.075Z"
   },
   {
    "duration": 15,
    "start_time": "2022-12-01T10:08:14.110Z"
   },
   {
    "duration": 150,
    "start_time": "2022-12-01T10:08:39.195Z"
   },
   {
    "duration": 145,
    "start_time": "2022-12-01T10:09:04.031Z"
   },
   {
    "duration": 153,
    "start_time": "2022-12-01T10:09:16.871Z"
   },
   {
    "duration": 11,
    "start_time": "2022-12-01T10:29:00.513Z"
   },
   {
    "duration": 21,
    "start_time": "2022-12-01T10:29:22.047Z"
   },
   {
    "duration": 22,
    "start_time": "2022-12-01T10:29:48.018Z"
   },
   {
    "duration": 20,
    "start_time": "2022-12-01T10:30:30.219Z"
   },
   {
    "duration": 21,
    "start_time": "2022-12-01T10:30:40.796Z"
   },
   {
    "duration": 19,
    "start_time": "2022-12-01T10:31:57.321Z"
   },
   {
    "duration": 17,
    "start_time": "2022-12-01T10:32:11.811Z"
   },
   {
    "duration": 14,
    "start_time": "2022-12-01T10:32:26.279Z"
   },
   {
    "duration": 560,
    "start_time": "2022-12-01T10:32:52.013Z"
   },
   {
    "duration": 500,
    "start_time": "2022-12-01T10:33:03.351Z"
   },
   {
    "duration": 69,
    "start_time": "2022-12-01T10:34:20.158Z"
   },
   {
    "duration": 354,
    "start_time": "2022-12-01T10:34:26.374Z"
   },
   {
    "duration": 295,
    "start_time": "2022-12-01T10:34:49.261Z"
   },
   {
    "duration": 44,
    "start_time": "2022-12-01T10:37:35.451Z"
   },
   {
    "duration": 1309,
    "start_time": "2022-12-01T10:37:39.722Z"
   },
   {
    "duration": 19,
    "start_time": "2022-12-01T10:37:41.032Z"
   },
   {
    "duration": 5,
    "start_time": "2022-12-01T10:37:41.052Z"
   },
   {
    "duration": 16,
    "start_time": "2022-12-01T10:37:41.058Z"
   },
   {
    "duration": 3,
    "start_time": "2022-12-01T10:37:41.076Z"
   },
   {
    "duration": 10,
    "start_time": "2022-12-01T10:37:41.080Z"
   },
   {
    "duration": 34,
    "start_time": "2022-12-01T10:37:41.092Z"
   },
   {
    "duration": 5,
    "start_time": "2022-12-01T10:37:41.127Z"
   },
   {
    "duration": 15,
    "start_time": "2022-12-01T10:37:41.134Z"
   },
   {
    "duration": 11,
    "start_time": "2022-12-01T10:37:41.151Z"
   },
   {
    "duration": 16,
    "start_time": "2022-12-01T10:37:41.163Z"
   },
   {
    "duration": 11,
    "start_time": "2022-12-01T10:37:41.180Z"
   },
   {
    "duration": 40,
    "start_time": "2022-12-01T10:37:41.192Z"
   },
   {
    "duration": 148,
    "start_time": "2022-12-01T10:37:41.234Z"
   },
   {
    "duration": 110,
    "start_time": "2022-12-01T10:37:41.384Z"
   },
   {
    "duration": 26,
    "start_time": "2022-12-01T10:37:41.496Z"
   },
   {
    "duration": 8,
    "start_time": "2022-12-01T10:37:41.524Z"
   },
   {
    "duration": 190,
    "start_time": "2022-12-01T10:37:41.534Z"
   },
   {
    "duration": 156,
    "start_time": "2022-12-01T10:37:41.726Z"
   },
   {
    "duration": 505,
    "start_time": "2022-12-01T10:37:41.883Z"
   },
   {
    "duration": 76,
    "start_time": "2022-12-01T10:37:42.390Z"
   },
   {
    "duration": 0,
    "start_time": "2022-12-01T10:37:42.468Z"
   },
   {
    "duration": 0,
    "start_time": "2022-12-01T10:37:42.469Z"
   },
   {
    "duration": 0,
    "start_time": "2022-12-01T10:37:42.470Z"
   },
   {
    "duration": 0,
    "start_time": "2022-12-01T10:37:42.472Z"
   },
   {
    "duration": 0,
    "start_time": "2022-12-01T10:37:42.473Z"
   },
   {
    "duration": 0,
    "start_time": "2022-12-01T10:37:42.475Z"
   },
   {
    "duration": 0,
    "start_time": "2022-12-01T10:37:42.476Z"
   },
   {
    "duration": 0,
    "start_time": "2022-12-01T10:37:42.477Z"
   },
   {
    "duration": 0,
    "start_time": "2022-12-01T10:37:42.478Z"
   },
   {
    "duration": 0,
    "start_time": "2022-12-01T10:37:42.480Z"
   },
   {
    "duration": 0,
    "start_time": "2022-12-01T10:37:42.481Z"
   },
   {
    "duration": 0,
    "start_time": "2022-12-01T10:37:42.482Z"
   },
   {
    "duration": 0,
    "start_time": "2022-12-01T10:37:42.484Z"
   },
   {
    "duration": 0,
    "start_time": "2022-12-01T10:37:42.485Z"
   },
   {
    "duration": 0,
    "start_time": "2022-12-01T10:37:42.486Z"
   },
   {
    "duration": 0,
    "start_time": "2022-12-01T10:37:42.522Z"
   },
   {
    "duration": 0,
    "start_time": "2022-12-01T10:37:42.523Z"
   },
   {
    "duration": 0,
    "start_time": "2022-12-01T10:37:42.598Z"
   },
   {
    "duration": 476,
    "start_time": "2022-12-01T10:44:37.385Z"
   },
   {
    "duration": 513,
    "start_time": "2022-12-01T10:46:04.410Z"
   },
   {
    "duration": 497,
    "start_time": "2022-12-01T10:46:18.093Z"
   },
   {
    "duration": 4,
    "start_time": "2022-12-01T10:55:11.016Z"
   },
   {
    "duration": 8,
    "start_time": "2022-12-01T10:55:20.231Z"
   },
   {
    "duration": 9,
    "start_time": "2022-12-01T10:55:37.070Z"
   },
   {
    "duration": 436,
    "start_time": "2022-12-01T11:00:26.212Z"
   },
   {
    "duration": 53,
    "start_time": "2022-12-01T11:00:48.581Z"
   },
   {
    "duration": 1436,
    "start_time": "2022-12-01T11:02:31.649Z"
   },
   {
    "duration": 19,
    "start_time": "2022-12-01T11:02:33.087Z"
   },
   {
    "duration": 5,
    "start_time": "2022-12-01T11:02:33.107Z"
   },
   {
    "duration": 21,
    "start_time": "2022-12-01T11:02:33.114Z"
   },
   {
    "duration": 4,
    "start_time": "2022-12-01T11:02:33.136Z"
   },
   {
    "duration": 11,
    "start_time": "2022-12-01T11:02:33.141Z"
   },
   {
    "duration": 16,
    "start_time": "2022-12-01T11:02:33.153Z"
   },
   {
    "duration": 8,
    "start_time": "2022-12-01T11:02:33.170Z"
   },
   {
    "duration": 19,
    "start_time": "2022-12-01T11:02:33.180Z"
   },
   {
    "duration": 23,
    "start_time": "2022-12-01T11:02:33.202Z"
   },
   {
    "duration": 14,
    "start_time": "2022-12-01T11:02:33.226Z"
   },
   {
    "duration": 8,
    "start_time": "2022-12-01T11:02:33.242Z"
   },
   {
    "duration": 22,
    "start_time": "2022-12-01T11:02:33.251Z"
   },
   {
    "duration": 154,
    "start_time": "2022-12-01T11:02:33.275Z"
   },
   {
    "duration": 108,
    "start_time": "2022-12-01T11:02:33.431Z"
   },
   {
    "duration": 14,
    "start_time": "2022-12-01T11:02:33.541Z"
   },
   {
    "duration": 10,
    "start_time": "2022-12-01T11:02:33.556Z"
   },
   {
    "duration": 177,
    "start_time": "2022-12-01T11:02:33.568Z"
   },
   {
    "duration": 152,
    "start_time": "2022-12-01T11:02:33.747Z"
   },
   {
    "duration": 517,
    "start_time": "2022-12-01T11:02:33.901Z"
   },
   {
    "duration": 1406,
    "start_time": "2022-12-01T11:06:03.878Z"
   },
   {
    "duration": 18,
    "start_time": "2022-12-01T11:06:05.286Z"
   },
   {
    "duration": 10,
    "start_time": "2022-12-01T11:06:05.305Z"
   },
   {
    "duration": 31,
    "start_time": "2022-12-01T11:06:05.316Z"
   },
   {
    "duration": 30,
    "start_time": "2022-12-01T11:06:05.349Z"
   },
   {
    "duration": 26,
    "start_time": "2022-12-01T11:06:05.381Z"
   },
   {
    "duration": 22,
    "start_time": "2022-12-01T11:06:05.408Z"
   },
   {
    "duration": 8,
    "start_time": "2022-12-01T11:06:05.432Z"
   },
   {
    "duration": 46,
    "start_time": "2022-12-01T11:06:05.442Z"
   },
   {
    "duration": 26,
    "start_time": "2022-12-01T11:06:05.490Z"
   },
   {
    "duration": 55,
    "start_time": "2022-12-01T11:06:05.518Z"
   },
   {
    "duration": 65,
    "start_time": "2022-12-01T11:06:05.575Z"
   },
   {
    "duration": 35,
    "start_time": "2022-12-01T11:06:05.642Z"
   },
   {
    "duration": 210,
    "start_time": "2022-12-01T11:06:05.680Z"
   },
   {
    "duration": 158,
    "start_time": "2022-12-01T11:06:05.891Z"
   },
   {
    "duration": 13,
    "start_time": "2022-12-01T11:06:06.051Z"
   },
   {
    "duration": 119,
    "start_time": "2022-12-01T11:06:06.066Z"
   },
   {
    "duration": 173,
    "start_time": "2022-12-01T11:06:06.186Z"
   },
   {
    "duration": 146,
    "start_time": "2022-12-01T11:06:06.361Z"
   },
   {
    "duration": 506,
    "start_time": "2022-12-01T11:06:06.509Z"
   },
   {
    "duration": 161,
    "start_time": "2022-12-01T11:20:28.442Z"
   },
   {
    "duration": 15,
    "start_time": "2022-12-01T11:20:28.605Z"
   },
   {
    "duration": 6,
    "start_time": "2022-12-01T11:20:28.622Z"
   },
   {
    "duration": 19,
    "start_time": "2022-12-01T11:20:28.630Z"
   },
   {
    "duration": 3,
    "start_time": "2022-12-01T11:20:28.651Z"
   },
   {
    "duration": 16,
    "start_time": "2022-12-01T11:20:28.655Z"
   },
   {
    "duration": 16,
    "start_time": "2022-12-01T11:20:28.673Z"
   },
   {
    "duration": 5,
    "start_time": "2022-12-01T11:20:28.690Z"
   },
   {
    "duration": 34,
    "start_time": "2022-12-01T11:20:28.696Z"
   },
   {
    "duration": 13,
    "start_time": "2022-12-01T11:20:28.733Z"
   },
   {
    "duration": 20,
    "start_time": "2022-12-01T11:20:28.747Z"
   },
   {
    "duration": 10,
    "start_time": "2022-12-01T11:20:28.769Z"
   },
   {
    "duration": 21,
    "start_time": "2022-12-01T11:20:28.780Z"
   },
   {
    "duration": 157,
    "start_time": "2022-12-01T11:20:28.803Z"
   },
   {
    "duration": 115,
    "start_time": "2022-12-01T11:20:28.962Z"
   },
   {
    "duration": 14,
    "start_time": "2022-12-01T11:20:29.079Z"
   },
   {
    "duration": 13,
    "start_time": "2022-12-01T11:20:29.095Z"
   },
   {
    "duration": 176,
    "start_time": "2022-12-01T11:20:29.121Z"
   },
   {
    "duration": 184,
    "start_time": "2022-12-01T11:20:29.298Z"
   },
   {
    "duration": 637,
    "start_time": "2022-12-01T11:20:29.484Z"
   },
   {
    "duration": 2,
    "start_time": "2022-12-01T11:20:30.123Z"
   },
   {
    "duration": 19,
    "start_time": "2022-12-01T11:20:30.127Z"
   },
   {
    "duration": 17,
    "start_time": "2022-12-01T11:20:30.148Z"
   },
   {
    "duration": 56,
    "start_time": "2022-12-01T11:20:30.166Z"
   },
   {
    "duration": 0,
    "start_time": "2022-12-01T11:20:30.224Z"
   },
   {
    "duration": 0,
    "start_time": "2022-12-01T11:20:30.225Z"
   },
   {
    "duration": 0,
    "start_time": "2022-12-01T11:20:30.226Z"
   },
   {
    "duration": 0,
    "start_time": "2022-12-01T11:20:30.227Z"
   },
   {
    "duration": 0,
    "start_time": "2022-12-01T11:20:30.228Z"
   },
   {
    "duration": 0,
    "start_time": "2022-12-01T11:20:30.229Z"
   },
   {
    "duration": 0,
    "start_time": "2022-12-01T11:20:30.230Z"
   },
   {
    "duration": 0,
    "start_time": "2022-12-01T11:20:30.231Z"
   },
   {
    "duration": 1,
    "start_time": "2022-12-01T11:20:30.232Z"
   },
   {
    "duration": 0,
    "start_time": "2022-12-01T11:20:30.233Z"
   },
   {
    "duration": 0,
    "start_time": "2022-12-01T11:20:30.234Z"
   },
   {
    "duration": 0,
    "start_time": "2022-12-01T11:20:30.235Z"
   },
   {
    "duration": 0,
    "start_time": "2022-12-01T11:20:30.236Z"
   },
   {
    "duration": 0,
    "start_time": "2022-12-01T11:20:30.237Z"
   },
   {
    "duration": 0,
    "start_time": "2022-12-01T11:20:30.238Z"
   },
   {
    "duration": 0,
    "start_time": "2022-12-01T11:20:30.239Z"
   },
   {
    "duration": 3329,
    "start_time": "2022-12-01T11:20:39.369Z"
   },
   {
    "duration": 45,
    "start_time": "2022-12-01T14:28:10.901Z"
   },
   {
    "duration": 1467,
    "start_time": "2022-12-01T14:28:15.069Z"
   },
   {
    "duration": 19,
    "start_time": "2022-12-01T14:28:16.538Z"
   },
   {
    "duration": 6,
    "start_time": "2022-12-01T14:28:16.558Z"
   },
   {
    "duration": 17,
    "start_time": "2022-12-01T14:28:16.565Z"
   },
   {
    "duration": 8,
    "start_time": "2022-12-01T14:28:16.583Z"
   },
   {
    "duration": 30,
    "start_time": "2022-12-01T14:28:16.592Z"
   },
   {
    "duration": 17,
    "start_time": "2022-12-01T14:28:16.623Z"
   },
   {
    "duration": 7,
    "start_time": "2022-12-01T14:28:16.641Z"
   },
   {
    "duration": 20,
    "start_time": "2022-12-01T14:28:16.650Z"
   },
   {
    "duration": 9,
    "start_time": "2022-12-01T14:28:16.672Z"
   },
   {
    "duration": 25,
    "start_time": "2022-12-01T14:28:16.682Z"
   },
   {
    "duration": 19,
    "start_time": "2022-12-01T14:28:16.709Z"
   },
   {
    "duration": 24,
    "start_time": "2022-12-01T14:28:16.729Z"
   },
   {
    "duration": 162,
    "start_time": "2022-12-01T14:28:16.754Z"
   },
   {
    "duration": 110,
    "start_time": "2022-12-01T14:28:16.917Z"
   },
   {
    "duration": 14,
    "start_time": "2022-12-01T14:28:17.028Z"
   },
   {
    "duration": 15,
    "start_time": "2022-12-01T14:28:17.043Z"
   },
   {
    "duration": 181,
    "start_time": "2022-12-01T14:28:17.059Z"
   },
   {
    "duration": 164,
    "start_time": "2022-12-01T14:28:17.241Z"
   },
   {
    "duration": 580,
    "start_time": "2022-12-01T14:28:17.406Z"
   },
   {
    "duration": 3329,
    "start_time": "2022-12-01T14:28:17.987Z"
   },
   {
    "duration": 1524,
    "start_time": "2022-12-02T16:44:53.987Z"
   },
   {
    "duration": 19,
    "start_time": "2022-12-02T16:44:55.513Z"
   },
   {
    "duration": 0,
    "start_time": "2022-12-02T16:45:33.239Z"
   },
   {
    "duration": 0,
    "start_time": "2022-12-02T16:45:33.240Z"
   },
   {
    "duration": 0,
    "start_time": "2022-12-02T16:45:33.242Z"
   },
   {
    "duration": 0,
    "start_time": "2022-12-02T16:45:33.243Z"
   },
   {
    "duration": 0,
    "start_time": "2022-12-02T16:45:33.244Z"
   },
   {
    "duration": 0,
    "start_time": "2022-12-02T16:45:33.245Z"
   },
   {
    "duration": 0,
    "start_time": "2022-12-02T16:45:33.246Z"
   },
   {
    "duration": 0,
    "start_time": "2022-12-02T16:45:33.247Z"
   },
   {
    "duration": 0,
    "start_time": "2022-12-02T16:45:33.248Z"
   },
   {
    "duration": 0,
    "start_time": "2022-12-02T16:45:33.249Z"
   },
   {
    "duration": 0,
    "start_time": "2022-12-02T16:45:33.249Z"
   },
   {
    "duration": 0,
    "start_time": "2022-12-02T16:45:33.250Z"
   },
   {
    "duration": 0,
    "start_time": "2022-12-02T16:45:33.252Z"
   },
   {
    "duration": 0,
    "start_time": "2022-12-02T16:45:33.253Z"
   },
   {
    "duration": 0,
    "start_time": "2022-12-02T16:45:33.254Z"
   },
   {
    "duration": 0,
    "start_time": "2022-12-02T16:45:33.255Z"
   },
   {
    "duration": 0,
    "start_time": "2022-12-02T16:45:33.256Z"
   },
   {
    "duration": 0,
    "start_time": "2022-12-02T16:45:33.257Z"
   },
   {
    "duration": 0,
    "start_time": "2022-12-02T16:45:33.258Z"
   },
   {
    "duration": 0,
    "start_time": "2022-12-02T16:45:33.259Z"
   },
   {
    "duration": 0,
    "start_time": "2022-12-02T16:45:33.260Z"
   },
   {
    "duration": 0,
    "start_time": "2022-12-02T16:45:33.261Z"
   },
   {
    "duration": 0,
    "start_time": "2022-12-02T16:45:33.262Z"
   },
   {
    "duration": 0,
    "start_time": "2022-12-02T16:45:33.263Z"
   },
   {
    "duration": 0,
    "start_time": "2022-12-02T16:45:33.264Z"
   },
   {
    "duration": 0,
    "start_time": "2022-12-02T16:45:33.265Z"
   },
   {
    "duration": 0,
    "start_time": "2022-12-02T16:45:33.266Z"
   },
   {
    "duration": 0,
    "start_time": "2022-12-02T16:45:33.267Z"
   },
   {
    "duration": 0,
    "start_time": "2022-12-02T16:45:33.268Z"
   },
   {
    "duration": 0,
    "start_time": "2022-12-02T16:45:33.269Z"
   },
   {
    "duration": 0,
    "start_time": "2022-12-02T16:45:33.270Z"
   },
   {
    "duration": 0,
    "start_time": "2022-12-02T16:45:33.271Z"
   },
   {
    "duration": 0,
    "start_time": "2022-12-02T16:45:33.335Z"
   },
   {
    "duration": 0,
    "start_time": "2022-12-02T16:45:33.336Z"
   },
   {
    "duration": 0,
    "start_time": "2022-12-02T16:45:33.337Z"
   },
   {
    "duration": 0,
    "start_time": "2022-12-02T16:45:33.338Z"
   },
   {
    "duration": 0,
    "start_time": "2022-12-02T16:45:33.340Z"
   },
   {
    "duration": 0,
    "start_time": "2022-12-02T16:45:33.341Z"
   },
   {
    "duration": 0,
    "start_time": "2022-12-02T16:45:33.342Z"
   },
   {
    "duration": 0,
    "start_time": "2022-12-02T16:45:33.343Z"
   },
   {
    "duration": 0,
    "start_time": "2022-12-02T16:45:33.344Z"
   },
   {
    "duration": 0,
    "start_time": "2022-12-02T16:45:33.345Z"
   },
   {
    "duration": 0,
    "start_time": "2022-12-02T16:45:33.346Z"
   },
   {
    "duration": 0,
    "start_time": "2022-12-02T16:45:33.347Z"
   },
   {
    "duration": 0,
    "start_time": "2022-12-02T16:45:33.348Z"
   },
   {
    "duration": 0,
    "start_time": "2022-12-02T16:45:33.349Z"
   },
   {
    "duration": 0,
    "start_time": "2022-12-02T16:45:33.350Z"
   },
   {
    "duration": 0,
    "start_time": "2022-12-02T16:45:33.351Z"
   },
   {
    "duration": 17,
    "start_time": "2022-12-02T16:45:34.327Z"
   },
   {
    "duration": 145,
    "start_time": "2022-12-02T16:45:48.397Z"
   },
   {
    "duration": 16,
    "start_time": "2022-12-02T16:45:48.544Z"
   },
   {
    "duration": 33862,
    "start_time": "2022-12-02T16:45:48.561Z"
   },
   {
    "duration": 11,
    "start_time": "2022-12-02T16:46:22.426Z"
   },
   {
    "duration": 14,
    "start_time": "2022-12-02T16:46:22.439Z"
   },
   {
    "duration": 53,
    "start_time": "2022-12-02T16:46:22.456Z"
   },
   {
    "duration": 23,
    "start_time": "2022-12-02T16:46:22.511Z"
   },
   {
    "duration": 14,
    "start_time": "2022-12-02T16:46:22.537Z"
   },
   {
    "duration": 41,
    "start_time": "2022-12-02T16:46:22.553Z"
   },
   {
    "duration": 46,
    "start_time": "2022-12-02T16:46:22.599Z"
   },
   {
    "duration": 193,
    "start_time": "2022-12-02T16:46:22.647Z"
   },
   {
    "duration": 126,
    "start_time": "2022-12-02T16:46:22.842Z"
   },
   {
    "duration": 8,
    "start_time": "2022-12-02T16:46:22.969Z"
   },
   {
    "duration": 204,
    "start_time": "2022-12-02T16:46:22.979Z"
   },
   {
    "duration": 263,
    "start_time": "2022-12-02T16:46:23.185Z"
   },
   {
    "duration": 676,
    "start_time": "2022-12-02T16:46:23.449Z"
   },
   {
    "duration": 225,
    "start_time": "2022-12-02T16:46:24.128Z"
   },
   {
    "duration": 1493,
    "start_time": "2022-12-02T16:46:24.355Z"
   },
   {
    "duration": 46,
    "start_time": "2022-12-02T16:46:25.851Z"
   },
   {
    "duration": 74,
    "start_time": "2022-12-02T16:46:25.898Z"
   },
   {
    "duration": 700,
    "start_time": "2022-12-02T16:46:25.974Z"
   },
   {
    "duration": 260,
    "start_time": "2022-12-02T16:46:26.676Z"
   },
   {
    "duration": 0,
    "start_time": "2022-12-02T16:46:26.938Z"
   },
   {
    "duration": 0,
    "start_time": "2022-12-02T16:46:26.939Z"
   },
   {
    "duration": 0,
    "start_time": "2022-12-02T16:46:26.941Z"
   },
   {
    "duration": 0,
    "start_time": "2022-12-02T16:46:26.942Z"
   },
   {
    "duration": 0,
    "start_time": "2022-12-02T16:46:26.944Z"
   },
   {
    "duration": 0,
    "start_time": "2022-12-02T16:46:26.945Z"
   },
   {
    "duration": 0,
    "start_time": "2022-12-02T16:46:26.947Z"
   },
   {
    "duration": 0,
    "start_time": "2022-12-02T16:46:26.949Z"
   },
   {
    "duration": 0,
    "start_time": "2022-12-02T16:46:26.951Z"
   },
   {
    "duration": 0,
    "start_time": "2022-12-02T16:46:26.952Z"
   },
   {
    "duration": 0,
    "start_time": "2022-12-02T16:46:26.954Z"
   },
   {
    "duration": 0,
    "start_time": "2022-12-02T16:46:26.955Z"
   },
   {
    "duration": 0,
    "start_time": "2022-12-02T16:46:26.957Z"
   },
   {
    "duration": 0,
    "start_time": "2022-12-02T16:46:26.959Z"
   },
   {
    "duration": 0,
    "start_time": "2022-12-02T16:46:26.960Z"
   },
   {
    "duration": 0,
    "start_time": "2022-12-02T16:46:26.961Z"
   },
   {
    "duration": 0,
    "start_time": "2022-12-02T16:46:26.963Z"
   },
   {
    "duration": 0,
    "start_time": "2022-12-02T16:46:26.964Z"
   },
   {
    "duration": 0,
    "start_time": "2022-12-02T16:46:26.966Z"
   },
   {
    "duration": 0,
    "start_time": "2022-12-02T16:46:26.967Z"
   },
   {
    "duration": 0,
    "start_time": "2022-12-02T16:46:26.969Z"
   },
   {
    "duration": 0,
    "start_time": "2022-12-02T16:46:26.969Z"
   },
   {
    "duration": 0,
    "start_time": "2022-12-02T16:46:26.972Z"
   },
   {
    "duration": 0,
    "start_time": "2022-12-02T16:46:26.973Z"
   },
   {
    "duration": 0,
    "start_time": "2022-12-02T16:46:26.974Z"
   },
   {
    "duration": 0,
    "start_time": "2022-12-02T16:46:26.975Z"
   },
   {
    "duration": 0,
    "start_time": "2022-12-02T16:46:26.976Z"
   },
   {
    "duration": 291,
    "start_time": "2022-12-02T16:47:01.857Z"
   },
   {
    "duration": 173,
    "start_time": "2022-12-02T16:47:33.988Z"
   },
   {
    "duration": 23,
    "start_time": "2022-12-02T16:47:34.164Z"
   },
   {
    "duration": 33089,
    "start_time": "2022-12-02T16:47:34.189Z"
   },
   {
    "duration": 3,
    "start_time": "2022-12-02T16:48:07.281Z"
   },
   {
    "duration": 20,
    "start_time": "2022-12-02T16:48:07.286Z"
   },
   {
    "duration": 48,
    "start_time": "2022-12-02T16:48:07.308Z"
   },
   {
    "duration": 20,
    "start_time": "2022-12-02T16:48:07.357Z"
   },
   {
    "duration": 9,
    "start_time": "2022-12-02T16:48:07.378Z"
   },
   {
    "duration": 17,
    "start_time": "2022-12-02T16:48:07.388Z"
   },
   {
    "duration": 36,
    "start_time": "2022-12-02T16:48:07.408Z"
   },
   {
    "duration": 146,
    "start_time": "2022-12-02T16:48:07.447Z"
   },
   {
    "duration": 115,
    "start_time": "2022-12-02T16:48:07.595Z"
   },
   {
    "duration": 8,
    "start_time": "2022-12-02T16:48:07.711Z"
   },
   {
    "duration": 191,
    "start_time": "2022-12-02T16:48:07.735Z"
   },
   {
    "duration": 165,
    "start_time": "2022-12-02T16:48:07.934Z"
   },
   {
    "duration": 784,
    "start_time": "2022-12-02T16:48:08.101Z"
   },
   {
    "duration": 233,
    "start_time": "2022-12-02T16:48:08.886Z"
   },
   {
    "duration": 1348,
    "start_time": "2022-12-02T16:48:09.121Z"
   },
   {
    "duration": 65,
    "start_time": "2022-12-02T16:48:10.470Z"
   },
   {
    "duration": 46,
    "start_time": "2022-12-02T16:48:10.537Z"
   },
   {
    "duration": 629,
    "start_time": "2022-12-02T16:48:10.584Z"
   },
   {
    "duration": 409,
    "start_time": "2022-12-02T16:48:11.214Z"
   },
   {
    "duration": 185,
    "start_time": "2022-12-02T16:48:11.625Z"
   },
   {
    "duration": 191,
    "start_time": "2022-12-02T16:48:11.812Z"
   },
   {
    "duration": 193,
    "start_time": "2022-12-02T16:48:12.005Z"
   },
   {
    "duration": 194,
    "start_time": "2022-12-02T16:48:12.200Z"
   },
   {
    "duration": 12,
    "start_time": "2022-12-02T16:48:12.396Z"
   },
   {
    "duration": 23,
    "start_time": "2022-12-02T16:48:12.413Z"
   },
   {
    "duration": 20,
    "start_time": "2022-12-02T16:48:12.438Z"
   },
   {
    "duration": 12,
    "start_time": "2022-12-02T16:48:12.460Z"
   },
   {
    "duration": 31,
    "start_time": "2022-12-02T16:48:12.474Z"
   },
   {
    "duration": 10,
    "start_time": "2022-12-02T16:48:12.507Z"
   },
   {
    "duration": 464,
    "start_time": "2022-12-02T16:48:12.519Z"
   },
   {
    "duration": 275,
    "start_time": "2022-12-02T16:48:12.985Z"
   },
   {
    "duration": 421,
    "start_time": "2022-12-02T16:48:13.262Z"
   },
   {
    "duration": 435,
    "start_time": "2022-12-02T16:48:13.685Z"
   },
   {
    "duration": 398,
    "start_time": "2022-12-02T16:48:14.122Z"
   },
   {
    "duration": 192,
    "start_time": "2022-12-02T16:48:14.522Z"
   },
   {
    "duration": 191,
    "start_time": "2022-12-02T16:48:14.716Z"
   },
   {
    "duration": 180,
    "start_time": "2022-12-02T16:48:14.909Z"
   },
   {
    "duration": 190,
    "start_time": "2022-12-02T16:48:15.091Z"
   },
   {
    "duration": 316,
    "start_time": "2022-12-02T16:48:15.283Z"
   },
   {
    "duration": 197,
    "start_time": "2022-12-02T16:48:15.601Z"
   },
   {
    "duration": 87,
    "start_time": "2022-12-02T16:48:15.800Z"
   },
   {
    "duration": 96,
    "start_time": "2022-12-02T16:48:15.889Z"
   },
   {
    "duration": 102,
    "start_time": "2022-12-02T16:48:15.987Z"
   },
   {
    "duration": 11,
    "start_time": "2022-12-02T16:48:16.091Z"
   },
   {
    "duration": 13,
    "start_time": "2022-12-02T16:48:16.104Z"
   },
   {
    "duration": 23,
    "start_time": "2022-12-02T16:48:16.119Z"
   },
   {
    "duration": 721,
    "start_time": "2022-12-02T18:50:30.838Z"
   },
   {
    "duration": 659,
    "start_time": "2022-12-02T18:50:37.271Z"
   },
   {
    "duration": 913,
    "start_time": "2022-12-02T18:50:42.011Z"
   },
   {
    "duration": 44,
    "start_time": "2022-12-02T18:51:20.502Z"
   },
   {
    "duration": 43,
    "start_time": "2022-12-02T18:51:25.472Z"
   },
   {
    "duration": 43,
    "start_time": "2022-12-02T18:51:27.345Z"
   }
  ],
  "colab": {
   "provenance": [],
   "toc_visible": true
  },
  "kernelspec": {
   "display_name": "Python 3 (ipykernel)",
   "language": "python",
   "name": "python3"
  },
  "language_info": {
   "codemirror_mode": {
    "name": "ipython",
    "version": 3
   },
   "file_extension": ".py",
   "mimetype": "text/x-python",
   "name": "python",
   "nbconvert_exporter": "python",
   "pygments_lexer": "ipython3",
   "version": "3.11.3"
  },
  "toc": {
   "base_numbering": 1,
   "nav_menu": {
    "height": "80px",
    "width": "185px"
   },
   "number_sections": true,
   "sideBar": true,
   "skip_h1_title": false,
   "title_cell": "Table of Contents",
   "title_sidebar": "Contents",
   "toc_cell": false,
   "toc_position": {
    "height": "calc(100% - 180px)",
    "left": "10px",
    "top": "150px",
    "width": "289.438px"
   },
   "toc_section_display": true,
   "toc_window_display": true
  }
 },
 "nbformat": 4,
 "nbformat_minor": 1
}
