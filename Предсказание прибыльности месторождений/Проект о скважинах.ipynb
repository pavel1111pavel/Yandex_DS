{
 "cells": [
  {
   "cell_type": "markdown",
   "metadata": {},
   "source": [
    "## Описание проекта\n"
   ]
  },
  {
   "cell_type": "markdown",
   "metadata": {},
   "source": [
    "### Цель и условия проекта"
   ]
  },
  {
   "cell_type": "markdown",
   "metadata": {},
   "source": [
    "Цель задачи:\n",
    "\n",
    "Рассчитать достаточный объём сырья для безубыточной разработки новой скважины.\n",
    "Выбрать скважины с максимальными значениями предсказаний. \n",
    "Просуммировать целевое значение объёма сырья, соответствующее этим предсказаниям.\n",
    "Рассчитать прибыль для полученного объёма сырья.\n",
    "Найти среднюю прибыль, 95%-й доверительный интервал и риск убытков.\n",
    "Предложить регион для разработки скважин.\n",
    "\n",
    "Условия задачи:\n",
    "\n",
    "Для обучения модели подходит только линейная регрессия (остальные — недостаточно предсказуемые).\n",
    "При разведке региона исследуют 500 точек, из которых с помощью машинного обучения выбирают 200 лучших для разработки.\n",
    "Бюджет на разработку скважин в регионе — 10 млрд рублей.\n",
    "При нынешних ценах один баррель сырья приносит 450 рублей дохода. Доход с каждой единицы продукта составляет 450 тыс. рублей, поскольку объём указан в тысячах баррелей.\n",
    "После оценки рисков нужно оставить лишь те регионы, в которых вероятность убытков меньше 2.5%. Среди них выбирают регион с наибольшей средней прибылью."
   ]
  },
  {
   "cell_type": "markdown",
   "metadata": {},
   "source": [
    "### Критерии выбора"
   ]
  },
  {
   "cell_type": "markdown",
   "metadata": {},
   "source": [
    "Нам предоставлены пробы нефти в трёх регионах: в каждом 10 000 месторождений, где измерили качество нефти и объём её запасов. Построим модель машинного обучения, которая поможет определить регион, где добыча принесёт наибольшую прибыль. Проанализируем возможную прибыль и риски техникой *Bootstrap.*\n",
    "\n",
    "Шаги для выбора локации:\n",
    "\n",
    "- В избранном регионе ищут месторождения, для каждого определяют значения признаков;\n",
    "- Строят модель и оценивают объём запасов;\n",
    "- Выбирают месторождения с самым высокими оценками значений. Количество месторождений зависит от бюджета компании и стоимости разработки одной скважины;\n",
    "- Прибыль равна суммарной прибыли отобранных месторождений."
   ]
  },
  {
   "cell_type": "markdown",
   "metadata": {},
   "source": [
    "### Описание данных"
   ]
  },
  {
   "cell_type": "markdown",
   "metadata": {},
   "source": [
    "Представленно 3 датасета, с одинаковыми названиями колонок и строк\n",
    "\n",
    "`id` — уникальный идентификатор скважины;\n",
    "\n",
    "`f0`, `f1`, `f2` — три признака точек (неважно, что они означают, но сами признаки значимы);\n",
    "\n",
    "`product` — объём запасов в скважине (тыс. баррелей)."
   ]
  },
  {
   "cell_type": "markdown",
   "metadata": {},
   "source": [
    "## Загрузка и подготовка данных"
   ]
  },
  {
   "cell_type": "markdown",
   "metadata": {},
   "source": [
    "### Импорт библиотек и выгрузка данных"
   ]
  },
  {
   "cell_type": "code",
   "execution_count": 1,
   "metadata": {},
   "outputs": [
    {
     "name": "stdout",
     "output_type": "stream",
     "text": [
      "Collecting scikit-learn==1.1.3\n",
      "  Downloading scikit_learn-1.1.3-cp39-cp39-manylinux_2_17_x86_64.manylinux2014_x86_64.whl (30.8 MB)\n",
      "\u001b[K     |████████████████████████████████| 30.8 MB 47 kB/s  eta 0:00:01\n",
      "\u001b[?25hRequirement already satisfied: numpy>=1.17.3 in /opt/conda/lib/python3.9/site-packages (from scikit-learn==1.1.3) (1.21.1)\n",
      "Requirement already satisfied: scipy>=1.3.2 in /opt/conda/lib/python3.9/site-packages (from scikit-learn==1.1.3) (1.9.1)\n",
      "Requirement already satisfied: joblib>=1.0.0 in /opt/conda/lib/python3.9/site-packages (from scikit-learn==1.1.3) (1.1.0)\n",
      "Requirement already satisfied: threadpoolctl>=2.0.0 in /opt/conda/lib/python3.9/site-packages (from scikit-learn==1.1.3) (3.1.0)\n",
      "Installing collected packages: scikit-learn\n",
      "  Attempting uninstall: scikit-learn\n",
      "    Found existing installation: scikit-learn 0.24.1\n",
      "    Uninstalling scikit-learn-0.24.1:\n",
      "      Successfully uninstalled scikit-learn-0.24.1\n",
      "Successfully installed scikit-learn-1.1.3\n",
      "Collecting imblearn\n",
      "  Downloading imblearn-0.0-py2.py3-none-any.whl (1.9 kB)\n",
      "Collecting imbalanced-learn\n",
      "  Downloading imbalanced_learn-0.10.1-py3-none-any.whl (226 kB)\n",
      "\u001b[K     |████████████████████████████████| 226 kB 2.2 MB/s eta 0:00:01\n",
      "\u001b[?25hCollecting joblib>=1.1.1\n",
      "  Downloading joblib-1.2.0-py3-none-any.whl (297 kB)\n",
      "\u001b[K     |████████████████████████████████| 297 kB 31.5 MB/s eta 0:00:01\n",
      "\u001b[?25hRequirement already satisfied: scikit-learn>=1.0.2 in /opt/conda/lib/python3.9/site-packages (from imbalanced-learn->imblearn) (1.1.3)\n",
      "Requirement already satisfied: threadpoolctl>=2.0.0 in /opt/conda/lib/python3.9/site-packages (from imbalanced-learn->imblearn) (3.1.0)\n",
      "Requirement already satisfied: scipy>=1.3.2 in /opt/conda/lib/python3.9/site-packages (from imbalanced-learn->imblearn) (1.9.1)\n",
      "Requirement already satisfied: numpy>=1.17.3 in /opt/conda/lib/python3.9/site-packages (from imbalanced-learn->imblearn) (1.21.1)\n",
      "Installing collected packages: joblib, imbalanced-learn, imblearn\n",
      "  Attempting uninstall: joblib\n",
      "    Found existing installation: joblib 1.1.0\n",
      "    Uninstalling joblib-1.1.0:\n",
      "      Successfully uninstalled joblib-1.1.0\n",
      "Successfully installed imbalanced-learn-0.10.1 imblearn-0.0 joblib-1.2.0\n"
     ]
    }
   ],
   "source": [
    "!pip install scikit-learn==1.1.3\n",
    "!pip install imblearn\n",
    "import pandas as pd\n",
    "import numpy as np\n",
    "\n",
    "from sklearn.preprocessing import  StandardScaler\n",
    "from sklearn.linear_model import LinearRegression\n",
    "\n",
    "\n",
    "from sklearn.metrics import  mean_squared_error\n",
    "from sklearn.model_selection import train_test_split"
   ]
  },
  {
   "cell_type": "code",
   "execution_count": 2,
   "metadata": {},
   "outputs": [
    {
     "data": {
      "text/html": [
       "<div>\n",
       "<style scoped>\n",
       "    .dataframe tbody tr th:only-of-type {\n",
       "        vertical-align: middle;\n",
       "    }\n",
       "\n",
       "    .dataframe tbody tr th {\n",
       "        vertical-align: top;\n",
       "    }\n",
       "\n",
       "    .dataframe thead th {\n",
       "        text-align: right;\n",
       "    }\n",
       "</style>\n",
       "<table border=\"1\" class=\"dataframe\">\n",
       "  <thead>\n",
       "    <tr style=\"text-align: right;\">\n",
       "      <th></th>\n",
       "      <th>id</th>\n",
       "      <th>f0</th>\n",
       "      <th>f1</th>\n",
       "      <th>f2</th>\n",
       "      <th>product</th>\n",
       "    </tr>\n",
       "  </thead>\n",
       "  <tbody>\n",
       "    <tr>\n",
       "      <th>0</th>\n",
       "      <td>txEyH</td>\n",
       "      <td>0.705745</td>\n",
       "      <td>-0.497823</td>\n",
       "      <td>1.221170</td>\n",
       "      <td>105.280062</td>\n",
       "    </tr>\n",
       "    <tr>\n",
       "      <th>1</th>\n",
       "      <td>2acmU</td>\n",
       "      <td>1.334711</td>\n",
       "      <td>-0.340164</td>\n",
       "      <td>4.365080</td>\n",
       "      <td>73.037750</td>\n",
       "    </tr>\n",
       "    <tr>\n",
       "      <th>2</th>\n",
       "      <td>409Wp</td>\n",
       "      <td>1.022732</td>\n",
       "      <td>0.151990</td>\n",
       "      <td>1.419926</td>\n",
       "      <td>85.265647</td>\n",
       "    </tr>\n",
       "    <tr>\n",
       "      <th>3</th>\n",
       "      <td>iJLyR</td>\n",
       "      <td>-0.032172</td>\n",
       "      <td>0.139033</td>\n",
       "      <td>2.978566</td>\n",
       "      <td>168.620776</td>\n",
       "    </tr>\n",
       "    <tr>\n",
       "      <th>4</th>\n",
       "      <td>Xdl7t</td>\n",
       "      <td>1.988431</td>\n",
       "      <td>0.155413</td>\n",
       "      <td>4.751769</td>\n",
       "      <td>154.036647</td>\n",
       "    </tr>\n",
       "  </tbody>\n",
       "</table>\n",
       "</div>"
      ],
      "text/plain": [
       "      id        f0        f1        f2     product\n",
       "0  txEyH  0.705745 -0.497823  1.221170  105.280062\n",
       "1  2acmU  1.334711 -0.340164  4.365080   73.037750\n",
       "2  409Wp  1.022732  0.151990  1.419926   85.265647\n",
       "3  iJLyR -0.032172  0.139033  2.978566  168.620776\n",
       "4  Xdl7t  1.988431  0.155413  4.751769  154.036647"
      ]
     },
     "execution_count": 2,
     "metadata": {},
     "output_type": "execute_result"
    }
   ],
   "source": [
    "try:\n",
    "    data0 = pd.read_csv('/datasets/geo_data_0.csv')\n",
    "except FileNotFoundError:\n",
    "    data0 = pa.read_csv('https://code.s3.yandex.net/datasets/geo_data_0.csv')\n",
    "data0.head()"
   ]
  },
  {
   "cell_type": "code",
   "execution_count": 3,
   "metadata": {},
   "outputs": [
    {
     "data": {
      "text/html": [
       "<div>\n",
       "<style scoped>\n",
       "    .dataframe tbody tr th:only-of-type {\n",
       "        vertical-align: middle;\n",
       "    }\n",
       "\n",
       "    .dataframe tbody tr th {\n",
       "        vertical-align: top;\n",
       "    }\n",
       "\n",
       "    .dataframe thead th {\n",
       "        text-align: right;\n",
       "    }\n",
       "</style>\n",
       "<table border=\"1\" class=\"dataframe\">\n",
       "  <thead>\n",
       "    <tr style=\"text-align: right;\">\n",
       "      <th></th>\n",
       "      <th>id</th>\n",
       "      <th>f0</th>\n",
       "      <th>f1</th>\n",
       "      <th>f2</th>\n",
       "      <th>product</th>\n",
       "    </tr>\n",
       "  </thead>\n",
       "  <tbody>\n",
       "    <tr>\n",
       "      <th>0</th>\n",
       "      <td>kBEdx</td>\n",
       "      <td>-15.001348</td>\n",
       "      <td>-8.276000</td>\n",
       "      <td>-0.005876</td>\n",
       "      <td>3.179103</td>\n",
       "    </tr>\n",
       "    <tr>\n",
       "      <th>1</th>\n",
       "      <td>62mP7</td>\n",
       "      <td>14.272088</td>\n",
       "      <td>-3.475083</td>\n",
       "      <td>0.999183</td>\n",
       "      <td>26.953261</td>\n",
       "    </tr>\n",
       "    <tr>\n",
       "      <th>2</th>\n",
       "      <td>vyE1P</td>\n",
       "      <td>6.263187</td>\n",
       "      <td>-5.948386</td>\n",
       "      <td>5.001160</td>\n",
       "      <td>134.766305</td>\n",
       "    </tr>\n",
       "    <tr>\n",
       "      <th>3</th>\n",
       "      <td>KcrkZ</td>\n",
       "      <td>-13.081196</td>\n",
       "      <td>-11.506057</td>\n",
       "      <td>4.999415</td>\n",
       "      <td>137.945408</td>\n",
       "    </tr>\n",
       "    <tr>\n",
       "      <th>4</th>\n",
       "      <td>AHL4O</td>\n",
       "      <td>12.702195</td>\n",
       "      <td>-8.147433</td>\n",
       "      <td>5.004363</td>\n",
       "      <td>134.766305</td>\n",
       "    </tr>\n",
       "  </tbody>\n",
       "</table>\n",
       "</div>"
      ],
      "text/plain": [
       "      id         f0         f1        f2     product\n",
       "0  kBEdx -15.001348  -8.276000 -0.005876    3.179103\n",
       "1  62mP7  14.272088  -3.475083  0.999183   26.953261\n",
       "2  vyE1P   6.263187  -5.948386  5.001160  134.766305\n",
       "3  KcrkZ -13.081196 -11.506057  4.999415  137.945408\n",
       "4  AHL4O  12.702195  -8.147433  5.004363  134.766305"
      ]
     },
     "execution_count": 3,
     "metadata": {},
     "output_type": "execute_result"
    }
   ],
   "source": [
    "try:\n",
    "    data1 = pd.read_csv('/datasets/geo_data_1.csv')\n",
    "except FileNotFoundError:\n",
    "    data1 = pa.read_csv('https://code.s3.yandex.net/datasets/geo_data_0.csv')\n",
    "data1.head()\n"
   ]
  },
  {
   "cell_type": "code",
   "execution_count": 4,
   "metadata": {
    "scrolled": true
   },
   "outputs": [
    {
     "data": {
      "text/html": [
       "<div>\n",
       "<style scoped>\n",
       "    .dataframe tbody tr th:only-of-type {\n",
       "        vertical-align: middle;\n",
       "    }\n",
       "\n",
       "    .dataframe tbody tr th {\n",
       "        vertical-align: top;\n",
       "    }\n",
       "\n",
       "    .dataframe thead th {\n",
       "        text-align: right;\n",
       "    }\n",
       "</style>\n",
       "<table border=\"1\" class=\"dataframe\">\n",
       "  <thead>\n",
       "    <tr style=\"text-align: right;\">\n",
       "      <th></th>\n",
       "      <th>id</th>\n",
       "      <th>f0</th>\n",
       "      <th>f1</th>\n",
       "      <th>f2</th>\n",
       "      <th>product</th>\n",
       "    </tr>\n",
       "  </thead>\n",
       "  <tbody>\n",
       "    <tr>\n",
       "      <th>0</th>\n",
       "      <td>fwXo0</td>\n",
       "      <td>-1.146987</td>\n",
       "      <td>0.963328</td>\n",
       "      <td>-0.828965</td>\n",
       "      <td>27.758673</td>\n",
       "    </tr>\n",
       "    <tr>\n",
       "      <th>1</th>\n",
       "      <td>WJtFt</td>\n",
       "      <td>0.262778</td>\n",
       "      <td>0.269839</td>\n",
       "      <td>-2.530187</td>\n",
       "      <td>56.069697</td>\n",
       "    </tr>\n",
       "    <tr>\n",
       "      <th>2</th>\n",
       "      <td>ovLUW</td>\n",
       "      <td>0.194587</td>\n",
       "      <td>0.289035</td>\n",
       "      <td>-5.586433</td>\n",
       "      <td>62.871910</td>\n",
       "    </tr>\n",
       "    <tr>\n",
       "      <th>3</th>\n",
       "      <td>q6cA6</td>\n",
       "      <td>2.236060</td>\n",
       "      <td>-0.553760</td>\n",
       "      <td>0.930038</td>\n",
       "      <td>114.572842</td>\n",
       "    </tr>\n",
       "    <tr>\n",
       "      <th>4</th>\n",
       "      <td>WPMUX</td>\n",
       "      <td>-0.515993</td>\n",
       "      <td>1.716266</td>\n",
       "      <td>5.899011</td>\n",
       "      <td>149.600746</td>\n",
       "    </tr>\n",
       "  </tbody>\n",
       "</table>\n",
       "</div>"
      ],
      "text/plain": [
       "      id        f0        f1        f2     product\n",
       "0  fwXo0 -1.146987  0.963328 -0.828965   27.758673\n",
       "1  WJtFt  0.262778  0.269839 -2.530187   56.069697\n",
       "2  ovLUW  0.194587  0.289035 -5.586433   62.871910\n",
       "3  q6cA6  2.236060 -0.553760  0.930038  114.572842\n",
       "4  WPMUX -0.515993  1.716266  5.899011  149.600746"
      ]
     },
     "execution_count": 4,
     "metadata": {},
     "output_type": "execute_result"
    }
   ],
   "source": [
    "try:\n",
    "    data2 = pd.read_csv('/datasets/geo_data_2.csv')\n",
    "except FileNotFoundError:\n",
    "    data2 = pa.read_csv('https://code.s3.yandex.net/datasets/geo_data_0.csv')\n",
    "data2.head()"
   ]
  },
  {
   "cell_type": "markdown",
   "metadata": {},
   "source": [
    "---данные выгрузились корректно"
   ]
  },
  {
   "cell_type": "markdown",
   "metadata": {},
   "source": [
    "### Первичный осмотр данных"
   ]
  },
  {
   "cell_type": "code",
   "execution_count": 5,
   "metadata": {},
   "outputs": [
    {
     "name": "stdout",
     "output_type": "stream",
     "text": [
      "<class 'pandas.core.frame.DataFrame'>\n",
      "RangeIndex: 100000 entries, 0 to 99999\n",
      "Data columns (total 5 columns):\n",
      " #   Column   Non-Null Count   Dtype  \n",
      "---  ------   --------------   -----  \n",
      " 0   id       100000 non-null  object \n",
      " 1   f0       100000 non-null  float64\n",
      " 2   f1       100000 non-null  float64\n",
      " 3   f2       100000 non-null  float64\n",
      " 4   product  100000 non-null  float64\n",
      "dtypes: float64(4), object(1)\n",
      "memory usage: 3.8+ MB\n",
      "<class 'pandas.core.frame.DataFrame'>\n",
      "RangeIndex: 100000 entries, 0 to 99999\n",
      "Data columns (total 5 columns):\n",
      " #   Column   Non-Null Count   Dtype  \n",
      "---  ------   --------------   -----  \n",
      " 0   id       100000 non-null  object \n",
      " 1   f0       100000 non-null  float64\n",
      " 2   f1       100000 non-null  float64\n",
      " 3   f2       100000 non-null  float64\n",
      " 4   product  100000 non-null  float64\n",
      "dtypes: float64(4), object(1)\n",
      "memory usage: 3.8+ MB\n",
      "<class 'pandas.core.frame.DataFrame'>\n",
      "RangeIndex: 100000 entries, 0 to 99999\n",
      "Data columns (total 5 columns):\n",
      " #   Column   Non-Null Count   Dtype  \n",
      "---  ------   --------------   -----  \n",
      " 0   id       100000 non-null  object \n",
      " 1   f0       100000 non-null  float64\n",
      " 2   f1       100000 non-null  float64\n",
      " 3   f2       100000 non-null  float64\n",
      " 4   product  100000 non-null  float64\n",
      "dtypes: float64(4), object(1)\n",
      "memory usage: 3.8+ MB\n"
     ]
    }
   ],
   "source": [
    "data0.info()\n",
    "data1.info()\n",
    "data2.info()"
   ]
  },
  {
   "cell_type": "markdown",
   "metadata": {},
   "source": [
    "---в данных отсутсвуют пропуски, состоят из числовых и текстовых данных"
   ]
  },
  {
   "cell_type": "code",
   "execution_count": 6,
   "metadata": {},
   "outputs": [
    {
     "data": {
      "text/plain": [
       "(100000, 5)"
      ]
     },
     "execution_count": 6,
     "metadata": {},
     "output_type": "execute_result"
    }
   ],
   "source": [
    "data0.duplicated().value_counts() #явных дупликатов нет, все данные заполненны\n",
    "data0.shape"
   ]
  },
  {
   "cell_type": "code",
   "execution_count": 7,
   "metadata": {},
   "outputs": [
    {
     "data": {
      "text/plain": [
       "(100000, 5)"
      ]
     },
     "execution_count": 7,
     "metadata": {},
     "output_type": "execute_result"
    }
   ],
   "source": [
    "data1.duplicated().value_counts()#явных дупликатов нет, все данные заполненны\n",
    "data1.shape"
   ]
  },
  {
   "cell_type": "code",
   "execution_count": 8,
   "metadata": {
    "scrolled": true
   },
   "outputs": [
    {
     "data": {
      "text/plain": [
       "(100000, 5)"
      ]
     },
     "execution_count": 8,
     "metadata": {},
     "output_type": "execute_result"
    }
   ],
   "source": [
    "data2.duplicated().value_counts()#явных дупликатов нет, все данные заполненны\n",
    "data2.shape"
   ]
  },
  {
   "cell_type": "markdown",
   "metadata": {},
   "source": [
    "---явных дупликатов нет, выборки равны друг другу по размеру, состоят из 100тыс.строк и 5 колонок"
   ]
  },
  {
   "cell_type": "code",
   "execution_count": 9,
   "metadata": {},
   "outputs": [
    {
     "name": "stdout",
     "output_type": "stream",
     "text": [
      "                  f0             f1             f2        product\n",
      "count  100000.000000  100000.000000  100000.000000  100000.000000\n",
      "mean        0.500419       0.250143       2.502647      92.500000\n",
      "std         0.871832       0.504433       3.248248      44.288691\n",
      "min        -1.408605      -0.848218     -12.088328       0.000000\n",
      "25%        -0.072580      -0.200881       0.287748      56.497507\n",
      "50%         0.502360       0.250252       2.515969      91.849972\n",
      "75%         1.073581       0.700646       4.715088     128.564089\n",
      "max         2.362331       1.343769      16.003790     185.364347\n",
      "\n",
      "                  f0             f1             f2        product\n",
      "count  100000.000000  100000.000000  100000.000000  100000.000000\n",
      "mean        1.141296      -4.796579       2.494541      68.825000\n",
      "std         8.965932       5.119872       1.703572      45.944423\n",
      "min       -31.609576     -26.358598      -0.018144       0.000000\n",
      "25%        -6.298551      -8.267985       1.000021      26.953261\n",
      "50%         1.153055      -4.813172       2.011479      57.085625\n",
      "75%         8.621015      -1.332816       3.999904     107.813044\n",
      "max        29.421755      18.734063       5.019721     137.945408\n",
      "\n",
      "                  f0             f1             f2        product\n",
      "count  100000.000000  100000.000000  100000.000000  100000.000000\n",
      "mean        0.002023      -0.002081       2.495128      95.000000\n",
      "std         1.732045       1.730417       3.473445      44.749921\n",
      "min        -8.760004      -7.084020     -11.970335       0.000000\n",
      "25%        -1.162288      -1.174820       0.130359      59.450441\n",
      "50%         0.009424      -0.009482       2.484236      94.925613\n",
      "75%         1.158535       1.163678       4.858794     130.595027\n",
      "max         7.238262       7.844801      16.739402     190.029838\n"
     ]
    }
   ],
   "source": [
    "print(data0.describe(), data1.describe(), data2.describe(), sep='\\n\\n')"
   ]
  },
  {
   "cell_type": "code",
   "execution_count": 10,
   "metadata": {
    "scrolled": true
   },
   "outputs": [
    {
     "name": "stdout",
     "output_type": "stream",
     "text": [
      "               f0        f1        f2   product\n",
      "f0       1.000000 -0.440723 -0.003153  0.143536\n",
      "f1      -0.440723  1.000000  0.001724 -0.192356\n",
      "f2      -0.003153  0.001724  1.000000  0.483663\n",
      "product  0.143536 -0.192356  0.483663  1.000000\n",
      "\n",
      "               f0        f1        f2   product\n",
      "f0       1.000000  0.182287 -0.001777 -0.030491\n",
      "f1       0.182287  1.000000 -0.002595 -0.010155\n",
      "f2      -0.001777 -0.002595  1.000000  0.999397\n",
      "product -0.030491 -0.010155  0.999397  1.000000\n",
      "\n",
      "               f0        f1        f2   product\n",
      "f0       1.000000  0.000528 -0.000448 -0.001987\n",
      "f1       0.000528  1.000000  0.000779 -0.001012\n",
      "f2      -0.000448  0.000779  1.000000  0.445871\n",
      "product -0.001987 -0.001012  0.445871  1.000000\n"
     ]
    }
   ],
   "source": [
    "print(data0.corr(), data1.corr(), data2.corr(), sep='\\n\\n')"
   ]
  },
  {
   "cell_type": "markdown",
   "metadata": {},
   "source": [
    "---данные в целом рабочие, присутсвуют выбросы и нулевые значения. но т.к. мы не знаем, что это за данные, то и бороться с аномалиями считаю некорректным\n",
    "\n",
    "---присутствует очень сильная корреляция во втором датасете, в колонке f2 с целевым признаком. Мы не знаем что это такое, если бы мы знали что это такое,но мы не знаем что это такое, поэтому также считаю некорректным изменять эти данные"
   ]
  },
  {
   "cell_type": "markdown",
   "metadata": {},
   "source": [
    "### Предобработка данных"
   ]
  },
  {
   "cell_type": "code",
   "execution_count": 11,
   "metadata": {},
   "outputs": [],
   "source": [
    "def drop_id(data):\n",
    "    return data.drop(['id'], axis=1)\n",
    "data0 = drop_id(data0)\n",
    "data1 = drop_id(data1)\n",
    "data2 = drop_id(data2)"
   ]
  },
  {
   "cell_type": "markdown",
   "metadata": {},
   "source": [
    "---колонка ID содержит в себе уникальные индификаторы скважин и не имеет статической значимости, поэтому считаю необходимым удалить эти колонки"
   ]
  },
  {
   "cell_type": "markdown",
   "metadata": {},
   "source": [
    "### Выводы о данных"
   ]
  },
  {
   "cell_type": "markdown",
   "metadata": {},
   "source": [
    "---данные выгружены корректно, состоят из численнных значений, не имеют пропусков и могут быть далее использованы в работе.\n",
    "\n",
    "---была удалена колонка с индификаторами\n",
    "\n",
    "--- данные в некоторой степени не равномерны и имеют разные показатели в разных колонках, но т.к. нам не сообщили, что это за показатели, то и бороться с неравномерностью считаю некорректным. \n",
    "\n",
    "--- необходимое примечание - далее данные из выборки data0 буду называть данными из региона 0 и, соответсвенно, с другими регионами - регион 1 и регион 2"
   ]
  },
  {
   "cell_type": "markdown",
   "metadata": {},
   "source": [
    "## Обучение и проверка модели"
   ]
  },
  {
   "cell_type": "markdown",
   "metadata": {},
   "source": [
    "### Разделение данных на обучающую и валидационную выборки в соотношении 75:25."
   ]
  },
  {
   "cell_type": "code",
   "execution_count": 12,
   "metadata": {},
   "outputs": [
    {
     "name": "stdout",
     "output_type": "stream",
     "text": [
      "             f0        f1         f2\n",
      "27212  0.022450  0.951034   2.197333\n",
      "7866   1.766731  0.007835   6.436602\n",
      "62041  0.724514  0.666063   1.840177\n",
      "70185 -1.104181  0.255268   2.026156\n",
      "82230 -0.635263  0.747990   6.643327\n",
      "...         ...       ...        ...\n",
      "4094   1.863680 -0.298123   1.621324\n",
      "85412 -1.162682 -0.014822   6.819941\n",
      "2177   0.862688 -0.403776   1.867662\n",
      "77285  0.846235 -0.489533   1.058786\n",
      "86498  2.019850  0.263887  11.497239\n",
      "\n",
      "[75000 rows x 3 columns]\n",
      "              f0         f1        f2\n",
      "27212  -6.488552  -1.590478  3.001311\n",
      "7866   18.819463   4.602079  2.996867\n",
      "62041  10.816499  -3.919653  1.991077\n",
      "70185 -12.416362  -9.343774  0.996691\n",
      "82230 -15.041012  -8.474624  1.996463\n",
      "...          ...        ...       ...\n",
      "4094   -1.859774  -4.818321  2.998956\n",
      "85412   4.863108  -6.071357  3.990522\n",
      "2177   10.527491  -8.124357  5.004246\n",
      "77285   0.110801 -10.896529  3.005078\n",
      "86498  -4.653214  -4.283936  2.999043\n",
      "\n",
      "[75000 rows x 3 columns]\n",
      "             f0        f1        f2\n",
      "27212 -0.906828  1.339033  1.106789\n",
      "7866  -1.536353 -0.704673 -1.747632\n",
      "62041 -1.959584  0.356044  3.528659\n",
      "70185  2.129734  2.713459 -0.156172\n",
      "82230 -0.332026  1.515604  5.417583\n",
      "...         ...       ...       ...\n",
      "4094  -3.139524  0.684457  8.820754\n",
      "85412 -0.471084 -2.195627  3.350739\n",
      "2177   0.642839  1.375212  4.809140\n",
      "77285 -4.222809  0.191923  4.029111\n",
      "86498 -2.996164  0.676341 -2.447329\n",
      "\n",
      "[75000 rows x 3 columns]\n"
     ]
    }
   ],
   "source": [
    "#pd.options.display.expand_frame_repr = False\n",
    "\n",
    "def separation(data):  #функция по разбивке данных на трейн и валидацию\n",
    "    target = data['product']\n",
    "    target = target.reset_index(drop = True) # сразу скинем индексы, чтобы не было проблем в бустстрапировании\n",
    "    features = data.drop(['product'], axis=1)\n",
    "    return train_test_split(\n",
    "        features, target, test_size=0.25, random_state=12345)\n",
    "\n",
    "print(separation(data0)[0]) #вернулись разделенные данные с первого региона\n",
    "print(separation(data1)[0]) #вернулись разделенные данные со второго региона\n",
    "print(separation(data2)[0]) #вернулись разделенные данные с третьего региона"
   ]
  },
  {
   "cell_type": "markdown",
   "metadata": {},
   "source": [
    "---применил функцию для разделения на выборки в пропорции 75\\25, в целевом признаке сбросил индексы, для корректной работы функции по расчету прибыли и вывел тренировочную часть для проверки корректности работы функции."
   ]
  },
  {
   "cell_type": "markdown",
   "metadata": {},
   "source": [
    "### Обучение моделей и  предсказания на валидационной выборке."
   ]
  },
  {
   "cell_type": "markdown",
   "metadata": {},
   "source": [
    "---применение стандартизации и модели линейной регрессии для первого региона"
   ]
  },
  {
   "cell_type": "code",
   "execution_count": 13,
   "metadata": {},
   "outputs": [],
   "source": [
    "features_train, features_valid, target_train, target_valid = separation(data0)# разделение данных \n",
    "\n",
    "scaler = StandardScaler()\n",
    "features_train = scaler.fit_transform(features_train)\n",
    "features_valid = scaler.transform(features_valid)\n",
    "\n",
    "model = LinearRegression()\n",
    "model.fit(features_train,target_train) # обучение  модели на тренировочной выборке\n",
    "predictions0 = model.predict(features_valid) # получение предсказания модели на валидационной выборке\n",
    "predictions_mean_data0 = predictions0.mean()\n",
    "result0 = mean_squared_error(target_valid, predictions0)**0.5\n",
    "target_valid0 = target_valid.reset_index(drop=True)"
   ]
  },
  {
   "cell_type": "markdown",
   "metadata": {},
   "source": [
    "---применение стандартизации и модели линейной регрессии для второго региона"
   ]
  },
  {
   "cell_type": "code",
   "execution_count": 14,
   "metadata": {},
   "outputs": [],
   "source": [
    "features_train, features_valid, target_train, target_valid = separation(data1)\n",
    "\n",
    "scaler = StandardScaler()\n",
    "features_train = scaler.fit_transform(features_train)\n",
    "features_valid = scaler.transform(features_valid)\n",
    "\n",
    "model = LinearRegression()\n",
    "model.fit(features_train,target_train) # обучение модели на тренировочной выборке\n",
    "predictions1 = model.predict(features_valid) # получение предсказания модели на валидационной выборке\n",
    "predictions_mean_data1 = predictions1.mean()\n",
    "result1 = mean_squared_error(target_valid, predictions1)**0.5\n",
    "target_valid1 = target_valid.reset_index(drop=True)"
   ]
  },
  {
   "cell_type": "markdown",
   "metadata": {},
   "source": [
    "---применение стандартизации и модели линейной регрессии для третьего"
   ]
  },
  {
   "cell_type": "code",
   "execution_count": 15,
   "metadata": {
    "scrolled": true
   },
   "outputs": [],
   "source": [
    "features_train, features_valid, target_train, target_valid = separation(data2)\n",
    "\n",
    "scaler = StandardScaler()\n",
    "features_train = scaler.fit_transform(features_train)\n",
    "features_valid = scaler.transform(features_valid)\n",
    "\n",
    "model = LinearRegression()\n",
    "model.fit(features_train,target_train) # обучение модель на тренировочной выборке\n",
    "predictions2 = model.predict(features_valid) # получение предсказания модели на валидационной выборке\n",
    "predictions_mean_data2 = predictions2.mean()\n",
    "result2 = mean_squared_error(target_valid, predictions2)**0.5\n",
    "target_valid2 = target_valid.reset_index(drop=True)\n"
   ]
  },
  {
   "cell_type": "markdown",
   "metadata": {
    "scrolled": true
   },
   "source": [
    "---предсказания модели и правильные ответы сохранены в ячейках с применениями моделей"
   ]
  },
  {
   "cell_type": "markdown",
   "metadata": {},
   "source": [
    "### Средний запас предсказанного сырья и RMSE модели."
   ]
  },
  {
   "cell_type": "code",
   "execution_count": 16,
   "metadata": {},
   "outputs": [
    {
     "data": {
      "text/html": [
       "<div>\n",
       "<style scoped>\n",
       "    .dataframe tbody tr th:only-of-type {\n",
       "        vertical-align: middle;\n",
       "    }\n",
       "\n",
       "    .dataframe tbody tr th {\n",
       "        vertical-align: top;\n",
       "    }\n",
       "\n",
       "    .dataframe thead th {\n",
       "        text-align: right;\n",
       "    }\n",
       "</style>\n",
       "<table border=\"1\" class=\"dataframe\">\n",
       "  <thead>\n",
       "    <tr style=\"text-align: right;\">\n",
       "      <th></th>\n",
       "      <th>ПРЕДСКАЗАННОЕ СРЕДНЕЕ</th>\n",
       "      <th>RMSE</th>\n",
       "      <th>ЦЕЛЕВОЕ СРЕДНЕЕ</th>\n",
       "    </tr>\n",
       "  </thead>\n",
       "  <tbody>\n",
       "    <tr>\n",
       "      <th>РЕГИОН 0</th>\n",
       "      <td>92.592568</td>\n",
       "      <td>37.579422</td>\n",
       "      <td>92.078597</td>\n",
       "    </tr>\n",
       "    <tr>\n",
       "      <th>РЕГИОН 1</th>\n",
       "      <td>68.728547</td>\n",
       "      <td>0.893099</td>\n",
       "      <td>68.723136</td>\n",
       "    </tr>\n",
       "    <tr>\n",
       "      <th>РЕГИОН 2</th>\n",
       "      <td>94.965046</td>\n",
       "      <td>40.029709</td>\n",
       "      <td>94.884233</td>\n",
       "    </tr>\n",
       "  </tbody>\n",
       "</table>\n",
       "</div>"
      ],
      "text/plain": [
       "          ПРЕДСКАЗАННОЕ СРЕДНЕЕ       RMSE  ЦЕЛЕВОЕ СРЕДНЕЕ\n",
       "РЕГИОН 0              92.592568  37.579422        92.078597\n",
       "РЕГИОН 1              68.728547   0.893099        68.723136\n",
       "РЕГИОН 2              94.965046  40.029709        94.884233"
      ]
     },
     "execution_count": 16,
     "metadata": {},
     "output_type": "execute_result"
    }
   ],
   "source": [
    "target_valid = target_valid0.mean(), target_valid1.mean(), target_valid2.mean()\n",
    "\n",
    "result = result0, result1, result2\n",
    "prediction_mean = predictions_mean_data0, predictions_mean_data1, predictions_mean_data2\n",
    "means_err = pd.DataFrame({'ПРЕДСКАЗАННОЕ СРЕДНЕЕ': prediction_mean, 'RMSE': result, 'ЦЕЛЕВОЕ СРЕДНЕЕ': target_valid}, index = ['РЕГИОН 0', 'РЕГИОН 1', 'РЕГИОН 2'])\n",
    "means_err"
   ]
  },
  {
   "cell_type": "markdown",
   "metadata": {},
   "source": [
    "### Анализ результатов"
   ]
  },
  {
   "cell_type": "markdown",
   "metadata": {},
   "source": [
    "--- в целом предсказанное и среднее по целевому признаку у каждого региона не сильно различаются, но т.к. подразумевается работа с бюджетом нескольких мегаполисов, то и суммы, скрывающиеся за долями процентов могут быть огромными.\n",
    "\n",
    "---самая низкая средняя квадратичная ошибка у второго региона, но и доля целевого признака у него несколько меньше остальных. Можно было бы указать, что по предсказанию модели, мы можем выбрать регион 3, как самый перспективный. Но чтобы минимизировать риски, необходимо поработать с данными дальше"
   ]
  },
  {
   "cell_type": "markdown",
   "metadata": {},
   "source": [
    "## Подготовка к расчёту прибыли"
   ]
  },
  {
   "cell_type": "markdown",
   "metadata": {},
   "source": [
    "### Все ключевые значения для расчётов сохраним в отдельных переменных."
   ]
  },
  {
   "cell_type": "markdown",
   "metadata": {},
   "source": [
    "Для обучения модели подходит только линейная регрессия (остальные — недостаточно предсказуемые).\n",
    "При разведке региона исследуют 500 точек, из которых с помощью машинного обучения выбирают 200 лучших для разработки.\n",
    "Бюджет на разработку скважин в регионе — 10 млрд рублей.\n",
    "При нынешних ценах один баррель сырья приносит 450 рублей дохода. Доход с каждой единицы продукта составляет 450 тыс. рублей, поскольку объём указан в тысячах баррелей.\n",
    "После оценки рисков нужно оставить лишь те регионы, в которых вероятность убытков меньше 2.5%. Среди них выбирают регион с наибольшей средней прибылью."
   ]
  },
  {
   "cell_type": "code",
   "execution_count": 17,
   "metadata": {},
   "outputs": [],
   "source": [
    "n = 500 #число точек для разведки в регионе\n",
    "n_top_200 = 200 #число точек для разработки в регионе\n",
    "budget = 10**10 #бюджет для разработки в регионе\n",
    "revenue_per_unit = 450 * 10**3 #доход с каждой единицы продукта(объем указан в тыс. баррелей)\n",
    "losses_proba_limit = 2.5 #вероятность убытков должна быть меньше 2.5%"
   ]
  },
  {
   "cell_type": "markdown",
   "metadata": {},
   "source": [
    "### Расчет достаточного объема сырья"
   ]
  },
  {
   "cell_type": "markdown",
   "metadata": {},
   "source": [
    "достаточный объём сырья для безубыточной разработки новой скважины"
   ]
  },
  {
   "cell_type": "code",
   "execution_count": 18,
   "metadata": {},
   "outputs": [
    {
     "name": "stdout",
     "output_type": "stream",
     "text": [
      "Достаточный объём сырья для безубыточной разработки новой скважины: 111 тыс. баррелей\n"
     ]
    }
   ],
   "source": [
    "sufficient_volume = budget / n_top_200 / revenue_per_unit\n",
    "\n",
    "print(\"Достаточный объём сырья для безубыточной разработки новой скважины: {0:.0f} тыс. баррелей\".format(sufficient_volume))"
   ]
  },
  {
   "cell_type": "code",
   "execution_count": 19,
   "metadata": {},
   "outputs": [],
   "source": [
    "#среднее по целевому признаку в каждом регионе\n",
    "sufficient_volume0 = (round(data0[\"product\"]).mean())\n",
    "sufficient_volume1 =  (round(data1[\"product\"]).mean())\n",
    "sufficient_volume2 =  (round(data2[\"product\"]).mean())"
   ]
  },
  {
   "cell_type": "code",
   "execution_count": 20,
   "metadata": {},
   "outputs": [
    {
     "name": "stdout",
     "output_type": "stream",
     "text": [
      "В регионе 0 недостаточный объём сырья для безубыточной разработки, средние запасы =  92.50062\n",
      "В регионе 1 недостаточный объём сырья для безубыточной разработки, средние запасы =  68.85204\n",
      "В регионе 2 недостаточный объём сырья для безубыточной разработки, средние запасы =  94.99858\n"
     ]
    }
   ],
   "source": [
    "def sufficient_volumes(x, n):\n",
    "    if x >= sufficient_volume:\n",
    "        print('Достаточный объём сырья для безубыточной разработки в регионе', n, 'средние запасы = ', x)\n",
    "    else:\n",
    "        print('В регионе', n, 'недостаточный объём сырья для безубыточной разработки, средние запасы = ', x)\n",
    "        \n",
    "        \n",
    "sufficient_volumes(sufficient_volume0, 0)\n",
    "sufficient_volumes(sufficient_volume1, 1)\n",
    "sufficient_volumes(sufficient_volume2, 2)"
   ]
  },
  {
   "cell_type": "markdown",
   "metadata": {},
   "source": [
    "### Выводы по этапу подготовки расчёта прибыли"
   ]
  },
  {
   "cell_type": "markdown",
   "metadata": {},
   "source": [
    "--- по усредненным данным ни один из регионов не может быть прибыльным. Для безубыточной разработки необходим объем сырья более 110т.бар., в то время, как в каждом регионе менее 100т.бар.. Возможно, что для разработки можно было бы принять за основной регион 2, с максимальным показателем средних запасов - 95.т.бар. Но это среднее взято из выборки в 100т. скважин. \n",
    "\n",
    "--- но из статистики мы знаем, что среднее не значит истинное. поэтому необходимо уточнить, насколько мы уверенны в этом показателе"
   ]
  },
  {
   "cell_type": "markdown",
   "metadata": {},
   "source": [
    "## Функция для расчёта прибыли по выбранным скважинам и предсказаниям модели"
   ]
  },
  {
   "cell_type": "code",
   "execution_count": 21,
   "metadata": {},
   "outputs": [],
   "source": [
    "def revenue(target_valid, predicted_valid, count):\n",
    "    target = pd.Series(target_valid,index=target_valid.index)#составление колонки из целевого признака\n",
    "    probabilities = pd.Series(predicted_valid,index=target.index)\n",
    "    probs_sorted = probabilities.sort_values(ascending=False)#сортировка предказаний модели\n",
    "    selected = target.loc[probs_sorted.index][:count]#отбор 200 скважин\n",
    "    return (revenue_per_unit * selected.sum())-budget#формула прибыли"
   ]
  },
  {
   "cell_type": "markdown",
   "metadata": {},
   "source": [
    "---функция для расчета прибыли , выбора скважин по сортировке и по прибыли для полученного объема"
   ]
  },
  {
   "cell_type": "markdown",
   "metadata": {},
   "source": [
    "### Выбор скважины с максимальными значениями предсказаний. "
   ]
  },
  {
   "cell_type": "code",
   "execution_count": 22,
   "metadata": {},
   "outputs": [],
   "source": [
    "revenue_0 = revenue(target_valid0, predictions0, 200)"
   ]
  },
  {
   "cell_type": "code",
   "execution_count": 23,
   "metadata": {},
   "outputs": [],
   "source": [
    "revenue_1 = revenue(target_valid1, predictions1, 200)"
   ]
  },
  {
   "cell_type": "code",
   "execution_count": 24,
   "metadata": {},
   "outputs": [],
   "source": [
    "revenue_2 = revenue(target_valid2, predictions2, 200)"
   ]
  },
  {
   "cell_type": "markdown",
   "metadata": {},
   "source": [
    "### Рассчет прибыли для полученного объёма сырья."
   ]
  },
  {
   "cell_type": "code",
   "execution_count": 25,
   "metadata": {
    "scrolled": true
   },
   "outputs": [
    {
     "data": {
      "text/html": [
       "<div>\n",
       "<style scoped>\n",
       "    .dataframe tbody tr th:only-of-type {\n",
       "        vertical-align: middle;\n",
       "    }\n",
       "\n",
       "    .dataframe tbody tr th {\n",
       "        vertical-align: top;\n",
       "    }\n",
       "\n",
       "    .dataframe thead th {\n",
       "        text-align: right;\n",
       "    }\n",
       "</style>\n",
       "<table border=\"1\" class=\"dataframe\">\n",
       "  <thead>\n",
       "    <tr style=\"text-align: right;\">\n",
       "      <th></th>\n",
       "      <th>ПРЕДСКАЗАННЫЕ ЗНАЧЕНИЯ ПРИБЫЛИ</th>\n",
       "    </tr>\n",
       "  </thead>\n",
       "  <tbody>\n",
       "    <tr>\n",
       "      <th>РЕГИОН 0</th>\n",
       "      <td>3.320826e+09</td>\n",
       "    </tr>\n",
       "    <tr>\n",
       "      <th>РЕГИОН 1</th>\n",
       "      <td>2.415087e+09</td>\n",
       "    </tr>\n",
       "    <tr>\n",
       "      <th>РЕГИОН 2</th>\n",
       "      <td>2.710350e+09</td>\n",
       "    </tr>\n",
       "  </tbody>\n",
       "</table>\n",
       "</div>"
      ],
      "text/plain": [
       "          ПРЕДСКАЗАННЫЕ ЗНАЧЕНИЯ ПРИБЫЛИ\n",
       "РЕГИОН 0                    3.320826e+09\n",
       "РЕГИОН 1                    2.415087e+09\n",
       "РЕГИОН 2                    2.710350e+09"
      ]
     },
     "execution_count": 25,
     "metadata": {},
     "output_type": "execute_result"
    }
   ],
   "source": [
    "result = revenue_0, revenue_1, revenue_2\n",
    "revenue_all = pd.DataFrame({'ПРЕДСКАЗАННЫЕ ЗНАЧЕНИЯ ПРИБЫЛИ': result, }, index = ['РЕГИОН 0', 'РЕГИОН 1', 'РЕГИОН 2'])\n",
    "revenue_all"
   ]
  },
  {
   "cell_type": "markdown",
   "metadata": {},
   "source": [
    "---в предсказанной прибыли, также, как и в средних показателях залежей, можно увидеть, что регион 0 и регион 2 имеют болший показатель и должны быть рекомендованны, как наиболее перспективные"
   ]
  },
  {
   "cell_type": "markdown",
   "metadata": {},
   "source": [
    "## Расчёт прибыли и рисков "
   ]
  },
  {
   "cell_type": "markdown",
   "metadata": {},
   "source": [
    "---на этом этапе, чтобы минимизировать ошибку, мы применим технику бутсрепа - создадим тысячу случайных выборок для усреднения данных. согласно ЦПТ - чем больше данных, тем истиннее среднее\n",
    "\n",
    "---далее мы выберем доверительный  интервал и посчитаем риск убытка - насколько сильно данные могут нас увести в минус"
   ]
  },
  {
   "cell_type": "markdown",
   "metadata": {},
   "source": [
    "### Примение техники Bootstrap с 1000 выборок, чтобы найти распределение прибыли"
   ]
  },
  {
   "cell_type": "code",
   "execution_count": 26,
   "metadata": {},
   "outputs": [
    {
     "name": "stdout",
     "output_type": "stream",
     "text": [
      "425,938,526.91\n",
      "-102,090,094.84\n",
      "947,976,353.36\n",
      "(6.0, '%')\n"
     ]
    }
   ],
   "source": [
    "state = np.random.RandomState(12345)\n",
    "\n",
    "values = []\n",
    "for i in range(1000):\n",
    "    target_sub = target_valid0.reset_index(drop = True).sample(n = 500, replace = True, random_state = state)\n",
    "    valid_sub = predictions0[target_sub.index]\n",
    "    values.append(revenue(target_sub, valid_sub, 200))\n",
    "\n",
    "values = pd.Series(values)\n",
    "    \n",
    "lower0 = values.quantile(0.025)\n",
    "upper0 = values.quantile(0.975)\n",
    "mean0 = values.mean()\n",
    "risk0 = ((values < 0).mean() * 100, '%')\n",
    "\n",
    "print(f'{mean0:,.2f}')\n",
    "print(f'{lower0:,.2f}')\n",
    "print(f'{upper0:,.2f}')\n",
    "\n",
    "print(risk0)"
   ]
  },
  {
   "cell_type": "code",
   "execution_count": 27,
   "metadata": {},
   "outputs": [
    {
     "name": "stdout",
     "output_type": "stream",
     "text": [
      "515,222,773.44\n",
      "68,873,225.37\n",
      "931,547,591.26\n",
      "(1.0, '%')\n"
     ]
    }
   ],
   "source": [
    "state = np.random.RandomState(12345)\n",
    "\n",
    "values = []\n",
    "for i in range(1000):\n",
    "    target_sub = target_valid1.reset_index(drop = True).sample(n = 500, replace = True, random_state = state)\n",
    "    valid_sub = predictions1[target_sub.index]\n",
    "    values.append(revenue(target_sub, valid_sub, 200))\n",
    "\n",
    "values = pd.Series(values)\n",
    "    \n",
    "lower1 = values.quantile(0.025)\n",
    "upper1 = values.quantile(0.975)\n",
    "mean1 = values.mean()\n",
    "risk1 = ((values < 0).mean() * 100, '%')\n",
    "print(f'{mean1:,.2f}')\n",
    "print(f'{lower1:,.2f}')\n",
    "print(f'{upper1:,.2f}')\n",
    "\n",
    "print(risk1)"
   ]
  },
  {
   "cell_type": "code",
   "execution_count": 28,
   "metadata": {},
   "outputs": [
    {
     "name": "stdout",
     "output_type": "stream",
     "text": [
      "435,008,362.78\n",
      "-128,880,547.33\n",
      "969,706,954.18\n",
      "(6.4, '%')\n"
     ]
    }
   ],
   "source": [
    "state = np.random.RandomState(12345)\n",
    "\n",
    "values = []\n",
    "for i in range(1000):\n",
    "    target_sub = target_valid2.reset_index(drop = True).sample(n = 500, replace = True, random_state = state)\n",
    "    valid_sub = predictions2[target_sub.index]\n",
    "    values.append(revenue(target_sub, valid_sub, 200))\n",
    "\n",
    "values = pd.Series(values)\n",
    "    \n",
    "lower2 = values.quantile(0.025)\n",
    "upper2 = values.quantile(0.975)\n",
    "mean2 = values.mean()\n",
    "risk2 = (values < 0).mean() * 100, '%'\n",
    "print(f'{mean2:,.2f}')\n",
    "print(f'{lower2:,.2f}')\n",
    "print(f'{upper2:,.2f}')\n",
    "\n",
    "print(risk2)"
   ]
  },
  {
   "cell_type": "code",
   "execution_count": 29,
   "metadata": {},
   "outputs": [
    {
     "data": {
      "text/html": [
       "<div>\n",
       "<style scoped>\n",
       "    .dataframe tbody tr th:only-of-type {\n",
       "        vertical-align: middle;\n",
       "    }\n",
       "\n",
       "    .dataframe tbody tr th {\n",
       "        vertical-align: top;\n",
       "    }\n",
       "\n",
       "    .dataframe thead th {\n",
       "        text-align: right;\n",
       "    }\n",
       "</style>\n",
       "<table border=\"1\" class=\"dataframe\">\n",
       "  <thead>\n",
       "    <tr style=\"text-align: right;\">\n",
       "      <th></th>\n",
       "      <th>ВЕРХНИЙ ПРЕДЕЛ</th>\n",
       "      <th>НИЖНИЙ ПРЕДЕЛ</th>\n",
       "      <th>СРЕДНЕЕ</th>\n",
       "      <th>РИСК УБЫТКА:</th>\n",
       "    </tr>\n",
       "  </thead>\n",
       "  <tbody>\n",
       "    <tr>\n",
       "      <th>Region0</th>\n",
       "      <td>9.479764e+08</td>\n",
       "      <td>-1.020901e+08</td>\n",
       "      <td>4.259385e+08</td>\n",
       "      <td>(6.0, %)</td>\n",
       "    </tr>\n",
       "    <tr>\n",
       "      <th>Region1</th>\n",
       "      <td>9.315476e+08</td>\n",
       "      <td>6.887323e+07</td>\n",
       "      <td>5.152228e+08</td>\n",
       "      <td>(1.0, %)</td>\n",
       "    </tr>\n",
       "    <tr>\n",
       "      <th>Region2</th>\n",
       "      <td>9.697070e+08</td>\n",
       "      <td>-1.288805e+08</td>\n",
       "      <td>4.350084e+08</td>\n",
       "      <td>(6.4, %)</td>\n",
       "    </tr>\n",
       "  </tbody>\n",
       "</table>\n",
       "</div>"
      ],
      "text/plain": [
       "         ВЕРХНИЙ ПРЕДЕЛ  НИЖНИЙ ПРЕДЕЛ       СРЕДНЕЕ РИСК УБЫТКА:\n",
       "Region0    9.479764e+08  -1.020901e+08  4.259385e+08     (6.0, %)\n",
       "Region1    9.315476e+08   6.887323e+07  5.152228e+08     (1.0, %)\n",
       "Region2    9.697070e+08  -1.288805e+08  4.350084e+08     (6.4, %)"
      ]
     },
     "execution_count": 29,
     "metadata": {},
     "output_type": "execute_result"
    }
   ],
   "source": [
    "mean_all = mean0, mean1, mean2\n",
    "lower_all = lower0, lower1, lower2\n",
    "upper_all = upper0, upper1, upper2\n",
    "risk_all = risk0, risk1, risk2\n",
    "means_err = pd.DataFrame({'ВЕРХНИЙ ПРЕДЕЛ': upper_all, 'НИЖНИЙ ПРЕДЕЛ': lower_all, 'СРЕДНЕЕ': mean_all,\n",
    "                         'РИСК УБЫТКА:': risk_all}, index = ['Region0', 'Region1', 'Region2'])\n",
    "means_err"
   ]
  },
  {
   "cell_type": "markdown",
   "metadata": {},
   "source": [
    "---для регионов посчитанна прибыль и найдено распределение прибыли"
   ]
  },
  {
   "cell_type": "markdown",
   "metadata": {},
   "source": [
    "### Выводы: предложение региона для разработки скважин"
   ]
  },
  {
   "cell_type": "markdown",
   "metadata": {},
   "source": [
    "--- Выгруженные данные были изучены и обработаны, некоторые аномалии изучены - выбросы, корреляция, но не обработаны, т.к. данные не расшифрованы\n",
    "\n",
    "--- После обработки и разделения данных модель линейной регрессии обучена для каждого отдельного региона и сохраненны предсказания в отдельные переменные\n",
    "\n",
    "--- Дальнейший анализ показал, что регион 2 имеет высокий показатель по средним залежам сырья\n",
    "\n",
    "--- Регион 0 имел высокий показатель по предсказанной прибыли \n",
    "\n",
    "--- Но после имитации правильного  распределния прибыли в указанных регионах был найден риск убытка не ниже 6%, в то время, как в регионе 1, несмотря на не высокие показатели средних запасов и невысокой предсказанной прибыли, риск убытка составляет 1 % и доверительный интервал самый высокий из предложенных\n",
    "\n",
    "--- На основании предидущего пункта считаю возможным предложить регион 1(скачанный data1) для разработки скважин, как наиболее приыбльный и максимально лишенный риска убытка"
   ]
  }
 ],
 "metadata": {
  "ExecuteTimeLog": [
   {
    "duration": 62,
    "start_time": "2023-01-17T08:31:12.124Z"
   },
   {
    "duration": 420,
    "start_time": "2023-01-17T08:31:36.381Z"
   },
   {
    "duration": 29,
    "start_time": "2023-01-17T08:31:36.804Z"
   },
   {
    "duration": 353,
    "start_time": "2023-01-17T08:31:56.944Z"
   },
   {
    "duration": 63,
    "start_time": "2023-01-17T08:31:57.298Z"
   },
   {
    "duration": 10734,
    "start_time": "2023-01-17T08:33:13.777Z"
   },
   {
    "duration": 49,
    "start_time": "2023-01-17T08:33:37.857Z"
   },
   {
    "duration": 377,
    "start_time": "2023-01-17T08:33:49.975Z"
   },
   {
    "duration": 134,
    "start_time": "2023-01-17T08:34:52.895Z"
   },
   {
    "duration": 575,
    "start_time": "2023-01-17T08:35:18.512Z"
   },
   {
    "duration": 563,
    "start_time": "2023-01-17T08:35:31.767Z"
   },
   {
    "duration": 141,
    "start_time": "2023-01-17T08:40:06.936Z"
   },
   {
    "duration": 37,
    "start_time": "2023-01-17T08:40:47.880Z"
   },
   {
    "duration": 36,
    "start_time": "2023-01-17T08:40:59.202Z"
   },
   {
    "duration": 51,
    "start_time": "2023-01-23T08:05:22.255Z"
   },
   {
    "duration": 11293,
    "start_time": "2023-01-23T08:05:27.219Z"
   },
   {
    "duration": 538,
    "start_time": "2023-01-23T08:05:38.514Z"
   },
   {
    "duration": 193,
    "start_time": "2023-01-23T08:05:39.053Z"
   },
   {
    "duration": 195,
    "start_time": "2023-01-23T08:05:39.248Z"
   },
   {
    "duration": 36,
    "start_time": "2023-01-23T08:05:39.445Z"
   },
   {
    "duration": 82,
    "start_time": "2023-01-23T08:05:39.482Z"
   },
   {
    "duration": 26,
    "start_time": "2023-01-23T08:05:50.503Z"
   },
   {
    "duration": 4,
    "start_time": "2023-01-23T08:06:07.144Z"
   },
   {
    "duration": 4,
    "start_time": "2023-01-23T08:06:10.479Z"
   },
   {
    "duration": 4,
    "start_time": "2023-01-23T08:06:24.064Z"
   },
   {
    "duration": 3,
    "start_time": "2023-01-23T08:06:49.990Z"
   },
   {
    "duration": 3,
    "start_time": "2023-01-23T08:06:50.655Z"
   },
   {
    "duration": 4,
    "start_time": "2023-01-23T08:06:51.532Z"
   },
   {
    "duration": 4,
    "start_time": "2023-01-23T08:07:18.977Z"
   },
   {
    "duration": 58,
    "start_time": "2023-01-23T08:07:23.933Z"
   },
   {
    "duration": 44,
    "start_time": "2023-01-23T08:07:28.804Z"
   },
   {
    "duration": 43,
    "start_time": "2023-01-23T08:07:46.576Z"
   },
   {
    "duration": 46,
    "start_time": "2023-01-23T08:08:03.090Z"
   },
   {
    "duration": 39,
    "start_time": "2023-01-23T08:08:29.634Z"
   },
   {
    "duration": 45,
    "start_time": "2023-01-23T08:08:30.940Z"
   },
   {
    "duration": 4708,
    "start_time": "2023-01-23T08:28:49.318Z"
   },
   {
    "duration": 32,
    "start_time": "2023-01-23T08:32:45.478Z"
   },
   {
    "duration": 47,
    "start_time": "2023-01-23T08:34:33.604Z"
   },
   {
    "duration": 34,
    "start_time": "2023-01-23T08:34:44.230Z"
   },
   {
    "duration": 24,
    "start_time": "2023-01-23T08:34:57.844Z"
   },
   {
    "duration": 25,
    "start_time": "2023-01-23T08:35:32.696Z"
   },
   {
    "duration": 55,
    "start_time": "2023-01-23T08:36:01.922Z"
   },
   {
    "duration": 30,
    "start_time": "2023-01-23T08:36:21.417Z"
   },
   {
    "duration": 31,
    "start_time": "2023-01-23T08:36:43.853Z"
   },
   {
    "duration": 54,
    "start_time": "2023-01-23T08:37:09.314Z"
   },
   {
    "duration": 63,
    "start_time": "2023-01-23T08:37:15.770Z"
   },
   {
    "duration": 63,
    "start_time": "2023-01-23T08:39:10.064Z"
   },
   {
    "duration": 30,
    "start_time": "2023-01-23T08:41:36.730Z"
   },
   {
    "duration": 29,
    "start_time": "2023-01-23T08:41:54.483Z"
   },
   {
    "duration": 26,
    "start_time": "2023-01-23T08:42:15.801Z"
   },
   {
    "duration": 25,
    "start_time": "2023-01-23T08:42:30.185Z"
   },
   {
    "duration": 20,
    "start_time": "2023-01-23T08:42:44.673Z"
   },
   {
    "duration": 20,
    "start_time": "2023-01-23T08:42:51.923Z"
   },
   {
    "duration": 24,
    "start_time": "2023-01-23T08:43:22.653Z"
   },
   {
    "duration": 41,
    "start_time": "2023-01-23T08:43:33.249Z"
   },
   {
    "duration": 52,
    "start_time": "2023-01-23T08:43:43.872Z"
   },
   {
    "duration": 41,
    "start_time": "2023-01-23T08:43:48.723Z"
   },
   {
    "duration": 68,
    "start_time": "2023-01-23T08:44:27.957Z"
   },
   {
    "duration": 28,
    "start_time": "2023-01-23T08:45:03.716Z"
   },
   {
    "duration": 47,
    "start_time": "2023-01-23T09:11:36.470Z"
   },
   {
    "duration": 10,
    "start_time": "2023-01-23T09:15:07.287Z"
   },
   {
    "duration": 5388,
    "start_time": "2023-01-23T09:15:32.870Z"
   },
   {
    "duration": 137,
    "start_time": "2023-01-23T09:15:38.261Z"
   },
   {
    "duration": 126,
    "start_time": "2023-01-23T09:15:38.400Z"
   },
   {
    "duration": 125,
    "start_time": "2023-01-23T09:15:38.528Z"
   },
   {
    "duration": 34,
    "start_time": "2023-01-23T09:15:38.654Z"
   },
   {
    "duration": 43,
    "start_time": "2023-01-23T09:15:38.692Z"
   },
   {
    "duration": 37,
    "start_time": "2023-01-23T09:15:38.737Z"
   },
   {
    "duration": 42,
    "start_time": "2023-01-23T09:15:38.793Z"
   },
   {
    "duration": 9,
    "start_time": "2023-01-23T09:15:38.837Z"
   },
   {
    "duration": 71,
    "start_time": "2023-01-23T09:15:38.848Z"
   },
   {
    "duration": 47,
    "start_time": "2023-01-23T09:15:38.921Z"
   },
   {
    "duration": 12,
    "start_time": "2023-01-23T09:15:54.464Z"
   },
   {
    "duration": 15,
    "start_time": "2023-01-23T09:16:09.036Z"
   },
   {
    "duration": 4200,
    "start_time": "2023-01-23T09:16:13.548Z"
   },
   {
    "duration": 132,
    "start_time": "2023-01-23T09:16:17.750Z"
   },
   {
    "duration": 120,
    "start_time": "2023-01-23T09:16:17.883Z"
   },
   {
    "duration": 119,
    "start_time": "2023-01-23T09:16:18.005Z"
   },
   {
    "duration": 33,
    "start_time": "2023-01-23T09:16:18.125Z"
   },
   {
    "duration": 54,
    "start_time": "2023-01-23T09:16:18.160Z"
   },
   {
    "duration": 39,
    "start_time": "2023-01-23T09:16:18.216Z"
   },
   {
    "duration": 58,
    "start_time": "2023-01-23T09:16:18.256Z"
   },
   {
    "duration": 15,
    "start_time": "2023-01-23T09:16:18.315Z"
   },
   {
    "duration": 74,
    "start_time": "2023-01-23T09:16:18.332Z"
   },
   {
    "duration": 11,
    "start_time": "2023-01-23T09:16:18.408Z"
   },
   {
    "duration": 48,
    "start_time": "2023-01-23T09:16:18.421Z"
   },
   {
    "duration": 13,
    "start_time": "2023-01-23T09:17:51.646Z"
   },
   {
    "duration": 17,
    "start_time": "2023-01-23T09:21:07.593Z"
   },
   {
    "duration": 10,
    "start_time": "2023-01-23T09:21:12.612Z"
   },
   {
    "duration": 49,
    "start_time": "2023-01-23T09:21:19.270Z"
   },
   {
    "duration": 176,
    "start_time": "2023-01-23T09:21:23.632Z"
   },
   {
    "duration": 4942,
    "start_time": "2023-01-23T09:22:07.992Z"
   },
   {
    "duration": 49,
    "start_time": "2023-01-23T09:22:15.445Z"
   },
   {
    "duration": 46,
    "start_time": "2023-01-23T09:22:41.956Z"
   },
   {
    "duration": 4069,
    "start_time": "2023-01-23T09:22:47.047Z"
   },
   {
    "duration": 134,
    "start_time": "2023-01-23T09:22:51.118Z"
   },
   {
    "duration": 129,
    "start_time": "2023-01-23T09:22:51.254Z"
   },
   {
    "duration": 145,
    "start_time": "2023-01-23T09:22:51.385Z"
   },
   {
    "duration": 39,
    "start_time": "2023-01-23T09:22:51.531Z"
   },
   {
    "duration": 65,
    "start_time": "2023-01-23T09:22:51.573Z"
   },
   {
    "duration": 57,
    "start_time": "2023-01-23T09:22:51.640Z"
   },
   {
    "duration": 42,
    "start_time": "2023-01-23T09:22:51.698Z"
   },
   {
    "duration": 19,
    "start_time": "2023-01-23T09:22:51.741Z"
   },
   {
    "duration": 9,
    "start_time": "2023-01-23T09:22:51.762Z"
   },
   {
    "duration": 69,
    "start_time": "2023-01-23T09:22:51.772Z"
   },
   {
    "duration": 11,
    "start_time": "2023-01-23T09:22:51.843Z"
   },
   {
    "duration": 144,
    "start_time": "2023-01-23T09:22:51.855Z"
   },
   {
    "duration": 222,
    "start_time": "2023-01-23T09:22:52.002Z"
   },
   {
    "duration": 0,
    "start_time": "2023-01-23T09:22:52.225Z"
   },
   {
    "duration": 20,
    "start_time": "2023-01-23T09:27:05.761Z"
   },
   {
    "duration": 4188,
    "start_time": "2023-01-23T09:27:11.904Z"
   },
   {
    "duration": 148,
    "start_time": "2023-01-23T09:27:16.094Z"
   },
   {
    "duration": 131,
    "start_time": "2023-01-23T09:27:16.244Z"
   },
   {
    "duration": 127,
    "start_time": "2023-01-23T09:27:16.377Z"
   },
   {
    "duration": 34,
    "start_time": "2023-01-23T09:27:16.506Z"
   },
   {
    "duration": 58,
    "start_time": "2023-01-23T09:27:16.542Z"
   },
   {
    "duration": 41,
    "start_time": "2023-01-23T09:27:16.602Z"
   },
   {
    "duration": 59,
    "start_time": "2023-01-23T09:27:16.645Z"
   },
   {
    "duration": 13,
    "start_time": "2023-01-23T09:27:16.706Z"
   },
   {
    "duration": 14,
    "start_time": "2023-01-23T09:27:16.721Z"
   },
   {
    "duration": 33,
    "start_time": "2023-01-23T09:27:16.737Z"
   },
   {
    "duration": 30,
    "start_time": "2023-01-23T09:27:16.771Z"
   },
   {
    "duration": 97,
    "start_time": "2023-01-23T09:27:16.802Z"
   },
   {
    "duration": 203,
    "start_time": "2023-01-23T09:27:16.901Z"
   },
   {
    "duration": 205,
    "start_time": "2023-01-23T09:27:17.106Z"
   },
   {
    "duration": 173,
    "start_time": "2023-01-23T09:28:46.432Z"
   },
   {
    "duration": 469,
    "start_time": "2023-01-23T09:29:01.047Z"
   },
   {
    "duration": 313,
    "start_time": "2023-01-23T09:29:48.291Z"
   },
   {
    "duration": 427,
    "start_time": "2023-01-23T10:42:25.467Z"
   },
   {
    "duration": 450,
    "start_time": "2023-01-23T10:42:36.368Z"
   },
   {
    "duration": 7,
    "start_time": "2023-01-23T10:44:03.904Z"
   },
   {
    "duration": 263,
    "start_time": "2023-01-23T10:44:08.333Z"
   },
   {
    "duration": 13,
    "start_time": "2023-01-23T10:49:16.235Z"
   },
   {
    "duration": 356,
    "start_time": "2023-01-23T10:49:21.259Z"
   },
   {
    "duration": 14,
    "start_time": "2023-01-23T10:49:22.796Z"
   },
   {
    "duration": 276,
    "start_time": "2023-01-23T10:49:59.234Z"
   },
   {
    "duration": 9,
    "start_time": "2023-01-23T10:50:00.080Z"
   },
   {
    "duration": 41,
    "start_time": "2023-01-23T10:51:17.834Z"
   },
   {
    "duration": 36,
    "start_time": "2023-01-23T10:51:31.561Z"
   },
   {
    "duration": 32,
    "start_time": "2023-01-23T10:51:41.127Z"
   },
   {
    "duration": 9,
    "start_time": "2023-01-23T10:52:23.134Z"
   },
   {
    "duration": 8,
    "start_time": "2023-01-23T10:59:22.482Z"
   },
   {
    "duration": 5,
    "start_time": "2023-01-23T10:59:43.954Z"
   },
   {
    "duration": 8,
    "start_time": "2023-01-23T10:59:50.831Z"
   },
   {
    "duration": 7,
    "start_time": "2023-01-23T11:02:11.185Z"
   },
   {
    "duration": 8,
    "start_time": "2023-01-23T11:03:24.502Z"
   },
   {
    "duration": 4150,
    "start_time": "2023-01-23T11:06:16.626Z"
   },
   {
    "duration": 16,
    "start_time": "2023-01-23T11:08:29.861Z"
   },
   {
    "duration": 5249,
    "start_time": "2023-01-23T11:08:55.562Z"
   },
   {
    "duration": 130,
    "start_time": "2023-01-23T11:09:02.353Z"
   },
   {
    "duration": 103,
    "start_time": "2023-01-23T11:09:11.207Z"
   },
   {
    "duration": 102,
    "start_time": "2023-01-23T11:09:26.770Z"
   },
   {
    "duration": 126,
    "start_time": "2023-01-23T11:09:52.486Z"
   },
   {
    "duration": 93,
    "start_time": "2023-01-23T11:17:07.530Z"
   },
   {
    "duration": 110,
    "start_time": "2023-01-23T11:17:14.785Z"
   },
   {
    "duration": 194,
    "start_time": "2023-01-23T11:17:22.385Z"
   },
   {
    "duration": 3,
    "start_time": "2023-01-23T11:17:41.290Z"
   },
   {
    "duration": 4,
    "start_time": "2023-01-23T11:18:11.256Z"
   },
   {
    "duration": 87,
    "start_time": "2023-01-23T11:19:40.231Z"
   },
   {
    "duration": 99,
    "start_time": "2023-01-23T11:20:02.069Z"
   },
   {
    "duration": 97,
    "start_time": "2023-01-23T11:20:18.436Z"
   },
   {
    "duration": 13192,
    "start_time": "2023-01-24T08:17:31.781Z"
   },
   {
    "duration": 435,
    "start_time": "2023-01-24T08:17:44.975Z"
   },
   {
    "duration": 536,
    "start_time": "2023-01-24T08:17:45.413Z"
   },
   {
    "duration": 539,
    "start_time": "2023-01-24T08:17:45.952Z"
   },
   {
    "duration": 42,
    "start_time": "2023-01-24T08:17:46.493Z"
   },
   {
    "duration": 43,
    "start_time": "2023-01-24T08:17:46.537Z"
   },
   {
    "duration": 39,
    "start_time": "2023-01-24T08:17:46.582Z"
   },
   {
    "duration": 54,
    "start_time": "2023-01-24T08:17:46.623Z"
   },
   {
    "duration": 12,
    "start_time": "2023-01-24T08:17:46.678Z"
   },
   {
    "duration": 12,
    "start_time": "2023-01-24T08:17:46.692Z"
   },
   {
    "duration": 56,
    "start_time": "2023-01-24T08:17:46.706Z"
   },
   {
    "duration": 583,
    "start_time": "2023-01-24T08:17:46.765Z"
   },
   {
    "duration": 100,
    "start_time": "2023-01-24T08:17:47.350Z"
   },
   {
    "duration": 218,
    "start_time": "2023-01-24T08:17:47.452Z"
   },
   {
    "duration": 13,
    "start_time": "2023-01-24T08:20:16.130Z"
   },
   {
    "duration": 11,
    "start_time": "2023-01-24T08:20:54.102Z"
   },
   {
    "duration": 13,
    "start_time": "2023-01-24T08:21:05.576Z"
   },
   {
    "duration": 118,
    "start_time": "2023-01-24T08:21:25.045Z"
   },
   {
    "duration": 290,
    "start_time": "2023-01-24T08:21:32.575Z"
   },
   {
    "duration": 9,
    "start_time": "2023-01-24T08:21:33.369Z"
   },
   {
    "duration": 109,
    "start_time": "2023-01-24T08:21:35.600Z"
   },
   {
    "duration": 40,
    "start_time": "2023-01-24T08:24:57.868Z"
   },
   {
    "duration": 46,
    "start_time": "2023-01-24T08:25:25.985Z"
   },
   {
    "duration": 43,
    "start_time": "2023-01-24T08:25:27.504Z"
   },
   {
    "duration": 24,
    "start_time": "2023-01-24T08:26:25.167Z"
   },
   {
    "duration": 19,
    "start_time": "2023-01-24T08:26:39.422Z"
   },
   {
    "duration": 21,
    "start_time": "2023-01-24T08:26:55.636Z"
   },
   {
    "duration": 9,
    "start_time": "2023-01-24T08:28:38.119Z"
   },
   {
    "duration": 11,
    "start_time": "2023-01-24T08:29:59.653Z"
   },
   {
    "duration": 387,
    "start_time": "2023-01-24T08:30:04.174Z"
   },
   {
    "duration": 11,
    "start_time": "2023-01-24T08:30:05.733Z"
   },
   {
    "duration": 9,
    "start_time": "2023-01-24T08:30:08.820Z"
   },
   {
    "duration": 348,
    "start_time": "2023-01-24T08:32:16.702Z"
   },
   {
    "duration": 9,
    "start_time": "2023-01-24T08:32:18.653Z"
   },
   {
    "duration": 416,
    "start_time": "2023-01-24T08:32:45.336Z"
   },
   {
    "duration": 8,
    "start_time": "2023-01-24T08:32:46.109Z"
   },
   {
    "duration": 193,
    "start_time": "2023-01-24T08:33:19.086Z"
   },
   {
    "duration": 357,
    "start_time": "2023-01-24T08:33:36.686Z"
   },
   {
    "duration": 385,
    "start_time": "2023-01-24T08:33:50.617Z"
   },
   {
    "duration": 470,
    "start_time": "2023-01-24T08:34:02.219Z"
   },
   {
    "duration": 391,
    "start_time": "2023-01-24T08:35:11.740Z"
   },
   {
    "duration": 431,
    "start_time": "2023-01-24T08:35:24.875Z"
   },
   {
    "duration": 409,
    "start_time": "2023-01-24T08:35:44.027Z"
   },
   {
    "duration": 383,
    "start_time": "2023-01-24T08:35:57.733Z"
   },
   {
    "duration": 407,
    "start_time": "2023-01-24T08:36:30.832Z"
   },
   {
    "duration": 424,
    "start_time": "2023-01-24T08:36:38.032Z"
   },
   {
    "duration": 72,
    "start_time": "2023-01-24T08:38:42.587Z"
   },
   {
    "duration": 79,
    "start_time": "2023-01-24T08:38:59.301Z"
   },
   {
    "duration": 210,
    "start_time": "2023-01-24T08:39:12.218Z"
   },
   {
    "duration": 396,
    "start_time": "2023-01-24T08:39:44.662Z"
   },
   {
    "duration": 292,
    "start_time": "2023-01-24T08:39:48.323Z"
   },
   {
    "duration": 378,
    "start_time": "2023-01-24T08:40:09.389Z"
   },
   {
    "duration": 429,
    "start_time": "2023-01-24T08:40:15.164Z"
   },
   {
    "duration": 411,
    "start_time": "2023-01-24T08:40:25.370Z"
   },
   {
    "duration": 5,
    "start_time": "2023-01-24T08:42:41.222Z"
   },
   {
    "duration": 7,
    "start_time": "2023-01-24T08:42:51.962Z"
   },
   {
    "duration": 270,
    "start_time": "2023-01-24T08:45:40.580Z"
   },
   {
    "duration": 11,
    "start_time": "2023-01-24T08:45:41.657Z"
   },
   {
    "duration": 411,
    "start_time": "2023-01-24T08:45:43.468Z"
   },
   {
    "duration": 192,
    "start_time": "2023-01-24T08:46:01.097Z"
   },
   {
    "duration": 120,
    "start_time": "2023-01-24T08:46:41.419Z"
   },
   {
    "duration": 111,
    "start_time": "2023-01-24T08:47:11.191Z"
   },
   {
    "duration": 9,
    "start_time": "2023-01-24T08:47:30.954Z"
   },
   {
    "duration": 106,
    "start_time": "2023-01-24T08:47:49.421Z"
   },
   {
    "duration": 12,
    "start_time": "2023-01-24T08:48:19.796Z"
   },
   {
    "duration": 13,
    "start_time": "2023-01-24T08:48:25.660Z"
   },
   {
    "duration": 10,
    "start_time": "2023-01-24T08:48:31.371Z"
   },
   {
    "duration": 14,
    "start_time": "2023-01-24T08:48:58.170Z"
   },
   {
    "duration": 22,
    "start_time": "2023-01-24T08:49:06.072Z"
   },
   {
    "duration": 9,
    "start_time": "2023-01-24T08:49:14.818Z"
   },
   {
    "duration": 1142,
    "start_time": "2023-01-24T08:49:52.896Z"
   },
   {
    "duration": 1957,
    "start_time": "2023-01-24T08:50:07.960Z"
   },
   {
    "duration": 219,
    "start_time": "2023-01-24T08:50:26.601Z"
   },
   {
    "duration": 6,
    "start_time": "2023-01-24T08:54:40.590Z"
   },
   {
    "duration": 422,
    "start_time": "2023-01-24T08:55:20.514Z"
   },
   {
    "duration": 493,
    "start_time": "2023-01-24T08:55:25.900Z"
   },
   {
    "duration": 473,
    "start_time": "2023-01-24T08:55:35.177Z"
   },
   {
    "duration": 369,
    "start_time": "2023-01-24T08:56:02.968Z"
   },
   {
    "duration": 373,
    "start_time": "2023-01-24T08:56:17.708Z"
   },
   {
    "duration": 400,
    "start_time": "2023-01-24T08:56:32.033Z"
   },
   {
    "duration": 11,
    "start_time": "2023-01-24T08:57:07.237Z"
   },
   {
    "duration": 371,
    "start_time": "2023-01-24T08:59:09.713Z"
   },
   {
    "duration": 376,
    "start_time": "2023-01-24T08:59:14.522Z"
   },
   {
    "duration": 385,
    "start_time": "2023-01-24T08:59:22.482Z"
   },
   {
    "duration": 372,
    "start_time": "2023-01-24T08:59:31.116Z"
   },
   {
    "duration": 1879,
    "start_time": "2023-01-24T09:00:56.578Z"
   },
   {
    "duration": 377,
    "start_time": "2023-01-24T09:01:39.210Z"
   },
   {
    "duration": 395,
    "start_time": "2023-01-24T09:02:51.587Z"
   },
   {
    "duration": 370,
    "start_time": "2023-01-24T09:02:58.073Z"
   },
   {
    "duration": 395,
    "start_time": "2023-01-24T09:03:10.608Z"
   },
   {
    "duration": 23,
    "start_time": "2023-01-24T09:05:09.430Z"
   },
   {
    "duration": 4568,
    "start_time": "2023-01-24T09:05:30.635Z"
   },
   {
    "duration": 288,
    "start_time": "2023-01-24T09:05:46.581Z"
   },
   {
    "duration": 406,
    "start_time": "2023-01-24T09:06:00.369Z"
   },
   {
    "duration": 11,
    "start_time": "2023-01-24T09:06:05.118Z"
   },
   {
    "duration": 390,
    "start_time": "2023-01-24T09:10:50.775Z"
   },
   {
    "duration": 9,
    "start_time": "2023-01-24T09:13:08.109Z"
   },
   {
    "duration": 6,
    "start_time": "2023-01-24T09:14:02.508Z"
   },
   {
    "duration": 211,
    "start_time": "2023-01-24T09:15:30.860Z"
   },
   {
    "duration": 302,
    "start_time": "2023-01-24T09:15:53.659Z"
   },
   {
    "duration": 392,
    "start_time": "2023-01-24T09:15:57.705Z"
   },
   {
    "duration": 18,
    "start_time": "2023-01-24T09:17:02.509Z"
   },
   {
    "duration": 14,
    "start_time": "2023-01-24T09:17:19.408Z"
   },
   {
    "duration": 10,
    "start_time": "2023-01-24T09:17:34.879Z"
   },
   {
    "duration": 280,
    "start_time": "2023-01-24T09:27:28.176Z"
   },
   {
    "duration": 112,
    "start_time": "2023-01-24T09:27:58.015Z"
   },
   {
    "duration": 9,
    "start_time": "2023-01-24T09:33:34.571Z"
   },
   {
    "duration": 12,
    "start_time": "2023-01-24T09:33:56.297Z"
   },
   {
    "duration": 404,
    "start_time": "2023-01-24T09:42:24.759Z"
   },
   {
    "duration": 10,
    "start_time": "2023-01-24T09:42:29.936Z"
   },
   {
    "duration": 4,
    "start_time": "2023-01-24T09:49:05.391Z"
   },
   {
    "duration": 3,
    "start_time": "2023-01-24T09:49:17.011Z"
   },
   {
    "duration": 3,
    "start_time": "2023-01-24T09:49:23.002Z"
   },
   {
    "duration": 3,
    "start_time": "2023-01-24T09:59:00.137Z"
   },
   {
    "duration": 9,
    "start_time": "2023-01-24T10:03:17.114Z"
   },
   {
    "duration": 2,
    "start_time": "2023-01-24T10:03:20.008Z"
   },
   {
    "duration": 4,
    "start_time": "2023-01-24T10:03:20.552Z"
   },
   {
    "duration": 357,
    "start_time": "2023-01-24T10:19:18.000Z"
   },
   {
    "duration": 11,
    "start_time": "2023-01-24T10:19:21.790Z"
   },
   {
    "duration": 9,
    "start_time": "2023-01-24T10:20:10.929Z"
   },
   {
    "duration": 9,
    "start_time": "2023-01-24T10:47:22.423Z"
   },
   {
    "duration": 11,
    "start_time": "2023-01-24T10:47:47.671Z"
   },
   {
    "duration": 94,
    "start_time": "2023-01-24T10:48:12.402Z"
   },
   {
    "duration": 5,
    "start_time": "2023-01-24T10:48:20.726Z"
   },
   {
    "duration": 5,
    "start_time": "2023-01-24T10:48:58.383Z"
   },
   {
    "duration": 9,
    "start_time": "2023-01-24T10:50:21.146Z"
   },
   {
    "duration": 9,
    "start_time": "2023-01-24T10:54:26.214Z"
   },
   {
    "duration": 10,
    "start_time": "2023-01-24T10:54:37.570Z"
   },
   {
    "duration": 6,
    "start_time": "2023-01-24T10:54:45.246Z"
   },
   {
    "duration": 6,
    "start_time": "2023-01-24T10:55:01.111Z"
   },
   {
    "duration": 9,
    "start_time": "2023-01-24T10:57:27.147Z"
   },
   {
    "duration": 3,
    "start_time": "2023-01-24T10:57:30.470Z"
   },
   {
    "duration": 3,
    "start_time": "2023-01-24T10:57:32.284Z"
   },
   {
    "duration": 4,
    "start_time": "2023-01-24T10:57:44.800Z"
   },
   {
    "duration": 3,
    "start_time": "2023-01-24T10:58:47.388Z"
   },
   {
    "duration": 3,
    "start_time": "2023-01-24T10:59:06.510Z"
   },
   {
    "duration": 13,
    "start_time": "2023-01-24T11:06:11.170Z"
   },
   {
    "duration": 11,
    "start_time": "2023-01-24T11:06:24.244Z"
   },
   {
    "duration": 12,
    "start_time": "2023-01-24T11:10:21.517Z"
   },
   {
    "duration": 12,
    "start_time": "2023-01-24T11:10:39.259Z"
   },
   {
    "duration": 11,
    "start_time": "2023-01-24T11:10:51.190Z"
   },
   {
    "duration": 7,
    "start_time": "2023-01-24T11:11:24.112Z"
   },
   {
    "duration": 80,
    "start_time": "2023-01-24T11:12:17.893Z"
   },
   {
    "duration": 78,
    "start_time": "2023-01-24T11:12:46.044Z"
   },
   {
    "duration": 9,
    "start_time": "2023-01-24T11:13:01.459Z"
   },
   {
    "duration": 10,
    "start_time": "2023-01-24T11:13:19.300Z"
   },
   {
    "duration": 6,
    "start_time": "2023-01-24T11:14:31.155Z"
   },
   {
    "duration": 3,
    "start_time": "2023-01-24T11:16:03.379Z"
   },
   {
    "duration": 12648,
    "start_time": "2023-01-25T07:19:45.796Z"
   },
   {
    "duration": 422,
    "start_time": "2023-01-25T07:19:58.447Z"
   },
   {
    "duration": 588,
    "start_time": "2023-01-25T07:19:58.871Z"
   },
   {
    "duration": 567,
    "start_time": "2023-01-25T07:19:59.462Z"
   },
   {
    "duration": 36,
    "start_time": "2023-01-25T07:20:00.031Z"
   },
   {
    "duration": 46,
    "start_time": "2023-01-25T07:20:00.069Z"
   },
   {
    "duration": 65,
    "start_time": "2023-01-25T07:20:00.117Z"
   },
   {
    "duration": 64,
    "start_time": "2023-01-25T07:20:00.184Z"
   },
   {
    "duration": 43,
    "start_time": "2023-01-25T07:20:00.250Z"
   },
   {
    "duration": 56,
    "start_time": "2023-01-25T07:20:00.297Z"
   },
   {
    "duration": 40,
    "start_time": "2023-01-25T07:20:00.356Z"
   },
   {
    "duration": 20,
    "start_time": "2023-01-25T07:20:00.398Z"
   },
   {
    "duration": 32,
    "start_time": "2023-01-25T07:20:00.420Z"
   },
   {
    "duration": 46,
    "start_time": "2023-01-25T07:20:00.455Z"
   },
   {
    "duration": 43,
    "start_time": "2023-01-25T07:20:00.503Z"
   },
   {
    "duration": 43,
    "start_time": "2023-01-25T07:20:00.548Z"
   },
   {
    "duration": 81,
    "start_time": "2023-01-25T07:20:00.592Z"
   },
   {
    "duration": 482,
    "start_time": "2023-01-25T07:20:00.675Z"
   },
   {
    "duration": 296,
    "start_time": "2023-01-25T07:20:01.160Z"
   },
   {
    "duration": 0,
    "start_time": "2023-01-25T07:20:01.458Z"
   },
   {
    "duration": 0,
    "start_time": "2023-01-25T07:20:01.459Z"
   },
   {
    "duration": 0,
    "start_time": "2023-01-25T07:20:01.461Z"
   },
   {
    "duration": 0,
    "start_time": "2023-01-25T07:20:01.461Z"
   },
   {
    "duration": 0,
    "start_time": "2023-01-25T07:20:01.463Z"
   },
   {
    "duration": 0,
    "start_time": "2023-01-25T07:20:01.465Z"
   },
   {
    "duration": 4674,
    "start_time": "2023-01-25T07:20:41.502Z"
   },
   {
    "duration": 149,
    "start_time": "2023-01-25T07:20:46.178Z"
   },
   {
    "duration": 138,
    "start_time": "2023-01-25T07:20:46.329Z"
   },
   {
    "duration": 139,
    "start_time": "2023-01-25T07:20:46.469Z"
   },
   {
    "duration": 39,
    "start_time": "2023-01-25T07:20:46.609Z"
   },
   {
    "duration": 57,
    "start_time": "2023-01-25T07:20:46.649Z"
   },
   {
    "duration": 50,
    "start_time": "2023-01-25T07:20:46.708Z"
   },
   {
    "duration": 47,
    "start_time": "2023-01-25T07:20:46.759Z"
   },
   {
    "duration": 65,
    "start_time": "2023-01-25T07:20:46.808Z"
   },
   {
    "duration": 35,
    "start_time": "2023-01-25T07:20:46.875Z"
   },
   {
    "duration": 56,
    "start_time": "2023-01-25T07:20:46.912Z"
   },
   {
    "duration": 16,
    "start_time": "2023-01-25T07:20:46.970Z"
   },
   {
    "duration": 34,
    "start_time": "2023-01-25T07:20:46.988Z"
   },
   {
    "duration": 23,
    "start_time": "2023-01-25T07:20:47.024Z"
   },
   {
    "duration": 46,
    "start_time": "2023-01-25T07:20:47.048Z"
   },
   {
    "duration": 101,
    "start_time": "2023-01-25T07:20:47.096Z"
   },
   {
    "duration": 55,
    "start_time": "2023-01-25T07:20:47.199Z"
   },
   {
    "duration": 392,
    "start_time": "2023-01-25T07:20:47.255Z"
   },
   {
    "duration": 91,
    "start_time": "2023-01-25T07:20:47.649Z"
   },
   {
    "duration": 107,
    "start_time": "2023-01-25T07:20:47.742Z"
   },
   {
    "duration": 7,
    "start_time": "2023-01-25T07:20:47.851Z"
   },
   {
    "duration": 14,
    "start_time": "2023-01-25T07:20:47.860Z"
   },
   {
    "duration": 20,
    "start_time": "2023-01-25T07:20:47.876Z"
   },
   {
    "duration": 5,
    "start_time": "2023-01-25T07:20:47.938Z"
   },
   {
    "duration": 25,
    "start_time": "2023-01-25T07:35:50.932Z"
   },
   {
    "duration": 10,
    "start_time": "2023-01-25T07:36:51.462Z"
   },
   {
    "duration": 58,
    "start_time": "2023-01-25T07:37:19.580Z"
   },
   {
    "duration": 6,
    "start_time": "2023-01-25T07:43:02.825Z"
   },
   {
    "duration": 13,
    "start_time": "2023-01-25T07:43:41.557Z"
   },
   {
    "duration": 13,
    "start_time": "2023-01-25T07:43:53.121Z"
   },
   {
    "duration": 11,
    "start_time": "2023-01-25T07:44:45.727Z"
   },
   {
    "duration": 11,
    "start_time": "2023-01-25T07:44:53.589Z"
   },
   {
    "duration": 11,
    "start_time": "2023-01-25T07:46:35.794Z"
   },
   {
    "duration": 3,
    "start_time": "2023-01-25T07:47:16.062Z"
   },
   {
    "duration": 6,
    "start_time": "2023-01-25T07:47:30.413Z"
   },
   {
    "duration": 388,
    "start_time": "2023-01-25T07:50:48.960Z"
   },
   {
    "duration": 12,
    "start_time": "2023-01-25T07:50:54.939Z"
   },
   {
    "duration": 400,
    "start_time": "2023-01-25T07:51:07.846Z"
   },
   {
    "duration": 15,
    "start_time": "2023-01-25T07:51:43.376Z"
   },
   {
    "duration": 4,
    "start_time": "2023-01-25T07:52:22.680Z"
   },
   {
    "duration": 11,
    "start_time": "2023-01-25T07:52:25.044Z"
   },
   {
    "duration": 11,
    "start_time": "2023-01-25T07:52:26.079Z"
   },
   {
    "duration": 10,
    "start_time": "2023-01-25T07:52:26.749Z"
   },
   {
    "duration": 4,
    "start_time": "2023-01-25T07:52:54.185Z"
   },
   {
    "duration": 16,
    "start_time": "2023-01-25T07:52:54.854Z"
   },
   {
    "duration": 4,
    "start_time": "2023-01-25T07:53:10.274Z"
   },
   {
    "duration": 16,
    "start_time": "2023-01-25T07:53:11.078Z"
   },
   {
    "duration": 3,
    "start_time": "2023-01-25T07:56:06.281Z"
   },
   {
    "duration": 12,
    "start_time": "2023-01-25T07:56:06.802Z"
   },
   {
    "duration": 9,
    "start_time": "2023-01-25T07:56:08.452Z"
   },
   {
    "duration": 10,
    "start_time": "2023-01-25T07:56:09.203Z"
   },
   {
    "duration": 4,
    "start_time": "2023-01-25T08:00:05.496Z"
   },
   {
    "duration": 11,
    "start_time": "2023-01-25T08:00:06.468Z"
   },
   {
    "duration": 10,
    "start_time": "2023-01-25T08:00:07.268Z"
   },
   {
    "duration": 11,
    "start_time": "2023-01-25T08:00:07.848Z"
   },
   {
    "duration": 10,
    "start_time": "2023-01-25T08:04:29.852Z"
   },
   {
    "duration": 11,
    "start_time": "2023-01-25T08:04:35.624Z"
   },
   {
    "duration": 15,
    "start_time": "2023-01-25T08:04:44.638Z"
   },
   {
    "duration": 5,
    "start_time": "2023-01-25T08:08:44.649Z"
   },
   {
    "duration": 10,
    "start_time": "2023-01-25T08:08:47.481Z"
   },
   {
    "duration": 12,
    "start_time": "2023-01-25T08:08:48.728Z"
   },
   {
    "duration": 9,
    "start_time": "2023-01-25T08:09:11.552Z"
   },
   {
    "duration": 12,
    "start_time": "2023-01-25T08:09:17.796Z"
   },
   {
    "duration": 5,
    "start_time": "2023-01-25T08:14:01.574Z"
   },
   {
    "duration": 11,
    "start_time": "2023-01-25T08:14:02.173Z"
   },
   {
    "duration": 12,
    "start_time": "2023-01-25T08:14:19.270Z"
   },
   {
    "duration": 12,
    "start_time": "2023-01-25T08:14:29.930Z"
   },
   {
    "duration": 15,
    "start_time": "2023-01-25T08:14:55.099Z"
   },
   {
    "duration": 5,
    "start_time": "2023-01-25T08:16:20.291Z"
   },
   {
    "duration": 19,
    "start_time": "2023-01-25T08:16:22.478Z"
   },
   {
    "duration": 6,
    "start_time": "2023-01-25T08:18:42.634Z"
   },
   {
    "duration": 18,
    "start_time": "2023-01-25T08:18:43.693Z"
   },
   {
    "duration": 8,
    "start_time": "2023-01-25T08:19:49.863Z"
   },
   {
    "duration": 35,
    "start_time": "2023-01-25T08:19:50.789Z"
   },
   {
    "duration": 6,
    "start_time": "2023-01-25T08:20:16.293Z"
   },
   {
    "duration": 3192,
    "start_time": "2023-01-25T08:20:16.894Z"
   },
   {
    "duration": 6,
    "start_time": "2023-01-25T08:20:37.378Z"
   },
   {
    "duration": 9142,
    "start_time": "2023-01-25T08:20:37.999Z"
   },
   {
    "duration": 5,
    "start_time": "2023-01-25T08:24:02.836Z"
   },
   {
    "duration": 9096,
    "start_time": "2023-01-25T08:24:03.648Z"
   },
   {
    "duration": 12,
    "start_time": "2023-01-25T08:25:56.133Z"
   },
   {
    "duration": 14,
    "start_time": "2023-01-25T08:26:32.454Z"
   },
   {
    "duration": 11,
    "start_time": "2023-01-25T08:26:43.412Z"
   },
   {
    "duration": 18,
    "start_time": "2023-01-25T08:26:51.410Z"
   },
   {
    "duration": 13,
    "start_time": "2023-01-25T08:27:25.042Z"
   },
   {
    "duration": 11,
    "start_time": "2023-01-25T08:28:03.122Z"
   },
   {
    "duration": 18,
    "start_time": "2023-01-25T08:28:16.893Z"
   },
   {
    "duration": 15923,
    "start_time": "2023-01-25T08:29:58.069Z"
   },
   {
    "duration": 12,
    "start_time": "2023-01-25T08:34:31.949Z"
   },
   {
    "duration": 17,
    "start_time": "2023-01-25T08:34:42.185Z"
   },
   {
    "duration": 19,
    "start_time": "2023-01-25T08:35:05.878Z"
   },
   {
    "duration": 17,
    "start_time": "2023-01-25T08:36:23.517Z"
   },
   {
    "duration": 19,
    "start_time": "2023-01-25T08:36:42.247Z"
   },
   {
    "duration": 4,
    "start_time": "2023-01-25T08:37:03.682Z"
   },
   {
    "duration": 18,
    "start_time": "2023-01-25T08:37:07.306Z"
   },
   {
    "duration": 15,
    "start_time": "2023-01-25T08:37:18.325Z"
   },
   {
    "duration": 16,
    "start_time": "2023-01-25T08:37:25.687Z"
   },
   {
    "duration": 4,
    "start_time": "2023-01-25T08:38:13.794Z"
   },
   {
    "duration": 17,
    "start_time": "2023-01-25T08:38:16.890Z"
   },
   {
    "duration": 17,
    "start_time": "2023-01-25T08:38:24.489Z"
   },
   {
    "duration": 12,
    "start_time": "2023-01-25T08:38:56.995Z"
   },
   {
    "duration": 12,
    "start_time": "2023-01-25T08:39:10.997Z"
   },
   {
    "duration": 1322,
    "start_time": "2023-01-25T08:40:06.270Z"
   },
   {
    "duration": 1227,
    "start_time": "2023-01-25T08:40:59.028Z"
   },
   {
    "duration": 1371,
    "start_time": "2023-01-25T08:41:07.172Z"
   },
   {
    "duration": 85,
    "start_time": "2023-01-25T08:42:46.127Z"
   },
   {
    "duration": 24,
    "start_time": "2023-01-25T08:42:53.118Z"
   },
   {
    "duration": 20,
    "start_time": "2023-01-25T08:43:26.758Z"
   },
   {
    "duration": 19,
    "start_time": "2023-01-25T08:43:46.568Z"
   },
   {
    "duration": 19,
    "start_time": "2023-01-25T08:44:05.607Z"
   },
   {
    "duration": 26,
    "start_time": "2023-01-25T08:44:26.651Z"
   },
   {
    "duration": 12,
    "start_time": "2023-01-25T08:44:46.967Z"
   },
   {
    "duration": 12,
    "start_time": "2023-01-25T08:45:02.411Z"
   },
   {
    "duration": 12,
    "start_time": "2023-01-25T08:45:06.352Z"
   },
   {
    "duration": 12,
    "start_time": "2023-01-25T08:45:10.639Z"
   },
   {
    "duration": 12,
    "start_time": "2023-01-25T08:45:16.992Z"
   },
   {
    "duration": 13,
    "start_time": "2023-01-25T08:45:22.884Z"
   },
   {
    "duration": 52,
    "start_time": "2023-01-25T08:46:30.110Z"
   },
   {
    "duration": 38,
    "start_time": "2023-01-25T08:46:52.034Z"
   },
   {
    "duration": 35,
    "start_time": "2023-01-25T08:47:08.640Z"
   },
   {
    "duration": 33,
    "start_time": "2023-01-25T08:47:16.989Z"
   },
   {
    "duration": 43,
    "start_time": "2023-01-25T08:47:48.907Z"
   },
   {
    "duration": 52,
    "start_time": "2023-01-25T08:48:42.181Z"
   },
   {
    "duration": 42,
    "start_time": "2023-01-25T08:48:56.647Z"
   },
   {
    "duration": 4,
    "start_time": "2023-01-25T08:49:06.587Z"
   },
   {
    "duration": 12,
    "start_time": "2023-01-25T08:49:12.035Z"
   },
   {
    "duration": 16,
    "start_time": "2023-01-25T08:54:56.128Z"
   },
   {
    "duration": 13,
    "start_time": "2023-01-25T08:55:01.999Z"
   },
   {
    "duration": 13,
    "start_time": "2023-01-25T08:55:08.565Z"
   },
   {
    "duration": 14768,
    "start_time": "2023-01-25T08:56:15.260Z"
   },
   {
    "duration": 1342,
    "start_time": "2023-01-25T08:56:58.880Z"
   },
   {
    "duration": 1382,
    "start_time": "2023-01-25T08:57:54.165Z"
   },
   {
    "duration": 14,
    "start_time": "2023-01-25T08:58:05.874Z"
   },
   {
    "duration": 20,
    "start_time": "2023-01-25T08:58:55.579Z"
   },
   {
    "duration": 10,
    "start_time": "2023-01-25T09:00:25.531Z"
   },
   {
    "duration": 11,
    "start_time": "2023-01-25T09:00:37.703Z"
   },
   {
    "duration": 9,
    "start_time": "2023-01-25T09:00:47.040Z"
   },
   {
    "duration": 11,
    "start_time": "2023-01-25T09:01:02.701Z"
   },
   {
    "duration": 21,
    "start_time": "2023-01-25T09:06:00.458Z"
   },
   {
    "duration": 20,
    "start_time": "2023-01-25T09:06:58.310Z"
   },
   {
    "duration": 20,
    "start_time": "2023-01-25T09:07:11.534Z"
   },
   {
    "duration": 21,
    "start_time": "2023-01-25T09:08:20.256Z"
   },
   {
    "duration": 23,
    "start_time": "2023-01-25T09:08:58.878Z"
   },
   {
    "duration": 22,
    "start_time": "2023-01-25T09:09:26.310Z"
   },
   {
    "duration": 19,
    "start_time": "2023-01-25T09:10:09.964Z"
   },
   {
    "duration": 14,
    "start_time": "2023-01-25T09:11:09.613Z"
   },
   {
    "duration": 16,
    "start_time": "2023-01-25T09:11:57.385Z"
   },
   {
    "duration": 19,
    "start_time": "2023-01-25T09:12:29.414Z"
   },
   {
    "duration": 17,
    "start_time": "2023-01-25T09:12:47.867Z"
   },
   {
    "duration": 21,
    "start_time": "2023-01-25T09:14:43.043Z"
   },
   {
    "duration": 1493,
    "start_time": "2023-01-25T09:15:27.944Z"
   },
   {
    "duration": 1389,
    "start_time": "2023-01-25T09:16:15.171Z"
   },
   {
    "duration": 1459,
    "start_time": "2023-01-25T09:16:35.813Z"
   },
   {
    "duration": 1439,
    "start_time": "2023-01-25T09:17:52.821Z"
   },
   {
    "duration": 1423,
    "start_time": "2023-01-25T09:20:06.448Z"
   },
   {
    "duration": 1406,
    "start_time": "2023-01-25T09:20:30.917Z"
   },
   {
    "duration": 1346,
    "start_time": "2023-01-25T09:20:42.297Z"
   },
   {
    "duration": 1304,
    "start_time": "2023-01-25T09:21:04.195Z"
   },
   {
    "duration": 1422,
    "start_time": "2023-01-25T09:23:07.785Z"
   },
   {
    "duration": 1410,
    "start_time": "2023-01-25T09:24:39.637Z"
   },
   {
    "duration": 1475,
    "start_time": "2023-01-25T09:25:51.723Z"
   },
   {
    "duration": 1338,
    "start_time": "2023-01-25T09:26:07.808Z"
   },
   {
    "duration": 1381,
    "start_time": "2023-01-25T09:26:14.272Z"
   },
   {
    "duration": 4382,
    "start_time": "2023-01-25T09:26:52.789Z"
   },
   {
    "duration": 143,
    "start_time": "2023-01-25T09:26:57.174Z"
   },
   {
    "duration": 131,
    "start_time": "2023-01-25T09:26:57.319Z"
   },
   {
    "duration": 125,
    "start_time": "2023-01-25T09:26:57.453Z"
   },
   {
    "duration": 36,
    "start_time": "2023-01-25T09:26:57.579Z"
   },
   {
    "duration": 62,
    "start_time": "2023-01-25T09:26:57.617Z"
   },
   {
    "duration": 43,
    "start_time": "2023-01-25T09:26:57.681Z"
   },
   {
    "duration": 45,
    "start_time": "2023-01-25T09:26:57.739Z"
   },
   {
    "duration": 55,
    "start_time": "2023-01-25T09:26:57.786Z"
   },
   {
    "duration": 36,
    "start_time": "2023-01-25T09:26:57.845Z"
   },
   {
    "duration": 56,
    "start_time": "2023-01-25T09:26:57.883Z"
   },
   {
    "duration": 16,
    "start_time": "2023-01-25T09:26:57.941Z"
   },
   {
    "duration": 16,
    "start_time": "2023-01-25T09:26:57.959Z"
   },
   {
    "duration": 13,
    "start_time": "2023-01-25T09:26:57.977Z"
   },
   {
    "duration": 9,
    "start_time": "2023-01-25T09:26:57.992Z"
   },
   {
    "duration": 12,
    "start_time": "2023-01-25T09:26:58.037Z"
   },
   {
    "duration": 51,
    "start_time": "2023-01-25T09:26:58.050Z"
   },
   {
    "duration": 448,
    "start_time": "2023-01-25T09:26:58.103Z"
   },
   {
    "duration": 12,
    "start_time": "2023-01-25T09:26:58.553Z"
   },
   {
    "duration": 100,
    "start_time": "2023-01-25T09:26:58.638Z"
   },
   {
    "duration": 5,
    "start_time": "2023-01-25T09:26:58.740Z"
   },
   {
    "duration": 11,
    "start_time": "2023-01-25T09:26:58.747Z"
   },
   {
    "duration": 18,
    "start_time": "2023-01-25T09:26:58.760Z"
   },
   {
    "duration": 14,
    "start_time": "2023-01-25T09:26:58.779Z"
   },
   {
    "duration": 22,
    "start_time": "2023-01-25T09:26:58.794Z"
   },
   {
    "duration": 36,
    "start_time": "2023-01-25T09:26:58.818Z"
   },
   {
    "duration": 18,
    "start_time": "2023-01-25T09:26:58.856Z"
   },
   {
    "duration": 13,
    "start_time": "2023-01-25T09:26:58.877Z"
   },
   {
    "duration": 1352,
    "start_time": "2023-01-25T09:26:58.891Z"
   },
   {
    "duration": 1258,
    "start_time": "2023-01-25T09:27:00.245Z"
   },
   {
    "duration": 1466,
    "start_time": "2023-01-25T09:27:01.505Z"
   },
   {
    "duration": 1281,
    "start_time": "2023-01-25T09:31:59.667Z"
   },
   {
    "duration": 1318,
    "start_time": "2023-01-25T09:32:42.619Z"
   },
   {
    "duration": 24,
    "start_time": "2023-01-25T09:33:44.968Z"
   },
   {
    "duration": 375,
    "start_time": "2023-01-25T09:34:55.970Z"
   },
   {
    "duration": 1353,
    "start_time": "2023-01-25T09:35:07.178Z"
   },
   {
    "duration": 1329,
    "start_time": "2023-01-25T09:35:17.491Z"
   },
   {
    "duration": 18,
    "start_time": "2023-01-25T09:37:57.219Z"
   },
   {
    "duration": 3,
    "start_time": "2023-01-25T09:38:05.602Z"
   },
   {
    "duration": 19,
    "start_time": "2023-01-25T09:38:08.272Z"
   },
   {
    "duration": 17,
    "start_time": "2023-01-25T09:38:23.523Z"
   },
   {
    "duration": 4,
    "start_time": "2023-01-25T09:39:06.772Z"
   },
   {
    "duration": 18,
    "start_time": "2023-01-25T09:39:13.676Z"
   },
   {
    "duration": 1244,
    "start_time": "2023-01-25T09:43:56.524Z"
   },
   {
    "duration": 1278,
    "start_time": "2023-01-25T09:44:26.797Z"
   },
   {
    "duration": 1365,
    "start_time": "2023-01-25T09:44:37.721Z"
   },
   {
    "duration": 20,
    "start_time": "2023-01-25T09:45:35.180Z"
   },
   {
    "duration": 1396,
    "start_time": "2023-01-25T09:45:48.679Z"
   },
   {
    "duration": 1377,
    "start_time": "2023-01-25T09:45:58.010Z"
   },
   {
    "duration": 1408,
    "start_time": "2023-01-25T09:46:33.163Z"
   },
   {
    "duration": 1420,
    "start_time": "2023-01-25T09:46:46.922Z"
   },
   {
    "duration": 10,
    "start_time": "2023-01-25T09:47:39.951Z"
   },
   {
    "duration": 1476,
    "start_time": "2023-01-25T09:53:51.392Z"
   },
   {
    "duration": 1459,
    "start_time": "2023-01-25T09:54:03.699Z"
   },
   {
    "duration": 1378,
    "start_time": "2023-01-25T09:54:15.960Z"
   },
   {
    "duration": 1478,
    "start_time": "2023-01-25T09:54:24.023Z"
   },
   {
    "duration": 10,
    "start_time": "2023-01-25T09:56:29.900Z"
   },
   {
    "duration": 18,
    "start_time": "2023-01-25T09:56:39.811Z"
   },
   {
    "duration": 4597,
    "start_time": "2023-01-25T09:58:57.980Z"
   },
   {
    "duration": 180,
    "start_time": "2023-01-25T09:59:02.581Z"
   },
   {
    "duration": 128,
    "start_time": "2023-01-25T09:59:02.763Z"
   },
   {
    "duration": 134,
    "start_time": "2023-01-25T09:59:02.893Z"
   },
   {
    "duration": 43,
    "start_time": "2023-01-25T09:59:03.029Z"
   },
   {
    "duration": 65,
    "start_time": "2023-01-25T09:59:03.074Z"
   },
   {
    "duration": 43,
    "start_time": "2023-01-25T09:59:03.141Z"
   },
   {
    "duration": 63,
    "start_time": "2023-01-25T09:59:03.186Z"
   },
   {
    "duration": 38,
    "start_time": "2023-01-25T09:59:03.250Z"
   },
   {
    "duration": 49,
    "start_time": "2023-01-25T09:59:03.291Z"
   },
   {
    "duration": 38,
    "start_time": "2023-01-25T09:59:03.342Z"
   },
   {
    "duration": 17,
    "start_time": "2023-01-25T09:59:03.382Z"
   },
   {
    "duration": 44,
    "start_time": "2023-01-25T09:59:03.401Z"
   },
   {
    "duration": 16,
    "start_time": "2023-01-25T09:59:03.446Z"
   },
   {
    "duration": 21,
    "start_time": "2023-01-25T09:59:03.464Z"
   },
   {
    "duration": 28,
    "start_time": "2023-01-25T09:59:03.487Z"
   },
   {
    "duration": 52,
    "start_time": "2023-01-25T09:59:03.517Z"
   },
   {
    "duration": 477,
    "start_time": "2023-01-25T09:59:03.571Z"
   },
   {
    "duration": 189,
    "start_time": "2023-01-25T09:59:04.050Z"
   },
   {
    "duration": 3,
    "start_time": "2023-01-25T09:59:04.240Z"
   },
   {
    "duration": 28,
    "start_time": "2023-01-25T09:59:04.245Z"
   },
   {
    "duration": 20,
    "start_time": "2023-01-25T09:59:04.275Z"
   },
   {
    "duration": 16,
    "start_time": "2023-01-25T09:59:04.297Z"
   },
   {
    "duration": 19,
    "start_time": "2023-01-25T09:59:04.315Z"
   },
   {
    "duration": 10,
    "start_time": "2023-01-25T09:59:04.336Z"
   },
   {
    "duration": 19,
    "start_time": "2023-01-25T09:59:04.348Z"
   },
   {
    "duration": 10,
    "start_time": "2023-01-25T09:59:04.369Z"
   },
   {
    "duration": 10,
    "start_time": "2023-01-25T09:59:04.383Z"
   },
   {
    "duration": 12,
    "start_time": "2023-01-25T09:59:04.395Z"
   },
   {
    "duration": 1453,
    "start_time": "2023-01-25T09:59:04.409Z"
   },
   {
    "duration": 1423,
    "start_time": "2023-01-25T09:59:05.864Z"
   },
   {
    "duration": 1496,
    "start_time": "2023-01-25T09:59:07.290Z"
   },
   {
    "duration": 21,
    "start_time": "2023-01-25T09:59:08.788Z"
   },
   {
    "duration": 21,
    "start_time": "2023-01-25T10:01:55.383Z"
   },
   {
    "duration": 29,
    "start_time": "2023-01-25T10:02:11.899Z"
   },
   {
    "duration": 29,
    "start_time": "2023-01-25T10:02:21.826Z"
   },
   {
    "duration": 29,
    "start_time": "2023-01-25T10:02:27.891Z"
   },
   {
    "duration": 28,
    "start_time": "2023-01-25T10:02:34.551Z"
   },
   {
    "duration": 27,
    "start_time": "2023-01-25T10:02:56.568Z"
   },
   {
    "duration": 114,
    "start_time": "2023-01-25T10:03:05.074Z"
   },
   {
    "duration": 31,
    "start_time": "2023-01-25T10:03:17.407Z"
   },
   {
    "duration": 103,
    "start_time": "2023-01-25T10:04:12.350Z"
   },
   {
    "duration": 80,
    "start_time": "2023-01-25T10:04:48.397Z"
   },
   {
    "duration": 21,
    "start_time": "2023-01-25T10:04:56.206Z"
   },
   {
    "duration": 11,
    "start_time": "2023-01-25T10:07:34.035Z"
   },
   {
    "duration": 11,
    "start_time": "2023-01-25T10:07:42.981Z"
   },
   {
    "duration": 10,
    "start_time": "2023-01-25T10:07:50.089Z"
   },
   {
    "duration": 11,
    "start_time": "2023-01-25T10:07:55.288Z"
   },
   {
    "duration": 12,
    "start_time": "2023-01-25T10:08:05.420Z"
   },
   {
    "duration": 7,
    "start_time": "2023-01-25T10:09:15.281Z"
   },
   {
    "duration": 13,
    "start_time": "2023-01-25T10:13:59.526Z"
   },
   {
    "duration": 16,
    "start_time": "2023-01-25T10:14:20.491Z"
   },
   {
    "duration": 13,
    "start_time": "2023-01-25T10:14:37.863Z"
   },
   {
    "duration": 15,
    "start_time": "2023-01-25T10:15:10.948Z"
   },
   {
    "duration": 5,
    "start_time": "2023-01-25T10:18:49.087Z"
   },
   {
    "duration": 126,
    "start_time": "2023-01-25T10:19:01.397Z"
   },
   {
    "duration": 13,
    "start_time": "2023-01-25T10:19:06.423Z"
   },
   {
    "duration": 3,
    "start_time": "2023-01-25T10:19:23.569Z"
   },
   {
    "duration": 6,
    "start_time": "2023-01-25T10:19:24.078Z"
   },
   {
    "duration": 3,
    "start_time": "2023-01-25T10:19:24.555Z"
   },
   {
    "duration": 5,
    "start_time": "2023-01-25T10:19:25.259Z"
   },
   {
    "duration": 5725,
    "start_time": "2023-01-25T10:23:13.065Z"
   },
   {
    "duration": 157,
    "start_time": "2023-01-25T10:23:18.792Z"
   },
   {
    "duration": 135,
    "start_time": "2023-01-25T10:23:18.951Z"
   },
   {
    "duration": 135,
    "start_time": "2023-01-25T10:23:19.088Z"
   },
   {
    "duration": 40,
    "start_time": "2023-01-25T10:23:19.225Z"
   },
   {
    "duration": 53,
    "start_time": "2023-01-25T10:23:19.267Z"
   },
   {
    "duration": 63,
    "start_time": "2023-01-25T10:23:19.321Z"
   },
   {
    "duration": 66,
    "start_time": "2023-01-25T10:23:19.386Z"
   },
   {
    "duration": 107,
    "start_time": "2023-01-25T10:23:19.454Z"
   },
   {
    "duration": 29,
    "start_time": "2023-01-25T10:23:19.564Z"
   },
   {
    "duration": 12,
    "start_time": "2023-01-25T10:23:19.595Z"
   },
   {
    "duration": 65,
    "start_time": "2023-01-25T10:23:19.608Z"
   },
   {
    "duration": 376,
    "start_time": "2023-01-25T10:23:19.675Z"
   },
   {
    "duration": 95,
    "start_time": "2023-01-25T10:23:20.053Z"
   },
   {
    "duration": 98,
    "start_time": "2023-01-25T10:23:20.150Z"
   },
   {
    "duration": 9,
    "start_time": "2023-01-25T10:23:20.249Z"
   },
   {
    "duration": 15,
    "start_time": "2023-01-25T10:23:20.260Z"
   },
   {
    "duration": 23,
    "start_time": "2023-01-25T10:23:20.277Z"
   },
   {
    "duration": 24,
    "start_time": "2023-01-25T10:23:20.302Z"
   },
   {
    "duration": 29,
    "start_time": "2023-01-25T10:23:20.327Z"
   },
   {
    "duration": 30,
    "start_time": "2023-01-25T10:23:20.358Z"
   },
   {
    "duration": 34,
    "start_time": "2023-01-25T10:23:20.391Z"
   },
   {
    "duration": 18,
    "start_time": "2023-01-25T10:23:20.427Z"
   },
   {
    "duration": 23,
    "start_time": "2023-01-25T10:23:20.447Z"
   },
   {
    "duration": 12,
    "start_time": "2023-01-25T10:23:20.472Z"
   },
   {
    "duration": 1395,
    "start_time": "2023-01-25T10:23:20.486Z"
   },
   {
    "duration": 1396,
    "start_time": "2023-01-25T10:23:21.883Z"
   },
   {
    "duration": 2300,
    "start_time": "2023-01-25T10:23:23.282Z"
   },
   {
    "duration": 125,
    "start_time": "2023-01-25T10:23:25.584Z"
   },
   {
    "duration": 4538,
    "start_time": "2023-01-25T10:23:26.394Z"
   },
   {
    "duration": 150,
    "start_time": "2023-01-25T10:23:30.935Z"
   },
   {
    "duration": 133,
    "start_time": "2023-01-25T10:23:31.086Z"
   },
   {
    "duration": 136,
    "start_time": "2023-01-25T10:23:31.220Z"
   },
   {
    "duration": 37,
    "start_time": "2023-01-25T10:23:31.359Z"
   },
   {
    "duration": 79,
    "start_time": "2023-01-25T10:23:31.398Z"
   },
   {
    "duration": 42,
    "start_time": "2023-01-25T10:23:31.479Z"
   },
   {
    "duration": 55,
    "start_time": "2023-01-25T10:23:31.523Z"
   },
   {
    "duration": 97,
    "start_time": "2023-01-25T10:23:31.580Z"
   },
   {
    "duration": 28,
    "start_time": "2023-01-25T10:23:31.679Z"
   },
   {
    "duration": 8,
    "start_time": "2023-01-25T10:23:31.709Z"
   },
   {
    "duration": 40,
    "start_time": "2023-01-25T10:23:31.737Z"
   },
   {
    "duration": 468,
    "start_time": "2023-01-25T10:23:31.779Z"
   },
   {
    "duration": 189,
    "start_time": "2023-01-25T10:23:32.251Z"
   },
   {
    "duration": 21,
    "start_time": "2023-01-25T10:23:32.442Z"
   },
   {
    "duration": 20,
    "start_time": "2023-01-25T10:23:32.466Z"
   },
   {
    "duration": 28,
    "start_time": "2023-01-25T10:23:32.489Z"
   },
   {
    "duration": 25,
    "start_time": "2023-01-25T10:23:32.519Z"
   },
   {
    "duration": 23,
    "start_time": "2023-01-25T10:23:32.546Z"
   },
   {
    "duration": 21,
    "start_time": "2023-01-25T10:23:32.571Z"
   },
   {
    "duration": 35,
    "start_time": "2023-01-25T10:23:32.594Z"
   },
   {
    "duration": 21,
    "start_time": "2023-01-25T10:23:32.631Z"
   },
   {
    "duration": 24,
    "start_time": "2023-01-25T10:23:32.654Z"
   },
   {
    "duration": 33,
    "start_time": "2023-01-25T10:23:32.680Z"
   },
   {
    "duration": 20,
    "start_time": "2023-01-25T10:23:32.715Z"
   },
   {
    "duration": 1405,
    "start_time": "2023-01-25T10:23:32.737Z"
   },
   {
    "duration": 1360,
    "start_time": "2023-01-25T10:23:34.144Z"
   },
   {
    "duration": 1346,
    "start_time": "2023-01-25T10:23:35.506Z"
   },
   {
    "duration": 20,
    "start_time": "2023-01-25T10:23:36.854Z"
   },
   {
    "duration": 1315,
    "start_time": "2023-01-25T10:39:29.958Z"
   },
   {
    "duration": 67,
    "start_time": "2023-01-25T12:18:08.279Z"
   },
   {
    "duration": 4,
    "start_time": "2023-01-25T12:32:03.747Z"
   },
   {
    "duration": 1423,
    "start_time": "2023-01-25T12:34:06.144Z"
   },
   {
    "duration": 16831,
    "start_time": "2023-01-27T05:55:17.520Z"
   },
   {
    "duration": 655,
    "start_time": "2023-01-27T05:55:34.353Z"
   },
   {
    "duration": 319,
    "start_time": "2023-01-27T05:55:35.011Z"
   },
   {
    "duration": 273,
    "start_time": "2023-01-27T05:55:35.334Z"
   },
   {
    "duration": 61,
    "start_time": "2023-01-27T05:55:35.613Z"
   },
   {
    "duration": 76,
    "start_time": "2023-01-27T05:55:35.677Z"
   },
   {
    "duration": 76,
    "start_time": "2023-01-27T05:55:35.756Z"
   },
   {
    "duration": 71,
    "start_time": "2023-01-27T05:55:35.834Z"
   },
   {
    "duration": 113,
    "start_time": "2023-01-27T05:55:35.907Z"
   },
   {
    "duration": 63,
    "start_time": "2023-01-27T05:55:36.023Z"
   },
   {
    "duration": 22,
    "start_time": "2023-01-27T05:55:36.088Z"
   },
   {
    "duration": 70,
    "start_time": "2023-01-27T05:55:36.113Z"
   },
   {
    "duration": 94,
    "start_time": "2023-01-27T05:55:36.191Z"
   },
   {
    "duration": 122,
    "start_time": "2023-01-27T05:55:36.287Z"
   },
   {
    "duration": 229,
    "start_time": "2023-01-27T05:55:36.412Z"
   },
   {
    "duration": 172,
    "start_time": "2023-01-27T05:55:36.644Z"
   },
   {
    "duration": 6,
    "start_time": "2023-01-27T05:55:36.818Z"
   },
   {
    "duration": 10,
    "start_time": "2023-01-27T05:55:36.826Z"
   },
   {
    "duration": 11,
    "start_time": "2023-01-27T05:55:36.838Z"
   },
   {
    "duration": 5,
    "start_time": "2023-01-27T05:55:36.852Z"
   },
   {
    "duration": 10,
    "start_time": "2023-01-27T05:55:36.859Z"
   },
   {
    "duration": 39,
    "start_time": "2023-01-27T05:55:36.872Z"
   },
   {
    "duration": 15,
    "start_time": "2023-01-27T05:55:36.913Z"
   },
   {
    "duration": 11,
    "start_time": "2023-01-27T05:55:36.929Z"
   },
   {
    "duration": 13,
    "start_time": "2023-01-27T05:55:36.942Z"
   },
   {
    "duration": 11,
    "start_time": "2023-01-27T05:55:36.958Z"
   },
   {
    "duration": 1563,
    "start_time": "2023-01-27T05:55:36.984Z"
   },
   {
    "duration": 1718,
    "start_time": "2023-01-27T05:55:38.551Z"
   },
   {
    "duration": 1565,
    "start_time": "2023-01-27T05:55:40.271Z"
   },
   {
    "duration": 160,
    "start_time": "2023-01-27T05:55:41.838Z"
   },
   {
    "duration": 70,
    "start_time": "2023-01-27T06:02:13.680Z"
   },
   {
    "duration": 5,
    "start_time": "2023-01-27T06:07:45.814Z"
   },
   {
    "duration": 8,
    "start_time": "2023-01-27T06:08:10.317Z"
   },
   {
    "duration": 9,
    "start_time": "2023-01-27T06:08:59.820Z"
   },
   {
    "duration": 17,
    "start_time": "2023-01-27T06:24:13.295Z"
   },
   {
    "duration": 11,
    "start_time": "2023-01-27T06:24:17.956Z"
   },
   {
    "duration": 12,
    "start_time": "2023-01-27T06:24:18.484Z"
   },
   {
    "duration": 10,
    "start_time": "2023-01-27T06:24:19.189Z"
   },
   {
    "duration": 17,
    "start_time": "2023-01-27T06:24:22.549Z"
   },
   {
    "duration": 10,
    "start_time": "2023-01-27T06:25:04.693Z"
   },
   {
    "duration": 11,
    "start_time": "2023-01-27T06:25:35.054Z"
   },
   {
    "duration": 11,
    "start_time": "2023-01-27T06:25:49.410Z"
   },
   {
    "duration": 12,
    "start_time": "2023-01-27T06:26:32.349Z"
   },
   {
    "duration": 11,
    "start_time": "2023-01-27T06:26:58.738Z"
   },
   {
    "duration": 55,
    "start_time": "2023-01-27T06:37:44.321Z"
   },
   {
    "duration": 17,
    "start_time": "2023-01-27T06:37:53.231Z"
   },
   {
    "duration": 2140,
    "start_time": "2023-01-27T06:37:59.627Z"
   },
   {
    "duration": 1951,
    "start_time": "2023-01-27T06:38:01.771Z"
   },
   {
    "duration": 2135,
    "start_time": "2023-01-27T06:38:03.724Z"
   },
   {
    "duration": 16,
    "start_time": "2023-01-27T06:38:07.865Z"
   },
   {
    "duration": 1581,
    "start_time": "2023-01-27T06:38:56.119Z"
   },
   {
    "duration": 16,
    "start_time": "2023-01-27T06:39:28.005Z"
   },
   {
    "duration": 20,
    "start_time": "2023-01-27T06:39:40.503Z"
   },
   {
    "duration": 17,
    "start_time": "2023-01-27T06:39:50.907Z"
   },
   {
    "duration": 16,
    "start_time": "2023-01-27T06:40:40.806Z"
   },
   {
    "duration": 18,
    "start_time": "2023-01-27T06:40:59.238Z"
   },
   {
    "duration": 1699,
    "start_time": "2023-01-27T06:41:19.997Z"
   },
   {
    "duration": 16,
    "start_time": "2023-01-27T06:41:35.657Z"
   },
   {
    "duration": 5095,
    "start_time": "2023-01-27T06:56:25.216Z"
   },
   {
    "duration": 157,
    "start_time": "2023-01-27T06:56:30.314Z"
   },
   {
    "duration": 153,
    "start_time": "2023-01-27T06:56:30.474Z"
   },
   {
    "duration": 168,
    "start_time": "2023-01-27T06:56:30.629Z"
   },
   {
    "duration": 42,
    "start_time": "2023-01-27T06:56:30.799Z"
   },
   {
    "duration": 78,
    "start_time": "2023-01-27T06:56:30.843Z"
   },
   {
    "duration": 68,
    "start_time": "2023-01-27T06:56:30.923Z"
   },
   {
    "duration": 67,
    "start_time": "2023-01-27T06:56:30.993Z"
   },
   {
    "duration": 113,
    "start_time": "2023-01-27T06:56:31.062Z"
   },
   {
    "duration": 40,
    "start_time": "2023-01-27T06:56:31.185Z"
   },
   {
    "duration": 19,
    "start_time": "2023-01-27T06:56:31.227Z"
   },
   {
    "duration": 63,
    "start_time": "2023-01-27T06:56:31.248Z"
   },
   {
    "duration": 173,
    "start_time": "2023-01-27T06:56:31.313Z"
   },
   {
    "duration": 130,
    "start_time": "2023-01-27T06:56:31.488Z"
   },
   {
    "duration": 125,
    "start_time": "2023-01-27T06:56:31.688Z"
   },
   {
    "duration": 78,
    "start_time": "2023-01-27T06:56:31.816Z"
   },
   {
    "duration": 105,
    "start_time": "2023-01-27T06:56:31.896Z"
   },
   {
    "duration": 12,
    "start_time": "2023-01-27T06:56:32.003Z"
   },
   {
    "duration": 11,
    "start_time": "2023-01-27T06:56:32.017Z"
   },
   {
    "duration": 5,
    "start_time": "2023-01-27T06:56:32.030Z"
   },
   {
    "duration": 7,
    "start_time": "2023-01-27T06:56:32.037Z"
   },
   {
    "duration": 13,
    "start_time": "2023-01-27T06:56:32.046Z"
   },
   {
    "duration": 17,
    "start_time": "2023-01-27T06:56:32.061Z"
   },
   {
    "duration": 32,
    "start_time": "2023-01-27T06:56:32.080Z"
   },
   {
    "duration": 10,
    "start_time": "2023-01-27T06:56:32.115Z"
   },
   {
    "duration": 14,
    "start_time": "2023-01-27T06:56:32.128Z"
   },
   {
    "duration": 1497,
    "start_time": "2023-01-27T06:56:32.144Z"
   },
   {
    "duration": 1464,
    "start_time": "2023-01-27T06:56:33.644Z"
   },
   {
    "duration": 2692,
    "start_time": "2023-01-27T06:56:35.110Z"
   },
   {
    "duration": 12,
    "start_time": "2023-01-27T06:56:37.804Z"
   },
   {
    "duration": 5041,
    "start_time": "2023-01-27T07:03:30.216Z"
   },
   {
    "duration": 162,
    "start_time": "2023-01-27T07:03:35.259Z"
   },
   {
    "duration": 139,
    "start_time": "2023-01-27T07:03:35.423Z"
   },
   {
    "duration": 155,
    "start_time": "2023-01-27T07:03:35.564Z"
   },
   {
    "duration": 37,
    "start_time": "2023-01-27T07:03:35.721Z"
   },
   {
    "duration": 72,
    "start_time": "2023-01-27T07:03:35.760Z"
   },
   {
    "duration": 56,
    "start_time": "2023-01-27T07:03:35.834Z"
   },
   {
    "duration": 50,
    "start_time": "2023-01-27T07:03:35.900Z"
   },
   {
    "duration": 106,
    "start_time": "2023-01-27T07:03:35.952Z"
   },
   {
    "duration": 45,
    "start_time": "2023-01-27T07:03:36.061Z"
   },
   {
    "duration": 12,
    "start_time": "2023-01-27T07:03:36.107Z"
   },
   {
    "duration": 71,
    "start_time": "2023-01-27T07:03:36.121Z"
   },
   {
    "duration": 101,
    "start_time": "2023-01-27T07:03:36.198Z"
   },
   {
    "duration": 180,
    "start_time": "2023-01-27T07:03:36.308Z"
   },
   {
    "duration": 157,
    "start_time": "2023-01-27T07:03:36.490Z"
   },
   {
    "duration": 19,
    "start_time": "2023-01-27T07:03:36.688Z"
   },
   {
    "duration": 15,
    "start_time": "2023-01-27T07:03:36.789Z"
   },
   {
    "duration": 12,
    "start_time": "2023-01-27T07:03:36.806Z"
   },
   {
    "duration": 12,
    "start_time": "2023-01-27T07:03:36.820Z"
   },
   {
    "duration": 10,
    "start_time": "2023-01-27T07:03:36.834Z"
   },
   {
    "duration": 9,
    "start_time": "2023-01-27T07:03:36.846Z"
   },
   {
    "duration": 28,
    "start_time": "2023-01-27T07:03:36.857Z"
   },
   {
    "duration": 18,
    "start_time": "2023-01-27T07:03:36.887Z"
   },
   {
    "duration": 13,
    "start_time": "2023-01-27T07:03:36.907Z"
   },
   {
    "duration": 18,
    "start_time": "2023-01-27T07:03:36.922Z"
   },
   {
    "duration": 1488,
    "start_time": "2023-01-27T07:03:36.942Z"
   },
   {
    "duration": 1562,
    "start_time": "2023-01-27T07:03:38.432Z"
   },
   {
    "duration": 1507,
    "start_time": "2023-01-27T07:03:39.998Z"
   },
   {
    "duration": 13,
    "start_time": "2023-01-27T07:03:41.508Z"
   },
   {
    "duration": 13167,
    "start_time": "2023-01-27T21:59:20.952Z"
   },
   {
    "duration": 157,
    "start_time": "2023-01-27T21:59:34.121Z"
   },
   {
    "duration": 136,
    "start_time": "2023-01-27T21:59:34.279Z"
   },
   {
    "duration": 135,
    "start_time": "2023-01-27T21:59:34.417Z"
   },
   {
    "duration": 46,
    "start_time": "2023-01-27T21:59:34.554Z"
   },
   {
    "duration": 51,
    "start_time": "2023-01-27T21:59:34.602Z"
   },
   {
    "duration": 67,
    "start_time": "2023-01-27T21:59:34.654Z"
   },
   {
    "duration": 50,
    "start_time": "2023-01-27T21:59:34.722Z"
   },
   {
    "duration": 106,
    "start_time": "2023-01-27T21:59:34.783Z"
   },
   {
    "duration": 31,
    "start_time": "2023-01-27T21:59:34.891Z"
   },
   {
    "duration": 12,
    "start_time": "2023-01-27T21:59:34.925Z"
   },
   {
    "duration": 80,
    "start_time": "2023-01-27T21:59:34.939Z"
   },
   {
    "duration": 66,
    "start_time": "2023-01-27T21:59:35.021Z"
   },
   {
    "duration": 15785,
    "start_time": "2023-01-28T18:35:02.937Z"
   },
   {
    "duration": 537,
    "start_time": "2023-01-28T18:35:18.724Z"
   },
   {
    "duration": 196,
    "start_time": "2023-01-28T18:35:19.262Z"
   },
   {
    "duration": 195,
    "start_time": "2023-01-28T18:35:19.461Z"
   },
   {
    "duration": 34,
    "start_time": "2023-01-28T18:35:19.658Z"
   },
   {
    "duration": 53,
    "start_time": "2023-01-28T18:35:19.693Z"
   },
   {
    "duration": 57,
    "start_time": "2023-01-28T18:35:19.747Z"
   },
   {
    "duration": 62,
    "start_time": "2023-01-28T18:35:19.806Z"
   },
   {
    "duration": 100,
    "start_time": "2023-01-28T18:35:19.869Z"
   },
   {
    "duration": 34,
    "start_time": "2023-01-28T18:35:19.972Z"
   },
   {
    "duration": 11,
    "start_time": "2023-01-28T18:35:20.007Z"
   },
   {
    "duration": 54,
    "start_time": "2023-01-28T18:35:20.020Z"
   },
   {
    "duration": 49,
    "start_time": "2023-01-28T18:35:20.076Z"
   },
   {
    "duration": 193,
    "start_time": "2023-01-28T18:35:20.127Z"
   },
   {
    "duration": 192,
    "start_time": "2023-01-28T18:35:20.323Z"
   },
   {
    "duration": 87,
    "start_time": "2023-01-28T18:35:20.517Z"
   },
   {
    "duration": 99,
    "start_time": "2023-01-28T18:35:20.606Z"
   },
   {
    "duration": 11,
    "start_time": "2023-01-28T18:35:20.706Z"
   },
   {
    "duration": 7,
    "start_time": "2023-01-28T18:35:20.718Z"
   },
   {
    "duration": 4,
    "start_time": "2023-01-28T18:35:20.727Z"
   },
   {
    "duration": 5,
    "start_time": "2023-01-28T18:35:20.733Z"
   },
   {
    "duration": 14,
    "start_time": "2023-01-28T18:35:20.739Z"
   },
   {
    "duration": 11,
    "start_time": "2023-01-28T18:35:20.754Z"
   },
   {
    "duration": 11,
    "start_time": "2023-01-28T18:35:20.767Z"
   },
   {
    "duration": 23,
    "start_time": "2023-01-28T18:35:20.780Z"
   },
   {
    "duration": 1237,
    "start_time": "2023-01-28T18:35:20.805Z"
   },
   {
    "duration": 1268,
    "start_time": "2023-01-28T18:35:22.044Z"
   },
   {
    "duration": 1335,
    "start_time": "2023-01-28T18:35:23.316Z"
   },
   {
    "duration": 12,
    "start_time": "2023-01-28T18:35:24.653Z"
   }
  ],
  "kernelspec": {
   "display_name": "Python 3 (ipykernel)",
   "language": "python",
   "name": "python3"
  },
  "language_info": {
   "codemirror_mode": {
    "name": "ipython",
    "version": 3
   },
   "file_extension": ".py",
   "mimetype": "text/x-python",
   "name": "python",
   "nbconvert_exporter": "python",
   "pygments_lexer": "ipython3",
   "version": "3.11.3"
  },
  "toc": {
   "base_numbering": 1,
   "nav_menu": {},
   "number_sections": true,
   "sideBar": true,
   "skip_h1_title": true,
   "title_cell": "Table of Contents",
   "title_sidebar": "Contents",
   "toc_cell": false,
   "toc_position": {
    "height": "calc(100% - 180px)",
    "left": "10px",
    "top": "150px",
    "width": "331.25px"
   },
   "toc_section_display": true,
   "toc_window_display": true
  }
 },
 "nbformat": 4,
 "nbformat_minor": 2
}
