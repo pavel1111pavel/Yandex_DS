{
 "cells": [
  {
   "cell_type": "markdown",
   "metadata": {
    "id": "FqniUeCBEA88"
   },
   "source": [
    "# Определение стоимости автомобилей"
   ]
  },
  {
   "cell_type": "markdown",
   "metadata": {
    "id": "JvZonfAxEA9B"
   },
   "source": [
    "Я работаю над разработкой приложения для продажи автомобилей с пробегом для компании \"Не бит, не крашен\". Моя задача - создать модель, которая позволит быстро определить рыночную стоимость автомобиля на основе исторических данных о технических характеристиках, комплектации и ценах автомобилей.\n",
    "\n",
    "Для заказчика очень важно, чтобы модель имела высокое качество предсказаний, быстро работала и требовала минимального времени для обучения. Я уделяю максимальное внимание этим требованиям, чтобы наше приложение было максимально удобным и функциональным для пользователей."
   ]
  },
  {
   "cell_type": "markdown",
   "metadata": {
    "id": "J-A0tOQyEA9E"
   },
   "source": [
    "Признаки  \n",
    "`DateCrawled` — дата скачивания анкеты из базы  \n",
    "`VehicleType` — тип автомобильного кузова  \n",
    "`RegistrationYear` — год регистрации автомобиля  \n",
    "`Gearbox` — тип коробки передач  \n",
    "`Power` — мощность (л. с.)  \n",
    "`Model` — модель автомобиля  \n",
    "`Kilometer` — пробег (км)  \n",
    "`RegistrationMonth` — месяц регистрации автомобиля  \n",
    "`FuelType` — тип топлива  \n",
    "`Brand` — марка автомобиля   \n",
    "`Repaired` — была машина в ремонте или нет  \n",
    "`DateCreated` — дата создания анкеты  \n",
    "`NumberOfPictures` — количество фотографий автомобиля  \n",
    "`PostalCode` — почтовый индекс владельца анкеты (пользователя)  \n",
    "`LastSeen` — дата последней активности пользователя  \n",
    "Целевой признак  \n",
    "`Price` — цена (евро)  "
   ]
  },
  {
   "cell_type": "markdown",
   "metadata": {
    "id": "PNjufCG1EA9F"
   },
   "source": [
    "## Подготовка данных"
   ]
  },
  {
   "cell_type": "markdown",
   "metadata": {
    "id": "RMMYTRqOEA9F"
   },
   "source": [
    "### Импорт библиотек и загрузка данных"
   ]
  },
  {
   "cell_type": "code",
   "execution_count": 1,
   "metadata": {
    "colab": {
     "base_uri": "https://localhost:8080/"
    },
    "id": "1f1smcGjEA9G",
    "outputId": "e05e4055-094c-40eb-cad9-e3dba5d73782"
   },
   "outputs": [
    {
     "name": "stdout",
     "output_type": "stream",
     "text": [
      "Requirement already satisfied: phik in /opt/conda/lib/python3.9/site-packages (0.12.3)\n",
      "Requirement already satisfied: matplotlib>=2.2.3 in /opt/conda/lib/python3.9/site-packages (from phik) (3.3.4)\n",
      "Requirement already satisfied: scipy>=1.5.2 in /opt/conda/lib/python3.9/site-packages (from phik) (1.9.1)\n",
      "Requirement already satisfied: numpy>=1.18.0 in /opt/conda/lib/python3.9/site-packages (from phik) (1.21.1)\n",
      "Requirement already satisfied: joblib>=0.14.1 in /opt/conda/lib/python3.9/site-packages (from phik) (1.1.0)\n",
      "Requirement already satisfied: pandas>=0.25.1 in /opt/conda/lib/python3.9/site-packages (from phik) (1.2.4)\n",
      "Requirement already satisfied: pillow>=6.2.0 in /opt/conda/lib/python3.9/site-packages (from matplotlib>=2.2.3->phik) (8.4.0)\n",
      "Requirement already satisfied: pyparsing!=2.0.4,!=2.1.2,!=2.1.6,>=2.0.3 in /opt/conda/lib/python3.9/site-packages (from matplotlib>=2.2.3->phik) (2.4.7)\n",
      "Requirement already satisfied: kiwisolver>=1.0.1 in /opt/conda/lib/python3.9/site-packages (from matplotlib>=2.2.3->phik) (1.4.4)\n",
      "Requirement already satisfied: python-dateutil>=2.1 in /opt/conda/lib/python3.9/site-packages (from matplotlib>=2.2.3->phik) (2.8.1)\n",
      "Requirement already satisfied: cycler>=0.10 in /opt/conda/lib/python3.9/site-packages (from matplotlib>=2.2.3->phik) (0.11.0)\n",
      "Requirement already satisfied: pytz>=2017.3 in /opt/conda/lib/python3.9/site-packages (from pandas>=0.25.1->phik) (2021.1)\n",
      "Requirement already satisfied: six>=1.5 in /opt/conda/lib/python3.9/site-packages (from python-dateutil>=2.1->matplotlib>=2.2.3->phik) (1.16.0)\n",
      "Requirement already satisfied: catboost in /opt/conda/lib/python3.9/site-packages (1.0.3)\n",
      "Requirement already satisfied: plotly in /opt/conda/lib/python3.9/site-packages (from catboost) (5.4.0)\n",
      "Requirement already satisfied: matplotlib in /opt/conda/lib/python3.9/site-packages (from catboost) (3.3.4)\n",
      "Requirement already satisfied: numpy>=1.16.0 in /opt/conda/lib/python3.9/site-packages (from catboost) (1.21.1)\n",
      "Requirement already satisfied: six in /opt/conda/lib/python3.9/site-packages (from catboost) (1.16.0)\n",
      "Requirement already satisfied: pandas>=0.24.0 in /opt/conda/lib/python3.9/site-packages (from catboost) (1.2.4)\n",
      "Requirement already satisfied: scipy in /opt/conda/lib/python3.9/site-packages (from catboost) (1.9.1)\n",
      "Requirement already satisfied: graphviz in /opt/conda/lib/python3.9/site-packages (from catboost) (0.20.1)\n",
      "Requirement already satisfied: python-dateutil>=2.7.3 in /opt/conda/lib/python3.9/site-packages (from pandas>=0.24.0->catboost) (2.8.1)\n",
      "Requirement already satisfied: pytz>=2017.3 in /opt/conda/lib/python3.9/site-packages (from pandas>=0.24.0->catboost) (2021.1)\n",
      "Requirement already satisfied: cycler>=0.10 in /opt/conda/lib/python3.9/site-packages (from matplotlib->catboost) (0.11.0)\n",
      "Requirement already satisfied: kiwisolver>=1.0.1 in /opt/conda/lib/python3.9/site-packages (from matplotlib->catboost) (1.4.4)\n",
      "Requirement already satisfied: pyparsing!=2.0.4,!=2.1.2,!=2.1.6,>=2.0.3 in /opt/conda/lib/python3.9/site-packages (from matplotlib->catboost) (2.4.7)\n",
      "Requirement already satisfied: pillow>=6.2.0 in /opt/conda/lib/python3.9/site-packages (from matplotlib->catboost) (8.4.0)\n",
      "Requirement already satisfied: tenacity>=6.2.0 in /opt/conda/lib/python3.9/site-packages (from plotly->catboost) (8.0.1)\n",
      "Requirement already satisfied: optuna in /opt/conda/lib/python3.9/site-packages (3.1.0)\n",
      "Requirement already satisfied: numpy in /opt/conda/lib/python3.9/site-packages (from optuna) (1.21.1)\n",
      "Requirement already satisfied: PyYAML in /opt/conda/lib/python3.9/site-packages (from optuna) (6.0)\n",
      "Requirement already satisfied: alembic>=1.5.0 in /opt/conda/lib/python3.9/site-packages (from optuna) (1.6.5)\n",
      "Requirement already satisfied: colorlog in /opt/conda/lib/python3.9/site-packages (from optuna) (6.7.0)\n",
      "Requirement already satisfied: cmaes>=0.9.1 in /opt/conda/lib/python3.9/site-packages (from optuna) (0.9.1)\n",
      "Requirement already satisfied: sqlalchemy>=1.3.0 in /opt/conda/lib/python3.9/site-packages (from optuna) (1.4.20)\n",
      "Requirement already satisfied: tqdm in /opt/conda/lib/python3.9/site-packages (from optuna) (4.61.2)\n",
      "Requirement already satisfied: packaging>=20.0 in /opt/conda/lib/python3.9/site-packages (from optuna) (21.3)\n",
      "Requirement already satisfied: Mako in /opt/conda/lib/python3.9/site-packages (from alembic>=1.5.0->optuna) (1.1.4)\n",
      "Requirement already satisfied: python-dateutil in /opt/conda/lib/python3.9/site-packages (from alembic>=1.5.0->optuna) (2.8.1)\n",
      "Requirement already satisfied: python-editor>=0.3 in /opt/conda/lib/python3.9/site-packages (from alembic>=1.5.0->optuna) (1.0.4)\n",
      "Requirement already satisfied: pyparsing!=3.0.5,>=2.0.2 in /opt/conda/lib/python3.9/site-packages (from packaging>=20.0->optuna) (2.4.7)\n",
      "Requirement already satisfied: greenlet!=0.4.17 in /opt/conda/lib/python3.9/site-packages (from sqlalchemy>=1.3.0->optuna) (1.1.0)\n",
      "Requirement already satisfied: MarkupSafe>=0.9.2 in /opt/conda/lib/python3.9/site-packages (from Mako->alembic>=1.5.0->optuna) (2.1.1)\n",
      "Requirement already satisfied: six>=1.5 in /opt/conda/lib/python3.9/site-packages (from python-dateutil->alembic>=1.5.0->optuna) (1.16.0)\n"
     ]
    }
   ],
   "source": [
    "!pip3 install phik\n",
    "!pip install catboost\n",
    "!pip install optuna"
   ]
  },
  {
   "cell_type": "code",
   "execution_count": 2,
   "metadata": {
    "id": "1r902y0uJEdQ"
   },
   "outputs": [],
   "source": [
    "import matplotlib.pyplot as plt\n",
    "import numpy as np\n",
    "import pandas as pd\n",
    "import warnings\n",
    "\n",
    "from sklearn.model_selection import train_test_split\n",
    "from sklearn.metrics import mean_squared_error\n",
    "from sklearn.preprocessing import OrdinalEncoder, OneHotEncoder\n",
    "from sklearn.linear_model import LinearRegression\n",
    "from sklearn.ensemble import RandomForestRegressor\n",
    "import lightgbm as lgb\n",
    "import catboost as cb\n",
    "\n",
    "\n",
    "from sklearn.model_selection import cross_val_score, GridSearchCV\n",
    "from sklearn.pipeline import Pipeline\n",
    "warnings.filterwarnings('ignore')"
   ]
  },
  {
   "cell_type": "code",
   "execution_count": 3,
   "metadata": {
    "colab": {
     "base_uri": "https://localhost:8080/",
     "height": 424
    },
    "id": "eeagagaREA9J",
    "outputId": "0dafd699-2f9f-43d5-8f5d-eb05fc695ef0",
    "scrolled": false
   },
   "outputs": [
    {
     "data": {
      "text/html": [
       "<div>\n",
       "<style scoped>\n",
       "    .dataframe tbody tr th:only-of-type {\n",
       "        vertical-align: middle;\n",
       "    }\n",
       "\n",
       "    .dataframe tbody tr th {\n",
       "        vertical-align: top;\n",
       "    }\n",
       "\n",
       "    .dataframe thead th {\n",
       "        text-align: right;\n",
       "    }\n",
       "</style>\n",
       "<table border=\"1\" class=\"dataframe\">\n",
       "  <thead>\n",
       "    <tr style=\"text-align: right;\">\n",
       "      <th></th>\n",
       "      <th>DateCrawled</th>\n",
       "      <th>Price</th>\n",
       "      <th>VehicleType</th>\n",
       "      <th>RegistrationYear</th>\n",
       "      <th>Gearbox</th>\n",
       "      <th>Power</th>\n",
       "      <th>Model</th>\n",
       "      <th>Kilometer</th>\n",
       "      <th>RegistrationMonth</th>\n",
       "      <th>FuelType</th>\n",
       "      <th>Brand</th>\n",
       "      <th>Repaired</th>\n",
       "      <th>DateCreated</th>\n",
       "      <th>NumberOfPictures</th>\n",
       "      <th>PostalCode</th>\n",
       "      <th>LastSeen</th>\n",
       "    </tr>\n",
       "  </thead>\n",
       "  <tbody>\n",
       "    <tr>\n",
       "      <th>238879</th>\n",
       "      <td>2016-03-21 09:57:16</td>\n",
       "      <td>50</td>\n",
       "      <td>small</td>\n",
       "      <td>1996</td>\n",
       "      <td>manual</td>\n",
       "      <td>45</td>\n",
       "      <td>1_reihe</td>\n",
       "      <td>150000</td>\n",
       "      <td>6</td>\n",
       "      <td>petrol</td>\n",
       "      <td>peugeot</td>\n",
       "      <td>no</td>\n",
       "      <td>2016-03-21 00:00:00</td>\n",
       "      <td>0</td>\n",
       "      <td>6809</td>\n",
       "      <td>2016-03-21 10:39:55</td>\n",
       "    </tr>\n",
       "    <tr>\n",
       "      <th>30012</th>\n",
       "      <td>2016-03-21 17:44:48</td>\n",
       "      <td>8400</td>\n",
       "      <td>sedan</td>\n",
       "      <td>2010</td>\n",
       "      <td>manual</td>\n",
       "      <td>95</td>\n",
       "      <td>a_klasse</td>\n",
       "      <td>70000</td>\n",
       "      <td>9</td>\n",
       "      <td>petrol</td>\n",
       "      <td>mercedes_benz</td>\n",
       "      <td>no</td>\n",
       "      <td>2016-03-21 00:00:00</td>\n",
       "      <td>0</td>\n",
       "      <td>14974</td>\n",
       "      <td>2016-04-02 18:18:06</td>\n",
       "    </tr>\n",
       "    <tr>\n",
       "      <th>217421</th>\n",
       "      <td>2016-04-01 17:57:12</td>\n",
       "      <td>5999</td>\n",
       "      <td>convertible</td>\n",
       "      <td>1996</td>\n",
       "      <td>manual</td>\n",
       "      <td>192</td>\n",
       "      <td>spider</td>\n",
       "      <td>90000</td>\n",
       "      <td>8</td>\n",
       "      <td>petrol</td>\n",
       "      <td>alfa_romeo</td>\n",
       "      <td>no</td>\n",
       "      <td>2016-04-01 00:00:00</td>\n",
       "      <td>0</td>\n",
       "      <td>30952</td>\n",
       "      <td>2016-04-05 13:45:00</td>\n",
       "    </tr>\n",
       "    <tr>\n",
       "      <th>51274</th>\n",
       "      <td>2016-03-20 11:38:54</td>\n",
       "      <td>2699</td>\n",
       "      <td>NaN</td>\n",
       "      <td>2017</td>\n",
       "      <td>manual</td>\n",
       "      <td>0</td>\n",
       "      <td>golf</td>\n",
       "      <td>150000</td>\n",
       "      <td>3</td>\n",
       "      <td>NaN</td>\n",
       "      <td>volkswagen</td>\n",
       "      <td>no</td>\n",
       "      <td>2016-03-20 00:00:00</td>\n",
       "      <td>0</td>\n",
       "      <td>73035</td>\n",
       "      <td>2016-04-06 08:46:37</td>\n",
       "    </tr>\n",
       "    <tr>\n",
       "      <th>231729</th>\n",
       "      <td>2016-03-25 14:48:00</td>\n",
       "      <td>450</td>\n",
       "      <td>NaN</td>\n",
       "      <td>2016</td>\n",
       "      <td>auto</td>\n",
       "      <td>136</td>\n",
       "      <td>omega</td>\n",
       "      <td>150000</td>\n",
       "      <td>0</td>\n",
       "      <td>NaN</td>\n",
       "      <td>opel</td>\n",
       "      <td>NaN</td>\n",
       "      <td>2016-03-25 00:00:00</td>\n",
       "      <td>0</td>\n",
       "      <td>15713</td>\n",
       "      <td>2016-04-06 17:47:06</td>\n",
       "    </tr>\n",
       "  </tbody>\n",
       "</table>\n",
       "</div>"
      ],
      "text/plain": [
       "                DateCrawled  Price  VehicleType  RegistrationYear Gearbox  \\\n",
       "238879  2016-03-21 09:57:16     50        small              1996  manual   \n",
       "30012   2016-03-21 17:44:48   8400        sedan              2010  manual   \n",
       "217421  2016-04-01 17:57:12   5999  convertible              1996  manual   \n",
       "51274   2016-03-20 11:38:54   2699          NaN              2017  manual   \n",
       "231729  2016-03-25 14:48:00    450          NaN              2016    auto   \n",
       "\n",
       "        Power     Model  Kilometer  RegistrationMonth FuelType          Brand  \\\n",
       "238879     45   1_reihe     150000                  6   petrol        peugeot   \n",
       "30012      95  a_klasse      70000                  9   petrol  mercedes_benz   \n",
       "217421    192    spider      90000                  8   petrol     alfa_romeo   \n",
       "51274       0      golf     150000                  3      NaN     volkswagen   \n",
       "231729    136     omega     150000                  0      NaN           opel   \n",
       "\n",
       "       Repaired          DateCreated  NumberOfPictures  PostalCode  \\\n",
       "238879       no  2016-03-21 00:00:00                 0        6809   \n",
       "30012        no  2016-03-21 00:00:00                 0       14974   \n",
       "217421       no  2016-04-01 00:00:00                 0       30952   \n",
       "51274        no  2016-03-20 00:00:00                 0       73035   \n",
       "231729      NaN  2016-03-25 00:00:00                 0       15713   \n",
       "\n",
       "                   LastSeen  \n",
       "238879  2016-03-21 10:39:55  \n",
       "30012   2016-04-02 18:18:06  \n",
       "217421  2016-04-05 13:45:00  \n",
       "51274   2016-04-06 08:46:37  \n",
       "231729  2016-04-06 17:47:06  "
      ]
     },
     "execution_count": 3,
     "metadata": {},
     "output_type": "execute_result"
    }
   ],
   "source": [
    "try:\n",
    "    data = pd.read_csv('/datasets/autos.csv')\n",
    "except FileNotFoundError:\n",
    "    data = pd.read_csv('https://code.s3.yandex.net/datasets/autos.csv')\n",
    "data.sample(5)"
   ]
  },
  {
   "cell_type": "markdown",
   "metadata": {
    "id": "d3xgnVAOQeQo"
   },
   "source": [
    "##### Промежуточный итог"
   ]
  },
  {
   "cell_type": "markdown",
   "metadata": {
    "id": "WWVrv8z-QjVh"
   },
   "source": [
    "Данные корректно загружены, необходимые библиотеки загружены, данные представляют из себя цифры и буквы"
   ]
  },
  {
   "cell_type": "markdown",
   "metadata": {
    "id": "0b3C8Q4sEA9L"
   },
   "source": [
    "### Изучение данных"
   ]
  },
  {
   "cell_type": "code",
   "execution_count": 4,
   "metadata": {
    "colab": {
     "base_uri": "https://localhost:8080/"
    },
    "id": "6FZWYzODEA9L",
    "outputId": "8e6becc2-8386-49ab-a310-8c383df53dc2",
    "scrolled": false
   },
   "outputs": [
    {
     "name": "stdout",
     "output_type": "stream",
     "text": [
      "<class 'pandas.core.frame.DataFrame'>\n",
      "RangeIndex: 354369 entries, 0 to 354368\n",
      "Data columns (total 16 columns):\n",
      " #   Column             Non-Null Count   Dtype \n",
      "---  ------             --------------   ----- \n",
      " 0   DateCrawled        354369 non-null  object\n",
      " 1   Price              354369 non-null  int64 \n",
      " 2   VehicleType        316879 non-null  object\n",
      " 3   RegistrationYear   354369 non-null  int64 \n",
      " 4   Gearbox            334536 non-null  object\n",
      " 5   Power              354369 non-null  int64 \n",
      " 6   Model              334664 non-null  object\n",
      " 7   Kilometer          354369 non-null  int64 \n",
      " 8   RegistrationMonth  354369 non-null  int64 \n",
      " 9   FuelType           321474 non-null  object\n",
      " 10  Brand              354369 non-null  object\n",
      " 11  Repaired           283215 non-null  object\n",
      " 12  DateCreated        354369 non-null  object\n",
      " 13  NumberOfPictures   354369 non-null  int64 \n",
      " 14  PostalCode         354369 non-null  int64 \n",
      " 15  LastSeen           354369 non-null  object\n",
      "dtypes: int64(7), object(9)\n",
      "memory usage: 43.3+ MB\n"
     ]
    }
   ],
   "source": [
    "data.info()"
   ]
  },
  {
   "cell_type": "markdown",
   "metadata": {
    "id": "WBGSTxwFEA9M"
   },
   "source": [
    "#### convert_to_python_case"
   ]
  },
  {
   "cell_type": "markdown",
   "metadata": {
    "id": "TmzSE2SqRi1b"
   },
   "source": [
    "приведу названия колонок к нижнему регистру"
   ]
  },
  {
   "cell_type": "code",
   "execution_count": 5,
   "metadata": {
    "id": "KCTioVN-EA9M"
   },
   "outputs": [],
   "source": [
    "def convert_to_python_case(text):\n",
    "    s = ''\n",
    "    for el in text:\n",
    "        if el.isupper():\n",
    "            s += '_'\n",
    "        s += el.lower()\n",
    "    return s[1:]\n",
    "data.columns = [convert_to_python_case(i) for i in data.columns]"
   ]
  },
  {
   "cell_type": "markdown",
   "metadata": {
    "id": "abGJEB-bEA9M"
   },
   "source": [
    "#### Удаление колонок number_of_pictures, registration_month, postal_code, date_created, last_seen"
   ]
  },
  {
   "cell_type": "markdown",
   "metadata": {
    "id": "EjBRw2wjRnxn"
   },
   "source": [
    "удалю заведомо бесполезные, как я считаю, колонки для предсказания модели\n",
    "здесь и количество фото в объявлении, почтовый код. возможно, что почтовый код может понадобится для локализации места продажи, а последняя дата обновления для актуализации ценника, но для настоящей задачи считаю это излишним"
   ]
  },
  {
   "cell_type": "code",
   "execution_count": 6,
   "metadata": {
    "colab": {
     "base_uri": "https://localhost:8080/",
     "height": 363
    },
    "id": "bQIlQ6JkEA9N",
    "outputId": "2d11542b-6c05-46c0-fd86-0596d8010db3",
    "scrolled": true
   },
   "outputs": [
    {
     "data": {
      "text/html": [
       "<div>\n",
       "<style scoped>\n",
       "    .dataframe tbody tr th:only-of-type {\n",
       "        vertical-align: middle;\n",
       "    }\n",
       "\n",
       "    .dataframe tbody tr th {\n",
       "        vertical-align: top;\n",
       "    }\n",
       "\n",
       "    .dataframe thead th {\n",
       "        text-align: right;\n",
       "    }\n",
       "</style>\n",
       "<table border=\"1\" class=\"dataframe\">\n",
       "  <thead>\n",
       "    <tr style=\"text-align: right;\">\n",
       "      <th></th>\n",
       "      <th>date_crawled</th>\n",
       "      <th>price</th>\n",
       "      <th>vehicle_type</th>\n",
       "      <th>registration_year</th>\n",
       "      <th>gearbox</th>\n",
       "      <th>power</th>\n",
       "      <th>model</th>\n",
       "      <th>kilometer</th>\n",
       "      <th>fuel_type</th>\n",
       "      <th>brand</th>\n",
       "      <th>repaired</th>\n",
       "    </tr>\n",
       "  </thead>\n",
       "  <tbody>\n",
       "    <tr>\n",
       "      <th>349095</th>\n",
       "      <td>2016-03-24 19:49:49</td>\n",
       "      <td>1900</td>\n",
       "      <td>sedan</td>\n",
       "      <td>2004</td>\n",
       "      <td>manual</td>\n",
       "      <td>116</td>\n",
       "      <td>mondeo</td>\n",
       "      <td>150000</td>\n",
       "      <td>gasoline</td>\n",
       "      <td>ford</td>\n",
       "      <td>no</td>\n",
       "    </tr>\n",
       "    <tr>\n",
       "      <th>102141</th>\n",
       "      <td>2016-04-03 17:56:04</td>\n",
       "      <td>800</td>\n",
       "      <td>wagon</td>\n",
       "      <td>1994</td>\n",
       "      <td>manual</td>\n",
       "      <td>115</td>\n",
       "      <td>NaN</td>\n",
       "      <td>150000</td>\n",
       "      <td>petrol</td>\n",
       "      <td>volkswagen</td>\n",
       "      <td>no</td>\n",
       "    </tr>\n",
       "    <tr>\n",
       "      <th>181796</th>\n",
       "      <td>2016-03-31 20:49:36</td>\n",
       "      <td>120</td>\n",
       "      <td>sedan</td>\n",
       "      <td>1990</td>\n",
       "      <td>manual</td>\n",
       "      <td>113</td>\n",
       "      <td>3er</td>\n",
       "      <td>150000</td>\n",
       "      <td>petrol</td>\n",
       "      <td>bmw</td>\n",
       "      <td>yes</td>\n",
       "    </tr>\n",
       "    <tr>\n",
       "      <th>89407</th>\n",
       "      <td>2016-03-13 09:46:38</td>\n",
       "      <td>100</td>\n",
       "      <td>small</td>\n",
       "      <td>1999</td>\n",
       "      <td>manual</td>\n",
       "      <td>101</td>\n",
       "      <td>astra</td>\n",
       "      <td>150000</td>\n",
       "      <td>petrol</td>\n",
       "      <td>opel</td>\n",
       "      <td>yes</td>\n",
       "    </tr>\n",
       "    <tr>\n",
       "      <th>200552</th>\n",
       "      <td>2016-03-23 18:56:06</td>\n",
       "      <td>0</td>\n",
       "      <td>other</td>\n",
       "      <td>2006</td>\n",
       "      <td>manual</td>\n",
       "      <td>0</td>\n",
       "      <td>NaN</td>\n",
       "      <td>20000</td>\n",
       "      <td>other</td>\n",
       "      <td>sonstige_autos</td>\n",
       "      <td>yes</td>\n",
       "    </tr>\n",
       "    <tr>\n",
       "      <th>138000</th>\n",
       "      <td>2016-03-08 10:52:15</td>\n",
       "      <td>444</td>\n",
       "      <td>small</td>\n",
       "      <td>1991</td>\n",
       "      <td>manual</td>\n",
       "      <td>90</td>\n",
       "      <td>golf</td>\n",
       "      <td>150000</td>\n",
       "      <td>petrol</td>\n",
       "      <td>volkswagen</td>\n",
       "      <td>yes</td>\n",
       "    </tr>\n",
       "    <tr>\n",
       "      <th>246961</th>\n",
       "      <td>2016-03-30 23:54:37</td>\n",
       "      <td>180</td>\n",
       "      <td>NaN</td>\n",
       "      <td>2000</td>\n",
       "      <td>manual</td>\n",
       "      <td>60</td>\n",
       "      <td>corsa</td>\n",
       "      <td>150000</td>\n",
       "      <td>NaN</td>\n",
       "      <td>opel</td>\n",
       "      <td>yes</td>\n",
       "    </tr>\n",
       "    <tr>\n",
       "      <th>110816</th>\n",
       "      <td>2016-03-18 16:41:36</td>\n",
       "      <td>800</td>\n",
       "      <td>wagon</td>\n",
       "      <td>1994</td>\n",
       "      <td>manual</td>\n",
       "      <td>136</td>\n",
       "      <td>omega</td>\n",
       "      <td>150000</td>\n",
       "      <td>petrol</td>\n",
       "      <td>opel</td>\n",
       "      <td>NaN</td>\n",
       "    </tr>\n",
       "    <tr>\n",
       "      <th>332041</th>\n",
       "      <td>2016-04-02 20:56:00</td>\n",
       "      <td>5300</td>\n",
       "      <td>coupe</td>\n",
       "      <td>1996</td>\n",
       "      <td>manual</td>\n",
       "      <td>400</td>\n",
       "      <td>golf</td>\n",
       "      <td>150000</td>\n",
       "      <td>petrol</td>\n",
       "      <td>volkswagen</td>\n",
       "      <td>no</td>\n",
       "    </tr>\n",
       "    <tr>\n",
       "      <th>219421</th>\n",
       "      <td>2016-03-14 07:59:10</td>\n",
       "      <td>8800</td>\n",
       "      <td>NaN</td>\n",
       "      <td>2017</td>\n",
       "      <td>manual</td>\n",
       "      <td>110</td>\n",
       "      <td>eos</td>\n",
       "      <td>80000</td>\n",
       "      <td>petrol</td>\n",
       "      <td>volkswagen</td>\n",
       "      <td>no</td>\n",
       "    </tr>\n",
       "  </tbody>\n",
       "</table>\n",
       "</div>"
      ],
      "text/plain": [
       "               date_crawled  price vehicle_type  registration_year gearbox  \\\n",
       "349095  2016-03-24 19:49:49   1900        sedan               2004  manual   \n",
       "102141  2016-04-03 17:56:04    800        wagon               1994  manual   \n",
       "181796  2016-03-31 20:49:36    120        sedan               1990  manual   \n",
       "89407   2016-03-13 09:46:38    100        small               1999  manual   \n",
       "200552  2016-03-23 18:56:06      0        other               2006  manual   \n",
       "138000  2016-03-08 10:52:15    444        small               1991  manual   \n",
       "246961  2016-03-30 23:54:37    180          NaN               2000  manual   \n",
       "110816  2016-03-18 16:41:36    800        wagon               1994  manual   \n",
       "332041  2016-04-02 20:56:00   5300        coupe               1996  manual   \n",
       "219421  2016-03-14 07:59:10   8800          NaN               2017  manual   \n",
       "\n",
       "        power   model  kilometer fuel_type           brand repaired  \n",
       "349095    116  mondeo     150000  gasoline            ford       no  \n",
       "102141    115     NaN     150000    petrol      volkswagen       no  \n",
       "181796    113     3er     150000    petrol             bmw      yes  \n",
       "89407     101   astra     150000    petrol            opel      yes  \n",
       "200552      0     NaN      20000     other  sonstige_autos      yes  \n",
       "138000     90    golf     150000    petrol      volkswagen      yes  \n",
       "246961     60   corsa     150000       NaN            opel      yes  \n",
       "110816    136   omega     150000    petrol            opel      NaN  \n",
       "332041    400    golf     150000    petrol      volkswagen       no  \n",
       "219421    110     eos      80000    petrol      volkswagen       no  "
      ]
     },
     "execution_count": 6,
     "metadata": {},
     "output_type": "execute_result"
    }
   ],
   "source": [
    "data = data.drop(['number_of_pictures', 'registration_month', 'postal_code', 'date_created', 'last_seen'], axis=1)\n",
    "data.sample(10)"
   ]
  },
  {
   "cell_type": "markdown",
   "metadata": {
    "id": "6zIrWPhkEA9N"
   },
   "source": [
    "#### replacment"
   ]
  },
  {
   "cell_type": "markdown",
   "metadata": {
    "id": "O4RCPf83SUBn"
   },
   "source": [
    "назову машины только бензиновыми и газовыми, почему то нет дизельных, это довольно важно для ценообразования. Електромобилей не так много, соединил их вместе с гибридами"
   ]
  },
  {
   "cell_type": "code",
   "execution_count": 7,
   "metadata": {
    "colab": {
     "base_uri": "https://localhost:8080/"
    },
    "id": "AgvqysinEA9O",
    "outputId": "e88ce1c6-30d9-4de6-cb14-cca94124119a"
   },
   "outputs": [
    {
     "data": {
      "text/plain": [
       "petrol    315072\n",
       "cng         5875\n",
       "other        527\n",
       "Name: fuel_type, dtype: int64"
      ]
     },
     "execution_count": 7,
     "metadata": {},
     "output_type": "execute_result"
    }
   ],
   "source": [
    "replacements = {'gasoline': 'petrol', 'lpg': 'cng', 'electric': 'other', 'hybrid': 'other' }\n",
    "data['fuel_type'] = data['fuel_type'].replace(replacements)\n",
    "data.fuel_type.value_counts()"
   ]
  },
  {
   "cell_type": "markdown",
   "metadata": {
    "id": "DIAnHWjBEA9O",
    "scrolled": false
   },
   "source": [
    "#### доли пропусков в данных"
   ]
  },
  {
   "cell_type": "markdown",
   "metadata": {
    "id": "sRjib5ZXSpQv"
   },
   "source": [
    "посчитаю доли пропусков, где они есть"
   ]
  },
  {
   "cell_type": "code",
   "execution_count": 8,
   "metadata": {
    "colab": {
     "base_uri": "https://localhost:8080/"
    },
    "id": "tfklgSQ0EA9O",
    "outputId": "72a025a9-f9b5-4828-8c11-7edbe5dcbced",
    "scrolled": true
   },
   "outputs": [
    {
     "data": {
      "text/plain": [
       "vehicle_type    10.58\n",
       "gearbox          5.60\n",
       "model            5.56\n",
       "fuel_type        9.28\n",
       "repaired        20.08\n",
       "dtype: float64"
      ]
     },
     "execution_count": 8,
     "metadata": {},
     "output_type": "execute_result"
    }
   ],
   "source": [
    "x = data.isna().mean().where(data.isna().mean() > 0).dropna().round(4)*100\n",
    "x"
   ]
  },
  {
   "cell_type": "markdown",
   "metadata": {
    "id": "yi4X8YoRSww_"
   },
   "source": [
    "постараюсь узнать побольше про пропуски и что с ними можно делать"
   ]
  },
  {
   "cell_type": "code",
   "execution_count": 9,
   "metadata": {
    "colab": {
     "base_uri": "https://localhost:8080/"
    },
    "id": "ntfIQ-IREA9O",
    "outputId": "e2382544-33e7-4331-e94c-b587d9963bae",
    "scrolled": false
   },
   "outputs": [
    {
     "name": "stdout",
     "output_type": "stream",
     "text": [
      "manual    268251\n",
      "auto       66285\n",
      "Name: gearbox, dtype: int64\n",
      "\n",
      "False    334536\n",
      "True      19833\n",
      "Name: gearbox, dtype: int64\n",
      "******************************\n",
      "\n",
      "golf                  29232\n",
      "other                 24421\n",
      "3er                   19761\n",
      "polo                  13066\n",
      "corsa                 12570\n",
      "                      ...  \n",
      "serie_2                   8\n",
      "rangerover                4\n",
      "serie_3                   4\n",
      "range_rover_evoque        2\n",
      "serie_1                   2\n",
      "Name: model, Length: 250, dtype: int64\n",
      "\n",
      "False    334664\n",
      "True      19705\n",
      "Name: model, dtype: int64\n",
      "******************************\n",
      "\n",
      "petrol    315072\n",
      "cng         5875\n",
      "other        527\n",
      "Name: fuel_type, dtype: int64\n",
      "\n",
      "False    321474\n",
      "True      32895\n",
      "Name: fuel_type, dtype: int64\n",
      "******************************\n",
      "\n",
      "no     247161\n",
      "yes     36054\n",
      "Name: repaired, dtype: int64\n",
      "\n",
      "False    283215\n",
      "True      71154\n",
      "Name: repaired, dtype: int64\n",
      "******************************\n",
      "\n"
     ]
    }
   ],
   "source": [
    "list_of_isna =[]\n",
    "for i in data[['gearbox', 'model', 'fuel_type', 'repaired']]:\n",
    "    print(data[f'{i}'].value_counts())\n",
    "    print()\n",
    "    print(data[f'{i}'].isna().value_counts())\n",
    "    list_of_isna.append(data[f'{i}'].isna().value_counts())\n",
    "    print('***' * 10)\n",
    "    print(end='\\n')"
   ]
  },
  {
   "cell_type": "markdown",
   "metadata": {
    "id": "rQnheEfITdPI"
   },
   "source": [
    "#### boxplot"
   ]
  },
  {
   "cell_type": "code",
   "execution_count": 12,
   "metadata": {
    "colab": {
     "base_uri": "https://localhost:8080/",
     "height": 1000
    },
    "id": "1eEcSt2GEA9R",
    "outputId": "752614e0-cc16-40f8-c22e-be544af0229c",
    "scrolled": false
   },
   "outputs": [
    {
     "data": {
      "image/png": "[encoded data removed]",
      "text/plain": [
       "<Figure size 432x288 with 1 Axes>"
      ]
     },
     "metadata": {
      "needs_background": "light"
     },
     "output_type": "display_data"
    },
    {
     "data": {
      "image/png": "[encoded data removed]",
      "text/plain": [
       "<Figure size 432x288 with 1 Axes>"
      ]
     },
     "metadata": {
      "needs_background": "light"
     },
     "output_type": "display_data"
    },
    {
     "data": {
      "image/png": "[encoded data removed]",
      "text/plain": [
       "<Figure size 432x288 with 1 Axes>"
      ]
     },
     "metadata": {
      "needs_background": "light"
     },
     "output_type": "display_data"
    },
    {
     "data": {
      "image/png": "[encoded data removed]",
      "text/plain": [
       "<Figure size 432x288 with 1 Axes>"
      ]
     },
     "metadata": {
      "needs_background": "light"
     },
     "output_type": "display_data"
    }
   ],
   "source": [
    "import matplotlib.pyplot as plt\n",
    "num_cols = list(data.select_dtypes(include=['float64', 'int64']).columns)\n",
    "\n",
    "\n",
    "for col in num_cols:\n",
    "    plt.figure()\n",
    "    data.boxplot([col])\n",
    "    plt.title(col)\n",
    "    plt.show()"
   ]
  },
  {
   "cell_type": "markdown",
   "metadata": {
    "id": "yVGvwbNKTnKf"
   },
   "source": [
    "везде есть выбросы, но в частично данные смещены к нулю, что считаю некорректным"
   ]
  },
  {
   "cell_type": "code",
   "execution_count": 13,
   "metadata": {
    "colab": {
     "base_uri": "https://localhost:8080/",
     "height": 337
    },
    "id": "lIocrC4-EA9S",
    "outputId": "52c5fc96-3f7e-4c0d-8d40-0ad236bd79b7"
   },
   "outputs": [
    {
     "data": {
      "text/plain": [
       "<AxesSubplot:>"
      ]
     },
     "execution_count": 13,
     "metadata": {},
     "output_type": "execute_result"
    },
    {
     "data": {
      "image/png": "[encoded data removed]",
      "text/plain": [
       "<Figure size 1080x360 with 1 Axes>"
      ]
     },
     "metadata": {
      "needs_background": "light"
     },
     "output_type": "display_data"
    }
   ],
   "source": [
    "data.power.hist(bins=200, range=(0, 450), figsize=(15, 5))"
   ]
  },
  {
   "cell_type": "code",
   "execution_count": 14,
   "metadata": {
    "colab": {
     "base_uri": "https://localhost:8080/",
     "height": 320
    },
    "id": "AsFunbrIEA9S",
    "outputId": "8b28cc56-1fa5-4304-f5f1-7fabc67326ca"
   },
   "outputs": [
    {
     "data": {
      "image/png": "[encoded data removed]",
      "text/plain": [
       "<Figure size 1080x360 with 1 Axes>"
      ]
     },
     "metadata": {
      "needs_background": "light"
     },
     "output_type": "display_data"
    }
   ],
   "source": [
    "data.power.hist(bins=200, range=(0, 5), figsize=(15, 5));"
   ]
  },
  {
   "cell_type": "code",
   "execution_count": 15,
   "metadata": {
    "colab": {
     "base_uri": "https://localhost:8080/",
     "height": 608
    },
    "id": "d9zYLqOOEA9S",
    "outputId": "542aae2a-de1d-4084-c353-3cd1fb3b5bca"
   },
   "outputs": [
    {
     "data": {
      "image/png": "[encoded data removed]",
      "text/plain": [
       "<Figure size 1080x720 with 4 Axes>"
      ]
     },
     "metadata": {
      "needs_background": "light"
     },
     "output_type": "display_data"
    }
   ],
   "source": [
    "result_df = data.loc[data.price == 0]\n",
    "\n",
    "result_df.hist(figsize=(15,10), bins=100);"
   ]
  },
  {
   "cell_type": "code",
   "execution_count": 16,
   "metadata": {
    "colab": {
     "base_uri": "https://localhost:8080/",
     "height": 320
    },
    "id": "-E9xvRlCGxsP",
    "outputId": "56bc3deb-f9c4-4a2e-a76b-aec0854102d9"
   },
   "outputs": [
    {
     "data": {
      "image/png": "[encoded data removed]",
      "text/plain": [
       "<Figure size 1080x360 with 1 Axes>"
      ]
     },
     "metadata": {
      "needs_background": "light"
     },
     "output_type": "display_data"
    }
   ],
   "source": [
    "result_df.power.hist(bins=200, range=(0, 100), figsize=(15, 5));"
   ]
  },
  {
   "cell_type": "markdown",
   "metadata": {
    "id": "1gTVEpRDTwdH"
   },
   "source": [
    "считаю, что нулевые значения точно не помогут в выполнении задачи, а заполнять их средним или медианной некорректно, поэтому удалю"
   ]
  },
  {
   "cell_type": "code",
   "execution_count": 17,
   "metadata": {
    "id": "Z9l9FBQLEA9T"
   },
   "outputs": [],
   "source": [
    "data.drop(data[data.price == 0].index, inplace=True)\n",
    "data.drop(data[data.power == 0].index, inplace=True)"
   ]
  },
  {
   "cell_type": "markdown",
   "metadata": {
    "id": "e-VP0nDzUTw_"
   },
   "source": [
    "еще раз посмотрим на пропущенные значения и приступим к предобработке"
   ]
  },
  {
   "cell_type": "code",
   "execution_count": 18,
   "metadata": {
    "colab": {
     "base_uri": "https://localhost:8080/"
    },
    "id": "IaWN3wyyEA9T",
    "outputId": "55e7549f-f258-4a38-b1d8-56d352b2a6d5",
    "scrolled": false
   },
   "outputs": [
    {
     "name": "stdout",
     "output_type": "stream",
     "text": [
      "Столбец: vehicle_type\n",
      "Описание:\n",
      "count     285837\n",
      "unique         8\n",
      "top        sedan\n",
      "freq       83172\n",
      "Name: vehicle_type, dtype: object\n",
      "Пропущено значений:\n",
      "21400\n",
      "\n",
      "\n",
      "Столбец: gearbox\n",
      "Описание:\n",
      "count     301128\n",
      "unique         2\n",
      "top       manual\n",
      "freq      240694\n",
      "Name: gearbox, dtype: object\n",
      "Пропущено значений:\n",
      "6109\n",
      "\n",
      "\n",
      "Столбец: model\n",
      "Описание:\n",
      "count     294743\n",
      "unique       249\n",
      "top         golf\n",
      "freq       26031\n",
      "Name: model, dtype: object\n",
      "Пропущено значений:\n",
      "12494\n",
      "\n",
      "\n",
      "Столбец: fuel_type\n",
      "Описание:\n",
      "count     287408\n",
      "unique         3\n",
      "top       petrol\n",
      "freq      281730\n",
      "Name: fuel_type, dtype: object\n",
      "Пропущено значений:\n",
      "19829\n",
      "\n",
      "\n",
      "Столбец: repaired\n",
      "Описание:\n",
      "count     260043\n",
      "unique         2\n",
      "top           no\n",
      "freq      230261\n",
      "Name: repaired, dtype: object\n",
      "Пропущено значений:\n",
      "47194\n",
      "\n",
      "\n"
     ]
    }
   ],
   "source": [
    "missing_values = data.isnull().sum()\n",
    "\n",
    "missing_columns = missing_values[missing_values > 0]\n",
    "\n",
    "for column in missing_columns.index:\n",
    "    print(\"Столбец:\", column)\n",
    "    print(\"Описание:\")\n",
    "    print(data[column].describe())\n",
    "    print('Пропущено значений:')\n",
    "    print(data[column].isnull().sum())\n",
    "    print(\"\\n\")\n"
   ]
  },
  {
   "cell_type": "markdown",
   "metadata": {
    "id": "OoZj708hUbtX"
   },
   "source": [
    "#### Итог по изучению данных"
   ]
  },
  {
   "cell_type": "markdown",
   "metadata": {
    "id": "M_PBDuh3Ugf3"
   },
   "source": [
    "Данные загружены и изучены\n",
    "\n",
    "Есть пропуски, в некоторых колонках до  20%\n",
    "\n",
    "Удалены заведомо неинформативные колонки\n",
    "\n",
    "Построен график корреляции Phik\n",
    "\n",
    "Построены графики boxplot, выявлены паразитные значения и выбросы"
   ]
  },
  {
   "cell_type": "markdown",
   "metadata": {
    "id": "SR3BU0DhVGjv"
   },
   "source": [
    "### Заполнение пропусков, обработка аномалий"
   ]
  },
  {
   "cell_type": "markdown",
   "metadata": {
    "id": "z38EiT0IEA9T"
   },
   "source": [
    "#### Registration_year"
   ]
  },
  {
   "cell_type": "markdown",
   "metadata": {
    "id": "2B2JcZ3pVRO4"
   },
   "source": [
    "совершенно не правдоподобные уникальные значения года регистрации(выпуска?)\n",
    "это один из ключевых параметров, считаю нужным отсечь лишнее"
   ]
  },
  {
   "cell_type": "code",
   "execution_count": 19,
   "metadata": {},
   "outputs": [
    {
     "data": {
      "text/plain": [
       "'2016-04-07 14:36:58'"
      ]
     },
     "execution_count": 19,
     "metadata": {},
     "output_type": "execute_result"
    }
   ],
   "source": [
    "data.date_crawled.max()"
   ]
  },
  {
   "cell_type": "code",
   "execution_count": 20,
   "metadata": {
    "colab": {
     "base_uri": "https://localhost:8080/"
    },
    "id": "m8P9Q-EWEA9U",
    "outputId": "3c74099f-a2bb-4417-d6f2-3a9bd0ff6922"
   },
   "outputs": [
    {
     "data": {
      "text/plain": [
       "array([2011, 2004, 2001, 2008, 1995, 2014, 1998, 2005, 2016, 2007, 2009,\n",
       "       2002, 2018, 1997, 1990, 2017, 1981, 2003, 1991, 1984, 2006, 1999,\n",
       "       2012, 1994, 2010, 2000, 1992, 2013, 1996, 1989, 2015, 1993, 1985,\n",
       "       1982, 1983, 1973, 1969, 1971, 1987, 1988, 1980, 1970, 1986, 1976,\n",
       "       1965, 1945, 1974, 1955, 1978, 1979, 1972, 1977, 1961, 1975, 1968,\n",
       "       1963, 1966, 1964, 1958, 1959, 1956, 1941, 1960, 1500, 1962, 1929,\n",
       "       1957, 1910, 1940, 1967, 1949, 1937, 1800, 1953, 2019, 1954, 1234,\n",
       "       2900, 6000, 5911, 1400, 5000, 4000, 8000, 1932, 1951, 1952, 1950,\n",
       "       4800, 1942, 1935, 6500, 1923, 1000, 1930, 9999, 1943, 1938, 1936,\n",
       "       1928, 3000, 2800, 1931, 1948, 4500, 1927, 1933, 8200, 1947, 1944,\n",
       "       1600])"
      ]
     },
     "execution_count": 20,
     "metadata": {},
     "output_type": "execute_result"
    }
   ],
   "source": [
    "data.registration_year.unique()\n"
   ]
  },
  {
   "cell_type": "code",
   "execution_count": 21,
   "metadata": {
    "colab": {
     "base_uri": "https://localhost:8080/",
     "height": 621
    },
    "id": "jh_rUQMaEA9U",
    "outputId": "6da52456-0c8f-40e9-b40f-5dcdecb8d92c"
   },
   "outputs": [
    {
     "data": {
      "image/png": "[encoded data removed]",
      "text/plain": [
       "<Figure size 1800x720 with 1 Axes>"
      ]
     },
     "metadata": {
      "needs_background": "light"
     },
     "output_type": "display_data"
    }
   ],
   "source": [
    "data.plot(x='registration_year', y='price', kind='scatter')\n",
    "\n",
    "plt.xlabel('год регистрации')\n",
    "plt.ylabel('цена')\n",
    "plt.title('ценники в зависимости от года регистрации')\n",
    "plt.gcf().set_size_inches(25, 10)\n",
    "\n",
    "plt.show()"
   ]
  },
  {
   "cell_type": "code",
   "execution_count": 22,
   "metadata": {
    "colab": {
     "base_uri": "https://localhost:8080/",
     "height": 241
    },
    "id": "DSi2QmRNEA9U",
    "outputId": "7e7530c5-3cd8-4090-cdd9-643862f30c66",
    "scrolled": true
   },
   "outputs": [
    {
     "data": {
      "image/png": "[encoded data removed]",
      "text/plain": [
       "<Figure size 1080x216 with 1 Axes>"
      ]
     },
     "metadata": {
      "needs_background": "light"
     },
     "output_type": "display_data"
    }
   ],
   "source": [
    "data.registration_year.hist(bins = 55, figsize = (15,3), range=(1960, 2025));\n",
    "plt.xlabel(\"года\")\n",
    "plt.ylabel(\"количество продаж\")\n",
    "plt.title('распределение по годам');"
   ]
  },
  {
   "cell_type": "markdown",
   "metadata": {},
   "source": [
    "последнее зарегестрированное объявление было '2016-04-07 14:36:58', чтобы не заморачиваться с месяцами, ограничу верхнюю планку 2017 годом"
   ]
  },
  {
   "cell_type": "markdown",
   "metadata": {
    "id": "m5rmg5t9EA9V"
   },
   "source": [
    "удалю все объявления старше 1950 и после 2017, как неправдободные"
   ]
  },
  {
   "cell_type": "code",
   "execution_count": 23,
   "metadata": {
    "id": "yCwBZvw-EA9V"
   },
   "outputs": [],
   "source": [
    "data = data.drop(['date_crawled'], axis = 1)\n",
    "data.loc[data['registration_year'] > 2016] = 0\n",
    "data.loc[data['registration_year'] < 1950] = 0"
   ]
  },
  {
   "cell_type": "code",
   "execution_count": 24,
   "metadata": {
    "colab": {
     "base_uri": "https://localhost:8080/",
     "height": 621
    },
    "id": "ilGwUv7YEA9V",
    "outputId": "1a79b48e-af05-4943-c63c-645311142944",
    "scrolled": false
   },
   "outputs": [
    {
     "data": {
      "image/png": "[encoded data removed]",
      "text/plain": [
       "<Figure size 1800x720 with 1 Axes>"
      ]
     },
     "metadata": {
      "needs_background": "light"
     },
     "output_type": "display_data"
    }
   ],
   "source": [
    "data.plot(x='registration_year', y='price', kind='scatter')\n",
    "\n",
    "plt.xlabel('года')\n",
    "\n",
    "plt.ylabel('цена')\n",
    "plt.title('зависимость цен по годам')\n",
    "plt.gcf().set_size_inches(25, 10)\n",
    "plt.show()"
   ]
  },
  {
   "cell_type": "code",
   "execution_count": 25,
   "metadata": {
    "id": "yXffgUD0OT-6"
   },
   "outputs": [],
   "source": [
    "data.drop(data[data.price == 0].index, inplace=True)\n",
    "data.drop(data[data.registration_year == 0].index, inplace=True)"
   ]
  },
  {
   "cell_type": "code",
   "execution_count": 26,
   "metadata": {
    "colab": {
     "base_uri": "https://localhost:8080/"
    },
    "id": "OeFTq1H5EA9V",
    "outputId": "66551b12-dee4-4413-e920-b32f3186be47",
    "scrolled": true
   },
   "outputs": [
    {
     "data": {
      "text/plain": [
       "1999    19609\n",
       "2005    18936\n",
       "2000    18823\n",
       "2006    18587\n",
       "2003    17965\n",
       "        ...  \n",
       "1953        8\n",
       "1951        8\n",
       "1957        8\n",
       "1950        7\n",
       "1952        4\n",
       "Name: registration_year, Length: 67, dtype: int64"
      ]
     },
     "execution_count": 26,
     "metadata": {},
     "output_type": "execute_result"
    }
   ],
   "source": [
    "data.registration_year.value_counts()"
   ]
  },
  {
   "cell_type": "markdown",
   "metadata": {
    "id": "hblaoNCoEA9W"
   },
   "source": [
    "#### Price"
   ]
  },
  {
   "cell_type": "code",
   "execution_count": 27,
   "metadata": {
    "colab": {
     "base_uri": "https://localhost:8080/",
     "height": 622
    },
    "id": "7oHVBrkKEA9W",
    "outputId": "2daad89e-0c58-42ac-d9c7-cb87260d441d"
   },
   "outputs": [
    {
     "data": {
      "image/png": "[encoded data removed]",
      "text/plain": [
       "<Figure size 1800x720 with 1 Axes>"
      ]
     },
     "metadata": {
      "needs_background": "light"
     },
     "output_type": "display_data"
    }
   ],
   "source": [
    "data.plot(x='kilometer', y='price', kind='scatter')\n",
    "\n",
    "plt.xlabel('пробег')\n",
    "plt.ylabel('цена')\n",
    "plt.title('зависимость цены от пробега')\n",
    "plt.gcf().set_size_inches(25, 10)\n",
    "\n",
    "plt.show()  "
   ]
  },
  {
   "cell_type": "markdown",
   "metadata": {
    "id": "y9eHa9R0EA9W"
   },
   "source": [
    "#### Repaired"
   ]
  },
  {
   "cell_type": "markdown",
   "metadata": {
    "id": "Nk5onplRWWpo"
   },
   "source": [
    "постараюсь побороться с самой запущенной по пропускам колонке, переименную категории, посмотрю распредление и удалю лишнее\n"
   ]
  },
  {
   "cell_type": "code",
   "execution_count": 28,
   "metadata": {
    "colab": {
     "base_uri": "https://localhost:8080/"
    },
    "id": "uiQCjWotEA9W",
    "outputId": "0e44ff00-7ebc-4c04-8b54-da5f9f11a22f"
   },
   "outputs": [
    {
     "data": {
      "text/plain": [
       "1           1\n",
       "2         NaN\n",
       "3           0\n",
       "4           0\n",
       "5           1\n",
       "         ... \n",
       "354361      0\n",
       "354362      1\n",
       "354366      0\n",
       "354367      0\n",
       "354368    NaN\n",
       "Name: repaired, Length: 296852, dtype: object"
      ]
     },
     "execution_count": 28,
     "metadata": {},
     "output_type": "execute_result"
    }
   ],
   "source": [
    "data['repaired'] = data['repaired'].replace({'yes': '1', 'no': '0', '0':'0'})\n",
    "data.repaired"
   ]
  },
  {
   "cell_type": "code",
   "execution_count": 29,
   "metadata": {
    "colab": {
     "base_uri": "https://localhost:8080/"
    },
    "id": "ZodnXEw7EA9X",
    "outputId": "da7990ac-ce76-4270-c09f-26090d6a29ff"
   },
   "outputs": [
    {
     "data": {
      "text/plain": [
       "0    224811\n",
       "1     28985\n",
       "Name: repaired, dtype: int64"
      ]
     },
     "execution_count": 29,
     "metadata": {},
     "output_type": "execute_result"
    }
   ],
   "source": [
    "data.repaired.value_counts()"
   ]
  },
  {
   "cell_type": "code",
   "execution_count": 30,
   "metadata": {
    "colab": {
     "base_uri": "https://localhost:8080/",
     "height": 499
    },
    "id": "U9mA1jZ0V4-m",
    "outputId": "04c14cdb-a63b-4dce-810e-0089b8bf7828"
   },
   "outputs": [
    {
     "data": {
      "image/png": "[encoded data removed]",
      "text/plain": [
       "<Figure size 1080x576 with 4 Axes>"
      ]
     },
     "metadata": {
      "needs_background": "light"
     },
     "output_type": "display_data"
    }
   ],
   "source": [
    "df_with_nan = data.loc[data['repaired'].isnull()]\n",
    "df_with_nan.hist(figsize=(15,8));"
   ]
  },
  {
   "cell_type": "code",
   "execution_count": 31,
   "metadata": {
    "colab": {
     "base_uri": "https://localhost:8080/",
     "height": 211
    },
    "id": "ShnB_VkUV5CY",
    "outputId": "43fb4a85-9ca0-43ad-c432-dc08f3711eea"
   },
   "outputs": [
    {
     "data": {
      "image/png": "[encoded data removed]",
      "text/plain": [
       "<Figure size 1080x216 with 1 Axes>"
      ]
     },
     "metadata": {
      "needs_background": "light"
     },
     "output_type": "display_data"
    }
   ],
   "source": [
    "df_with_nan.kilometer.hist(bins = 100, figsize = (15,3), range=(0, 180000));"
   ]
  },
  {
   "cell_type": "code",
   "execution_count": 32,
   "metadata": {
    "colab": {
     "base_uri": "https://localhost:8080/"
    },
    "id": "LhROXzHAV5Ff",
    "outputId": "cc25c16b-dbd7-4a02-9539-af8f1675e9ba"
   },
   "outputs": [
    {
     "data": {
      "text/plain": [
       "0          224811\n",
       "unknown     43056\n",
       "1           28985\n",
       "Name: repaired, dtype: int64"
      ]
     },
     "execution_count": 32,
     "metadata": {},
     "output_type": "execute_result"
    }
   ],
   "source": [
    "data.repaired = data.repaired.replace(np.nan, 'unknown')\n",
    "data.repaired.value_counts()"
   ]
  },
  {
   "cell_type": "markdown",
   "metadata": {
    "id": "vBR4PO6HPCp2"
   },
   "source": [
    "#### Gearbox"
   ]
  },
  {
   "cell_type": "markdown",
   "metadata": {
    "id": "C5ZV1miQWoE_"
   },
   "source": [
    "пропущенные данные есть, но отнесем их в неизвестные, их немного, на модель не должны сильно повлиять"
   ]
  },
  {
   "cell_type": "code",
   "execution_count": 33,
   "metadata": {
    "colab": {
     "base_uri": "https://localhost:8080/"
    },
    "id": "hhARAJ5HlyfY",
    "outputId": "8011d1e0-cda5-4ea6-fcf9-2667f093093a"
   },
   "outputs": [
    {
     "data": {
      "text/plain": [
       "manual     232445\n",
       "auto        59008\n",
       "unknown      5399\n",
       "Name: gearbox, dtype: int64"
      ]
     },
     "execution_count": 33,
     "metadata": {},
     "output_type": "execute_result"
    }
   ],
   "source": [
    "data.gearbox = data.gearbox.replace(np.nan, 'unknown')\n",
    "data.gearbox = data.gearbox.replace(0, 'unknown')\n",
    "data.gearbox.value_counts()"
   ]
  },
  {
   "cell_type": "markdown",
   "metadata": {
    "id": "BPvjHeqZCfio"
   },
   "source": [
    "#### Power"
   ]
  },
  {
   "cell_type": "markdown",
   "metadata": {
    "id": "ZZd8GcODWy5w"
   },
   "source": [
    "довольно значимый признак при продаже, но показатели в 20т.л.с или в 0 л.с. не могут не настораживать, как некорректные\n",
    "признаю допустимым, что гражданское авто может иметь 300 и даже 400 л.с., но я был бы не прочь, при возможности, приобрести и довольно быстрый авто, поэтму поднял планку в 500 л.с. Все что выше - спортивные болиды и должны оцениваться индивидуально, тем более что квантиль в 0.98 показывает 260 л.с."
   ]
  },
  {
   "cell_type": "code",
   "execution_count": 34,
   "metadata": {
    "colab": {
     "base_uri": "https://localhost:8080/"
    },
    "id": "oVPHAhxI0nCZ",
    "outputId": "5f712f5f-e22d-4a8f-8143-dbe938f5d5ad"
   },
   "outputs": [
    {
     "data": {
      "text/plain": [
       "count    296852.000000\n",
       "mean        124.295157\n",
       "std         190.818212\n",
       "min           1.000000\n",
       "25%          75.000000\n",
       "50%         111.000000\n",
       "75%         150.000000\n",
       "max       20000.000000\n",
       "Name: power, dtype: float64"
      ]
     },
     "execution_count": 34,
     "metadata": {},
     "output_type": "execute_result"
    }
   ],
   "source": [
    "data.power.describe()"
   ]
  },
  {
   "cell_type": "code",
   "execution_count": 35,
   "metadata": {
    "colab": {
     "base_uri": "https://localhost:8080/"
    },
    "id": "0IOLjv2SCxc4",
    "outputId": "cf0ecedf-c3e7-4a80-e5fc-18f507854c1f"
   },
   "outputs": [
    {
     "name": "stdout",
     "output_type": "stream",
     "text": [
      "265.0\n",
      "54.0\n"
     ]
    }
   ],
   "source": [
    "print(data.power.quantile(0.98))\n",
    "print(data.power.quantile(.04))"
   ]
  },
  {
   "cell_type": "code",
   "execution_count": 36,
   "metadata": {
    "id": "TL7mM9G-CxlR"
   },
   "outputs": [],
   "source": [
    "data.drop(data[data.power > 500].index, inplace=True)\n",
    "data.drop(data[data.power < 15].index, inplace=True)"
   ]
  },
  {
   "cell_type": "code",
   "execution_count": 37,
   "metadata": {
    "colab": {
     "base_uri": "https://localhost:8080/"
    },
    "id": "Ntqg5nJJCxrI",
    "outputId": "49e1f0d6-e1d9-413d-fd86-b49a9ce11bde"
   },
   "outputs": [
    {
     "data": {
      "text/plain": [
       "count    296177.000000\n",
       "mean        120.607299\n",
       "std          53.467408\n",
       "min          15.000000\n",
       "25%          75.000000\n",
       "50%         111.000000\n",
       "75%         150.000000\n",
       "max         500.000000\n",
       "Name: power, dtype: float64"
      ]
     },
     "execution_count": 37,
     "metadata": {},
     "output_type": "execute_result"
    }
   ],
   "source": [
    "data.power.describe()"
   ]
  },
  {
   "cell_type": "markdown",
   "metadata": {
    "id": "wEXwHyvYCyM-"
   },
   "source": [
    "#### Model"
   ]
  },
  {
   "cell_type": "markdown",
   "metadata": {
    "id": "_J2HkV9aXkXz"
   },
   "source": [
    "здесь анализ недолгий, если нет названия модели - относим к неизвестному, главное что в брендах у нас нет пропусков"
   ]
  },
  {
   "cell_type": "code",
   "execution_count": 38,
   "metadata": {
    "id": "qv6WU2Fz0nKT"
   },
   "outputs": [],
   "source": [
    "data.model = data.model.replace(np.nan, 'unknown')"
   ]
  },
  {
   "cell_type": "code",
   "execution_count": 39,
   "metadata": {
    "colab": {
     "base_uri": "https://localhost:8080/"
    },
    "id": "47FS5PQyl9x_",
    "outputId": "f6a8e85b-9cc4-4b41-ffc9-c3352aad81c5"
   },
   "outputs": [
    {
     "data": {
      "text/plain": [
       "vehicle_type    3.72\n",
       "fuel_type       5.24\n",
       "dtype: float64"
      ]
     },
     "execution_count": 39,
     "metadata": {},
     "output_type": "execute_result"
    }
   ],
   "source": [
    "x = data.isna().mean().where(data.isna().mean() > 0).dropna().round(4)*100\n",
    "x"
   ]
  },
  {
   "cell_type": "markdown",
   "metadata": {
    "id": "ReRRBvmdPb-Y"
   },
   "source": [
    "#### Vehicle Type"
   ]
  },
  {
   "cell_type": "code",
   "execution_count": 40,
   "metadata": {
    "colab": {
     "base_uri": "https://localhost:8080/"
    },
    "id": "STlh0TCAl-CP",
    "outputId": "7a9e8434-1d94-4bd1-8f8f-c1fe229db5c5"
   },
   "outputs": [
    {
     "name": "stdout",
     "output_type": "stream",
     "text": [
      "1               coupe\n",
      "2                 suv\n",
      "3               small\n",
      "4               small\n",
      "5               sedan\n",
      "             ...     \n",
      "354361        unknown\n",
      "354362          sedan\n",
      "354366    convertible\n",
      "354367            bus\n",
      "354368          wagon\n",
      "Name: vehicle_type, Length: 296177, dtype: object\n"
     ]
    }
   ],
   "source": [
    "data.vehicle_type = data.vehicle_type.replace(np.nan, 'unknown')\n",
    "data.fuel_type = data.fuel_type.replace(np.nan, 'unknown')\n",
    "data.reset_index(drop=True)\n",
    "print(data.vehicle_type.astype(str))\n"
   ]
  },
  {
   "cell_type": "markdown",
   "metadata": {
    "id": "SHgCJjfSYDnl"
   },
   "source": [
    "#### Итог по заполнению и обработке"
   ]
  },
  {
   "cell_type": "markdown",
   "metadata": {
    "id": "1bZl9gUkYJk0"
   },
   "source": [
    "Были обработаны пропуски, большей частю заменены на категорию unknown\n",
    "\n",
    "Аномалии убраны, т.к. их замена может повлиять на итог работы. Считаю возможным восстановление данных, по другим данным, но контекст работы это не предполагает"
   ]
  },
  {
   "cell_type": "markdown",
   "metadata": {
    "id": "t6rqc-j3EA9X"
   },
   "source": [
    "### Подготовка к обучению"
   ]
  },
  {
   "cell_type": "markdown",
   "metadata": {
    "id": "xSRu_2i0YqGH"
   },
   "source": [
    "ооооочень долгое время было потрачено на ту недоработку, что некоторые категориальные колонки имели, почему то, целочисленные значения. возможно, они закрались по ошибке, поэтому обрабатываю их в начале и удостоверяюсь, что ничего лишнего нет"
   ]
  },
  {
   "cell_type": "code",
   "execution_count": 41,
   "metadata": {
    "colab": {
     "base_uri": "https://localhost:8080/"
    },
    "id": "FnK5I3oyDnTn",
    "outputId": "ca126271-d42e-4f2a-e614-b28662391922"
   },
   "outputs": [
    {
     "name": "stdout",
     "output_type": "stream",
     "text": [
      "['coupe' 'suv' 'small' 'sedan' 'convertible' 'bus' 'wagon' 'unknown'\n",
      " 'other']\n",
      "['manual' 'auto' 'unknown']\n",
      "['unknown' 'grand' 'golf' 'fabia' '3er' '2_reihe' 'c_max' '3_reihe'\n",
      " 'passat' 'navara' 'polo' 'twingo' 'a_klasse' 'scirocco' '5er' 'arosa'\n",
      " 'other' 'civic' 'transporter' 'punto' 'e_klasse' 'clio' 'kadett' 'one'\n",
      " 'fortwo' '1er' 'b_klasse' 'a8' 'jetta' 'fiesta' 'c_klasse' 'micra' 'vito'\n",
      " 'sprinter' 'astra' '156' 'escort' 'forester' 'xc_reihe' 'scenic' 'ka'\n",
      " 'a1' 'focus' 'a4' 'tt' 'a6' 'jazz' 'omega' 'slk' '7er' 'combo' 'corsa'\n",
      " '80' '147' 'z_reihe' 'sorento' 'ibiza' 'mustang' 'eos' 'touran' 'getz'\n",
      " 'insignia' 'almera' 'megane' 'a3' 'lupo' 'r19' 'caddy' 'mondeo' 'cordoba'\n",
      " 'colt' 'impreza' 'vectra' 'berlingo' 'tiguan' '6_reihe' 'c4' 'panda' 'up'\n",
      " 'i_reihe' 'ceed' 'kangoo' '5_reihe' 'yeti' 'octavia' 'zafira' 'mii'\n",
      " 'rx_reihe' '6er' 'modus' 'fox' 'matiz' 'beetle' 'rio' 'touareg' 'logan'\n",
      " 'spider' 'cuore' 's_max' 'a2' 'galaxy' 'c3' 'viano' 's_klasse' '1_reihe'\n",
      " 'sharan' 'avensis' 'roomster' 'sl' 'kaefer' 'santa' 'leon' 'cooper'\n",
      " '4_reihe' 'a5' 'sportage' 'laguna' 'ptcruiser' 'clk' 'primera' 'espace'\n",
      " 'exeo' '159' 'transit' 'juke' 'x_reihe' 'v40' 'carisma' 'accord'\n",
      " 'corolla' 'lanos' 'phaeton' 'verso' 'swift' 'rav' 'qashqai' 'picanto'\n",
      " 'boxster' 'superb' 'stilo' 'alhambra' 'mx_reihe' 'roadster' 'ypsilon'\n",
      " 'galant' 'justy' '90' 'sirion' 'signum' 'crossfire' 'agila' 'duster'\n",
      " 'v50' '500' 'meriva' 'c_reihe' 'v_klasse' 'm_klasse' 'yaris' 'c5' 'aygo'\n",
      " 'seicento' 'cc' 'carnival' 'fusion' '911' 'bora' 'forfour' 'cl' 'tigra'\n",
      " '300c' '100' 'cr_reihe' 'spark' 'kuga' 'x_type' 'ducato' 's_type'\n",
      " 'x_trail' 'toledo' 'altea' 'voyager' 'calibra' 'v70' 'bravo' 'tucson'\n",
      " 'c1' 'citigo' 'jimny' 'cayenne' 'wrangler' 'lybra' 'lancer' 'captiva'\n",
      " 'discovery' 'freelander' 'sandero' 'q7' 'note' 'antara' '900' 'cherokee'\n",
      " 'clubman' 'defender' 'cx_reihe' 'legacy' 'pajero' 'auris' 'c2' 'niva'\n",
      " 's60' 'm_reihe' 'nubira' 'vivaro' 'g_klasse' 'lodgy' 'range_rover' '601'\n",
      " '850' 'q3' 'serie_2' 'glk' 'charade' 'croma' 'outlander' 'doblo' 'musa'\n",
      " '9000' 'kalos' 'v60' '200' '145' 'b_max' 'range_rover_sport' 'aveo'\n",
      " 'move' 'rangerover' 'q5' 'range_rover_evoque' 'materia' 'delta' 'terios'\n",
      " 'gl' 'kalina' 'elefantino' 'i3' 'samara' 'amarok' 'kappa' 'serie_3']\n",
      "['petrol' 'unknown' 'cng' 'other']\n",
      "['audi' 'jeep' 'volkswagen' 'skoda' 'bmw' 'peugeot' 'ford' 'mazda'\n",
      " 'nissan' 'renault' 'mercedes_benz' 'seat' 'honda' 'fiat' 'opel' 'mini'\n",
      " 'smart' 'hyundai' 'sonstige_autos' 'alfa_romeo' 'subaru' 'volvo'\n",
      " 'mitsubishi' 'kia' 'suzuki' 'lancia' 'citroen' 'toyota' 'chevrolet'\n",
      " 'dacia' 'daihatsu' 'chrysler' 'jaguar' 'daewoo' 'rover' 'porsche' 'saab'\n",
      " 'trabant' 'land_rover' 'lada']\n",
      "['1' 'unknown' '0']\n"
     ]
    }
   ],
   "source": [
    "data=data.reset_index(drop=True)\n",
    "df = data.copy()\n",
    "col = df.select_dtypes(include=['object']).columns\n",
    "\n",
    "for i in df[col]:\n",
    "  df[i] = df[i].astype(str)\n",
    "  print(df[i].unique())\n",
    "\n",
    "  \n",
    "features = df.drop('price', axis=1)\n",
    "target = df.price"
   ]
  },
  {
   "cell_type": "markdown",
   "metadata": {
    "id": "6WxwG9FtZJYb"
   },
   "source": [
    "разбивка по выборкам и кодировка для эксперимента над моделями RandomForest и LinearRegression"
   ]
  },
  {
   "cell_type": "code",
   "execution_count": 42,
   "metadata": {
    "id": "8ZwKKicwEA9X"
   },
   "outputs": [],
   "source": [
    "features_train, features_test, target_train, target_test = train_test_split(features, target, test_size=0.2, random_state=12345)\n",
    "features_test, features_val, target_test, target_val = train_test_split(features_test, target_test, test_size=0.5, random_state=12345)\n",
    "\n",
    "X_train, X_test, y_train, y_test = train_test_split(features, target, test_size=0.2, random_state=12345)\n",
    "X_train, X_val, y_train, y_val = train_test_split(X_test, y_test, test_size=0.5, random_state=12345)"
   ]
  },
  {
   "cell_type": "code",
   "execution_count": null,
   "metadata": {},
   "outputs": [],
   "source": []
  },
  {
   "cell_type": "code",
   "execution_count": 43,
   "metadata": {
    "colab": {
     "base_uri": "https://localhost:8080/",
     "height": 424
    },
    "id": "vPuBFL6Hga3u",
    "outputId": "545e3aa4-0334-4412-9194-6e635cfff9a0"
   },
   "outputs": [
    {
     "data": {
      "text/html": [
       "<div>\n",
       "<style scoped>\n",
       "    .dataframe tbody tr th:only-of-type {\n",
       "        vertical-align: middle;\n",
       "    }\n",
       "\n",
       "    .dataframe tbody tr th {\n",
       "        vertical-align: top;\n",
       "    }\n",
       "\n",
       "    .dataframe thead th {\n",
       "        text-align: right;\n",
       "    }\n",
       "</style>\n",
       "<table border=\"1\" class=\"dataframe\">\n",
       "  <thead>\n",
       "    <tr style=\"text-align: right;\">\n",
       "      <th></th>\n",
       "      <th>0</th>\n",
       "      <th>1</th>\n",
       "      <th>2</th>\n",
       "      <th>3</th>\n",
       "      <th>4</th>\n",
       "      <th>5</th>\n",
       "    </tr>\n",
       "  </thead>\n",
       "  <tbody>\n",
       "    <tr>\n",
       "      <th>0</th>\n",
       "      <td>4.0</td>\n",
       "      <td>2.0</td>\n",
       "      <td>15.0</td>\n",
       "      <td>3.0</td>\n",
       "      <td>0.0</td>\n",
       "      <td>1.0</td>\n",
       "    </tr>\n",
       "    <tr>\n",
       "      <th>1</th>\n",
       "      <td>4.0</td>\n",
       "      <td>24.0</td>\n",
       "      <td>42.0</td>\n",
       "      <td>2.0</td>\n",
       "      <td>1.0</td>\n",
       "      <td>0.0</td>\n",
       "    </tr>\n",
       "    <tr>\n",
       "      <th>2</th>\n",
       "      <td>5.0</td>\n",
       "      <td>10.0</td>\n",
       "      <td>128.0</td>\n",
       "      <td>2.0</td>\n",
       "      <td>1.0</td>\n",
       "      <td>0.0</td>\n",
       "    </tr>\n",
       "    <tr>\n",
       "      <th>3</th>\n",
       "      <td>0.0</td>\n",
       "      <td>27.0</td>\n",
       "      <td>198.0</td>\n",
       "      <td>2.0</td>\n",
       "      <td>1.0</td>\n",
       "      <td>0.0</td>\n",
       "    </tr>\n",
       "    <tr>\n",
       "      <th>4</th>\n",
       "      <td>8.0</td>\n",
       "      <td>38.0</td>\n",
       "      <td>170.0</td>\n",
       "      <td>2.0</td>\n",
       "      <td>1.0</td>\n",
       "      <td>0.0</td>\n",
       "    </tr>\n",
       "    <tr>\n",
       "      <th>...</th>\n",
       "      <td>...</td>\n",
       "      <td>...</td>\n",
       "      <td>...</td>\n",
       "      <td>...</td>\n",
       "      <td>...</td>\n",
       "      <td>...</td>\n",
       "    </tr>\n",
       "    <tr>\n",
       "      <th>29613</th>\n",
       "      <td>4.0</td>\n",
       "      <td>1.0</td>\n",
       "      <td>28.0</td>\n",
       "      <td>2.0</td>\n",
       "      <td>1.0</td>\n",
       "      <td>0.0</td>\n",
       "    </tr>\n",
       "    <tr>\n",
       "      <th>29614</th>\n",
       "      <td>5.0</td>\n",
       "      <td>38.0</td>\n",
       "      <td>143.0</td>\n",
       "      <td>2.0</td>\n",
       "      <td>1.0</td>\n",
       "      <td>0.0</td>\n",
       "    </tr>\n",
       "    <tr>\n",
       "      <th>29615</th>\n",
       "      <td>5.0</td>\n",
       "      <td>32.0</td>\n",
       "      <td>106.0</td>\n",
       "      <td>2.0</td>\n",
       "      <td>1.0</td>\n",
       "      <td>1.0</td>\n",
       "    </tr>\n",
       "    <tr>\n",
       "      <th>29616</th>\n",
       "      <td>6.0</td>\n",
       "      <td>24.0</td>\n",
       "      <td>166.0</td>\n",
       "      <td>2.0</td>\n",
       "      <td>1.0</td>\n",
       "      <td>0.0</td>\n",
       "    </tr>\n",
       "    <tr>\n",
       "      <th>29617</th>\n",
       "      <td>4.0</td>\n",
       "      <td>24.0</td>\n",
       "      <td>234.0</td>\n",
       "      <td>2.0</td>\n",
       "      <td>1.0</td>\n",
       "      <td>0.0</td>\n",
       "    </tr>\n",
       "  </tbody>\n",
       "</table>\n",
       "<p>29618 rows × 6 columns</p>\n",
       "</div>"
      ],
      "text/plain": [
       "         0     1      2    3    4    5\n",
       "0      4.0   2.0   15.0  3.0  0.0  1.0\n",
       "1      4.0  24.0   42.0  2.0  1.0  0.0\n",
       "2      5.0  10.0  128.0  2.0  1.0  0.0\n",
       "3      0.0  27.0  198.0  2.0  1.0  0.0\n",
       "4      8.0  38.0  170.0  2.0  1.0  0.0\n",
       "...    ...   ...    ...  ...  ...  ...\n",
       "29613  4.0   1.0   28.0  2.0  1.0  0.0\n",
       "29614  5.0  38.0  143.0  2.0  1.0  0.0\n",
       "29615  5.0  32.0  106.0  2.0  1.0  1.0\n",
       "29616  6.0  24.0  166.0  2.0  1.0  0.0\n",
       "29617  4.0  24.0  234.0  2.0  1.0  0.0\n",
       "\n",
       "[29618 rows x 6 columns]"
      ]
     },
     "execution_count": 43,
     "metadata": {},
     "output_type": "execute_result"
    }
   ],
   "source": [
    "cat_features = ['vehicle_type','brand','model', 'fuel_type', 'gearbox', 'repaired']\n",
    "encoder = OrdinalEncoder()\n",
    "encoder.fit(features_train[cat_features])\n",
    "\n",
    "features_test_oe= pd.DataFrame(encoder.transform(features_test[cat_features]))\n",
    "features_train_oe= pd.DataFrame(encoder.transform(features_train[cat_features]))\n",
    "features_val_oe = pd.DataFrame(encoder.transform(features_val[cat_features]))\n",
    "target_val_oe = target_val.copy()\n",
    "target_train_oe = target_train.copy()\n",
    "target_test_oe = target_test.copy()\n",
    "\n",
    "features_train_oe\n",
    "features_test_oe"
   ]
  },
  {
   "cell_type": "code",
   "execution_count": 44,
   "metadata": {
    "colab": {
     "base_uri": "https://localhost:8080/",
     "height": 488
    },
    "id": "iJrnthLkKz98",
    "outputId": "94c9f827-6ebd-4dfd-d9fe-53a5414cbc73"
   },
   "outputs": [
    {
     "data": {
      "text/html": [
       "<div>\n",
       "<style scoped>\n",
       "    .dataframe tbody tr th:only-of-type {\n",
       "        vertical-align: middle;\n",
       "    }\n",
       "\n",
       "    .dataframe tbody tr th {\n",
       "        vertical-align: top;\n",
       "    }\n",
       "\n",
       "    .dataframe thead th {\n",
       "        text-align: right;\n",
       "    }\n",
       "</style>\n",
       "<table border=\"1\" class=\"dataframe\">\n",
       "  <thead>\n",
       "    <tr style=\"text-align: right;\">\n",
       "      <th></th>\n",
       "      <th>registration_year</th>\n",
       "      <th>power</th>\n",
       "      <th>kilometer</th>\n",
       "      <th>vehicle_type_convertible</th>\n",
       "      <th>vehicle_type_coupe</th>\n",
       "      <th>vehicle_type_other</th>\n",
       "      <th>vehicle_type_sedan</th>\n",
       "      <th>vehicle_type_small</th>\n",
       "      <th>vehicle_type_suv</th>\n",
       "      <th>vehicle_type_unknown</th>\n",
       "      <th>...</th>\n",
       "      <th>brand_smart</th>\n",
       "      <th>brand_sonstige_autos</th>\n",
       "      <th>brand_subaru</th>\n",
       "      <th>brand_suzuki</th>\n",
       "      <th>brand_toyota</th>\n",
       "      <th>brand_trabant</th>\n",
       "      <th>brand_volkswagen</th>\n",
       "      <th>brand_volvo</th>\n",
       "      <th>repaired_1</th>\n",
       "      <th>repaired_unknown</th>\n",
       "    </tr>\n",
       "  </thead>\n",
       "  <tbody>\n",
       "    <tr>\n",
       "      <th>106219</th>\n",
       "      <td>2003</td>\n",
       "      <td>105</td>\n",
       "      <td>150000</td>\n",
       "      <td>0</td>\n",
       "      <td>0</td>\n",
       "      <td>0</td>\n",
       "      <td>0</td>\n",
       "      <td>1</td>\n",
       "      <td>0</td>\n",
       "      <td>0</td>\n",
       "      <td>...</td>\n",
       "      <td>0</td>\n",
       "      <td>0</td>\n",
       "      <td>0</td>\n",
       "      <td>0</td>\n",
       "      <td>0</td>\n",
       "      <td>0</td>\n",
       "      <td>1</td>\n",
       "      <td>0</td>\n",
       "      <td>0</td>\n",
       "      <td>1</td>\n",
       "    </tr>\n",
       "    <tr>\n",
       "      <th>134583</th>\n",
       "      <td>2002</td>\n",
       "      <td>192</td>\n",
       "      <td>150000</td>\n",
       "      <td>0</td>\n",
       "      <td>0</td>\n",
       "      <td>0</td>\n",
       "      <td>0</td>\n",
       "      <td>0</td>\n",
       "      <td>0</td>\n",
       "      <td>0</td>\n",
       "      <td>...</td>\n",
       "      <td>0</td>\n",
       "      <td>0</td>\n",
       "      <td>0</td>\n",
       "      <td>0</td>\n",
       "      <td>0</td>\n",
       "      <td>0</td>\n",
       "      <td>0</td>\n",
       "      <td>0</td>\n",
       "      <td>0</td>\n",
       "      <td>0</td>\n",
       "    </tr>\n",
       "    <tr>\n",
       "      <th>194482</th>\n",
       "      <td>2014</td>\n",
       "      <td>116</td>\n",
       "      <td>70000</td>\n",
       "      <td>0</td>\n",
       "      <td>0</td>\n",
       "      <td>0</td>\n",
       "      <td>1</td>\n",
       "      <td>0</td>\n",
       "      <td>0</td>\n",
       "      <td>0</td>\n",
       "      <td>...</td>\n",
       "      <td>0</td>\n",
       "      <td>0</td>\n",
       "      <td>0</td>\n",
       "      <td>0</td>\n",
       "      <td>0</td>\n",
       "      <td>0</td>\n",
       "      <td>0</td>\n",
       "      <td>0</td>\n",
       "      <td>1</td>\n",
       "      <td>0</td>\n",
       "    </tr>\n",
       "    <tr>\n",
       "      <th>10031</th>\n",
       "      <td>2004</td>\n",
       "      <td>150</td>\n",
       "      <td>150000</td>\n",
       "      <td>0</td>\n",
       "      <td>0</td>\n",
       "      <td>0</td>\n",
       "      <td>1</td>\n",
       "      <td>0</td>\n",
       "      <td>0</td>\n",
       "      <td>0</td>\n",
       "      <td>...</td>\n",
       "      <td>0</td>\n",
       "      <td>0</td>\n",
       "      <td>0</td>\n",
       "      <td>0</td>\n",
       "      <td>0</td>\n",
       "      <td>0</td>\n",
       "      <td>0</td>\n",
       "      <td>0</td>\n",
       "      <td>0</td>\n",
       "      <td>0</td>\n",
       "    </tr>\n",
       "    <tr>\n",
       "      <th>67277</th>\n",
       "      <td>2010</td>\n",
       "      <td>110</td>\n",
       "      <td>100000</td>\n",
       "      <td>0</td>\n",
       "      <td>0</td>\n",
       "      <td>0</td>\n",
       "      <td>1</td>\n",
       "      <td>0</td>\n",
       "      <td>0</td>\n",
       "      <td>0</td>\n",
       "      <td>...</td>\n",
       "      <td>0</td>\n",
       "      <td>0</td>\n",
       "      <td>0</td>\n",
       "      <td>0</td>\n",
       "      <td>0</td>\n",
       "      <td>0</td>\n",
       "      <td>0</td>\n",
       "      <td>0</td>\n",
       "      <td>0</td>\n",
       "      <td>0</td>\n",
       "    </tr>\n",
       "    <tr>\n",
       "      <th>...</th>\n",
       "      <td>...</td>\n",
       "      <td>...</td>\n",
       "      <td>...</td>\n",
       "      <td>...</td>\n",
       "      <td>...</td>\n",
       "      <td>...</td>\n",
       "      <td>...</td>\n",
       "      <td>...</td>\n",
       "      <td>...</td>\n",
       "      <td>...</td>\n",
       "      <td>...</td>\n",
       "      <td>...</td>\n",
       "      <td>...</td>\n",
       "      <td>...</td>\n",
       "      <td>...</td>\n",
       "      <td>...</td>\n",
       "      <td>...</td>\n",
       "      <td>...</td>\n",
       "      <td>...</td>\n",
       "      <td>...</td>\n",
       "      <td>...</td>\n",
       "    </tr>\n",
       "    <tr>\n",
       "      <th>234747</th>\n",
       "      <td>1995</td>\n",
       "      <td>86</td>\n",
       "      <td>125000</td>\n",
       "      <td>1</td>\n",
       "      <td>0</td>\n",
       "      <td>0</td>\n",
       "      <td>0</td>\n",
       "      <td>0</td>\n",
       "      <td>0</td>\n",
       "      <td>0</td>\n",
       "      <td>...</td>\n",
       "      <td>0</td>\n",
       "      <td>0</td>\n",
       "      <td>0</td>\n",
       "      <td>0</td>\n",
       "      <td>0</td>\n",
       "      <td>0</td>\n",
       "      <td>0</td>\n",
       "      <td>0</td>\n",
       "      <td>0</td>\n",
       "      <td>1</td>\n",
       "    </tr>\n",
       "    <tr>\n",
       "      <th>295318</th>\n",
       "      <td>2000</td>\n",
       "      <td>116</td>\n",
       "      <td>150000</td>\n",
       "      <td>0</td>\n",
       "      <td>0</td>\n",
       "      <td>0</td>\n",
       "      <td>1</td>\n",
       "      <td>0</td>\n",
       "      <td>0</td>\n",
       "      <td>0</td>\n",
       "      <td>...</td>\n",
       "      <td>0</td>\n",
       "      <td>0</td>\n",
       "      <td>0</td>\n",
       "      <td>0</td>\n",
       "      <td>0</td>\n",
       "      <td>0</td>\n",
       "      <td>0</td>\n",
       "      <td>0</td>\n",
       "      <td>0</td>\n",
       "      <td>0</td>\n",
       "    </tr>\n",
       "    <tr>\n",
       "      <th>166470</th>\n",
       "      <td>2009</td>\n",
       "      <td>140</td>\n",
       "      <td>80000</td>\n",
       "      <td>0</td>\n",
       "      <td>0</td>\n",
       "      <td>0</td>\n",
       "      <td>0</td>\n",
       "      <td>0</td>\n",
       "      <td>1</td>\n",
       "      <td>0</td>\n",
       "      <td>...</td>\n",
       "      <td>0</td>\n",
       "      <td>0</td>\n",
       "      <td>0</td>\n",
       "      <td>1</td>\n",
       "      <td>0</td>\n",
       "      <td>0</td>\n",
       "      <td>0</td>\n",
       "      <td>0</td>\n",
       "      <td>0</td>\n",
       "      <td>0</td>\n",
       "    </tr>\n",
       "    <tr>\n",
       "      <th>82791</th>\n",
       "      <td>2009</td>\n",
       "      <td>143</td>\n",
       "      <td>150000</td>\n",
       "      <td>0</td>\n",
       "      <td>0</td>\n",
       "      <td>0</td>\n",
       "      <td>0</td>\n",
       "      <td>0</td>\n",
       "      <td>0</td>\n",
       "      <td>0</td>\n",
       "      <td>...</td>\n",
       "      <td>0</td>\n",
       "      <td>0</td>\n",
       "      <td>0</td>\n",
       "      <td>0</td>\n",
       "      <td>0</td>\n",
       "      <td>0</td>\n",
       "      <td>0</td>\n",
       "      <td>0</td>\n",
       "      <td>0</td>\n",
       "      <td>0</td>\n",
       "    </tr>\n",
       "    <tr>\n",
       "      <th>291796</th>\n",
       "      <td>2006</td>\n",
       "      <td>86</td>\n",
       "      <td>150000</td>\n",
       "      <td>0</td>\n",
       "      <td>0</td>\n",
       "      <td>0</td>\n",
       "      <td>0</td>\n",
       "      <td>0</td>\n",
       "      <td>0</td>\n",
       "      <td>0</td>\n",
       "      <td>...</td>\n",
       "      <td>0</td>\n",
       "      <td>0</td>\n",
       "      <td>0</td>\n",
       "      <td>0</td>\n",
       "      <td>0</td>\n",
       "      <td>0</td>\n",
       "      <td>0</td>\n",
       "      <td>0</td>\n",
       "      <td>0</td>\n",
       "      <td>0</td>\n",
       "    </tr>\n",
       "  </tbody>\n",
       "</table>\n",
       "<p>37023 rows × 306 columns</p>\n",
       "</div>"
      ],
      "text/plain": [
       "        registration_year  power  kilometer  vehicle_type_convertible  \\\n",
       "106219               2003    105     150000                         0   \n",
       "134583               2002    192     150000                         0   \n",
       "194482               2014    116      70000                         0   \n",
       "10031                2004    150     150000                         0   \n",
       "67277                2010    110     100000                         0   \n",
       "...                   ...    ...        ...                       ...   \n",
       "234747               1995     86     125000                         1   \n",
       "295318               2000    116     150000                         0   \n",
       "166470               2009    140      80000                         0   \n",
       "82791                2009    143     150000                         0   \n",
       "291796               2006     86     150000                         0   \n",
       "\n",
       "        vehicle_type_coupe  vehicle_type_other  vehicle_type_sedan  \\\n",
       "106219                   0                   0                   0   \n",
       "134583                   0                   0                   0   \n",
       "194482                   0                   0                   1   \n",
       "10031                    0                   0                   1   \n",
       "67277                    0                   0                   1   \n",
       "...                    ...                 ...                 ...   \n",
       "234747                   0                   0                   0   \n",
       "295318                   0                   0                   1   \n",
       "166470                   0                   0                   0   \n",
       "82791                    0                   0                   0   \n",
       "291796                   0                   0                   0   \n",
       "\n",
       "        vehicle_type_small  vehicle_type_suv  vehicle_type_unknown  ...  \\\n",
       "106219                   1                 0                     0  ...   \n",
       "134583                   0                 0                     0  ...   \n",
       "194482                   0                 0                     0  ...   \n",
       "10031                    0                 0                     0  ...   \n",
       "67277                    0                 0                     0  ...   \n",
       "...                    ...               ...                   ...  ...   \n",
       "234747                   0                 0                     0  ...   \n",
       "295318                   0                 0                     0  ...   \n",
       "166470                   0                 1                     0  ...   \n",
       "82791                    0                 0                     0  ...   \n",
       "291796                   0                 0                     0  ...   \n",
       "\n",
       "        brand_smart  brand_sonstige_autos  brand_subaru  brand_suzuki  \\\n",
       "106219            0                     0             0             0   \n",
       "134583            0                     0             0             0   \n",
       "194482            0                     0             0             0   \n",
       "10031             0                     0             0             0   \n",
       "67277             0                     0             0             0   \n",
       "...             ...                   ...           ...           ...   \n",
       "234747            0                     0             0             0   \n",
       "295318            0                     0             0             0   \n",
       "166470            0                     0             0             1   \n",
       "82791             0                     0             0             0   \n",
       "291796            0                     0             0             0   \n",
       "\n",
       "        brand_toyota  brand_trabant  brand_volkswagen  brand_volvo  \\\n",
       "106219             0              0                 1            0   \n",
       "134583             0              0                 0            0   \n",
       "194482             0              0                 0            0   \n",
       "10031              0              0                 0            0   \n",
       "67277              0              0                 0            0   \n",
       "...              ...            ...               ...          ...   \n",
       "234747             0              0                 0            0   \n",
       "295318             0              0                 0            0   \n",
       "166470             0              0                 0            0   \n",
       "82791              0              0                 0            0   \n",
       "291796             0              0                 0            0   \n",
       "\n",
       "        repaired_1  repaired_unknown  \n",
       "106219           0                 1  \n",
       "134583           0                 0  \n",
       "194482           1                 0  \n",
       "10031            0                 0  \n",
       "67277            0                 0  \n",
       "...            ...               ...  \n",
       "234747           0                 1  \n",
       "295318           0                 0  \n",
       "166470           0                 0  \n",
       "82791            0                 0  \n",
       "291796           0                 0  \n",
       "\n",
       "[37023 rows x 306 columns]"
      ]
     },
     "execution_count": 44,
     "metadata": {},
     "output_type": "execute_result"
    }
   ],
   "source": [
    "features_ohe = pd.get_dummies(features, drop_first=True)\n",
    "\n",
    "features_train_ohe, features_test_ohe, target_train_ohe, target_test_ohe = train_test_split(features_ohe, target, test_size=.25,random_state=12345)\n",
    "features_test_ohe, features_val_ohe, target_test_ohe, target_val_ohe = train_test_split(features_test_ohe, target_test_ohe, test_size=0.5, random_state=12345)\n",
    "\n",
    "features_val_ohe"
   ]
  },
  {
   "cell_type": "markdown",
   "metadata": {
    "id": "AR_T66hDEA9X"
   },
   "source": [
    "## Обучение моделей"
   ]
  },
  {
   "cell_type": "markdown",
   "metadata": {
    "id": "uQN-HaSoZcc5"
   },
   "source": [
    "Дальнейшие ячейки будут иметь вид ---\n",
    "\n",
    "обучение модели\n",
    "\n",
    "предсказание \n",
    "\n",
    "с выводом времени и метрики RMSE на тестовой выборке\n",
    "\n",
    "Далее все переменные сохранены в конечную таблицу и проведен анализ этих данных"
   ]
  },
  {
   "cell_type": "markdown",
   "metadata": {
    "id": "eg18KmcAmajH"
   },
   "source": [
    "### LR\n",
    "\n"
   ]
  },
  {
   "cell_type": "code",
   "execution_count": 45,
   "metadata": {},
   "outputs": [],
   "source": [
    "import time"
   ]
  },
  {
   "cell_type": "code",
   "execution_count": 46,
   "metadata": {
    "id": "VNyRKQlHmZvI"
   },
   "outputs": [
    {
     "name": "stdout",
     "output_type": "stream",
     "text": [
      "CPU times: user 44 s, sys: 46.6 s, total: 1min 30s\n",
      "Wall time: 1min 32s\n"
     ]
    }
   ],
   "source": [
    "\n",
    "\n",
    "%%time\n",
    "start_time = time.time()\n",
    "model_lr = LinearRegression()\n",
    "model_lr.fit(features_train_ohe, target_train_ohe)\n",
    "rmse_lr_ohe = ((cross_val_score(model_lr, features_train_ohe, target_train_ohe, cv=5, scoring='neg_mean_squared_error')).mean() * -1) ** .5\n",
    "end_time = time.time()\n",
    "LR_time_train= end_time - start_time\n"
   ]
  },
  {
   "cell_type": "code",
   "execution_count": 47,
   "metadata": {
    "colab": {
     "base_uri": "https://localhost:8080/"
    },
    "id": "xPHegRWd0bRW",
    "outputId": "8e041307-c7f7-4ccb-e73c-d2f1e3ef40cf"
   },
   "outputs": [
    {
     "name": "stdout",
     "output_type": "stream",
     "text": [
      "CPU times: user 130 ms, sys: 114 ms, total: 245 ms\n",
      "Wall time: 281 ms\n"
     ]
    }
   ],
   "source": [
    "%%time\n",
    "start = time.time()\n",
    "target_predict = model_lr.predict(features_val_ohe)\n",
    "rmse_lr_ohe2 = mean_squared_error(target_val_ohe, target_predict) ** .5\n",
    "end = time.time()\n",
    "LR_time_pred=round(end-start,2)"
   ]
  },
  {
   "cell_type": "markdown",
   "metadata": {
    "id": "pewPsAf84T-f"
   },
   "source": [
    "### RF"
   ]
  },
  {
   "cell_type": "code",
   "execution_count": 48,
   "metadata": {
    "colab": {
     "base_uri": "https://localhost:8080/"
    },
    "id": "AdYf0LZDdiV1",
    "outputId": "165f4b15-71bc-4b01-e0b2-372767f942f7"
   },
   "outputs": [],
   "source": [
    "# %%time\n",
    "# start_time = time.time()\n",
    "# RF = RandomForestRegressor(criterion = \"mse\",random_state=42,n_estimators = 50,n_jobs=-1)\n",
    "# RF.fit(features_train_oe, target_train_oe)\n",
    "# end_time = time.time()\n",
    "# RF_time_train = end_time - start_time"
   ]
  },
  {
   "cell_type": "code",
   "execution_count": 49,
   "metadata": {
    "colab": {
     "base_uri": "https://localhost:8080/"
    },
    "id": "cm4mPce-diZI",
    "outputId": "6e84e3bb-6348-40a4-ffd5-55df1447bc61"
   },
   "outputs": [
    {
     "name": "stdout",
     "output_type": "stream",
     "text": [
      "CPU times: user 1min 39s, sys: 1.35 s, total: 1min 40s\n",
      "Wall time: 1min 43s\n"
     ]
    }
   ],
   "source": [
    "%%time\n",
    "start = time.time()\n",
    "model_rf = RandomForestRegressor(random_state=12345, criterion='mse',warm_start=False, n_estimators=100, n_jobs=-1)\n",
    "model_rf.fit(features_train_oe, target_train_oe)\n",
    "cvs_rmse_rf = ((cross_val_score(model_rf, features_train_oe, target_train_oe, cv=5, scoring='neg_mean_squared_error')).mean() * -1) ** .5\n",
    "end = time.time()\n",
    "RF_time_cv_train=round(end-start,2)"
   ]
  },
  {
   "cell_type": "code",
   "execution_count": 50,
   "metadata": {
    "colab": {
     "base_uri": "https://localhost:8080/"
    },
    "id": "kK_4GTfD1lc2",
    "outputId": "d14056c0-6513-4bb8-a449-9eaca6ce3407"
   },
   "outputs": [
    {
     "name": "stdout",
     "output_type": "stream",
     "text": [
      "CPU times: user 1.06 s, sys: 5.05 ms, total: 1.07 s\n",
      "Wall time: 1.07 s\n"
     ]
    }
   ],
   "source": [
    "%%time\n",
    "start = time.time()\n",
    "pred_rf=model_rf.predict(features_val_oe)\n",
    "RF_cv_rmse_test = mean_squared_error(target_test_oe,model_rf.predict(features_test_oe),squared=False)\n",
    "end = time.time()\n",
    "RF_cv_time_test=round(end-start,2)"
   ]
  },
  {
   "cell_type": "markdown",
   "metadata": {
    "id": "yA2Dc6YZkRAp"
   },
   "source": [
    "### CAT"
   ]
  },
  {
   "cell_type": "code",
   "execution_count": 54,
   "metadata": {
    "colab": {
     "base_uri": "https://localhost:8080/"
    },
    "id": "9LkSPH85JbCS",
    "outputId": "8a19b8fe-c246-43ee-e2ae-c584bfcd5b53"
   },
   "outputs": [
    {
     "name": "stdout",
     "output_type": "stream",
     "text": [
      "CPU times: user 1min 38s, sys: 3.16 s, total: 1min 41s\n",
      "Wall time: 2min 32s\n"
     ]
    }
   ],
   "source": [
    "%%time\n",
    "start = time.time()\n",
    "parameters = [{'learning_rate':[.1, .5, .8], 'random_state':[12345], 'verbose':[False]}]\n",
    "model_cat = cb.CatBoostRegressor(random_state=123,learning_rate=0.4,cat_features=cat_features, verbose=10,n_estimators=100)\n",
    "model_cat = GridSearchCV(model_cat, parameters, scoring='neg_mean_squared_error')\n",
    "model_cat.fit(X_train, y_train, eval_set=(X_test,y_test))\n",
    "CB_cv_rmse = ((cross_val_score(model_cat, X_train, y_train, cv=5, scoring='neg_mean_squared_error')).mean() * -1) ** .5\n",
    "end = time.time()\n",
    "CB_cv_time=round(end-start,2)\n"
   ]
  },
  {
   "cell_type": "code",
   "execution_count": 55,
   "metadata": {
    "colab": {
     "base_uri": "https://localhost:8080/"
    },
    "id": "ZiNT1Wz6JbFo",
    "outputId": "4a91935b-a6f1-4152-e677-6bac43bfe4bb"
   },
   "outputs": [
    {
     "name": "stdout",
     "output_type": "stream",
     "text": [
      "CPU times: user 44.2 ms, sys: 156 µs, total: 44.4 ms\n",
      "Wall time: 42.9 ms\n"
     ]
    }
   ],
   "source": [
    "%%time\n",
    "start = time.time()\n",
    "y_pred = model_cat.predict(X_val)\n",
    "CB_cv_rmse_val = mean_squared_error(y_val, y_pred, squared=False) \n",
    "end = time.time()\n",
    "CB_cv_time_test=round(end-start,2)\n"
   ]
  },
  {
   "cell_type": "markdown",
   "metadata": {
    "id": "mNaeITqoZ6jI"
   },
   "source": [
    "на всякий случай перегружу переменные, очень долго считается LGBM"
   ]
  },
  {
   "cell_type": "code",
   "execution_count": 56,
   "metadata": {
    "id": "ssXjNerLP3SC"
   },
   "outputs": [],
   "source": [
    "del X_train, y_train, X_test, y_test, features_train_ohe, features_test_ohe, target_train_ohe, target_test_ohe, features_train, features_test, target_train, target_test"
   ]
  },
  {
   "cell_type": "markdown",
   "metadata": {
    "id": "ZGDQEizykMt8"
   },
   "source": [
    "### LGBM"
   ]
  },
  {
   "cell_type": "code",
   "execution_count": 57,
   "metadata": {
    "id": "5LzObFYvP6dP"
   },
   "outputs": [],
   "source": [
    "\n",
    "X_train, X_test, y_train, y_test = train_test_split(features, target, test_size=0.20, random_state=12345)\n",
    "\n",
    "cat_feature_names = X_train.select_dtypes(\"object\").columns\n",
    "\n",
    "X_train[cat_feature_names] = X_train[cat_feature_names].astype(\"category\")\n",
    "X_test[cat_feature_names] = X_test[cat_feature_names].astype(\"category\")"
   ]
  },
  {
   "cell_type": "code",
   "execution_count": 58,
   "metadata": {
    "id": "s3RrD7aXiT6Q"
   },
   "outputs": [],
   "source": [
    "cat_features = ['vehicle_type', 'gearbox', 'model', 'brand', 'repaired', 'registration_year', 'fuel_type']\n",
    "\n",
    "params = {\"iterations\": 20,\n",
    "          \"learning_rate\": 1,\n",
    "          \"max_depth\": None,\n",
    "          \"loss_function\": \"RMSE\",\n",
    "          \"random_state\": 12345,\n",
    "          \"bootstrap_type\": 'gbdt',\n",
    "          \"min_data_in_leaf\": 1\n",
    "          }\n",
    "\n",
    "lgbm_train_data = lgb.Dataset(X_train, label=y_train)\n",
    "arguments = {'learning_rate': 1,\n",
    "         'metric': 'rmse',\n",
    "         'seed': 12345,\n",
    "         'objective': 'regression',\n",
    "         'verbosity': -1,\n",
    "        }\n",
    "\n",
    "\n",
    "max_depth = [3, 6, 12]"
   ]
  },
  {
   "cell_type": "code",
   "execution_count": null,
   "metadata": {
    "colab": {
     "base_uri": "https://localhost:8080/"
    },
    "id": "ROqOWtyen7XW",
    "outputId": "5553310a-6802-4d07-ef02-a90bfb188882"
   },
   "outputs": [
    {
     "name": "stdout",
     "output_type": "stream",
     "text": [
      "CPU times: user 3 µs, sys: 1e+03 ns, total: 4 µs\n",
      "Wall time: 8.11 µs\n"
     ]
    }
   ],
   "source": [
    "%time\n",
    "best_score = 5000\n",
    "best_depth = 0\n",
    "for depth in max_depth:\n",
    "    arguments['max_depth'] = depth\n",
    "    score = lgb.cv(arguments, lgbm_train_data, nfold=3, categorical_feature=cat_features)\n",
    "    score = pd.DataFrame(score).iloc[-1]['rmse-mean']\n",
    "    if score < best_score:\n",
    "        best_score = score\n",
    "        best_depth = depth\n",
    "        \n",
    "best_score, best_depth\n"
   ]
  },
  {
   "cell_type": "code",
   "execution_count": null,
   "metadata": {
    "colab": {
     "base_uri": "https://localhost:8080/"
    },
    "id": "mF0o1fxvn7gM",
    "outputId": "07b84343-f11d-4ea7-c3ce-fb1d7063cb88"
   },
   "outputs": [],
   "source": [
    "%%time\n",
    "start = time.time()\n",
    "params['max_depth'] = best_depth\n",
    "lgbm_model = lgb.train(arguments, lgbm_train_data, categorical_feature=cat_features, num_boost_round=1000)\n",
    "LGBM_rmse = cross_val_score(lgbm_model, X_train, y_train, cv=5, scoring='neg_mean_squared_error')\n",
    "end = time.time()\n",
    "LGBM_time=round(end-start,2)"
   ]
  },
  {
   "cell_type": "code",
   "execution_count": null,
   "metadata": {
    "colab": {
     "base_uri": "https://localhost:8080/"
    },
    "id": "N9Lhqkpqn7nW",
    "outputId": "9c4dc18f-5948-4d8b-fc9d-94b626e20a73"
   },
   "outputs": [],
   "source": [
    "%%time\n",
    "start = time.time()\n",
    "#predict_LGB= lgbm_model.predict(X_tes,pred_contrib=True)\n",
    "LGBM_rmse2 = mean_squared_error(y_test,lgbm_model.predict(X_test),squared=False)\n",
    "end = time.time()\n",
    "LGBM_time_test=round(end-start,2)"
   ]
  },
  {
   "cell_type": "markdown",
   "metadata": {
    "id": "fw02desGEA9Z"
   },
   "source": [
    "## Анализ моделей"
   ]
  },
  {
   "cell_type": "markdown",
   "metadata": {
    "id": "pDcDDkVIaXaP"
   },
   "source": [
    "Все данные по работе моделей занесены в таблицу и приведены ниже \n",
    "\n",
    "красным отмечен нижний показатель в необохдимой метрике, зеленым лучший"
   ]
  },
  {
   "cell_type": "code",
   "execution_count": null,
   "metadata": {},
   "outputs": [],
   "source": [
    "column=['RMSE','Скорость обучения','Скорость предсказания']\n",
    "\n",
    "tabl = pd.DataFrame(index=['RMSE','Скорость обучения', 'Скорость предсказания'], columns=['LinearRegression', 'RandomForestRegressor_CV', 'CatBoostRegressor_CV','LightGBM'])\n",
    "tabl['LinearRegression'] = rmse_lr_ohe, LR_time_train, LR_time_pred\n",
    "tabl['RandomForestRegressor_CV'] = cvs_rmse_rf, RF_time_cv_train, RF_cv_time_test\n",
    "tabl['CatBoostRegressor_CV'] = CB_cv_rmse, CB_cv_time, CB_cv_time_test\n",
    "tabl['LightGBM'] = LGBM_rmse, LGBM_time, LGBM_time_test\n",
    "\n",
    "tabl.T.style.highlight_min(color='green',subset=column).highlight_max(color='red',subset=column)"
   ]
  },
  {
   "cell_type": "markdown",
   "metadata": {},
   "source": [
    "Лучшей по компромиссным данным ----\n",
    "\n",
    "не высокое RMSE, не самая высокая скорость обучения, но быстрая скорость предсказания стала модель CatBoostRegressor\n",
    "\n",
    "\n",
    "на тесте ошибка RMSE составляет-----"
   ]
  },
  {
   "cell_type": "code",
   "execution_count": null,
   "metadata": {},
   "outputs": [],
   "source": [
    "\n",
    "y_pred = model.predict(X_test)\n",
    "CB_rmse_test = mean_squared_error(y_test, y_pred, squared=False) \n",
    "CB_rmse_test"
   ]
  },
  {
   "cell_type": "markdown",
   "metadata": {
    "id": "kgQgcp4VaOmZ"
   },
   "source": [
    "### Итог"
   ]
  },
  {
   "cell_type": "markdown",
   "metadata": {
    "id": "f91Baymca8R3"
   },
   "source": [
    "Была проведена загрузка данных и их обработка\n",
    "\n",
    "В данных присутствуют пропуски и незаполненные данные. В целом не считаю это проблемой и нахожу возможным к заполнению их по другим признакам. Для этого нужно написать отдельный параграф в работе и провести дополнительную иследовательскую работу\n",
    "\n",
    "К этапу обучения моделей были выбраны модели линейной регрессии, случайный лес, кэтбуст и лайтГБМ. Для некторых моделей были закодированы данные и применен гридсерч, но это не спасло общей ситуации и модели показали недостаточный уровень метрики.\n",
    "\n",
    "Для более объективного итога возможно составление общего рейтинга, но как его почитать, не нахожу мыслей\n",
    "\n",
    "Лучшей моделью себя показала модель CatBoost, как по времени предсказания, так и по лучшей ошибке RMSE. LightGBM хоть и быстро учится и имеет невысокую ошибку, но время предсказания самое большое и это считаю критичным.\n",
    "\n",
    "Поэтому для заказчика считаю возомжным рекомендовать модель CatBoost"
   ]
  }
 ],
 "metadata": {
  "ExecuteTimeLog": [
   {
    "duration": 438,
    "start_time": "2023-02-28T09:56:27.954Z"
   },
   {
    "duration": 3154,
    "start_time": "2023-02-28T10:01:07.375Z"
   },
   {
    "duration": 1198,
    "start_time": "2023-02-28T10:02:33.939Z"
   },
   {
    "duration": 6536,
    "start_time": "2023-02-28T10:03:20.030Z"
   },
   {
    "duration": 149,
    "start_time": "2023-02-28T10:03:47.928Z"
   },
   {
    "duration": 74,
    "start_time": "2023-02-28T10:08:35.920Z"
   },
   {
    "duration": 23,
    "start_time": "2023-02-28T10:08:39.089Z"
   },
   {
    "duration": 4486,
    "start_time": "2023-02-28T10:09:07.376Z"
   },
   {
    "duration": 1231,
    "start_time": "2023-02-28T10:09:11.865Z"
   },
   {
    "duration": 28329,
    "start_time": "2023-02-28T10:09:15.965Z"
   },
   {
    "duration": 86,
    "start_time": "2023-02-28T10:09:56.101Z"
   },
   {
    "duration": 226,
    "start_time": "2023-02-28T10:23:36.197Z"
   },
   {
    "duration": 2,
    "start_time": "2023-02-28T10:26:06.609Z"
   },
   {
    "duration": 3,
    "start_time": "2023-02-28T10:26:08.167Z"
   },
   {
    "duration": 3,
    "start_time": "2023-02-28T10:26:13.897Z"
   },
   {
    "duration": 75,
    "start_time": "2023-02-28T10:26:41.560Z"
   },
   {
    "duration": 275,
    "start_time": "2023-02-28T10:26:44.267Z"
   },
   {
    "duration": 140,
    "start_time": "2023-02-28T10:26:45.132Z"
   },
   {
    "duration": 137,
    "start_time": "2023-02-28T10:26:52.626Z"
   },
   {
    "duration": 1574,
    "start_time": "2023-02-28T10:29:14.663Z"
   },
   {
    "duration": 1302,
    "start_time": "2023-02-28T10:29:31.228Z"
   },
   {
    "duration": 18,
    "start_time": "2023-02-28T10:29:37.262Z"
   },
   {
    "duration": 1483,
    "start_time": "2023-02-28T10:30:19.801Z"
   },
   {
    "duration": 73,
    "start_time": "2023-02-28T10:30:44.136Z"
   },
   {
    "duration": 1509,
    "start_time": "2023-02-28T10:30:48.344Z"
   },
   {
    "duration": 1192,
    "start_time": "2023-02-28T10:30:53.238Z"
   },
   {
    "duration": 4,
    "start_time": "2023-02-28T10:31:05.100Z"
   },
   {
    "duration": 1474,
    "start_time": "2023-02-28T10:31:05.110Z"
   },
   {
    "duration": 6513,
    "start_time": "2023-02-28T10:31:06.586Z"
   },
   {
    "duration": 0,
    "start_time": "2023-02-28T10:31:13.101Z"
   },
   {
    "duration": 0,
    "start_time": "2023-02-28T10:31:13.102Z"
   },
   {
    "duration": 0,
    "start_time": "2023-02-28T10:31:13.103Z"
   },
   {
    "duration": 0,
    "start_time": "2023-02-28T10:31:13.104Z"
   },
   {
    "duration": 0,
    "start_time": "2023-02-28T10:31:13.105Z"
   },
   {
    "duration": 0,
    "start_time": "2023-02-28T10:31:13.106Z"
   },
   {
    "duration": 0,
    "start_time": "2023-02-28T10:31:13.107Z"
   },
   {
    "duration": 6839,
    "start_time": "2023-02-28T10:32:19.723Z"
   },
   {
    "duration": 875,
    "start_time": "2023-02-28T10:32:32.734Z"
   },
   {
    "duration": 132,
    "start_time": "2023-02-28T10:32:38.096Z"
   },
   {
    "duration": 2,
    "start_time": "2023-02-28T10:32:38.231Z"
   },
   {
    "duration": 20,
    "start_time": "2023-02-28T10:32:38.235Z"
   },
   {
    "duration": 257,
    "start_time": "2023-02-28T10:32:38.258Z"
   },
   {
    "duration": 143,
    "start_time": "2023-02-28T10:32:38.517Z"
   },
   {
    "duration": 1414,
    "start_time": "2023-02-28T10:32:38.662Z"
   },
   {
    "duration": 19,
    "start_time": "2023-02-28T10:32:40.079Z"
   },
   {
    "duration": 1199,
    "start_time": "2023-02-28T10:32:47.857Z"
   },
   {
    "duration": 1265,
    "start_time": "2023-02-28T10:32:52.078Z"
   },
   {
    "duration": 36634,
    "start_time": "2023-02-28T10:33:14.436Z"
   },
   {
    "duration": 781,
    "start_time": "2023-02-28T10:35:10.208Z"
   },
   {
    "duration": 21,
    "start_time": "2023-02-28T10:36:01.072Z"
   },
   {
    "duration": 4767,
    "start_time": "2023-02-28T10:38:12.391Z"
   },
   {
    "duration": 83,
    "start_time": "2023-02-28T10:38:51.311Z"
   },
   {
    "duration": 2381,
    "start_time": "2023-02-28T10:39:23.204Z"
   },
   {
    "duration": 16,
    "start_time": "2023-02-28T10:39:27.477Z"
   },
   {
    "duration": 13779,
    "start_time": "2023-02-28T10:40:51.992Z"
   },
   {
    "duration": 2156,
    "start_time": "2023-02-28T10:41:09.742Z"
   },
   {
    "duration": 17687,
    "start_time": "2023-02-28T10:41:29.124Z"
   },
   {
    "duration": 2616,
    "start_time": "2023-02-28T10:42:01.944Z"
   },
   {
    "duration": 13898,
    "start_time": "2023-02-28T10:42:11.338Z"
   },
   {
    "duration": 19,
    "start_time": "2023-02-28T10:43:29.640Z"
   },
   {
    "duration": 223,
    "start_time": "2023-02-28T10:43:33.989Z"
   },
   {
    "duration": 64,
    "start_time": "2023-02-28T10:43:56.275Z"
   },
   {
    "duration": 6,
    "start_time": "2023-02-28T10:44:39.786Z"
   },
   {
    "duration": 5,
    "start_time": "2023-02-28T10:44:46.978Z"
   },
   {
    "duration": 5,
    "start_time": "2023-02-28T10:44:58.397Z"
   },
   {
    "duration": 15,
    "start_time": "2023-02-28T10:45:08.645Z"
   },
   {
    "duration": 118,
    "start_time": "2023-02-28T11:57:19.757Z"
   },
   {
    "duration": 142,
    "start_time": "2023-02-28T11:57:31.610Z"
   },
   {
    "duration": 156,
    "start_time": "2023-02-28T11:59:08.618Z"
   },
   {
    "duration": 112,
    "start_time": "2023-02-28T11:59:28.366Z"
   },
   {
    "duration": 125,
    "start_time": "2023-02-28T11:59:50.029Z"
   },
   {
    "duration": 291,
    "start_time": "2023-02-28T12:00:36.658Z"
   },
   {
    "duration": 78,
    "start_time": "2023-02-28T12:01:03.301Z"
   },
   {
    "duration": 217,
    "start_time": "2023-02-28T12:01:11.588Z"
   },
   {
    "duration": 18,
    "start_time": "2023-02-28T12:01:44.909Z"
   },
   {
    "duration": 21,
    "start_time": "2023-02-28T12:03:41.078Z"
   },
   {
    "duration": 252,
    "start_time": "2023-02-28T12:03:56.223Z"
   },
   {
    "duration": 15,
    "start_time": "2023-02-28T12:04:25.300Z"
   },
   {
    "duration": 135,
    "start_time": "2023-02-28T12:04:30.331Z"
   },
   {
    "duration": 2178,
    "start_time": "2023-02-28T12:04:45.231Z"
   },
   {
    "duration": 1041,
    "start_time": "2023-02-28T12:05:51.686Z"
   },
   {
    "duration": 1002,
    "start_time": "2023-02-28T12:06:27.882Z"
   },
   {
    "duration": 211,
    "start_time": "2023-02-28T12:06:36.534Z"
   },
   {
    "duration": 989,
    "start_time": "2023-02-28T12:06:38.312Z"
   },
   {
    "duration": 939,
    "start_time": "2023-02-28T12:06:54.827Z"
   },
   {
    "duration": 117,
    "start_time": "2023-02-28T12:08:26.624Z"
   },
   {
    "duration": 156,
    "start_time": "2023-02-28T12:10:19.902Z"
   },
   {
    "duration": 333,
    "start_time": "2023-02-28T12:10:29.953Z"
   },
   {
    "duration": 449,
    "start_time": "2023-02-28T12:11:27.721Z"
   },
   {
    "duration": 426,
    "start_time": "2023-02-28T12:11:49.987Z"
   },
   {
    "duration": 277,
    "start_time": "2023-02-28T12:14:51.625Z"
   },
   {
    "duration": 219,
    "start_time": "2023-02-28T12:15:19.933Z"
   },
   {
    "duration": 393,
    "start_time": "2023-02-28T12:15:42.623Z"
   },
   {
    "duration": 395,
    "start_time": "2023-02-28T12:15:56.487Z"
   },
   {
    "duration": 17,
    "start_time": "2023-02-28T12:20:23.131Z"
   },
   {
    "duration": 24,
    "start_time": "2023-02-28T12:20:29.294Z"
   },
   {
    "duration": 30,
    "start_time": "2023-02-28T12:20:39.045Z"
   },
   {
    "duration": 24,
    "start_time": "2023-02-28T12:20:49.193Z"
   },
   {
    "duration": 37,
    "start_time": "2023-02-28T12:20:57.088Z"
   },
   {
    "duration": 39,
    "start_time": "2023-02-28T12:21:15.204Z"
   },
   {
    "duration": 22,
    "start_time": "2023-02-28T12:21:23.471Z"
   },
   {
    "duration": 21,
    "start_time": "2023-02-28T12:21:44.568Z"
   },
   {
    "duration": 24,
    "start_time": "2023-02-28T12:21:52.934Z"
   },
   {
    "duration": 24,
    "start_time": "2023-02-28T12:22:09.603Z"
   },
   {
    "duration": 69,
    "start_time": "2023-02-28T12:22:27.960Z"
   },
   {
    "duration": 34,
    "start_time": "2023-02-28T12:22:31.906Z"
   },
   {
    "duration": 46,
    "start_time": "2023-02-28T12:22:44.967Z"
   },
   {
    "duration": 30,
    "start_time": "2023-02-28T12:32:07.463Z"
   },
   {
    "duration": 71,
    "start_time": "2023-02-28T12:32:12.643Z"
   },
   {
    "duration": 11,
    "start_time": "2023-02-28T12:34:58.918Z"
   },
   {
    "duration": 2034,
    "start_time": "2023-02-28T12:35:13.669Z"
   },
   {
    "duration": 16,
    "start_time": "2023-02-28T12:36:02.730Z"
   },
   {
    "duration": 2616,
    "start_time": "2023-02-28T12:37:25.792Z"
   },
   {
    "duration": 129,
    "start_time": "2023-02-28T12:38:40.514Z"
   },
   {
    "duration": 198,
    "start_time": "2023-02-28T12:39:08.102Z"
   },
   {
    "duration": 2627,
    "start_time": "2023-02-28T12:39:25.160Z"
   },
   {
    "duration": 11,
    "start_time": "2023-02-28T12:40:53.598Z"
   },
   {
    "duration": 7,
    "start_time": "2023-02-28T12:40:59.921Z"
   },
   {
    "duration": 4,
    "start_time": "2023-02-28T12:44:24.174Z"
   },
   {
    "duration": 128,
    "start_time": "2023-02-28T12:44:25.973Z"
   },
   {
    "duration": 4,
    "start_time": "2023-02-28T12:46:54.920Z"
   },
   {
    "duration": 795,
    "start_time": "2023-02-28T12:47:00.165Z"
   },
   {
    "duration": 5,
    "start_time": "2023-02-28T12:47:02.165Z"
   },
   {
    "duration": 17,
    "start_time": "2023-02-28T12:48:37.189Z"
   },
   {
    "duration": 16,
    "start_time": "2023-02-28T12:48:45.931Z"
   },
   {
    "duration": 15,
    "start_time": "2023-02-28T12:49:16.282Z"
   },
   {
    "duration": 5,
    "start_time": "2023-02-28T12:49:23.286Z"
   },
   {
    "duration": 3,
    "start_time": "2023-02-28T12:49:43.694Z"
   },
   {
    "duration": 4,
    "start_time": "2023-02-28T12:50:04.623Z"
   },
   {
    "duration": 4,
    "start_time": "2023-02-28T12:50:52.636Z"
   },
   {
    "duration": 7,
    "start_time": "2023-02-28T12:51:03.404Z"
   },
   {
    "duration": 77,
    "start_time": "2023-02-28T12:53:46.873Z"
   },
   {
    "duration": 10,
    "start_time": "2023-02-28T12:55:02.077Z"
   },
   {
    "duration": 3,
    "start_time": "2023-02-28T12:55:18.678Z"
   },
   {
    "duration": 21,
    "start_time": "2023-02-28T12:57:09.669Z"
   },
   {
    "duration": 20,
    "start_time": "2023-02-28T12:57:30.576Z"
   },
   {
    "duration": 3,
    "start_time": "2023-02-28T13:00:34.018Z"
   },
   {
    "duration": 5,
    "start_time": "2023-02-28T13:01:10.312Z"
   },
   {
    "duration": 5,
    "start_time": "2023-02-28T13:03:00.155Z"
   },
   {
    "duration": 4,
    "start_time": "2023-02-28T13:03:15.135Z"
   },
   {
    "duration": 5,
    "start_time": "2023-02-28T13:03:25.410Z"
   },
   {
    "duration": 804,
    "start_time": "2023-02-28T13:03:41.324Z"
   },
   {
    "duration": 5,
    "start_time": "2023-02-28T13:03:44.823Z"
   },
   {
    "duration": 8,
    "start_time": "2023-02-28T13:04:47.266Z"
   },
   {
    "duration": 9,
    "start_time": "2023-02-28T13:05:34.465Z"
   },
   {
    "duration": 5,
    "start_time": "2023-02-28T13:08:13.519Z"
   },
   {
    "duration": 129,
    "start_time": "2023-02-28T13:08:31.859Z"
   },
   {
    "duration": 6,
    "start_time": "2023-02-28T13:08:54.084Z"
   },
   {
    "duration": 138,
    "start_time": "2023-02-28T13:08:56.963Z"
   },
   {
    "duration": 142,
    "start_time": "2023-02-28T13:09:01.724Z"
   },
   {
    "duration": 7,
    "start_time": "2023-02-28T13:09:15.000Z"
   },
   {
    "duration": 63,
    "start_time": "2023-02-28T13:09:32.366Z"
   },
   {
    "duration": 6,
    "start_time": "2023-02-28T13:09:38.367Z"
   },
   {
    "duration": 40,
    "start_time": "2023-02-28T13:09:55.515Z"
   },
   {
    "duration": 467,
    "start_time": "2023-02-28T13:10:00.403Z"
   },
   {
    "duration": 4,
    "start_time": "2023-02-28T13:11:08.367Z"
   },
   {
    "duration": 2469,
    "start_time": "2023-02-28T13:11:08.372Z"
   },
   {
    "duration": 1061,
    "start_time": "2023-02-28T13:11:10.844Z"
   },
   {
    "duration": 1437,
    "start_time": "2023-02-28T13:11:11.907Z"
   },
   {
    "duration": 0,
    "start_time": "2023-02-28T13:11:13.347Z"
   },
   {
    "duration": 0,
    "start_time": "2023-02-28T13:11:13.349Z"
   },
   {
    "duration": 0,
    "start_time": "2023-02-28T13:11:13.350Z"
   },
   {
    "duration": 0,
    "start_time": "2023-02-28T13:11:13.354Z"
   },
   {
    "duration": 0,
    "start_time": "2023-02-28T13:11:13.355Z"
   },
   {
    "duration": 0,
    "start_time": "2023-02-28T13:11:13.357Z"
   },
   {
    "duration": 0,
    "start_time": "2023-02-28T13:11:13.358Z"
   },
   {
    "duration": 0,
    "start_time": "2023-02-28T13:11:13.361Z"
   },
   {
    "duration": 1404,
    "start_time": "2023-02-28T13:15:36.120Z"
   },
   {
    "duration": 69,
    "start_time": "2023-02-28T13:16:58.134Z"
   },
   {
    "duration": 9,
    "start_time": "2023-02-28T13:17:03.479Z"
   },
   {
    "duration": 9,
    "start_time": "2023-02-28T13:17:08.773Z"
   },
   {
    "duration": 8,
    "start_time": "2023-02-28T13:17:11.587Z"
   },
   {
    "duration": 9,
    "start_time": "2023-02-28T13:17:37.024Z"
   },
   {
    "duration": 9,
    "start_time": "2023-02-28T13:20:18.078Z"
   },
   {
    "duration": 7,
    "start_time": "2023-02-28T13:20:41.674Z"
   },
   {
    "duration": 3942,
    "start_time": "2023-02-28T13:20:46.882Z"
   },
   {
    "duration": 4491,
    "start_time": "2023-02-28T13:20:50.826Z"
   },
   {
    "duration": 8,
    "start_time": "2023-02-28T13:20:57.835Z"
   },
   {
    "duration": 524,
    "start_time": "2023-02-28T13:21:01.478Z"
   },
   {
    "duration": 1723,
    "start_time": "2023-02-28T13:32:44.611Z"
   },
   {
    "duration": 1347,
    "start_time": "2023-02-28T13:33:09.475Z"
   },
   {
    "duration": 356,
    "start_time": "2023-02-28T13:33:20.044Z"
   },
   {
    "duration": 478,
    "start_time": "2023-02-28T13:33:50.902Z"
   },
   {
    "duration": 345,
    "start_time": "2023-02-28T13:33:56.700Z"
   },
   {
    "duration": 327,
    "start_time": "2023-02-28T13:34:08.570Z"
   },
   {
    "duration": 1026,
    "start_time": "2023-02-28T13:34:15.610Z"
   },
   {
    "duration": 7,
    "start_time": "2023-02-28T13:34:20.351Z"
   },
   {
    "duration": 441,
    "start_time": "2023-02-28T13:34:21.567Z"
   },
   {
    "duration": 2,
    "start_time": "2023-02-28T13:34:26.912Z"
   },
   {
    "duration": 3,
    "start_time": "2023-02-28T13:34:27.290Z"
   },
   {
    "duration": 234,
    "start_time": "2023-02-28T13:34:28.089Z"
   },
   {
    "duration": 1469,
    "start_time": "2023-02-28T13:34:37.332Z"
   },
   {
    "duration": 996,
    "start_time": "2023-02-28T13:34:45.010Z"
   },
   {
    "duration": 4,
    "start_time": "2023-02-28T13:34:48.620Z"
   },
   {
    "duration": 441,
    "start_time": "2023-02-28T13:34:50.017Z"
   },
   {
    "duration": 3,
    "start_time": "2023-02-28T13:34:51.623Z"
   },
   {
    "duration": 11,
    "start_time": "2023-02-28T13:34:52.062Z"
   },
   {
    "duration": 275,
    "start_time": "2023-02-28T13:34:52.620Z"
   },
   {
    "duration": 1619,
    "start_time": "2023-02-28T13:35:15.987Z"
   },
   {
    "duration": 14,
    "start_time": "2023-02-28T13:36:03.238Z"
   },
   {
    "duration": 943,
    "start_time": "2023-02-28T13:36:08.695Z"
   },
   {
    "duration": 7,
    "start_time": "2023-02-28T13:36:11.172Z"
   },
   {
    "duration": 491,
    "start_time": "2023-02-28T13:36:11.790Z"
   },
   {
    "duration": 3,
    "start_time": "2023-02-28T13:36:12.283Z"
   },
   {
    "duration": 4,
    "start_time": "2023-02-28T13:36:12.579Z"
   },
   {
    "duration": 41,
    "start_time": "2023-02-28T13:36:13.590Z"
   },
   {
    "duration": 11,
    "start_time": "2023-02-28T13:36:47.208Z"
   },
   {
    "duration": 15,
    "start_time": "2023-02-28T13:37:00.666Z"
   },
   {
    "duration": 9,
    "start_time": "2023-02-28T13:37:30.486Z"
   },
   {
    "duration": 74,
    "start_time": "2023-02-28T13:38:15.870Z"
   },
   {
    "duration": 849,
    "start_time": "2023-02-28T13:39:14.311Z"
   },
   {
    "duration": 2920,
    "start_time": "2023-02-28T13:39:16.601Z"
   },
   {
    "duration": 9,
    "start_time": "2023-02-28T13:39:55.567Z"
   },
   {
    "duration": 5,
    "start_time": "2023-02-28T13:41:24.886Z"
   },
   {
    "duration": 17,
    "start_time": "2023-02-28T13:41:24.893Z"
   },
   {
    "duration": 1042,
    "start_time": "2023-02-28T13:41:24.913Z"
   },
   {
    "duration": 10,
    "start_time": "2023-02-28T13:41:25.956Z"
   },
   {
    "duration": 610,
    "start_time": "2023-02-28T13:41:25.968Z"
   },
   {
    "duration": 3,
    "start_time": "2023-02-28T13:41:26.581Z"
   },
   {
    "duration": 6,
    "start_time": "2023-02-28T13:41:26.586Z"
   },
   {
    "duration": 5,
    "start_time": "2023-02-28T13:41:26.594Z"
   },
   {
    "duration": 9,
    "start_time": "2023-02-28T13:41:26.601Z"
   },
   {
    "duration": 906,
    "start_time": "2023-02-28T13:41:26.611Z"
   },
   {
    "duration": 3204,
    "start_time": "2023-02-28T13:41:27.521Z"
   },
   {
    "duration": 92,
    "start_time": "2023-02-28T13:41:30.726Z"
   },
   {
    "duration": 796,
    "start_time": "2023-02-28T13:41:30.819Z"
   },
   {
    "duration": 11,
    "start_time": "2023-02-28T13:41:31.616Z"
   },
   {
    "duration": 9,
    "start_time": "2023-02-28T13:44:02.722Z"
   },
   {
    "duration": 823,
    "start_time": "2023-02-28T13:47:03.679Z"
   },
   {
    "duration": 794,
    "start_time": "2023-02-28T13:47:17.615Z"
   },
   {
    "duration": 805,
    "start_time": "2023-02-28T13:48:50.801Z"
   },
   {
    "duration": 892,
    "start_time": "2023-02-28T13:48:58.038Z"
   },
   {
    "duration": 994,
    "start_time": "2023-02-28T13:49:07.995Z"
   },
   {
    "duration": 1296,
    "start_time": "2023-02-28T14:04:27.828Z"
   },
   {
    "duration": 3,
    "start_time": "2023-02-28T14:06:33.567Z"
   },
   {
    "duration": 1689,
    "start_time": "2023-02-28T14:06:33.572Z"
   },
   {
    "duration": 913,
    "start_time": "2023-02-28T14:06:35.264Z"
   },
   {
    "duration": 3,
    "start_time": "2023-02-28T14:06:36.179Z"
   },
   {
    "duration": 382,
    "start_time": "2023-02-28T14:06:36.184Z"
   },
   {
    "duration": 2,
    "start_time": "2023-02-28T14:06:36.568Z"
   },
   {
    "duration": 6,
    "start_time": "2023-02-28T14:06:36.571Z"
   },
   {
    "duration": 5,
    "start_time": "2023-02-28T14:06:36.578Z"
   },
   {
    "duration": 11,
    "start_time": "2023-02-28T14:06:36.585Z"
   },
   {
    "duration": 757,
    "start_time": "2023-02-28T14:06:36.598Z"
   },
   {
    "duration": 2684,
    "start_time": "2023-02-28T14:06:37.357Z"
   },
   {
    "duration": 90,
    "start_time": "2023-02-28T14:06:40.043Z"
   },
   {
    "duration": 669,
    "start_time": "2023-02-28T14:06:40.150Z"
   },
   {
    "duration": 6,
    "start_time": "2023-02-28T14:06:40.821Z"
   },
   {
    "duration": 999,
    "start_time": "2023-02-28T14:06:40.828Z"
   },
   {
    "duration": 318317,
    "start_time": "2023-02-28T14:06:41.829Z"
   },
   {
    "duration": 4,
    "start_time": "2023-03-01T10:51:44.403Z"
   },
   {
    "duration": 504,
    "start_time": "2023-03-01T10:51:44.423Z"
   },
   {
    "duration": 0,
    "start_time": "2023-03-01T10:51:44.929Z"
   },
   {
    "duration": 0,
    "start_time": "2023-03-01T10:51:44.930Z"
   },
   {
    "duration": 0,
    "start_time": "2023-03-01T10:51:44.931Z"
   },
   {
    "duration": 0,
    "start_time": "2023-03-01T10:51:44.932Z"
   },
   {
    "duration": 0,
    "start_time": "2023-03-01T10:51:44.934Z"
   },
   {
    "duration": 0,
    "start_time": "2023-03-01T10:51:44.935Z"
   },
   {
    "duration": 0,
    "start_time": "2023-03-01T10:51:44.948Z"
   },
   {
    "duration": 0,
    "start_time": "2023-03-01T10:51:44.949Z"
   },
   {
    "duration": 0,
    "start_time": "2023-03-01T10:51:44.950Z"
   },
   {
    "duration": 0,
    "start_time": "2023-03-01T10:51:44.951Z"
   },
   {
    "duration": 0,
    "start_time": "2023-03-01T10:51:44.953Z"
   },
   {
    "duration": 0,
    "start_time": "2023-03-01T10:51:44.954Z"
   },
   {
    "duration": 0,
    "start_time": "2023-03-01T10:51:44.955Z"
   },
   {
    "duration": 0,
    "start_time": "2023-03-01T10:51:44.956Z"
   },
   {
    "duration": 854,
    "start_time": "2023-03-01T10:52:03.678Z"
   },
   {
    "duration": 2817,
    "start_time": "2023-03-01T10:52:04.534Z"
   },
   {
    "duration": 4,
    "start_time": "2023-03-01T10:52:07.352Z"
   },
   {
    "duration": 116,
    "start_time": "2023-03-01T10:52:07.358Z"
   },
   {
    "duration": 2,
    "start_time": "2023-03-01T10:52:07.477Z"
   },
   {
    "duration": 13,
    "start_time": "2023-03-01T10:52:07.480Z"
   },
   {
    "duration": 12,
    "start_time": "2023-03-01T10:52:07.495Z"
   },
   {
    "duration": 20,
    "start_time": "2023-03-01T10:52:07.508Z"
   },
   {
    "duration": 192,
    "start_time": "2023-03-01T10:52:07.530Z"
   },
   {
    "duration": 2340,
    "start_time": "2023-03-01T10:52:07.724Z"
   },
   {
    "duration": 84,
    "start_time": "2023-03-01T10:52:10.066Z"
   },
   {
    "duration": 335,
    "start_time": "2023-03-01T10:52:10.151Z"
   },
   {
    "duration": 5,
    "start_time": "2023-03-01T10:52:10.488Z"
   },
   {
    "duration": 955,
    "start_time": "2023-03-01T10:52:10.495Z"
   },
   {
    "duration": 4,
    "start_time": "2023-03-01T10:57:30.408Z"
   },
   {
    "duration": 1277,
    "start_time": "2023-03-01T10:57:30.414Z"
   },
   {
    "duration": 752,
    "start_time": "2023-03-01T10:57:31.693Z"
   },
   {
    "duration": 3,
    "start_time": "2023-03-01T10:57:32.448Z"
   },
   {
    "duration": 122,
    "start_time": "2023-03-01T10:57:32.453Z"
   },
   {
    "duration": 2,
    "start_time": "2023-03-01T10:57:32.577Z"
   },
   {
    "duration": 10,
    "start_time": "2023-03-01T10:57:32.580Z"
   },
   {
    "duration": 9,
    "start_time": "2023-03-01T10:57:32.592Z"
   },
   {
    "duration": 21,
    "start_time": "2023-03-01T10:57:32.603Z"
   },
   {
    "duration": 215,
    "start_time": "2023-03-01T10:57:32.626Z"
   },
   {
    "duration": 2427,
    "start_time": "2023-03-01T10:57:32.842Z"
   },
   {
    "duration": 85,
    "start_time": "2023-03-01T10:57:35.271Z"
   },
   {
    "duration": 351,
    "start_time": "2023-03-01T10:57:35.358Z"
   },
   {
    "duration": 7,
    "start_time": "2023-03-01T10:57:35.712Z"
   },
   {
    "duration": 1014,
    "start_time": "2023-03-01T10:57:35.720Z"
   },
   {
    "duration": 299262,
    "start_time": "2023-03-01T10:57:36.735Z"
   },
   {
    "duration": 0,
    "start_time": "2023-03-01T11:02:35.999Z"
   },
   {
    "duration": 0,
    "start_time": "2023-03-01T11:02:36.000Z"
   },
   {
    "duration": 301900,
    "start_time": "2023-03-01T12:02:55.355Z"
   },
   {
    "duration": 945,
    "start_time": "2023-03-01T12:10:50.983Z"
   },
   {
    "duration": 4,
    "start_time": "2023-03-01T12:13:19.756Z"
   },
   {
    "duration": 1170,
    "start_time": "2023-03-01T12:13:19.816Z"
   },
   {
    "duration": 789,
    "start_time": "2023-03-01T12:13:20.988Z"
   },
   {
    "duration": 3,
    "start_time": "2023-03-01T12:13:21.779Z"
   },
   {
    "duration": 126,
    "start_time": "2023-03-01T12:13:21.784Z"
   },
   {
    "duration": 2,
    "start_time": "2023-03-01T12:13:21.914Z"
   },
   {
    "duration": 6,
    "start_time": "2023-03-01T12:13:21.918Z"
   },
   {
    "duration": 7,
    "start_time": "2023-03-01T12:13:21.926Z"
   },
   {
    "duration": 19,
    "start_time": "2023-03-01T12:13:21.934Z"
   },
   {
    "duration": 218,
    "start_time": "2023-03-01T12:13:21.955Z"
   },
   {
    "duration": 2342,
    "start_time": "2023-03-01T12:13:22.174Z"
   },
   {
    "duration": 85,
    "start_time": "2023-03-01T12:13:24.517Z"
   },
   {
    "duration": 339,
    "start_time": "2023-03-01T12:13:24.603Z"
   },
   {
    "duration": 7,
    "start_time": "2023-03-01T12:13:24.947Z"
   },
   {
    "duration": 1035,
    "start_time": "2023-03-01T12:13:24.956Z"
   },
   {
    "duration": 305270,
    "start_time": "2023-03-01T12:13:25.994Z"
   },
   {
    "duration": 530,
    "start_time": "2023-03-01T12:18:31.266Z"
   },
   {
    "duration": 116,
    "start_time": "2023-03-01T12:18:31.797Z"
   },
   {
    "duration": 248,
    "start_time": "2023-03-01T12:58:47.203Z"
   },
   {
    "duration": 3,
    "start_time": "2023-03-01T12:59:17.703Z"
   },
   {
    "duration": 1056,
    "start_time": "2023-03-01T12:59:17.712Z"
   },
   {
    "duration": 821,
    "start_time": "2023-03-01T12:59:18.770Z"
   },
   {
    "duration": 4,
    "start_time": "2023-03-01T12:59:19.592Z"
   },
   {
    "duration": 119,
    "start_time": "2023-03-01T12:59:19.597Z"
   },
   {
    "duration": 2,
    "start_time": "2023-03-01T12:59:19.718Z"
   },
   {
    "duration": 21,
    "start_time": "2023-03-01T12:59:19.722Z"
   },
   {
    "duration": 6,
    "start_time": "2023-03-01T12:59:19.745Z"
   },
   {
    "duration": 14,
    "start_time": "2023-03-01T12:59:19.752Z"
   },
   {
    "duration": 202,
    "start_time": "2023-03-01T12:59:19.767Z"
   },
   {
    "duration": 2292,
    "start_time": "2023-03-01T12:59:19.970Z"
   },
   {
    "duration": 85,
    "start_time": "2023-03-01T12:59:22.264Z"
   },
   {
    "duration": 333,
    "start_time": "2023-03-01T12:59:22.350Z"
   },
   {
    "duration": 6,
    "start_time": "2023-03-01T12:59:22.685Z"
   },
   {
    "duration": 945,
    "start_time": "2023-03-01T12:59:22.693Z"
   },
   {
    "duration": 310470,
    "start_time": "2023-03-01T12:59:23.640Z"
   },
   {
    "duration": 478,
    "start_time": "2023-03-01T13:04:34.113Z"
   },
   {
    "duration": 109,
    "start_time": "2023-03-01T13:04:34.593Z"
   },
   {
    "duration": 4,
    "start_time": "2023-03-03T06:26:25.893Z"
   },
   {
    "duration": 1469,
    "start_time": "2023-03-03T06:26:25.914Z"
   },
   {
    "duration": 2948,
    "start_time": "2023-03-03T06:26:27.386Z"
   },
   {
    "duration": 4,
    "start_time": "2023-03-03T06:26:30.336Z"
   },
   {
    "duration": 247,
    "start_time": "2023-03-03T06:26:30.343Z"
   },
   {
    "duration": 3,
    "start_time": "2023-03-03T06:26:30.592Z"
   },
   {
    "duration": 44,
    "start_time": "2023-03-03T06:26:30.597Z"
   },
   {
    "duration": 42,
    "start_time": "2023-03-03T06:26:30.645Z"
   },
   {
    "duration": 30,
    "start_time": "2023-03-03T06:26:30.689Z"
   },
   {
    "duration": 252,
    "start_time": "2023-03-03T06:26:30.721Z"
   },
   {
    "duration": 2966,
    "start_time": "2023-03-03T06:26:30.975Z"
   },
   {
    "duration": 77,
    "start_time": "2023-03-03T06:26:33.944Z"
   },
   {
    "duration": 476,
    "start_time": "2023-03-03T06:26:34.023Z"
   },
   {
    "duration": 6,
    "start_time": "2023-03-03T06:26:34.500Z"
   },
   {
    "duration": 1026,
    "start_time": "2023-03-03T06:26:34.507Z"
   },
   {
    "duration": 350444,
    "start_time": "2023-03-03T06:26:35.534Z"
   },
   {
    "duration": 508,
    "start_time": "2023-03-03T06:32:25.980Z"
   },
   {
    "duration": 121,
    "start_time": "2023-03-03T06:32:26.490Z"
   },
   {
    "duration": 248,
    "start_time": "2023-03-03T06:33:06.716Z"
   },
   {
    "duration": 175,
    "start_time": "2023-03-03T06:33:17.066Z"
   },
   {
    "duration": 3,
    "start_time": "2023-03-03T06:33:32.162Z"
   },
   {
    "duration": 3,
    "start_time": "2023-03-03T06:33:32.184Z"
   },
   {
    "duration": 824,
    "start_time": "2023-03-03T06:33:32.191Z"
   },
   {
    "duration": 3,
    "start_time": "2023-03-03T06:33:33.017Z"
   },
   {
    "duration": 164,
    "start_time": "2023-03-03T06:33:33.022Z"
   },
   {
    "duration": 2,
    "start_time": "2023-03-03T06:33:33.189Z"
   },
   {
    "duration": 11,
    "start_time": "2023-03-03T06:33:33.193Z"
   },
   {
    "duration": 4,
    "start_time": "2023-03-03T06:33:33.206Z"
   },
   {
    "duration": 10,
    "start_time": "2023-03-03T06:33:33.211Z"
   },
   {
    "duration": 281,
    "start_time": "2023-03-03T06:33:33.222Z"
   },
   {
    "duration": 2832,
    "start_time": "2023-03-03T06:33:33.505Z"
   },
   {
    "duration": 74,
    "start_time": "2023-03-03T06:33:36.339Z"
   },
   {
    "duration": 446,
    "start_time": "2023-03-03T06:33:36.415Z"
   },
   {
    "duration": 7,
    "start_time": "2023-03-03T06:33:36.863Z"
   },
   {
    "duration": 1080,
    "start_time": "2023-03-03T06:33:36.871Z"
   },
   {
    "duration": 183,
    "start_time": "2023-03-03T06:33:37.952Z"
   },
   {
    "duration": 3,
    "start_time": "2023-03-03T06:33:38.140Z"
   },
   {
    "duration": 1035,
    "start_time": "2023-03-03T06:33:38.144Z"
   },
   {
    "duration": 126,
    "start_time": "2023-03-03T06:33:39.180Z"
   },
   {
    "duration": 169,
    "start_time": "2023-03-03T06:33:54.289Z"
   },
   {
    "duration": 173,
    "start_time": "2023-03-03T06:34:00.389Z"
   },
   {
    "duration": 190,
    "start_time": "2023-03-03T06:34:25.608Z"
   },
   {
    "duration": 248,
    "start_time": "2023-03-03T06:34:32.278Z"
   },
   {
    "duration": 10,
    "start_time": "2023-03-03T06:37:47.420Z"
   },
   {
    "duration": 961,
    "start_time": "2023-03-03T06:37:48.807Z"
   },
   {
    "duration": 139,
    "start_time": "2023-03-03T06:38:10.848Z"
   },
   {
    "duration": 1321,
    "start_time": "2023-03-03T06:38:11.505Z"
   },
   {
    "duration": 2,
    "start_time": "2023-03-03T06:38:17.047Z"
   },
   {
    "duration": 3,
    "start_time": "2023-03-03T06:38:17.060Z"
   },
   {
    "duration": 876,
    "start_time": "2023-03-03T06:38:17.066Z"
   },
   {
    "duration": 4,
    "start_time": "2023-03-03T06:38:17.944Z"
   },
   {
    "duration": 178,
    "start_time": "2023-03-03T06:38:17.950Z"
   },
   {
    "duration": 2,
    "start_time": "2023-03-03T06:38:18.130Z"
   },
   {
    "duration": 9,
    "start_time": "2023-03-03T06:38:18.133Z"
   },
   {
    "duration": 3,
    "start_time": "2023-03-03T06:38:18.144Z"
   },
   {
    "duration": 13,
    "start_time": "2023-03-03T06:38:18.149Z"
   },
   {
    "duration": 267,
    "start_time": "2023-03-03T06:38:18.164Z"
   },
   {
    "duration": 2785,
    "start_time": "2023-03-03T06:38:18.440Z"
   },
   {
    "duration": 76,
    "start_time": "2023-03-03T06:38:21.228Z"
   },
   {
    "duration": 522,
    "start_time": "2023-03-03T06:38:21.306Z"
   },
   {
    "duration": 18,
    "start_time": "2023-03-03T06:38:21.830Z"
   },
   {
    "duration": 1051,
    "start_time": "2023-03-03T06:38:21.850Z"
   },
   {
    "duration": 290,
    "start_time": "2023-03-03T06:38:22.903Z"
   },
   {
    "duration": 155,
    "start_time": "2023-03-03T06:38:23.195Z"
   },
   {
    "duration": 1284,
    "start_time": "2023-03-03T06:38:23.351Z"
   },
   {
    "duration": 114,
    "start_time": "2023-03-03T06:38:24.640Z"
   },
   {
    "duration": 3,
    "start_time": "2023-03-03T06:39:05.229Z"
   },
   {
    "duration": 3,
    "start_time": "2023-03-03T06:39:05.248Z"
   },
   {
    "duration": 800,
    "start_time": "2023-03-03T06:39:05.254Z"
   },
   {
    "duration": 5,
    "start_time": "2023-03-03T06:39:06.058Z"
   },
   {
    "duration": 176,
    "start_time": "2023-03-03T06:39:06.065Z"
   },
   {
    "duration": 4,
    "start_time": "2023-03-03T06:39:06.244Z"
   },
   {
    "duration": 10,
    "start_time": "2023-03-03T06:39:06.249Z"
   },
   {
    "duration": 4,
    "start_time": "2023-03-03T06:39:06.261Z"
   },
   {
    "duration": 14,
    "start_time": "2023-03-03T06:39:06.266Z"
   },
   {
    "duration": 279,
    "start_time": "2023-03-03T06:39:06.282Z"
   },
   {
    "duration": 2996,
    "start_time": "2023-03-03T06:39:06.563Z"
   },
   {
    "duration": 89,
    "start_time": "2023-03-03T06:39:09.562Z"
   },
   {
    "duration": 465,
    "start_time": "2023-03-03T06:39:09.653Z"
   },
   {
    "duration": 6,
    "start_time": "2023-03-03T06:39:10.120Z"
   },
   {
    "duration": 1524,
    "start_time": "2023-03-03T06:39:10.141Z"
   },
   {
    "duration": 685,
    "start_time": "2023-03-03T06:39:11.667Z"
   },
   {
    "duration": 232,
    "start_time": "2023-03-03T06:39:12.354Z"
   },
   {
    "duration": 961,
    "start_time": "2023-03-03T06:39:12.588Z"
   },
   {
    "duration": 134,
    "start_time": "2023-03-03T06:39:13.551Z"
   },
   {
    "duration": 145,
    "start_time": "2023-03-03T06:41:50.120Z"
   },
   {
    "duration": 5,
    "start_time": "2023-03-03T06:41:57.252Z"
   },
   {
    "duration": 114,
    "start_time": "2023-03-03T06:42:19.213Z"
   },
   {
    "duration": 288,
    "start_time": "2023-03-03T06:42:56.034Z"
   },
   {
    "duration": 17,
    "start_time": "2023-03-03T06:43:23.812Z"
   },
   {
    "duration": 12,
    "start_time": "2023-03-03T06:43:26.547Z"
   },
   {
    "duration": 11,
    "start_time": "2023-03-03T06:43:32.785Z"
   },
   {
    "duration": 12,
    "start_time": "2023-03-03T06:43:42.385Z"
   },
   {
    "duration": 3,
    "start_time": "2023-03-03T06:46:03.212Z"
   },
   {
    "duration": 3,
    "start_time": "2023-03-03T06:46:03.234Z"
   },
   {
    "duration": 863,
    "start_time": "2023-03-03T06:46:03.240Z"
   },
   {
    "duration": 5,
    "start_time": "2023-03-03T06:46:04.105Z"
   },
   {
    "duration": 222,
    "start_time": "2023-03-03T06:46:04.112Z"
   },
   {
    "duration": 3,
    "start_time": "2023-03-03T06:46:04.340Z"
   },
   {
    "duration": 10,
    "start_time": "2023-03-03T06:46:04.344Z"
   },
   {
    "duration": 4,
    "start_time": "2023-03-03T06:46:04.356Z"
   },
   {
    "duration": 14,
    "start_time": "2023-03-03T06:46:04.362Z"
   },
   {
    "duration": 284,
    "start_time": "2023-03-03T06:46:04.378Z"
   },
   {
    "duration": 3135,
    "start_time": "2023-03-03T06:46:04.665Z"
   },
   {
    "duration": 84,
    "start_time": "2023-03-03T06:46:07.804Z"
   },
   {
    "duration": 484,
    "start_time": "2023-03-03T06:46:07.890Z"
   },
   {
    "duration": 12,
    "start_time": "2023-03-03T06:46:08.377Z"
   },
   {
    "duration": 981,
    "start_time": "2023-03-03T06:46:08.393Z"
   },
   {
    "duration": 275,
    "start_time": "2023-03-03T06:46:09.376Z"
   },
   {
    "duration": 130,
    "start_time": "2023-03-03T06:46:09.653Z"
   },
   {
    "duration": 928,
    "start_time": "2023-03-03T06:46:09.785Z"
   },
   {
    "duration": 10,
    "start_time": "2023-03-03T06:46:10.715Z"
   },
   {
    "duration": 0,
    "start_time": "2023-03-03T06:46:10.727Z"
   },
   {
    "duration": 2,
    "start_time": "2023-03-03T06:46:34.239Z"
   },
   {
    "duration": 28,
    "start_time": "2023-03-03T06:46:34.262Z"
   },
   {
    "duration": 843,
    "start_time": "2023-03-03T06:46:34.293Z"
   },
   {
    "duration": 4,
    "start_time": "2023-03-03T06:46:35.138Z"
   },
   {
    "duration": 219,
    "start_time": "2023-03-03T06:46:35.144Z"
   },
   {
    "duration": 63,
    "start_time": "2023-03-03T06:46:35.366Z"
   },
   {
    "duration": 88,
    "start_time": "2023-03-03T06:46:35.431Z"
   },
   {
    "duration": 41,
    "start_time": "2023-03-03T06:46:35.521Z"
   },
   {
    "duration": 68,
    "start_time": "2023-03-03T06:46:35.564Z"
   },
   {
    "duration": 301,
    "start_time": "2023-03-03T06:46:35.633Z"
   },
   {
    "duration": 4484,
    "start_time": "2023-03-03T06:46:35.936Z"
   },
   {
    "duration": 77,
    "start_time": "2023-03-03T06:46:40.422Z"
   },
   {
    "duration": 426,
    "start_time": "2023-03-03T06:46:40.500Z"
   },
   {
    "duration": 16,
    "start_time": "2023-03-03T06:46:40.928Z"
   },
   {
    "duration": 986,
    "start_time": "2023-03-03T06:46:40.947Z"
   },
   {
    "duration": 299,
    "start_time": "2023-03-03T06:46:41.934Z"
   },
   {
    "duration": 138,
    "start_time": "2023-03-03T06:46:42.235Z"
   },
   {
    "duration": 910,
    "start_time": "2023-03-03T06:46:42.375Z"
   },
   {
    "duration": 11,
    "start_time": "2023-03-03T06:46:43.286Z"
   },
   {
    "duration": 0,
    "start_time": "2023-03-03T06:46:43.299Z"
   },
   {
    "duration": 12,
    "start_time": "2023-03-03T06:49:17.800Z"
   },
   {
    "duration": 109,
    "start_time": "2023-03-03T06:51:28.007Z"
   },
   {
    "duration": 9,
    "start_time": "2023-03-03T06:51:45.036Z"
   },
   {
    "duration": 850,
    "start_time": "2023-03-03T06:52:21.786Z"
   },
   {
    "duration": 870,
    "start_time": "2023-03-03T06:52:52.497Z"
   },
   {
    "duration": 264,
    "start_time": "2023-03-03T06:53:28.151Z"
   },
   {
    "duration": 282,
    "start_time": "2023-03-03T06:53:37.084Z"
   },
   {
    "duration": 140,
    "start_time": "2023-03-03T06:53:53.274Z"
   },
   {
    "duration": 3,
    "start_time": "2023-03-03T06:58:06.088Z"
   },
   {
    "duration": 3,
    "start_time": "2023-03-03T06:58:20.927Z"
   },
   {
    "duration": 219,
    "start_time": "2023-03-03T06:58:26.356Z"
   },
   {
    "duration": 215,
    "start_time": "2023-03-03T06:58:34.370Z"
   },
   {
    "duration": 12,
    "start_time": "2023-03-03T07:23:03.240Z"
   },
   {
    "duration": 6,
    "start_time": "2023-03-03T07:23:24.874Z"
   },
   {
    "duration": 44,
    "start_time": "2023-03-03T07:23:38.964Z"
   },
   {
    "duration": 36,
    "start_time": "2023-03-03T07:23:54.792Z"
   },
   {
    "duration": 32,
    "start_time": "2023-03-03T07:24:10.410Z"
   },
   {
    "duration": 50,
    "start_time": "2023-03-03T07:24:17.523Z"
   },
   {
    "duration": 189,
    "start_time": "2023-03-03T07:24:27.318Z"
   },
   {
    "duration": 12,
    "start_time": "2023-03-03T07:25:22.494Z"
   },
   {
    "duration": 175,
    "start_time": "2023-03-03T07:25:45.448Z"
   },
   {
    "duration": 153,
    "start_time": "2023-03-03T07:25:51.627Z"
   },
   {
    "duration": 218,
    "start_time": "2023-03-03T07:26:15.690Z"
   },
   {
    "duration": 173,
    "start_time": "2023-03-03T07:26:31.409Z"
   },
   {
    "duration": 271,
    "start_time": "2023-03-03T07:26:37.706Z"
   },
   {
    "duration": 31,
    "start_time": "2023-03-03T07:26:42.362Z"
   },
   {
    "duration": 55,
    "start_time": "2023-03-03T07:29:42.210Z"
   },
   {
    "duration": 55,
    "start_time": "2023-03-03T07:29:58.069Z"
   },
   {
    "duration": 16,
    "start_time": "2023-03-03T07:30:06.978Z"
   },
   {
    "duration": 20,
    "start_time": "2023-03-03T07:30:24.906Z"
   },
   {
    "duration": 21,
    "start_time": "2023-03-03T07:30:33.726Z"
   },
   {
    "duration": 38,
    "start_time": "2023-03-03T07:32:39.465Z"
   },
   {
    "duration": 50,
    "start_time": "2023-03-03T07:32:52.840Z"
   },
   {
    "duration": 44,
    "start_time": "2023-03-03T07:33:07.282Z"
   },
   {
    "duration": 31,
    "start_time": "2023-03-03T07:33:24.228Z"
   },
   {
    "duration": 53,
    "start_time": "2023-03-03T07:33:31.522Z"
   },
   {
    "duration": 53,
    "start_time": "2023-03-03T07:34:26.566Z"
   },
   {
    "duration": 48,
    "start_time": "2023-03-03T07:34:41.814Z"
   },
   {
    "duration": 24,
    "start_time": "2023-03-03T07:35:20.370Z"
   },
   {
    "duration": 10,
    "start_time": "2023-03-03T07:36:17.294Z"
   },
   {
    "duration": 8,
    "start_time": "2023-03-03T07:39:55.727Z"
   },
   {
    "duration": 9,
    "start_time": "2023-03-03T07:40:04.783Z"
   },
   {
    "duration": 10,
    "start_time": "2023-03-03T07:40:12.686Z"
   },
   {
    "duration": 11,
    "start_time": "2023-03-03T07:40:38.034Z"
   },
   {
    "duration": 1118,
    "start_time": "2023-03-03T07:40:54.810Z"
   },
   {
    "duration": 1334,
    "start_time": "2023-03-03T07:41:37.125Z"
   },
   {
    "duration": 9,
    "start_time": "2023-03-03T07:42:00.188Z"
   },
   {
    "duration": 10,
    "start_time": "2023-03-03T07:42:26.588Z"
   },
   {
    "duration": 10,
    "start_time": "2023-03-03T07:42:32.745Z"
   },
   {
    "duration": 13,
    "start_time": "2023-03-03T08:39:13.723Z"
   },
   {
    "duration": 14,
    "start_time": "2023-03-03T08:39:24.610Z"
   },
   {
    "duration": 19,
    "start_time": "2023-03-03T08:39:52.897Z"
   },
   {
    "duration": 26,
    "start_time": "2023-03-03T08:40:11.827Z"
   },
   {
    "duration": 12,
    "start_time": "2023-03-03T08:40:19.501Z"
   },
   {
    "duration": 13,
    "start_time": "2023-03-03T08:40:24.380Z"
   },
   {
    "duration": 13,
    "start_time": "2023-03-03T08:40:30.541Z"
   },
   {
    "duration": 40,
    "start_time": "2023-03-03T08:40:51.901Z"
   },
   {
    "duration": 12,
    "start_time": "2023-03-03T08:40:59.957Z"
   },
   {
    "duration": 10,
    "start_time": "2023-03-03T08:43:36.316Z"
   },
   {
    "duration": 38,
    "start_time": "2023-03-03T08:43:46.693Z"
   },
   {
    "duration": 35,
    "start_time": "2023-03-03T08:44:08.406Z"
   },
   {
    "duration": 36,
    "start_time": "2023-03-03T08:44:32.428Z"
   },
   {
    "duration": 2,
    "start_time": "2023-03-03T08:44:39.564Z"
   },
   {
    "duration": 2,
    "start_time": "2023-03-03T08:44:39.589Z"
   },
   {
    "duration": 771,
    "start_time": "2023-03-03T08:44:39.603Z"
   },
   {
    "duration": 4,
    "start_time": "2023-03-03T08:44:40.376Z"
   },
   {
    "duration": 144,
    "start_time": "2023-03-03T08:44:40.382Z"
   },
   {
    "duration": 3,
    "start_time": "2023-03-03T08:44:40.529Z"
   },
   {
    "duration": 9,
    "start_time": "2023-03-03T08:44:40.533Z"
   },
   {
    "duration": 6,
    "start_time": "2023-03-03T08:44:40.543Z"
   },
   {
    "duration": 6,
    "start_time": "2023-03-03T08:44:40.551Z"
   },
   {
    "duration": 283,
    "start_time": "2023-03-03T08:44:40.559Z"
   },
   {
    "duration": 46,
    "start_time": "2023-03-03T08:44:40.843Z"
   },
   {
    "duration": 0,
    "start_time": "2023-03-03T08:44:40.891Z"
   },
   {
    "duration": 0,
    "start_time": "2023-03-03T08:44:40.892Z"
   },
   {
    "duration": 0,
    "start_time": "2023-03-03T08:44:40.893Z"
   },
   {
    "duration": 0,
    "start_time": "2023-03-03T08:44:40.894Z"
   },
   {
    "duration": 0,
    "start_time": "2023-03-03T08:44:40.895Z"
   },
   {
    "duration": 0,
    "start_time": "2023-03-03T08:44:40.896Z"
   },
   {
    "duration": 0,
    "start_time": "2023-03-03T08:44:40.897Z"
   },
   {
    "duration": 0,
    "start_time": "2023-03-03T08:44:40.898Z"
   },
   {
    "duration": 0,
    "start_time": "2023-03-03T08:44:40.899Z"
   },
   {
    "duration": 0,
    "start_time": "2023-03-03T08:44:40.901Z"
   },
   {
    "duration": 0,
    "start_time": "2023-03-03T08:44:40.902Z"
   },
   {
    "duration": 0,
    "start_time": "2023-03-03T08:44:40.904Z"
   },
   {
    "duration": 0,
    "start_time": "2023-03-03T08:44:40.905Z"
   },
   {
    "duration": 0,
    "start_time": "2023-03-03T08:44:40.907Z"
   },
   {
    "duration": 0,
    "start_time": "2023-03-03T08:44:40.909Z"
   },
   {
    "duration": 0,
    "start_time": "2023-03-03T08:44:40.910Z"
   },
   {
    "duration": 0,
    "start_time": "2023-03-03T08:44:40.912Z"
   },
   {
    "duration": 5,
    "start_time": "2023-03-03T08:49:44.509Z"
   },
   {
    "duration": 11,
    "start_time": "2023-03-03T08:50:00.839Z"
   },
   {
    "duration": 4,
    "start_time": "2023-03-03T08:53:04.189Z"
   },
   {
    "duration": 1164,
    "start_time": "2023-03-03T08:53:04.198Z"
   },
   {
    "duration": 906,
    "start_time": "2023-03-03T08:53:05.364Z"
   },
   {
    "duration": 4,
    "start_time": "2023-03-03T08:53:06.273Z"
   },
   {
    "duration": 147,
    "start_time": "2023-03-03T08:53:06.279Z"
   },
   {
    "duration": 14,
    "start_time": "2023-03-03T08:53:06.428Z"
   },
   {
    "duration": 5,
    "start_time": "2023-03-03T08:53:06.444Z"
   },
   {
    "duration": 8,
    "start_time": "2023-03-03T08:53:06.450Z"
   },
   {
    "duration": 3,
    "start_time": "2023-03-03T08:53:06.460Z"
   },
   {
    "duration": 259,
    "start_time": "2023-03-03T08:53:06.464Z"
   },
   {
    "duration": 105,
    "start_time": "2023-03-03T08:53:06.725Z"
   },
   {
    "duration": 0,
    "start_time": "2023-03-03T08:53:06.831Z"
   },
   {
    "duration": 0,
    "start_time": "2023-03-03T08:53:06.832Z"
   },
   {
    "duration": 0,
    "start_time": "2023-03-03T08:53:06.841Z"
   },
   {
    "duration": 0,
    "start_time": "2023-03-03T08:53:06.841Z"
   },
   {
    "duration": 0,
    "start_time": "2023-03-03T08:53:06.842Z"
   },
   {
    "duration": 0,
    "start_time": "2023-03-03T08:53:06.844Z"
   },
   {
    "duration": 0,
    "start_time": "2023-03-03T08:53:06.845Z"
   },
   {
    "duration": 0,
    "start_time": "2023-03-03T08:53:06.846Z"
   },
   {
    "duration": 0,
    "start_time": "2023-03-03T08:53:06.846Z"
   },
   {
    "duration": 0,
    "start_time": "2023-03-03T08:53:06.847Z"
   },
   {
    "duration": 0,
    "start_time": "2023-03-03T08:53:06.848Z"
   },
   {
    "duration": 0,
    "start_time": "2023-03-03T08:53:06.850Z"
   },
   {
    "duration": 0,
    "start_time": "2023-03-03T08:53:06.851Z"
   },
   {
    "duration": 0,
    "start_time": "2023-03-03T08:53:06.852Z"
   },
   {
    "duration": 0,
    "start_time": "2023-03-03T08:53:06.853Z"
   },
   {
    "duration": 0,
    "start_time": "2023-03-03T08:53:06.854Z"
   },
   {
    "duration": 0,
    "start_time": "2023-03-03T08:53:06.855Z"
   },
   {
    "duration": 13,
    "start_time": "2023-03-03T08:54:58.522Z"
   },
   {
    "duration": 45,
    "start_time": "2023-03-03T08:55:30.670Z"
   },
   {
    "duration": 53,
    "start_time": "2023-03-03T08:55:56.291Z"
   },
   {
    "duration": 383,
    "start_time": "2023-03-03T08:56:02.520Z"
   },
   {
    "duration": 375,
    "start_time": "2023-03-03T08:56:36.445Z"
   },
   {
    "duration": 383,
    "start_time": "2023-03-03T08:57:17.789Z"
   },
   {
    "duration": 388,
    "start_time": "2023-03-03T08:57:27.213Z"
   },
   {
    "duration": 3,
    "start_time": "2023-03-03T08:59:02.226Z"
   },
   {
    "duration": 43,
    "start_time": "2023-03-03T08:59:02.241Z"
   },
   {
    "duration": 24,
    "start_time": "2023-03-03T08:59:02.287Z"
   },
   {
    "duration": 83,
    "start_time": "2023-03-03T08:59:02.313Z"
   },
   {
    "duration": 11,
    "start_time": "2023-03-03T08:59:02.398Z"
   },
   {
    "duration": 2814,
    "start_time": "2023-03-03T08:59:02.411Z"
   },
   {
    "duration": 45,
    "start_time": "2023-03-03T08:59:05.227Z"
   },
   {
    "duration": 0,
    "start_time": "2023-03-03T08:59:05.273Z"
   },
   {
    "duration": 0,
    "start_time": "2023-03-03T08:59:05.274Z"
   },
   {
    "duration": 0,
    "start_time": "2023-03-03T08:59:05.276Z"
   },
   {
    "duration": 0,
    "start_time": "2023-03-03T08:59:05.278Z"
   },
   {
    "duration": 0,
    "start_time": "2023-03-03T08:59:05.279Z"
   },
   {
    "duration": 0,
    "start_time": "2023-03-03T08:59:05.280Z"
   },
   {
    "duration": 0,
    "start_time": "2023-03-03T08:59:05.282Z"
   },
   {
    "duration": 0,
    "start_time": "2023-03-03T08:59:05.283Z"
   },
   {
    "duration": 0,
    "start_time": "2023-03-03T08:59:05.285Z"
   },
   {
    "duration": 0,
    "start_time": "2023-03-03T08:59:05.286Z"
   },
   {
    "duration": 0,
    "start_time": "2023-03-03T08:59:05.287Z"
   },
   {
    "duration": 61,
    "start_time": "2023-03-03T09:06:33.110Z"
   },
   {
    "duration": 14,
    "start_time": "2023-03-03T09:06:45.436Z"
   },
   {
    "duration": 3,
    "start_time": "2023-03-03T09:06:52.955Z"
   },
   {
    "duration": 3,
    "start_time": "2023-03-03T09:06:52.961Z"
   },
   {
    "duration": 876,
    "start_time": "2023-03-03T09:06:52.966Z"
   },
   {
    "duration": 4,
    "start_time": "2023-03-03T09:06:53.844Z"
   },
   {
    "duration": 147,
    "start_time": "2023-03-03T09:06:53.849Z"
   },
   {
    "duration": 2,
    "start_time": "2023-03-03T09:06:53.998Z"
   },
   {
    "duration": 6,
    "start_time": "2023-03-03T09:06:54.002Z"
   },
   {
    "duration": 15,
    "start_time": "2023-03-03T09:06:54.010Z"
   },
   {
    "duration": 5,
    "start_time": "2023-03-03T09:06:54.027Z"
   },
   {
    "duration": 268,
    "start_time": "2023-03-03T09:06:54.034Z"
   },
   {
    "duration": 2,
    "start_time": "2023-03-03T09:06:54.304Z"
   },
   {
    "duration": 68,
    "start_time": "2023-03-03T09:06:54.308Z"
   },
   {
    "duration": 34,
    "start_time": "2023-03-03T09:06:54.378Z"
   },
   {
    "duration": 88,
    "start_time": "2023-03-03T09:06:54.414Z"
   },
   {
    "duration": 13,
    "start_time": "2023-03-03T09:06:54.504Z"
   },
   {
    "duration": 3154,
    "start_time": "2023-03-03T09:06:54.519Z"
   },
   {
    "duration": 55,
    "start_time": "2023-03-03T09:06:57.675Z"
   },
   {
    "duration": 79,
    "start_time": "2023-03-03T09:06:57.742Z"
   },
   {
    "duration": 0,
    "start_time": "2023-03-03T09:06:57.823Z"
   },
   {
    "duration": 0,
    "start_time": "2023-03-03T09:06:57.824Z"
   },
   {
    "duration": 0,
    "start_time": "2023-03-03T09:06:57.826Z"
   },
   {
    "duration": 0,
    "start_time": "2023-03-03T09:06:57.828Z"
   },
   {
    "duration": 0,
    "start_time": "2023-03-03T09:06:57.829Z"
   },
   {
    "duration": 0,
    "start_time": "2023-03-03T09:06:57.831Z"
   },
   {
    "duration": 0,
    "start_time": "2023-03-03T09:06:57.832Z"
   },
   {
    "duration": 0,
    "start_time": "2023-03-03T09:06:57.834Z"
   },
   {
    "duration": 0,
    "start_time": "2023-03-03T09:06:57.835Z"
   },
   {
    "duration": 0,
    "start_time": "2023-03-03T09:06:57.837Z"
   },
   {
    "duration": 19,
    "start_time": "2023-03-03T09:07:26.060Z"
   },
   {
    "duration": 3,
    "start_time": "2023-03-03T09:07:30.279Z"
   },
   {
    "duration": 3,
    "start_time": "2023-03-03T09:07:30.306Z"
   },
   {
    "duration": 833,
    "start_time": "2023-03-03T09:07:30.311Z"
   },
   {
    "duration": 4,
    "start_time": "2023-03-03T09:07:31.146Z"
   },
   {
    "duration": 157,
    "start_time": "2023-03-03T09:07:31.152Z"
   },
   {
    "duration": 23,
    "start_time": "2023-03-03T09:07:31.312Z"
   },
   {
    "duration": 29,
    "start_time": "2023-03-03T09:07:31.337Z"
   },
   {
    "duration": 9,
    "start_time": "2023-03-03T09:07:31.368Z"
   },
   {
    "duration": 13,
    "start_time": "2023-03-03T09:07:31.378Z"
   },
   {
    "duration": 300,
    "start_time": "2023-03-03T09:07:31.393Z"
   },
   {
    "duration": 2,
    "start_time": "2023-03-03T09:07:31.695Z"
   },
   {
    "duration": 73,
    "start_time": "2023-03-03T09:07:31.701Z"
   },
   {
    "duration": 50,
    "start_time": "2023-03-03T09:07:31.776Z"
   },
   {
    "duration": 74,
    "start_time": "2023-03-03T09:07:31.829Z"
   },
   {
    "duration": 20,
    "start_time": "2023-03-03T09:07:31.905Z"
   },
   {
    "duration": 2839,
    "start_time": "2023-03-03T09:07:31.941Z"
   },
   {
    "duration": 37,
    "start_time": "2023-03-03T09:07:34.781Z"
   },
   {
    "duration": 55,
    "start_time": "2023-03-03T09:07:34.820Z"
   },
   {
    "duration": 0,
    "start_time": "2023-03-03T09:07:34.876Z"
   },
   {
    "duration": 0,
    "start_time": "2023-03-03T09:07:34.878Z"
   },
   {
    "duration": 0,
    "start_time": "2023-03-03T09:07:34.879Z"
   },
   {
    "duration": 0,
    "start_time": "2023-03-03T09:07:34.880Z"
   },
   {
    "duration": 0,
    "start_time": "2023-03-03T09:07:34.881Z"
   },
   {
    "duration": 0,
    "start_time": "2023-03-03T09:07:34.882Z"
   },
   {
    "duration": 0,
    "start_time": "2023-03-03T09:07:34.883Z"
   },
   {
    "duration": 0,
    "start_time": "2023-03-03T09:07:34.884Z"
   },
   {
    "duration": 0,
    "start_time": "2023-03-03T09:07:34.884Z"
   },
   {
    "duration": 0,
    "start_time": "2023-03-03T09:07:34.885Z"
   },
   {
    "duration": 178,
    "start_time": "2023-03-03T09:09:37.500Z"
   },
   {
    "duration": 10,
    "start_time": "2023-03-03T09:10:02.386Z"
   },
   {
    "duration": 1234,
    "start_time": "2023-03-03T09:10:06.704Z"
   },
   {
    "duration": 116,
    "start_time": "2023-03-03T09:10:29.295Z"
   },
   {
    "duration": 262,
    "start_time": "2023-03-03T09:13:15.239Z"
   },
   {
    "duration": 4,
    "start_time": "2023-03-03T09:14:17.291Z"
   },
   {
    "duration": 100,
    "start_time": "2023-03-03T09:14:44.318Z"
   },
   {
    "duration": 226,
    "start_time": "2023-03-03T09:14:58.331Z"
   },
   {
    "duration": 12,
    "start_time": "2023-03-03T09:15:26.102Z"
   },
   {
    "duration": 47,
    "start_time": "2023-03-03T09:16:02.567Z"
   },
   {
    "duration": 1173,
    "start_time": "2023-03-03T09:16:17.875Z"
   },
   {
    "duration": 1132,
    "start_time": "2023-03-03T09:16:29.126Z"
   },
   {
    "duration": 154,
    "start_time": "2023-03-03T09:16:39.767Z"
   },
   {
    "duration": 197,
    "start_time": "2023-03-03T09:16:58.218Z"
   },
   {
    "duration": 658,
    "start_time": "2023-03-03T09:17:50.815Z"
   },
   {
    "duration": 26,
    "start_time": "2023-03-03T09:18:02.397Z"
   },
   {
    "duration": 27,
    "start_time": "2023-03-03T09:18:27.262Z"
   },
   {
    "duration": 49,
    "start_time": "2023-03-03T09:18:40.361Z"
   },
   {
    "duration": 204,
    "start_time": "2023-03-03T09:18:55.711Z"
   },
   {
    "duration": 198,
    "start_time": "2023-03-03T09:19:29.298Z"
   },
   {
    "duration": 163,
    "start_time": "2023-03-03T09:19:36.776Z"
   },
   {
    "duration": 160,
    "start_time": "2023-03-03T09:19:41.516Z"
   },
   {
    "duration": 205,
    "start_time": "2023-03-03T09:19:50.013Z"
   },
   {
    "duration": 160,
    "start_time": "2023-03-03T09:20:02.157Z"
   },
   {
    "duration": 46,
    "start_time": "2023-03-03T09:33:35.406Z"
   },
   {
    "duration": 44,
    "start_time": "2023-03-03T09:33:56.981Z"
   },
   {
    "duration": 82,
    "start_time": "2023-03-03T09:34:01.220Z"
   },
   {
    "duration": 155,
    "start_time": "2023-03-03T09:37:02.110Z"
   },
   {
    "duration": 4,
    "start_time": "2023-03-03T09:37:27.480Z"
   },
   {
    "duration": 29,
    "start_time": "2023-03-03T09:37:27.501Z"
   },
   {
    "duration": 1474,
    "start_time": "2023-03-03T09:37:27.532Z"
   },
   {
    "duration": 229,
    "start_time": "2023-03-03T09:37:29.008Z"
   },
   {
    "duration": 26,
    "start_time": "2023-03-03T09:37:29.239Z"
   },
   {
    "duration": 132,
    "start_time": "2023-03-03T09:37:29.267Z"
   },
   {
    "duration": 438,
    "start_time": "2023-03-03T09:37:29.401Z"
   },
   {
    "duration": 315,
    "start_time": "2023-03-03T09:37:29.841Z"
   },
   {
    "duration": 151,
    "start_time": "2023-03-03T09:37:30.170Z"
   },
   {
    "duration": 53,
    "start_time": "2023-03-03T09:37:30.323Z"
   },
   {
    "duration": 168,
    "start_time": "2023-03-03T09:37:30.388Z"
   },
   {
    "duration": 77,
    "start_time": "2023-03-03T09:37:30.562Z"
   },
   {
    "duration": 2671,
    "start_time": "2023-03-03T09:37:30.641Z"
   },
   {
    "duration": 180,
    "start_time": "2023-03-03T09:37:33.314Z"
   },
   {
    "duration": 43,
    "start_time": "2023-03-03T09:37:33.496Z"
   },
   {
    "duration": 0,
    "start_time": "2023-03-03T09:37:33.541Z"
   },
   {
    "duration": 0,
    "start_time": "2023-03-03T09:37:33.541Z"
   },
   {
    "duration": 0,
    "start_time": "2023-03-03T09:37:33.542Z"
   },
   {
    "duration": 0,
    "start_time": "2023-03-03T09:37:33.543Z"
   },
   {
    "duration": 0,
    "start_time": "2023-03-03T09:37:33.543Z"
   },
   {
    "duration": 0,
    "start_time": "2023-03-03T09:37:33.544Z"
   },
   {
    "duration": 0,
    "start_time": "2023-03-03T09:37:33.545Z"
   },
   {
    "duration": 0,
    "start_time": "2023-03-03T09:37:33.546Z"
   },
   {
    "duration": 0,
    "start_time": "2023-03-03T09:37:33.547Z"
   },
   {
    "duration": 0,
    "start_time": "2023-03-03T09:37:33.547Z"
   },
   {
    "duration": 3,
    "start_time": "2023-03-03T09:54:11.635Z"
   },
   {
    "duration": 33,
    "start_time": "2023-03-03T09:54:11.667Z"
   },
   {
    "duration": 1016,
    "start_time": "2023-03-03T09:54:11.702Z"
   },
   {
    "duration": 163,
    "start_time": "2023-03-03T09:54:12.720Z"
   },
   {
    "duration": 12,
    "start_time": "2023-03-03T09:54:12.885Z"
   },
   {
    "duration": 107,
    "start_time": "2023-03-03T09:54:12.899Z"
   },
   {
    "duration": 319,
    "start_time": "2023-03-03T09:54:13.008Z"
   },
   {
    "duration": 194,
    "start_time": "2023-03-03T09:54:13.329Z"
   },
   {
    "duration": 108,
    "start_time": "2023-03-03T09:54:13.524Z"
   },
   {
    "duration": 41,
    "start_time": "2023-03-03T09:54:13.634Z"
   },
   {
    "duration": 105,
    "start_time": "2023-03-03T09:54:13.678Z"
   },
   {
    "duration": 17,
    "start_time": "2023-03-03T09:54:13.785Z"
   },
   {
    "duration": 2022,
    "start_time": "2023-03-03T09:54:13.804Z"
   },
   {
    "duration": 195,
    "start_time": "2023-03-03T09:54:15.828Z"
   },
   {
    "duration": 30,
    "start_time": "2023-03-03T09:54:16.025Z"
   },
   {
    "duration": 0,
    "start_time": "2023-03-03T09:54:16.060Z"
   },
   {
    "duration": 0,
    "start_time": "2023-03-03T09:54:16.061Z"
   },
   {
    "duration": 0,
    "start_time": "2023-03-03T09:54:16.065Z"
   },
   {
    "duration": 0,
    "start_time": "2023-03-03T09:54:16.065Z"
   },
   {
    "duration": 0,
    "start_time": "2023-03-03T09:54:16.066Z"
   },
   {
    "duration": 0,
    "start_time": "2023-03-03T09:54:16.067Z"
   },
   {
    "duration": 0,
    "start_time": "2023-03-03T09:54:16.068Z"
   },
   {
    "duration": 0,
    "start_time": "2023-03-03T09:54:16.068Z"
   },
   {
    "duration": 0,
    "start_time": "2023-03-03T09:54:16.070Z"
   },
   {
    "duration": 0,
    "start_time": "2023-03-03T09:54:16.071Z"
   },
   {
    "duration": 13,
    "start_time": "2023-03-03T09:55:53.407Z"
   },
   {
    "duration": 70,
    "start_time": "2023-03-03T09:56:00.730Z"
   },
   {
    "duration": 99,
    "start_time": "2023-03-03T09:56:53.866Z"
   },
   {
    "duration": 82,
    "start_time": "2023-03-03T09:57:05.911Z"
   },
   {
    "duration": 68,
    "start_time": "2023-03-03T09:57:15.489Z"
   },
   {
    "duration": 54,
    "start_time": "2023-03-03T09:58:23.066Z"
   },
   {
    "duration": 10,
    "start_time": "2023-03-03T10:52:22.465Z"
   },
   {
    "duration": 3479,
    "start_time": "2023-03-03T10:52:39.857Z"
   },
   {
    "duration": 624,
    "start_time": "2023-03-03T10:52:50.734Z"
   },
   {
    "duration": 2306,
    "start_time": "2023-03-03T11:26:44.993Z"
   },
   {
    "duration": 3,
    "start_time": "2023-03-03T11:26:47.301Z"
   },
   {
    "duration": 936,
    "start_time": "2023-03-03T11:26:47.306Z"
   },
   {
    "duration": 130,
    "start_time": "2023-03-03T11:26:48.244Z"
   },
   {
    "duration": 4,
    "start_time": "2023-03-03T11:26:48.375Z"
   },
   {
    "duration": 61,
    "start_time": "2023-03-03T11:26:48.381Z"
   },
   {
    "duration": 259,
    "start_time": "2023-03-03T11:26:48.444Z"
   },
   {
    "duration": 168,
    "start_time": "2023-03-03T11:26:48.704Z"
   },
   {
    "duration": 93,
    "start_time": "2023-03-03T11:26:48.874Z"
   },
   {
    "duration": 22,
    "start_time": "2023-03-03T11:26:48.970Z"
   },
   {
    "duration": 96,
    "start_time": "2023-03-03T11:26:48.994Z"
   },
   {
    "duration": 11,
    "start_time": "2023-03-03T11:26:49.092Z"
   },
   {
    "duration": 546,
    "start_time": "2023-03-03T11:26:49.104Z"
   },
   {
    "duration": 0,
    "start_time": "2023-03-03T11:26:49.651Z"
   },
   {
    "duration": 0,
    "start_time": "2023-03-03T11:26:49.653Z"
   },
   {
    "duration": 0,
    "start_time": "2023-03-03T11:26:49.654Z"
   },
   {
    "duration": 0,
    "start_time": "2023-03-03T11:26:49.656Z"
   },
   {
    "duration": 0,
    "start_time": "2023-03-03T11:26:49.657Z"
   },
   {
    "duration": 0,
    "start_time": "2023-03-03T11:26:49.659Z"
   },
   {
    "duration": 0,
    "start_time": "2023-03-03T11:26:49.661Z"
   },
   {
    "duration": 0,
    "start_time": "2023-03-03T11:26:49.661Z"
   },
   {
    "duration": 0,
    "start_time": "2023-03-03T11:26:49.663Z"
   },
   {
    "duration": 0,
    "start_time": "2023-03-03T11:26:49.664Z"
   },
   {
    "duration": 0,
    "start_time": "2023-03-03T11:26:49.666Z"
   },
   {
    "duration": 0,
    "start_time": "2023-03-03T11:26:49.667Z"
   },
   {
    "duration": 0,
    "start_time": "2023-03-03T11:26:49.668Z"
   },
   {
    "duration": 0,
    "start_time": "2023-03-03T11:26:49.669Z"
   },
   {
    "duration": 2256,
    "start_time": "2023-03-03T11:39:48.600Z"
   },
   {
    "duration": 3,
    "start_time": "2023-03-03T11:39:50.859Z"
   },
   {
    "duration": 840,
    "start_time": "2023-03-03T11:39:50.864Z"
   },
   {
    "duration": 69,
    "start_time": "2023-03-03T11:39:51.706Z"
   },
   {
    "duration": 0,
    "start_time": "2023-03-03T11:39:51.777Z"
   },
   {
    "duration": 0,
    "start_time": "2023-03-03T11:39:51.778Z"
   },
   {
    "duration": 0,
    "start_time": "2023-03-03T11:39:51.779Z"
   },
   {
    "duration": 0,
    "start_time": "2023-03-03T11:39:51.780Z"
   },
   {
    "duration": 0,
    "start_time": "2023-03-03T11:39:51.782Z"
   },
   {
    "duration": 0,
    "start_time": "2023-03-03T11:39:51.782Z"
   },
   {
    "duration": 0,
    "start_time": "2023-03-03T11:39:51.784Z"
   },
   {
    "duration": 0,
    "start_time": "2023-03-03T11:39:51.785Z"
   },
   {
    "duration": 0,
    "start_time": "2023-03-03T11:39:51.851Z"
   },
   {
    "duration": 0,
    "start_time": "2023-03-03T11:39:51.852Z"
   },
   {
    "duration": 0,
    "start_time": "2023-03-03T11:39:51.854Z"
   },
   {
    "duration": 0,
    "start_time": "2023-03-03T11:39:51.855Z"
   },
   {
    "duration": 0,
    "start_time": "2023-03-03T11:39:51.856Z"
   },
   {
    "duration": 0,
    "start_time": "2023-03-03T11:39:51.857Z"
   },
   {
    "duration": 0,
    "start_time": "2023-03-03T11:39:51.858Z"
   },
   {
    "duration": 0,
    "start_time": "2023-03-03T11:39:51.859Z"
   },
   {
    "duration": 0,
    "start_time": "2023-03-03T11:39:51.860Z"
   },
   {
    "duration": 0,
    "start_time": "2023-03-03T11:39:51.861Z"
   },
   {
    "duration": 0,
    "start_time": "2023-03-03T11:39:51.862Z"
   },
   {
    "duration": 0,
    "start_time": "2023-03-03T11:39:51.863Z"
   },
   {
    "duration": 0,
    "start_time": "2023-03-03T11:39:51.864Z"
   },
   {
    "duration": 0,
    "start_time": "2023-03-03T11:39:51.865Z"
   },
   {
    "duration": 0,
    "start_time": "2023-03-03T11:39:51.866Z"
   },
   {
    "duration": 0,
    "start_time": "2023-03-03T11:39:51.867Z"
   },
   {
    "duration": 65,
    "start_time": "2023-03-03T11:40:11.458Z"
   },
   {
    "duration": 23,
    "start_time": "2023-03-03T11:40:22.855Z"
   },
   {
    "duration": 141,
    "start_time": "2023-03-03T11:42:58.508Z"
   },
   {
    "duration": 126,
    "start_time": "2023-03-03T11:43:18.880Z"
   },
   {
    "duration": 12,
    "start_time": "2023-03-03T11:43:38.407Z"
   },
   {
    "duration": 2281,
    "start_time": "2023-03-03T11:45:32.104Z"
   },
   {
    "duration": 4,
    "start_time": "2023-03-03T11:45:34.387Z"
   },
   {
    "duration": 859,
    "start_time": "2023-03-03T11:45:34.393Z"
   },
   {
    "duration": 16,
    "start_time": "2023-03-03T11:45:35.254Z"
   },
   {
    "duration": 0,
    "start_time": "2023-03-03T11:45:35.272Z"
   },
   {
    "duration": 0,
    "start_time": "2023-03-03T11:45:35.274Z"
   },
   {
    "duration": 0,
    "start_time": "2023-03-03T11:45:35.275Z"
   },
   {
    "duration": 0,
    "start_time": "2023-03-03T11:45:35.277Z"
   },
   {
    "duration": 0,
    "start_time": "2023-03-03T11:45:35.278Z"
   },
   {
    "duration": 0,
    "start_time": "2023-03-03T11:45:35.279Z"
   },
   {
    "duration": 0,
    "start_time": "2023-03-03T11:45:35.281Z"
   },
   {
    "duration": 0,
    "start_time": "2023-03-03T11:45:35.282Z"
   },
   {
    "duration": 0,
    "start_time": "2023-03-03T11:45:35.284Z"
   },
   {
    "duration": 0,
    "start_time": "2023-03-03T11:45:35.342Z"
   },
   {
    "duration": 0,
    "start_time": "2023-03-03T11:45:35.345Z"
   },
   {
    "duration": 0,
    "start_time": "2023-03-03T11:45:35.348Z"
   },
   {
    "duration": 0,
    "start_time": "2023-03-03T11:45:35.349Z"
   },
   {
    "duration": 0,
    "start_time": "2023-03-03T11:45:35.350Z"
   },
   {
    "duration": 0,
    "start_time": "2023-03-03T11:45:35.351Z"
   },
   {
    "duration": 0,
    "start_time": "2023-03-03T11:45:35.360Z"
   },
   {
    "duration": 0,
    "start_time": "2023-03-03T11:45:35.361Z"
   },
   {
    "duration": 0,
    "start_time": "2023-03-03T11:45:35.362Z"
   },
   {
    "duration": 0,
    "start_time": "2023-03-03T11:45:35.364Z"
   },
   {
    "duration": 0,
    "start_time": "2023-03-03T11:45:35.365Z"
   },
   {
    "duration": 0,
    "start_time": "2023-03-03T11:45:35.366Z"
   },
   {
    "duration": 0,
    "start_time": "2023-03-03T11:45:35.368Z"
   },
   {
    "duration": 0,
    "start_time": "2023-03-03T11:45:35.369Z"
   },
   {
    "duration": 0,
    "start_time": "2023-03-03T11:45:35.371Z"
   },
   {
    "duration": 0,
    "start_time": "2023-03-03T11:45:35.372Z"
   },
   {
    "duration": 2250,
    "start_time": "2023-03-03T11:46:18.830Z"
   },
   {
    "duration": 4,
    "start_time": "2023-03-03T11:46:21.083Z"
   },
   {
    "duration": 792,
    "start_time": "2023-03-03T11:46:21.088Z"
   },
   {
    "duration": 4,
    "start_time": "2023-03-03T11:46:21.882Z"
   },
   {
    "duration": 34,
    "start_time": "2023-03-03T11:46:21.888Z"
   },
   {
    "duration": 168,
    "start_time": "2023-03-03T11:46:21.924Z"
   },
   {
    "duration": 5,
    "start_time": "2023-03-03T11:46:22.094Z"
   },
   {
    "duration": 71,
    "start_time": "2023-03-03T11:46:22.101Z"
   },
   {
    "duration": 372,
    "start_time": "2023-03-03T11:46:22.174Z"
   },
   {
    "duration": 319,
    "start_time": "2023-03-03T11:46:22.548Z"
   },
   {
    "duration": 195,
    "start_time": "2023-03-03T11:46:22.868Z"
   },
   {
    "duration": 89,
    "start_time": "2023-03-03T11:46:23.065Z"
   },
   {
    "duration": 123,
    "start_time": "2023-03-03T11:46:23.156Z"
   },
   {
    "duration": 61,
    "start_time": "2023-03-03T11:46:23.281Z"
   },
   {
    "duration": 961,
    "start_time": "2023-03-03T11:46:23.343Z"
   },
   {
    "duration": 0,
    "start_time": "2023-03-03T11:46:24.306Z"
   },
   {
    "duration": 0,
    "start_time": "2023-03-03T11:46:24.307Z"
   },
   {
    "duration": 0,
    "start_time": "2023-03-03T11:46:24.308Z"
   },
   {
    "duration": 0,
    "start_time": "2023-03-03T11:46:24.309Z"
   },
   {
    "duration": 0,
    "start_time": "2023-03-03T11:46:24.309Z"
   },
   {
    "duration": 0,
    "start_time": "2023-03-03T11:46:24.310Z"
   },
   {
    "duration": 0,
    "start_time": "2023-03-03T11:46:24.311Z"
   },
   {
    "duration": 0,
    "start_time": "2023-03-03T11:46:24.312Z"
   },
   {
    "duration": 0,
    "start_time": "2023-03-03T11:46:24.313Z"
   },
   {
    "duration": 0,
    "start_time": "2023-03-03T11:46:24.314Z"
   },
   {
    "duration": 0,
    "start_time": "2023-03-03T11:46:24.315Z"
   },
   {
    "duration": 0,
    "start_time": "2023-03-03T11:46:24.316Z"
   },
   {
    "duration": 0,
    "start_time": "2023-03-03T11:46:24.317Z"
   },
   {
    "duration": 0,
    "start_time": "2023-03-03T11:46:24.341Z"
   },
   {
    "duration": 2434,
    "start_time": "2023-03-03T11:48:35.848Z"
   },
   {
    "duration": 3,
    "start_time": "2023-03-03T11:48:38.285Z"
   },
   {
    "duration": 925,
    "start_time": "2023-03-03T11:48:38.290Z"
   },
   {
    "duration": 2,
    "start_time": "2023-03-03T11:48:39.218Z"
   },
   {
    "duration": 47,
    "start_time": "2023-03-03T11:48:39.222Z"
   },
   {
    "duration": 748,
    "start_time": "2023-03-03T11:48:39.271Z"
   },
   {
    "duration": 0,
    "start_time": "2023-03-03T11:48:40.022Z"
   },
   {
    "duration": 0,
    "start_time": "2023-03-03T11:48:40.059Z"
   },
   {
    "duration": 0,
    "start_time": "2023-03-03T11:48:40.061Z"
   },
   {
    "duration": 0,
    "start_time": "2023-03-03T11:48:40.063Z"
   },
   {
    "duration": 0,
    "start_time": "2023-03-03T11:48:40.064Z"
   },
   {
    "duration": 0,
    "start_time": "2023-03-03T11:48:40.066Z"
   },
   {
    "duration": 0,
    "start_time": "2023-03-03T11:48:40.067Z"
   },
   {
    "duration": 0,
    "start_time": "2023-03-03T11:48:40.068Z"
   },
   {
    "duration": 1,
    "start_time": "2023-03-03T11:48:40.069Z"
   },
   {
    "duration": 0,
    "start_time": "2023-03-03T11:48:40.071Z"
   },
   {
    "duration": 0,
    "start_time": "2023-03-03T11:48:40.072Z"
   },
   {
    "duration": 0,
    "start_time": "2023-03-03T11:48:40.074Z"
   },
   {
    "duration": 0,
    "start_time": "2023-03-03T11:48:40.075Z"
   },
   {
    "duration": 0,
    "start_time": "2023-03-03T11:48:40.076Z"
   },
   {
    "duration": 0,
    "start_time": "2023-03-03T11:48:40.078Z"
   },
   {
    "duration": 0,
    "start_time": "2023-03-03T11:48:40.079Z"
   },
   {
    "duration": 0,
    "start_time": "2023-03-03T11:48:40.080Z"
   },
   {
    "duration": 0,
    "start_time": "2023-03-03T11:48:40.082Z"
   },
   {
    "duration": 0,
    "start_time": "2023-03-03T11:48:40.083Z"
   },
   {
    "duration": 0,
    "start_time": "2023-03-03T11:48:40.084Z"
   },
   {
    "duration": 0,
    "start_time": "2023-03-03T11:48:40.085Z"
   },
   {
    "duration": 0,
    "start_time": "2023-03-03T11:48:40.086Z"
   },
   {
    "duration": 0,
    "start_time": "2023-03-03T11:48:40.088Z"
   },
   {
    "duration": 0,
    "start_time": "2023-03-03T11:48:40.091Z"
   },
   {
    "duration": 163,
    "start_time": "2023-03-03T11:49:41.104Z"
   },
   {
    "duration": 17,
    "start_time": "2023-03-03T11:49:56.727Z"
   },
   {
    "duration": 2402,
    "start_time": "2023-03-03T11:50:10.221Z"
   },
   {
    "duration": 4,
    "start_time": "2023-03-03T11:50:12.626Z"
   },
   {
    "duration": 810,
    "start_time": "2023-03-03T11:50:12.632Z"
   },
   {
    "duration": 3,
    "start_time": "2023-03-03T11:50:13.444Z"
   },
   {
    "duration": 26,
    "start_time": "2023-03-03T11:50:13.448Z"
   },
   {
    "duration": 36,
    "start_time": "2023-03-03T11:50:13.476Z"
   },
   {
    "duration": 234,
    "start_time": "2023-03-03T11:50:13.514Z"
   },
   {
    "duration": 5,
    "start_time": "2023-03-03T11:50:13.750Z"
   },
   {
    "duration": 140,
    "start_time": "2023-03-03T11:50:13.757Z"
   },
   {
    "duration": 257,
    "start_time": "2023-03-03T11:50:15.104Z"
   },
   {
    "duration": 194,
    "start_time": "2023-03-03T11:50:15.363Z"
   },
   {
    "duration": 116,
    "start_time": "2023-03-03T11:50:15.559Z"
   },
   {
    "duration": 39,
    "start_time": "2023-03-03T11:50:15.677Z"
   },
   {
    "duration": 109,
    "start_time": "2023-03-03T11:50:15.719Z"
   },
   {
    "duration": 22,
    "start_time": "2023-03-03T11:50:15.830Z"
   },
   {
    "duration": 592,
    "start_time": "2023-03-03T11:50:15.854Z"
   },
   {
    "duration": 0,
    "start_time": "2023-03-03T11:50:16.449Z"
   },
   {
    "duration": 1962,
    "start_time": "2023-03-03T11:50:18.126Z"
   },
   {
    "duration": 125,
    "start_time": "2023-03-03T11:50:20.090Z"
   },
   {
    "duration": 59,
    "start_time": "2023-03-03T11:50:20.217Z"
   },
   {
    "duration": 0,
    "start_time": "2023-03-03T11:50:20.278Z"
   },
   {
    "duration": 0,
    "start_time": "2023-03-03T11:50:20.279Z"
   },
   {
    "duration": 0,
    "start_time": "2023-03-03T11:50:20.281Z"
   },
   {
    "duration": 0,
    "start_time": "2023-03-03T11:50:20.282Z"
   },
   {
    "duration": 0,
    "start_time": "2023-03-03T11:50:20.283Z"
   },
   {
    "duration": 0,
    "start_time": "2023-03-03T11:50:20.284Z"
   },
   {
    "duration": 0,
    "start_time": "2023-03-03T11:50:20.285Z"
   },
   {
    "duration": 0,
    "start_time": "2023-03-03T11:50:20.287Z"
   },
   {
    "duration": 0,
    "start_time": "2023-03-03T11:50:20.288Z"
   },
   {
    "duration": 0,
    "start_time": "2023-03-03T11:50:20.289Z"
   },
   {
    "duration": 706,
    "start_time": "2023-03-03T11:51:21.305Z"
   },
   {
    "duration": 2231,
    "start_time": "2023-03-03T11:51:28.190Z"
   },
   {
    "duration": 3,
    "start_time": "2023-03-03T11:51:30.423Z"
   },
   {
    "duration": 840,
    "start_time": "2023-03-03T11:51:30.428Z"
   },
   {
    "duration": 12,
    "start_time": "2023-03-03T11:51:31.270Z"
   },
   {
    "duration": 0,
    "start_time": "2023-03-03T11:51:31.285Z"
   },
   {
    "duration": 0,
    "start_time": "2023-03-03T11:51:31.286Z"
   },
   {
    "duration": 0,
    "start_time": "2023-03-03T11:51:31.287Z"
   },
   {
    "duration": 0,
    "start_time": "2023-03-03T11:51:31.288Z"
   },
   {
    "duration": 0,
    "start_time": "2023-03-03T11:51:31.289Z"
   },
   {
    "duration": 0,
    "start_time": "2023-03-03T11:51:31.290Z"
   },
   {
    "duration": 0,
    "start_time": "2023-03-03T11:51:31.291Z"
   },
   {
    "duration": 0,
    "start_time": "2023-03-03T11:51:31.292Z"
   },
   {
    "duration": 0,
    "start_time": "2023-03-03T11:51:31.293Z"
   },
   {
    "duration": 0,
    "start_time": "2023-03-03T11:51:31.294Z"
   },
   {
    "duration": 0,
    "start_time": "2023-03-03T11:51:31.296Z"
   },
   {
    "duration": 0,
    "start_time": "2023-03-03T11:51:31.297Z"
   },
   {
    "duration": 0,
    "start_time": "2023-03-03T11:51:31.298Z"
   },
   {
    "duration": 0,
    "start_time": "2023-03-03T11:51:31.299Z"
   },
   {
    "duration": 0,
    "start_time": "2023-03-03T11:51:31.301Z"
   },
   {
    "duration": 0,
    "start_time": "2023-03-03T11:51:31.302Z"
   },
   {
    "duration": 0,
    "start_time": "2023-03-03T11:51:31.303Z"
   },
   {
    "duration": 0,
    "start_time": "2023-03-03T11:51:31.304Z"
   },
   {
    "duration": 0,
    "start_time": "2023-03-03T11:51:31.341Z"
   },
   {
    "duration": 0,
    "start_time": "2023-03-03T11:51:31.343Z"
   },
   {
    "duration": 0,
    "start_time": "2023-03-03T11:51:31.346Z"
   },
   {
    "duration": 0,
    "start_time": "2023-03-03T11:51:31.348Z"
   },
   {
    "duration": 0,
    "start_time": "2023-03-03T11:51:31.349Z"
   },
   {
    "duration": 0,
    "start_time": "2023-03-03T11:51:31.350Z"
   },
   {
    "duration": 0,
    "start_time": "2023-03-03T11:51:31.352Z"
   },
   {
    "duration": 0,
    "start_time": "2023-03-03T11:51:31.353Z"
   },
   {
    "duration": 76,
    "start_time": "2023-03-03T11:52:02.961Z"
   },
   {
    "duration": 24,
    "start_time": "2023-03-03T11:52:08.366Z"
   },
   {
    "duration": 5,
    "start_time": "2023-03-03T11:52:20.635Z"
   },
   {
    "duration": 23,
    "start_time": "2023-03-03T11:52:26.174Z"
   },
   {
    "duration": 1032,
    "start_time": "2023-03-03T11:53:37.352Z"
   },
   {
    "duration": 701,
    "start_time": "2023-03-03T11:55:35.114Z"
   },
   {
    "duration": 2269,
    "start_time": "2023-03-03T11:55:40.309Z"
   },
   {
    "duration": 3,
    "start_time": "2023-03-03T11:55:42.581Z"
   },
   {
    "duration": 842,
    "start_time": "2023-03-03T11:55:42.586Z"
   },
   {
    "duration": 676,
    "start_time": "2023-03-03T11:55:43.430Z"
   },
   {
    "duration": 0,
    "start_time": "2023-03-03T11:55:44.109Z"
   },
   {
    "duration": 0,
    "start_time": "2023-03-03T11:55:44.109Z"
   },
   {
    "duration": 0,
    "start_time": "2023-03-03T11:55:44.111Z"
   },
   {
    "duration": 0,
    "start_time": "2023-03-03T11:55:44.112Z"
   },
   {
    "duration": 0,
    "start_time": "2023-03-03T11:55:44.113Z"
   },
   {
    "duration": 0,
    "start_time": "2023-03-03T11:55:44.114Z"
   },
   {
    "duration": 0,
    "start_time": "2023-03-03T11:55:44.115Z"
   },
   {
    "duration": 0,
    "start_time": "2023-03-03T11:55:44.116Z"
   },
   {
    "duration": 0,
    "start_time": "2023-03-03T11:55:44.117Z"
   },
   {
    "duration": 0,
    "start_time": "2023-03-03T11:55:44.118Z"
   },
   {
    "duration": 0,
    "start_time": "2023-03-03T11:55:44.119Z"
   },
   {
    "duration": 0,
    "start_time": "2023-03-03T11:55:44.120Z"
   },
   {
    "duration": 0,
    "start_time": "2023-03-03T11:55:44.121Z"
   },
   {
    "duration": 0,
    "start_time": "2023-03-03T11:55:44.122Z"
   },
   {
    "duration": 0,
    "start_time": "2023-03-03T11:55:44.123Z"
   },
   {
    "duration": 0,
    "start_time": "2023-03-03T11:55:44.124Z"
   },
   {
    "duration": 0,
    "start_time": "2023-03-03T11:55:44.125Z"
   },
   {
    "duration": 0,
    "start_time": "2023-03-03T11:55:44.126Z"
   },
   {
    "duration": 0,
    "start_time": "2023-03-03T11:55:44.127Z"
   },
   {
    "duration": 0,
    "start_time": "2023-03-03T11:55:44.128Z"
   },
   {
    "duration": 0,
    "start_time": "2023-03-03T11:55:44.129Z"
   },
   {
    "duration": 0,
    "start_time": "2023-03-03T11:55:44.130Z"
   },
   {
    "duration": 0,
    "start_time": "2023-03-03T11:55:44.131Z"
   },
   {
    "duration": 0,
    "start_time": "2023-03-03T11:55:44.132Z"
   },
   {
    "duration": 0,
    "start_time": "2023-03-03T11:55:44.133Z"
   },
   {
    "duration": 0,
    "start_time": "2023-03-03T11:55:44.135Z"
   },
   {
    "duration": 2390,
    "start_time": "2023-03-03T12:10:33.673Z"
   },
   {
    "duration": 3,
    "start_time": "2023-03-03T12:10:36.066Z"
   },
   {
    "duration": 2500,
    "start_time": "2023-03-03T12:10:36.071Z"
   },
   {
    "duration": 0,
    "start_time": "2023-03-03T12:10:38.574Z"
   },
   {
    "duration": 0,
    "start_time": "2023-03-03T12:10:38.576Z"
   },
   {
    "duration": 0,
    "start_time": "2023-03-03T12:10:38.578Z"
   },
   {
    "duration": 0,
    "start_time": "2023-03-03T12:10:38.580Z"
   },
   {
    "duration": 0,
    "start_time": "2023-03-03T12:10:38.581Z"
   },
   {
    "duration": 0,
    "start_time": "2023-03-03T12:10:38.582Z"
   },
   {
    "duration": 0,
    "start_time": "2023-03-03T12:10:38.584Z"
   },
   {
    "duration": 0,
    "start_time": "2023-03-03T12:10:38.585Z"
   },
   {
    "duration": 0,
    "start_time": "2023-03-03T12:10:38.586Z"
   },
   {
    "duration": 0,
    "start_time": "2023-03-03T12:10:38.588Z"
   },
   {
    "duration": 0,
    "start_time": "2023-03-03T12:10:38.589Z"
   },
   {
    "duration": 0,
    "start_time": "2023-03-03T12:10:38.590Z"
   },
   {
    "duration": 0,
    "start_time": "2023-03-03T12:10:38.592Z"
   },
   {
    "duration": 0,
    "start_time": "2023-03-03T12:10:38.593Z"
   },
   {
    "duration": 0,
    "start_time": "2023-03-03T12:10:38.595Z"
   },
   {
    "duration": 0,
    "start_time": "2023-03-03T12:10:38.596Z"
   },
   {
    "duration": 0,
    "start_time": "2023-03-03T12:10:38.598Z"
   },
   {
    "duration": 0,
    "start_time": "2023-03-03T12:10:38.599Z"
   },
   {
    "duration": 0,
    "start_time": "2023-03-03T12:10:38.600Z"
   },
   {
    "duration": 0,
    "start_time": "2023-03-03T12:10:38.601Z"
   },
   {
    "duration": 0,
    "start_time": "2023-03-03T12:10:38.602Z"
   },
   {
    "duration": 0,
    "start_time": "2023-03-03T12:10:38.603Z"
   },
   {
    "duration": 0,
    "start_time": "2023-03-03T12:10:38.605Z"
   },
   {
    "duration": 0,
    "start_time": "2023-03-03T12:10:38.606Z"
   },
   {
    "duration": 0,
    "start_time": "2023-03-03T12:10:38.608Z"
   },
   {
    "duration": 0,
    "start_time": "2023-03-03T12:10:38.641Z"
   },
   {
    "duration": 0,
    "start_time": "2023-03-03T12:10:38.643Z"
   },
   {
    "duration": 1535,
    "start_time": "2023-03-03T12:11:02.828Z"
   },
   {
    "duration": 1057,
    "start_time": "2023-03-03T12:11:15.371Z"
   },
   {
    "duration": 952,
    "start_time": "2023-03-03T12:11:42.783Z"
   },
   {
    "duration": 41,
    "start_time": "2023-03-03T12:11:50.700Z"
   },
   {
    "duration": 9,
    "start_time": "2023-03-03T12:13:54.297Z"
   },
   {
    "duration": 33,
    "start_time": "2023-03-03T12:14:23.378Z"
   },
   {
    "duration": 2510,
    "start_time": "2023-03-03T12:14:35.534Z"
   },
   {
    "duration": 4,
    "start_time": "2023-03-03T12:14:38.047Z"
   },
   {
    "duration": 1089,
    "start_time": "2023-03-03T12:14:38.053Z"
   },
   {
    "duration": 2,
    "start_time": "2023-03-03T12:14:39.145Z"
   },
   {
    "duration": 39,
    "start_time": "2023-03-03T12:14:39.150Z"
   },
   {
    "duration": 0,
    "start_time": "2023-03-03T12:14:39.191Z"
   },
   {
    "duration": 0,
    "start_time": "2023-03-03T12:14:39.193Z"
   },
   {
    "duration": 0,
    "start_time": "2023-03-03T12:14:39.194Z"
   },
   {
    "duration": 0,
    "start_time": "2023-03-03T12:14:39.196Z"
   },
   {
    "duration": 0,
    "start_time": "2023-03-03T12:14:39.198Z"
   },
   {
    "duration": 0,
    "start_time": "2023-03-03T12:14:39.199Z"
   },
   {
    "duration": 0,
    "start_time": "2023-03-03T12:14:39.201Z"
   },
   {
    "duration": 0,
    "start_time": "2023-03-03T12:14:39.202Z"
   },
   {
    "duration": 0,
    "start_time": "2023-03-03T12:14:39.204Z"
   },
   {
    "duration": 0,
    "start_time": "2023-03-03T12:14:39.205Z"
   },
   {
    "duration": 0,
    "start_time": "2023-03-03T12:14:39.208Z"
   },
   {
    "duration": 0,
    "start_time": "2023-03-03T12:14:39.209Z"
   },
   {
    "duration": 0,
    "start_time": "2023-03-03T12:14:39.210Z"
   },
   {
    "duration": 0,
    "start_time": "2023-03-03T12:14:39.211Z"
   },
   {
    "duration": 0,
    "start_time": "2023-03-03T12:14:39.213Z"
   },
   {
    "duration": 0,
    "start_time": "2023-03-03T12:14:39.214Z"
   },
   {
    "duration": 0,
    "start_time": "2023-03-03T12:14:39.242Z"
   },
   {
    "duration": 0,
    "start_time": "2023-03-03T12:14:39.243Z"
   },
   {
    "duration": 0,
    "start_time": "2023-03-03T12:14:39.245Z"
   },
   {
    "duration": 0,
    "start_time": "2023-03-03T12:14:39.246Z"
   },
   {
    "duration": 1,
    "start_time": "2023-03-03T12:14:39.248Z"
   },
   {
    "duration": 0,
    "start_time": "2023-03-03T12:14:39.249Z"
   },
   {
    "duration": 0,
    "start_time": "2023-03-03T12:14:39.251Z"
   },
   {
    "duration": 0,
    "start_time": "2023-03-03T12:14:39.252Z"
   },
   {
    "duration": 0,
    "start_time": "2023-03-03T12:14:39.253Z"
   },
   {
    "duration": 31,
    "start_time": "2023-03-03T12:18:13.468Z"
   },
   {
    "duration": 10,
    "start_time": "2023-03-03T12:18:35.890Z"
   },
   {
    "duration": 128,
    "start_time": "2023-03-03T12:18:43.485Z"
   },
   {
    "duration": 1597,
    "start_time": "2023-03-03T12:19:27.270Z"
   },
   {
    "duration": 2202,
    "start_time": "2023-03-03T12:19:42.573Z"
   },
   {
    "duration": 4,
    "start_time": "2023-03-03T12:19:44.778Z"
   },
   {
    "duration": 2140,
    "start_time": "2023-03-03T12:19:44.783Z"
   },
   {
    "duration": 0,
    "start_time": "2023-03-03T12:19:46.984Z"
   },
   {
    "duration": 0,
    "start_time": "2023-03-03T12:19:46.986Z"
   },
   {
    "duration": 0,
    "start_time": "2023-03-03T12:19:46.987Z"
   },
   {
    "duration": 0,
    "start_time": "2023-03-03T12:19:46.988Z"
   },
   {
    "duration": 0,
    "start_time": "2023-03-03T12:19:46.989Z"
   },
   {
    "duration": 0,
    "start_time": "2023-03-03T12:19:46.990Z"
   },
   {
    "duration": 0,
    "start_time": "2023-03-03T12:19:46.992Z"
   },
   {
    "duration": 0,
    "start_time": "2023-03-03T12:19:46.993Z"
   },
   {
    "duration": 0,
    "start_time": "2023-03-03T12:19:46.994Z"
   },
   {
    "duration": 0,
    "start_time": "2023-03-03T12:19:46.995Z"
   },
   {
    "duration": 0,
    "start_time": "2023-03-03T12:19:46.996Z"
   },
   {
    "duration": 0,
    "start_time": "2023-03-03T12:19:46.998Z"
   },
   {
    "duration": 0,
    "start_time": "2023-03-03T12:19:46.999Z"
   },
   {
    "duration": 0,
    "start_time": "2023-03-03T12:19:47.000Z"
   },
   {
    "duration": 0,
    "start_time": "2023-03-03T12:19:47.002Z"
   },
   {
    "duration": 0,
    "start_time": "2023-03-03T12:19:47.003Z"
   },
   {
    "duration": 0,
    "start_time": "2023-03-03T12:19:47.004Z"
   },
   {
    "duration": 0,
    "start_time": "2023-03-03T12:19:47.005Z"
   },
   {
    "duration": 0,
    "start_time": "2023-03-03T12:19:47.006Z"
   },
   {
    "duration": 0,
    "start_time": "2023-03-03T12:19:47.042Z"
   },
   {
    "duration": 0,
    "start_time": "2023-03-03T12:19:47.043Z"
   },
   {
    "duration": 0,
    "start_time": "2023-03-03T12:19:47.045Z"
   },
   {
    "duration": 0,
    "start_time": "2023-03-03T12:19:47.046Z"
   },
   {
    "duration": 0,
    "start_time": "2023-03-03T12:19:47.047Z"
   },
   {
    "duration": 0,
    "start_time": "2023-03-03T12:19:47.049Z"
   },
   {
    "duration": 0,
    "start_time": "2023-03-03T12:19:47.050Z"
   },
   {
    "duration": 887,
    "start_time": "2023-03-03T12:20:12.480Z"
   },
   {
    "duration": 1421,
    "start_time": "2023-03-03T12:20:30.294Z"
   },
   {
    "duration": 804,
    "start_time": "2023-03-03T12:21:08.060Z"
   },
   {
    "duration": 992,
    "start_time": "2023-03-03T12:21:20.963Z"
   },
   {
    "duration": 45,
    "start_time": "2023-03-03T12:21:27.757Z"
   },
   {
    "duration": 33,
    "start_time": "2023-03-03T12:21:35.238Z"
   },
   {
    "duration": 10,
    "start_time": "2023-03-03T12:21:42.019Z"
   },
   {
    "duration": 2271,
    "start_time": "2023-03-03T12:21:48.896Z"
   },
   {
    "duration": 3,
    "start_time": "2023-03-03T12:21:51.170Z"
   },
   {
    "duration": 2812,
    "start_time": "2023-03-03T12:21:51.175Z"
   },
   {
    "duration": 4,
    "start_time": "2023-03-03T12:21:54.040Z"
   },
   {
    "duration": 95,
    "start_time": "2023-03-03T12:21:54.046Z"
   },
   {
    "duration": 438,
    "start_time": "2023-03-03T12:21:54.144Z"
   },
   {
    "duration": 57,
    "start_time": "2023-03-03T12:21:54.584Z"
   },
   {
    "duration": 111,
    "start_time": "2023-03-03T12:21:54.643Z"
   },
   {
    "duration": 745,
    "start_time": "2023-03-03T12:21:54.756Z"
   },
   {
    "duration": 180,
    "start_time": "2023-03-03T12:21:55.503Z"
   },
   {
    "duration": 158,
    "start_time": "2023-03-03T12:21:55.684Z"
   },
   {
    "duration": 31,
    "start_time": "2023-03-03T12:21:55.844Z"
   },
   {
    "duration": 126,
    "start_time": "2023-03-03T12:21:55.877Z"
   },
   {
    "duration": 13,
    "start_time": "2023-03-03T12:21:56.005Z"
   },
   {
    "duration": 610,
    "start_time": "2023-03-03T12:21:56.020Z"
   },
   {
    "duration": 0,
    "start_time": "2023-03-03T12:21:56.632Z"
   },
   {
    "duration": 0,
    "start_time": "2023-03-03T12:21:56.641Z"
   },
   {
    "duration": 0,
    "start_time": "2023-03-03T12:21:56.643Z"
   },
   {
    "duration": 0,
    "start_time": "2023-03-03T12:21:56.644Z"
   },
   {
    "duration": 0,
    "start_time": "2023-03-03T12:21:56.646Z"
   },
   {
    "duration": 0,
    "start_time": "2023-03-03T12:21:56.647Z"
   },
   {
    "duration": 0,
    "start_time": "2023-03-03T12:21:56.649Z"
   },
   {
    "duration": 0,
    "start_time": "2023-03-03T12:21:56.650Z"
   },
   {
    "duration": 0,
    "start_time": "2023-03-03T12:21:56.651Z"
   },
   {
    "duration": 0,
    "start_time": "2023-03-03T12:21:56.653Z"
   },
   {
    "duration": 0,
    "start_time": "2023-03-03T12:21:56.654Z"
   },
   {
    "duration": 0,
    "start_time": "2023-03-03T12:21:56.656Z"
   },
   {
    "duration": 0,
    "start_time": "2023-03-03T12:21:56.657Z"
   },
   {
    "duration": 0,
    "start_time": "2023-03-03T12:21:56.658Z"
   },
   {
    "duration": 11,
    "start_time": "2023-03-03T12:23:09.457Z"
   },
   {
    "duration": 14,
    "start_time": "2023-03-03T12:23:14.066Z"
   },
   {
    "duration": 2566,
    "start_time": "2023-03-03T12:23:26.024Z"
   },
   {
    "duration": 3,
    "start_time": "2023-03-03T12:23:28.592Z"
   },
   {
    "duration": 972,
    "start_time": "2023-03-03T12:23:28.597Z"
   },
   {
    "duration": 3,
    "start_time": "2023-03-03T12:23:29.571Z"
   },
   {
    "duration": 40,
    "start_time": "2023-03-03T12:23:29.576Z"
   },
   {
    "duration": 71,
    "start_time": "2023-03-03T12:23:29.618Z"
   },
   {
    "duration": 259,
    "start_time": "2023-03-03T12:23:29.691Z"
   },
   {
    "duration": 5,
    "start_time": "2023-03-03T12:23:29.952Z"
   },
   {
    "duration": 63,
    "start_time": "2023-03-03T12:23:29.959Z"
   },
   {
    "duration": 240,
    "start_time": "2023-03-03T12:23:30.025Z"
   },
   {
    "duration": 185,
    "start_time": "2023-03-03T12:23:30.267Z"
   },
   {
    "duration": 106,
    "start_time": "2023-03-03T12:23:30.454Z"
   },
   {
    "duration": 35,
    "start_time": "2023-03-03T12:23:30.562Z"
   },
   {
    "duration": 95,
    "start_time": "2023-03-03T12:23:30.599Z"
   },
   {
    "duration": 23,
    "start_time": "2023-03-03T12:23:30.695Z"
   },
   {
    "duration": 675,
    "start_time": "2023-03-03T12:23:30.720Z"
   },
   {
    "duration": 0,
    "start_time": "2023-03-03T12:23:31.441Z"
   },
   {
    "duration": 0,
    "start_time": "2023-03-03T12:23:31.443Z"
   },
   {
    "duration": 0,
    "start_time": "2023-03-03T12:23:31.444Z"
   },
   {
    "duration": 0,
    "start_time": "2023-03-03T12:23:31.444Z"
   },
   {
    "duration": 0,
    "start_time": "2023-03-03T12:23:31.445Z"
   },
   {
    "duration": 0,
    "start_time": "2023-03-03T12:23:31.447Z"
   },
   {
    "duration": 0,
    "start_time": "2023-03-03T12:23:31.447Z"
   },
   {
    "duration": 0,
    "start_time": "2023-03-03T12:23:31.448Z"
   },
   {
    "duration": 0,
    "start_time": "2023-03-03T12:23:31.449Z"
   },
   {
    "duration": 0,
    "start_time": "2023-03-03T12:23:31.450Z"
   },
   {
    "duration": 0,
    "start_time": "2023-03-03T12:23:31.451Z"
   },
   {
    "duration": 0,
    "start_time": "2023-03-03T12:23:31.452Z"
   },
   {
    "duration": 0,
    "start_time": "2023-03-03T12:23:31.453Z"
   },
   {
    "duration": 0,
    "start_time": "2023-03-03T12:23:31.454Z"
   },
   {
    "duration": 2442,
    "start_time": "2023-03-03T12:24:50.178Z"
   },
   {
    "duration": 3,
    "start_time": "2023-03-03T12:24:52.623Z"
   },
   {
    "duration": 792,
    "start_time": "2023-03-03T12:24:52.628Z"
   },
   {
    "duration": 250,
    "start_time": "2023-03-03T12:24:53.423Z"
   },
   {
    "duration": 139,
    "start_time": "2023-03-03T12:24:53.675Z"
   },
   {
    "duration": 5,
    "start_time": "2023-03-03T12:24:53.817Z"
   },
   {
    "duration": 39,
    "start_time": "2023-03-03T12:24:53.840Z"
   },
   {
    "duration": 352,
    "start_time": "2023-03-03T12:24:53.881Z"
   },
   {
    "duration": 171,
    "start_time": "2023-03-03T12:24:54.234Z"
   },
   {
    "duration": 140,
    "start_time": "2023-03-03T12:24:54.409Z"
   },
   {
    "duration": 23,
    "start_time": "2023-03-03T12:24:54.550Z"
   },
   {
    "duration": 89,
    "start_time": "2023-03-03T12:24:54.574Z"
   },
   {
    "duration": 12,
    "start_time": "2023-03-03T12:24:54.665Z"
   },
   {
    "duration": 525,
    "start_time": "2023-03-03T12:24:54.678Z"
   },
   {
    "duration": 0,
    "start_time": "2023-03-03T12:24:55.205Z"
   },
   {
    "duration": 0,
    "start_time": "2023-03-03T12:24:55.207Z"
   },
   {
    "duration": 0,
    "start_time": "2023-03-03T12:24:55.208Z"
   },
   {
    "duration": 0,
    "start_time": "2023-03-03T12:24:55.210Z"
   },
   {
    "duration": 0,
    "start_time": "2023-03-03T12:24:55.212Z"
   },
   {
    "duration": 0,
    "start_time": "2023-03-03T12:24:55.213Z"
   },
   {
    "duration": 0,
    "start_time": "2023-03-03T12:24:55.215Z"
   },
   {
    "duration": 0,
    "start_time": "2023-03-03T12:24:55.216Z"
   },
   {
    "duration": 0,
    "start_time": "2023-03-03T12:24:55.241Z"
   },
   {
    "duration": 0,
    "start_time": "2023-03-03T12:24:55.243Z"
   },
   {
    "duration": 0,
    "start_time": "2023-03-03T12:24:55.245Z"
   },
   {
    "duration": 0,
    "start_time": "2023-03-03T12:24:55.246Z"
   },
   {
    "duration": 0,
    "start_time": "2023-03-03T12:24:55.247Z"
   },
   {
    "duration": 0,
    "start_time": "2023-03-03T12:24:55.248Z"
   },
   {
    "duration": 840,
    "start_time": "2023-03-03T12:25:46.068Z"
   },
   {
    "duration": 845,
    "start_time": "2023-03-03T12:25:55.708Z"
   },
   {
    "duration": 901,
    "start_time": "2023-03-03T12:25:59.921Z"
   },
   {
    "duration": 256,
    "start_time": "2023-03-03T12:26:06.293Z"
   },
   {
    "duration": 17,
    "start_time": "2023-03-03T12:26:40.002Z"
   },
   {
    "duration": 2445,
    "start_time": "2023-03-03T12:26:45.162Z"
   },
   {
    "duration": 4,
    "start_time": "2023-03-03T12:26:47.610Z"
   },
   {
    "duration": 967,
    "start_time": "2023-03-03T12:26:47.616Z"
   },
   {
    "duration": 267,
    "start_time": "2023-03-03T12:26:48.585Z"
   },
   {
    "duration": 128,
    "start_time": "2023-03-03T12:26:48.854Z"
   },
   {
    "duration": 4,
    "start_time": "2023-03-03T12:26:48.984Z"
   },
   {
    "duration": 71,
    "start_time": "2023-03-03T12:26:48.990Z"
   },
   {
    "duration": 281,
    "start_time": "2023-03-03T12:26:49.063Z"
   },
   {
    "duration": 188,
    "start_time": "2023-03-03T12:26:49.346Z"
   },
   {
    "duration": 124,
    "start_time": "2023-03-03T12:26:49.537Z"
   },
   {
    "duration": 22,
    "start_time": "2023-03-03T12:26:49.663Z"
   },
   {
    "duration": 86,
    "start_time": "2023-03-03T12:26:49.686Z"
   },
   {
    "duration": 19,
    "start_time": "2023-03-03T12:26:49.773Z"
   },
   {
    "duration": 0,
    "start_time": "2023-03-03T12:26:49.793Z"
   },
   {
    "duration": 0,
    "start_time": "2023-03-03T12:26:49.795Z"
   },
   {
    "duration": 0,
    "start_time": "2023-03-03T12:26:49.797Z"
   },
   {
    "duration": 0,
    "start_time": "2023-03-03T12:26:49.798Z"
   },
   {
    "duration": 0,
    "start_time": "2023-03-03T12:26:49.799Z"
   },
   {
    "duration": 0,
    "start_time": "2023-03-03T12:26:49.800Z"
   },
   {
    "duration": 0,
    "start_time": "2023-03-03T12:26:49.801Z"
   },
   {
    "duration": 0,
    "start_time": "2023-03-03T12:26:49.803Z"
   },
   {
    "duration": 0,
    "start_time": "2023-03-03T12:26:49.805Z"
   },
   {
    "duration": 0,
    "start_time": "2023-03-03T12:26:49.805Z"
   },
   {
    "duration": 0,
    "start_time": "2023-03-03T12:26:49.841Z"
   },
   {
    "duration": 0,
    "start_time": "2023-03-03T12:26:49.842Z"
   },
   {
    "duration": 0,
    "start_time": "2023-03-03T12:26:49.843Z"
   },
   {
    "duration": 0,
    "start_time": "2023-03-03T12:26:49.845Z"
   },
   {
    "duration": 0,
    "start_time": "2023-03-03T12:26:49.846Z"
   },
   {
    "duration": 2368,
    "start_time": "2023-03-03T12:27:44.753Z"
   },
   {
    "duration": 4,
    "start_time": "2023-03-03T12:27:47.124Z"
   },
   {
    "duration": 939,
    "start_time": "2023-03-03T12:27:47.130Z"
   },
   {
    "duration": 314,
    "start_time": "2023-03-03T12:27:48.072Z"
   },
   {
    "duration": 220,
    "start_time": "2023-03-03T12:27:48.387Z"
   },
   {
    "duration": 4,
    "start_time": "2023-03-03T12:27:48.610Z"
   },
   {
    "duration": 61,
    "start_time": "2023-03-03T12:27:48.616Z"
   },
   {
    "duration": 180,
    "start_time": "2023-03-03T12:27:48.679Z"
   },
   {
    "duration": 200,
    "start_time": "2023-03-03T12:27:48.861Z"
   },
   {
    "duration": 99,
    "start_time": "2023-03-03T12:27:49.065Z"
   },
   {
    "duration": 27,
    "start_time": "2023-03-03T12:27:49.165Z"
   },
   {
    "duration": 84,
    "start_time": "2023-03-03T12:27:49.194Z"
   },
   {
    "duration": 16,
    "start_time": "2023-03-03T12:27:49.280Z"
   },
   {
    "duration": 0,
    "start_time": "2023-03-03T12:27:49.298Z"
   },
   {
    "duration": 0,
    "start_time": "2023-03-03T12:27:49.300Z"
   },
   {
    "duration": 0,
    "start_time": "2023-03-03T12:27:49.301Z"
   },
   {
    "duration": 0,
    "start_time": "2023-03-03T12:27:49.303Z"
   },
   {
    "duration": 1,
    "start_time": "2023-03-03T12:27:49.304Z"
   },
   {
    "duration": 0,
    "start_time": "2023-03-03T12:27:49.305Z"
   },
   {
    "duration": 0,
    "start_time": "2023-03-03T12:27:49.307Z"
   },
   {
    "duration": 0,
    "start_time": "2023-03-03T12:27:49.308Z"
   },
   {
    "duration": 0,
    "start_time": "2023-03-03T12:27:49.341Z"
   },
   {
    "duration": 0,
    "start_time": "2023-03-03T12:27:49.342Z"
   },
   {
    "duration": 0,
    "start_time": "2023-03-03T12:27:49.344Z"
   },
   {
    "duration": 0,
    "start_time": "2023-03-03T12:27:49.345Z"
   },
   {
    "duration": 1,
    "start_time": "2023-03-03T12:27:49.346Z"
   },
   {
    "duration": 0,
    "start_time": "2023-03-03T12:27:49.348Z"
   },
   {
    "duration": 0,
    "start_time": "2023-03-03T12:27:49.349Z"
   },
   {
    "duration": 29,
    "start_time": "2023-03-03T12:28:51.813Z"
   },
   {
    "duration": 22,
    "start_time": "2023-03-03T12:29:56.796Z"
   },
   {
    "duration": 31,
    "start_time": "2023-03-03T12:30:07.677Z"
   },
   {
    "duration": 228,
    "start_time": "2023-03-03T12:31:10.316Z"
   },
   {
    "duration": 365,
    "start_time": "2023-03-03T12:31:36.290Z"
   },
   {
    "duration": 287,
    "start_time": "2023-03-03T12:32:00.137Z"
   },
   {
    "duration": 334,
    "start_time": "2023-03-03T12:33:21.147Z"
   },
   {
    "duration": 6,
    "start_time": "2023-03-03T12:33:43.211Z"
   },
   {
    "duration": 11,
    "start_time": "2023-03-03T12:33:54.718Z"
   },
   {
    "duration": 6,
    "start_time": "2023-03-03T12:34:05.420Z"
   },
   {
    "duration": 311,
    "start_time": "2023-03-03T12:34:44.286Z"
   },
   {
    "duration": 310,
    "start_time": "2023-03-03T12:34:52.766Z"
   },
   {
    "duration": 334,
    "start_time": "2023-03-03T12:34:59.490Z"
   },
   {
    "duration": 375,
    "start_time": "2023-03-03T12:35:03.601Z"
   },
   {
    "duration": 386,
    "start_time": "2023-03-03T12:39:08.452Z"
   },
   {
    "duration": 2663,
    "start_time": "2023-03-03T12:42:40.740Z"
   },
   {
    "duration": 1036,
    "start_time": "2023-03-03T12:43:03.122Z"
   },
   {
    "duration": 2043,
    "start_time": "2023-03-03T12:43:14.209Z"
   },
   {
    "duration": 172,
    "start_time": "2023-03-03T12:43:50.119Z"
   },
   {
    "duration": 297,
    "start_time": "2023-03-03T12:43:59.886Z"
   },
   {
    "duration": 295,
    "start_time": "2023-03-03T12:44:34.626Z"
   },
   {
    "duration": 540,
    "start_time": "2023-03-03T12:44:55.023Z"
   },
   {
    "duration": 312,
    "start_time": "2023-03-03T12:45:05.337Z"
   },
   {
    "duration": 399,
    "start_time": "2023-03-03T12:45:12.282Z"
   },
   {
    "duration": 777,
    "start_time": "2023-03-03T12:51:15.260Z"
   },
   {
    "duration": 2255,
    "start_time": "2023-03-03T12:51:41.262Z"
   },
   {
    "duration": 3,
    "start_time": "2023-03-03T12:51:43.520Z"
   },
   {
    "duration": 794,
    "start_time": "2023-03-03T12:51:43.524Z"
   },
   {
    "duration": 278,
    "start_time": "2023-03-03T12:51:44.320Z"
   },
   {
    "duration": 129,
    "start_time": "2023-03-03T12:51:44.601Z"
   },
   {
    "duration": 9,
    "start_time": "2023-03-03T12:51:44.732Z"
   },
   {
    "duration": 40,
    "start_time": "2023-03-03T12:51:44.743Z"
   },
   {
    "duration": 20,
    "start_time": "2023-03-03T12:51:44.785Z"
   },
   {
    "duration": 124,
    "start_time": "2023-03-03T12:51:44.807Z"
   },
   {
    "duration": 178,
    "start_time": "2023-03-03T12:51:44.933Z"
   },
   {
    "duration": 350,
    "start_time": "2023-03-03T12:51:45.113Z"
   },
   {
    "duration": 770,
    "start_time": "2023-03-03T12:51:45.464Z"
   },
   {
    "duration": 0,
    "start_time": "2023-03-03T12:51:46.237Z"
   },
   {
    "duration": 0,
    "start_time": "2023-03-03T12:51:46.238Z"
   },
   {
    "duration": 0,
    "start_time": "2023-03-03T12:51:46.240Z"
   },
   {
    "duration": 0,
    "start_time": "2023-03-03T12:51:46.241Z"
   },
   {
    "duration": 0,
    "start_time": "2023-03-03T12:51:46.242Z"
   },
   {
    "duration": 0,
    "start_time": "2023-03-03T12:51:46.243Z"
   },
   {
    "duration": 0,
    "start_time": "2023-03-03T12:51:46.244Z"
   },
   {
    "duration": 0,
    "start_time": "2023-03-03T12:51:46.245Z"
   },
   {
    "duration": 0,
    "start_time": "2023-03-03T12:51:46.246Z"
   },
   {
    "duration": 0,
    "start_time": "2023-03-03T12:51:46.247Z"
   },
   {
    "duration": 0,
    "start_time": "2023-03-03T12:51:46.248Z"
   },
   {
    "duration": 0,
    "start_time": "2023-03-03T12:51:46.249Z"
   },
   {
    "duration": 0,
    "start_time": "2023-03-03T12:51:46.251Z"
   },
   {
    "duration": 0,
    "start_time": "2023-03-03T12:51:46.253Z"
   },
   {
    "duration": 0,
    "start_time": "2023-03-03T12:51:46.254Z"
   },
   {
    "duration": 0,
    "start_time": "2023-03-03T12:51:46.256Z"
   },
   {
    "duration": 0,
    "start_time": "2023-03-03T12:51:46.257Z"
   },
   {
    "duration": 0,
    "start_time": "2023-03-03T12:51:46.259Z"
   },
   {
    "duration": 0,
    "start_time": "2023-03-03T12:51:46.260Z"
   },
   {
    "duration": 0,
    "start_time": "2023-03-03T12:51:46.261Z"
   },
   {
    "duration": 7523,
    "start_time": "2023-03-03T12:54:47.456Z"
   },
   {
    "duration": 1392,
    "start_time": "2023-03-03T12:55:01.406Z"
   },
   {
    "duration": 34634,
    "start_time": "2023-03-03T12:57:02.076Z"
   },
   {
    "duration": 1347,
    "start_time": "2023-03-03T12:57:36.712Z"
   },
   {
    "duration": 298535,
    "start_time": "2023-03-03T13:00:36.380Z"
   },
   {
    "duration": 1427,
    "start_time": "2023-03-03T13:05:34.917Z"
   },
   {
    "duration": 164,
    "start_time": "2023-03-03T13:34:04.221Z"
   },
   {
    "duration": 2657,
    "start_time": "2023-03-03T13:34:40.511Z"
   },
   {
    "duration": 578,
    "start_time": "2023-03-03T13:35:01.122Z"
   },
   {
    "duration": 24,
    "start_time": "2023-03-03T13:38:03.341Z"
   },
   {
    "duration": 36,
    "start_time": "2023-03-03T13:39:05.245Z"
   },
   {
    "duration": 565,
    "start_time": "2023-03-03T13:39:15.341Z"
   },
   {
    "duration": 785,
    "start_time": "2023-03-03T13:40:25.165Z"
   },
   {
    "duration": 958,
    "start_time": "2023-03-03T13:40:36.971Z"
   },
   {
    "duration": 1431,
    "start_time": "2023-03-03T13:41:01.189Z"
   },
   {
    "duration": 55,
    "start_time": "2023-03-03T13:42:47.671Z"
   },
   {
    "duration": 39,
    "start_time": "2023-03-03T13:42:52.785Z"
   },
   {
    "duration": 15,
    "start_time": "2023-03-03T13:43:02.976Z"
   },
   {
    "duration": 2925,
    "start_time": "2023-03-07T06:51:35.738Z"
   },
   {
    "duration": 1298,
    "start_time": "2023-03-07T06:51:38.666Z"
   },
   {
    "duration": 3079,
    "start_time": "2023-03-07T06:51:39.966Z"
   },
   {
    "duration": 238,
    "start_time": "2023-03-07T06:51:43.047Z"
   },
   {
    "duration": 103,
    "start_time": "2023-03-07T06:51:43.287Z"
   },
   {
    "duration": 5,
    "start_time": "2023-03-07T06:51:43.392Z"
   },
   {
    "duration": 58,
    "start_time": "2023-03-07T06:51:43.398Z"
   },
   {
    "duration": 20,
    "start_time": "2023-03-07T06:51:43.458Z"
   },
   {
    "duration": 91,
    "start_time": "2023-03-07T06:51:43.480Z"
   },
   {
    "duration": 139,
    "start_time": "2023-03-07T06:51:43.574Z"
   },
   {
    "duration": 290,
    "start_time": "2023-03-07T06:51:43.720Z"
   },
   {
    "duration": 257090,
    "start_time": "2023-03-07T06:51:44.012Z"
   },
   {
    "duration": 1271,
    "start_time": "2023-03-07T06:56:01.103Z"
   },
   {
    "duration": 0,
    "start_time": "2023-03-07T06:56:02.375Z"
   },
   {
    "duration": 0,
    "start_time": "2023-03-07T06:56:02.377Z"
   },
   {
    "duration": 0,
    "start_time": "2023-03-07T06:56:02.378Z"
   },
   {
    "duration": 0,
    "start_time": "2023-03-07T06:56:02.379Z"
   },
   {
    "duration": 0,
    "start_time": "2023-03-07T06:56:02.381Z"
   },
   {
    "duration": 0,
    "start_time": "2023-03-07T06:56:02.381Z"
   },
   {
    "duration": 0,
    "start_time": "2023-03-07T06:56:02.383Z"
   },
   {
    "duration": 0,
    "start_time": "2023-03-07T06:56:02.384Z"
   },
   {
    "duration": 0,
    "start_time": "2023-03-07T06:56:02.385Z"
   },
   {
    "duration": 0,
    "start_time": "2023-03-07T06:56:02.386Z"
   },
   {
    "duration": 0,
    "start_time": "2023-03-07T06:56:02.387Z"
   },
   {
    "duration": 0,
    "start_time": "2023-03-07T06:56:02.389Z"
   },
   {
    "duration": 0,
    "start_time": "2023-03-07T06:56:02.390Z"
   },
   {
    "duration": 0,
    "start_time": "2023-03-07T06:56:02.391Z"
   },
   {
    "duration": 0,
    "start_time": "2023-03-07T06:56:02.392Z"
   },
   {
    "duration": 0,
    "start_time": "2023-03-07T06:56:02.393Z"
   },
   {
    "duration": 0,
    "start_time": "2023-03-07T06:56:02.394Z"
   },
   {
    "duration": 0,
    "start_time": "2023-03-07T06:56:02.394Z"
   },
   {
    "duration": 1104,
    "start_time": "2023-03-07T06:57:13.184Z"
   },
   {
    "duration": 1165,
    "start_time": "2023-03-07T06:57:24.319Z"
   },
   {
    "duration": 1111,
    "start_time": "2023-03-07T06:57:38.256Z"
   },
   {
    "duration": 259311,
    "start_time": "2023-03-07T06:58:44.054Z"
   },
   {
    "duration": 1249,
    "start_time": "2023-03-07T07:03:03.367Z"
   },
   {
    "duration": 20,
    "start_time": "2023-03-07T07:11:18.622Z"
   },
   {
    "duration": 44,
    "start_time": "2023-03-07T07:11:37.154Z"
   },
   {
    "duration": 11,
    "start_time": "2023-03-07T07:11:54.183Z"
   },
   {
    "duration": 1509,
    "start_time": "2023-03-07T07:12:26.030Z"
   },
   {
    "duration": 8,
    "start_time": "2023-03-07T07:12:51.123Z"
   },
   {
    "duration": 2049,
    "start_time": "2023-03-07T07:15:24.038Z"
   },
   {
    "duration": 1173,
    "start_time": "2023-03-07T07:15:26.090Z"
   },
   {
    "duration": 859,
    "start_time": "2023-03-07T07:15:27.264Z"
   },
   {
    "duration": 248,
    "start_time": "2023-03-07T07:15:28.125Z"
   },
   {
    "duration": 105,
    "start_time": "2023-03-07T07:15:28.376Z"
   },
   {
    "duration": 3,
    "start_time": "2023-03-07T07:15:28.483Z"
   },
   {
    "duration": 51,
    "start_time": "2023-03-07T07:15:28.488Z"
   },
   {
    "duration": 22,
    "start_time": "2023-03-07T07:15:28.541Z"
   },
   {
    "duration": 91,
    "start_time": "2023-03-07T07:15:28.564Z"
   },
   {
    "duration": 230,
    "start_time": "2023-03-07T07:15:28.656Z"
   },
   {
    "duration": 283,
    "start_time": "2023-03-07T07:15:28.888Z"
   },
   {
    "duration": 259671,
    "start_time": "2023-03-07T07:15:29.173Z"
   },
   {
    "duration": 1401,
    "start_time": "2023-03-07T07:19:48.845Z"
   },
   {
    "duration": 24,
    "start_time": "2023-03-07T07:19:50.249Z"
   },
   {
    "duration": 55,
    "start_time": "2023-03-07T07:19:50.275Z"
   },
   {
    "duration": 9,
    "start_time": "2023-03-07T07:19:50.332Z"
   },
   {
    "duration": 1664,
    "start_time": "2023-03-07T07:19:50.343Z"
   },
   {
    "duration": 407,
    "start_time": "2023-03-07T07:19:52.009Z"
   },
   {
    "duration": 949,
    "start_time": "2023-03-07T07:19:52.421Z"
   },
   {
    "duration": 110,
    "start_time": "2023-03-07T07:19:53.372Z"
   },
   {
    "duration": 0,
    "start_time": "2023-03-07T07:19:53.484Z"
   },
   {
    "duration": 0,
    "start_time": "2023-03-07T07:19:53.485Z"
   },
   {
    "duration": 0,
    "start_time": "2023-03-07T07:19:53.486Z"
   },
   {
    "duration": 0,
    "start_time": "2023-03-07T07:19:53.487Z"
   },
   {
    "duration": 0,
    "start_time": "2023-03-07T07:19:53.488Z"
   },
   {
    "duration": 0,
    "start_time": "2023-03-07T07:19:53.489Z"
   },
   {
    "duration": 0,
    "start_time": "2023-03-07T07:19:53.490Z"
   },
   {
    "duration": 0,
    "start_time": "2023-03-07T07:19:53.491Z"
   },
   {
    "duration": 0,
    "start_time": "2023-03-07T07:19:53.493Z"
   },
   {
    "duration": 0,
    "start_time": "2023-03-07T07:19:53.493Z"
   },
   {
    "duration": 0,
    "start_time": "2023-03-07T07:19:53.494Z"
   },
   {
    "duration": 19,
    "start_time": "2023-03-07T07:20:30.311Z"
   },
   {
    "duration": 45,
    "start_time": "2023-03-07T07:21:58.452Z"
   },
   {
    "duration": 1013,
    "start_time": "2023-03-07T07:22:07.354Z"
   },
   {
    "duration": 151,
    "start_time": "2023-03-07T07:24:10.901Z"
   },
   {
    "duration": 143,
    "start_time": "2023-03-07T07:24:23.357Z"
   },
   {
    "duration": 186,
    "start_time": "2023-03-07T07:24:30.375Z"
   },
   {
    "duration": 146,
    "start_time": "2023-03-07T07:25:43.777Z"
   },
   {
    "duration": 54,
    "start_time": "2023-03-07T07:25:57.577Z"
   },
   {
    "duration": 147,
    "start_time": "2023-03-07T07:26:02.361Z"
   },
   {
    "duration": 150,
    "start_time": "2023-03-07T07:26:21.127Z"
   },
   {
    "duration": 279,
    "start_time": "2023-03-07T07:26:40.145Z"
   },
   {
    "duration": 179,
    "start_time": "2023-03-07T07:27:03.393Z"
   },
   {
    "duration": 179,
    "start_time": "2023-03-07T07:27:22.177Z"
   },
   {
    "duration": 88,
    "start_time": "2023-03-07T07:28:10.980Z"
   },
   {
    "duration": 308,
    "start_time": "2023-03-07T07:28:26.755Z"
   },
   {
    "duration": 398,
    "start_time": "2023-03-07T07:28:49.726Z"
   },
   {
    "duration": 413,
    "start_time": "2023-03-07T07:28:55.167Z"
   },
   {
    "duration": 484,
    "start_time": "2023-03-07T07:29:28.391Z"
   },
   {
    "duration": 164,
    "start_time": "2023-03-07T07:29:39.950Z"
   },
   {
    "duration": 199,
    "start_time": "2023-03-07T07:29:50.238Z"
   },
   {
    "duration": 172,
    "start_time": "2023-03-07T07:29:59.505Z"
   },
   {
    "duration": 152,
    "start_time": "2023-03-07T07:30:21.645Z"
   },
   {
    "duration": 153,
    "start_time": "2023-03-07T07:30:55.691Z"
   },
   {
    "duration": 176,
    "start_time": "2023-03-07T07:36:09.844Z"
   },
   {
    "duration": 185,
    "start_time": "2023-03-07T07:36:20.405Z"
   },
   {
    "duration": 71,
    "start_time": "2023-03-07T07:36:49.195Z"
   },
   {
    "duration": 71,
    "start_time": "2023-03-07T07:36:55.869Z"
   },
   {
    "duration": 85,
    "start_time": "2023-03-07T07:38:07.611Z"
   },
   {
    "duration": 79,
    "start_time": "2023-03-07T07:38:36.559Z"
   },
   {
    "duration": 15670,
    "start_time": "2023-03-07T07:42:35.112Z"
   },
   {
    "duration": 1959,
    "start_time": "2023-03-07T07:49:14.399Z"
   },
   {
    "duration": 1111,
    "start_time": "2023-03-07T07:49:16.361Z"
   },
   {
    "duration": 3090,
    "start_time": "2023-03-07T07:49:17.473Z"
   },
   {
    "duration": 113,
    "start_time": "2023-03-07T07:49:20.564Z"
   },
   {
    "duration": 4,
    "start_time": "2023-03-07T07:49:20.680Z"
   },
   {
    "duration": 80,
    "start_time": "2023-03-07T07:49:20.685Z"
   },
   {
    "duration": 20,
    "start_time": "2023-03-07T07:49:20.767Z"
   },
   {
    "duration": 90,
    "start_time": "2023-03-07T07:49:20.788Z"
   },
   {
    "duration": 163,
    "start_time": "2023-03-07T07:49:20.880Z"
   },
   {
    "duration": 306,
    "start_time": "2023-03-07T07:49:21.044Z"
   },
   {
    "duration": 1330,
    "start_time": "2023-03-07T07:49:44.798Z"
   },
   {
    "duration": 0,
    "start_time": "2023-03-07T07:49:46.130Z"
   },
   {
    "duration": 0,
    "start_time": "2023-03-07T07:49:46.131Z"
   },
   {
    "duration": 0,
    "start_time": "2023-03-07T07:49:46.132Z"
   },
   {
    "duration": 0,
    "start_time": "2023-03-07T07:49:46.133Z"
   },
   {
    "duration": 0,
    "start_time": "2023-03-07T07:49:46.134Z"
   },
   {
    "duration": 0,
    "start_time": "2023-03-07T07:49:46.135Z"
   },
   {
    "duration": 0,
    "start_time": "2023-03-07T07:49:46.136Z"
   },
   {
    "duration": 0,
    "start_time": "2023-03-07T07:49:46.137Z"
   },
   {
    "duration": 0,
    "start_time": "2023-03-07T07:49:46.138Z"
   },
   {
    "duration": 0,
    "start_time": "2023-03-07T07:49:46.139Z"
   },
   {
    "duration": 0,
    "start_time": "2023-03-07T07:49:46.139Z"
   },
   {
    "duration": 0,
    "start_time": "2023-03-07T07:49:46.140Z"
   },
   {
    "duration": 0,
    "start_time": "2023-03-07T07:49:46.141Z"
   },
   {
    "duration": 0,
    "start_time": "2023-03-07T07:49:46.142Z"
   },
   {
    "duration": 0,
    "start_time": "2023-03-07T07:49:46.143Z"
   },
   {
    "duration": 0,
    "start_time": "2023-03-07T07:49:46.144Z"
   },
   {
    "duration": 0,
    "start_time": "2023-03-07T07:49:46.145Z"
   },
   {
    "duration": 0,
    "start_time": "2023-03-07T07:49:46.146Z"
   },
   {
    "duration": 0,
    "start_time": "2023-03-07T07:49:46.147Z"
   },
   {
    "duration": 0,
    "start_time": "2023-03-07T07:49:46.148Z"
   },
   {
    "duration": 1956,
    "start_time": "2023-03-07T07:49:57.504Z"
   },
   {
    "duration": 61,
    "start_time": "2023-03-07T07:49:59.463Z"
   },
   {
    "duration": 2912,
    "start_time": "2023-03-07T07:49:59.526Z"
   },
   {
    "duration": 113,
    "start_time": "2023-03-07T07:50:02.440Z"
   },
   {
    "duration": 4,
    "start_time": "2023-03-07T07:50:02.554Z"
   },
   {
    "duration": 79,
    "start_time": "2023-03-07T07:50:02.560Z"
   },
   {
    "duration": 21,
    "start_time": "2023-03-07T07:50:02.641Z"
   },
   {
    "duration": 93,
    "start_time": "2023-03-07T07:50:02.664Z"
   },
   {
    "duration": 156,
    "start_time": "2023-03-07T07:50:02.759Z"
   },
   {
    "duration": 297,
    "start_time": "2023-03-07T07:50:02.917Z"
   },
   {
    "duration": 1967,
    "start_time": "2023-03-07T07:50:15.418Z"
   },
   {
    "duration": 1175,
    "start_time": "2023-03-07T07:50:17.387Z"
   },
   {
    "duration": 2904,
    "start_time": "2023-03-07T07:50:18.564Z"
   },
   {
    "duration": 113,
    "start_time": "2023-03-07T07:50:21.470Z"
   },
   {
    "duration": 4,
    "start_time": "2023-03-07T07:50:21.585Z"
   },
   {
    "duration": 72,
    "start_time": "2023-03-07T07:50:21.590Z"
   },
   {
    "duration": 20,
    "start_time": "2023-03-07T07:50:21.664Z"
   },
   {
    "duration": 98,
    "start_time": "2023-03-07T07:50:21.686Z"
   },
   {
    "duration": 208,
    "start_time": "2023-03-07T07:50:21.786Z"
   },
   {
    "duration": 304,
    "start_time": "2023-03-07T07:50:21.996Z"
   },
   {
    "duration": 48,
    "start_time": "2023-03-07T07:51:48.285Z"
   },
   {
    "duration": 8183,
    "start_time": "2023-03-14T12:04:30.116Z"
   },
   {
    "duration": 1391,
    "start_time": "2023-03-14T12:04:38.302Z"
   },
   {
    "duration": 760,
    "start_time": "2023-03-14T12:04:39.695Z"
   },
   {
    "duration": 137,
    "start_time": "2023-03-14T12:04:40.457Z"
   },
   {
    "duration": 4,
    "start_time": "2023-03-14T12:04:40.596Z"
   },
   {
    "duration": 67,
    "start_time": "2023-03-14T12:04:40.601Z"
   },
   {
    "duration": 95,
    "start_time": "2023-03-14T12:04:40.670Z"
   },
   {
    "duration": 159,
    "start_time": "2023-03-14T12:04:40.766Z"
   },
   {
    "duration": 242,
    "start_time": "2023-03-14T12:04:40.926Z"
   },
   {
    "duration": 210771,
    "start_time": "2023-03-14T12:04:41.170Z"
   },
   {
    "duration": 1287,
    "start_time": "2023-03-14T12:08:11.943Z"
   },
   {
    "duration": 1534,
    "start_time": "2023-03-14T12:08:13.232Z"
   },
   {
    "duration": 362,
    "start_time": "2023-03-14T12:08:14.768Z"
   },
   {
    "duration": 426,
    "start_time": "2023-03-14T12:08:15.132Z"
   },
   {
    "duration": 825,
    "start_time": "2023-03-14T12:08:15.559Z"
   },
   {
    "duration": 356,
    "start_time": "2023-03-14T12:08:16.385Z"
   },
   {
    "duration": 101,
    "start_time": "2023-03-14T12:08:16.743Z"
   },
   {
    "duration": 311,
    "start_time": "2023-03-14T12:08:16.846Z"
   },
   {
    "duration": 10,
    "start_time": "2023-03-14T12:08:17.158Z"
   },
   {
    "duration": 701,
    "start_time": "2023-03-14T12:08:17.169Z"
   },
   {
    "duration": 304,
    "start_time": "2023-03-14T12:08:17.871Z"
   },
   {
    "duration": 47,
    "start_time": "2023-03-14T12:08:18.177Z"
   },
   {
    "duration": 688,
    "start_time": "2023-03-14T12:08:18.225Z"
   },
   {
    "duration": 84,
    "start_time": "2023-03-14T12:08:18.915Z"
   },
   {
    "duration": 8,
    "start_time": "2023-03-14T12:08:19.001Z"
   },
   {
    "duration": 706,
    "start_time": "2023-03-14T12:08:19.010Z"
   },
   {
    "duration": 51,
    "start_time": "2023-03-14T12:08:19.718Z"
   },
   {
    "duration": 24,
    "start_time": "2023-03-14T12:08:19.771Z"
   },
   {
    "duration": 8699,
    "start_time": "2023-03-14T12:34:19.736Z"
   },
   {
    "duration": 1486,
    "start_time": "2023-03-14T12:34:28.437Z"
   },
   {
    "duration": 1481,
    "start_time": "2023-03-14T12:34:29.925Z"
   },
   {
    "duration": 281,
    "start_time": "2023-03-14T12:34:31.407Z"
   },
   {
    "duration": 4,
    "start_time": "2023-03-14T12:34:31.690Z"
   },
   {
    "duration": 177,
    "start_time": "2023-03-14T12:34:31.696Z"
   },
   {
    "duration": 118,
    "start_time": "2023-03-14T12:34:31.875Z"
   },
   {
    "duration": 183,
    "start_time": "2023-03-14T12:34:31.995Z"
   },
   {
    "duration": 244,
    "start_time": "2023-03-14T12:34:32.179Z"
   },
   {
    "duration": 6420,
    "start_time": "2023-03-14T12:34:49.170Z"
   },
   {
    "duration": 1367,
    "start_time": "2023-03-14T12:34:55.592Z"
   },
   {
    "duration": 970,
    "start_time": "2023-03-14T12:34:56.962Z"
   },
   {
    "duration": 131,
    "start_time": "2023-03-14T12:34:57.933Z"
   },
   {
    "duration": 4,
    "start_time": "2023-03-14T12:34:58.066Z"
   },
   {
    "duration": 69,
    "start_time": "2023-03-14T12:34:58.071Z"
   },
   {
    "duration": 87,
    "start_time": "2023-03-14T12:34:58.142Z"
   },
   {
    "duration": 189,
    "start_time": "2023-03-14T12:34:58.231Z"
   },
   {
    "duration": 245,
    "start_time": "2023-03-14T12:34:58.422Z"
   },
   {
    "duration": 48,
    "start_time": "2023-03-14T12:54:10.343Z"
   },
   {
    "duration": 6535,
    "start_time": "2023-03-14T12:54:19.010Z"
   },
   {
    "duration": 1430,
    "start_time": "2023-03-14T12:54:25.547Z"
   },
   {
    "duration": 990,
    "start_time": "2023-03-14T12:54:26.978Z"
   },
   {
    "duration": 119,
    "start_time": "2023-03-14T12:54:27.970Z"
   },
   {
    "duration": 3,
    "start_time": "2023-03-14T12:54:28.090Z"
   },
   {
    "duration": 75,
    "start_time": "2023-03-14T12:54:28.095Z"
   },
   {
    "duration": 99,
    "start_time": "2023-03-14T12:54:28.171Z"
   },
   {
    "duration": 183,
    "start_time": "2023-03-14T12:54:28.272Z"
   },
   {
    "duration": 242,
    "start_time": "2023-03-14T12:54:28.456Z"
   },
   {
    "duration": 6462,
    "start_time": "2023-03-14T12:54:47.930Z"
   },
   {
    "duration": 1420,
    "start_time": "2023-03-14T12:54:54.395Z"
   },
   {
    "duration": 1078,
    "start_time": "2023-03-14T12:54:55.819Z"
   },
   {
    "duration": 138,
    "start_time": "2023-03-14T12:54:56.900Z"
   },
   {
    "duration": 3,
    "start_time": "2023-03-14T12:54:57.039Z"
   },
   {
    "duration": 71,
    "start_time": "2023-03-14T12:54:57.044Z"
   },
   {
    "duration": 94,
    "start_time": "2023-03-14T12:54:57.116Z"
   },
   {
    "duration": 180,
    "start_time": "2023-03-14T12:54:57.212Z"
   },
   {
    "duration": 248,
    "start_time": "2023-03-14T12:54:57.393Z"
   },
   {
    "duration": 6289,
    "start_time": "2023-03-14T12:57:07.532Z"
   },
   {
    "duration": 1298,
    "start_time": "2023-03-14T12:57:13.823Z"
   },
   {
    "duration": 973,
    "start_time": "2023-03-14T12:57:15.123Z"
   },
   {
    "duration": 121,
    "start_time": "2023-03-14T12:57:16.099Z"
   },
   {
    "duration": 3,
    "start_time": "2023-03-14T12:57:16.222Z"
   },
   {
    "duration": 62,
    "start_time": "2023-03-14T12:57:16.227Z"
   },
   {
    "duration": 88,
    "start_time": "2023-03-14T12:57:16.291Z"
   },
   {
    "duration": 179,
    "start_time": "2023-03-14T12:57:16.380Z"
   },
   {
    "duration": 294,
    "start_time": "2023-03-14T12:57:16.560Z"
   },
   {
    "duration": 6386,
    "start_time": "2023-03-14T12:57:40.491Z"
   },
   {
    "duration": 1384,
    "start_time": "2023-03-14T12:57:46.881Z"
   },
   {
    "duration": 1030,
    "start_time": "2023-03-14T12:57:48.267Z"
   },
   {
    "duration": 126,
    "start_time": "2023-03-14T12:57:49.300Z"
   },
   {
    "duration": 3,
    "start_time": "2023-03-14T12:57:49.428Z"
   },
   {
    "duration": 68,
    "start_time": "2023-03-14T12:57:49.433Z"
   },
   {
    "duration": 94,
    "start_time": "2023-03-14T12:57:49.503Z"
   },
   {
    "duration": 182,
    "start_time": "2023-03-14T12:57:49.599Z"
   },
   {
    "duration": 268,
    "start_time": "2023-03-14T12:57:49.782Z"
   },
   {
    "duration": 3,
    "start_time": "2023-03-14T12:57:50.052Z"
   },
   {
    "duration": 3,
    "start_time": "2023-03-14T12:57:50.064Z"
   },
   {
    "duration": 1525,
    "start_time": "2023-03-14T12:57:50.068Z"
   },
   {
    "duration": 361,
    "start_time": "2023-03-14T12:57:51.594Z"
   },
   {
    "duration": 338,
    "start_time": "2023-03-14T12:57:51.956Z"
   },
   {
    "duration": 892,
    "start_time": "2023-03-14T12:57:52.295Z"
   },
   {
    "duration": 348,
    "start_time": "2023-03-14T12:57:53.188Z"
   },
   {
    "duration": 113,
    "start_time": "2023-03-14T12:57:53.537Z"
   },
   {
    "duration": 314,
    "start_time": "2023-03-14T12:57:53.652Z"
   },
   {
    "duration": 5,
    "start_time": "2023-03-14T12:57:53.967Z"
   },
   {
    "duration": 738,
    "start_time": "2023-03-14T12:57:53.973Z"
   },
   {
    "duration": 202,
    "start_time": "2023-03-14T12:57:54.712Z"
   },
   {
    "duration": 73,
    "start_time": "2023-03-14T13:02:19.848Z"
   },
   {
    "duration": 89,
    "start_time": "2023-03-14T13:02:20.654Z"
   },
   {
    "duration": 8,
    "start_time": "2023-03-14T13:02:20.745Z"
   },
   {
    "duration": 749,
    "start_time": "2023-03-14T13:02:20.765Z"
   },
   {
    "duration": 56,
    "start_time": "2023-03-14T13:02:21.519Z"
   },
   {
    "duration": 27,
    "start_time": "2023-03-14T13:02:21.576Z"
   },
   {
    "duration": 493,
    "start_time": "2023-03-14T13:02:21.605Z"
   },
   {
    "duration": 237,
    "start_time": "2023-03-14T13:02:22.100Z"
   },
   {
    "duration": 51,
    "start_time": "2023-03-14T13:02:22.339Z"
   },
   {
    "duration": 48,
    "start_time": "2023-03-14T13:02:22.391Z"
   },
   {
    "duration": 24,
    "start_time": "2023-03-14T13:02:22.441Z"
   },
   {
    "duration": 9,
    "start_time": "2023-03-14T13:02:22.466Z"
   },
   {
    "duration": 68,
    "start_time": "2023-03-14T13:02:22.477Z"
   },
   {
    "duration": 26,
    "start_time": "2023-03-14T13:02:22.547Z"
   },
   {
    "duration": 17,
    "start_time": "2023-03-14T13:02:22.575Z"
   },
   {
    "duration": 161,
    "start_time": "2023-03-14T13:02:22.593Z"
   },
   {
    "duration": 55,
    "start_time": "2023-03-14T13:02:22.755Z"
   },
   {
    "duration": 6329,
    "start_time": "2023-03-14T13:02:33.636Z"
   },
   {
    "duration": 1480,
    "start_time": "2023-03-14T13:02:39.967Z"
   },
   {
    "duration": 995,
    "start_time": "2023-03-14T13:02:41.449Z"
   },
   {
    "duration": 132,
    "start_time": "2023-03-14T13:02:42.445Z"
   },
   {
    "duration": 4,
    "start_time": "2023-03-14T13:02:42.578Z"
   },
   {
    "duration": 58,
    "start_time": "2023-03-14T13:02:42.583Z"
   },
   {
    "duration": 95,
    "start_time": "2023-03-14T13:02:42.643Z"
   },
   {
    "duration": 178,
    "start_time": "2023-03-14T13:02:42.740Z"
   },
   {
    "duration": 244,
    "start_time": "2023-03-14T13:02:42.920Z"
   },
   {
    "duration": 2,
    "start_time": "2023-03-14T13:02:43.167Z"
   },
   {
    "duration": 7,
    "start_time": "2023-03-14T13:02:43.170Z"
   },
   {
    "duration": 1577,
    "start_time": "2023-03-14T13:02:43.178Z"
   },
   {
    "duration": 388,
    "start_time": "2023-03-14T13:02:44.757Z"
   },
   {
    "duration": 368,
    "start_time": "2023-03-14T13:02:45.147Z"
   },
   {
    "duration": 924,
    "start_time": "2023-03-14T13:02:45.516Z"
   },
   {
    "duration": 429,
    "start_time": "2023-03-14T13:02:46.441Z"
   },
   {
    "duration": 121,
    "start_time": "2023-03-14T13:02:46.872Z"
   },
   {
    "duration": 317,
    "start_time": "2023-03-14T13:02:46.995Z"
   },
   {
    "duration": 6,
    "start_time": "2023-03-14T13:02:47.314Z"
   },
   {
    "duration": 759,
    "start_time": "2023-03-14T13:02:47.321Z"
   },
   {
    "duration": 196,
    "start_time": "2023-03-14T13:02:48.081Z"
   },
   {
    "duration": 6459,
    "start_time": "2023-03-14T13:04:12.203Z"
   },
   {
    "duration": 1379,
    "start_time": "2023-03-14T13:04:18.664Z"
   },
   {
    "duration": 785,
    "start_time": "2023-03-14T13:04:20.045Z"
   },
   {
    "duration": 144,
    "start_time": "2023-03-14T13:04:20.832Z"
   },
   {
    "duration": 4,
    "start_time": "2023-03-14T13:04:20.978Z"
   },
   {
    "duration": 63,
    "start_time": "2023-03-14T13:04:20.984Z"
   },
   {
    "duration": 92,
    "start_time": "2023-03-14T13:04:21.049Z"
   },
   {
    "duration": 190,
    "start_time": "2023-03-14T13:04:21.143Z"
   },
   {
    "duration": 242,
    "start_time": "2023-03-14T13:04:21.334Z"
   },
   {
    "duration": 2,
    "start_time": "2023-03-14T13:04:21.578Z"
   },
   {
    "duration": 7,
    "start_time": "2023-03-14T13:04:21.581Z"
   },
   {
    "duration": 1570,
    "start_time": "2023-03-14T13:04:21.589Z"
   },
   {
    "duration": 361,
    "start_time": "2023-03-14T13:04:23.164Z"
   },
   {
    "duration": 353,
    "start_time": "2023-03-14T13:04:23.526Z"
   },
   {
    "duration": 1024,
    "start_time": "2023-03-14T13:04:23.881Z"
   },
   {
    "duration": 373,
    "start_time": "2023-03-14T13:04:24.907Z"
   },
   {
    "duration": 123,
    "start_time": "2023-03-14T13:04:25.282Z"
   },
   {
    "duration": 331,
    "start_time": "2023-03-14T13:04:25.407Z"
   },
   {
    "duration": 6,
    "start_time": "2023-03-14T13:04:25.740Z"
   },
   {
    "duration": 791,
    "start_time": "2023-03-14T13:04:25.747Z"
   },
   {
    "duration": 207,
    "start_time": "2023-03-14T13:04:26.540Z"
   },
   {
    "duration": 3,
    "start_time": "2023-03-14T13:04:26.749Z"
   },
   {
    "duration": 77,
    "start_time": "2023-03-14T13:04:26.754Z"
   },
   {
    "duration": 713,
    "start_time": "2023-03-14T13:04:26.833Z"
   },
   {
    "duration": 94,
    "start_time": "2023-03-14T13:04:27.548Z"
   },
   {
    "duration": 8,
    "start_time": "2023-03-14T13:04:27.644Z"
   },
   {
    "duration": 752,
    "start_time": "2023-03-14T13:04:27.663Z"
   },
   {
    "duration": 50,
    "start_time": "2023-03-14T13:04:28.418Z"
   },
   {
    "duration": 24,
    "start_time": "2023-03-14T13:04:28.469Z"
   },
   {
    "duration": 603,
    "start_time": "2023-03-14T13:04:28.494Z"
   },
   {
    "duration": 240,
    "start_time": "2023-03-14T13:04:29.099Z"
   },
   {
    "duration": 48,
    "start_time": "2023-03-14T13:04:29.340Z"
   },
   {
    "duration": 52,
    "start_time": "2023-03-14T13:04:29.390Z"
   },
   {
    "duration": 26,
    "start_time": "2023-03-14T13:04:29.443Z"
   },
   {
    "duration": 9,
    "start_time": "2023-03-14T13:04:29.471Z"
   },
   {
    "duration": 67,
    "start_time": "2023-03-14T13:04:29.481Z"
   },
   {
    "duration": 29,
    "start_time": "2023-03-14T13:04:29.549Z"
   },
   {
    "duration": 16,
    "start_time": "2023-03-14T13:04:29.579Z"
   },
   {
    "duration": 172,
    "start_time": "2023-03-14T13:04:29.596Z"
   },
   {
    "duration": 55,
    "start_time": "2023-03-14T13:04:29.769Z"
   },
   {
    "duration": 322,
    "start_time": "2023-03-14T13:04:29.825Z"
   },
   {
    "duration": 183,
    "start_time": "2023-03-14T13:04:30.149Z"
   },
   {
    "duration": 1753,
    "start_time": "2023-03-14T13:04:30.334Z"
   },
   {
    "duration": 44,
    "start_time": "2023-03-14T13:05:11.208Z"
   },
   {
    "duration": 7207,
    "start_time": "2023-03-14T13:05:32.653Z"
   },
   {
    "duration": 1352,
    "start_time": "2023-03-14T13:05:39.862Z"
   },
   {
    "duration": 988,
    "start_time": "2023-03-14T13:05:41.216Z"
   },
   {
    "duration": 127,
    "start_time": "2023-03-14T13:05:42.206Z"
   },
   {
    "duration": 4,
    "start_time": "2023-03-14T13:05:42.334Z"
   },
   {
    "duration": 73,
    "start_time": "2023-03-14T13:05:42.339Z"
   },
   {
    "duration": 87,
    "start_time": "2023-03-14T13:05:42.413Z"
   },
   {
    "duration": 178,
    "start_time": "2023-03-14T13:05:42.501Z"
   },
   {
    "duration": 244,
    "start_time": "2023-03-14T13:05:42.680Z"
   },
   {
    "duration": 2,
    "start_time": "2023-03-14T13:05:42.928Z"
   },
   {
    "duration": 5,
    "start_time": "2023-03-14T13:05:42.931Z"
   },
   {
    "duration": 1566,
    "start_time": "2023-03-14T13:05:42.938Z"
   },
   {
    "duration": 397,
    "start_time": "2023-03-14T13:05:44.506Z"
   },
   {
    "duration": 368,
    "start_time": "2023-03-14T13:05:44.905Z"
   },
   {
    "duration": 946,
    "start_time": "2023-03-14T13:05:45.275Z"
   },
   {
    "duration": 358,
    "start_time": "2023-03-14T13:05:46.223Z"
   },
   {
    "duration": 124,
    "start_time": "2023-03-14T13:05:46.583Z"
   },
   {
    "duration": 389,
    "start_time": "2023-03-14T13:05:46.709Z"
   },
   {
    "duration": 5,
    "start_time": "2023-03-14T13:05:47.100Z"
   },
   {
    "duration": 8,
    "start_time": "2023-03-14T13:05:47.106Z"
   },
   {
    "duration": 749,
    "start_time": "2023-03-14T13:05:47.115Z"
   },
   {
    "duration": 194,
    "start_time": "2023-03-14T13:05:47.866Z"
   },
   {
    "duration": 2,
    "start_time": "2023-03-14T13:05:48.064Z"
   },
   {
    "duration": 68,
    "start_time": "2023-03-14T13:05:48.067Z"
   },
   {
    "duration": 731,
    "start_time": "2023-03-14T13:05:48.136Z"
   },
   {
    "duration": 116,
    "start_time": "2023-03-14T13:05:48.868Z"
   },
   {
    "duration": 8,
    "start_time": "2023-03-14T13:05:48.986Z"
   },
   {
    "duration": 869,
    "start_time": "2023-03-14T13:05:48.998Z"
   },
   {
    "duration": 51,
    "start_time": "2023-03-14T13:05:49.869Z"
   },
   {
    "duration": 27,
    "start_time": "2023-03-14T13:05:49.922Z"
   },
   {
    "duration": 502,
    "start_time": "2023-03-14T13:05:49.965Z"
   },
   {
    "duration": 365,
    "start_time": "2023-03-14T13:05:50.470Z"
   },
   {
    "duration": 52,
    "start_time": "2023-03-14T13:05:50.837Z"
   },
   {
    "duration": 50,
    "start_time": "2023-03-14T13:05:50.890Z"
   },
   {
    "duration": 26,
    "start_time": "2023-03-14T13:05:50.942Z"
   },
   {
    "duration": 10,
    "start_time": "2023-03-14T13:05:50.969Z"
   },
   {
    "duration": 72,
    "start_time": "2023-03-14T13:05:50.980Z"
   },
   {
    "duration": 19,
    "start_time": "2023-03-14T13:05:51.054Z"
   },
   {
    "duration": 15,
    "start_time": "2023-03-14T13:05:51.074Z"
   },
   {
    "duration": 163,
    "start_time": "2023-03-14T13:05:51.090Z"
   },
   {
    "duration": 58,
    "start_time": "2023-03-14T13:05:51.255Z"
   },
   {
    "duration": 300,
    "start_time": "2023-03-14T13:05:51.314Z"
   },
   {
    "duration": 181,
    "start_time": "2023-03-14T13:05:51.615Z"
   },
   {
    "duration": 1710,
    "start_time": "2023-03-14T13:05:51.797Z"
   },
   {
    "duration": 47,
    "start_time": "2023-03-14T13:18:00.767Z"
   },
   {
    "duration": 6281,
    "start_time": "2023-03-14T13:18:04.433Z"
   },
   {
    "duration": 1377,
    "start_time": "2023-03-14T13:18:10.717Z"
   },
   {
    "duration": 956,
    "start_time": "2023-03-14T13:18:12.095Z"
   },
   {
    "duration": 123,
    "start_time": "2023-03-14T13:18:13.053Z"
   },
   {
    "duration": 3,
    "start_time": "2023-03-14T13:18:13.178Z"
   },
   {
    "duration": 54,
    "start_time": "2023-03-14T13:18:13.183Z"
   },
   {
    "duration": 89,
    "start_time": "2023-03-14T13:18:13.238Z"
   },
   {
    "duration": 186,
    "start_time": "2023-03-14T13:18:13.328Z"
   },
   {
    "duration": 248,
    "start_time": "2023-03-14T13:18:13.516Z"
   },
   {
    "duration": 2,
    "start_time": "2023-03-14T13:18:13.767Z"
   },
   {
    "duration": 5,
    "start_time": "2023-03-14T13:18:13.770Z"
   },
   {
    "duration": 1504,
    "start_time": "2023-03-14T13:18:13.776Z"
   },
   {
    "duration": 355,
    "start_time": "2023-03-14T13:18:15.282Z"
   },
   {
    "duration": 352,
    "start_time": "2023-03-14T13:18:15.639Z"
   },
   {
    "duration": 1012,
    "start_time": "2023-03-14T13:18:15.993Z"
   },
   {
    "duration": 340,
    "start_time": "2023-03-14T13:18:17.007Z"
   },
   {
    "duration": 107,
    "start_time": "2023-03-14T13:18:17.349Z"
   },
   {
    "duration": 313,
    "start_time": "2023-03-14T13:18:17.457Z"
   },
   {
    "duration": 5,
    "start_time": "2023-03-14T13:18:17.771Z"
   },
   {
    "duration": 9,
    "start_time": "2023-03-14T13:18:17.777Z"
   },
   {
    "duration": 735,
    "start_time": "2023-03-14T13:18:17.787Z"
   },
   {
    "duration": 189,
    "start_time": "2023-03-14T13:18:18.524Z"
   },
   {
    "duration": 6415,
    "start_time": "2023-03-14T13:19:20.852Z"
   },
   {
    "duration": 1389,
    "start_time": "2023-03-14T13:19:27.269Z"
   },
   {
    "duration": 774,
    "start_time": "2023-03-14T13:19:28.664Z"
   },
   {
    "duration": 137,
    "start_time": "2023-03-14T13:19:29.441Z"
   },
   {
    "duration": 3,
    "start_time": "2023-03-14T13:19:29.580Z"
   },
   {
    "duration": 60,
    "start_time": "2023-03-14T13:19:29.585Z"
   },
   {
    "duration": 95,
    "start_time": "2023-03-14T13:19:29.647Z"
   },
   {
    "duration": 200,
    "start_time": "2023-03-14T13:19:29.743Z"
   },
   {
    "duration": 257,
    "start_time": "2023-03-14T13:19:29.945Z"
   },
   {
    "duration": 2,
    "start_time": "2023-03-14T13:19:30.205Z"
   },
   {
    "duration": 28,
    "start_time": "2023-03-14T13:19:30.208Z"
   },
   {
    "duration": 1569,
    "start_time": "2023-03-14T13:19:30.237Z"
   },
   {
    "duration": 360,
    "start_time": "2023-03-14T13:19:31.808Z"
   },
   {
    "duration": 352,
    "start_time": "2023-03-14T13:19:32.170Z"
   },
   {
    "duration": 912,
    "start_time": "2023-03-14T13:19:32.524Z"
   },
   {
    "duration": 456,
    "start_time": "2023-03-14T13:19:33.437Z"
   },
   {
    "duration": 114,
    "start_time": "2023-03-14T13:19:33.895Z"
   },
   {
    "duration": 328,
    "start_time": "2023-03-14T13:19:34.010Z"
   },
   {
    "duration": 4,
    "start_time": "2023-03-14T13:19:34.340Z"
   },
   {
    "duration": 25,
    "start_time": "2023-03-14T13:19:34.346Z"
   },
   {
    "duration": 726,
    "start_time": "2023-03-14T13:19:34.372Z"
   },
   {
    "duration": 197,
    "start_time": "2023-03-14T13:19:35.100Z"
   },
   {
    "duration": 2,
    "start_time": "2023-03-14T13:19:35.299Z"
   },
   {
    "duration": 98,
    "start_time": "2023-03-14T13:19:35.302Z"
   },
   {
    "duration": 705,
    "start_time": "2023-03-14T13:19:35.401Z"
   },
   {
    "duration": 106,
    "start_time": "2023-03-14T13:19:36.108Z"
   },
   {
    "duration": 8,
    "start_time": "2023-03-14T13:19:36.215Z"
   },
   {
    "duration": 810,
    "start_time": "2023-03-14T13:19:36.226Z"
   },
   {
    "duration": 53,
    "start_time": "2023-03-14T13:19:37.037Z"
   },
   {
    "duration": 24,
    "start_time": "2023-03-14T13:19:37.091Z"
   },
   {
    "duration": 469,
    "start_time": "2023-03-14T13:19:37.117Z"
   },
   {
    "duration": 360,
    "start_time": "2023-03-14T13:19:37.587Z"
   },
   {
    "duration": 44,
    "start_time": "2023-03-14T13:19:37.948Z"
   },
   {
    "duration": 49,
    "start_time": "2023-03-14T13:19:37.993Z"
   },
   {
    "duration": 33,
    "start_time": "2023-03-14T13:19:38.044Z"
   },
   {
    "duration": 11,
    "start_time": "2023-03-14T13:19:38.078Z"
   },
   {
    "duration": 82,
    "start_time": "2023-03-14T13:19:38.090Z"
   },
   {
    "duration": 16,
    "start_time": "2023-03-14T13:19:38.174Z"
   },
   {
    "duration": 22,
    "start_time": "2023-03-14T13:19:38.192Z"
   },
   {
    "duration": 178,
    "start_time": "2023-03-14T13:19:38.216Z"
   },
   {
    "duration": 50,
    "start_time": "2023-03-14T13:19:38.396Z"
   },
   {
    "duration": 326,
    "start_time": "2023-03-14T13:19:38.447Z"
   },
   {
    "duration": 172,
    "start_time": "2023-03-14T13:19:38.774Z"
   },
   {
    "duration": 1762,
    "start_time": "2023-03-14T13:19:38.948Z"
   },
   {
    "duration": 45,
    "start_time": "2023-03-14T13:26:35.205Z"
   },
   {
    "duration": 6691,
    "start_time": "2023-03-14T13:26:43.412Z"
   },
   {
    "duration": 1342,
    "start_time": "2023-03-14T13:26:50.105Z"
   },
   {
    "duration": 991,
    "start_time": "2023-03-14T13:26:51.449Z"
   },
   {
    "duration": 127,
    "start_time": "2023-03-14T13:26:52.441Z"
   },
   {
    "duration": 22,
    "start_time": "2023-03-14T13:26:52.569Z"
   },
   {
    "duration": 62,
    "start_time": "2023-03-14T13:26:52.592Z"
   },
   {
    "duration": 80,
    "start_time": "2023-03-14T13:26:52.655Z"
   },
   {
    "duration": 185,
    "start_time": "2023-03-14T13:26:52.737Z"
   },
   {
    "duration": 273,
    "start_time": "2023-03-14T13:26:52.924Z"
   },
   {
    "duration": 3,
    "start_time": "2023-03-14T13:26:53.200Z"
   },
   {
    "duration": 10,
    "start_time": "2023-03-14T13:26:53.204Z"
   },
   {
    "duration": 1637,
    "start_time": "2023-03-14T13:26:53.215Z"
   },
   {
    "duration": 403,
    "start_time": "2023-03-14T13:26:54.854Z"
   },
   {
    "duration": 389,
    "start_time": "2023-03-14T13:26:55.264Z"
   },
   {
    "duration": 1057,
    "start_time": "2023-03-14T13:26:55.655Z"
   },
   {
    "duration": 362,
    "start_time": "2023-03-14T13:26:56.713Z"
   },
   {
    "duration": 129,
    "start_time": "2023-03-14T13:26:57.076Z"
   },
   {
    "duration": 329,
    "start_time": "2023-03-14T13:26:57.207Z"
   },
   {
    "duration": 27,
    "start_time": "2023-03-14T13:26:57.538Z"
   },
   {
    "duration": 7,
    "start_time": "2023-03-14T13:26:57.567Z"
   },
   {
    "duration": 763,
    "start_time": "2023-03-14T13:26:57.575Z"
   },
   {
    "duration": 205,
    "start_time": "2023-03-14T13:26:58.339Z"
   },
   {
    "duration": 2,
    "start_time": "2023-03-14T13:26:58.545Z"
   },
   {
    "duration": 77,
    "start_time": "2023-03-14T13:26:58.549Z"
   },
   {
    "duration": 725,
    "start_time": "2023-03-14T13:26:58.628Z"
   },
   {
    "duration": 99,
    "start_time": "2023-03-14T13:26:59.354Z"
   },
   {
    "duration": 15,
    "start_time": "2023-03-14T13:26:59.455Z"
   },
   {
    "duration": 781,
    "start_time": "2023-03-14T13:26:59.474Z"
   },
   {
    "duration": 45,
    "start_time": "2023-03-14T13:27:00.257Z"
   },
   {
    "duration": 25,
    "start_time": "2023-03-14T13:27:00.303Z"
   },
   {
    "duration": 536,
    "start_time": "2023-03-14T13:27:00.330Z"
   },
   {
    "duration": 369,
    "start_time": "2023-03-14T13:27:00.868Z"
   },
   {
    "duration": 49,
    "start_time": "2023-03-14T13:27:01.238Z"
   },
   {
    "duration": 48,
    "start_time": "2023-03-14T13:27:01.289Z"
   },
   {
    "duration": 33,
    "start_time": "2023-03-14T13:27:01.339Z"
   },
   {
    "duration": 13,
    "start_time": "2023-03-14T13:27:01.373Z"
   },
   {
    "duration": 84,
    "start_time": "2023-03-14T13:27:01.388Z"
   },
   {
    "duration": 14,
    "start_time": "2023-03-14T13:27:01.474Z"
   },
   {
    "duration": 57,
    "start_time": "2023-03-14T13:27:01.489Z"
   },
   {
    "duration": 195,
    "start_time": "2023-03-14T13:27:01.547Z"
   },
   {
    "duration": 67,
    "start_time": "2023-03-14T13:27:01.744Z"
   },
   {
    "duration": 391,
    "start_time": "2023-03-14T13:27:01.813Z"
   },
   {
    "duration": 187,
    "start_time": "2023-03-14T13:27:02.206Z"
   },
   {
    "duration": 1900,
    "start_time": "2023-03-14T13:27:02.395Z"
   },
   {
    "duration": 6281,
    "start_time": "2023-03-14T13:30:30.067Z"
   },
   {
    "duration": 1363,
    "start_time": "2023-03-14T13:30:36.350Z"
   },
   {
    "duration": 996,
    "start_time": "2023-03-14T13:30:37.714Z"
   },
   {
    "duration": 127,
    "start_time": "2023-03-14T13:30:38.712Z"
   },
   {
    "duration": 3,
    "start_time": "2023-03-14T13:30:38.841Z"
   },
   {
    "duration": 74,
    "start_time": "2023-03-14T13:30:38.846Z"
   },
   {
    "duration": 86,
    "start_time": "2023-03-14T13:30:38.922Z"
   },
   {
    "duration": 195,
    "start_time": "2023-03-14T13:30:39.009Z"
   },
   {
    "duration": 247,
    "start_time": "2023-03-14T13:30:39.206Z"
   },
   {
    "duration": 2,
    "start_time": "2023-03-14T13:30:39.456Z"
   },
   {
    "duration": 3,
    "start_time": "2023-03-14T13:30:39.464Z"
   },
   {
    "duration": 1709,
    "start_time": "2023-03-14T13:30:39.468Z"
   },
   {
    "duration": 350,
    "start_time": "2023-03-14T13:30:41.179Z"
   },
   {
    "duration": 365,
    "start_time": "2023-03-14T13:30:41.530Z"
   },
   {
    "duration": 944,
    "start_time": "2023-03-14T13:30:41.897Z"
   },
   {
    "duration": 350,
    "start_time": "2023-03-14T13:30:42.843Z"
   },
   {
    "duration": 119,
    "start_time": "2023-03-14T13:30:43.194Z"
   },
   {
    "duration": 309,
    "start_time": "2023-03-14T13:30:43.315Z"
   },
   {
    "duration": 21,
    "start_time": "2023-03-14T13:30:43.626Z"
   },
   {
    "duration": 5,
    "start_time": "2023-03-14T13:30:43.665Z"
   },
   {
    "duration": 777,
    "start_time": "2023-03-14T13:30:43.671Z"
   },
   {
    "duration": 225,
    "start_time": "2023-03-14T13:30:44.450Z"
   },
   {
    "duration": 65,
    "start_time": "2023-03-14T13:30:44.677Z"
   },
   {
    "duration": 752,
    "start_time": "2023-03-14T13:30:44.744Z"
   },
   {
    "duration": 80,
    "start_time": "2023-03-14T13:30:45.498Z"
   },
   {
    "duration": 8,
    "start_time": "2023-03-14T13:30:45.579Z"
   },
   {
    "duration": 716,
    "start_time": "2023-03-14T13:30:45.588Z"
   },
   {
    "duration": 66,
    "start_time": "2023-03-14T13:30:46.308Z"
   },
   {
    "duration": 31,
    "start_time": "2023-03-14T13:30:46.377Z"
   },
   {
    "duration": 690,
    "start_time": "2023-03-14T13:30:46.410Z"
   },
   {
    "duration": 232,
    "start_time": "2023-03-14T13:30:47.102Z"
   },
   {
    "duration": 47,
    "start_time": "2023-03-14T13:30:47.336Z"
   },
   {
    "duration": 48,
    "start_time": "2023-03-14T13:30:47.385Z"
   },
   {
    "duration": 14,
    "start_time": "2023-03-14T13:30:47.434Z"
   },
   {
    "duration": 22,
    "start_time": "2023-03-14T13:30:47.450Z"
   },
   {
    "duration": 51,
    "start_time": "2023-03-14T13:30:47.473Z"
   },
   {
    "duration": 15,
    "start_time": "2023-03-14T13:30:47.525Z"
   },
   {
    "duration": 38,
    "start_time": "2023-03-14T13:30:47.541Z"
   },
   {
    "duration": 142,
    "start_time": "2023-03-14T13:30:47.580Z"
   },
   {
    "duration": 53,
    "start_time": "2023-03-14T13:30:47.724Z"
   },
   {
    "duration": 196,
    "start_time": "2023-03-14T13:30:47.779Z"
   },
   {
    "duration": 127,
    "start_time": "2023-03-14T13:30:47.977Z"
   },
   {
    "duration": 533,
    "start_time": "2023-03-14T13:30:48.106Z"
   },
   {
    "duration": 992,
    "start_time": "2023-03-14T13:30:48.641Z"
   },
   {
    "duration": 21430,
    "start_time": "2023-03-14T13:30:49.635Z"
   },
   {
    "duration": 1039,
    "start_time": "2023-03-14T13:31:11.070Z"
   },
   {
    "duration": 21007,
    "start_time": "2023-03-14T13:31:12.166Z"
   },
   {
    "duration": 8,
    "start_time": "2023-03-14T13:31:33.264Z"
   },
   {
    "duration": 411,
    "start_time": "2023-03-14T13:31:33.274Z"
   },
   {
    "duration": 131,
    "start_time": "2023-03-14T13:31:33.687Z"
   },
   {
    "duration": 74,
    "start_time": "2023-03-14T13:31:33.820Z"
   },
   {
    "duration": 92,
    "start_time": "2023-03-14T13:31:33.895Z"
   },
   {
    "duration": 305534,
    "start_time": "2023-03-14T13:31:33.988Z"
   },
   {
    "duration": 542,
    "start_time": "2023-03-14T13:36:39.523Z"
   },
   {
    "duration": 129168,
    "start_time": "2023-03-14T13:36:40.067Z"
   },
   {
    "duration": 89,
    "start_time": "2023-03-14T13:38:49.237Z"
   },
   {
    "duration": 9,
    "start_time": "2023-03-14T13:38:49.327Z"
   },
   {
    "duration": 218,
    "start_time": "2023-03-14T13:38:49.338Z"
   },
   {
    "duration": 5,
    "start_time": "2023-03-14T13:38:49.557Z"
   },
   {
    "duration": 35714,
    "start_time": "2023-03-14T13:38:49.564Z"
   },
   {
    "duration": 9495,
    "start_time": "2023-03-14T15:07:45.472Z"
   },
   {
    "duration": 1628,
    "start_time": "2023-03-14T15:07:54.970Z"
   },
   {
    "duration": 1177,
    "start_time": "2023-03-14T15:07:56.600Z"
   },
   {
    "duration": 149,
    "start_time": "2023-03-14T15:07:57.780Z"
   },
   {
    "duration": 4,
    "start_time": "2023-03-14T15:07:57.930Z"
   },
   {
    "duration": 79,
    "start_time": "2023-03-14T15:07:57.936Z"
   },
   {
    "duration": 108,
    "start_time": "2023-03-14T15:07:58.017Z"
   },
   {
    "duration": 304,
    "start_time": "2023-03-14T15:07:58.127Z"
   },
   {
    "duration": 364,
    "start_time": "2023-03-14T15:07:58.433Z"
   },
   {
    "duration": 3,
    "start_time": "2023-03-14T15:07:58.801Z"
   },
   {
    "duration": 11,
    "start_time": "2023-03-14T15:07:58.806Z"
   },
   {
    "duration": 2185,
    "start_time": "2023-03-14T15:07:58.819Z"
   },
   {
    "duration": 429,
    "start_time": "2023-03-14T15:08:01.006Z"
   },
   {
    "duration": 387,
    "start_time": "2023-03-14T15:08:01.437Z"
   },
   {
    "duration": 1066,
    "start_time": "2023-03-14T15:08:01.826Z"
   },
   {
    "duration": 408,
    "start_time": "2023-03-14T15:08:02.895Z"
   },
   {
    "duration": 135,
    "start_time": "2023-03-14T15:08:03.306Z"
   },
   {
    "duration": 416,
    "start_time": "2023-03-14T15:08:03.442Z"
   },
   {
    "duration": 26,
    "start_time": "2023-03-14T15:08:03.864Z"
   },
   {
    "duration": 18,
    "start_time": "2023-03-14T15:08:03.892Z"
   },
   {
    "duration": 837,
    "start_time": "2023-03-14T15:08:03.912Z"
   },
   {
    "duration": 233,
    "start_time": "2023-03-14T15:08:04.752Z"
   },
   {
    "duration": 63,
    "start_time": "2023-03-14T15:08:04.987Z"
   },
   {
    "duration": 744,
    "start_time": "2023-03-14T15:08:05.052Z"
   },
   {
    "duration": 115,
    "start_time": "2023-03-14T15:08:05.798Z"
   },
   {
    "duration": 11,
    "start_time": "2023-03-14T15:08:05.915Z"
   },
   {
    "duration": 783,
    "start_time": "2023-03-14T15:08:05.928Z"
   },
   {
    "duration": 80,
    "start_time": "2023-03-14T15:08:06.716Z"
   },
   {
    "duration": 34,
    "start_time": "2023-03-14T15:08:06.800Z"
   },
   {
    "duration": 749,
    "start_time": "2023-03-14T15:08:06.836Z"
   },
   {
    "duration": 272,
    "start_time": "2023-03-14T15:08:07.587Z"
   },
   {
    "duration": 48,
    "start_time": "2023-03-14T15:08:07.866Z"
   },
   {
    "duration": 78,
    "start_time": "2023-03-14T15:08:07.916Z"
   },
   {
    "duration": 16,
    "start_time": "2023-03-14T15:08:07.995Z"
   },
   {
    "duration": 10,
    "start_time": "2023-03-14T15:08:08.013Z"
   },
   {
    "duration": 79,
    "start_time": "2023-03-14T15:08:08.024Z"
   },
   {
    "duration": 16,
    "start_time": "2023-03-14T15:08:08.104Z"
   },
   {
    "duration": 16,
    "start_time": "2023-03-14T15:08:08.121Z"
   },
   {
    "duration": 168,
    "start_time": "2023-03-14T15:08:08.139Z"
   },
   {
    "duration": 58,
    "start_time": "2023-03-14T15:08:08.309Z"
   },
   {
    "duration": 205,
    "start_time": "2023-03-14T15:08:08.369Z"
   },
   {
    "duration": 196,
    "start_time": "2023-03-14T15:08:08.576Z"
   },
   {
    "duration": 1981,
    "start_time": "2023-03-14T15:08:08.773Z"
   },
   {
    "duration": 1030,
    "start_time": "2023-03-14T15:08:10.756Z"
   },
   {
    "duration": 30679,
    "start_time": "2023-03-14T15:08:11.788Z"
   },
   {
    "duration": 1395,
    "start_time": "2023-03-14T15:08:42.469Z"
   },
   {
    "duration": 35698,
    "start_time": "2023-03-14T15:08:43.868Z"
   },
   {
    "duration": 14,
    "start_time": "2023-03-14T15:09:19.568Z"
   },
   {
    "duration": 409,
    "start_time": "2023-03-14T15:09:19.585Z"
   },
   {
    "duration": 132,
    "start_time": "2023-03-14T15:09:19.996Z"
   },
   {
    "duration": 73,
    "start_time": "2023-03-14T15:09:20.130Z"
   },
   {
    "duration": 77,
    "start_time": "2023-03-14T15:09:20.206Z"
   },
   {
    "duration": 325052,
    "start_time": "2023-03-14T15:09:20.285Z"
   },
   {
    "duration": 545,
    "start_time": "2023-03-14T15:14:45.339Z"
   },
   {
    "duration": 138780,
    "start_time": "2023-03-14T15:14:45.886Z"
   },
   {
    "duration": 77,
    "start_time": "2023-03-14T15:17:04.667Z"
   },
   {
    "duration": 7,
    "start_time": "2023-03-14T15:17:04.745Z"
   },
   {
    "duration": 212,
    "start_time": "2023-03-14T15:17:04.765Z"
   },
   {
    "duration": 4,
    "start_time": "2023-03-14T15:17:04.978Z"
   },
   {
    "duration": 38892,
    "start_time": "2023-03-14T15:17:04.984Z"
   },
   {
    "duration": 47388,
    "start_time": "2023-03-14T15:17:43.878Z"
   },
   {
    "duration": 555602,
    "start_time": "2023-03-14T15:18:31.268Z"
   },
   {
    "duration": 17,
    "start_time": "2023-03-14T15:27:46.875Z"
   },
   {
    "duration": 0,
    "start_time": "2023-03-14T15:27:46.894Z"
   },
   {
    "duration": 178,
    "start_time": "2023-03-14T15:31:00.935Z"
   },
   {
    "duration": 109,
    "start_time": "2023-03-14T15:31:05.748Z"
   },
   {
    "duration": 130,
    "start_time": "2023-03-14T15:31:07.823Z"
   },
   {
    "duration": 985,
    "start_time": "2023-03-14T15:34:09.897Z"
   },
   {
    "duration": 830,
    "start_time": "2023-03-14T15:34:23.628Z"
   },
   {
    "duration": 511,
    "start_time": "2023-03-14T15:34:33.998Z"
   },
   {
    "duration": 98,
    "start_time": "2023-03-14T15:35:04.306Z"
   },
   {
    "duration": 204,
    "start_time": "2023-03-14T15:35:13.098Z"
   },
   {
    "duration": 113,
    "start_time": "2023-03-14T15:35:15.876Z"
   },
   {
    "duration": 113,
    "start_time": "2023-03-14T15:35:17.095Z"
   },
   {
    "duration": 771,
    "start_time": "2023-03-14T15:35:46.772Z"
   },
   {
    "duration": 671,
    "start_time": "2023-03-14T15:36:06.995Z"
   },
   {
    "duration": 728,
    "start_time": "2023-03-14T15:36:31.748Z"
   },
   {
    "duration": 638,
    "start_time": "2023-03-14T15:36:50.926Z"
   },
   {
    "duration": 615,
    "start_time": "2023-03-14T15:37:00.435Z"
   },
   {
    "duration": 86,
    "start_time": "2023-03-14T15:38:06.615Z"
   },
   {
    "duration": 191,
    "start_time": "2023-03-14T15:38:16.500Z"
   },
   {
    "duration": 122,
    "start_time": "2023-03-14T15:38:20.324Z"
   },
   {
    "duration": 86,
    "start_time": "2023-03-14T15:38:23.974Z"
   },
   {
    "duration": 165,
    "start_time": "2023-03-14T15:38:40.772Z"
   },
   {
    "duration": 153,
    "start_time": "2023-03-14T15:38:48.099Z"
   },
   {
    "duration": 171,
    "start_time": "2023-03-14T15:39:10.667Z"
   },
   {
    "duration": 436,
    "start_time": "2023-03-14T15:39:31.609Z"
   },
   {
    "duration": 456,
    "start_time": "2023-03-14T15:41:53.308Z"
   },
   {
    "duration": 413,
    "start_time": "2023-03-14T15:42:16.002Z"
   },
   {
    "duration": 11,
    "start_time": "2023-03-14T15:42:34.336Z"
   },
   {
    "duration": 1054,
    "start_time": "2023-03-14T15:42:39.904Z"
   },
   {
    "duration": 24725,
    "start_time": "2023-03-14T15:42:46.048Z"
   },
   {
    "duration": 123,
    "start_time": "2023-03-14T17:47:46.810Z"
   },
   {
    "duration": 6637,
    "start_time": "2023-03-14T17:47:59.276Z"
   },
   {
    "duration": 9,
    "start_time": "2023-03-14T17:48:05.916Z"
   },
   {
    "duration": 806,
    "start_time": "2023-03-14T17:48:05.926Z"
   },
   {
    "duration": 141,
    "start_time": "2023-03-14T17:48:06.734Z"
   },
   {
    "duration": 5,
    "start_time": "2023-03-14T17:48:06.876Z"
   },
   {
    "duration": 56,
    "start_time": "2023-03-14T17:48:06.883Z"
   },
   {
    "duration": 93,
    "start_time": "2023-03-14T17:48:06.940Z"
   },
   {
    "duration": 191,
    "start_time": "2023-03-14T17:48:07.035Z"
   },
   {
    "duration": 247,
    "start_time": "2023-03-14T17:48:07.227Z"
   },
   {
    "duration": 2,
    "start_time": "2023-03-14T17:48:07.476Z"
   },
   {
    "duration": 8,
    "start_time": "2023-03-14T17:48:07.480Z"
   },
   {
    "duration": 1545,
    "start_time": "2023-03-14T17:48:07.490Z"
   },
   {
    "duration": 348,
    "start_time": "2023-03-14T17:48:09.036Z"
   },
   {
    "duration": 486,
    "start_time": "2023-03-14T17:48:09.385Z"
   },
   {
    "duration": 853,
    "start_time": "2023-03-14T17:48:09.873Z"
   },
   {
    "duration": 480,
    "start_time": "2023-03-14T17:48:10.728Z"
   },
   {
    "duration": 103,
    "start_time": "2023-03-14T17:48:11.210Z"
   },
   {
    "duration": 318,
    "start_time": "2023-03-14T17:48:11.314Z"
   },
   {
    "duration": 35,
    "start_time": "2023-03-14T17:48:11.633Z"
   },
   {
    "duration": 23,
    "start_time": "2023-03-14T17:48:11.669Z"
   },
   {
    "duration": 709,
    "start_time": "2023-03-14T17:48:11.694Z"
   },
   {
    "duration": 194,
    "start_time": "2023-03-14T17:48:12.404Z"
   },
   {
    "duration": 64,
    "start_time": "2023-03-14T17:48:12.600Z"
   },
   {
    "duration": 683,
    "start_time": "2023-03-14T17:48:12.666Z"
   },
   {
    "duration": 73,
    "start_time": "2023-03-14T17:48:13.351Z"
   },
   {
    "duration": 7,
    "start_time": "2023-03-14T17:48:13.426Z"
   },
   {
    "duration": 725,
    "start_time": "2023-03-14T17:48:13.435Z"
   },
   {
    "duration": 47,
    "start_time": "2023-03-14T17:48:14.167Z"
   },
   {
    "duration": 49,
    "start_time": "2023-03-14T17:48:14.216Z"
   },
   {
    "duration": 510,
    "start_time": "2023-03-14T17:48:14.267Z"
   },
   {
    "duration": 269,
    "start_time": "2023-03-14T17:48:14.778Z"
   },
   {
    "duration": 44,
    "start_time": "2023-03-14T17:48:15.049Z"
   },
   {
    "duration": 52,
    "start_time": "2023-03-14T17:48:15.095Z"
   },
   {
    "duration": 29,
    "start_time": "2023-03-14T17:48:15.149Z"
   },
   {
    "duration": 13,
    "start_time": "2023-03-14T17:48:15.180Z"
   },
   {
    "duration": 92,
    "start_time": "2023-03-14T17:48:15.195Z"
   },
   {
    "duration": 14,
    "start_time": "2023-03-14T17:48:15.289Z"
   },
   {
    "duration": 30,
    "start_time": "2023-03-14T17:48:15.305Z"
   },
   {
    "duration": 164,
    "start_time": "2023-03-14T17:48:15.336Z"
   },
   {
    "duration": 47,
    "start_time": "2023-03-14T17:48:15.502Z"
   },
   {
    "duration": 206,
    "start_time": "2023-03-14T17:48:15.550Z"
   },
   {
    "duration": 118,
    "start_time": "2023-03-14T17:48:15.765Z"
   },
   {
    "duration": 609,
    "start_time": "2023-03-14T17:48:15.885Z"
   },
   {
    "duration": 919,
    "start_time": "2023-03-14T17:48:16.496Z"
   },
   {
    "duration": 25848,
    "start_time": "2023-03-14T17:48:17.417Z"
   },
   {
    "duration": 3,
    "start_time": "2023-03-14T17:48:43.268Z"
   },
   {
    "duration": 22103,
    "start_time": "2023-03-14T17:48:43.273Z"
   },
   {
    "duration": 3,
    "start_time": "2023-03-14T17:49:05.465Z"
   },
   {
    "duration": 118,
    "start_time": "2023-03-14T17:49:05.469Z"
   },
   {
    "duration": 118,
    "start_time": "2023-03-14T17:49:05.588Z"
   },
   {
    "duration": 79,
    "start_time": "2023-03-14T17:49:05.708Z"
   },
   {
    "duration": 91,
    "start_time": "2023-03-14T17:49:05.788Z"
   },
   {
    "duration": 333814,
    "start_time": "2023-03-14T17:49:05.880Z"
   },
   {
    "duration": 624,
    "start_time": "2023-03-14T17:54:39.696Z"
   },
   {
    "duration": 142190,
    "start_time": "2023-03-14T17:54:40.322Z"
   },
   {
    "duration": 77,
    "start_time": "2023-03-14T17:57:02.514Z"
   },
   {
    "duration": 7,
    "start_time": "2023-03-14T17:57:02.593Z"
   },
   {
    "duration": 212,
    "start_time": "2023-03-14T17:57:02.603Z"
   },
   {
    "duration": 4,
    "start_time": "2023-03-14T17:57:02.817Z"
   },
   {
    "duration": 45051,
    "start_time": "2023-03-14T17:57:02.822Z"
   },
   {
    "duration": 53695,
    "start_time": "2023-03-14T17:57:47.875Z"
   },
   {
    "duration": 568107,
    "start_time": "2023-03-14T17:58:41.572Z"
   },
   {
    "duration": 13,
    "start_time": "2023-03-14T18:08:09.681Z"
   },
   {
    "duration": 102,
    "start_time": "2023-03-14T18:09:14.298Z"
   },
   {
    "duration": 115,
    "start_time": "2023-03-14T18:10:01.575Z"
   },
   {
    "duration": 105,
    "start_time": "2023-03-14T18:10:12.158Z"
   },
   {
    "duration": 1376,
    "start_time": "2023-03-14T18:11:21.896Z"
   },
   {
    "duration": 82,
    "start_time": "2023-03-14T18:11:46.037Z"
   },
   {
    "duration": 18,
    "start_time": "2023-03-14T18:11:56.270Z"
   },
   {
    "duration": 80,
    "start_time": "2023-03-14T18:13:56.865Z"
   },
   {
    "duration": 98,
    "start_time": "2023-03-14T18:14:10.147Z"
   },
   {
    "duration": 3,
    "start_time": "2023-03-14T18:14:51.496Z"
   },
   {
    "duration": 132,
    "start_time": "2023-03-14T18:14:52.702Z"
   },
   {
    "duration": 115,
    "start_time": "2023-03-14T18:15:10.537Z"
   },
   {
    "duration": 132,
    "start_time": "2023-03-14T18:15:20.046Z"
   },
   {
    "duration": 3,
    "start_time": "2023-03-14T18:16:28.713Z"
   },
   {
    "duration": 110,
    "start_time": "2023-03-14T18:16:30.446Z"
   },
   {
    "duration": 83,
    "start_time": "2023-03-14T18:16:55.942Z"
   },
   {
    "duration": 8603,
    "start_time": "2023-03-14T18:17:52.475Z"
   },
   {
    "duration": 87844,
    "start_time": "2023-03-14T18:18:06.101Z"
   },
   {
    "duration": 1927,
    "start_time": "2023-03-14T18:19:38.766Z"
   },
   {
    "duration": 952,
    "start_time": "2023-03-14T18:19:42.906Z"
   },
   {
    "duration": 63,
    "start_time": "2023-03-14T18:19:52.136Z"
   },
   {
    "duration": 10,
    "start_time": "2023-03-14T18:22:14.636Z"
   },
   {
    "duration": 4,
    "start_time": "2023-03-14T18:23:53.526Z"
   },
   {
    "duration": 10,
    "start_time": "2023-03-14T18:24:04.270Z"
   },
   {
    "duration": 106,
    "start_time": "2023-03-14T18:24:12.553Z"
   },
   {
    "duration": 10920,
    "start_time": "2023-03-14T18:24:15.734Z"
   },
   {
    "duration": 12,
    "start_time": "2023-03-14T18:25:04.361Z"
   },
   {
    "duration": 5,
    "start_time": "2023-03-14T18:25:13.088Z"
   },
   {
    "duration": 11,
    "start_time": "2023-03-14T18:25:21.812Z"
   },
   {
    "duration": 414,
    "start_time": "2023-03-14T18:29:08.718Z"
   },
   {
    "duration": 114,
    "start_time": "2023-03-14T18:29:16.125Z"
   },
   {
    "duration": 435,
    "start_time": "2023-03-14T18:29:18.269Z"
   },
   {
    "duration": 10599,
    "start_time": "2023-03-14T18:29:56.012Z"
   },
   {
    "duration": 17,
    "start_time": "2023-03-14T18:33:20.276Z"
   },
   {
    "duration": 971,
    "start_time": "2023-03-14T18:34:23.174Z"
   },
   {
    "duration": 1053,
    "start_time": "2023-03-14T18:36:34.115Z"
   },
   {
    "duration": 959,
    "start_time": "2023-03-14T18:36:42.999Z"
   },
   {
    "duration": 956,
    "start_time": "2023-03-14T18:37:16.417Z"
   },
   {
    "duration": 22431,
    "start_time": "2023-03-14T18:37:24.438Z"
   },
   {
    "duration": 6,
    "start_time": "2023-03-14T18:39:04.224Z"
   },
   {
    "duration": 2,
    "start_time": "2023-03-14T18:39:16.228Z"
   },
   {
    "duration": 21204,
    "start_time": "2023-03-14T18:39:16.861Z"
   },
   {
    "duration": 26711,
    "start_time": "2023-03-14T18:39:43.654Z"
   },
   {
    "duration": 25,
    "start_time": "2023-03-14T18:40:14.106Z"
   },
   {
    "duration": 26320,
    "start_time": "2023-03-14T18:41:22.791Z"
   },
   {
    "duration": 1087,
    "start_time": "2023-03-14T18:42:28.154Z"
   },
   {
    "duration": 1134,
    "start_time": "2023-03-14T18:42:48.828Z"
   },
   {
    "duration": 524,
    "start_time": "2023-03-14T18:43:19.615Z"
   },
   {
    "duration": 8866,
    "start_time": "2023-03-14T18:43:22.722Z"
   },
   {
    "duration": 26350,
    "start_time": "2023-03-14T18:43:31.590Z"
   },
   {
    "duration": 988,
    "start_time": "2023-03-14T18:43:57.942Z"
   },
   {
    "duration": 520,
    "start_time": "2023-03-14T18:43:58.932Z"
   },
   {
    "duration": 20,
    "start_time": "2023-03-14T18:46:52.667Z"
   },
   {
    "duration": 26,
    "start_time": "2023-03-14T18:48:11.793Z"
   },
   {
    "duration": 306584,
    "start_time": "2023-03-14T18:54:24.226Z"
   },
   {
    "duration": 91,
    "start_time": "2023-03-14T18:59:37.040Z"
   },
   {
    "duration": 32,
    "start_time": "2023-03-14T18:59:43.576Z"
   },
   {
    "duration": 14,
    "start_time": "2023-03-14T19:01:48.101Z"
   },
   {
    "duration": 6656,
    "start_time": "2023-03-14T19:01:56.238Z"
   },
   {
    "duration": 5,
    "start_time": "2023-03-14T19:02:02.896Z"
   },
   {
    "duration": 714,
    "start_time": "2023-03-14T19:02:02.902Z"
   },
   {
    "duration": 137,
    "start_time": "2023-03-14T19:02:03.618Z"
   },
   {
    "duration": 9,
    "start_time": "2023-03-14T19:02:03.756Z"
   },
   {
    "duration": 60,
    "start_time": "2023-03-14T19:02:03.766Z"
   },
   {
    "duration": 95,
    "start_time": "2023-03-14T19:02:03.828Z"
   },
   {
    "duration": 191,
    "start_time": "2023-03-14T19:02:03.925Z"
   },
   {
    "duration": 290,
    "start_time": "2023-03-14T19:02:04.118Z"
   },
   {
    "duration": 2,
    "start_time": "2023-03-14T19:02:04.412Z"
   },
   {
    "duration": 5,
    "start_time": "2023-03-14T19:02:04.416Z"
   },
   {
    "duration": 1524,
    "start_time": "2023-03-14T19:02:04.422Z"
   },
   {
    "duration": 395,
    "start_time": "2023-03-14T19:02:05.948Z"
   },
   {
    "duration": 392,
    "start_time": "2023-03-14T19:02:06.345Z"
   },
   {
    "duration": 852,
    "start_time": "2023-03-14T19:02:06.739Z"
   },
   {
    "duration": 741,
    "start_time": "2023-03-14T19:02:07.593Z"
   },
   {
    "duration": 100,
    "start_time": "2023-03-14T19:02:08.336Z"
   },
   {
    "duration": 326,
    "start_time": "2023-03-14T19:02:08.438Z"
   },
   {
    "duration": 30,
    "start_time": "2023-03-14T19:02:08.766Z"
   },
   {
    "duration": 8,
    "start_time": "2023-03-14T19:02:08.797Z"
   },
   {
    "duration": 740,
    "start_time": "2023-03-14T19:02:08.806Z"
   },
   {
    "duration": 200,
    "start_time": "2023-03-14T19:02:09.548Z"
   },
   {
    "duration": 59,
    "start_time": "2023-03-14T19:02:09.750Z"
   },
   {
    "duration": 715,
    "start_time": "2023-03-14T19:02:09.811Z"
   },
   {
    "duration": 74,
    "start_time": "2023-03-14T19:02:10.528Z"
   },
   {
    "duration": 7,
    "start_time": "2023-03-14T19:02:10.604Z"
   },
   {
    "duration": 710,
    "start_time": "2023-03-14T19:02:10.613Z"
   },
   {
    "duration": 46,
    "start_time": "2023-03-14T19:02:11.326Z"
   },
   {
    "duration": 22,
    "start_time": "2023-03-14T19:02:11.374Z"
   },
   {
    "duration": 502,
    "start_time": "2023-03-14T19:02:11.398Z"
   },
   {
    "duration": 237,
    "start_time": "2023-03-14T19:02:11.902Z"
   },
   {
    "duration": 48,
    "start_time": "2023-03-14T19:02:12.141Z"
   },
   {
    "duration": 49,
    "start_time": "2023-03-14T19:02:12.190Z"
   },
   {
    "duration": 32,
    "start_time": "2023-03-14T19:02:12.240Z"
   },
   {
    "duration": 10,
    "start_time": "2023-03-14T19:02:12.274Z"
   },
   {
    "duration": 78,
    "start_time": "2023-03-14T19:02:12.286Z"
   },
   {
    "duration": 15,
    "start_time": "2023-03-14T19:02:12.366Z"
   },
   {
    "duration": 17,
    "start_time": "2023-03-14T19:02:12.383Z"
   },
   {
    "duration": 147,
    "start_time": "2023-03-14T19:02:12.402Z"
   },
   {
    "duration": 62,
    "start_time": "2023-03-14T19:02:12.550Z"
   },
   {
    "duration": 216,
    "start_time": "2023-03-14T19:02:12.614Z"
   },
   {
    "duration": 128,
    "start_time": "2023-03-14T19:02:12.832Z"
   },
   {
    "duration": 420,
    "start_time": "2023-03-14T19:02:12.961Z"
   },
   {
    "duration": 968,
    "start_time": "2023-03-14T19:02:13.382Z"
   },
   {
    "duration": 2,
    "start_time": "2023-03-14T19:02:14.352Z"
   },
   {
    "duration": 21606,
    "start_time": "2023-03-14T19:02:14.364Z"
   },
   {
    "duration": 36501,
    "start_time": "2023-03-14T19:02:35.972Z"
   },
   {
    "duration": 8657,
    "start_time": "2023-03-14T19:03:12.565Z"
   },
   {
    "duration": 26519,
    "start_time": "2023-03-14T19:03:21.224Z"
   },
   {
    "duration": 1048,
    "start_time": "2023-03-14T19:03:47.745Z"
   },
   {
    "duration": 572,
    "start_time": "2023-03-14T19:03:48.795Z"
   },
   {
    "duration": 322741,
    "start_time": "2023-03-14T19:03:49.370Z"
   },
   {
    "duration": 569,
    "start_time": "2023-03-14T19:09:12.113Z"
   },
   {
    "duration": 324354,
    "start_time": "2023-03-14T19:09:12.684Z"
   },
   {
    "duration": 82,
    "start_time": "2023-03-14T19:14:37.040Z"
   },
   {
    "duration": 8,
    "start_time": "2023-03-14T19:14:37.124Z"
   },
   {
    "duration": 233,
    "start_time": "2023-03-14T19:14:37.133Z"
   },
   {
    "duration": 5,
    "start_time": "2023-03-14T19:14:37.368Z"
   },
   {
    "duration": 443092,
    "start_time": "2023-03-14T19:14:37.375Z"
   },
   {
    "duration": 67609,
    "start_time": "2023-03-14T19:22:00.468Z"
   },
   {
    "duration": 570486,
    "start_time": "2023-03-14T19:23:08.080Z"
   },
   {
    "duration": 34,
    "start_time": "2023-03-14T19:32:38.568Z"
   },
   {
    "duration": 76,
    "start_time": "2023-03-14T19:36:19.438Z"
   },
   {
    "duration": 188,
    "start_time": "2023-03-14T19:36:28.414Z"
   },
   {
    "duration": 137,
    "start_time": "2023-03-14T19:36:28.605Z"
   },
   {
    "duration": 425,
    "start_time": "2023-03-14T19:36:28.744Z"
   },
   {
    "duration": 1019,
    "start_time": "2023-03-14T19:36:29.172Z"
   },
   {
    "duration": 2,
    "start_time": "2023-03-14T19:36:30.193Z"
   },
   {
    "duration": 25903,
    "start_time": "2023-03-14T19:36:30.197Z"
   },
   {
    "duration": 24771,
    "start_time": "2023-03-14T19:36:56.102Z"
   },
   {
    "duration": 8963,
    "start_time": "2023-03-14T19:37:20.875Z"
   },
   {
    "duration": 26056,
    "start_time": "2023-03-14T19:37:29.840Z"
   },
   {
    "duration": 1106,
    "start_time": "2023-03-14T19:37:55.899Z"
   },
   {
    "duration": 518,
    "start_time": "2023-03-14T19:37:57.007Z"
   },
   {
    "duration": 63533,
    "start_time": "2023-03-14T19:37:57.527Z"
   },
   {
    "duration": 298,
    "start_time": "2023-03-14T19:39:01.062Z"
   },
   {
    "duration": 200930,
    "start_time": "2023-03-14T19:39:01.361Z"
   },
   {
    "duration": 76,
    "start_time": "2023-03-14T19:42:22.293Z"
   },
   {
    "duration": 6,
    "start_time": "2023-03-14T19:42:22.371Z"
   },
   {
    "duration": 214,
    "start_time": "2023-03-14T19:42:22.379Z"
   },
   {
    "duration": 4,
    "start_time": "2023-03-14T19:42:22.595Z"
   },
   {
    "duration": 244268,
    "start_time": "2023-03-14T19:42:22.600Z"
   },
   {
    "duration": 48008,
    "start_time": "2023-03-14T19:46:26.870Z"
   },
   {
    "duration": 560819,
    "start_time": "2023-03-14T19:47:14.880Z"
   },
   {
    "duration": 83,
    "start_time": "2023-03-14T19:56:35.701Z"
   },
   {
    "duration": 567,
    "start_time": "2023-03-14T19:56:35.785Z"
   },
   {
    "duration": 557,
    "start_time": "2023-03-14T19:57:09.498Z"
   },
   {
    "duration": 332,
    "start_time": "2023-03-14T19:57:23.763Z"
   },
   {
    "duration": 252,
    "start_time": "2023-03-14T19:57:44.169Z"
   },
   {
    "duration": 21,
    "start_time": "2023-03-14T19:57:52.212Z"
   },
   {
    "duration": 59,
    "start_time": "2023-03-15T10:02:18.220Z"
   },
   {
    "duration": 8964,
    "start_time": "2023-03-15T10:02:24.023Z"
   },
   {
    "duration": 1558,
    "start_time": "2023-03-15T10:02:32.989Z"
   },
   {
    "duration": 2789,
    "start_time": "2023-03-15T10:02:34.549Z"
   },
   {
    "duration": 163,
    "start_time": "2023-03-15T10:02:37.341Z"
   },
   {
    "duration": 3,
    "start_time": "2023-03-15T10:02:37.506Z"
   },
   {
    "duration": 84,
    "start_time": "2023-03-15T10:02:37.511Z"
   },
   {
    "duration": 147,
    "start_time": "2023-03-15T10:02:37.597Z"
   },
   {
    "duration": 221,
    "start_time": "2023-03-15T10:02:37.746Z"
   },
   {
    "duration": 262,
    "start_time": "2023-03-15T10:02:37.968Z"
   },
   {
    "duration": 3,
    "start_time": "2023-03-15T10:02:38.233Z"
   },
   {
    "duration": 5,
    "start_time": "2023-03-15T10:02:38.237Z"
   },
   {
    "duration": 1803,
    "start_time": "2023-03-15T10:02:38.244Z"
   },
   {
    "duration": 400,
    "start_time": "2023-03-15T10:02:40.049Z"
   },
   {
    "duration": 424,
    "start_time": "2023-03-15T10:02:40.451Z"
   },
   {
    "duration": 1034,
    "start_time": "2023-03-15T10:02:40.877Z"
   },
   {
    "duration": 386,
    "start_time": "2023-03-15T10:02:41.913Z"
   },
   {
    "duration": 113,
    "start_time": "2023-03-15T10:02:42.301Z"
   },
   {
    "duration": 374,
    "start_time": "2023-03-15T10:02:42.416Z"
   },
   {
    "duration": 39,
    "start_time": "2023-03-15T10:02:42.791Z"
   },
   {
    "duration": 25,
    "start_time": "2023-03-15T10:02:42.831Z"
   },
   {
    "duration": 787,
    "start_time": "2023-03-15T10:02:42.858Z"
   },
   {
    "duration": 209,
    "start_time": "2023-03-15T10:02:43.646Z"
   },
   {
    "duration": 72,
    "start_time": "2023-03-15T10:02:43.857Z"
   },
   {
    "duration": 749,
    "start_time": "2023-03-15T10:02:43.931Z"
   },
   {
    "duration": 85,
    "start_time": "2023-03-15T10:02:44.682Z"
   },
   {
    "duration": 8,
    "start_time": "2023-03-15T10:02:44.769Z"
   },
   {
    "duration": 804,
    "start_time": "2023-03-15T10:02:44.778Z"
   },
   {
    "duration": 56,
    "start_time": "2023-03-15T10:02:45.586Z"
   },
   {
    "duration": 26,
    "start_time": "2023-03-15T10:02:45.644Z"
   },
   {
    "duration": 718,
    "start_time": "2023-03-15T10:02:45.672Z"
   },
   {
    "duration": 254,
    "start_time": "2023-03-15T10:02:46.392Z"
   },
   {
    "duration": 40,
    "start_time": "2023-03-15T10:02:46.648Z"
   },
   {
    "duration": 69,
    "start_time": "2023-03-15T10:02:46.690Z"
   },
   {
    "duration": 15,
    "start_time": "2023-03-15T10:02:46.760Z"
   },
   {
    "duration": 10,
    "start_time": "2023-03-15T10:02:46.777Z"
   },
   {
    "duration": 68,
    "start_time": "2023-03-15T10:02:46.788Z"
   },
   {
    "duration": 15,
    "start_time": "2023-03-15T10:02:46.858Z"
   },
   {
    "duration": 19,
    "start_time": "2023-03-15T10:02:46.874Z"
   },
   {
    "duration": 165,
    "start_time": "2023-03-15T10:02:46.894Z"
   },
   {
    "duration": 48,
    "start_time": "2023-03-15T10:02:47.061Z"
   },
   {
    "duration": 192,
    "start_time": "2023-03-15T10:02:47.124Z"
   },
   {
    "duration": 163,
    "start_time": "2023-03-15T10:02:47.318Z"
   },
   {
    "duration": 452,
    "start_time": "2023-03-15T10:02:47.483Z"
   },
   {
    "duration": 1289,
    "start_time": "2023-03-15T10:02:47.937Z"
   },
   {
    "duration": 3,
    "start_time": "2023-03-15T10:02:49.228Z"
   },
   {
    "duration": 24709,
    "start_time": "2023-03-15T10:02:49.233Z"
   },
   {
    "duration": 37681,
    "start_time": "2023-03-15T10:03:13.947Z"
   },
   {
    "duration": 9375,
    "start_time": "2023-03-15T10:03:51.634Z"
   },
   {
    "duration": 31707,
    "start_time": "2023-03-15T10:04:01.011Z"
   },
   {
    "duration": 1002,
    "start_time": "2023-03-15T10:04:32.724Z"
   },
   {
    "duration": 271,
    "start_time": "2023-03-15T10:04:33.728Z"
   },
   {
    "duration": 69386,
    "start_time": "2023-03-15T10:04:34.000Z"
   },
   {
    "duration": 313,
    "start_time": "2023-03-15T10:05:43.387Z"
   },
   {
    "duration": 206803,
    "start_time": "2023-03-15T10:05:43.701Z"
   },
   {
    "duration": 95,
    "start_time": "2023-03-15T10:09:10.506Z"
   },
   {
    "duration": 7,
    "start_time": "2023-03-15T10:09:10.603Z"
   },
   {
    "duration": 238,
    "start_time": "2023-03-15T10:09:10.611Z"
   },
   {
    "duration": 5,
    "start_time": "2023-03-15T10:09:10.851Z"
   },
   {
    "duration": 425079,
    "start_time": "2023-03-15T10:09:10.857Z"
   },
   {
    "duration": 448901,
    "start_time": "2023-03-15T10:16:15.938Z"
   },
   {
    "duration": 576603,
    "start_time": "2023-03-15T10:23:44.841Z"
   },
   {
    "duration": 131,
    "start_time": "2023-03-15T10:33:21.446Z"
   },
   {
    "duration": 24,
    "start_time": "2023-03-15T10:33:21.578Z"
   },
   {
    "duration": 633,
    "start_time": "2023-03-15T10:33:21.604Z"
   },
   {
    "duration": 167,
    "start_time": "2023-03-15T10:46:27.118Z"
   },
   {
    "duration": 6466,
    "start_time": "2023-03-15T10:48:16.466Z"
   },
   {
    "duration": 1343,
    "start_time": "2023-03-15T10:48:22.935Z"
   },
   {
    "duration": 809,
    "start_time": "2023-03-15T10:48:24.280Z"
   },
   {
    "duration": 140,
    "start_time": "2023-03-15T10:48:25.092Z"
   },
   {
    "duration": 4,
    "start_time": "2023-03-15T10:48:25.234Z"
   },
   {
    "duration": 53,
    "start_time": "2023-03-15T10:48:25.240Z"
   },
   {
    "duration": 111,
    "start_time": "2023-03-15T10:48:25.294Z"
   },
   {
    "duration": 199,
    "start_time": "2023-03-15T10:48:25.407Z"
   },
   {
    "duration": 248,
    "start_time": "2023-03-15T10:48:25.608Z"
   },
   {
    "duration": 3,
    "start_time": "2023-03-15T10:48:25.858Z"
   },
   {
    "duration": 4,
    "start_time": "2023-03-15T10:48:25.863Z"
   },
   {
    "duration": 1683,
    "start_time": "2023-03-15T10:48:25.869Z"
   },
   {
    "duration": 364,
    "start_time": "2023-03-15T10:48:27.554Z"
   },
   {
    "duration": 360,
    "start_time": "2023-03-15T10:48:27.924Z"
   },
   {
    "duration": 1034,
    "start_time": "2023-03-15T10:48:28.286Z"
   },
   {
    "duration": 356,
    "start_time": "2023-03-15T10:48:29.324Z"
   },
   {
    "duration": 117,
    "start_time": "2023-03-15T10:48:29.682Z"
   },
   {
    "duration": 351,
    "start_time": "2023-03-15T10:48:29.801Z"
   },
   {
    "duration": 29,
    "start_time": "2023-03-15T10:48:30.154Z"
   },
   {
    "duration": 23,
    "start_time": "2023-03-15T10:48:30.185Z"
   },
   {
    "duration": 830,
    "start_time": "2023-03-15T10:48:30.209Z"
   },
   {
    "duration": 219,
    "start_time": "2023-03-15T10:48:31.041Z"
   },
   {
    "duration": 67,
    "start_time": "2023-03-15T10:48:31.261Z"
   },
   {
    "duration": 753,
    "start_time": "2023-03-15T10:48:31.330Z"
   },
   {
    "duration": 101,
    "start_time": "2023-03-15T10:48:32.084Z"
   },
   {
    "duration": 9,
    "start_time": "2023-03-15T10:48:32.187Z"
   },
   {
    "duration": 732,
    "start_time": "2023-03-15T10:48:32.198Z"
   },
   {
    "duration": 44,
    "start_time": "2023-03-15T10:48:32.935Z"
   },
   {
    "duration": 47,
    "start_time": "2023-03-15T10:48:32.981Z"
   },
   {
    "duration": 628,
    "start_time": "2023-03-15T10:48:33.029Z"
   },
   {
    "duration": 251,
    "start_time": "2023-03-15T10:48:33.659Z"
   },
   {
    "duration": 48,
    "start_time": "2023-03-15T10:48:33.913Z"
   },
   {
    "duration": 62,
    "start_time": "2023-03-15T10:48:33.962Z"
   },
   {
    "duration": 16,
    "start_time": "2023-03-15T10:48:34.026Z"
   },
   {
    "duration": 10,
    "start_time": "2023-03-15T10:48:34.043Z"
   },
   {
    "duration": 81,
    "start_time": "2023-03-15T10:48:34.055Z"
   },
   {
    "duration": 16,
    "start_time": "2023-03-15T10:48:34.138Z"
   },
   {
    "duration": 16,
    "start_time": "2023-03-15T10:48:34.156Z"
   },
   {
    "duration": 179,
    "start_time": "2023-03-15T10:48:34.174Z"
   },
   {
    "duration": 51,
    "start_time": "2023-03-15T10:48:34.355Z"
   },
   {
    "duration": 206,
    "start_time": "2023-03-15T10:48:34.424Z"
   },
   {
    "duration": 142,
    "start_time": "2023-03-15T10:48:34.632Z"
   },
   {
    "duration": 430,
    "start_time": "2023-03-15T10:48:34.775Z"
   },
   {
    "duration": 976,
    "start_time": "2023-03-15T10:48:35.207Z"
   },
   {
    "duration": 3,
    "start_time": "2023-03-15T10:48:36.186Z"
   },
   {
    "duration": 19535,
    "start_time": "2023-03-15T10:48:36.190Z"
   },
   {
    "duration": 18500,
    "start_time": "2023-03-15T10:48:55.728Z"
   },
   {
    "duration": 9144,
    "start_time": "2023-03-15T10:49:14.234Z"
   },
   {
    "duration": 26225,
    "start_time": "2023-03-15T10:49:23.380Z"
   },
   {
    "duration": 975,
    "start_time": "2023-03-15T10:49:49.607Z"
   },
   {
    "duration": 259,
    "start_time": "2023-03-15T10:49:50.584Z"
   },
   {
    "duration": 61331,
    "start_time": "2023-03-15T10:49:50.845Z"
   },
   {
    "duration": 297,
    "start_time": "2023-03-15T10:50:52.178Z"
   },
   {
    "duration": 191059,
    "start_time": "2023-03-15T10:50:52.477Z"
   },
   {
    "duration": 87,
    "start_time": "2023-03-15T10:54:03.538Z"
   },
   {
    "duration": 7,
    "start_time": "2023-03-15T10:54:03.626Z"
   },
   {
    "duration": 215,
    "start_time": "2023-03-15T10:54:03.634Z"
   },
   {
    "duration": 4,
    "start_time": "2023-03-15T10:54:03.851Z"
   },
   {
    "duration": 42373,
    "start_time": "2023-03-15T10:54:03.856Z"
   },
   {
    "duration": 43120,
    "start_time": "2023-03-15T10:54:46.231Z"
   },
   {
    "duration": 2,
    "start_time": "2023-03-15T10:55:29.353Z"
   },
   {
    "duration": 15,
    "start_time": "2023-03-15T10:55:29.357Z"
   },
   {
    "duration": 0,
    "start_time": "2023-03-15T10:55:29.374Z"
   },
   {
    "duration": 0,
    "start_time": "2023-03-15T10:55:29.376Z"
   },
   {
    "duration": 34074,
    "start_time": "2023-03-15T11:01:11.768Z"
   },
   {
    "duration": 47,
    "start_time": "2023-03-15T11:02:41.541Z"
   },
   {
    "duration": 43,
    "start_time": "2023-03-15T11:02:50.231Z"
   },
   {
    "duration": 18,
    "start_time": "2023-03-15T11:03:04.245Z"
   },
   {
    "duration": 81,
    "start_time": "2023-03-15T11:30:51.737Z"
   },
   {
    "duration": 988,
    "start_time": "2023-03-15T11:31:01.925Z"
   },
   {
    "duration": 38121,
    "start_time": "2023-03-15T11:31:07.404Z"
   },
   {
    "duration": 31717,
    "start_time": "2023-03-15T11:33:56.717Z"
   },
   {
    "duration": 116,
    "start_time": "2023-03-15T11:34:52.432Z"
   },
   {
    "duration": 6493,
    "start_time": "2023-03-15T11:39:23.701Z"
   },
   {
    "duration": 4,
    "start_time": "2023-03-15T11:39:30.197Z"
   },
   {
    "duration": 792,
    "start_time": "2023-03-15T11:39:30.203Z"
   },
   {
    "duration": 141,
    "start_time": "2023-03-15T11:39:30.997Z"
   },
   {
    "duration": 12,
    "start_time": "2023-03-15T11:39:31.140Z"
   },
   {
    "duration": 93,
    "start_time": "2023-03-15T11:39:31.154Z"
   },
   {
    "duration": 99,
    "start_time": "2023-03-15T11:39:31.249Z"
   },
   {
    "duration": 210,
    "start_time": "2023-03-15T11:39:31.350Z"
   },
   {
    "duration": 254,
    "start_time": "2023-03-15T11:39:31.562Z"
   },
   {
    "duration": 2,
    "start_time": "2023-03-15T11:39:31.823Z"
   },
   {
    "duration": 25,
    "start_time": "2023-03-15T11:39:31.827Z"
   },
   {
    "duration": 1563,
    "start_time": "2023-03-15T11:39:31.854Z"
   },
   {
    "duration": 371,
    "start_time": "2023-03-15T11:39:33.419Z"
   },
   {
    "duration": 535,
    "start_time": "2023-03-15T11:39:33.792Z"
   },
   {
    "duration": 873,
    "start_time": "2023-03-15T11:39:34.329Z"
   },
   {
    "duration": 511,
    "start_time": "2023-03-15T11:39:35.204Z"
   },
   {
    "duration": 120,
    "start_time": "2023-03-15T11:39:35.717Z"
   },
   {
    "duration": 343,
    "start_time": "2023-03-15T11:39:35.839Z"
   },
   {
    "duration": 43,
    "start_time": "2023-03-15T11:39:36.183Z"
   },
   {
    "duration": 6,
    "start_time": "2023-03-15T11:39:36.227Z"
   },
   {
    "duration": 810,
    "start_time": "2023-03-15T11:39:36.234Z"
   },
   {
    "duration": 222,
    "start_time": "2023-03-15T11:39:37.045Z"
   },
   {
    "duration": 69,
    "start_time": "2023-03-15T11:39:37.268Z"
   },
   {
    "duration": 731,
    "start_time": "2023-03-15T11:39:37.339Z"
   },
   {
    "duration": 95,
    "start_time": "2023-03-15T11:39:38.071Z"
   },
   {
    "duration": 8,
    "start_time": "2023-03-15T11:39:38.168Z"
   },
   {
    "duration": 767,
    "start_time": "2023-03-15T11:39:38.177Z"
   },
   {
    "duration": 52,
    "start_time": "2023-03-15T11:39:38.948Z"
   },
   {
    "duration": 40,
    "start_time": "2023-03-15T11:39:39.001Z"
   },
   {
    "duration": 486,
    "start_time": "2023-03-15T11:39:39.043Z"
   },
   {
    "duration": 250,
    "start_time": "2023-03-15T11:39:39.531Z"
   },
   {
    "duration": 48,
    "start_time": "2023-03-15T11:39:39.782Z"
   },
   {
    "duration": 48,
    "start_time": "2023-03-15T11:39:39.831Z"
   },
   {
    "duration": 13,
    "start_time": "2023-03-15T11:39:39.881Z"
   },
   {
    "duration": 34,
    "start_time": "2023-03-15T11:39:39.895Z"
   },
   {
    "duration": 64,
    "start_time": "2023-03-15T11:39:39.930Z"
   },
   {
    "duration": 32,
    "start_time": "2023-03-15T11:39:39.996Z"
   },
   {
    "duration": 43,
    "start_time": "2023-03-15T11:39:40.029Z"
   },
   {
    "duration": 151,
    "start_time": "2023-03-15T11:39:40.074Z"
   },
   {
    "duration": 47,
    "start_time": "2023-03-15T11:39:40.227Z"
   },
   {
    "duration": 233,
    "start_time": "2023-03-15T11:39:40.277Z"
   },
   {
    "duration": 292,
    "start_time": "2023-03-15T11:39:40.512Z"
   },
   {
    "duration": 463,
    "start_time": "2023-03-15T11:39:40.805Z"
   },
   {
    "duration": 1042,
    "start_time": "2023-03-15T11:39:41.269Z"
   },
   {
    "duration": 2,
    "start_time": "2023-03-15T11:39:42.312Z"
   },
   {
    "duration": 33224,
    "start_time": "2023-03-15T11:39:42.324Z"
   },
   {
    "duration": 212,
    "start_time": "2023-03-15T11:40:15.624Z"
   },
   {
    "duration": 85,
    "start_time": "2023-03-15T11:40:15.839Z"
   },
   {
    "duration": 25700,
    "start_time": "2023-03-15T11:40:15.927Z"
   },
   {
    "duration": 1032,
    "start_time": "2023-03-15T11:40:41.629Z"
   },
   {
    "duration": 3,
    "start_time": "2023-03-15T11:40:42.663Z"
   },
   {
    "duration": 5,
    "start_time": "2023-03-15T11:40:42.668Z"
   },
   {
    "duration": 10,
    "start_time": "2023-03-15T11:40:42.675Z"
   },
   {
    "duration": 193706,
    "start_time": "2023-03-15T11:40:42.686Z"
   },
   {
    "duration": 41,
    "start_time": "2023-03-15T11:43:56.394Z"
   },
   {
    "duration": 6,
    "start_time": "2023-03-15T11:43:56.437Z"
   },
   {
    "duration": 246,
    "start_time": "2023-03-15T11:43:56.444Z"
   },
   {
    "duration": 5,
    "start_time": "2023-03-15T11:43:56.692Z"
   },
   {
    "duration": 40649,
    "start_time": "2023-03-15T11:43:56.699Z"
   },
   {
    "duration": 35686,
    "start_time": "2023-03-15T11:44:37.350Z"
   },
   {
    "duration": 609346,
    "start_time": "2023-03-15T11:45:13.038Z"
   },
   {
    "duration": 84,
    "start_time": "2023-03-15T11:55:22.386Z"
   },
   {
    "duration": 23,
    "start_time": "2023-03-15T11:55:22.472Z"
   },
   {
    "duration": 38,
    "start_time": "2023-03-15T11:55:22.497Z"
   },
   {
    "duration": 0,
    "start_time": "2023-03-15T11:55:22.537Z"
   },
   {
    "duration": 611,
    "start_time": "2023-03-15T11:56:14.988Z"
   },
   {
    "duration": 7173,
    "start_time": "2023-03-15T12:02:42.518Z"
   },
   {
    "duration": 1562,
    "start_time": "2023-03-15T12:02:49.694Z"
   },
   {
    "duration": 961,
    "start_time": "2023-03-15T12:02:51.257Z"
   },
   {
    "duration": 211,
    "start_time": "2023-03-15T12:02:52.225Z"
   },
   {
    "duration": 4,
    "start_time": "2023-03-15T12:02:52.438Z"
   },
   {
    "duration": 81,
    "start_time": "2023-03-15T12:02:52.444Z"
   },
   {
    "duration": 113,
    "start_time": "2023-03-15T12:02:52.527Z"
   },
   {
    "duration": 206,
    "start_time": "2023-03-15T12:02:52.642Z"
   },
   {
    "duration": 290,
    "start_time": "2023-03-15T12:02:52.849Z"
   },
   {
    "duration": 2,
    "start_time": "2023-03-15T12:02:53.142Z"
   },
   {
    "duration": 6,
    "start_time": "2023-03-15T12:02:53.146Z"
   },
   {
    "duration": 1764,
    "start_time": "2023-03-15T12:02:53.154Z"
   },
   {
    "duration": 401,
    "start_time": "2023-03-15T12:02:54.923Z"
   },
   {
    "duration": 391,
    "start_time": "2023-03-15T12:02:55.326Z"
   },
   {
    "duration": 1011,
    "start_time": "2023-03-15T12:02:55.723Z"
   },
   {
    "duration": 369,
    "start_time": "2023-03-15T12:02:56.736Z"
   },
   {
    "duration": 137,
    "start_time": "2023-03-15T12:02:57.106Z"
   },
   {
    "duration": 352,
    "start_time": "2023-03-15T12:02:57.245Z"
   },
   {
    "duration": 35,
    "start_time": "2023-03-15T12:02:57.599Z"
   },
   {
    "duration": 6,
    "start_time": "2023-03-15T12:02:57.636Z"
   },
   {
    "duration": 809,
    "start_time": "2023-03-15T12:02:57.644Z"
   },
   {
    "duration": 211,
    "start_time": "2023-03-15T12:02:58.455Z"
   },
   {
    "duration": 78,
    "start_time": "2023-03-15T12:02:58.668Z"
   },
   {
    "duration": 778,
    "start_time": "2023-03-15T12:02:58.747Z"
   },
   {
    "duration": 87,
    "start_time": "2023-03-15T12:02:59.527Z"
   },
   {
    "duration": 7,
    "start_time": "2023-03-15T12:02:59.624Z"
   },
   {
    "duration": 747,
    "start_time": "2023-03-15T12:02:59.633Z"
   },
   {
    "duration": 64,
    "start_time": "2023-03-15T12:03:00.385Z"
   },
   {
    "duration": 41,
    "start_time": "2023-03-15T12:03:00.451Z"
   },
   {
    "duration": 704,
    "start_time": "2023-03-15T12:03:00.494Z"
   },
   {
    "duration": 266,
    "start_time": "2023-03-15T12:03:01.200Z"
   },
   {
    "duration": 42,
    "start_time": "2023-03-15T12:03:01.468Z"
   },
   {
    "duration": 64,
    "start_time": "2023-03-15T12:03:01.528Z"
   },
   {
    "duration": 16,
    "start_time": "2023-03-15T12:03:01.594Z"
   },
   {
    "duration": 24,
    "start_time": "2023-03-15T12:03:01.623Z"
   },
   {
    "duration": 92,
    "start_time": "2023-03-15T12:03:01.649Z"
   },
   {
    "duration": 30,
    "start_time": "2023-03-15T12:03:01.743Z"
   },
   {
    "duration": 37,
    "start_time": "2023-03-15T12:03:01.774Z"
   },
   {
    "duration": 154,
    "start_time": "2023-03-15T12:03:01.813Z"
   },
   {
    "duration": 56,
    "start_time": "2023-03-15T12:03:01.969Z"
   },
   {
    "duration": 198,
    "start_time": "2023-03-15T12:03:02.026Z"
   },
   {
    "duration": 164,
    "start_time": "2023-03-15T12:03:02.226Z"
   },
   {
    "duration": 455,
    "start_time": "2023-03-15T12:03:02.392Z"
   },
   {
    "duration": 1019,
    "start_time": "2023-03-15T12:03:02.849Z"
   },
   {
    "duration": 2,
    "start_time": "2023-03-15T12:03:03.870Z"
   },
   {
    "duration": 45554,
    "start_time": "2023-03-15T12:03:03.874Z"
   },
   {
    "duration": 294,
    "start_time": "2023-03-15T12:03:49.431Z"
   },
   {
    "duration": 3,
    "start_time": "2023-03-15T12:03:49.729Z"
   },
   {
    "duration": 27401,
    "start_time": "2023-03-15T12:03:49.825Z"
   },
   {
    "duration": 1013,
    "start_time": "2023-03-15T12:04:17.228Z"
   },
   {
    "duration": 3,
    "start_time": "2023-03-15T12:04:18.242Z"
   },
   {
    "duration": 4,
    "start_time": "2023-03-15T12:04:18.247Z"
   },
   {
    "duration": 8,
    "start_time": "2023-03-15T12:04:18.252Z"
   },
   {
    "duration": 202512,
    "start_time": "2023-03-15T12:04:18.262Z"
   },
   {
    "duration": 46,
    "start_time": "2023-03-15T12:07:40.775Z"
   },
   {
    "duration": 8,
    "start_time": "2023-03-15T12:07:40.823Z"
   },
   {
    "duration": 252,
    "start_time": "2023-03-15T12:07:40.833Z"
   },
   {
    "duration": 5,
    "start_time": "2023-03-15T12:07:41.087Z"
   },
   {
    "duration": 7689,
    "start_time": "2023-03-15T12:25:38.523Z"
   },
   {
    "duration": 1548,
    "start_time": "2023-03-15T12:25:46.214Z"
   },
   {
    "duration": 938,
    "start_time": "2023-03-15T12:25:47.764Z"
   },
   {
    "duration": 161,
    "start_time": "2023-03-15T12:25:48.705Z"
   },
   {
    "duration": 4,
    "start_time": "2023-03-15T12:25:48.867Z"
   },
   {
    "duration": 82,
    "start_time": "2023-03-15T12:25:48.873Z"
   },
   {
    "duration": 122,
    "start_time": "2023-03-15T12:25:48.957Z"
   },
   {
    "duration": 315,
    "start_time": "2023-03-15T12:25:49.082Z"
   },
   {
    "duration": 312,
    "start_time": "2023-03-15T12:25:49.399Z"
   },
   {
    "duration": 11,
    "start_time": "2023-03-15T12:25:49.715Z"
   },
   {
    "duration": 9,
    "start_time": "2023-03-15T12:25:49.728Z"
   },
   {
    "duration": 2042,
    "start_time": "2023-03-15T12:25:49.739Z"
   },
   {
    "duration": 427,
    "start_time": "2023-03-15T12:25:51.783Z"
   },
   {
    "duration": 444,
    "start_time": "2023-03-15T12:25:52.213Z"
   },
   {
    "duration": 1091,
    "start_time": "2023-03-15T12:25:52.659Z"
   },
   {
    "duration": 411,
    "start_time": "2023-03-15T12:25:53.752Z"
   },
   {
    "duration": 132,
    "start_time": "2023-03-15T12:25:54.166Z"
   },
   {
    "duration": 408,
    "start_time": "2023-03-15T12:25:54.300Z"
   },
   {
    "duration": 40,
    "start_time": "2023-03-15T12:25:54.710Z"
   },
   {
    "duration": 6,
    "start_time": "2023-03-15T12:25:54.752Z"
   },
   {
    "duration": 866,
    "start_time": "2023-03-15T12:25:54.759Z"
   },
   {
    "duration": 232,
    "start_time": "2023-03-15T12:25:55.630Z"
   },
   {
    "duration": 80,
    "start_time": "2023-03-15T12:25:55.865Z"
   },
   {
    "duration": 810,
    "start_time": "2023-03-15T12:25:55.947Z"
   },
   {
    "duration": 120,
    "start_time": "2023-03-15T12:25:56.758Z"
   },
   {
    "duration": 10,
    "start_time": "2023-03-15T12:25:56.880Z"
   },
   {
    "duration": 844,
    "start_time": "2023-03-15T12:25:56.892Z"
   },
   {
    "duration": 63,
    "start_time": "2023-03-15T12:25:57.742Z"
   },
   {
    "duration": 53,
    "start_time": "2023-03-15T12:25:57.808Z"
   },
   {
    "duration": 728,
    "start_time": "2023-03-15T12:25:57.863Z"
   },
   {
    "duration": 301,
    "start_time": "2023-03-15T12:25:58.593Z"
   },
   {
    "duration": 78,
    "start_time": "2023-03-15T12:25:58.896Z"
   },
   {
    "duration": 92,
    "start_time": "2023-03-15T12:25:58.979Z"
   },
   {
    "duration": 19,
    "start_time": "2023-03-15T12:25:59.078Z"
   },
   {
    "duration": 25,
    "start_time": "2023-03-15T12:25:59.099Z"
   },
   {
    "duration": 71,
    "start_time": "2023-03-15T12:25:59.127Z"
   },
   {
    "duration": 29,
    "start_time": "2023-03-15T12:25:59.201Z"
   },
   {
    "duration": 31,
    "start_time": "2023-03-15T12:25:59.232Z"
   },
   {
    "duration": 204,
    "start_time": "2023-03-15T12:25:59.265Z"
   },
   {
    "duration": 72,
    "start_time": "2023-03-15T12:25:59.470Z"
   },
   {
    "duration": 223,
    "start_time": "2023-03-15T12:25:59.544Z"
   },
   {
    "duration": 174,
    "start_time": "2023-03-15T12:25:59.769Z"
   },
   {
    "duration": 509,
    "start_time": "2023-03-15T12:25:59.945Z"
   },
   {
    "duration": 1360,
    "start_time": "2023-03-15T12:26:00.457Z"
   },
   {
    "duration": 12,
    "start_time": "2023-03-15T12:26:01.823Z"
   },
   {
    "duration": 92201,
    "start_time": "2023-03-15T12:26:01.837Z"
   },
   {
    "duration": 287,
    "start_time": "2023-03-15T12:27:34.041Z"
   },
   {
    "duration": 2,
    "start_time": "2023-03-15T12:27:34.330Z"
   },
   {
    "duration": 103490,
    "start_time": "2023-03-15T12:27:34.335Z"
   },
   {
    "duration": 1077,
    "start_time": "2023-03-15T12:29:17.829Z"
   },
   {
    "duration": 2,
    "start_time": "2023-03-15T12:29:18.908Z"
   },
   {
    "duration": 5,
    "start_time": "2023-03-15T12:29:18.924Z"
   },
   {
    "duration": 6,
    "start_time": "2023-03-15T12:29:18.931Z"
   },
   {
    "duration": 152395,
    "start_time": "2023-03-15T12:29:18.941Z"
   },
   {
    "duration": 48,
    "start_time": "2023-03-15T12:31:51.338Z"
   },
   {
    "duration": 8,
    "start_time": "2023-03-15T12:31:51.387Z"
   },
   {
    "duration": 253,
    "start_time": "2023-03-15T12:31:51.397Z"
   },
   {
    "duration": 4,
    "start_time": "2023-03-15T12:31:51.652Z"
   }
  ],
  "colab": {
   "provenance": [],
   "toc_visible": true
  },
  "kernelspec": {
   "display_name": "Python 3 (ipykernel)",
   "language": "python",
   "name": "python3"
  },
  "language_info": {
   "codemirror_mode": {
    "name": "ipython",
    "version": 3
   },
   "file_extension": ".py",
   "mimetype": "text/x-python",
   "name": "python",
   "nbconvert_exporter": "python",
   "pygments_lexer": "ipython3",
   "version": "3.11.3"
  },
  "toc": {
   "base_numbering": 1,
   "nav_menu": {},
   "number_sections": true,
   "sideBar": true,
   "skip_h1_title": true,
   "title_cell": "Table of Contents",
   "title_sidebar": "Contents",
   "toc_cell": false,
   "toc_position": {
    "height": "calc(100% - 180px)",
    "left": "10px",
    "top": "150px",
    "width": "408.889px"
   },
   "toc_section_display": true,
   "toc_window_display": true
  }
 },
 "nbformat": 4,
 "nbformat_minor": 1
}
