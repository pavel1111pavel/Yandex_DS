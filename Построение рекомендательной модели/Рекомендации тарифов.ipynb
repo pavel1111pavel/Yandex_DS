{
 "cells": [
  {
   "cell_type": "markdown",
   "metadata": {},
   "source": [
    "# Рекомендация тарифов"
   ]
  },
  {
   "cell_type": "markdown",
   "metadata": {},
   "source": [
    "В вашем распоряжении данные о поведении клиентов, которые уже перешли на эти тарифы (из проекта курса «Статистический анализ данных»). Нужно построить модель для задачи классификации, которая выберет подходящий тариф. Предобработка данных не понадобится — вы её уже сделали.\n",
    "\n",
    "Постройте модель с максимально большим значением *accuracy*. Чтобы сдать проект успешно, нужно довести долю правильных ответов по крайней мере до 0.75. Проверьте *accuracy* на тестовой выборке самостоятельно."
   ]
  },
  {
   "cell_type": "markdown",
   "metadata": {},
   "source": [
    "# Откройте и изучите файл"
   ]
  },
  {
   "cell_type": "markdown",
   "metadata": {},
   "source": [
    "##   Откроем и изучим данные"
   ]
  },
  {
   "cell_type": "code",
   "execution_count": 1,
   "metadata": {},
   "outputs": [],
   "source": [
    "import pandas as pd\n",
    "from sklearn.ensemble import RandomForestClassifier\n",
    "from sklearn.tree import DecisionTreeClassifier\n",
    "from sklearn.linear_model import LogisticRegression\n",
    "from sklearn.dummy import DummyClassifier\n",
    "from sklearn.model_selection import train_test_split\n",
    "from sklearn.metrics import accuracy_score \n",
    "from tqdm import tqdm"
   ]
  },
  {
   "cell_type": "code",
   "execution_count": 2,
   "metadata": {
    "scrolled": true
   },
   "outputs": [
    {
     "data": {
      "text/html": [
       "<div>\n",
       "<style scoped>\n",
       "    .dataframe tbody tr th:only-of-type {\n",
       "        vertical-align: middle;\n",
       "    }\n",
       "\n",
       "    .dataframe tbody tr th {\n",
       "        vertical-align: top;\n",
       "    }\n",
       "\n",
       "    .dataframe thead th {\n",
       "        text-align: right;\n",
       "    }\n",
       "</style>\n",
       "<table border=\"1\" class=\"dataframe\">\n",
       "  <thead>\n",
       "    <tr style=\"text-align: right;\">\n",
       "      <th></th>\n",
       "      <th>calls</th>\n",
       "      <th>minutes</th>\n",
       "      <th>messages</th>\n",
       "      <th>mb_used</th>\n",
       "      <th>is_ultra</th>\n",
       "    </tr>\n",
       "  </thead>\n",
       "  <tbody>\n",
       "    <tr>\n",
       "      <th>0</th>\n",
       "      <td>40.0</td>\n",
       "      <td>311.90</td>\n",
       "      <td>83.0</td>\n",
       "      <td>19915.42</td>\n",
       "      <td>0</td>\n",
       "    </tr>\n",
       "    <tr>\n",
       "      <th>1</th>\n",
       "      <td>85.0</td>\n",
       "      <td>516.75</td>\n",
       "      <td>56.0</td>\n",
       "      <td>22696.96</td>\n",
       "      <td>0</td>\n",
       "    </tr>\n",
       "    <tr>\n",
       "      <th>2</th>\n",
       "      <td>77.0</td>\n",
       "      <td>467.66</td>\n",
       "      <td>86.0</td>\n",
       "      <td>21060.45</td>\n",
       "      <td>0</td>\n",
       "    </tr>\n",
       "    <tr>\n",
       "      <th>3</th>\n",
       "      <td>106.0</td>\n",
       "      <td>745.53</td>\n",
       "      <td>81.0</td>\n",
       "      <td>8437.39</td>\n",
       "      <td>1</td>\n",
       "    </tr>\n",
       "    <tr>\n",
       "      <th>4</th>\n",
       "      <td>66.0</td>\n",
       "      <td>418.74</td>\n",
       "      <td>1.0</td>\n",
       "      <td>14502.75</td>\n",
       "      <td>0</td>\n",
       "    </tr>\n",
       "  </tbody>\n",
       "</table>\n",
       "</div>"
      ],
      "text/plain": [
       "   calls  minutes  messages   mb_used  is_ultra\n",
       "0   40.0   311.90      83.0  19915.42         0\n",
       "1   85.0   516.75      56.0  22696.96         0\n",
       "2   77.0   467.66      86.0  21060.45         0\n",
       "3  106.0   745.53      81.0   8437.39         1\n",
       "4   66.0   418.74       1.0  14502.75         0"
      ]
     },
     "execution_count": 2,
     "metadata": {},
     "output_type": "execute_result"
    }
   ],
   "source": [
    "try:\n",
    "    data = pd.read_csv('/datasets/users_behavior.csv')\n",
    "except FileNotFoundError:\n",
    "    data  = pd.read_csv('https://code.s3.yandex.net/datasets/users_behavior.csv')\n",
    "data.head()"
   ]
  },
  {
   "cell_type": "code",
   "execution_count": 3,
   "metadata": {
    "scrolled": true
   },
   "outputs": [
    {
     "name": "stdout",
     "output_type": "stream",
     "text": [
      "<class 'pandas.core.frame.DataFrame'>\n",
      "RangeIndex: 3214 entries, 0 to 3213\n",
      "Data columns (total 5 columns):\n",
      " #   Column    Non-Null Count  Dtype  \n",
      "---  ------    --------------  -----  \n",
      " 0   calls     3214 non-null   float64\n",
      " 1   minutes   3214 non-null   float64\n",
      " 2   messages  3214 non-null   float64\n",
      " 3   mb_used   3214 non-null   float64\n",
      " 4   is_ultra  3214 non-null   int64  \n",
      "dtypes: float64(4), int64(1)\n",
      "memory usage: 125.7 KB\n"
     ]
    }
   ],
   "source": [
    "data.info()"
   ]
  },
  {
   "cell_type": "markdown",
   "metadata": {},
   "source": [
    "###  Комментарии к данным"
   ]
  },
  {
   "cell_type": "markdown",
   "metadata": {},
   "source": [
    "---в датафрейме действительно нет пропусков, все данные присутсвуют\n",
    "\n",
    "---данные состоят из 3200 строк и 5 колонок - количество звонков, количество минут, количество сообщений, количество использованного траффика и каким тарифом пользовался в течение месяца («Ультра» — 1, «Смарт» — 0).\n",
    "\n",
    "------при общении с одногруппниками было озвучено мнение, что необходимо убрать колонку calls или minute, т.к. по сути это одни и те же данные, просто в разной интерпритации. И таблица корреляции показывает очень сильную взаимосвязь, поэтому считаю корректным убрать колонку calls"
   ]
  },
  {
   "cell_type": "code",
   "execution_count": 4,
   "metadata": {},
   "outputs": [
    {
     "data": {
      "text/html": [
       "<div>\n",
       "<style scoped>\n",
       "    .dataframe tbody tr th:only-of-type {\n",
       "        vertical-align: middle;\n",
       "    }\n",
       "\n",
       "    .dataframe tbody tr th {\n",
       "        vertical-align: top;\n",
       "    }\n",
       "\n",
       "    .dataframe thead th {\n",
       "        text-align: right;\n",
       "    }\n",
       "</style>\n",
       "<table border=\"1\" class=\"dataframe\">\n",
       "  <thead>\n",
       "    <tr style=\"text-align: right;\">\n",
       "      <th></th>\n",
       "      <th>calls</th>\n",
       "      <th>minutes</th>\n",
       "      <th>messages</th>\n",
       "      <th>mb_used</th>\n",
       "      <th>is_ultra</th>\n",
       "    </tr>\n",
       "  </thead>\n",
       "  <tbody>\n",
       "    <tr>\n",
       "      <th>calls</th>\n",
       "      <td>1.000000</td>\n",
       "      <td>0.982083</td>\n",
       "      <td>0.177385</td>\n",
       "      <td>0.286442</td>\n",
       "      <td>0.207122</td>\n",
       "    </tr>\n",
       "    <tr>\n",
       "      <th>minutes</th>\n",
       "      <td>0.982083</td>\n",
       "      <td>1.000000</td>\n",
       "      <td>0.173110</td>\n",
       "      <td>0.280967</td>\n",
       "      <td>0.206955</td>\n",
       "    </tr>\n",
       "    <tr>\n",
       "      <th>messages</th>\n",
       "      <td>0.177385</td>\n",
       "      <td>0.173110</td>\n",
       "      <td>1.000000</td>\n",
       "      <td>0.195721</td>\n",
       "      <td>0.203830</td>\n",
       "    </tr>\n",
       "    <tr>\n",
       "      <th>mb_used</th>\n",
       "      <td>0.286442</td>\n",
       "      <td>0.280967</td>\n",
       "      <td>0.195721</td>\n",
       "      <td>1.000000</td>\n",
       "      <td>0.198568</td>\n",
       "    </tr>\n",
       "    <tr>\n",
       "      <th>is_ultra</th>\n",
       "      <td>0.207122</td>\n",
       "      <td>0.206955</td>\n",
       "      <td>0.203830</td>\n",
       "      <td>0.198568</td>\n",
       "      <td>1.000000</td>\n",
       "    </tr>\n",
       "  </tbody>\n",
       "</table>\n",
       "</div>"
      ],
      "text/plain": [
       "             calls   minutes  messages   mb_used  is_ultra\n",
       "calls     1.000000  0.982083  0.177385  0.286442  0.207122\n",
       "minutes   0.982083  1.000000  0.173110  0.280967  0.206955\n",
       "messages  0.177385  0.173110  1.000000  0.195721  0.203830\n",
       "mb_used   0.286442  0.280967  0.195721  1.000000  0.198568\n",
       "is_ultra  0.207122  0.206955  0.203830  0.198568  1.000000"
      ]
     },
     "execution_count": 4,
     "metadata": {},
     "output_type": "execute_result"
    }
   ],
   "source": [
    "data.corr()"
   ]
  },
  {
   "cell_type": "code",
   "execution_count": 5,
   "metadata": {
    "scrolled": true
   },
   "outputs": [
    {
     "data": {
      "text/html": [
       "<div>\n",
       "<style scoped>\n",
       "    .dataframe tbody tr th:only-of-type {\n",
       "        vertical-align: middle;\n",
       "    }\n",
       "\n",
       "    .dataframe tbody tr th {\n",
       "        vertical-align: top;\n",
       "    }\n",
       "\n",
       "    .dataframe thead th {\n",
       "        text-align: right;\n",
       "    }\n",
       "</style>\n",
       "<table border=\"1\" class=\"dataframe\">\n",
       "  <thead>\n",
       "    <tr style=\"text-align: right;\">\n",
       "      <th></th>\n",
       "      <th>minutes</th>\n",
       "      <th>messages</th>\n",
       "      <th>mb_used</th>\n",
       "      <th>is_ultra</th>\n",
       "    </tr>\n",
       "  </thead>\n",
       "  <tbody>\n",
       "    <tr>\n",
       "      <th>0</th>\n",
       "      <td>311.90</td>\n",
       "      <td>83.0</td>\n",
       "      <td>19915.42</td>\n",
       "      <td>0</td>\n",
       "    </tr>\n",
       "    <tr>\n",
       "      <th>1</th>\n",
       "      <td>516.75</td>\n",
       "      <td>56.0</td>\n",
       "      <td>22696.96</td>\n",
       "      <td>0</td>\n",
       "    </tr>\n",
       "    <tr>\n",
       "      <th>2</th>\n",
       "      <td>467.66</td>\n",
       "      <td>86.0</td>\n",
       "      <td>21060.45</td>\n",
       "      <td>0</td>\n",
       "    </tr>\n",
       "    <tr>\n",
       "      <th>3</th>\n",
       "      <td>745.53</td>\n",
       "      <td>81.0</td>\n",
       "      <td>8437.39</td>\n",
       "      <td>1</td>\n",
       "    </tr>\n",
       "    <tr>\n",
       "      <th>4</th>\n",
       "      <td>418.74</td>\n",
       "      <td>1.0</td>\n",
       "      <td>14502.75</td>\n",
       "      <td>0</td>\n",
       "    </tr>\n",
       "  </tbody>\n",
       "</table>\n",
       "</div>"
      ],
      "text/plain": [
       "   minutes  messages   mb_used  is_ultra\n",
       "0   311.90      83.0  19915.42         0\n",
       "1   516.75      56.0  22696.96         0\n",
       "2   467.66      86.0  21060.45         0\n",
       "3   745.53      81.0   8437.39         1\n",
       "4   418.74       1.0  14502.75         0"
      ]
     },
     "execution_count": 5,
     "metadata": {},
     "output_type": "execute_result"
    }
   ],
   "source": [
    "data = data.drop(['calls'], axis=1)\n",
    "data.head()"
   ]
  },
  {
   "cell_type": "code",
   "execution_count": 6,
   "metadata": {
    "scrolled": true
   },
   "outputs": [
    {
     "data": {
      "text/plain": [
       "30.647168637212197"
      ]
     },
     "execution_count": 6,
     "metadata": {},
     "output_type": "execute_result"
    }
   ],
   "source": [
    "data.is_ultra.mean()*100"
   ]
  },
  {
   "cell_type": "markdown",
   "metadata": {},
   "source": [
    "---соотношение наличия тарифа \"ультра\" к тарифу \"смарт\" = около 1/3. \n",
    "\n",
    "---лишь 30% пользователей находятся на тарифе \"ультра\""
   ]
  },
  {
   "cell_type": "markdown",
   "metadata": {},
   "source": [
    "#   Разбейте данные на выборки"
   ]
  },
  {
   "cell_type": "markdown",
   "metadata": {},
   "source": [
    "## Разделение данных"
   ]
  },
  {
   "cell_type": "code",
   "execution_count": 7,
   "metadata": {},
   "outputs": [],
   "source": [
    "df = data.copy()"
   ]
  },
  {
   "cell_type": "markdown",
   "metadata": {},
   "source": [
    "### Разделение на 5 частей"
   ]
  },
  {
   "cell_type": "markdown",
   "metadata": {},
   "source": [
    "--- Разделю данные на 5 условных частей и 1/5 выведу в отедельный датафрейм для дальшнейшего теста. На 3/5 будет обучаться модель и оставшаяся 1/5 пойдет на корм валидации."
   ]
  },
  {
   "cell_type": "code",
   "execution_count": 8,
   "metadata": {},
   "outputs": [
    {
     "name": "stdout",
     "output_type": "stream",
     "text": [
      " ТЕСТОВЫЙ ДАТАФРЕЙМ:\n",
      "     minutes  messages   mb_used  is_ultra\n",
      "0     462.32      90.0  31239.78         0\n",
      "1     272.85      40.0  19628.84         0\n",
      "2     517.82       0.0  20207.50         0\n",
      "3     302.11       0.0  34506.26         1\n",
      "4     288.43      21.0  21722.72         1\n",
      "..       ...       ...       ...       ...\n",
      "638   535.56      47.0  21684.88         0\n",
      "639   377.30      72.0  12003.47         0\n",
      "640   641.87      41.0  30633.32         1\n",
      "641   316.49      46.0  21354.67         1\n",
      "642    12.70       0.0    492.03         1\n",
      "\n",
      "[643 rows x 4 columns]\n",
      " РАБОЧИЙ ДАТАФРЕЙМ:\n",
      "      minutes  messages   mb_used  is_ultra\n",
      "0      311.90      83.0  19915.42         0\n",
      "1      516.75      56.0  22696.96         0\n",
      "2      745.53      81.0   8437.39         1\n",
      "3      418.74       1.0  14502.75         0\n",
      "4      344.56      21.0  15823.37         0\n",
      "...       ...       ...       ...       ...\n",
      "2566    92.39       2.0   4299.25         0\n",
      "2567  1016.98      71.0  17787.52         1\n",
      "2568   190.36       0.0   3275.61         0\n",
      "2569   634.44      70.0  13974.06         0\n",
      "2570   566.09       6.0  29480.52         1\n",
      "\n",
      "[2571 rows x 4 columns]\n"
     ]
    }
   ],
   "source": [
    "df_test = df.sample(frac = 0.2)\n",
    "df = df.drop(df_test.index)\n",
    "df.reset_index(drop= True , inplace= True)\n",
    "df_test.reset_index(drop= True , inplace= True )\n",
    "print(\" ТЕСТОВЫЙ ДАТАФРЕЙМ:\")\n",
    "print(df_test)\n",
    "  \n",
    "print(\" РАБОЧИЙ ДАТАФРЕЙМ:\")\n",
    "print(df)"
   ]
  },
  {
   "cell_type": "markdown",
   "metadata": {},
   "source": [
    "### Разделение на валидационный и обучающий датасет"
   ]
  },
  {
   "cell_type": "markdown",
   "metadata": {},
   "source": [
    "---здесь разделяем рабочий датафрейм на обучающий и валидационный и будем их применять на обучении модели"
   ]
  },
  {
   "cell_type": "code",
   "execution_count": 9,
   "metadata": {},
   "outputs": [],
   "source": [
    "features = df.drop(['is_ultra'], axis=1)\n",
    "target = df.is_ultra\n",
    "\n",
    "features_train, features_valid, target_train, target_valid = train_test_split(\n",
    "    features, target, test_size=0.2  , random_state=12345)"
   ]
  },
  {
   "cell_type": "markdown",
   "metadata": {},
   "source": [
    " ##  Исследуйте модели"
   ]
  },
  {
   "cell_type": "markdown",
   "metadata": {},
   "source": [
    "###  Модель Random Forest"
   ]
  },
  {
   "cell_type": "code",
   "execution_count": 10,
   "metadata": {},
   "outputs": [
    {
     "name": "stderr",
     "output_type": "stream",
     "text": [
      "100%|██████████| 9/9 [00:46<00:00,  5.14s/it]"
     ]
    },
    {
     "name": "stdout",
     "output_type": "stream",
     "text": [
      "Accuracy лучшей модели: 0.829126213592233 Лучшая глубина дерева: 9 Лучшее число деревьев: 74\n",
      "CPU times: user 45.9 s, sys: 297 ms, total: 46.2 s\n",
      "Wall time: 46.2 s\n"
     ]
    },
    {
     "name": "stderr",
     "output_type": "stream",
     "text": [
      "\n"
     ]
    }
   ],
   "source": [
    "%%time\n",
    "\n",
    "best_result = 0\n",
    "best_depth = 0\n",
    "best_est = 0\n",
    "for depth in tqdm(range(1, 10)):\n",
    "    for est in range(1, 75):\n",
    "        model = RandomForestClassifier(random_state=12345, n_estimators=est, max_depth =depth) \n",
    "        model.fit(features_train,target_train) \n",
    "        predictions = model.predict(features_valid)\n",
    "        result = accuracy_score(target_valid,predictions) \n",
    "        if result > best_result:\n",
    "            best_result = result\n",
    "            best_depth = depth\n",
    "            best_est = est\n",
    "            \n",
    "print('Accuracy лучшей модели:', best_result, 'Лучшая глубина дерева:', best_depth, 'Лучшее число деревьев:', est)"
   ]
  },
  {
   "cell_type": "markdown",
   "metadata": {},
   "source": [
    "---модель является наиболее точной, но самой медленной из изученных в теории"
   ]
  },
  {
   "cell_type": "markdown",
   "metadata": {},
   "source": [
    "### Модель Logistic Regression"
   ]
  },
  {
   "cell_type": "code",
   "execution_count": 12,
   "metadata": {},
   "outputs": [
    {
     "name": "stdout",
     "output_type": "stream",
     "text": [
      "Accuracy модели линейной регрессии: 0.7495145631067961\n",
      "CPU times: user 16.2 ms, sys: 4.01 ms, total: 20.2 ms\n",
      "Wall time: 19.6 ms\n"
     ]
    }
   ],
   "source": [
    "%%time\n",
    "model = LogisticRegression(random_state=12345, solver='lbfgs', max_iter=100000)\n",
    "model.fit(features_train,target_train) \n",
    "predictions_valid = model.predict(features_valid) \n",
    "accuracy = accuracy_score(target_valid, predictions_valid) \n",
    "print(\"Accuracy модели линейной регрессии:\", accuracy)"
   ]
  },
  {
   "cell_type": "markdown",
   "metadata": {},
   "source": [
    "--- модель наиболее быстрая и с не очень высоким качеством обучения\n",
    "\n",
    "--- были применены разные гиперпараметры solver, лучшее accuracy получилось с lbfgs"
   ]
  },
  {
   "cell_type": "markdown",
   "metadata": {
    "scrolled": true
   },
   "source": [
    "### Модель Decision Tree"
   ]
  },
  {
   "cell_type": "code",
   "execution_count": 13,
   "metadata": {},
   "outputs": [
    {
     "name": "stdout",
     "output_type": "stream",
     "text": [
      "Accuracy лучшей модели: 0.8077669902912621 Лучшая глубина дерева: 7\n",
      "CPU times: user 129 ms, sys: 13 µs, total: 129 ms\n",
      "Wall time: 144 ms\n"
     ]
    }
   ],
   "source": [
    "%%time\n",
    "best_model = None\n",
    "best_result = 0\n",
    "best_depth = 0\n",
    "for depth in range(1, 20):\n",
    "    model = DecisionTreeClassifier(random_state=12345, max_depth=depth)\n",
    "    model.fit(features_train,target_train) \n",
    "    predictions = model.predict(features_valid)\n",
    "    result = accuracy_score(target_valid,predictions)\n",
    "    if result > best_result:\n",
    "        best_model = model\n",
    "        best_result = result\n",
    "        best_depth = depth\n",
    "\n",
    "print('Accuracy лучшей модели:', best_result, 'Лучшая глубина дерева:', best_depth)"
   ]
  },
  {
   "cell_type": "code",
   "execution_count": 14,
   "metadata": {},
   "outputs": [
    {
     "data": {
      "image/png": "[encoded data removed]",
      "text/plain": [
       "<Figure size 1440x504 with 1 Axes>"
      ]
     },
     "metadata": {
      "needs_background": "light"
     },
     "output_type": "display_data"
    }
   ],
   "source": [
    "# код ревьюера\n",
    "\n",
    "import matplotlib.pyplot as plt\n",
    "import numpy as np\n",
    "\n",
    "acc_valid = [] # сюда записывается accuracy по валидационной\n",
    "acc_train = [] # сюда записывается accuracy по обучающей\n",
    "\n",
    "depth_ = 20\n",
    "\n",
    "for depth in range(1, depth_):\n",
    "    model_tree = DecisionTreeClassifier(random_state=12345, max_depth=depth)\n",
    "    model_tree.fit(features_train, target_train)\n",
    "    \n",
    "    predictions_valid = model_tree.predict(features_valid)\n",
    "    predictions_train = model_tree.predict(features_train)\n",
    "    \n",
    "#     собираем результаты в списки\n",
    "    acc_valid.append(accuracy_score(target_valid, predictions_valid))   \n",
    "    acc_train.append(accuracy_score(target_train, predictions_train))   \n",
    "    \n",
    "    \n",
    "fig, ax = plt.subplots(figsize = (20, 7))\n",
    "fig.suptitle('')\n",
    "\n",
    "# строи по спискам графики\n",
    "ax.plot(np.arange(1, depth_), acc_valid, )\n",
    "ax.plot(np.arange(1, depth_), acc_train)\n",
    "\n",
    "ax.set_xlabel('Глубина дерева')\n",
    "ax.set_ylabel('Accuracy')\n",
    "\n",
    "ax.legend(['Точность предсказаний на валидационной выборке', 'Точность предсказаний на обучающей выборке'])\n",
    "\n",
    "plt.ylim(0.7, 1);  "
   ]
  },
  {
   "cell_type": "markdown",
   "metadata": {},
   "source": []
  },
  {
   "cell_type": "markdown",
   "metadata": {},
   "source": [
    "---модель приемлемая по качеству и быстрая по времени"
   ]
  },
  {
   "cell_type": "markdown",
   "metadata": {},
   "source": [
    "### Промежуточные итоги по работе моделей"
   ]
  },
  {
   "cell_type": "markdown",
   "metadata": {},
   "source": [
    "---наиболее шустрая модель - Logistic Regression. Но не все должно измеряться скоростью. Модель допускает ошибки из за своего устройства\n",
    "\n",
    "--- модель Decision Tree тоже быстрая и с хорошим качеством ответов. Возможно, что ее можно было бы выбрать, но если бы не точность следующей модели\n",
    "\n",
    "---  Random Forest показывает лучший результат по ответам, но очень медленную работу. Это связано с многовариантностью модели и гибкими возможностями предсказаний. Наш массив небольшой и страшно представить, сколько будет обучаться модель на действительно больших данных"
   ]
  },
  {
   "cell_type": "markdown",
   "metadata": {},
   "source": [
    "## Проверьте модель на тестовой выборке"
   ]
  },
  {
   "cell_type": "markdown",
   "metadata": {},
   "source": [
    "### Проверка Random Forest на тестовой выборке"
   ]
  },
  {
   "cell_type": "code",
   "execution_count": 15,
   "metadata": {
    "scrolled": true
   },
   "outputs": [
    {
     "name": "stdout",
     "output_type": "stream",
     "text": [
      "Accuracy тестовой выборки: 0.8118195956454122\n"
     ]
    }
   ],
   "source": [
    "\n",
    "features_test = df_test.drop(['is_ultra'], axis=1)\n",
    "target_test = df_test.is_ultra\n",
    "\n",
    "model = RandomForestClassifier(random_state=12345, n_estimators=best_est, max_depth=best_depth)\n",
    "model.fit(features_train,target_train) \n",
    "predictions = model.predict(features_test)\n",
    "result = accuracy_score(target_test,predictions)\n",
    "\n",
    "print(\"Accuracy тестовой выборки:\", result )"
   ]
  },
  {
   "cell_type": "markdown",
   "metadata": {},
   "source": [
    "---проверка показала приблизительно одинаковый показатель точности ответов c валидационным датасетом\n",
    "\n",
    "---некторое различие присутсвует, но если бы оно было в большую  или меньшую сторону сильнее, то это бы означало недобученность или переобучение модели"
   ]
  },
  {
   "cell_type": "markdown",
   "metadata": {},
   "source": [
    "## Проверка с помощью DummyClassifier\n"
   ]
  },
  {
   "cell_type": "code",
   "execution_count": 16,
   "metadata": {},
   "outputs": [
    {
     "name": "stdout",
     "output_type": "stream",
     "text": [
      "Accuracy эталонного классификатора : 0.7045101088646968\n",
      "CPU times: user 3.21 ms, sys: 50 µs, total: 3.26 ms\n",
      "Wall time: 2.06 ms\n"
     ]
    }
   ],
   "source": [
    "%%time\n",
    "dummy_model = DummyClassifier(strategy='most_frequent', random_state= 12345)\n",
    "dummy_model.fit(features_train,target_train)\n",
    "print('Accuracy эталонного классификатора :', dummy_model.score(features_test,target_test))"
   ]
  },
  {
   "cell_type": "markdown",
   "metadata": {},
   "source": [
    "--- DummyClassifier показывает точность , которая соответсвует распределению тарифов в данных\n",
    "\n",
    "--- наши данные довольно незамысловатые и фиктивный классификатор показывает наиболее частую метку класса. у нас это тариф \"смарт\"\n",
    "\n",
    "--- в двух случаях из трех наша модель будет предсказывать тариф \"смарт\" и это показывает уровень адекватности"
   ]
  }
 ],
 "metadata": {
  "ExecuteTimeLog": [
   {
    "duration": 49,
    "start_time": "2022-12-13T10:45:32.183Z"
   },
   {
    "duration": 1127,
    "start_time": "2022-12-13T10:45:34.892Z"
   },
   {
    "duration": 87,
    "start_time": "2022-12-13T10:45:36.021Z"
   },
   {
    "duration": 64,
    "start_time": "2022-12-13T10:48:11.983Z"
   },
   {
    "duration": 13,
    "start_time": "2022-12-13T10:48:23.081Z"
   },
   {
    "duration": 8,
    "start_time": "2022-12-13T10:51:32.906Z"
   },
   {
    "duration": 3,
    "start_time": "2022-12-13T10:51:38.349Z"
   },
   {
    "duration": 51,
    "start_time": "2022-12-13T10:51:38.358Z"
   },
   {
    "duration": 9,
    "start_time": "2022-12-13T10:51:38.411Z"
   },
   {
    "duration": 14,
    "start_time": "2022-12-13T10:51:38.435Z"
   },
   {
    "duration": 3,
    "start_time": "2022-12-13T10:56:42.869Z"
   },
   {
    "duration": 10,
    "start_time": "2022-12-13T10:56:51.552Z"
   },
   {
    "duration": 10,
    "start_time": "2022-12-13T10:57:05.070Z"
   },
   {
    "duration": 10,
    "start_time": "2022-12-13T12:46:23.530Z"
   },
   {
    "duration": 3,
    "start_time": "2022-12-13T12:46:29.122Z"
   },
   {
    "duration": 49,
    "start_time": "2022-12-13T12:46:29.128Z"
   },
   {
    "duration": 12,
    "start_time": "2022-12-13T12:46:29.179Z"
   },
   {
    "duration": 8,
    "start_time": "2022-12-13T12:46:29.192Z"
   },
   {
    "duration": 16,
    "start_time": "2022-12-13T12:46:29.202Z"
   },
   {
    "duration": 223,
    "start_time": "2022-12-13T12:46:29.220Z"
   },
   {
    "duration": 10,
    "start_time": "2022-12-13T12:46:29.444Z"
   },
   {
    "duration": 11,
    "start_time": "2022-12-13T12:46:29.456Z"
   },
   {
    "duration": 11,
    "start_time": "2022-12-13T12:46:40.100Z"
   },
   {
    "duration": 213,
    "start_time": "2022-12-13T12:51:03.710Z"
   },
   {
    "duration": 3,
    "start_time": "2022-12-13T12:51:22.818Z"
   },
   {
    "duration": 15,
    "start_time": "2022-12-13T12:51:26.751Z"
   },
   {
    "duration": 209,
    "start_time": "2022-12-13T12:51:35.866Z"
   },
   {
    "duration": 221,
    "start_time": "2022-12-13T12:52:23.534Z"
   },
   {
    "duration": 220,
    "start_time": "2022-12-13T12:52:57.009Z"
   },
   {
    "duration": 3,
    "start_time": "2022-12-13T12:53:46.349Z"
   },
   {
    "duration": 42,
    "start_time": "2022-12-13T12:53:46.354Z"
   },
   {
    "duration": 11,
    "start_time": "2022-12-13T12:53:46.398Z"
   },
   {
    "duration": 7,
    "start_time": "2022-12-13T12:53:46.411Z"
   },
   {
    "duration": 11,
    "start_time": "2022-12-13T12:53:46.420Z"
   },
   {
    "duration": 214,
    "start_time": "2022-12-13T12:53:46.433Z"
   },
   {
    "duration": 0,
    "start_time": "2022-12-13T12:53:46.649Z"
   },
   {
    "duration": 0,
    "start_time": "2022-12-13T12:53:46.650Z"
   },
   {
    "duration": 0,
    "start_time": "2022-12-13T12:53:46.651Z"
   },
   {
    "duration": 204,
    "start_time": "2022-12-13T12:55:01.154Z"
   },
   {
    "duration": 10,
    "start_time": "2022-12-13T12:55:17.704Z"
   },
   {
    "duration": 12,
    "start_time": "2022-12-13T12:55:18.901Z"
   },
   {
    "duration": 11,
    "start_time": "2022-12-13T12:55:21.518Z"
   },
   {
    "duration": 12,
    "start_time": "2022-12-13T12:56:49.380Z"
   },
   {
    "duration": 14,
    "start_time": "2022-12-13T12:57:10.414Z"
   },
   {
    "duration": 17,
    "start_time": "2022-12-13T12:57:33.116Z"
   },
   {
    "duration": 20,
    "start_time": "2022-12-13T12:58:09.720Z"
   },
   {
    "duration": 24,
    "start_time": "2022-12-13T12:58:41.726Z"
   },
   {
    "duration": 20,
    "start_time": "2022-12-13T12:58:51.082Z"
   },
   {
    "duration": 249,
    "start_time": "2022-12-13T12:59:51.874Z"
   },
   {
    "duration": 225,
    "start_time": "2022-12-13T13:00:48.309Z"
   },
   {
    "duration": 219,
    "start_time": "2022-12-13T13:01:58.452Z"
   },
   {
    "duration": 217,
    "start_time": "2022-12-13T13:03:13.347Z"
   },
   {
    "duration": 255,
    "start_time": "2022-12-13T13:03:44.103Z"
   },
   {
    "duration": 45,
    "start_time": "2022-12-13T13:14:20.112Z"
   },
   {
    "duration": 4,
    "start_time": "2022-12-13T13:15:36.951Z"
   },
   {
    "duration": 11,
    "start_time": "2022-12-13T13:18:34.282Z"
   },
   {
    "duration": 3,
    "start_time": "2022-12-13T13:18:40.182Z"
   },
   {
    "duration": 42,
    "start_time": "2022-12-13T13:18:40.201Z"
   },
   {
    "duration": 10,
    "start_time": "2022-12-13T13:18:40.245Z"
   },
   {
    "duration": 15,
    "start_time": "2022-12-13T13:18:40.256Z"
   },
   {
    "duration": 13,
    "start_time": "2022-12-13T13:18:40.272Z"
   },
   {
    "duration": 202,
    "start_time": "2022-12-13T13:18:40.287Z"
   },
   {
    "duration": 8,
    "start_time": "2022-12-13T13:18:40.491Z"
   },
   {
    "duration": 24,
    "start_time": "2022-12-13T13:18:40.500Z"
   },
   {
    "duration": 3,
    "start_time": "2022-12-13T13:18:40.526Z"
   },
   {
    "duration": 25,
    "start_time": "2022-12-13T13:18:40.531Z"
   },
   {
    "duration": 28,
    "start_time": "2022-12-13T13:18:40.557Z"
   },
   {
    "duration": 4,
    "start_time": "2022-12-13T13:23:44.831Z"
   },
   {
    "duration": 14,
    "start_time": "2022-12-13T13:23:49.620Z"
   },
   {
    "duration": 26,
    "start_time": "2022-12-13T13:24:55.756Z"
   },
   {
    "duration": 282,
    "start_time": "2022-12-13T13:26:03.611Z"
   },
   {
    "duration": 279,
    "start_time": "2022-12-13T13:26:35.218Z"
   },
   {
    "duration": 25,
    "start_time": "2022-12-13T13:28:16.367Z"
   },
   {
    "duration": 24,
    "start_time": "2022-12-13T13:28:26.162Z"
   },
   {
    "duration": 1075,
    "start_time": "2022-12-15T07:50:59.428Z"
   },
   {
    "duration": 254,
    "start_time": "2022-12-15T07:51:00.504Z"
   },
   {
    "duration": 0,
    "start_time": "2022-12-15T07:51:00.760Z"
   },
   {
    "duration": 0,
    "start_time": "2022-12-15T07:51:00.761Z"
   },
   {
    "duration": 0,
    "start_time": "2022-12-15T07:51:00.762Z"
   },
   {
    "duration": 0,
    "start_time": "2022-12-15T07:51:00.763Z"
   },
   {
    "duration": 0,
    "start_time": "2022-12-15T07:51:00.765Z"
   },
   {
    "duration": 0,
    "start_time": "2022-12-15T07:51:00.766Z"
   },
   {
    "duration": 0,
    "start_time": "2022-12-15T07:51:00.767Z"
   },
   {
    "duration": 0,
    "start_time": "2022-12-15T07:51:00.767Z"
   },
   {
    "duration": 0,
    "start_time": "2022-12-15T07:51:00.768Z"
   },
   {
    "duration": 0,
    "start_time": "2022-12-15T07:51:00.769Z"
   },
   {
    "duration": 0,
    "start_time": "2022-12-15T07:51:00.770Z"
   },
   {
    "duration": 4,
    "start_time": "2022-12-15T07:51:28.615Z"
   },
   {
    "duration": 44,
    "start_time": "2022-12-15T07:51:28.625Z"
   },
   {
    "duration": 11,
    "start_time": "2022-12-15T07:51:28.671Z"
   },
   {
    "duration": 8,
    "start_time": "2022-12-15T07:51:28.684Z"
   },
   {
    "duration": 22,
    "start_time": "2022-12-15T07:51:28.694Z"
   },
   {
    "duration": 45,
    "start_time": "2022-12-15T07:51:28.718Z"
   },
   {
    "duration": 0,
    "start_time": "2022-12-15T07:51:28.765Z"
   },
   {
    "duration": 0,
    "start_time": "2022-12-15T07:51:28.767Z"
   },
   {
    "duration": 1,
    "start_time": "2022-12-15T07:51:28.768Z"
   },
   {
    "duration": 0,
    "start_time": "2022-12-15T07:51:28.770Z"
   },
   {
    "duration": 0,
    "start_time": "2022-12-15T07:51:28.772Z"
   },
   {
    "duration": 0,
    "start_time": "2022-12-15T07:51:28.773Z"
   },
   {
    "duration": 0,
    "start_time": "2022-12-15T07:51:28.775Z"
   },
   {
    "duration": 9,
    "start_time": "2022-12-15T07:55:15.370Z"
   },
   {
    "duration": 3,
    "start_time": "2022-12-15T07:57:14.678Z"
   },
   {
    "duration": 18,
    "start_time": "2022-12-15T07:57:29.598Z"
   },
   {
    "duration": 5,
    "start_time": "2022-12-15T07:57:45.402Z"
   },
   {
    "duration": 15,
    "start_time": "2022-12-15T07:57:46.315Z"
   },
   {
    "duration": 17,
    "start_time": "2022-12-15T07:58:05.843Z"
   },
   {
    "duration": 17,
    "start_time": "2022-12-15T07:58:10.350Z"
   },
   {
    "duration": 11,
    "start_time": "2022-12-15T07:58:42.283Z"
   },
   {
    "duration": 23,
    "start_time": "2022-12-15T07:58:54.750Z"
   },
   {
    "duration": 16,
    "start_time": "2022-12-15T07:59:35.244Z"
   },
   {
    "duration": 11,
    "start_time": "2022-12-15T07:59:51.181Z"
   },
   {
    "duration": 10,
    "start_time": "2022-12-15T07:59:58.512Z"
   },
   {
    "duration": 5,
    "start_time": "2022-12-15T08:00:36.226Z"
   },
   {
    "duration": 4,
    "start_time": "2022-12-15T08:01:46.921Z"
   },
   {
    "duration": 16,
    "start_time": "2022-12-15T08:01:47.545Z"
   },
   {
    "duration": 18,
    "start_time": "2022-12-15T08:01:52.046Z"
   },
   {
    "duration": 15,
    "start_time": "2022-12-15T08:01:58.322Z"
   },
   {
    "duration": 10,
    "start_time": "2022-12-15T08:02:17.880Z"
   },
   {
    "duration": 19,
    "start_time": "2022-12-15T08:04:19.396Z"
   },
   {
    "duration": 5,
    "start_time": "2022-12-15T08:04:59.412Z"
   },
   {
    "duration": 15,
    "start_time": "2022-12-15T08:05:01.951Z"
   },
   {
    "duration": 3,
    "start_time": "2022-12-15T08:05:25.572Z"
   },
   {
    "duration": 14,
    "start_time": "2022-12-15T08:05:33.075Z"
   },
   {
    "duration": 13,
    "start_time": "2022-12-15T08:18:02.123Z"
   },
   {
    "duration": 16,
    "start_time": "2022-12-15T08:18:21.033Z"
   },
   {
    "duration": 14,
    "start_time": "2022-12-15T08:18:38.321Z"
   },
   {
    "duration": 15,
    "start_time": "2022-12-15T08:19:57.493Z"
   },
   {
    "duration": 13,
    "start_time": "2022-12-15T08:20:43.905Z"
   },
   {
    "duration": 14,
    "start_time": "2022-12-15T08:20:52.559Z"
   },
   {
    "duration": 3,
    "start_time": "2022-12-15T08:20:59.169Z"
   },
   {
    "duration": 15,
    "start_time": "2022-12-15T08:21:00.777Z"
   },
   {
    "duration": 14,
    "start_time": "2022-12-15T08:21:35.565Z"
   },
   {
    "duration": 3,
    "start_time": "2022-12-15T08:21:41.157Z"
   },
   {
    "duration": 14,
    "start_time": "2022-12-15T08:21:43.159Z"
   },
   {
    "duration": 15,
    "start_time": "2022-12-15T08:22:23.165Z"
   },
   {
    "duration": 15,
    "start_time": "2022-12-15T08:22:31.786Z"
   },
   {
    "duration": 3,
    "start_time": "2022-12-15T08:22:46.529Z"
   },
   {
    "duration": 13,
    "start_time": "2022-12-15T08:22:47.463Z"
   },
   {
    "duration": 3,
    "start_time": "2022-12-15T08:23:01.235Z"
   },
   {
    "duration": 15,
    "start_time": "2022-12-15T08:23:02.023Z"
   },
   {
    "duration": 3,
    "start_time": "2022-12-15T08:23:14.913Z"
   },
   {
    "duration": 16,
    "start_time": "2022-12-15T08:23:15.593Z"
   },
   {
    "duration": 18,
    "start_time": "2022-12-15T08:26:22.728Z"
   },
   {
    "duration": 15,
    "start_time": "2022-12-15T08:26:31.011Z"
   },
   {
    "duration": 2,
    "start_time": "2022-12-15T08:26:41.147Z"
   },
   {
    "duration": 18,
    "start_time": "2022-12-15T08:26:43.654Z"
   },
   {
    "duration": 7,
    "start_time": "2022-12-15T08:34:18.717Z"
   },
   {
    "duration": 11,
    "start_time": "2022-12-15T08:48:26.782Z"
   },
   {
    "duration": 11,
    "start_time": "2022-12-15T08:48:33.132Z"
   },
   {
    "duration": 38,
    "start_time": "2022-12-15T08:49:44.480Z"
   },
   {
    "duration": 49,
    "start_time": "2022-12-15T08:53:28.884Z"
   },
   {
    "duration": 46,
    "start_time": "2022-12-15T08:54:05.316Z"
   },
   {
    "duration": 46,
    "start_time": "2022-12-15T08:55:18.491Z"
   },
   {
    "duration": 39,
    "start_time": "2022-12-15T08:56:34.474Z"
   },
   {
    "duration": 43,
    "start_time": "2022-12-15T09:02:47.244Z"
   },
   {
    "duration": 107,
    "start_time": "2022-12-15T09:03:10.260Z"
   },
   {
    "duration": 49,
    "start_time": "2022-12-15T09:03:18.614Z"
   },
   {
    "duration": 261,
    "start_time": "2022-12-15T09:03:27.198Z"
   },
   {
    "duration": 180,
    "start_time": "2022-12-15T09:03:57.029Z"
   },
   {
    "duration": 4,
    "start_time": "2022-12-15T09:05:47.186Z"
   },
   {
    "duration": 8,
    "start_time": "2022-12-15T09:05:51.610Z"
   },
   {
    "duration": 3,
    "start_time": "2022-12-15T09:05:57.150Z"
   },
   {
    "duration": 34,
    "start_time": "2022-12-15T09:05:57.167Z"
   },
   {
    "duration": 9,
    "start_time": "2022-12-15T09:05:57.203Z"
   },
   {
    "duration": 6,
    "start_time": "2022-12-15T09:05:57.213Z"
   },
   {
    "duration": 31,
    "start_time": "2022-12-15T09:05:57.220Z"
   },
   {
    "duration": 5,
    "start_time": "2022-12-15T09:05:57.253Z"
   },
   {
    "duration": 24,
    "start_time": "2022-12-15T09:05:57.259Z"
   },
   {
    "duration": 0,
    "start_time": "2022-12-15T09:05:57.284Z"
   },
   {
    "duration": 0,
    "start_time": "2022-12-15T09:05:57.285Z"
   },
   {
    "duration": 0,
    "start_time": "2022-12-15T09:05:57.287Z"
   },
   {
    "duration": 0,
    "start_time": "2022-12-15T09:05:57.288Z"
   },
   {
    "duration": 0,
    "start_time": "2022-12-15T09:05:57.296Z"
   },
   {
    "duration": 3,
    "start_time": "2022-12-15T09:07:06.628Z"
   },
   {
    "duration": 283,
    "start_time": "2022-12-15T09:07:09.176Z"
   },
   {
    "duration": 8,
    "start_time": "2022-12-15T09:07:14.503Z"
   },
   {
    "duration": 37,
    "start_time": "2022-12-15T09:07:15.058Z"
   },
   {
    "duration": 37,
    "start_time": "2022-12-15T09:15:30.936Z"
   },
   {
    "duration": 285,
    "start_time": "2022-12-15T09:15:34.716Z"
   },
   {
    "duration": 9,
    "start_time": "2022-12-15T09:19:29.703Z"
   },
   {
    "duration": 9,
    "start_time": "2022-12-15T09:19:49.983Z"
   },
   {
    "duration": 3,
    "start_time": "2022-12-15T09:20:07.679Z"
   },
   {
    "duration": 128,
    "start_time": "2022-12-15T09:20:12.468Z"
   },
   {
    "duration": 1067,
    "start_time": "2022-12-15T10:10:01.947Z"
   },
   {
    "duration": 103,
    "start_time": "2022-12-15T10:10:03.016Z"
   },
   {
    "duration": 10,
    "start_time": "2022-12-15T10:10:03.121Z"
   },
   {
    "duration": 21,
    "start_time": "2022-12-15T10:10:03.134Z"
   },
   {
    "duration": 22,
    "start_time": "2022-12-15T10:10:03.156Z"
   },
   {
    "duration": 14,
    "start_time": "2022-12-15T10:10:03.180Z"
   },
   {
    "duration": 305,
    "start_time": "2022-12-15T10:10:03.195Z"
   },
   {
    "duration": 141,
    "start_time": "2022-12-15T10:10:03.502Z"
   },
   {
    "duration": 119,
    "start_time": "2022-12-15T10:10:03.728Z"
   },
   {
    "duration": 4,
    "start_time": "2022-12-15T10:10:03.850Z"
   },
   {
    "duration": 49,
    "start_time": "2022-12-15T10:10:03.855Z"
   },
   {
    "duration": 144,
    "start_time": "2022-12-15T10:10:03.905Z"
   },
   {
    "duration": 1068,
    "start_time": "2022-12-18T13:02:45.354Z"
   },
   {
    "duration": 90,
    "start_time": "2022-12-18T13:02:46.424Z"
   },
   {
    "duration": 11,
    "start_time": "2022-12-18T13:02:46.515Z"
   },
   {
    "duration": 5,
    "start_time": "2022-12-18T13:02:46.528Z"
   },
   {
    "duration": 19,
    "start_time": "2022-12-18T13:02:46.534Z"
   },
   {
    "duration": 6,
    "start_time": "2022-12-18T13:02:46.554Z"
   },
   {
    "duration": 325,
    "start_time": "2022-12-18T13:02:46.561Z"
   },
   {
    "duration": 518,
    "start_time": "2022-12-18T13:02:46.888Z"
   },
   {
    "duration": 256,
    "start_time": "2022-12-18T13:02:47.408Z"
   },
   {
    "duration": 0,
    "start_time": "2022-12-18T13:02:47.667Z"
   },
   {
    "duration": 1,
    "start_time": "2022-12-18T13:02:47.667Z"
   },
   {
    "duration": 0,
    "start_time": "2022-12-18T13:02:47.669Z"
   },
   {
    "duration": 38,
    "start_time": "2022-12-18T13:03:02.149Z"
   },
   {
    "duration": 286,
    "start_time": "2022-12-18T13:10:57.919Z"
   },
   {
    "duration": 6,
    "start_time": "2022-12-18T13:14:09.937Z"
   },
   {
    "duration": 264,
    "start_time": "2022-12-18T13:14:46.246Z"
   },
   {
    "duration": 309,
    "start_time": "2022-12-18T13:14:53.819Z"
   },
   {
    "duration": 986,
    "start_time": "2022-12-18T13:15:03.574Z"
   },
   {
    "duration": 2091,
    "start_time": "2022-12-18T13:15:14.258Z"
   },
   {
    "duration": 26,
    "start_time": "2022-12-18T13:19:12.928Z"
   },
   {
    "duration": 32,
    "start_time": "2022-12-18T13:19:37.268Z"
   },
   {
    "duration": 29,
    "start_time": "2022-12-18T13:19:56.582Z"
   },
   {
    "duration": 3788,
    "start_time": "2022-12-18T13:31:42.035Z"
   },
   {
    "duration": 5951,
    "start_time": "2022-12-18T13:31:58.069Z"
   },
   {
    "duration": 229,
    "start_time": "2022-12-18T13:32:12.575Z"
   },
   {
    "duration": 71,
    "start_time": "2022-12-18T13:39:20.023Z"
   },
   {
    "duration": 44,
    "start_time": "2022-12-18T13:40:06.071Z"
   },
   {
    "duration": 207,
    "start_time": "2022-12-18T13:40:12.867Z"
   },
   {
    "duration": 579,
    "start_time": "2022-12-18T13:40:47.539Z"
   },
   {
    "duration": 63,
    "start_time": "2022-12-18T13:41:02.815Z"
   },
   {
    "duration": 5,
    "start_time": "2022-12-18T14:21:57.937Z"
   },
   {
    "duration": 52,
    "start_time": "2022-12-18T14:21:57.945Z"
   },
   {
    "duration": 16,
    "start_time": "2022-12-18T14:21:57.999Z"
   },
   {
    "duration": 23,
    "start_time": "2022-12-18T14:21:58.018Z"
   },
   {
    "duration": 21,
    "start_time": "2022-12-18T14:21:58.045Z"
   },
   {
    "duration": 8,
    "start_time": "2022-12-18T14:21:58.164Z"
   },
   {
    "duration": 6108,
    "start_time": "2022-12-18T14:21:58.177Z"
   },
   {
    "duration": 850,
    "start_time": "2022-12-18T14:22:04.287Z"
   },
   {
    "duration": 232,
    "start_time": "2022-12-18T14:22:05.139Z"
   },
   {
    "duration": 6,
    "start_time": "2022-12-18T14:22:05.373Z"
   },
   {
    "duration": 4,
    "start_time": "2022-12-18T14:22:05.381Z"
   },
   {
    "duration": 6,
    "start_time": "2022-12-18T14:22:05.410Z"
   },
   {
    "duration": 40,
    "start_time": "2022-12-18T14:22:05.419Z"
   },
   {
    "duration": 31,
    "start_time": "2022-12-18T14:25:18.548Z"
   },
   {
    "duration": 30,
    "start_time": "2022-12-18T14:25:46.989Z"
   },
   {
    "duration": 26,
    "start_time": "2022-12-18T14:26:02.488Z"
   },
   {
    "duration": 18,
    "start_time": "2022-12-18T14:26:10.938Z"
   },
   {
    "duration": 25,
    "start_time": "2022-12-18T14:26:18.118Z"
   },
   {
    "duration": 6,
    "start_time": "2022-12-18T14:26:37.272Z"
   },
   {
    "duration": 69,
    "start_time": "2022-12-18T14:26:56.818Z"
   },
   {
    "duration": 210,
    "start_time": "2022-12-18T14:27:06.727Z"
   },
   {
    "duration": 356,
    "start_time": "2022-12-18T14:27:13.930Z"
   },
   {
    "duration": 450,
    "start_time": "2022-12-18T14:27:31.564Z"
   },
   {
    "duration": 1154,
    "start_time": "2022-12-18T14:27:36.060Z"
   },
   {
    "duration": 6254,
    "start_time": "2022-12-18T14:27:44.862Z"
   },
   {
    "duration": 29,
    "start_time": "2022-12-18T14:38:35.214Z"
   },
   {
    "duration": 27,
    "start_time": "2022-12-18T14:41:04.788Z"
   },
   {
    "duration": 70,
    "start_time": "2022-12-18T14:41:11.793Z"
   },
   {
    "duration": 257,
    "start_time": "2022-12-18T14:41:19.347Z"
   },
   {
    "duration": 2136,
    "start_time": "2022-12-18T14:53:07.001Z"
   },
   {
    "duration": 22156,
    "start_time": "2022-12-18T14:53:14.367Z"
   },
   {
    "duration": 22381,
    "start_time": "2022-12-18T14:53:57.636Z"
   },
   {
    "duration": 13386,
    "start_time": "2022-12-18T14:56:07.901Z"
   },
   {
    "duration": 18,
    "start_time": "2022-12-18T14:56:52.336Z"
   },
   {
    "duration": 69,
    "start_time": "2022-12-18T14:57:10.639Z"
   },
   {
    "duration": 18,
    "start_time": "2022-12-18T15:52:32.577Z"
   },
   {
    "duration": 68,
    "start_time": "2022-12-18T15:53:04.002Z"
   },
   {
    "duration": 13045,
    "start_time": "2022-12-18T15:53:26.317Z"
   },
   {
    "duration": 449,
    "start_time": "2022-12-18T16:00:40.896Z"
   },
   {
    "duration": 32,
    "start_time": "2022-12-18T16:01:06.633Z"
   },
   {
    "duration": 36,
    "start_time": "2022-12-18T16:01:10.496Z"
   },
   {
    "duration": 44,
    "start_time": "2022-12-18T16:01:15.133Z"
   },
   {
    "duration": 49,
    "start_time": "2022-12-18T16:01:18.958Z"
   },
   {
    "duration": 51,
    "start_time": "2022-12-18T16:01:22.497Z"
   },
   {
    "duration": 56,
    "start_time": "2022-12-18T16:01:27.099Z"
   },
   {
    "duration": 58,
    "start_time": "2022-12-18T16:01:32.600Z"
   },
   {
    "duration": 62,
    "start_time": "2022-12-18T16:01:37.330Z"
   },
   {
    "duration": 69,
    "start_time": "2022-12-18T16:01:40.804Z"
   },
   {
    "duration": 16,
    "start_time": "2022-12-18T16:01:47.386Z"
   },
   {
    "duration": 79,
    "start_time": "2022-12-18T16:01:54.467Z"
   },
   {
    "duration": 83,
    "start_time": "2022-12-18T16:01:59.032Z"
   },
   {
    "duration": 85,
    "start_time": "2022-12-18T16:05:25.797Z"
   },
   {
    "duration": 88,
    "start_time": "2022-12-18T16:05:29.277Z"
   },
   {
    "duration": 98,
    "start_time": "2022-12-18T16:05:32.997Z"
   },
   {
    "duration": 48,
    "start_time": "2022-12-18T16:05:39.156Z"
   },
   {
    "duration": 164,
    "start_time": "2022-12-18T16:06:25.449Z"
   },
   {
    "duration": 123,
    "start_time": "2022-12-18T16:06:29.089Z"
   },
   {
    "duration": 20,
    "start_time": "2022-12-18T16:06:32.086Z"
   },
   {
    "duration": 200,
    "start_time": "2022-12-18T16:06:39.311Z"
   },
   {
    "duration": 12,
    "start_time": "2022-12-18T16:07:25.925Z"
   },
   {
    "duration": 14,
    "start_time": "2022-12-18T16:07:37.901Z"
   },
   {
    "duration": 14,
    "start_time": "2022-12-18T16:07:45.338Z"
   },
   {
    "duration": 13,
    "start_time": "2022-12-18T16:08:22.765Z"
   },
   {
    "duration": 13,
    "start_time": "2022-12-18T16:08:35.386Z"
   },
   {
    "duration": 15,
    "start_time": "2022-12-18T16:08:39.074Z"
   },
   {
    "duration": 15,
    "start_time": "2022-12-18T16:08:42.089Z"
   },
   {
    "duration": 17,
    "start_time": "2022-12-18T16:08:46.145Z"
   },
   {
    "duration": 18,
    "start_time": "2022-12-18T16:08:49.904Z"
   },
   {
    "duration": 18,
    "start_time": "2022-12-18T16:08:55.778Z"
   },
   {
    "duration": 47,
    "start_time": "2022-12-19T06:37:16.262Z"
   },
   {
    "duration": 1040,
    "start_time": "2022-12-19T06:37:20.559Z"
   },
   {
    "duration": 141,
    "start_time": "2022-12-19T06:37:21.601Z"
   },
   {
    "duration": 9,
    "start_time": "2022-12-19T06:37:21.744Z"
   },
   {
    "duration": 19,
    "start_time": "2022-12-19T06:37:21.755Z"
   },
   {
    "duration": 8,
    "start_time": "2022-12-19T06:37:21.775Z"
   },
   {
    "duration": 27,
    "start_time": "2022-12-19T06:37:21.784Z"
   },
   {
    "duration": 9,
    "start_time": "2022-12-19T06:37:21.813Z"
   },
   {
    "duration": 13085,
    "start_time": "2022-12-19T06:37:21.823Z"
   },
   {
    "duration": 53,
    "start_time": "2022-12-19T06:37:34.909Z"
   },
   {
    "duration": 233,
    "start_time": "2022-12-19T06:37:34.965Z"
   },
   {
    "duration": 113,
    "start_time": "2022-12-19T06:37:35.199Z"
   },
   {
    "duration": 6,
    "start_time": "2022-12-19T06:37:35.314Z"
   },
   {
    "duration": 5,
    "start_time": "2022-12-19T06:37:35.321Z"
   },
   {
    "duration": 9,
    "start_time": "2022-12-19T06:37:35.327Z"
   },
   {
    "duration": 80,
    "start_time": "2022-12-19T06:37:35.338Z"
   },
   {
    "duration": 4,
    "start_time": "2022-12-19T06:43:17.437Z"
   },
   {
    "duration": 10,
    "start_time": "2022-12-19T06:43:18.260Z"
   },
   {
    "duration": 16,
    "start_time": "2022-12-19T06:43:19.577Z"
   },
   {
    "duration": 18,
    "start_time": "2022-12-19T06:43:36.558Z"
   },
   {
    "duration": 3,
    "start_time": "2022-12-19T06:43:56.565Z"
   },
   {
    "duration": 36,
    "start_time": "2022-12-19T06:43:56.593Z"
   },
   {
    "duration": 10,
    "start_time": "2022-12-19T06:43:56.659Z"
   },
   {
    "duration": 13,
    "start_time": "2022-12-19T06:43:56.671Z"
   },
   {
    "duration": 11,
    "start_time": "2022-12-19T06:43:56.685Z"
   },
   {
    "duration": 0,
    "start_time": "2022-12-19T06:43:56.697Z"
   },
   {
    "duration": 18,
    "start_time": "2022-12-19T06:43:56.749Z"
   },
   {
    "duration": 6,
    "start_time": "2022-12-19T06:43:56.768Z"
   },
   {
    "duration": 11415,
    "start_time": "2022-12-19T06:43:56.775Z"
   },
   {
    "duration": 43,
    "start_time": "2022-12-19T06:44:08.191Z"
   },
   {
    "duration": 168,
    "start_time": "2022-12-19T06:44:08.235Z"
   },
   {
    "duration": 192,
    "start_time": "2022-12-19T06:44:08.405Z"
   },
   {
    "duration": 6,
    "start_time": "2022-12-19T06:44:08.600Z"
   },
   {
    "duration": 3,
    "start_time": "2022-12-19T06:44:08.608Z"
   },
   {
    "duration": 10,
    "start_time": "2022-12-19T06:44:08.613Z"
   },
   {
    "duration": 10,
    "start_time": "2022-12-19T06:44:08.625Z"
   },
   {
    "duration": 13,
    "start_time": "2022-12-19T06:44:55.360Z"
   },
   {
    "duration": 13,
    "start_time": "2022-12-19T06:45:00.733Z"
   },
   {
    "duration": 12,
    "start_time": "2022-12-19T06:45:10.206Z"
   },
   {
    "duration": 16,
    "start_time": "2022-12-19T06:45:26.123Z"
   },
   {
    "duration": 4,
    "start_time": "2022-12-19T06:45:35.128Z"
   },
   {
    "duration": 39,
    "start_time": "2022-12-19T06:45:35.138Z"
   },
   {
    "duration": 12,
    "start_time": "2022-12-19T06:45:35.179Z"
   },
   {
    "duration": 13,
    "start_time": "2022-12-19T06:45:35.201Z"
   },
   {
    "duration": 9,
    "start_time": "2022-12-19T06:45:35.216Z"
   },
   {
    "duration": 8,
    "start_time": "2022-12-19T06:45:35.227Z"
   },
   {
    "duration": 21,
    "start_time": "2022-12-19T06:45:35.237Z"
   },
   {
    "duration": 6,
    "start_time": "2022-12-19T06:45:35.260Z"
   },
   {
    "duration": 13261,
    "start_time": "2022-12-19T06:45:35.337Z"
   },
   {
    "duration": 44,
    "start_time": "2022-12-19T06:45:48.600Z"
   },
   {
    "duration": 17,
    "start_time": "2022-12-19T06:45:48.645Z"
   },
   {
    "duration": 34,
    "start_time": "2022-12-19T06:45:48.664Z"
   },
   {
    "duration": 6,
    "start_time": "2022-12-19T06:45:48.699Z"
   },
   {
    "duration": 3,
    "start_time": "2022-12-19T06:45:48.706Z"
   },
   {
    "duration": 8,
    "start_time": "2022-12-19T06:45:48.710Z"
   },
   {
    "duration": 9,
    "start_time": "2022-12-19T06:45:48.719Z"
   },
   {
    "duration": 49,
    "start_time": "2022-12-19T06:53:41.565Z"
   },
   {
    "duration": 12,
    "start_time": "2022-12-19T06:57:11.654Z"
   },
   {
    "duration": 186,
    "start_time": "2022-12-19T06:57:51.993Z"
   },
   {
    "duration": 175,
    "start_time": "2022-12-19T06:58:18.399Z"
   },
   {
    "duration": 200,
    "start_time": "2022-12-19T06:58:22.233Z"
   },
   {
    "duration": 17,
    "start_time": "2022-12-19T06:58:45.718Z"
   },
   {
    "duration": 144,
    "start_time": "2022-12-19T06:59:08.738Z"
   },
   {
    "duration": 18,
    "start_time": "2022-12-19T07:00:10.799Z"
   },
   {
    "duration": 29,
    "start_time": "2022-12-19T07:08:04.022Z"
   },
   {
    "duration": 18276,
    "start_time": "2022-12-19T07:08:19.210Z"
   },
   {
    "duration": 18,
    "start_time": "2022-12-19T07:10:39.129Z"
   },
   {
    "duration": 383,
    "start_time": "2022-12-19T07:11:13.316Z"
   },
   {
    "duration": 169,
    "start_time": "2022-12-19T07:11:41.867Z"
   },
   {
    "duration": 24,
    "start_time": "2022-12-19T07:12:03.797Z"
   },
   {
    "duration": 6,
    "start_time": "2022-12-19T07:14:38.923Z"
   },
   {
    "duration": 623,
    "start_time": "2022-12-19T07:15:45.195Z"
   },
   {
    "duration": 648,
    "start_time": "2022-12-19T07:16:04.373Z"
   },
   {
    "duration": 610,
    "start_time": "2022-12-19T07:16:10.332Z"
   },
   {
    "duration": 5,
    "start_time": "2022-12-19T07:17:51.118Z"
   },
   {
    "duration": 582,
    "start_time": "2022-12-19T07:21:56.687Z"
   },
   {
    "duration": 13,
    "start_time": "2022-12-19T07:22:03.138Z"
   },
   {
    "duration": 52,
    "start_time": "2022-12-19T07:26:07.851Z"
   },
   {
    "duration": 44,
    "start_time": "2022-12-19T07:26:28.073Z"
   },
   {
    "duration": 1765,
    "start_time": "2022-12-19T07:26:38.843Z"
   },
   {
    "duration": 1812,
    "start_time": "2022-12-19T07:27:31.063Z"
   },
   {
    "duration": 1162,
    "start_time": "2022-12-19T07:53:17.838Z"
   },
   {
    "duration": 51,
    "start_time": "2022-12-19T07:53:19.002Z"
   },
   {
    "duration": 15,
    "start_time": "2022-12-19T07:53:19.054Z"
   },
   {
    "duration": 23,
    "start_time": "2022-12-19T07:53:19.072Z"
   },
   {
    "duration": 14,
    "start_time": "2022-12-19T07:53:19.098Z"
   },
   {
    "duration": 136,
    "start_time": "2022-12-19T07:53:19.114Z"
   },
   {
    "duration": 0,
    "start_time": "2022-12-19T07:53:19.253Z"
   },
   {
    "duration": 0,
    "start_time": "2022-12-19T07:53:19.255Z"
   },
   {
    "duration": 0,
    "start_time": "2022-12-19T07:53:19.257Z"
   },
   {
    "duration": 0,
    "start_time": "2022-12-19T07:53:19.258Z"
   },
   {
    "duration": 0,
    "start_time": "2022-12-19T07:53:19.260Z"
   },
   {
    "duration": 0,
    "start_time": "2022-12-19T07:53:19.261Z"
   },
   {
    "duration": 0,
    "start_time": "2022-12-19T07:53:19.263Z"
   },
   {
    "duration": 0,
    "start_time": "2022-12-19T07:53:19.264Z"
   },
   {
    "duration": 0,
    "start_time": "2022-12-19T07:53:19.266Z"
   },
   {
    "duration": 0,
    "start_time": "2022-12-19T07:53:19.267Z"
   },
   {
    "duration": 0,
    "start_time": "2022-12-19T07:53:19.297Z"
   },
   {
    "duration": 557,
    "start_time": "2022-12-19T07:53:48.120Z"
   },
   {
    "duration": 9,
    "start_time": "2022-12-19T07:53:58.027Z"
   },
   {
    "duration": 3,
    "start_time": "2022-12-19T07:54:12.951Z"
   },
   {
    "duration": 36,
    "start_time": "2022-12-19T07:54:12.956Z"
   },
   {
    "duration": 8,
    "start_time": "2022-12-19T07:54:12.994Z"
   },
   {
    "duration": 123652,
    "start_time": "2022-12-19T07:54:13.004Z"
   },
   {
    "duration": 40,
    "start_time": "2022-12-19T07:56:16.658Z"
   },
   {
    "duration": 165,
    "start_time": "2022-12-19T07:56:16.700Z"
   },
   {
    "duration": 18,
    "start_time": "2022-12-19T07:56:16.867Z"
   },
   {
    "duration": 74,
    "start_time": "2022-12-19T07:56:16.897Z"
   },
   {
    "duration": 3,
    "start_time": "2022-12-19T07:56:16.972Z"
   },
   {
    "duration": 21,
    "start_time": "2022-12-19T07:56:16.977Z"
   },
   {
    "duration": 19,
    "start_time": "2022-12-19T07:56:17.002Z"
   },
   {
    "duration": 0,
    "start_time": "2022-12-19T07:56:17.029Z"
   },
   {
    "duration": 0,
    "start_time": "2022-12-19T07:56:17.030Z"
   },
   {
    "duration": 11,
    "start_time": "2022-12-19T08:00:15.531Z"
   },
   {
    "duration": 14,
    "start_time": "2022-12-19T08:00:42.801Z"
   },
   {
    "duration": 196,
    "start_time": "2022-12-19T08:01:16.368Z"
   },
   {
    "duration": 191,
    "start_time": "2022-12-19T08:01:31.448Z"
   },
   {
    "duration": 184,
    "start_time": "2022-12-19T08:02:45.656Z"
   },
   {
    "duration": 19,
    "start_time": "2022-12-19T08:04:16.382Z"
   },
   {
    "duration": 14,
    "start_time": "2022-12-19T08:04:20.716Z"
   },
   {
    "duration": 16,
    "start_time": "2022-12-19T08:12:21.548Z"
   },
   {
    "duration": 184,
    "start_time": "2022-12-19T08:13:07.268Z"
   },
   {
    "duration": 194,
    "start_time": "2022-12-19T08:13:32.712Z"
   },
   {
    "duration": 335,
    "start_time": "2022-12-19T08:14:45.550Z"
   },
   {
    "duration": 4,
    "start_time": "2022-12-19T08:14:51.597Z"
   },
   {
    "duration": 57,
    "start_time": "2022-12-19T08:14:51.604Z"
   },
   {
    "duration": 10,
    "start_time": "2022-12-19T08:14:51.663Z"
   },
   {
    "duration": 40,
    "start_time": "2022-12-19T08:14:51.675Z"
   },
   {
    "duration": 18,
    "start_time": "2022-12-19T08:14:51.717Z"
   },
   {
    "duration": 544,
    "start_time": "2022-12-19T08:14:51.737Z"
   },
   {
    "duration": 0,
    "start_time": "2022-12-19T08:14:52.283Z"
   },
   {
    "duration": 0,
    "start_time": "2022-12-19T08:14:52.284Z"
   },
   {
    "duration": 0,
    "start_time": "2022-12-19T08:14:52.285Z"
   },
   {
    "duration": 0,
    "start_time": "2022-12-19T08:14:52.286Z"
   },
   {
    "duration": 0,
    "start_time": "2022-12-19T08:14:52.287Z"
   },
   {
    "duration": 0,
    "start_time": "2022-12-19T08:14:52.288Z"
   },
   {
    "duration": 0,
    "start_time": "2022-12-19T08:14:52.289Z"
   },
   {
    "duration": 0,
    "start_time": "2022-12-19T08:14:52.290Z"
   },
   {
    "duration": 0,
    "start_time": "2022-12-19T08:14:52.291Z"
   },
   {
    "duration": 0,
    "start_time": "2022-12-19T08:14:52.292Z"
   },
   {
    "duration": 6,
    "start_time": "2022-12-19T08:15:50.940Z"
   },
   {
    "duration": 2,
    "start_time": "2022-12-19T08:15:50.966Z"
   },
   {
    "duration": 28,
    "start_time": "2022-12-19T08:15:50.970Z"
   },
   {
    "duration": 6,
    "start_time": "2022-12-19T08:15:51.000Z"
   },
   {
    "duration": 118090,
    "start_time": "2022-12-19T08:15:51.008Z"
   },
   {
    "duration": 25,
    "start_time": "2022-12-19T08:17:49.101Z"
   },
   {
    "duration": 175,
    "start_time": "2022-12-19T08:17:49.128Z"
   },
   {
    "duration": 194,
    "start_time": "2022-12-19T08:17:49.304Z"
   },
   {
    "duration": 374,
    "start_time": "2022-12-19T08:17:49.500Z"
   },
   {
    "duration": 0,
    "start_time": "2022-12-19T08:17:49.876Z"
   },
   {
    "duration": 0,
    "start_time": "2022-12-19T08:17:49.877Z"
   },
   {
    "duration": 0,
    "start_time": "2022-12-19T08:17:49.878Z"
   },
   {
    "duration": 9,
    "start_time": "2022-12-19T08:19:53.410Z"
   },
   {
    "duration": 13,
    "start_time": "2022-12-19T08:20:20.219Z"
   },
   {
    "duration": 7,
    "start_time": "2022-12-19T08:20:39.723Z"
   },
   {
    "duration": 531,
    "start_time": "2022-12-19T08:22:42.894Z"
   },
   {
    "duration": 18,
    "start_time": "2022-12-19T08:23:33.111Z"
   },
   {
    "duration": 16,
    "start_time": "2022-12-19T08:23:51.869Z"
   },
   {
    "duration": 199,
    "start_time": "2022-12-19T08:28:35.243Z"
   },
   {
    "duration": 410,
    "start_time": "2022-12-19T08:29:55.991Z"
   },
   {
    "duration": 6,
    "start_time": "2022-12-19T08:30:10.659Z"
   },
   {
    "duration": 428,
    "start_time": "2022-12-19T08:30:15.931Z"
   },
   {
    "duration": 375,
    "start_time": "2022-12-19T08:37:11.175Z"
   },
   {
    "duration": 7,
    "start_time": "2022-12-19T08:39:23.451Z"
   },
   {
    "duration": 384,
    "start_time": "2022-12-19T08:40:07.645Z"
   },
   {
    "duration": 366,
    "start_time": "2022-12-19T08:42:20.477Z"
   },
   {
    "duration": 12,
    "start_time": "2022-12-19T08:42:50.764Z"
   },
   {
    "duration": 11,
    "start_time": "2022-12-19T08:44:26.256Z"
   },
   {
    "duration": 17,
    "start_time": "2022-12-19T08:44:43.018Z"
   },
   {
    "duration": 3,
    "start_time": "2022-12-19T08:44:50.821Z"
   },
   {
    "duration": 38,
    "start_time": "2022-12-19T08:44:50.846Z"
   },
   {
    "duration": 9,
    "start_time": "2022-12-19T08:44:50.886Z"
   },
   {
    "duration": 19,
    "start_time": "2022-12-19T08:44:50.897Z"
   },
   {
    "duration": 12,
    "start_time": "2022-12-19T08:44:50.918Z"
   },
   {
    "duration": 18,
    "start_time": "2022-12-19T08:44:50.933Z"
   },
   {
    "duration": 0,
    "start_time": "2022-12-19T08:44:50.953Z"
   },
   {
    "duration": 0,
    "start_time": "2022-12-19T08:44:50.954Z"
   },
   {
    "duration": 0,
    "start_time": "2022-12-19T08:44:50.955Z"
   },
   {
    "duration": 0,
    "start_time": "2022-12-19T08:44:50.956Z"
   },
   {
    "duration": 0,
    "start_time": "2022-12-19T08:44:50.957Z"
   },
   {
    "duration": 0,
    "start_time": "2022-12-19T08:44:50.958Z"
   },
   {
    "duration": 0,
    "start_time": "2022-12-19T08:44:50.959Z"
   },
   {
    "duration": 0,
    "start_time": "2022-12-19T08:44:50.960Z"
   },
   {
    "duration": 0,
    "start_time": "2022-12-19T08:44:50.961Z"
   },
   {
    "duration": 0,
    "start_time": "2022-12-19T08:44:50.962Z"
   },
   {
    "duration": 3,
    "start_time": "2022-12-19T08:50:52.011Z"
   },
   {
    "duration": 21,
    "start_time": "2022-12-19T08:50:52.016Z"
   },
   {
    "duration": 17,
    "start_time": "2022-12-19T08:50:52.039Z"
   },
   {
    "duration": 7,
    "start_time": "2022-12-19T08:50:52.059Z"
   },
   {
    "duration": 48899,
    "start_time": "2022-12-19T08:50:52.068Z"
   },
   {
    "duration": 28,
    "start_time": "2022-12-19T08:51:40.968Z"
   },
   {
    "duration": 156,
    "start_time": "2022-12-19T08:51:40.998Z"
   },
   {
    "duration": 192,
    "start_time": "2022-12-19T08:51:41.156Z"
   },
   {
    "duration": 12,
    "start_time": "2022-12-19T08:51:41.350Z"
   },
   {
    "duration": 0,
    "start_time": "2022-12-19T08:51:41.364Z"
   },
   {
    "duration": 0,
    "start_time": "2022-12-19T08:51:41.365Z"
   },
   {
    "duration": 0,
    "start_time": "2022-12-19T08:51:41.367Z"
   },
   {
    "duration": 14,
    "start_time": "2022-12-19T08:51:43.505Z"
   },
   {
    "duration": 3,
    "start_time": "2022-12-19T08:51:48.466Z"
   },
   {
    "duration": 40,
    "start_time": "2022-12-19T08:51:48.496Z"
   },
   {
    "duration": 10,
    "start_time": "2022-12-19T08:51:48.538Z"
   },
   {
    "duration": 12,
    "start_time": "2022-12-19T08:51:48.550Z"
   },
   {
    "duration": 9,
    "start_time": "2022-12-19T08:51:48.563Z"
   },
   {
    "duration": 4,
    "start_time": "2022-12-19T08:51:48.574Z"
   },
   {
    "duration": 9,
    "start_time": "2022-12-19T08:51:48.580Z"
   },
   {
    "duration": 19,
    "start_time": "2022-12-19T08:51:48.590Z"
   },
   {
    "duration": 15,
    "start_time": "2022-12-19T08:51:48.612Z"
   },
   {
    "duration": 0,
    "start_time": "2022-12-19T08:51:48.628Z"
   },
   {
    "duration": 0,
    "start_time": "2022-12-19T08:51:48.630Z"
   },
   {
    "duration": 0,
    "start_time": "2022-12-19T08:51:48.631Z"
   },
   {
    "duration": 0,
    "start_time": "2022-12-19T08:51:48.632Z"
   },
   {
    "duration": 0,
    "start_time": "2022-12-19T08:51:48.633Z"
   },
   {
    "duration": 0,
    "start_time": "2022-12-19T08:51:48.634Z"
   },
   {
    "duration": 0,
    "start_time": "2022-12-19T08:51:48.635Z"
   },
   {
    "duration": 11,
    "start_time": "2022-12-19T08:52:08.495Z"
   },
   {
    "duration": 3,
    "start_time": "2022-12-19T08:52:15.995Z"
   },
   {
    "duration": 15,
    "start_time": "2022-12-19T08:52:17.300Z"
   },
   {
    "duration": 12,
    "start_time": "2022-12-19T08:52:33.429Z"
   },
   {
    "duration": 3,
    "start_time": "2022-12-19T08:52:36.613Z"
   },
   {
    "duration": 11,
    "start_time": "2022-12-19T08:52:37.316Z"
   },
   {
    "duration": 10,
    "start_time": "2022-12-19T08:52:46.811Z"
   },
   {
    "duration": 4,
    "start_time": "2022-12-19T08:52:49.613Z"
   },
   {
    "duration": 21,
    "start_time": "2022-12-19T08:52:50.323Z"
   },
   {
    "duration": 18,
    "start_time": "2022-12-19T08:53:37.755Z"
   },
   {
    "duration": 3,
    "start_time": "2022-12-19T08:53:58.911Z"
   },
   {
    "duration": 13,
    "start_time": "2022-12-19T08:53:59.619Z"
   },
   {
    "duration": 6,
    "start_time": "2022-12-19T08:54:10.797Z"
   },
   {
    "duration": 94880,
    "start_time": "2022-12-19T08:54:10.806Z"
   },
   {
    "duration": 33,
    "start_time": "2022-12-19T08:55:45.688Z"
   },
   {
    "duration": 110,
    "start_time": "2022-12-19T08:55:45.723Z"
   },
   {
    "duration": 163,
    "start_time": "2022-12-19T08:55:45.835Z"
   },
   {
    "duration": 15,
    "start_time": "2022-12-19T08:55:46.000Z"
   },
   {
    "duration": 0,
    "start_time": "2022-12-19T08:55:46.018Z"
   },
   {
    "duration": 0,
    "start_time": "2022-12-19T08:55:46.020Z"
   },
   {
    "duration": 1277,
    "start_time": "2022-12-19T09:15:18.650Z"
   },
   {
    "duration": 0,
    "start_time": "2022-12-19T09:15:19.929Z"
   },
   {
    "duration": 0,
    "start_time": "2022-12-19T09:15:19.931Z"
   },
   {
    "duration": 0,
    "start_time": "2022-12-19T09:15:19.933Z"
   },
   {
    "duration": 0,
    "start_time": "2022-12-19T09:15:19.934Z"
   },
   {
    "duration": 0,
    "start_time": "2022-12-19T09:15:19.942Z"
   },
   {
    "duration": 0,
    "start_time": "2022-12-19T09:15:19.944Z"
   },
   {
    "duration": 0,
    "start_time": "2022-12-19T09:15:19.945Z"
   },
   {
    "duration": 0,
    "start_time": "2022-12-19T09:15:19.946Z"
   },
   {
    "duration": 0,
    "start_time": "2022-12-19T09:15:19.948Z"
   },
   {
    "duration": 0,
    "start_time": "2022-12-19T09:15:19.950Z"
   },
   {
    "duration": 0,
    "start_time": "2022-12-19T09:15:19.951Z"
   },
   {
    "duration": 0,
    "start_time": "2022-12-19T09:15:19.953Z"
   },
   {
    "duration": 0,
    "start_time": "2022-12-19T09:15:19.954Z"
   },
   {
    "duration": 0,
    "start_time": "2022-12-19T09:15:19.955Z"
   },
   {
    "duration": 0,
    "start_time": "2022-12-19T09:15:19.957Z"
   },
   {
    "duration": 0,
    "start_time": "2022-12-19T09:15:19.958Z"
   },
   {
    "duration": 11,
    "start_time": "2022-12-19T09:16:39.192Z"
   },
   {
    "duration": 12,
    "start_time": "2022-12-19T09:17:22.411Z"
   },
   {
    "duration": 7,
    "start_time": "2022-12-19T09:17:30.770Z"
   },
   {
    "duration": 1122,
    "start_time": "2022-12-19T09:17:47.190Z"
   },
   {
    "duration": 55,
    "start_time": "2022-12-19T09:17:48.315Z"
   },
   {
    "duration": 16,
    "start_time": "2022-12-19T09:17:48.371Z"
   },
   {
    "duration": 19,
    "start_time": "2022-12-19T09:17:48.389Z"
   },
   {
    "duration": 12,
    "start_time": "2022-12-19T09:17:48.410Z"
   },
   {
    "duration": 120,
    "start_time": "2022-12-19T09:17:48.424Z"
   },
   {
    "duration": 0,
    "start_time": "2022-12-19T09:17:48.545Z"
   },
   {
    "duration": 0,
    "start_time": "2022-12-19T09:17:48.547Z"
   },
   {
    "duration": 0,
    "start_time": "2022-12-19T09:17:48.549Z"
   },
   {
    "duration": 0,
    "start_time": "2022-12-19T09:17:48.551Z"
   },
   {
    "duration": 0,
    "start_time": "2022-12-19T09:17:48.552Z"
   },
   {
    "duration": 0,
    "start_time": "2022-12-19T09:17:48.554Z"
   },
   {
    "duration": 0,
    "start_time": "2022-12-19T09:17:48.556Z"
   },
   {
    "duration": 0,
    "start_time": "2022-12-19T09:17:48.558Z"
   },
   {
    "duration": 0,
    "start_time": "2022-12-19T09:17:48.559Z"
   },
   {
    "duration": 0,
    "start_time": "2022-12-19T09:17:48.561Z"
   },
   {
    "duration": 0,
    "start_time": "2022-12-19T09:17:48.562Z"
   },
   {
    "duration": 2,
    "start_time": "2022-12-19T09:17:59.568Z"
   },
   {
    "duration": 3,
    "start_time": "2022-12-19T09:17:59.575Z"
   },
   {
    "duration": 15,
    "start_time": "2022-12-19T09:17:59.588Z"
   },
   {
    "duration": 7,
    "start_time": "2022-12-19T09:17:59.606Z"
   },
   {
    "duration": 96630,
    "start_time": "2022-12-19T09:17:59.615Z"
   },
   {
    "duration": 35,
    "start_time": "2022-12-19T09:19:36.247Z"
   },
   {
    "duration": 233580,
    "start_time": "2022-12-19T09:19:36.283Z"
   },
   {
    "duration": 158,
    "start_time": "2022-12-19T09:23:29.864Z"
   },
   {
    "duration": 6,
    "start_time": "2022-12-19T09:23:30.024Z"
   },
   {
    "duration": 27,
    "start_time": "2022-12-19T09:23:30.033Z"
   },
   {
    "duration": 0,
    "start_time": "2022-12-19T09:23:30.062Z"
   },
   {
    "duration": 0,
    "start_time": "2022-12-19T09:23:30.063Z"
   },
   {
    "duration": 11,
    "start_time": "2022-12-19T09:24:53.604Z"
   },
   {
    "duration": 6,
    "start_time": "2022-12-19T09:28:15.198Z"
   },
   {
    "duration": 15,
    "start_time": "2022-12-19T09:28:17.137Z"
   },
   {
    "duration": 8,
    "start_time": "2022-12-19T09:28:34.676Z"
   },
   {
    "duration": 745,
    "start_time": "2022-12-19T09:29:04.408Z"
   },
   {
    "duration": 6,
    "start_time": "2022-12-19T09:29:14.551Z"
   },
   {
    "duration": 717,
    "start_time": "2022-12-19T09:29:17.029Z"
   },
   {
    "duration": 20,
    "start_time": "2022-12-19T09:35:35.717Z"
   },
   {
    "duration": 8,
    "start_time": "2022-12-19T09:35:43.246Z"
   },
   {
    "duration": 832,
    "start_time": "2022-12-19T09:35:44.386Z"
   },
   {
    "duration": 14,
    "start_time": "2022-12-19T09:37:52.199Z"
   },
   {
    "duration": 9,
    "start_time": "2022-12-19T09:38:49.935Z"
   },
   {
    "duration": 357,
    "start_time": "2022-12-19T09:38:51.082Z"
   },
   {
    "duration": 14,
    "start_time": "2022-12-19T09:39:08.807Z"
   },
   {
    "duration": 12,
    "start_time": "2022-12-19T09:39:16.781Z"
   },
   {
    "duration": 861,
    "start_time": "2022-12-19T09:39:33.182Z"
   },
   {
    "duration": 8,
    "start_time": "2022-12-19T09:39:38.700Z"
   },
   {
    "duration": 6,
    "start_time": "2022-12-19T09:39:54.600Z"
   },
   {
    "duration": 8,
    "start_time": "2022-12-19T09:39:58.636Z"
   },
   {
    "duration": 326,
    "start_time": "2022-12-19T09:40:02.021Z"
   },
   {
    "duration": 5,
    "start_time": "2022-12-19T09:40:09.766Z"
   },
   {
    "duration": 5,
    "start_time": "2022-12-19T09:40:15.590Z"
   },
   {
    "duration": 12,
    "start_time": "2022-12-19T09:40:25.859Z"
   },
   {
    "duration": 10,
    "start_time": "2022-12-19T09:43:02.578Z"
   },
   {
    "duration": 8,
    "start_time": "2022-12-19T09:43:07.209Z"
   },
   {
    "duration": 344,
    "start_time": "2022-12-19T09:43:08.621Z"
   },
   {
    "duration": 7,
    "start_time": "2022-12-19T09:43:17.409Z"
   },
   {
    "duration": 19,
    "start_time": "2022-12-19T09:44:07.861Z"
   },
   {
    "duration": 15,
    "start_time": "2022-12-19T09:44:17.854Z"
   },
   {
    "duration": 11,
    "start_time": "2022-12-19T09:44:38.857Z"
   },
   {
    "duration": 22,
    "start_time": "2022-12-19T09:45:18.385Z"
   },
   {
    "duration": 395,
    "start_time": "2022-12-19T09:45:20.023Z"
   },
   {
    "duration": 378,
    "start_time": "2022-12-19T09:45:24.223Z"
   },
   {
    "duration": 7,
    "start_time": "2022-12-19T09:45:30.303Z"
   },
   {
    "duration": 16,
    "start_time": "2022-12-19T09:45:57.545Z"
   },
   {
    "duration": 387,
    "start_time": "2022-12-19T09:45:57.821Z"
   },
   {
    "duration": 19,
    "start_time": "2022-12-19T09:49:52.511Z"
   },
   {
    "duration": 385,
    "start_time": "2022-12-19T09:49:53.222Z"
   },
   {
    "duration": 304,
    "start_time": "2022-12-19T09:50:15.488Z"
   },
   {
    "duration": 267,
    "start_time": "2022-12-19T09:50:40.625Z"
   },
   {
    "duration": 15,
    "start_time": "2022-12-19T09:51:26.023Z"
   },
   {
    "duration": 8,
    "start_time": "2022-12-19T09:51:33.926Z"
   },
   {
    "duration": 4,
    "start_time": "2022-12-19T09:51:46.162Z"
   },
   {
    "duration": 99,
    "start_time": "2022-12-19T09:51:46.177Z"
   },
   {
    "duration": 14,
    "start_time": "2022-12-19T09:51:46.279Z"
   },
   {
    "duration": 47,
    "start_time": "2022-12-19T09:51:46.295Z"
   },
   {
    "duration": 28,
    "start_time": "2022-12-19T09:51:46.346Z"
   },
   {
    "duration": 27,
    "start_time": "2022-12-19T09:51:46.376Z"
   },
   {
    "duration": 32,
    "start_time": "2022-12-19T09:51:46.405Z"
   },
   {
    "duration": 41,
    "start_time": "2022-12-19T09:51:46.439Z"
   },
   {
    "duration": 13,
    "start_time": "2022-12-19T09:51:46.483Z"
   },
   {
    "duration": 99963,
    "start_time": "2022-12-19T09:51:46.499Z"
   },
   {
    "duration": 48,
    "start_time": "2022-12-19T09:53:26.465Z"
   },
   {
    "duration": 186,
    "start_time": "2022-12-19T09:53:26.516Z"
   },
   {
    "duration": 292,
    "start_time": "2022-12-19T09:53:26.704Z"
   },
   {
    "duration": 6,
    "start_time": "2022-12-19T09:53:26.998Z"
   },
   {
    "duration": 2,
    "start_time": "2022-12-19T10:09:53.499Z"
   },
   {
    "duration": 13,
    "start_time": "2022-12-19T10:09:59.006Z"
   },
   {
    "duration": 11,
    "start_time": "2022-12-19T10:10:18.202Z"
   },
   {
    "duration": 93689,
    "start_time": "2022-12-19T10:12:09.437Z"
   },
   {
    "duration": 104891,
    "start_time": "2022-12-19T10:17:28.533Z"
   },
   {
    "duration": 5,
    "start_time": "2022-12-19T10:19:13.426Z"
   },
   {
    "duration": 207,
    "start_time": "2022-12-19T10:19:33.842Z"
   },
   {
    "duration": 6,
    "start_time": "2022-12-19T10:28:00.008Z"
   },
   {
    "duration": 6,
    "start_time": "2022-12-19T10:28:36.129Z"
   },
   {
    "duration": 4,
    "start_time": "2022-12-19T10:35:21.337Z"
   },
   {
    "duration": 3,
    "start_time": "2022-12-19T10:35:59.470Z"
   },
   {
    "duration": 48,
    "start_time": "2022-12-19T10:35:59.477Z"
   },
   {
    "duration": 12,
    "start_time": "2022-12-19T10:35:59.527Z"
   },
   {
    "duration": 17,
    "start_time": "2022-12-19T10:35:59.541Z"
   },
   {
    "duration": 18,
    "start_time": "2022-12-19T10:35:59.561Z"
   },
   {
    "duration": 15,
    "start_time": "2022-12-19T10:35:59.581Z"
   },
   {
    "duration": 7,
    "start_time": "2022-12-19T10:35:59.598Z"
   },
   {
    "duration": 21,
    "start_time": "2022-12-19T10:35:59.606Z"
   },
   {
    "duration": 8,
    "start_time": "2022-12-19T10:35:59.629Z"
   },
   {
    "duration": 147179,
    "start_time": "2022-12-19T10:35:59.638Z"
   },
   {
    "duration": 29,
    "start_time": "2022-12-19T10:38:26.821Z"
   },
   {
    "duration": 171,
    "start_time": "2022-12-19T10:38:26.852Z"
   },
   {
    "duration": 293,
    "start_time": "2022-12-19T10:38:27.025Z"
   },
   {
    "duration": 6,
    "start_time": "2022-12-19T10:38:27.322Z"
   },
   {
    "duration": 134,
    "start_time": "2022-12-19T10:41:13.533Z"
   },
   {
    "duration": 12,
    "start_time": "2022-12-19T10:41:33.421Z"
   },
   {
    "duration": 75,
    "start_time": "2022-12-19T10:41:51.468Z"
   },
   {
    "duration": 537,
    "start_time": "2022-12-19T10:42:14.995Z"
   },
   {
    "duration": 766,
    "start_time": "2022-12-19T10:42:18.325Z"
   },
   {
    "duration": 28,
    "start_time": "2022-12-19T10:42:31.716Z"
   },
   {
    "duration": 163,
    "start_time": "2022-12-19T10:43:46.523Z"
   },
   {
    "duration": 63,
    "start_time": "2022-12-19T10:46:28.967Z"
   },
   {
    "duration": 40,
    "start_time": "2022-12-19T10:46:33.905Z"
   },
   {
    "duration": 36,
    "start_time": "2022-12-19T10:46:43.223Z"
   },
   {
    "duration": 4,
    "start_time": "2022-12-19T10:46:49.907Z"
   },
   {
    "duration": 60,
    "start_time": "2022-12-19T10:46:49.913Z"
   },
   {
    "duration": 12,
    "start_time": "2022-12-19T10:46:49.974Z"
   },
   {
    "duration": 47,
    "start_time": "2022-12-19T10:46:49.988Z"
   },
   {
    "duration": 20,
    "start_time": "2022-12-19T10:46:50.037Z"
   },
   {
    "duration": 22,
    "start_time": "2022-12-19T10:46:50.059Z"
   },
   {
    "duration": 30,
    "start_time": "2022-12-19T10:46:50.083Z"
   },
   {
    "duration": 37,
    "start_time": "2022-12-19T10:46:50.115Z"
   },
   {
    "duration": 11,
    "start_time": "2022-12-19T10:46:50.155Z"
   },
   {
    "duration": 53,
    "start_time": "2022-12-19T10:46:50.168Z"
   },
   {
    "duration": 0,
    "start_time": "2022-12-19T10:46:50.223Z"
   },
   {
    "duration": 0,
    "start_time": "2022-12-19T10:46:50.225Z"
   },
   {
    "duration": 0,
    "start_time": "2022-12-19T10:46:50.226Z"
   },
   {
    "duration": 0,
    "start_time": "2022-12-19T10:46:50.227Z"
   },
   {
    "duration": 31,
    "start_time": "2022-12-19T10:48:56.811Z"
   },
   {
    "duration": 23,
    "start_time": "2022-12-19T10:51:34.822Z"
   },
   {
    "duration": 4,
    "start_time": "2022-12-19T10:51:46.110Z"
   },
   {
    "duration": 38,
    "start_time": "2022-12-19T10:51:46.122Z"
   },
   {
    "duration": 11,
    "start_time": "2022-12-19T10:51:46.161Z"
   },
   {
    "duration": 13,
    "start_time": "2022-12-19T10:51:46.174Z"
   },
   {
    "duration": 9,
    "start_time": "2022-12-19T10:51:46.188Z"
   },
   {
    "duration": 38,
    "start_time": "2022-12-19T10:51:46.200Z"
   },
   {
    "duration": 9,
    "start_time": "2022-12-19T10:51:46.240Z"
   },
   {
    "duration": 22,
    "start_time": "2022-12-19T10:51:46.251Z"
   },
   {
    "duration": 5,
    "start_time": "2022-12-19T10:51:46.275Z"
   },
   {
    "duration": 1087,
    "start_time": "2022-12-20T05:42:07.106Z"
   },
   {
    "duration": 124,
    "start_time": "2022-12-20T05:42:08.195Z"
   },
   {
    "duration": 17,
    "start_time": "2022-12-20T05:42:08.320Z"
   },
   {
    "duration": 15,
    "start_time": "2022-12-20T05:42:08.340Z"
   },
   {
    "duration": 9,
    "start_time": "2022-12-20T05:42:08.357Z"
   },
   {
    "duration": 19,
    "start_time": "2022-12-20T05:42:08.368Z"
   },
   {
    "duration": 9,
    "start_time": "2022-12-20T05:42:08.388Z"
   },
   {
    "duration": 22,
    "start_time": "2022-12-20T05:42:08.399Z"
   },
   {
    "duration": 7,
    "start_time": "2022-12-20T05:42:08.423Z"
   },
   {
    "duration": 119633,
    "start_time": "2022-12-20T05:42:08.432Z"
   },
   {
    "duration": 154,
    "start_time": "2022-12-20T05:44:08.067Z"
   },
   {
    "duration": 143,
    "start_time": "2022-12-20T05:44:08.223Z"
   },
   {
    "duration": 90,
    "start_time": "2022-12-20T05:44:08.367Z"
   },
   {
    "duration": 5,
    "start_time": "2022-12-20T05:44:08.458Z"
   },
   {
    "duration": 1755,
    "start_time": "2022-12-20T06:13:28.937Z"
   },
   {
    "duration": 79,
    "start_time": "2022-12-20T06:13:30.693Z"
   },
   {
    "duration": 12,
    "start_time": "2022-12-20T06:13:30.774Z"
   },
   {
    "duration": 33,
    "start_time": "2022-12-20T06:13:30.788Z"
   },
   {
    "duration": 27,
    "start_time": "2022-12-20T06:13:30.823Z"
   },
   {
    "duration": 25,
    "start_time": "2022-12-20T06:13:30.851Z"
   },
   {
    "duration": 9,
    "start_time": "2022-12-20T06:13:30.878Z"
   },
   {
    "duration": 80,
    "start_time": "2022-12-20T06:13:30.889Z"
   },
   {
    "duration": 49,
    "start_time": "2022-12-20T06:13:30.971Z"
   },
   {
    "duration": 49,
    "start_time": "2022-12-20T07:30:58.255Z"
   },
   {
    "duration": 3,
    "start_time": "2022-12-20T07:31:03.569Z"
   },
   {
    "duration": 37,
    "start_time": "2022-12-20T07:31:03.592Z"
   },
   {
    "duration": 13,
    "start_time": "2022-12-20T07:31:03.631Z"
   },
   {
    "duration": 59,
    "start_time": "2022-12-20T07:31:03.646Z"
   },
   {
    "duration": 9,
    "start_time": "2022-12-20T07:31:03.781Z"
   },
   {
    "duration": 11,
    "start_time": "2022-12-20T07:31:03.792Z"
   },
   {
    "duration": 14,
    "start_time": "2022-12-20T07:31:03.805Z"
   },
   {
    "duration": 25,
    "start_time": "2022-12-20T07:31:03.821Z"
   },
   {
    "duration": 18,
    "start_time": "2022-12-20T07:31:03.848Z"
   },
   {
    "duration": 91,
    "start_time": "2022-12-20T07:31:03.867Z"
   },
   {
    "duration": 28,
    "start_time": "2022-12-20T07:31:03.960Z"
   },
   {
    "duration": 158,
    "start_time": "2022-12-20T07:31:03.989Z"
   },
   {
    "duration": 16,
    "start_time": "2022-12-20T07:31:04.149Z"
   },
   {
    "duration": 0,
    "start_time": "2022-12-20T07:31:04.167Z"
   },
   {
    "duration": 1755,
    "start_time": "2022-12-20T16:37:12.310Z"
   },
   {
    "duration": 81,
    "start_time": "2022-12-20T16:37:14.067Z"
   },
   {
    "duration": 11,
    "start_time": "2022-12-20T16:37:14.153Z"
   },
   {
    "duration": 20,
    "start_time": "2022-12-20T16:37:14.166Z"
   },
   {
    "duration": 14,
    "start_time": "2022-12-20T16:37:14.188Z"
   },
   {
    "duration": 24,
    "start_time": "2022-12-20T16:37:14.203Z"
   },
   {
    "duration": 9,
    "start_time": "2022-12-20T16:37:14.229Z"
   },
   {
    "duration": 18,
    "start_time": "2022-12-20T16:37:14.240Z"
   },
   {
    "duration": 7,
    "start_time": "2022-12-20T16:37:14.260Z"
   },
   {
    "duration": 124366,
    "start_time": "2022-12-20T16:37:14.268Z"
   },
   {
    "duration": 196,
    "start_time": "2022-12-20T16:39:18.636Z"
   },
   {
    "duration": 137,
    "start_time": "2022-12-20T16:39:18.834Z"
   },
   {
    "duration": 77,
    "start_time": "2022-12-20T16:39:18.977Z"
   },
   {
    "duration": 7,
    "start_time": "2022-12-20T16:39:19.056Z"
   },
   {
    "duration": 188,
    "start_time": "2022-12-20T16:39:28.465Z"
   },
   {
    "duration": 471,
    "start_time": "2022-12-20T16:39:48.411Z"
   },
   {
    "duration": 317,
    "start_time": "2022-12-20T16:39:59.061Z"
   },
   {
    "duration": 12,
    "start_time": "2022-12-20T16:40:13.269Z"
   },
   {
    "duration": 127,
    "start_time": "2022-12-20T16:41:24.734Z"
   },
   {
    "duration": 82,
    "start_time": "2022-12-20T16:41:39.496Z"
   },
   {
    "duration": 14,
    "start_time": "2022-12-20T16:43:07.742Z"
   },
   {
    "duration": 1047,
    "start_time": "2022-12-20T17:16:04.956Z"
   },
   {
    "duration": 132,
    "start_time": "2022-12-20T17:16:06.005Z"
   },
   {
    "duration": 10,
    "start_time": "2022-12-20T17:16:06.138Z"
   },
   {
    "duration": 9,
    "start_time": "2022-12-20T17:16:06.149Z"
   },
   {
    "duration": 8,
    "start_time": "2022-12-20T17:16:06.160Z"
   },
   {
    "duration": 5,
    "start_time": "2022-12-20T17:16:06.169Z"
   },
   {
    "duration": 5,
    "start_time": "2022-12-20T17:16:06.175Z"
   },
   {
    "duration": 14,
    "start_time": "2022-12-20T17:16:06.181Z"
   },
   {
    "duration": 22,
    "start_time": "2022-12-20T17:16:06.196Z"
   },
   {
    "duration": 119391,
    "start_time": "2022-12-20T17:16:06.220Z"
   },
   {
    "duration": 51,
    "start_time": "2022-12-20T17:18:05.613Z"
   },
   {
    "duration": 138,
    "start_time": "2022-12-20T17:18:05.665Z"
   },
   {
    "duration": 130,
    "start_time": "2022-12-20T17:18:05.805Z"
   },
   {
    "duration": 688,
    "start_time": "2022-12-20T17:18:05.937Z"
   },
   {
    "duration": 15,
    "start_time": "2022-12-20T17:18:06.627Z"
   },
   {
    "duration": 5,
    "start_time": "2022-12-20T17:18:06.644Z"
   },
   {
    "duration": 63,
    "start_time": "2022-12-20T17:18:57.476Z"
   },
   {
    "duration": 3,
    "start_time": "2022-12-20T17:19:13.840Z"
   },
   {
    "duration": 29,
    "start_time": "2022-12-20T17:19:20.834Z"
   },
   {
    "duration": 137,
    "start_time": "2022-12-20T17:19:28.100Z"
   },
   {
    "duration": 53,
    "start_time": "2022-12-20T17:20:47.470Z"
   },
   {
    "duration": 213650,
    "start_time": "2022-12-20T17:21:08.422Z"
   },
   {
    "duration": 3,
    "start_time": "2022-12-20T17:32:24.081Z"
   },
   {
    "duration": 43,
    "start_time": "2022-12-20T17:32:24.086Z"
   },
   {
    "duration": 9,
    "start_time": "2022-12-20T17:32:24.130Z"
   },
   {
    "duration": 10,
    "start_time": "2022-12-20T17:32:24.141Z"
   },
   {
    "duration": 7,
    "start_time": "2022-12-20T17:32:24.153Z"
   },
   {
    "duration": 6,
    "start_time": "2022-12-20T17:32:24.161Z"
   },
   {
    "duration": 5,
    "start_time": "2022-12-20T17:32:24.169Z"
   },
   {
    "duration": 20,
    "start_time": "2022-12-20T17:32:24.175Z"
   },
   {
    "duration": 22,
    "start_time": "2022-12-20T17:32:24.196Z"
   },
   {
    "duration": 119232,
    "start_time": "2022-12-20T17:32:24.242Z"
   },
   {
    "duration": 214697,
    "start_time": "2022-12-20T17:34:23.476Z"
   },
   {
    "duration": 28,
    "start_time": "2022-12-20T17:37:58.175Z"
   },
   {
    "duration": 137,
    "start_time": "2022-12-20T17:37:58.216Z"
   },
   {
    "duration": 327,
    "start_time": "2022-12-20T17:37:58.355Z"
   },
   {
    "duration": 177,
    "start_time": "2022-12-20T17:37:58.684Z"
   },
   {
    "duration": 6,
    "start_time": "2022-12-20T17:37:58.862Z"
   },
   {
    "duration": 61,
    "start_time": "2022-12-20T17:38:51.148Z"
   },
   {
    "duration": 195,
    "start_time": "2022-12-20T17:38:58.386Z"
   },
   {
    "duration": 160,
    "start_time": "2022-12-20T17:39:00.852Z"
   },
   {
    "duration": 214789,
    "start_time": "2022-12-20T17:41:03.584Z"
   },
   {
    "duration": 1127038,
    "start_time": "2022-12-20T17:45:36.269Z"
   },
   {
    "duration": 34,
    "start_time": "2022-12-20T18:04:23.315Z"
   },
   {
    "duration": 31,
    "start_time": "2022-12-20T18:04:38.581Z"
   },
   {
    "duration": 142,
    "start_time": "2022-12-20T18:05:16.128Z"
   },
   {
    "duration": 304,
    "start_time": "2022-12-20T18:05:17.178Z"
   },
   {
    "duration": 25,
    "start_time": "2022-12-20T18:05:29.720Z"
   },
   {
    "duration": 25,
    "start_time": "2022-12-20T18:05:33.951Z"
   },
   {
    "duration": 25,
    "start_time": "2022-12-20T18:05:35.734Z"
   },
   {
    "duration": 24,
    "start_time": "2022-12-20T18:05:37.162Z"
   },
   {
    "duration": 83898,
    "start_time": "2022-12-20T18:05:55.826Z"
   },
   {
    "duration": 30,
    "start_time": "2022-12-20T18:07:29.940Z"
   },
   {
    "duration": 31,
    "start_time": "2022-12-20T18:07:37.126Z"
   },
   {
    "duration": 31,
    "start_time": "2022-12-20T18:07:38.912Z"
   },
   {
    "duration": 33,
    "start_time": "2022-12-20T18:07:39.972Z"
   },
   {
    "duration": 21469,
    "start_time": "2022-12-20T18:08:02.103Z"
   },
   {
    "duration": 32,
    "start_time": "2022-12-20T18:08:39.816Z"
   },
   {
    "duration": 32,
    "start_time": "2022-12-20T18:08:44.483Z"
   },
   {
    "duration": 1060,
    "start_time": "2022-12-20T18:09:06.520Z"
   },
   {
    "duration": 44,
    "start_time": "2022-12-20T18:09:07.582Z"
   },
   {
    "duration": 11,
    "start_time": "2022-12-20T18:09:07.627Z"
   },
   {
    "duration": 10,
    "start_time": "2022-12-20T18:09:07.640Z"
   },
   {
    "duration": 8,
    "start_time": "2022-12-20T18:09:07.652Z"
   },
   {
    "duration": 10,
    "start_time": "2022-12-20T18:09:07.662Z"
   },
   {
    "duration": 9,
    "start_time": "2022-12-20T18:09:07.673Z"
   },
   {
    "duration": 15,
    "start_time": "2022-12-20T18:09:07.683Z"
   },
   {
    "duration": 5,
    "start_time": "2022-12-20T18:09:07.715Z"
   },
   {
    "duration": 22144,
    "start_time": "2022-12-20T18:09:07.722Z"
   },
   {
    "duration": 3,
    "start_time": "2022-12-20T18:09:29.868Z"
   },
   {
    "duration": 29,
    "start_time": "2022-12-20T18:09:29.872Z"
   },
   {
    "duration": 161,
    "start_time": "2022-12-20T18:09:29.902Z"
   },
   {
    "duration": 503,
    "start_time": "2022-12-20T18:09:30.064Z"
   },
   {
    "duration": 20,
    "start_time": "2022-12-20T18:09:30.568Z"
   },
   {
    "duration": 22,
    "start_time": "2022-12-20T18:09:30.590Z"
   },
   {
    "duration": 1000,
    "start_time": "2022-12-20T18:10:14.680Z"
   },
   {
    "duration": 42,
    "start_time": "2022-12-20T18:10:15.681Z"
   },
   {
    "duration": 10,
    "start_time": "2022-12-20T18:10:15.724Z"
   },
   {
    "duration": 9,
    "start_time": "2022-12-20T18:10:15.736Z"
   },
   {
    "duration": 8,
    "start_time": "2022-12-20T18:10:15.746Z"
   },
   {
    "duration": 8,
    "start_time": "2022-12-20T18:10:15.755Z"
   },
   {
    "duration": 4,
    "start_time": "2022-12-20T18:10:15.765Z"
   },
   {
    "duration": 16,
    "start_time": "2022-12-20T18:10:15.770Z"
   },
   {
    "duration": 4,
    "start_time": "2022-12-20T18:10:15.787Z"
   },
   {
    "duration": 21304,
    "start_time": "2022-12-20T18:10:15.815Z"
   },
   {
    "duration": 2,
    "start_time": "2022-12-20T18:10:37.120Z"
   },
   {
    "duration": 17,
    "start_time": "2022-12-20T18:10:37.124Z"
   },
   {
    "duration": 145,
    "start_time": "2022-12-20T18:10:37.143Z"
   },
   {
    "duration": 483,
    "start_time": "2022-12-20T18:10:37.289Z"
   },
   {
    "duration": 18,
    "start_time": "2022-12-20T18:10:37.773Z"
   },
   {
    "duration": 5,
    "start_time": "2022-12-20T18:10:37.792Z"
   },
   {
    "duration": 1064,
    "start_time": "2022-12-20T18:13:57.750Z"
   },
   {
    "duration": 42,
    "start_time": "2022-12-20T18:13:58.816Z"
   },
   {
    "duration": 11,
    "start_time": "2022-12-20T18:13:58.860Z"
   },
   {
    "duration": 14,
    "start_time": "2022-12-20T18:13:58.873Z"
   },
   {
    "duration": 8,
    "start_time": "2022-12-20T18:13:58.889Z"
   },
   {
    "duration": 12,
    "start_time": "2022-12-20T18:13:58.899Z"
   },
   {
    "duration": 4,
    "start_time": "2022-12-20T18:13:58.912Z"
   },
   {
    "duration": 15,
    "start_time": "2022-12-20T18:13:58.917Z"
   },
   {
    "duration": 5,
    "start_time": "2022-12-20T18:13:58.933Z"
   },
   {
    "duration": 21040,
    "start_time": "2022-12-20T18:13:58.940Z"
   },
   {
    "duration": 3,
    "start_time": "2022-12-20T18:14:19.981Z"
   },
   {
    "duration": 33,
    "start_time": "2022-12-20T18:14:19.985Z"
   },
   {
    "duration": 145,
    "start_time": "2022-12-20T18:14:20.020Z"
   },
   {
    "duration": 487,
    "start_time": "2022-12-20T18:14:20.167Z"
   },
   {
    "duration": 62,
    "start_time": "2022-12-20T18:14:20.656Z"
   },
   {
    "duration": 5,
    "start_time": "2022-12-20T18:14:20.720Z"
   },
   {
    "duration": 1079,
    "start_time": "2022-12-20T18:15:02.293Z"
   },
   {
    "duration": 45,
    "start_time": "2022-12-20T18:15:03.374Z"
   },
   {
    "duration": 10,
    "start_time": "2022-12-20T18:15:03.421Z"
   },
   {
    "duration": 13,
    "start_time": "2022-12-20T18:15:03.432Z"
   },
   {
    "duration": 8,
    "start_time": "2022-12-20T18:15:03.446Z"
   },
   {
    "duration": 5,
    "start_time": "2022-12-20T18:15:03.455Z"
   },
   {
    "duration": 5,
    "start_time": "2022-12-20T18:15:03.462Z"
   },
   {
    "duration": 17,
    "start_time": "2022-12-20T18:15:03.468Z"
   },
   {
    "duration": 5,
    "start_time": "2022-12-20T18:15:03.486Z"
   },
   {
    "duration": 47137,
    "start_time": "2022-12-20T18:15:03.515Z"
   },
   {
    "duration": 3,
    "start_time": "2022-12-20T18:15:50.653Z"
   },
   {
    "duration": 29,
    "start_time": "2022-12-20T18:15:50.657Z"
   },
   {
    "duration": 142,
    "start_time": "2022-12-20T18:15:50.688Z"
   },
   {
    "duration": 493,
    "start_time": "2022-12-20T18:15:50.831Z"
   },
   {
    "duration": 180,
    "start_time": "2022-12-20T18:15:51.325Z"
   },
   {
    "duration": 9,
    "start_time": "2022-12-20T18:15:51.507Z"
   },
   {
    "duration": 335,
    "start_time": "2022-12-20T18:18:11.078Z"
   },
   {
    "duration": 181,
    "start_time": "2022-12-20T18:18:30.735Z"
   },
   {
    "duration": 189,
    "start_time": "2022-12-20T18:18:32.626Z"
   },
   {
    "duration": 178,
    "start_time": "2022-12-20T18:18:33.941Z"
   },
   {
    "duration": 1626,
    "start_time": "2022-12-21T05:48:37.698Z"
   },
   {
    "duration": 42,
    "start_time": "2022-12-21T05:48:39.326Z"
   },
   {
    "duration": 12,
    "start_time": "2022-12-21T05:48:39.370Z"
   },
   {
    "duration": 20,
    "start_time": "2022-12-21T05:48:39.384Z"
   },
   {
    "duration": 9,
    "start_time": "2022-12-21T05:48:39.406Z"
   },
   {
    "duration": 16,
    "start_time": "2022-12-21T05:48:39.417Z"
   },
   {
    "duration": 18,
    "start_time": "2022-12-21T05:48:39.435Z"
   },
   {
    "duration": 22,
    "start_time": "2022-12-21T05:48:39.454Z"
   },
   {
    "duration": 21,
    "start_time": "2022-12-21T05:48:39.477Z"
   },
   {
    "duration": 46235,
    "start_time": "2022-12-21T05:48:39.500Z"
   },
   {
    "duration": 3,
    "start_time": "2022-12-21T05:49:25.736Z"
   },
   {
    "duration": 27,
    "start_time": "2022-12-21T05:49:25.740Z"
   },
   {
    "duration": 148,
    "start_time": "2022-12-21T05:49:25.768Z"
   },
   {
    "duration": 525,
    "start_time": "2022-12-21T05:49:25.918Z"
   },
   {
    "duration": 55,
    "start_time": "2022-12-21T05:49:26.445Z"
   },
   {
    "duration": 14,
    "start_time": "2022-12-21T05:49:26.502Z"
   }
  ],
  "kernelspec": {
   "display_name": "Python 3 (ipykernel)",
   "language": "python",
   "name": "python3"
  },
  "language_info": {
   "codemirror_mode": {
    "name": "ipython",
    "version": 3
   },
   "file_extension": ".py",
   "mimetype": "text/x-python",
   "name": "python",
   "nbconvert_exporter": "python",
   "pygments_lexer": "ipython3",
   "version": "3.11.3"
  },
  "toc": {
   "base_numbering": 1,
   "nav_menu": {
    "height": "324.74px",
    "width": "163.767px"
   },
   "number_sections": true,
   "sideBar": true,
   "skip_h1_title": true,
   "title_cell": "Table of Contents",
   "title_sidebar": "Contents",
   "toc_cell": false,
   "toc_position": {},
   "toc_section_display": true,
   "toc_window_display": true
  }
 },
 "nbformat": 4,
 "nbformat_minor": 2
}
