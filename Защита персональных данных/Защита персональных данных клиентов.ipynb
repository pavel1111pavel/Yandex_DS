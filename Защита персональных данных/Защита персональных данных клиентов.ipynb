{
 "cells": [
  {
   "cell_type": "markdown",
   "metadata": {
    "toc": true
   },
   "source": [
    "<h1>Содержание<span class=\"tocSkip\"></span></h1>\n",
    "<div class=\"toc\"><ul class=\"toc-item\"><li><span><a href=\"#Загрузка-данных\" data-toc-modified-id=\"Загрузка-данных-1\"><span class=\"toc-item-num\">1&nbsp;&nbsp;</span>Загрузка данных</a></span><ul class=\"toc-item\"><li><span><a href=\"#Импорт-библиотек-и-загрузка-данных\" data-toc-modified-id=\"Импорт-библиотек-и-загрузка-данных-1.1\"><span class=\"toc-item-num\">1.1&nbsp;&nbsp;</span>Импорт библиотек и загрузка данных</a></span></li><li><span><a href=\"#SweetViz-Report\" data-toc-modified-id=\"SweetViz-Report-1.2\"><span class=\"toc-item-num\">1.2&nbsp;&nbsp;</span>SweetViz Report</a></span></li><li><span><a href=\"#Анализ-данных\" data-toc-modified-id=\"Анализ-данных-1.3\"><span class=\"toc-item-num\">1.3&nbsp;&nbsp;</span>Анализ данных</a></span></li><li><span><a href=\"#Итог-анализа-данных\" data-toc-modified-id=\"Итог-анализа-данных-1.4\"><span class=\"toc-item-num\">1.4&nbsp;&nbsp;</span>Итог анализа данных</a></span></li></ul></li><li><span><a href=\"#Умножение-матриц\" data-toc-modified-id=\"Умножение-матриц-2\"><span class=\"toc-item-num\">2&nbsp;&nbsp;</span>Умножение матриц</a></span><ul class=\"toc-item\"><li><span><a href=\"#Постановка-задачи\" data-toc-modified-id=\"Постановка-задачи-2.1\"><span class=\"toc-item-num\">2.1&nbsp;&nbsp;</span>Постановка задачи</a></span></li><li><span><a href=\"#Признаки-умножают-на-обратимую-матрицу.-Изменится-ли-качество-линейной-регрессии?\" data-toc-modified-id=\"Признаки-умножают-на-обратимую-матрицу.-Изменится-ли-качество-линейной-регрессии?-2.2\"><span class=\"toc-item-num\">2.2&nbsp;&nbsp;</span>Признаки умножают на обратимую матрицу. Изменится ли качество линейной регрессии?</a></span></li></ul></li><li><span><a href=\"#Алгоритм-преобразования\" data-toc-modified-id=\"Алгоритм-преобразования-3\"><span class=\"toc-item-num\">3&nbsp;&nbsp;</span>Алгоритм преобразования</a></span><ul class=\"toc-item\"><li><span><a href=\"#Алгоритм\" data-toc-modified-id=\"Алгоритм-3.1\"><span class=\"toc-item-num\">3.1&nbsp;&nbsp;</span>Алгоритм</a></span></li><li><span><a href=\"#Обоснование-алгоритма\" data-toc-modified-id=\"Обоснование-алгоритма-3.2\"><span class=\"toc-item-num\">3.2&nbsp;&nbsp;</span>Обоснование алгоритма</a></span></li></ul></li><li><span><a href=\"#Проверка-алгоритма\" data-toc-modified-id=\"Проверка-алгоритма-4\"><span class=\"toc-item-num\">4&nbsp;&nbsp;</span>Проверка алгоритма</a></span><ul class=\"toc-item\"><li><span><a href=\"#Создание-не-защищенной-модели\" data-toc-modified-id=\"Создание-не-защищенной-модели-4.1\"><span class=\"toc-item-num\">4.1&nbsp;&nbsp;</span>Создание не защищенной модели</a></span></li><li><span><a href=\"#Создание-защищенной-модели\" data-toc-modified-id=\"Создание-защищенной-модели-4.2\"><span class=\"toc-item-num\">4.2&nbsp;&nbsp;</span>Создание защищенной модели</a></span></li><li><span><a href=\"#Вывод-метрики-R2\" data-toc-modified-id=\"Вывод-метрики-R2-4.3\"><span class=\"toc-item-num\">4.3&nbsp;&nbsp;</span>Вывод метрики R2</a></span></li></ul></li><li><span><a href=\"#Вывод\" data-toc-modified-id=\"Вывод-5\"><span class=\"toc-item-num\">5&nbsp;&nbsp;</span>Вывод</a></span></li><li><span><a href=\"#Чек-лист-проверки\" data-toc-modified-id=\"Чек-лист-проверки-6\"><span class=\"toc-item-num\">6&nbsp;&nbsp;</span>Чек-лист проверки</a></span></li></ul></div>"
   ]
  },
  {
   "cell_type": "markdown",
   "metadata": {},
   "source": [
    "# Защита персональных данных клиентов"
   ]
  },
  {
   "cell_type": "markdown",
   "metadata": {},
   "source": [
    "Вам нужно защитить данные клиентов страховой компании «Хоть потоп». Разработайте такой метод преобразования данных, чтобы по ним было сложно восстановить персональную информацию. Обоснуйте корректность его работы.\n",
    "\n",
    "Нужно защитить данные, чтобы при преобразовании качество моделей машинного обучения не ухудшилось. Подбирать наилучшую модель не требуется."
   ]
  },
  {
   "cell_type": "markdown",
   "metadata": {},
   "source": [
    "## Загрузка данных"
   ]
  },
  {
   "cell_type": "code",
   "execution_count": null,
   "metadata": {
    "scrolled": true
   },
   "outputs": [
    {
     "name": "stdout",
     "output_type": "stream",
     "text": [
      "Requirement already satisfied: sweetviz in /opt/conda/lib/python3.9/site-packages (2.1.4)\r\n",
      "Requirement already satisfied: matplotlib>=3.1.3 in /opt/conda/lib/python3.9/site-packages (from sweetviz) (3.3.4)\r\n",
      "Requirement already satisfied: numpy>=1.16.0 in /opt/conda/lib/python3.9/site-packages (from sweetviz) (1.21.1)\r\n",
      "Requirement already satisfied: pandas!=1.0.0,!=1.0.1,!=1.0.2,>=0.25.3 in /opt/conda/lib/python3.9/site-packages (from sweetviz) (1.2.4)\r\n",
      "Requirement already satisfied: importlib-resources>=1.2.0 in /opt/conda/lib/python3.9/site-packages (from sweetviz) (5.12.0)\r\n",
      "Requirement already satisfied: scipy>=1.3.2 in /opt/conda/lib/python3.9/site-packages (from sweetviz) (1.9.1)\r\n",
      "Requirement already satisfied: jinja2>=2.11.1 in /opt/conda/lib/python3.9/site-packages (from sweetviz) (3.0.1)\r\n",
      "Requirement already satisfied: tqdm>=4.43.0 in /opt/conda/lib/python3.9/site-packages (from sweetviz) (4.61.2)\r\n"
     ]
    }
   ],
   "source": [
    "!pip3 install sweetviz\n",
    "!pip3 install phik"
   ]
  },
  {
   "cell_type": "markdown",
   "metadata": {},
   "source": [
    "### Импорт библиотек и загрузка данных"
   ]
  },
  {
   "cell_type": "code",
   "execution_count": null,
   "metadata": {},
   "outputs": [],
   "source": [
    "import pandas as pd\n",
    "import seaborn as sns\n",
    "import sweetviz as sv\n",
    "import phik\n",
    "from phik.report import plot_correlation_matrix\n",
    "import matplotlib.pyplot as plt\n",
    "\n",
    "import numpy as np\n",
    "from numpy import linalg as LA\n",
    "\n",
    "from sklearn.metrics import r2_score\n",
    "from sklearn.model_selection import train_test_split\n",
    "from sklearn.linear_model import LinearRegression\n",
    "from sklearn.preprocessing import StandardScaler\n",
    "from sklearn.pipeline import Pipeline"
   ]
  },
  {
   "cell_type": "code",
   "execution_count": null,
   "metadata": {
    "scrolled": true
   },
   "outputs": [],
   "source": [
    "try:\n",
    "    data = pd.read_csv('/datasets/insurance.csv')\n",
    "except FileNotFound:\n",
    "    data = pd.read_csv('https://code.s3.yandex.net/datasets/insurance.csv')\n",
    "data"
   ]
  },
  {
   "cell_type": "markdown",
   "metadata": {},
   "source": [
    "### SweetViz Report"
   ]
  },
  {
   "cell_type": "code",
   "execution_count": null,
   "metadata": {
    "scrolled": false
   },
   "outputs": [],
   "source": [
    "report = sv.analyze(data)\n",
    "report.show_notebook()"
   ]
  },
  {
   "cell_type": "markdown",
   "metadata": {},
   "source": [
    "### Анализ данных"
   ]
  },
  {
   "cell_type": "code",
   "execution_count": null,
   "metadata": {},
   "outputs": [],
   "source": [
    "data.info()"
   ]
  },
  {
   "cell_type": "code",
   "execution_count": null,
   "metadata": {},
   "outputs": [],
   "source": [
    "interval_cols = ['Пол', 'Возраст', 'Зарплата', 'Члены семьи','Cтраховые выплаты']\n",
    "phik_overview = data.phik_matrix(interval_cols=interval_cols)"
   ]
  },
  {
   "cell_type": "code",
   "execution_count": null,
   "metadata": {},
   "outputs": [],
   "source": [
    "\n",
    "plot_correlation_matrix(phik_overview.values, \n",
    "                        x_labels=phik_overview.columns, \n",
    "                        y_labels=phik_overview.index, \n",
    "                        vmin=0, vmax=1, color_map=\"Greens\", \n",
    "                        title=r\"correlation $\\phi_K$\", \n",
    "                        fontsize_factor=1.5, \n",
    "                        figsize=(10, 8))\n",
    "plt.tight_layout()"
   ]
  },
  {
   "cell_type": "code",
   "execution_count": null,
   "metadata": {},
   "outputs": [],
   "source": [
    "data.describe()"
   ]
  },
  {
   "cell_type": "code",
   "execution_count": null,
   "metadata": {},
   "outputs": [],
   "source": [
    "\n",
    "for i in data:\n",
    "    print('Колонка',f'{i.lower()}', 'имеет уникальные значения ---', data[i].unique())\n",
    "    print()\n",
    "    print()"
   ]
  },
  {
   "cell_type": "markdown",
   "metadata": {},
   "source": [
    "### Итог анализа данных"
   ]
  },
  {
   "cell_type": "markdown",
   "metadata": {},
   "source": [
    "Загруженные данные не имеют сколь сильных аномалий, уникальные значения не вызвывают вопросов - все в рамках приличия. Скорее всего данные подготовлены и не нуждаются в корректировке\n",
    "\n",
    "Есть устойчивая корреляция в колонках - возраст и страховые выплаты. Но в то время страховые выплаты в 89% случаев имеют категорию 0, что, как я считаю, обозначается остутсвие оных. Поэтому мы не будем исследовать дальше, занимаются ли пенсионеры мошенничеством на страховках или молодые люди предпочитают перестраховываться и продолжим нашу работу"
   ]
  },
  {
   "cell_type": "markdown",
   "metadata": {},
   "source": [
    "## Умножение матриц"
   ]
  },
  {
   "cell_type": "markdown",
   "metadata": {},
   "source": [
    "### Постановка задачи"
   ]
  },
  {
   "cell_type": "markdown",
   "metadata": {},
   "source": [
    "Нам нужно защитить данные клиентов страховой компании и разработать такой метод преобразования данных, чтобы по ним было сложно восстановить персональную информацию.\n",
    "\n",
    "Нужно защитить данные, чтобы при преобразовании качество моделей машинного обучения не ухудшилось. Подбирать наилучшую модель не требуется.\n",
    "\n",
    "Мы сможем проверить правильность результата, опираясь на основное свойство обратной матрицы, т.е. np.dot(a, ainv) = np.dot(ainv, a) = np.eye(a.shape[0])"
   ]
  },
  {
   "cell_type": "markdown",
   "metadata": {},
   "source": [
    "###  Признаки умножают на обратимую матрицу. Изменится ли качество линейной регрессии? \n"
   ]
  },
  {
   "cell_type": "markdown",
   "metadata": {},
   "source": [
    "Обозначения:\n",
    "\n",
    "- $X$ — матрица признаков (нулевой столбец состоит из единиц)\n",
    "\n",
    "- $y$ — вектор целевого признака\n",
    "\n",
    "- $P$ — матрица, на которую умножаются признаки\n",
    "\n",
    "- $w$ — вектор весов линейной регрессии (нулевой элемент равен сдвигу)"
   ]
  },
  {
   "cell_type": "markdown",
   "metadata": {},
   "source": [
    "Предсказания:\n",
    "\n",
    "$$\n",
    "a = Xw\n",
    "$$\n",
    "\n",
    "Задача обучения:\n",
    "\n",
    "$$\n",
    "w = \\arg\\min_w MSE(Xw, y)\n",
    "$$\n",
    "\n",
    "Формула обучения:\n",
    "\n",
    "$$\n",
    "w = (X^T X)^{-1} X^T y\n",
    "$$"
   ]
  },
  {
   "cell_type": "markdown",
   "metadata": {},
   "source": [
    "   "
   ]
  },
  {
   "cell_type": "markdown",
   "metadata": {},
   "source": [
    "    "
   ]
  },
  {
   "cell_type": "markdown",
   "metadata": {},
   "source": [
    "- решение линейной регрессии для Х, y\n",
    "\n",
    "$$\n",
    "w = (X^T * X )^{-1} * X^{T} * y;     (1)\n",
    "$$\n",
    "\n",
    "\n",
    "X матрица M строк (размер обучающей выборки) на N столбцов (количество признаков)\n",
    "\n",
    "y - вектор размерности М * 1 - вектор столбец.\n",
    "w - вектор размерности N * 1\n",
    "\n",
    "Возьмем произвольную обратимую матрицу Р размера N x N\n",
    "\n",
    "Пусть  \n",
    "$$\n",
    "X' = X * P^{-1},\n",
    "$$\n",
    "\n",
    "тогда \n",
    "$$   \n",
    "X = X' * P       (2)\n",
    "$$\n",
    "\n",
    "Пусть w' - решение задачи регрессии для (X', y)  (то есть w' = ф-ла 1 но вместо Х там X')\n",
    "\n",
    "Пусть х - произвольный объект (то есть вектор строка 1 * N).\n",
    "Пусть \n",
    "$$\n",
    "x'  = x * P^{-1},\n",
    "$$\n",
    "\n",
    "тогда  \n",
    "$$\n",
    "x = x' * P     (3)\n",
    "$$\n",
    "Доказать,  что \n",
    "$$\n",
    "x * w = x' * w'    \n",
    "$$\n",
    "\n",
    "\n",
    "==============\n",
    "\n",
    "Док-во:\n",
    "\n",
    "По ф 1\n",
    "$$\n",
    "w = (X^T * X )^{-1} * X^T * y = \n",
    "$$\n",
    "подставляем выражение X через X' из (2)\n",
    "учитываем что \n",
    "$$(AB)^T = B^{T} * A^{T}, и что (AB)^{-1} = B^{-1} * A^{-1}\n",
    "= ( (X' * P)^{T} *  (X' * P)  )^{-1} * (X' * P)^{T} * y = \n",
    "= (P^T * X'^T * X' * P)^{-1} * P^T * X'^T * y = \n",
    "= P^{-1} * (X'^T * X') ^ {-1} * (P^T) ^ {-1} * P^T * X'^T * y = \n",
    "$$\n",
    "$$\n",
    "(P^T) ^ {-1} * P^T  \n",
    "$$сокращается\n",
    "$$\n",
    "= P^{-1} * (X'^T * X') ^ {-1} * X'^T * y;\n",
    "$$\n",
    "$$\n",
    "x * w = \n",
    "$$\n",
    "подставляем выражение для x через x' из (3)\n",
    "$$\n",
    "= x' * P * P^{-1} * (X'^T * X') ^ {-1} * X'^T * y\n",
    "P * P^{-1}\n",
    "$$\n",
    "сокращается\n",
    "$$\n",
    "= x' * [(X'^T * X') ^ {-1} * X'^T * y]\n",
    "$$\n",
    "итак\n",
    "$$\n",
    "x * w = x' * [(X'^T * X') ^ {-1} * X'^T * y] (4)\n",
    "$$\n",
    "По определению w',\n",
    "\n",
    "$$\n",
    "w' = [(X'^T * X' )^(-1) * X'^T * y] \n",
    "$$\n",
    "\n",
    "что в точности соотв-т выражению в кв скобках в (4)\n",
    "\n",
    "Значит,\n",
    "$$\n",
    "x' w' = x w\n",
    "$$\n"
   ]
  },
  {
   "cell_type": "markdown",
   "metadata": {},
   "source": [
    "\n",
    "**Ответ**:  Качество линейной регрессии и ее предсказаний **не изменится**, если ее признаки умножают на обратимую ненулевую матрицу\n"
   ]
  },
  {
   "cell_type": "markdown",
   "metadata": {},
   "source": [
    "## Алгоритм преобразования"
   ]
  },
  {
   "cell_type": "markdown",
   "metadata": {},
   "source": [
    "### Алгоритм"
   ]
  },
  {
   "cell_type": "markdown",
   "metadata": {},
   "source": [
    "Необратимые матрицы встречаются редко. Если сгенерировать случайную матрицу функцией numpy.random.normal(), вероятность получить необратимую матрицу близка к нулю.\n",
    " \n",
    " \n",
    " Чтобы найти обратную матрицу, воспользуемся функцией numpy.linalg.inv() . Также она поможет проверить матрицу на обратимость: если матрица необратима, будет обнаружена ошибка."
   ]
  },
  {
   "cell_type": "markdown",
   "metadata": {},
   "source": [
    "создадим квадратную матрицу размерности не больше размеров признаков исходной матрицы"
   ]
  },
  {
   "cell_type": "code",
   "execution_count": null,
   "metadata": {},
   "outputs": [],
   "source": [
    "a = np.random.randint(111, size = (4, 4))\n",
    "a"
   ]
  },
  {
   "cell_type": "markdown",
   "metadata": {},
   "source": [
    "создадим обратную матрицу"
   ]
  },
  {
   "cell_type": "code",
   "execution_count": null,
   "metadata": {},
   "outputs": [],
   "source": [
    "a_inv = LA.inv(a)\n",
    "a_inv"
   ]
  },
  {
   "cell_type": "markdown",
   "metadata": {},
   "source": [
    "и проверим функцией allclose(). Она возвратит True, если элементы двух массивов равны и установим точность соответсвия 0.001, что является очень серьезным испытанием для "
   ]
  },
  {
   "cell_type": "code",
   "execution_count": null,
   "metadata": {},
   "outputs": [],
   "source": [
    "if np.allclose(np.dot(a, a_inv), np.eye(a.shape[0]), 0.001):\n",
    "    print(True)\n",
    "else:\n",
    "    print('Нужно создать другую матрицу, перезапустите ячейки в блоке 3')"
   ]
  },
  {
   "cell_type": "code",
   "execution_count": null,
   "metadata": {},
   "outputs": [],
   "source": [
    "np.allclose(np.dot(a_inv, a), np.eye(a.shape[0]), 0.001)"
   ]
  },
  {
   "cell_type": "markdown",
   "metadata": {},
   "source": [
    "При полном совпадении матриц функция allclose() выводит True в подтвержение наших предположений и не осатвляет нам другого выбора, как только двигаться вперед!"
   ]
  },
  {
   "cell_type": "markdown",
   "metadata": {},
   "source": [
    "### Обоснование алгоритма"
   ]
  },
  {
   "cell_type": "markdown",
   "metadata": {},
   "source": [
    "**Обоснование**\n",
    "\n",
    "Линейная регрессия - это модель зависимости одной переменной от других с линейной функцией зависимости. Например, если у нас есть переменные x и y, то линейная регрессия может иметь вид \n",
    "\n",
    "$$\n",
    "y = a + bx\n",
    "$$\n",
    "\n",
    "где a и b - параметры модели.\n",
    "\n",
    "Обратимая матрица - это квадратная матрица, для которой существует другая квадратная матрица такая, что их произведение равно единичной матрице. Например, если у нас есть матрица A и обратная к ней матрица \n",
    "\n",
    "$$\n",
    "A^{-1}, то AA^{-1} = A^{-1}A = E\n",
    "$$\n",
    "\n",
    "\n",
    "где E - единичная матрица.\n",
    "\n",
    "Если мы умножим признаки x на обратимую матрицу A^-1, то получим новые признаки \n",
    "\n",
    "$$\n",
    "z = A^{-1}x\n",
    "$$\n",
    "\n",
    "Тогда линейная регрессия для y и z будет иметь вид \n",
    "\n",
    "$$\n",
    "y = c + dz\n",
    "$$\n",
    "\n",
    "где c и d - новые параметры модели. Мы можем выразить d через b и \n",
    "$$\n",
    "A^{-1}: d = bA => y = c + bA(A^{-1}x) = c + bx\n",
    "$$\n",
    "\n",
    ". Это означает, что линейная регрессия не изменилась после умножения признаков на обратимую матрицу.\n",
    "\n",
    "Другими словами, мы можем считать, что мы просто изменили систему координат для признаков x без изменения формы линии регрессии для y."
   ]
  },
  {
   "cell_type": "markdown",
   "metadata": {},
   "source": [
    "## Проверка алгоритма"
   ]
  },
  {
   "cell_type": "markdown",
   "metadata": {},
   "source": [
    "В этом блоке работы мы построим модель линейной регрессии на данных загруженных и на данных закодированных. При выполнении будет применяться стандартизация и пайплайн для суровой проверки шифрования.\n",
    "\n"
   ]
  },
  {
   "cell_type": "markdown",
   "metadata": {},
   "source": [
    "### Создание не защищенной модели"
   ]
  },
  {
   "cell_type": "code",
   "execution_count": null,
   "metadata": {},
   "outputs": [],
   "source": [
    "features = data.drop('Страховые выплаты',axis=1)\n",
    "target = data['Страховые выплаты']\n",
    "\n",
    "features_train, features_test, target_train, target_test = train_test_split(\n",
    "    features, target, test_size=0.25, random_state=123)"
   ]
  },
  {
   "cell_type": "markdown",
   "metadata": {},
   "source": [
    "Модель линейной регрессии без масштабирования и пайплана"
   ]
  },
  {
   "cell_type": "code",
   "execution_count": null,
   "metadata": {},
   "outputs": [],
   "source": [
    "model = LinearRegression()\n",
    "model.fit(features_train, target_train)\n",
    "R2_data = r2_score(target_test, model.predict(features_test))\n",
    "print(\"R2 =\", R2_data)"
   ]
  },
  {
   "cell_type": "markdown",
   "metadata": {},
   "source": [
    "Модель с масштабированием и пайплайном"
   ]
  },
  {
   "cell_type": "code",
   "execution_count": null,
   "metadata": {},
   "outputs": [],
   "source": [
    "regressor = LinearRegression()\n",
    "scaller = StandardScaler()\n",
    "pipeline = Pipeline([(\"standard_scaller\", scaller),(\"linear_regression\", regressor)])\n",
    "pipeline.fit(features_train, target_train)\n",
    "R2_data_scaled = r2_score(target_test, pipeline.predict(features_test))\n",
    "print(\"R2 =\", R2_data_scaled)"
   ]
  },
  {
   "cell_type": "markdown",
   "metadata": {},
   "source": [
    "### Создание защищенной модели"
   ]
  },
  {
   "cell_type": "markdown",
   "metadata": {},
   "source": [
    "Здесь мы используем обратимую матрицу для кодирования исходных данных\n",
    "\n",
    "Случайно созданная матрица станет неким ключом для шифровки и для дешифровки данных.\n",
    "\n",
    "На практике считаю необходимым проверять матрицу на обратимость и сохранять ее в отдельный файл."
   ]
  },
  {
   "cell_type": "code",
   "execution_count": null,
   "metadata": {},
   "outputs": [],
   "source": [
    "n = features.shape[1]\n",
    "crypto_matrix = np.random.randint(1,30, (n,n))\n",
    "\n",
    "\n",
    "crypto_features = features\n",
    "crypted_features = crypto_features @ crypto_matrix\n",
    "np.linalg.inv(crypto_matrix)"
   ]
  },
  {
   "cell_type": "markdown",
   "metadata": {},
   "source": [
    "Здесь можно увидеть, как данные проходят путь от обычного датасета к зашифрованному и до непонятной матрицы"
   ]
  },
  {
   "cell_type": "code",
   "execution_count": null,
   "metadata": {},
   "outputs": [],
   "source": [
    "display(features.head())\n",
    "display(crypted_features.head())\n",
    "crypto_matrix"
   ]
  },
  {
   "cell_type": "markdown",
   "metadata": {},
   "source": [
    "Приступим к проверке моделью, при благополучном исходе метрика R2 будет совпадать с метрикой незащищенной модели. \n",
    "\n",
    "Идеального совпадения мы не ждем, даже при использовании функции allclose() мы допускали некоторое расхождение."
   ]
  },
  {
   "cell_type": "code",
   "execution_count": null,
   "metadata": {},
   "outputs": [],
   "source": [
    "features_train, features_test, target_train, target_test = train_test_split(\n",
    "    features, target, test_size=0.25, random_state=123)"
   ]
  },
  {
   "cell_type": "code",
   "execution_count": null,
   "metadata": {},
   "outputs": [],
   "source": [
    "model = LinearRegression()\n",
    "model.fit(features_train, target_train)\n",
    "R2_data_zorge = r2_score(target_test, model.predict(features_test))\n",
    "print(\"R2 =\", R2_data_zorge)"
   ]
  },
  {
   "cell_type": "code",
   "execution_count": null,
   "metadata": {},
   "outputs": [],
   "source": [
    "regressor = LinearRegression()\n",
    "scaller = StandardScaler()\n",
    "pipeline = Pipeline([(\"standard_scaller\", scaller),(\"linear_regression\", regressor)])\n",
    "pipeline.fit(features_train, target_train)\n",
    "R2_data_zorge_scaled = r2_score(target_test, pipeline.predict(features_test))\n",
    "print(\"R2 =\", R2_data_zorge_scaled)"
   ]
  },
  {
   "cell_type": "markdown",
   "metadata": {},
   "source": [
    "### Вывод метрики R2"
   ]
  },
  {
   "cell_type": "code",
   "execution_count": null,
   "metadata": {},
   "outputs": [],
   "source": [
    "result = pd.DataFrame(data= [R2_data_scaled,\n",
    "                      R2_data,\n",
    "                      R2_data_zorge,\n",
    "                      R2_data_zorge_scaled], \n",
    "                     columns=['R2'], \n",
    "                     index=['Линейная регрессия',\n",
    "                            'Линейная регрессия c масштабом',\n",
    "                            'Линейная регрессия на преобразованных признаках',\n",
    "                            'Линейная регрессия на преобразованных признаках c масштабом',])\n",
    "result"
   ]
  },
  {
   "cell_type": "markdown",
   "metadata": {},
   "source": [
    "## Вывод"
   ]
  },
  {
   "cell_type": "markdown",
   "metadata": {},
   "source": [
    "В данной работе были использованы свойства обратимых матриц, масштабирование данных, изучена функция allclose().\n",
    "\n",
    "К концу работы данные были успешно зашифрованы без потери качества работы модели и, насколько я понимаю, ключом для дешифрования будет являться случайная матрица, которая создается в процессе работы тетрадки. \n",
    "\n"
   ]
  }
 ],
 "metadata": {
  "ExecuteTimeLog": [
   {
    "duration": 426,
    "start_time": "2023-02-14T10:38:13.823Z"
   },
   {
    "duration": 99,
    "start_time": "2023-02-14T10:38:14.251Z"
   },
   {
    "duration": 13,
    "start_time": "2023-02-14T10:39:45.402Z"
   },
   {
    "duration": 40,
    "start_time": "2023-02-14T10:41:27.915Z"
   },
   {
    "duration": 60,
    "start_time": "2023-02-14T10:49:24.759Z"
   },
   {
    "duration": 6,
    "start_time": "2023-02-14T10:49:38.967Z"
   },
   {
    "duration": 10,
    "start_time": "2023-02-14T10:50:02.012Z"
   },
   {
    "duration": 7,
    "start_time": "2023-02-14T10:58:23.591Z"
   },
   {
    "duration": 925,
    "start_time": "2023-02-14T10:58:43.593Z"
   },
   {
    "duration": 444,
    "start_time": "2023-02-14T10:58:47.344Z"
   },
   {
    "duration": 239,
    "start_time": "2023-02-14T10:59:28.987Z"
   },
   {
    "duration": 329,
    "start_time": "2023-02-14T11:00:02.143Z"
   },
   {
    "duration": 319,
    "start_time": "2023-02-14T11:00:08.899Z"
   },
   {
    "duration": 361,
    "start_time": "2023-02-14T11:00:36.136Z"
   },
   {
    "duration": 40,
    "start_time": "2023-02-14T11:02:12.348Z"
   },
   {
    "duration": 2,
    "start_time": "2023-02-14T11:02:29.665Z"
   },
   {
    "duration": 333,
    "start_time": "2023-02-14T11:02:33.865Z"
   },
   {
    "duration": 102,
    "start_time": "2023-02-14T11:02:57.996Z"
   },
   {
    "duration": 122,
    "start_time": "2023-02-14T11:03:03.604Z"
   },
   {
    "duration": 95,
    "start_time": "2023-02-14T11:04:06.386Z"
   },
   {
    "duration": 366,
    "start_time": "2023-02-14T11:04:41.142Z"
   },
   {
    "duration": 4,
    "start_time": "2023-02-14T11:11:59.000Z"
   },
   {
    "duration": 8,
    "start_time": "2023-02-14T11:12:08.692Z"
   },
   {
    "duration": 3,
    "start_time": "2023-02-14T11:12:25.067Z"
   },
   {
    "duration": 10,
    "start_time": "2023-02-14T11:12:25.901Z"
   },
   {
    "duration": 3,
    "start_time": "2023-02-14T11:13:00.306Z"
   },
   {
    "duration": 15,
    "start_time": "2023-02-14T11:13:03.681Z"
   },
   {
    "duration": 3,
    "start_time": "2023-02-14T11:13:12.520Z"
   },
   {
    "duration": 18,
    "start_time": "2023-02-14T11:13:12.972Z"
   },
   {
    "duration": 3,
    "start_time": "2023-02-14T11:13:50.963Z"
   },
   {
    "duration": 12,
    "start_time": "2023-02-14T11:13:51.710Z"
   },
   {
    "duration": 3,
    "start_time": "2023-02-14T11:14:11.671Z"
   },
   {
    "duration": 9,
    "start_time": "2023-02-14T11:14:12.035Z"
   },
   {
    "duration": 3,
    "start_time": "2023-02-14T11:15:05.325Z"
   },
   {
    "duration": 32,
    "start_time": "2023-02-14T11:15:05.878Z"
   },
   {
    "duration": 28,
    "start_time": "2023-02-14T11:15:26.741Z"
   },
   {
    "duration": 14,
    "start_time": "2023-02-14T11:15:44.550Z"
   },
   {
    "duration": 120,
    "start_time": "2023-02-14T11:16:44.282Z"
   },
   {
    "duration": 73,
    "start_time": "2023-02-14T11:16:57.136Z"
   },
   {
    "duration": 18,
    "start_time": "2023-02-14T11:17:05.018Z"
   },
   {
    "duration": 11,
    "start_time": "2023-02-14T11:17:21.613Z"
   },
   {
    "duration": 11,
    "start_time": "2023-02-14T11:18:00.102Z"
   },
   {
    "duration": 15,
    "start_time": "2023-02-14T11:18:16.757Z"
   },
   {
    "duration": 15,
    "start_time": "2023-02-14T11:18:30.879Z"
   },
   {
    "duration": 14,
    "start_time": "2023-02-14T11:19:34.727Z"
   },
   {
    "duration": 14,
    "start_time": "2023-02-14T11:20:28.513Z"
   },
   {
    "duration": 11,
    "start_time": "2023-02-14T11:20:50.870Z"
   },
   {
    "duration": 10,
    "start_time": "2023-02-14T11:20:58.150Z"
   },
   {
    "duration": 10,
    "start_time": "2023-02-14T11:21:04.399Z"
   },
   {
    "duration": 9,
    "start_time": "2023-02-14T11:21:18.212Z"
   },
   {
    "duration": 12,
    "start_time": "2023-02-14T11:43:39.632Z"
   },
   {
    "duration": 9,
    "start_time": "2023-02-14T11:43:56.922Z"
   },
   {
    "duration": 9,
    "start_time": "2023-02-14T11:47:59.253Z"
   },
   {
    "duration": 7,
    "start_time": "2023-02-14T11:48:43.535Z"
   },
   {
    "duration": 10,
    "start_time": "2023-02-14T11:48:55.220Z"
   },
   {
    "duration": 7,
    "start_time": "2023-02-14T11:49:05.997Z"
   },
   {
    "duration": 10,
    "start_time": "2023-02-14T11:49:23.563Z"
   },
   {
    "duration": 9,
    "start_time": "2023-02-14T11:49:29.802Z"
   },
   {
    "duration": 13,
    "start_time": "2023-02-14T11:49:39.569Z"
   },
   {
    "duration": 4,
    "start_time": "2023-02-14T11:50:21.858Z"
   },
   {
    "duration": 14,
    "start_time": "2023-02-14T11:50:28.957Z"
   },
   {
    "duration": 9,
    "start_time": "2023-02-14T11:50:47.471Z"
   },
   {
    "duration": 13,
    "start_time": "2023-02-14T11:51:05.769Z"
   },
   {
    "duration": 16,
    "start_time": "2023-02-14T11:54:05.010Z"
   },
   {
    "duration": 14,
    "start_time": "2023-02-14T11:54:17.425Z"
   },
   {
    "duration": 1481,
    "start_time": "2023-02-15T11:09:34.564Z"
   },
   {
    "duration": 113,
    "start_time": "2023-02-15T11:09:36.048Z"
   },
   {
    "duration": 14,
    "start_time": "2023-02-15T11:09:36.164Z"
   },
   {
    "duration": 403,
    "start_time": "2023-02-15T11:09:36.181Z"
   },
   {
    "duration": 28,
    "start_time": "2023-02-15T11:09:36.585Z"
   },
   {
    "duration": 13,
    "start_time": "2023-02-15T11:09:36.615Z"
   },
   {
    "duration": 29,
    "start_time": "2023-02-15T11:09:36.630Z"
   },
   {
    "duration": 1404,
    "start_time": "2023-02-16T13:00:15.064Z"
   },
   {
    "duration": 105,
    "start_time": "2023-02-16T13:00:16.471Z"
   },
   {
    "duration": 12,
    "start_time": "2023-02-16T13:00:16.577Z"
   },
   {
    "duration": 449,
    "start_time": "2023-02-16T13:00:16.591Z"
   },
   {
    "duration": 28,
    "start_time": "2023-02-16T13:00:17.042Z"
   },
   {
    "duration": 11,
    "start_time": "2023-02-16T13:00:17.072Z"
   },
   {
    "duration": 22,
    "start_time": "2023-02-16T13:00:17.085Z"
   },
   {
    "duration": 125,
    "start_time": "2023-02-16T13:00:17.109Z"
   },
   {
    "duration": 4,
    "start_time": "2023-02-16T13:00:32.101Z"
   },
   {
    "duration": 4,
    "start_time": "2023-02-16T13:00:41.534Z"
   },
   {
    "duration": 4,
    "start_time": "2023-02-16T13:00:49.607Z"
   },
   {
    "duration": 8,
    "start_time": "2023-02-16T13:00:56.205Z"
   },
   {
    "duration": 6,
    "start_time": "2023-02-16T13:03:43.192Z"
   },
   {
    "duration": 6,
    "start_time": "2023-02-16T13:03:51.525Z"
   },
   {
    "duration": 7,
    "start_time": "2023-02-16T13:03:58.927Z"
   },
   {
    "duration": 7,
    "start_time": "2023-02-16T13:04:39.579Z"
   },
   {
    "duration": 4,
    "start_time": "2023-02-16T13:07:11.326Z"
   },
   {
    "duration": 5,
    "start_time": "2023-02-16T13:08:16.468Z"
   },
   {
    "duration": 4,
    "start_time": "2023-02-16T13:08:38.692Z"
   },
   {
    "duration": 3,
    "start_time": "2023-02-16T13:08:49.800Z"
   },
   {
    "duration": 3,
    "start_time": "2023-02-16T13:09:08.988Z"
   },
   {
    "duration": 5,
    "start_time": "2023-02-16T13:10:33.527Z"
   },
   {
    "duration": 5,
    "start_time": "2023-02-16T13:17:29.652Z"
   },
   {
    "duration": 77,
    "start_time": "2023-02-16T13:18:17.814Z"
   },
   {
    "duration": 4,
    "start_time": "2023-02-16T13:18:28.912Z"
   },
   {
    "duration": 4,
    "start_time": "2023-02-16T13:19:19.334Z"
   },
   {
    "duration": 8,
    "start_time": "2023-02-16T13:19:22.489Z"
   },
   {
    "duration": 4,
    "start_time": "2023-02-16T13:19:24.318Z"
   },
   {
    "duration": 125,
    "start_time": "2023-02-16T13:19:33.844Z"
   },
   {
    "duration": 11,
    "start_time": "2023-02-16T13:19:53.670Z"
   },
   {
    "duration": 9,
    "start_time": "2023-02-16T13:20:35.078Z"
   },
   {
    "duration": 12,
    "start_time": "2023-02-16T13:20:57.640Z"
   },
   {
    "duration": 9,
    "start_time": "2023-02-16T13:21:08.459Z"
   },
   {
    "duration": 10,
    "start_time": "2023-02-16T13:21:29.664Z"
   },
   {
    "duration": 5,
    "start_time": "2023-02-16T13:21:37.514Z"
   },
   {
    "duration": 5,
    "start_time": "2023-02-16T13:21:38.481Z"
   },
   {
    "duration": 4,
    "start_time": "2023-02-16T13:21:53.786Z"
   },
   {
    "duration": 6,
    "start_time": "2023-02-16T13:21:58.441Z"
   },
   {
    "duration": 4,
    "start_time": "2023-02-16T13:21:59.221Z"
   },
   {
    "duration": 9,
    "start_time": "2023-02-16T13:22:47.875Z"
   },
   {
    "duration": 3,
    "start_time": "2023-02-16T13:23:23.897Z"
   },
   {
    "duration": 10,
    "start_time": "2023-02-16T13:23:30.165Z"
   },
   {
    "duration": 14,
    "start_time": "2023-02-16T13:23:55.067Z"
   },
   {
    "duration": 6,
    "start_time": "2023-02-16T13:24:00.424Z"
   },
   {
    "duration": 71,
    "start_time": "2023-02-16T13:24:12.926Z"
   },
   {
    "duration": 9,
    "start_time": "2023-02-18T11:29:24.023Z"
   },
   {
    "duration": 152,
    "start_time": "2023-02-18T11:29:24.055Z"
   },
   {
    "duration": 9,
    "start_time": "2023-02-18T11:29:24.210Z"
   },
   {
    "duration": 0,
    "start_time": "2023-02-18T11:29:24.221Z"
   },
   {
    "duration": 0,
    "start_time": "2023-02-18T11:29:24.222Z"
   },
   {
    "duration": 0,
    "start_time": "2023-02-18T11:29:24.224Z"
   },
   {
    "duration": 0,
    "start_time": "2023-02-18T11:29:24.225Z"
   },
   {
    "duration": 0,
    "start_time": "2023-02-18T11:29:24.226Z"
   },
   {
    "duration": 0,
    "start_time": "2023-02-18T11:29:24.227Z"
   },
   {
    "duration": 1,
    "start_time": "2023-02-18T11:29:24.228Z"
   },
   {
    "duration": 0,
    "start_time": "2023-02-18T11:29:24.230Z"
   },
   {
    "duration": 0,
    "start_time": "2023-02-18T11:29:24.231Z"
   },
   {
    "duration": 0,
    "start_time": "2023-02-18T11:29:24.232Z"
   },
   {
    "duration": 0,
    "start_time": "2023-02-18T11:29:24.233Z"
   },
   {
    "duration": 0,
    "start_time": "2023-02-18T11:29:24.234Z"
   },
   {
    "duration": 0,
    "start_time": "2023-02-18T11:29:24.235Z"
   },
   {
    "duration": 4168,
    "start_time": "2023-02-18T11:30:04.053Z"
   },
   {
    "duration": 2248,
    "start_time": "2023-02-18T11:30:11.156Z"
   },
   {
    "duration": 228,
    "start_time": "2023-02-18T11:30:13.407Z"
   },
   {
    "duration": 43,
    "start_time": "2023-02-18T11:30:13.636Z"
   },
   {
    "duration": 4075,
    "start_time": "2023-02-18T11:30:13.681Z"
   },
   {
    "duration": 11,
    "start_time": "2023-02-18T11:30:17.758Z"
   },
   {
    "duration": 358,
    "start_time": "2023-02-18T11:30:17.771Z"
   },
   {
    "duration": 24,
    "start_time": "2023-02-18T11:30:18.131Z"
   },
   {
    "duration": 10,
    "start_time": "2023-02-18T11:30:18.157Z"
   },
   {
    "duration": 13,
    "start_time": "2023-02-18T11:30:18.169Z"
   },
   {
    "duration": 4,
    "start_time": "2023-02-18T11:30:18.185Z"
   },
   {
    "duration": 35,
    "start_time": "2023-02-18T11:30:18.190Z"
   },
   {
    "duration": 8,
    "start_time": "2023-02-18T11:30:18.228Z"
   },
   {
    "duration": 103,
    "start_time": "2023-02-18T11:30:18.320Z"
   },
   {
    "duration": 0,
    "start_time": "2023-02-18T11:30:18.425Z"
   },
   {
    "duration": 0,
    "start_time": "2023-02-18T11:30:18.426Z"
   },
   {
    "duration": 0,
    "start_time": "2023-02-18T11:30:18.428Z"
   },
   {
    "duration": 0,
    "start_time": "2023-02-18T11:30:18.430Z"
   },
   {
    "duration": 5531,
    "start_time": "2023-02-18T17:20:42.745Z"
   },
   {
    "duration": 1543,
    "start_time": "2023-02-18T17:20:48.279Z"
   },
   {
    "duration": 102,
    "start_time": "2023-02-18T17:20:49.824Z"
   },
   {
    "duration": 3129,
    "start_time": "2023-02-18T17:20:49.927Z"
   },
   {
    "duration": 13,
    "start_time": "2023-02-18T17:20:53.060Z"
   },
   {
    "duration": 361,
    "start_time": "2023-02-18T17:20:53.075Z"
   },
   {
    "duration": 20,
    "start_time": "2023-02-18T17:20:53.438Z"
   },
   {
    "duration": 10,
    "start_time": "2023-02-18T17:20:53.459Z"
   },
   {
    "duration": 13,
    "start_time": "2023-02-18T17:20:53.470Z"
   },
   {
    "duration": 27,
    "start_time": "2023-02-18T17:20:53.484Z"
   },
   {
    "duration": 6,
    "start_time": "2023-02-18T17:20:53.512Z"
   },
   {
    "duration": 12,
    "start_time": "2023-02-18T17:20:53.520Z"
   },
   {
    "duration": 101,
    "start_time": "2023-02-18T17:20:53.611Z"
   },
   {
    "duration": 0,
    "start_time": "2023-02-18T17:20:53.713Z"
   },
   {
    "duration": 0,
    "start_time": "2023-02-18T17:20:53.715Z"
   },
   {
    "duration": 0,
    "start_time": "2023-02-18T17:20:53.716Z"
   },
   {
    "duration": 0,
    "start_time": "2023-02-18T17:20:53.717Z"
   },
   {
    "duration": 155,
    "start_time": "2023-02-18T17:22:59.064Z"
   },
   {
    "duration": 3,
    "start_time": "2023-02-18T17:23:03.489Z"
   },
   {
    "duration": 58,
    "start_time": "2023-02-18T17:23:05.580Z"
   },
   {
    "duration": 4,
    "start_time": "2023-02-18T17:23:16.338Z"
   },
   {
    "duration": 4,
    "start_time": "2023-02-18T17:23:18.081Z"
   },
   {
    "duration": 8,
    "start_time": "2023-02-18T17:23:20.427Z"
   },
   {
    "duration": 55,
    "start_time": "2023-02-18T17:23:23.232Z"
   },
   {
    "duration": 46,
    "start_time": "2023-02-18T17:23:28.756Z"
   },
   {
    "duration": 53,
    "start_time": "2023-02-18T17:23:32.600Z"
   },
   {
    "duration": 3,
    "start_time": "2023-02-18T17:23:44.828Z"
   },
   {
    "duration": 54,
    "start_time": "2023-02-18T17:23:46.517Z"
   },
   {
    "duration": 4,
    "start_time": "2023-02-18T17:23:48.313Z"
   },
   {
    "duration": 57,
    "start_time": "2023-02-18T17:23:49.865Z"
   },
   {
    "duration": 52,
    "start_time": "2023-02-18T17:24:08.207Z"
   },
   {
    "duration": 7655,
    "start_time": "2023-02-19T08:16:50.166Z"
   },
   {
    "duration": 1873,
    "start_time": "2023-02-19T08:16:57.824Z"
   },
   {
    "duration": 109,
    "start_time": "2023-02-19T08:16:59.699Z"
   },
   {
    "duration": 3490,
    "start_time": "2023-02-19T08:16:59.810Z"
   },
   {
    "duration": 13,
    "start_time": "2023-02-19T08:17:03.303Z"
   },
   {
    "duration": 415,
    "start_time": "2023-02-19T08:17:03.318Z"
   },
   {
    "duration": 37,
    "start_time": "2023-02-19T08:17:03.734Z"
   },
   {
    "duration": 29,
    "start_time": "2023-02-19T08:17:03.773Z"
   },
   {
    "duration": 30,
    "start_time": "2023-02-19T08:17:03.804Z"
   },
   {
    "duration": 30,
    "start_time": "2023-02-19T08:17:03.838Z"
   },
   {
    "duration": 29,
    "start_time": "2023-02-19T08:17:03.869Z"
   },
   {
    "duration": 39,
    "start_time": "2023-02-19T08:17:03.899Z"
   },
   {
    "duration": 508,
    "start_time": "2023-02-19T08:17:03.940Z"
   },
   {
    "duration": 0,
    "start_time": "2023-02-19T08:17:04.451Z"
   },
   {
    "duration": 1,
    "start_time": "2023-02-19T08:17:04.452Z"
   },
   {
    "duration": 0,
    "start_time": "2023-02-19T08:17:04.454Z"
   },
   {
    "duration": 0,
    "start_time": "2023-02-19T08:17:04.456Z"
   },
   {
    "duration": 4105,
    "start_time": "2023-02-21T06:14:28.395Z"
   },
   {
    "duration": 1645,
    "start_time": "2023-02-21T06:14:32.503Z"
   },
   {
    "duration": 102,
    "start_time": "2023-02-21T06:14:34.150Z"
   },
   {
    "duration": 3161,
    "start_time": "2023-02-21T06:14:34.254Z"
   },
   {
    "duration": 13,
    "start_time": "2023-02-21T06:14:37.417Z"
   },
   {
    "duration": 338,
    "start_time": "2023-02-21T06:14:37.432Z"
   },
   {
    "duration": 24,
    "start_time": "2023-02-21T06:14:37.772Z"
   },
   {
    "duration": 11,
    "start_time": "2023-02-21T06:14:37.797Z"
   },
   {
    "duration": 37,
    "start_time": "2023-02-21T06:14:37.810Z"
   },
   {
    "duration": 4,
    "start_time": "2023-02-21T06:14:37.849Z"
   },
   {
    "duration": 10,
    "start_time": "2023-02-21T06:14:37.855Z"
   },
   {
    "duration": 70,
    "start_time": "2023-02-21T06:14:37.867Z"
   },
   {
    "duration": 99,
    "start_time": "2023-02-21T06:14:37.940Z"
   },
   {
    "duration": 0,
    "start_time": "2023-02-21T06:14:38.041Z"
   },
   {
    "duration": 0,
    "start_time": "2023-02-21T06:14:38.042Z"
   },
   {
    "duration": 0,
    "start_time": "2023-02-21T06:14:38.043Z"
   },
   {
    "duration": 0,
    "start_time": "2023-02-21T06:14:38.044Z"
   },
   {
    "duration": 5,
    "start_time": "2023-02-21T07:01:52.540Z"
   },
   {
    "duration": 5,
    "start_time": "2023-02-21T07:05:01.776Z"
   },
   {
    "duration": 4,
    "start_time": "2023-02-21T07:05:06.892Z"
   },
   {
    "duration": 6,
    "start_time": "2023-02-21T07:05:07.772Z"
   },
   {
    "duration": 3,
    "start_time": "2023-02-21T07:05:09.277Z"
   },
   {
    "duration": 5,
    "start_time": "2023-02-21T07:05:10.221Z"
   },
   {
    "duration": 5,
    "start_time": "2023-02-21T07:05:32.531Z"
   },
   {
    "duration": 6,
    "start_time": "2023-02-21T07:05:33.848Z"
   },
   {
    "duration": 3,
    "start_time": "2023-02-21T07:05:36.766Z"
   },
   {
    "duration": 6,
    "start_time": "2023-02-21T07:05:37.256Z"
   },
   {
    "duration": 7,
    "start_time": "2023-02-21T07:05:58.204Z"
   },
   {
    "duration": 4,
    "start_time": "2023-02-21T07:05:58.838Z"
   },
   {
    "duration": 110,
    "start_time": "2023-02-21T07:08:48.556Z"
   },
   {
    "duration": 93,
    "start_time": "2023-02-21T07:14:55.505Z"
   },
   {
    "duration": 4,
    "start_time": "2023-02-21T07:15:24.273Z"
   },
   {
    "duration": 5,
    "start_time": "2023-02-21T07:15:29.777Z"
   },
   {
    "duration": 164,
    "start_time": "2023-02-21T07:15:36.832Z"
   },
   {
    "duration": 4,
    "start_time": "2023-02-21T07:15:45.006Z"
   },
   {
    "duration": 5,
    "start_time": "2023-02-21T07:15:46.238Z"
   },
   {
    "duration": 2,
    "start_time": "2023-02-21T07:15:48.884Z"
   },
   {
    "duration": 88,
    "start_time": "2023-02-21T07:15:49.282Z"
   },
   {
    "duration": 89,
    "start_time": "2023-02-21T07:16:02.715Z"
   },
   {
    "duration": 87,
    "start_time": "2023-02-21T07:16:13.066Z"
   },
   {
    "duration": 4,
    "start_time": "2023-02-21T07:16:34.470Z"
   },
   {
    "duration": 3,
    "start_time": "2023-02-21T07:17:19.180Z"
   },
   {
    "duration": 4,
    "start_time": "2023-02-21T07:17:22.968Z"
   },
   {
    "duration": 5,
    "start_time": "2023-02-21T07:17:50.166Z"
   },
   {
    "duration": 5,
    "start_time": "2023-02-21T07:17:59.337Z"
   },
   {
    "duration": 3,
    "start_time": "2023-02-21T07:18:09.914Z"
   },
   {
    "duration": 5,
    "start_time": "2023-02-21T07:18:17.061Z"
   },
   {
    "duration": 6,
    "start_time": "2023-02-21T07:18:21.076Z"
   },
   {
    "duration": 6,
    "start_time": "2023-02-21T07:18:33.905Z"
   },
   {
    "duration": 5,
    "start_time": "2023-02-21T07:18:36.278Z"
   },
   {
    "duration": 2418,
    "start_time": "2023-02-21T07:24:19.902Z"
   },
   {
    "duration": 3,
    "start_time": "2023-02-21T07:24:22.323Z"
   },
   {
    "duration": 44,
    "start_time": "2023-02-21T07:24:22.328Z"
   },
   {
    "duration": 3137,
    "start_time": "2023-02-21T07:24:22.374Z"
   },
   {
    "duration": 31,
    "start_time": "2023-02-21T07:24:25.513Z"
   },
   {
    "duration": 371,
    "start_time": "2023-02-21T07:24:25.546Z"
   },
   {
    "duration": 37,
    "start_time": "2023-02-21T07:24:25.919Z"
   },
   {
    "duration": 11,
    "start_time": "2023-02-21T07:24:25.958Z"
   },
   {
    "duration": 15,
    "start_time": "2023-02-21T07:24:25.971Z"
   },
   {
    "duration": 4,
    "start_time": "2023-02-21T07:24:25.989Z"
   },
   {
    "duration": 45,
    "start_time": "2023-02-21T07:24:25.995Z"
   },
   {
    "duration": 5,
    "start_time": "2023-02-21T07:24:26.042Z"
   },
   {
    "duration": 7,
    "start_time": "2023-02-21T07:24:26.048Z"
   },
   {
    "duration": 89,
    "start_time": "2023-02-21T07:24:26.056Z"
   },
   {
    "duration": 0,
    "start_time": "2023-02-21T07:24:26.147Z"
   },
   {
    "duration": 0,
    "start_time": "2023-02-21T07:24:26.149Z"
   },
   {
    "duration": 0,
    "start_time": "2023-02-21T07:24:26.149Z"
   },
   {
    "duration": 0,
    "start_time": "2023-02-21T07:24:26.150Z"
   },
   {
    "duration": 0,
    "start_time": "2023-02-21T07:24:26.152Z"
   },
   {
    "duration": 0,
    "start_time": "2023-02-21T07:24:26.153Z"
   },
   {
    "duration": 0,
    "start_time": "2023-02-21T07:24:26.154Z"
   },
   {
    "duration": 2334,
    "start_time": "2023-02-21T07:33:53.529Z"
   },
   {
    "duration": 4,
    "start_time": "2023-02-21T07:33:55.866Z"
   },
   {
    "duration": 55,
    "start_time": "2023-02-21T07:33:55.872Z"
   },
   {
    "duration": 3154,
    "start_time": "2023-02-21T07:33:55.929Z"
   },
   {
    "duration": 11,
    "start_time": "2023-02-21T07:33:59.085Z"
   },
   {
    "duration": 395,
    "start_time": "2023-02-21T07:33:59.098Z"
   },
   {
    "duration": 25,
    "start_time": "2023-02-21T07:33:59.495Z"
   },
   {
    "duration": 26,
    "start_time": "2023-02-21T07:33:59.522Z"
   },
   {
    "duration": 14,
    "start_time": "2023-02-21T07:33:59.550Z"
   },
   {
    "duration": 4,
    "start_time": "2023-02-21T07:33:59.566Z"
   },
   {
    "duration": 42,
    "start_time": "2023-02-21T07:33:59.572Z"
   },
   {
    "duration": 6,
    "start_time": "2023-02-21T07:33:59.638Z"
   },
   {
    "duration": 94,
    "start_time": "2023-02-21T07:33:59.646Z"
   },
   {
    "duration": 15,
    "start_time": "2023-02-21T07:33:59.742Z"
   },
   {
    "duration": 0,
    "start_time": "2023-02-21T07:33:59.759Z"
   },
   {
    "duration": 0,
    "start_time": "2023-02-21T07:33:59.760Z"
   },
   {
    "duration": 0,
    "start_time": "2023-02-21T07:33:59.761Z"
   },
   {
    "duration": 0,
    "start_time": "2023-02-21T07:33:59.763Z"
   },
   {
    "duration": 0,
    "start_time": "2023-02-21T07:33:59.764Z"
   },
   {
    "duration": 0,
    "start_time": "2023-02-21T07:33:59.765Z"
   },
   {
    "duration": 0,
    "start_time": "2023-02-21T07:33:59.767Z"
   },
   {
    "duration": 4,
    "start_time": "2023-02-21T07:34:36.779Z"
   },
   {
    "duration": 10,
    "start_time": "2023-02-21T07:34:39.331Z"
   },
   {
    "duration": 69,
    "start_time": "2023-02-21T07:35:02.331Z"
   },
   {
    "duration": 6,
    "start_time": "2023-02-21T07:35:13.537Z"
   },
   {
    "duration": 12,
    "start_time": "2023-02-21T07:35:15.547Z"
   },
   {
    "duration": 8,
    "start_time": "2023-02-21T07:35:20.518Z"
   },
   {
    "duration": 21,
    "start_time": "2023-02-21T07:35:23.525Z"
   },
   {
    "duration": 5,
    "start_time": "2023-02-21T07:35:27.438Z"
   },
   {
    "duration": 9,
    "start_time": "2023-02-21T07:35:28.280Z"
   },
   {
    "duration": 21,
    "start_time": "2023-02-21T07:35:31.217Z"
   },
   {
    "duration": 17,
    "start_time": "2023-02-21T07:35:59.021Z"
   },
   {
    "duration": 9,
    "start_time": "2023-02-21T07:36:25.991Z"
   },
   {
    "duration": 8,
    "start_time": "2023-02-21T07:37:10.131Z"
   },
   {
    "duration": 28,
    "start_time": "2023-02-21T07:37:11.566Z"
   },
   {
    "duration": 5,
    "start_time": "2023-02-21T07:37:15.245Z"
   },
   {
    "duration": 11,
    "start_time": "2023-02-21T07:37:15.827Z"
   },
   {
    "duration": 8,
    "start_time": "2023-02-21T07:37:17.676Z"
   },
   {
    "duration": 4,
    "start_time": "2023-02-21T07:37:21.505Z"
   },
   {
    "duration": 6,
    "start_time": "2023-02-21T07:37:22.429Z"
   },
   {
    "duration": 11,
    "start_time": "2023-02-21T07:37:22.889Z"
   },
   {
    "duration": 7,
    "start_time": "2023-02-21T07:37:23.975Z"
   },
   {
    "duration": 17,
    "start_time": "2023-02-21T07:37:24.995Z"
   },
   {
    "duration": 5,
    "start_time": "2023-02-21T07:37:26.201Z"
   },
   {
    "duration": 9,
    "start_time": "2023-02-21T07:37:26.586Z"
   },
   {
    "duration": 9,
    "start_time": "2023-02-21T07:37:28.826Z"
   },
   {
    "duration": 4,
    "start_time": "2023-02-21T07:38:28.527Z"
   },
   {
    "duration": 5,
    "start_time": "2023-02-21T07:38:28.920Z"
   },
   {
    "duration": 15,
    "start_time": "2023-02-21T07:38:29.440Z"
   },
   {
    "duration": 4,
    "start_time": "2023-02-21T07:38:32.658Z"
   },
   {
    "duration": 5,
    "start_time": "2023-02-21T07:38:33.680Z"
   },
   {
    "duration": 16,
    "start_time": "2023-02-21T07:38:33.687Z"
   },
   {
    "duration": 12,
    "start_time": "2023-02-21T07:38:33.753Z"
   },
   {
    "duration": 4,
    "start_time": "2023-02-21T07:38:54.556Z"
   },
   {
    "duration": 5,
    "start_time": "2023-02-21T07:38:55.729Z"
   },
   {
    "duration": 5,
    "start_time": "2023-02-21T07:38:56.336Z"
   },
   {
    "duration": 14,
    "start_time": "2023-02-21T07:38:56.677Z"
   },
   {
    "duration": 5,
    "start_time": "2023-02-21T07:39:02.557Z"
   },
   {
    "duration": 4,
    "start_time": "2023-02-21T07:39:03.237Z"
   },
   {
    "duration": 6,
    "start_time": "2023-02-21T07:39:03.446Z"
   },
   {
    "duration": 10,
    "start_time": "2023-02-21T07:39:03.988Z"
   },
   {
    "duration": 7,
    "start_time": "2023-02-21T07:39:06.222Z"
   },
   {
    "duration": 19,
    "start_time": "2023-02-21T07:39:07.091Z"
   },
   {
    "duration": 5,
    "start_time": "2023-02-21T07:39:09.087Z"
   },
   {
    "duration": 9,
    "start_time": "2023-02-21T07:39:09.782Z"
   },
   {
    "duration": 8,
    "start_time": "2023-02-21T07:39:11.677Z"
   },
   {
    "duration": 2315,
    "start_time": "2023-02-21T07:39:23.803Z"
   },
   {
    "duration": 4,
    "start_time": "2023-02-21T07:39:26.121Z"
   },
   {
    "duration": 53,
    "start_time": "2023-02-21T07:39:26.127Z"
   },
   {
    "duration": 3255,
    "start_time": "2023-02-21T07:39:26.183Z"
   },
   {
    "duration": 13,
    "start_time": "2023-02-21T07:39:29.440Z"
   },
   {
    "duration": 392,
    "start_time": "2023-02-21T07:39:29.455Z"
   },
   {
    "duration": 23,
    "start_time": "2023-02-21T07:39:29.850Z"
   },
   {
    "duration": 28,
    "start_time": "2023-02-21T07:39:29.875Z"
   },
   {
    "duration": 34,
    "start_time": "2023-02-21T07:39:29.905Z"
   },
   {
    "duration": 12,
    "start_time": "2023-02-21T07:39:29.941Z"
   },
   {
    "duration": 27,
    "start_time": "2023-02-21T07:39:29.955Z"
   },
   {
    "duration": 57,
    "start_time": "2023-02-21T07:39:29.983Z"
   },
   {
    "duration": 15,
    "start_time": "2023-02-21T07:39:30.041Z"
   },
   {
    "duration": 24,
    "start_time": "2023-02-21T07:39:30.137Z"
   },
   {
    "duration": 45,
    "start_time": "2023-02-21T07:39:30.162Z"
   },
   {
    "duration": 48,
    "start_time": "2023-02-21T07:39:30.208Z"
   },
   {
    "duration": 60,
    "start_time": "2023-02-21T07:39:30.257Z"
   },
   {
    "duration": 153,
    "start_time": "2023-02-21T07:39:30.321Z"
   },
   {
    "duration": 174,
    "start_time": "2023-02-21T07:39:30.476Z"
   },
   {
    "duration": 75,
    "start_time": "2023-02-21T07:39:30.652Z"
   },
   {
    "duration": 47,
    "start_time": "2023-02-21T07:39:30.729Z"
   },
   {
    "duration": 51,
    "start_time": "2023-02-21T07:39:30.778Z"
   },
   {
    "duration": 10,
    "start_time": "2023-02-21T07:41:03.287Z"
   },
   {
    "duration": 13,
    "start_time": "2023-02-21T07:41:31.924Z"
   },
   {
    "duration": 5,
    "start_time": "2023-02-21T07:43:07.374Z"
   },
   {
    "duration": 2450,
    "start_time": "2023-02-21T07:43:10.644Z"
   },
   {
    "duration": 5,
    "start_time": "2023-02-21T07:43:13.097Z"
   },
   {
    "duration": 47,
    "start_time": "2023-02-21T07:43:13.103Z"
   },
   {
    "duration": 3145,
    "start_time": "2023-02-21T07:43:13.153Z"
   },
   {
    "duration": 38,
    "start_time": "2023-02-21T07:43:16.300Z"
   },
   {
    "duration": 361,
    "start_time": "2023-02-21T07:43:16.340Z"
   },
   {
    "duration": 25,
    "start_time": "2023-02-21T07:43:16.703Z"
   },
   {
    "duration": 13,
    "start_time": "2023-02-21T07:43:16.738Z"
   },
   {
    "duration": 16,
    "start_time": "2023-02-21T07:43:16.752Z"
   },
   {
    "duration": 5,
    "start_time": "2023-02-21T07:43:16.771Z"
   },
   {
    "duration": 9,
    "start_time": "2023-02-21T07:43:16.777Z"
   },
   {
    "duration": 6,
    "start_time": "2023-02-21T07:43:16.837Z"
   },
   {
    "duration": 93,
    "start_time": "2023-02-21T07:43:16.846Z"
   },
   {
    "duration": 14,
    "start_time": "2023-02-21T07:43:16.941Z"
   },
   {
    "duration": 9,
    "start_time": "2023-02-21T07:43:16.957Z"
   },
   {
    "duration": 21,
    "start_time": "2023-02-21T07:43:16.968Z"
   },
   {
    "duration": 48,
    "start_time": "2023-02-21T07:43:16.991Z"
   },
   {
    "duration": 113,
    "start_time": "2023-02-21T07:43:17.042Z"
   },
   {
    "duration": 11,
    "start_time": "2023-02-21T07:43:17.157Z"
   },
   {
    "duration": 170,
    "start_time": "2023-02-21T07:43:17.170Z"
   },
   {
    "duration": 5,
    "start_time": "2023-02-21T07:43:17.342Z"
   },
   {
    "duration": 20,
    "start_time": "2023-02-21T07:43:17.349Z"
   },
   {
    "duration": 23,
    "start_time": "2023-02-21T07:43:17.371Z"
   },
   {
    "duration": 10,
    "start_time": "2023-02-21T07:43:17.396Z"
   },
   {
    "duration": 4,
    "start_time": "2023-02-21T10:59:08.960Z"
   },
   {
    "duration": 5,
    "start_time": "2023-02-21T10:59:35.565Z"
   },
   {
    "duration": 6,
    "start_time": "2023-02-21T10:59:40.384Z"
   },
   {
    "duration": 2335,
    "start_time": "2023-02-21T11:17:23.487Z"
   },
   {
    "duration": 5,
    "start_time": "2023-02-21T11:17:25.826Z"
   },
   {
    "duration": 103,
    "start_time": "2023-02-21T11:17:25.832Z"
   },
   {
    "duration": 3303,
    "start_time": "2023-02-21T11:17:25.937Z"
   },
   {
    "duration": 15,
    "start_time": "2023-02-21T11:17:29.242Z"
   },
   {
    "duration": 349,
    "start_time": "2023-02-21T11:17:29.261Z"
   },
   {
    "duration": 34,
    "start_time": "2023-02-21T11:17:29.612Z"
   },
   {
    "duration": 11,
    "start_time": "2023-02-21T11:17:29.647Z"
   },
   {
    "duration": 14,
    "start_time": "2023-02-21T11:17:29.660Z"
   },
   {
    "duration": 7,
    "start_time": "2023-02-21T11:17:29.677Z"
   },
   {
    "duration": 66,
    "start_time": "2023-02-21T11:17:29.688Z"
   },
   {
    "duration": 83,
    "start_time": "2023-02-21T11:17:29.757Z"
   },
   {
    "duration": 8,
    "start_time": "2023-02-21T11:17:29.841Z"
   },
   {
    "duration": 19,
    "start_time": "2023-02-21T11:17:29.850Z"
   },
   {
    "duration": 176,
    "start_time": "2023-02-21T11:17:29.871Z"
   },
   {
    "duration": 44,
    "start_time": "2023-02-21T11:17:30.049Z"
   },
   {
    "duration": 53,
    "start_time": "2023-02-21T11:17:30.095Z"
   },
   {
    "duration": 5,
    "start_time": "2023-02-21T11:17:30.150Z"
   },
   {
    "duration": 88,
    "start_time": "2023-02-21T11:17:30.156Z"
   },
   {
    "duration": 50,
    "start_time": "2023-02-21T11:17:30.245Z"
   },
   {
    "duration": 26,
    "start_time": "2023-02-21T11:17:30.297Z"
   },
   {
    "duration": 9,
    "start_time": "2023-02-21T11:18:35.438Z"
   },
   {
    "duration": 8,
    "start_time": "2023-02-21T11:18:37.735Z"
   },
   {
    "duration": 10,
    "start_time": "2023-02-21T11:18:38.529Z"
   },
   {
    "duration": 12,
    "start_time": "2023-02-21T11:18:39.493Z"
   },
   {
    "duration": 6,
    "start_time": "2023-02-21T11:18:41.484Z"
   },
   {
    "duration": 18,
    "start_time": "2023-02-21T11:18:41.950Z"
   },
   {
    "duration": 7,
    "start_time": "2023-02-21T11:18:42.418Z"
   },
   {
    "duration": 10,
    "start_time": "2023-02-21T11:18:42.650Z"
   },
   {
    "duration": 12,
    "start_time": "2023-02-21T11:18:42.845Z"
   },
   {
    "duration": 9,
    "start_time": "2023-02-21T11:18:44.092Z"
   },
   {
    "duration": 2339,
    "start_time": "2023-02-21T11:19:21.448Z"
   },
   {
    "duration": 1426,
    "start_time": "2023-02-21T11:19:23.790Z"
   },
   {
    "duration": 46,
    "start_time": "2023-02-21T11:19:25.218Z"
   },
   {
    "duration": 3394,
    "start_time": "2023-02-21T11:19:25.266Z"
   },
   {
    "duration": 11,
    "start_time": "2023-02-21T11:19:28.662Z"
   },
   {
    "duration": 419,
    "start_time": "2023-02-21T11:19:28.674Z"
   },
   {
    "duration": 27,
    "start_time": "2023-02-21T11:19:29.095Z"
   },
   {
    "duration": 23,
    "start_time": "2023-02-21T11:19:29.125Z"
   },
   {
    "duration": 27,
    "start_time": "2023-02-21T11:19:29.150Z"
   },
   {
    "duration": 25,
    "start_time": "2023-02-21T11:19:29.179Z"
   },
   {
    "duration": 34,
    "start_time": "2023-02-21T11:19:29.206Z"
   },
   {
    "duration": 98,
    "start_time": "2023-02-21T11:19:29.243Z"
   },
   {
    "duration": 27,
    "start_time": "2023-02-21T11:19:29.343Z"
   },
   {
    "duration": 37,
    "start_time": "2023-02-21T11:19:29.372Z"
   },
   {
    "duration": 33,
    "start_time": "2023-02-21T11:19:29.411Z"
   },
   {
    "duration": 20,
    "start_time": "2023-02-21T11:19:29.446Z"
   },
   {
    "duration": 84,
    "start_time": "2023-02-21T11:19:29.467Z"
   },
   {
    "duration": 93,
    "start_time": "2023-02-21T11:19:29.553Z"
   },
   {
    "duration": 27,
    "start_time": "2023-02-21T11:19:29.648Z"
   },
   {
    "duration": 39,
    "start_time": "2023-02-21T11:19:29.677Z"
   },
   {
    "duration": 8,
    "start_time": "2023-02-21T11:19:29.717Z"
   },
   {
    "duration": 2314,
    "start_time": "2023-02-21T11:27:39.651Z"
   },
   {
    "duration": 4,
    "start_time": "2023-02-21T11:27:41.968Z"
   },
   {
    "duration": 50,
    "start_time": "2023-02-21T11:27:41.974Z"
   },
   {
    "duration": 3283,
    "start_time": "2023-02-21T11:27:42.027Z"
   },
   {
    "duration": 34,
    "start_time": "2023-02-21T11:27:45.313Z"
   },
   {
    "duration": 350,
    "start_time": "2023-02-21T11:27:45.350Z"
   },
   {
    "duration": 24,
    "start_time": "2023-02-21T11:27:45.703Z"
   },
   {
    "duration": 12,
    "start_time": "2023-02-21T11:27:45.739Z"
   },
   {
    "duration": 11,
    "start_time": "2023-02-21T11:27:45.753Z"
   },
   {
    "duration": 14,
    "start_time": "2023-02-21T11:27:45.767Z"
   },
   {
    "duration": 57,
    "start_time": "2023-02-21T11:27:45.783Z"
   },
   {
    "duration": 15,
    "start_time": "2023-02-21T11:27:45.842Z"
   },
   {
    "duration": 24,
    "start_time": "2023-02-21T11:27:45.939Z"
   },
   {
    "duration": 44,
    "start_time": "2023-02-21T11:27:45.965Z"
   },
   {
    "duration": 114,
    "start_time": "2023-02-21T11:27:46.039Z"
   },
   {
    "duration": 8,
    "start_time": "2023-02-21T11:27:46.155Z"
   },
   {
    "duration": 84,
    "start_time": "2023-02-21T11:27:46.164Z"
   },
   {
    "duration": 8,
    "start_time": "2023-02-21T11:27:46.250Z"
   },
   {
    "duration": 11,
    "start_time": "2023-02-21T11:27:46.338Z"
   },
   {
    "duration": 16,
    "start_time": "2023-02-21T11:27:46.351Z"
   },
   {
    "duration": 18,
    "start_time": "2023-02-21T11:27:46.369Z"
   },
   {
    "duration": 5204,
    "start_time": "2023-02-25T19:17:05.118Z"
   },
   {
    "duration": 1572,
    "start_time": "2023-02-25T19:17:10.326Z"
   },
   {
    "duration": 0,
    "start_time": "2023-02-25T19:17:11.900Z"
   },
   {
    "duration": 0,
    "start_time": "2023-02-25T19:17:11.901Z"
   },
   {
    "duration": 0,
    "start_time": "2023-02-25T19:17:11.903Z"
   },
   {
    "duration": 0,
    "start_time": "2023-02-25T19:17:11.905Z"
   },
   {
    "duration": 0,
    "start_time": "2023-02-25T19:17:11.905Z"
   },
   {
    "duration": 0,
    "start_time": "2023-02-25T19:17:11.907Z"
   },
   {
    "duration": 0,
    "start_time": "2023-02-25T19:17:11.908Z"
   },
   {
    "duration": 0,
    "start_time": "2023-02-25T19:17:11.909Z"
   },
   {
    "duration": 0,
    "start_time": "2023-02-25T19:17:11.910Z"
   },
   {
    "duration": 0,
    "start_time": "2023-02-25T19:17:11.911Z"
   },
   {
    "duration": 0,
    "start_time": "2023-02-25T19:17:11.912Z"
   },
   {
    "duration": 0,
    "start_time": "2023-02-25T19:17:11.913Z"
   },
   {
    "duration": 0,
    "start_time": "2023-02-25T19:17:11.914Z"
   },
   {
    "duration": 0,
    "start_time": "2023-02-25T19:17:11.915Z"
   },
   {
    "duration": 0,
    "start_time": "2023-02-25T19:17:11.916Z"
   },
   {
    "duration": 0,
    "start_time": "2023-02-25T19:17:11.917Z"
   },
   {
    "duration": 0,
    "start_time": "2023-02-25T19:17:11.918Z"
   },
   {
    "duration": 1,
    "start_time": "2023-02-25T19:17:11.919Z"
   },
   {
    "duration": 0,
    "start_time": "2023-02-25T19:17:11.920Z"
   },
   {
    "duration": 0,
    "start_time": "2023-02-25T19:17:11.922Z"
   },
   {
    "duration": 1,
    "start_time": "2023-02-25T19:17:11.922Z"
   },
   {
    "duration": 4921,
    "start_time": "2023-02-25T19:18:04.516Z"
   },
   {
    "duration": 213,
    "start_time": "2023-02-25T19:18:17.348Z"
   },
   {
    "duration": 4416,
    "start_time": "2023-02-25T19:18:21.282Z"
   },
   {
    "duration": 4,
    "start_time": "2023-02-25T19:18:25.700Z"
   },
   {
    "duration": 127,
    "start_time": "2023-02-25T19:18:25.706Z"
   },
   {
    "duration": 3063,
    "start_time": "2023-02-25T19:18:25.837Z"
   },
   {
    "duration": 11,
    "start_time": "2023-02-25T19:18:28.902Z"
   },
   {
    "duration": 20,
    "start_time": "2023-02-25T19:18:28.914Z"
   },
   {
    "duration": 0,
    "start_time": "2023-02-25T19:18:28.936Z"
   },
   {
    "duration": 0,
    "start_time": "2023-02-25T19:18:28.937Z"
   },
   {
    "duration": 0,
    "start_time": "2023-02-25T19:18:28.938Z"
   },
   {
    "duration": 0,
    "start_time": "2023-02-25T19:18:28.939Z"
   },
   {
    "duration": 0,
    "start_time": "2023-02-25T19:18:28.940Z"
   },
   {
    "duration": 0,
    "start_time": "2023-02-25T19:18:28.941Z"
   },
   {
    "duration": 0,
    "start_time": "2023-02-25T19:18:28.942Z"
   },
   {
    "duration": 0,
    "start_time": "2023-02-25T19:18:28.943Z"
   },
   {
    "duration": 0,
    "start_time": "2023-02-25T19:18:28.944Z"
   },
   {
    "duration": 0,
    "start_time": "2023-02-25T19:18:28.945Z"
   },
   {
    "duration": 0,
    "start_time": "2023-02-25T19:18:28.947Z"
   },
   {
    "duration": 0,
    "start_time": "2023-02-25T19:18:28.948Z"
   },
   {
    "duration": 0,
    "start_time": "2023-02-25T19:18:28.949Z"
   },
   {
    "duration": 0,
    "start_time": "2023-02-25T19:18:28.991Z"
   },
   {
    "duration": 0,
    "start_time": "2023-02-25T19:18:28.993Z"
   },
   {
    "duration": 0,
    "start_time": "2023-02-25T19:18:28.994Z"
   },
   {
    "duration": 0,
    "start_time": "2023-02-25T19:18:28.995Z"
   },
   {
    "duration": 75,
    "start_time": "2023-02-25T19:18:57.572Z"
   },
   {
    "duration": 9,
    "start_time": "2023-02-25T19:19:00.379Z"
   },
   {
    "duration": 32,
    "start_time": "2023-02-25T19:32:02.794Z"
   },
   {
    "duration": 494,
    "start_time": "2023-02-25T19:32:10.778Z"
   },
   {
    "duration": 4,
    "start_time": "2023-02-25T19:33:20.943Z"
   },
   {
    "duration": 442,
    "start_time": "2023-02-25T19:33:27.623Z"
   },
   {
    "duration": 540,
    "start_time": "2023-02-25T19:33:48.134Z"
   },
   {
    "duration": 3,
    "start_time": "2023-02-25T19:33:59.280Z"
   }
  ],
  "kernelspec": {
   "display_name": "Python 3 (ipykernel)",
   "language": "python",
   "name": "python3"
  },
  "language_info": {
   "codemirror_mode": {
    "name": "ipython",
    "version": 3
   },
   "file_extension": ".py",
   "mimetype": "text/x-python",
   "name": "python",
   "nbconvert_exporter": "python",
   "pygments_lexer": "ipython3",
   "version": "3.11.3"
  },
  "toc": {
   "base_numbering": 1,
   "nav_menu": {},
   "number_sections": true,
   "sideBar": true,
   "skip_h1_title": true,
   "title_cell": "Содержание",
   "title_sidebar": "Contents",
   "toc_cell": true,
   "toc_position": {
    "height": "calc(100% - 180px)",
    "left": "10px",
    "top": "150px",
    "width": "408.889px"
   },
   "toc_section_display": true,
   "toc_window_display": true
  }
 },
 "nbformat": 4,
 "nbformat_minor": 2
}
