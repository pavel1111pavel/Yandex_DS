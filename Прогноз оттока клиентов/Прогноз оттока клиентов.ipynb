{
 "cells": [
  {
   "cell_type": "markdown",
   "metadata": {
    "toc": true
   },
   "source": [
    "<h1>Содержание<span class=\"tocSkip\"></span></h1>\n",
    "<div class=\"toc\"><ul class=\"toc-item\"><li><ul class=\"toc-item\"><li><span><a href=\"#Отток-клиентов\" data-toc-modified-id=\"Отток-клиентов-0.1\"><span class=\"toc-item-num\">0.1&nbsp;&nbsp;</span>Отток клиентов</a></span></li><li><span><a href=\"#ход-и-задача-иследования\" data-toc-modified-id=\"ход-и-задача-иследования-0.2\"><span class=\"toc-item-num\">0.2&nbsp;&nbsp;</span>ход и задача иследования</a></span></li><li><span><a href=\"#состав-данных\" data-toc-modified-id=\"состав-данных-0.3\"><span class=\"toc-item-num\">0.3&nbsp;&nbsp;</span>состав данных</a></span></li></ul></li><li><span><a href=\"#Подготовка-данных\" data-toc-modified-id=\"Подготовка-данных-1\"><span class=\"toc-item-num\">1&nbsp;&nbsp;</span>Подготовка данных</a></span><ul class=\"toc-item\"><li><span><a href=\"#импорт-библиотек-и-открытие-файла\" data-toc-modified-id=\"импорт-библиотек-и-открытие-файла-1.1\"><span class=\"toc-item-num\">1.1&nbsp;&nbsp;</span>импорт библиотек и открытие файла</a></span></li><li><span><a href=\"#анализ-данных,-приведение-в-нижний-регистр\" data-toc-modified-id=\"анализ-данных,-приведение-в-нижний-регистр-1.2\"><span class=\"toc-item-num\">1.2&nbsp;&nbsp;</span>анализ данных, приведение в нижний регистр</a></span></li><li><span><a href=\"#анализ--колонки-tenure,-заполнение-медианными-данными\" data-toc-modified-id=\"анализ--колонки-tenure,-заполнение-медианными-данными-1.3\"><span class=\"toc-item-num\">1.3&nbsp;&nbsp;</span>анализ  колонки tenure, заполнение медианными данными</a></span></li><li><span><a href=\"#удаление-лишних-колонок\" data-toc-modified-id=\"удаление-лишних-колонок-1.4\"><span class=\"toc-item-num\">1.4&nbsp;&nbsp;</span>удаление лишних колонок</a></span></li><li><span><a href=\"#таблица-корреляции\" data-toc-modified-id=\"таблица-корреляции-1.5\"><span class=\"toc-item-num\">1.5&nbsp;&nbsp;</span>таблица корреляции</a></span></li><li><span><a href=\"#разбиение-на-выборки\" data-toc-modified-id=\"разбиение-на-выборки-1.6\"><span class=\"toc-item-num\">1.6&nbsp;&nbsp;</span>разбиение на выборки</a></span></li><li><span><a href=\"#ОНЕ-преобразование-и-масштабирование-StandartScaler\" data-toc-modified-id=\"ОНЕ-преобразование-и-масштабирование-StandartScaler-1.7\"><span class=\"toc-item-num\">1.7&nbsp;&nbsp;</span>ОНЕ преобразование и масштабирование StandartScaler</a></span></li></ul></li><li><span><a href=\"#Исследование-задачи\" data-toc-modified-id=\"Исследование-задачи-2\"><span class=\"toc-item-num\">2&nbsp;&nbsp;</span>Исследование задачи</a></span><ul class=\"toc-item\"><li><span><a href=\"#анализ-модели-RF\" data-toc-modified-id=\"анализ-модели-RF-2.1\"><span class=\"toc-item-num\">2.1&nbsp;&nbsp;</span>анализ модели RF</a></span></li><li><span><a href=\"#анализ-модели-LR\" data-toc-modified-id=\"анализ-модели-LR-2.2\"><span class=\"toc-item-num\">2.2&nbsp;&nbsp;</span>анализ модели LR</a></span></li><li><span><a href=\"#анализ-модели-DT\" data-toc-modified-id=\"анализ-модели-DT-2.3\"><span class=\"toc-item-num\">2.3&nbsp;&nbsp;</span>анализ модели DT</a></span></li><li><span><a href=\"#промежуточный-итог-по-моделям\" data-toc-modified-id=\"промежуточный-итог-по-моделям-2.4\"><span class=\"toc-item-num\">2.4&nbsp;&nbsp;</span>промежуточный итог по моделям</a></span></li></ul></li><li><span><a href=\"#Взвешивание-классов\" data-toc-modified-id=\"Взвешивание-классов-3\"><span class=\"toc-item-num\">3&nbsp;&nbsp;</span>Взвешивание классов</a></span><ul class=\"toc-item\"><li><span><a href=\"#обучение-и--анализ-модели-DT\" data-toc-modified-id=\"обучение-и--анализ-модели-DT-3.1\"><span class=\"toc-item-num\">3.1&nbsp;&nbsp;</span>обучение и  анализ модели DT</a></span></li><li><span><a href=\"#обучение-и-анализ-модели-LR\" data-toc-modified-id=\"обучение-и-анализ-модели-LR-3.2\"><span class=\"toc-item-num\">3.2&nbsp;&nbsp;</span>обучение и анализ модели LR</a></span></li><li><span><a href=\"#обучение-и-анализ-модели-RF\" data-toc-modified-id=\"обучение-и-анализ-модели-RF-3.3\"><span class=\"toc-item-num\">3.3&nbsp;&nbsp;</span>обучение и анализ модели RF</a></span><ul class=\"toc-item\"><li><span><a href=\"#промежуточный-вывод\" data-toc-modified-id=\"промежуточный-вывод-3.3.1\"><span class=\"toc-item-num\">3.3.1&nbsp;&nbsp;</span>промежуточный вывод</a></span></li><li><span><a href=\"#общий-вывод\" data-toc-modified-id=\"общий-вывод-3.3.2\"><span class=\"toc-item-num\">3.3.2&nbsp;&nbsp;</span>общий вывод</a></span></li></ul></li></ul></li><li><span><a href=\"#Борьба-с-дисбалансом\" data-toc-modified-id=\"Борьба-с-дисбалансом-4\"><span class=\"toc-item-num\">4&nbsp;&nbsp;</span>Борьба с дисбалансом</a></span><ul class=\"toc-item\"><li><span><a href=\"#применение-инструментов-борьбы-с-дисбалансом\" data-toc-modified-id=\"применение-инструментов-борьбы-с-дисбалансом-4.1\"><span class=\"toc-item-num\">4.1&nbsp;&nbsp;</span>применение инструментов борьбы с дисбалансом</a></span><ul class=\"toc-item\"><li><span><a href=\"#функция-увеличения-выборки\" data-toc-modified-id=\"функция-увеличения-выборки-4.1.1\"><span class=\"toc-item-num\">4.1.1&nbsp;&nbsp;</span>функция увеличения выборки</a></span></li><li><span><a href=\"#взвешенная-и-балансная-модель-RF\" data-toc-modified-id=\"взвешенная-и-балансная-модель-RF-4.1.2\"><span class=\"toc-item-num\">4.1.2&nbsp;&nbsp;</span>взвешенная и балансная модель RF</a></span></li><li><span><a href=\"#взвешенная-и-балансная-модель-LR\" data-toc-modified-id=\"взвешенная-и-балансная-модель-LR-4.1.3\"><span class=\"toc-item-num\">4.1.3&nbsp;&nbsp;</span>взвешенная и балансная модель LR</a></span></li><li><span><a href=\"#взвешенная-и-балансная-модель-DT\" data-toc-modified-id=\"взвешенная-и-балансная-модель-DT-4.1.4\"><span class=\"toc-item-num\">4.1.4&nbsp;&nbsp;</span>взвешенная и балансная модель DT</a></span></li><li><span><a href=\"#итог-блока\" data-toc-modified-id=\"итог-блока-4.1.5\"><span class=\"toc-item-num\">4.1.5&nbsp;&nbsp;</span>итог блока</a></span></li><li><span><a href=\"#окончательное-сравнение-и-выбор-модели\" data-toc-modified-id=\"окончательное-сравнение-и-выбор-модели-4.1.6\"><span class=\"toc-item-num\">4.1.6&nbsp;&nbsp;</span>окончательное сравнение и выбор модели</a></span></li></ul></li></ul></li><li><span><a href=\"#Тестирование-модели\" data-toc-modified-id=\"Тестирование-модели-5\"><span class=\"toc-item-num\">5&nbsp;&nbsp;</span>Тестирование модели</a></span></li><li><span><a href=\"#Вывод\" data-toc-modified-id=\"Вывод-6\"><span class=\"toc-item-num\">6&nbsp;&nbsp;</span>Вывод</a></span></li><li><span><a href=\"#Чек-лист-готовности-проекта\" data-toc-modified-id=\"Чек-лист-готовности-проекта-7\"><span class=\"toc-item-num\">7&nbsp;&nbsp;</span>Чек-лист готовности проекта</a></span></li></ul></div>"
   ]
  },
  {
   "cell_type": "markdown",
   "metadata": {},
   "source": [
    "# Описание работы "
   ]
  },
  {
   "cell_type": "markdown",
   "metadata": {},
   "source": [
    "### Отток клиентов"
   ]
  },
  {
   "cell_type": "markdown",
   "metadata": {},
   "source": [
    "Из «Бета-Банка» стали уходить клиенты. Каждый месяц. Немного, но заметно. Банковские маркетологи посчитали: сохранять текущих клиентов дешевле, чем привлекать новых.\n",
    "\n",
    "Нужно спрогнозировать, уйдёт клиент из банка в ближайшее время или нет. Вам предоставлены исторические данные о поведении клиентов и расторжении договоров с банком. \n",
    "\n",
    "Постройте модель с предельно большим значением *F1*-меры. Чтобы сдать проект успешно, нужно довести метрику до 0.59. Проверьте *F1*-меру на тестовой выборке самостоятельно.\n",
    "\n",
    "Дополнительно измеряйте *AUC-ROC*, сравнивайте её значение с *F1*-мерой.\n",
    "\n",
    "Источник данных: [https://www.kaggle.com/barelydedicated/bank-customer-churn-modeling](https://www.kaggle.com/barelydedicated/bank-customer-churn-modeling)"
   ]
  },
  {
   "cell_type": "markdown",
   "metadata": {},
   "source": [
    "### ход и задача иследования"
   ]
  },
  {
   "cell_type": "markdown",
   "metadata": {},
   "source": [
    "В этой работе необходимо изучить и обработать исторические данные по клиентам банка, чтобы можно было предсказать их уход.\n",
    "\n",
    "Для этого будет необходимо\n",
    "\n",
    "---подготовить данные\n",
    "\n",
    "---изучить их\n",
    "\n",
    "---выбрать модель\n",
    "\n",
    "---при необходимости улучшить модель\n",
    "\n",
    "---на выбранной лучшей модели провести тест\n",
    "\n",
    "---на выводах теста дать рекомандации\n"
   ]
  },
  {
   "cell_type": "markdown",
   "metadata": {},
   "source": [
    "### состав данных"
   ]
  },
  {
   "cell_type": "markdown",
   "metadata": {},
   "source": [
    "Признаки\n",
    "\n",
    "\n",
    "<br>RowNumber — индекс строки в данных\n",
    "<br>CustomerId — уникальный идентификатор клиента\n",
    "<br>Surname — фамилия\n",
    "<br>CreditScore — кредитный рейтинг\n",
    "<br>Geography — страна проживания\n",
    "<br>Gender — пол\n",
    "<br>Age — возраст\n",
    "<br>Tenure — сколько лет человек является клиентом банка\n",
    "<br>Balance — баланс на счёте\n",
    "<br>NumOfProducts — количество продуктов банка, используемых клиентом\n",
    "<br>HasCrCard — наличие кредитной карты\n",
    "<br>IsActiveMember — активность клиента\n",
    "<br>EstimatedSalary — предполагаемая зарплата\n",
    "\n",
    "\n",
    "<br>Целевой признак\n",
    "<br>Exited — факт ухода клиента"
   ]
  },
  {
   "cell_type": "markdown",
   "metadata": {},
   "source": [
    "## Подготовка данных"
   ]
  },
  {
   "cell_type": "markdown",
   "metadata": {},
   "source": [
    "### импорт библиотек и открытие файла"
   ]
  },
  {
   "cell_type": "code",
   "execution_count": 271,
   "metadata": {},
   "outputs": [
    {
     "name": "stdout",
     "output_type": "stream",
     "text": [
      "Requirement already satisfied: scikit-learn==1.1.3 in /opt/conda/lib/python3.9/site-packages (1.1.3)\n",
      "Requirement already satisfied: scipy>=1.3.2 in /opt/conda/lib/python3.9/site-packages (from scikit-learn==1.1.3) (1.9.1)\n",
      "Requirement already satisfied: joblib>=1.0.0 in /opt/conda/lib/python3.9/site-packages (from scikit-learn==1.1.3) (1.2.0)\n",
      "Requirement already satisfied: threadpoolctl>=2.0.0 in /opt/conda/lib/python3.9/site-packages (from scikit-learn==1.1.3) (3.1.0)\n",
      "Requirement already satisfied: numpy>=1.17.3 in /opt/conda/lib/python3.9/site-packages (from scikit-learn==1.1.3) (1.21.1)\n",
      "Requirement already satisfied: imblearn in /opt/conda/lib/python3.9/site-packages (0.0)\n",
      "Requirement already satisfied: imbalanced-learn in /opt/conda/lib/python3.9/site-packages (from imblearn) (0.10.1)\n",
      "Requirement already satisfied: numpy>=1.17.3 in /opt/conda/lib/python3.9/site-packages (from imbalanced-learn->imblearn) (1.21.1)\n",
      "Requirement already satisfied: scipy>=1.3.2 in /opt/conda/lib/python3.9/site-packages (from imbalanced-learn->imblearn) (1.9.1)\n",
      "Requirement already satisfied: threadpoolctl>=2.0.0 in /opt/conda/lib/python3.9/site-packages (from imbalanced-learn->imblearn) (3.1.0)\n",
      "Requirement already satisfied: scikit-learn>=1.0.2 in /opt/conda/lib/python3.9/site-packages (from imbalanced-learn->imblearn) (1.1.3)\n",
      "Requirement already satisfied: joblib>=1.1.1 in /opt/conda/lib/python3.9/site-packages (from imbalanced-learn->imblearn) (1.2.0)\n"
     ]
    }
   ],
   "source": [
    "!pip install scikit-learn==1.1.3\n",
    "!pip install imblearn\n",
    "import pandas as pd\n",
    "import numpy as np\n",
    "from sklearn.metrics import roc_curve \n",
    "import plotly.graph_objects as go\n",
    "import plotly.express as px\n",
    "import plotly.graph_objects as go\n",
    "import plotly.io as pio\n",
    "import tqdm\n",
    "\n",
    "from sklearn.preprocessing import OneHotEncoder, StandardScaler, OrdinalEncoder\n",
    "\n",
    "from sklearn.dummy import DummyClassifier\n",
    "from sklearn.linear_model import LogisticRegression\n",
    "from sklearn.ensemble import RandomForestClassifier\n",
    "from sklearn.tree import DecisionTreeClassifier\n",
    "\n",
    "\n",
    "from sklearn.metrics import roc_auc_score, f1_score\n",
    "from sklearn.model_selection import train_test_split, GridSearchCV\n",
    "from sklearn.utils import shuffle\n"
   ]
  },
  {
   "cell_type": "code",
   "execution_count": 272,
   "metadata": {},
   "outputs": [],
   "source": [
    "try:\n",
    "    data = pd.read_csv('/datasets/Churn.csv')\n",
    "except FileNotFoundError:\n",
    "    data = pd.read_csv('https://code.s3.yandex.net/datasets/Churn.csv')\n",
    "    \n",
    "df = data.copy()"
   ]
  },
  {
   "cell_type": "code",
   "execution_count": 273,
   "metadata": {
    "scrolled": true
   },
   "outputs": [
    {
     "data": {
      "text/html": [
       "<div>\n",
       "<style scoped>\n",
       "    .dataframe tbody tr th:only-of-type {\n",
       "        vertical-align: middle;\n",
       "    }\n",
       "\n",
       "    .dataframe tbody tr th {\n",
       "        vertical-align: top;\n",
       "    }\n",
       "\n",
       "    .dataframe thead th {\n",
       "        text-align: right;\n",
       "    }\n",
       "</style>\n",
       "<table border=\"1\" class=\"dataframe\">\n",
       "  <thead>\n",
       "    <tr style=\"text-align: right;\">\n",
       "      <th></th>\n",
       "      <th>RowNumber</th>\n",
       "      <th>CustomerId</th>\n",
       "      <th>Surname</th>\n",
       "      <th>CreditScore</th>\n",
       "      <th>Geography</th>\n",
       "      <th>Gender</th>\n",
       "      <th>Age</th>\n",
       "      <th>Tenure</th>\n",
       "      <th>Balance</th>\n",
       "      <th>NumOfProducts</th>\n",
       "      <th>HasCrCard</th>\n",
       "      <th>IsActiveMember</th>\n",
       "      <th>EstimatedSalary</th>\n",
       "      <th>Exited</th>\n",
       "    </tr>\n",
       "  </thead>\n",
       "  <tbody>\n",
       "    <tr>\n",
       "      <th>0</th>\n",
       "      <td>1</td>\n",
       "      <td>15634602</td>\n",
       "      <td>Hargrave</td>\n",
       "      <td>619</td>\n",
       "      <td>France</td>\n",
       "      <td>Female</td>\n",
       "      <td>42</td>\n",
       "      <td>2.0</td>\n",
       "      <td>0.00</td>\n",
       "      <td>1</td>\n",
       "      <td>1</td>\n",
       "      <td>1</td>\n",
       "      <td>101348.88</td>\n",
       "      <td>1</td>\n",
       "    </tr>\n",
       "    <tr>\n",
       "      <th>1</th>\n",
       "      <td>2</td>\n",
       "      <td>15647311</td>\n",
       "      <td>Hill</td>\n",
       "      <td>608</td>\n",
       "      <td>Spain</td>\n",
       "      <td>Female</td>\n",
       "      <td>41</td>\n",
       "      <td>1.0</td>\n",
       "      <td>83807.86</td>\n",
       "      <td>1</td>\n",
       "      <td>0</td>\n",
       "      <td>1</td>\n",
       "      <td>112542.58</td>\n",
       "      <td>0</td>\n",
       "    </tr>\n",
       "    <tr>\n",
       "      <th>2</th>\n",
       "      <td>3</td>\n",
       "      <td>15619304</td>\n",
       "      <td>Onio</td>\n",
       "      <td>502</td>\n",
       "      <td>France</td>\n",
       "      <td>Female</td>\n",
       "      <td>42</td>\n",
       "      <td>8.0</td>\n",
       "      <td>159660.80</td>\n",
       "      <td>3</td>\n",
       "      <td>1</td>\n",
       "      <td>0</td>\n",
       "      <td>113931.57</td>\n",
       "      <td>1</td>\n",
       "    </tr>\n",
       "    <tr>\n",
       "      <th>3</th>\n",
       "      <td>4</td>\n",
       "      <td>15701354</td>\n",
       "      <td>Boni</td>\n",
       "      <td>699</td>\n",
       "      <td>France</td>\n",
       "      <td>Female</td>\n",
       "      <td>39</td>\n",
       "      <td>1.0</td>\n",
       "      <td>0.00</td>\n",
       "      <td>2</td>\n",
       "      <td>0</td>\n",
       "      <td>0</td>\n",
       "      <td>93826.63</td>\n",
       "      <td>0</td>\n",
       "    </tr>\n",
       "    <tr>\n",
       "      <th>4</th>\n",
       "      <td>5</td>\n",
       "      <td>15737888</td>\n",
       "      <td>Mitchell</td>\n",
       "      <td>850</td>\n",
       "      <td>Spain</td>\n",
       "      <td>Female</td>\n",
       "      <td>43</td>\n",
       "      <td>2.0</td>\n",
       "      <td>125510.82</td>\n",
       "      <td>1</td>\n",
       "      <td>1</td>\n",
       "      <td>1</td>\n",
       "      <td>79084.10</td>\n",
       "      <td>0</td>\n",
       "    </tr>\n",
       "  </tbody>\n",
       "</table>\n",
       "</div>"
      ],
      "text/plain": [
       "   RowNumber  CustomerId   Surname  CreditScore Geography  Gender  Age  \\\n",
       "0          1    15634602  Hargrave          619    France  Female   42   \n",
       "1          2    15647311      Hill          608     Spain  Female   41   \n",
       "2          3    15619304      Onio          502    France  Female   42   \n",
       "3          4    15701354      Boni          699    France  Female   39   \n",
       "4          5    15737888  Mitchell          850     Spain  Female   43   \n",
       "\n",
       "   Tenure    Balance  NumOfProducts  HasCrCard  IsActiveMember  \\\n",
       "0     2.0       0.00              1          1               1   \n",
       "1     1.0   83807.86              1          0               1   \n",
       "2     8.0  159660.80              3          1               0   \n",
       "3     1.0       0.00              2          0               0   \n",
       "4     2.0  125510.82              1          1               1   \n",
       "\n",
       "   EstimatedSalary  Exited  \n",
       "0        101348.88       1  \n",
       "1        112542.58       0  \n",
       "2        113931.57       1  \n",
       "3         93826.63       0  \n",
       "4         79084.10       0  "
      ]
     },
     "execution_count": 273,
     "metadata": {},
     "output_type": "execute_result"
    }
   ],
   "source": [
    "df.head()"
   ]
  },
  {
   "cell_type": "markdown",
   "metadata": {},
   "source": [
    "### анализ данных, приведение в нижний регистр"
   ]
  },
  {
   "cell_type": "code",
   "execution_count": 274,
   "metadata": {},
   "outputs": [],
   "source": [
    "def rename(name):\n",
    "  name = name.replace(name[0], name[0].lower())           \n",
    "  for i in range(len(name)):\n",
    "    if name[i].isupper():\n",
    "      index = name.find(name[i])\n",
    "      name = name.replace(name[i], name[i].lower())\n",
    "      name = name[:index] + '_' + name[index:]\n",
    "  return name\n",
    "\n",
    "for i in range(len(df.columns)):\n",
    "  x=df.columns[i]\n",
    "  x2=rename(x)\n",
    "  df = df.rename(columns={x:x2})"
   ]
  },
  {
   "cell_type": "code",
   "execution_count": 275,
   "metadata": {},
   "outputs": [
    {
     "name": "stdout",
     "output_type": "stream",
     "text": [
      "<class 'pandas.core.frame.DataFrame'>\n",
      "RangeIndex: 10000 entries, 0 to 9999\n",
      "Data columns (total 14 columns):\n",
      " #   Column            Non-Null Count  Dtype  \n",
      "---  ------            --------------  -----  \n",
      " 0   row_number        10000 non-null  int64  \n",
      " 1   customer_id       10000 non-null  int64  \n",
      " 2   surname           10000 non-null  object \n",
      " 3   credit_score      10000 non-null  int64  \n",
      " 4   geography         10000 non-null  object \n",
      " 5   gender            10000 non-null  object \n",
      " 6   age               10000 non-null  int64  \n",
      " 7   tenure            9091 non-null   float64\n",
      " 8   balance           10000 non-null  float64\n",
      " 9   num_of_products   10000 non-null  int64  \n",
      " 10  has_crcard        10000 non-null  int64  \n",
      " 11  is_active_member  10000 non-null  int64  \n",
      " 12  estimated_salary  10000 non-null  float64\n",
      " 13  exited            10000 non-null  int64  \n",
      "dtypes: float64(3), int64(8), object(3)\n",
      "memory usage: 1.1+ MB\n"
     ]
    }
   ],
   "source": [
    "df.info()"
   ]
  },
  {
   "cell_type": "markdown",
   "metadata": {},
   "source": [
    "---в приведенном датасете есть 14 колонок по 10000 строк \n",
    "\n",
    "---в советах коллег было озвучено, что первые три колонки следует убрать, они не несут никакой статистической информации и никак не повлияют на дальнейшие прогнозы\n",
    "\n",
    "---также есть пропуски в колонке tenure, которая несет информацию о том, сколько лет клиент находится в обслуживании банка. Возможно, что это не ошибка, а новые клиенты. Также считаю уместным изменить в этой колонке тип данных на целочисленный, чтобы не путаться в дальнейшем с дробями.\n"
   ]
  },
  {
   "cell_type": "markdown",
   "metadata": {},
   "source": [
    "### анализ  колонки tenure, заполнение медианными данными\n"
   ]
  },
  {
   "cell_type": "code",
   "execution_count": 276,
   "metadata": {
    "scrolled": true
   },
   "outputs": [
    {
     "data": {
      "image/png": "[encoded data removed]",
      "text/plain": [
       "<Figure size 432x288 with 1 Axes>"
      ]
     },
     "metadata": {
      "needs_background": "light"
     },
     "output_type": "display_data"
    }
   ],
   "source": [
    "df = df.copy()\n",
    "df.tenure.hist();"
   ]
  },
  {
   "cell_type": "code",
   "execution_count": 277,
   "metadata": {},
   "outputs": [
    {
     "data": {
      "image/png": "[encoded data removed]",
      "text/plain": [
       "<Figure size 432x288 with 1 Axes>"
      ]
     },
     "metadata": {
      "needs_background": "light"
     },
     "output_type": "display_data"
    }
   ],
   "source": [
    "mask = df.tenure.isna()\n",
    "df.fillna(df.tenure.median(), inplace = True)\n",
    "df.tenure.hist();"
   ]
  },
  {
   "cell_type": "code",
   "execution_count": 278,
   "metadata": {},
   "outputs": [
    {
     "name": "stdout",
     "output_type": "stream",
     "text": [
      "<class 'pandas.core.frame.DataFrame'>\n",
      "RangeIndex: 10000 entries, 0 to 9999\n",
      "Data columns (total 14 columns):\n",
      " #   Column            Non-Null Count  Dtype  \n",
      "---  ------            --------------  -----  \n",
      " 0   row_number        10000 non-null  int64  \n",
      " 1   customer_id       10000 non-null  int64  \n",
      " 2   surname           10000 non-null  object \n",
      " 3   credit_score      10000 non-null  int64  \n",
      " 4   geography         10000 non-null  object \n",
      " 5   gender            10000 non-null  object \n",
      " 6   age               10000 non-null  int64  \n",
      " 7   tenure            10000 non-null  float64\n",
      " 8   balance           10000 non-null  float64\n",
      " 9   num_of_products   10000 non-null  int64  \n",
      " 10  has_crcard        10000 non-null  int64  \n",
      " 11  is_active_member  10000 non-null  int64  \n",
      " 12  estimated_salary  10000 non-null  float64\n",
      " 13  exited            10000 non-null  int64  \n",
      "dtypes: float64(3), int64(8), object(3)\n",
      "memory usage: 1.1+ MB\n"
     ]
    }
   ],
   "source": [
    "df.info()"
   ]
  },
  {
   "cell_type": "markdown",
   "metadata": {},
   "source": [
    "### удаление лишних колонок\n"
   ]
  },
  {
   "cell_type": "code",
   "execution_count": 279,
   "metadata": {
    "scrolled": false
   },
   "outputs": [
    {
     "data": {
      "text/html": [
       "<div>\n",
       "<style scoped>\n",
       "    .dataframe tbody tr th:only-of-type {\n",
       "        vertical-align: middle;\n",
       "    }\n",
       "\n",
       "    .dataframe tbody tr th {\n",
       "        vertical-align: top;\n",
       "    }\n",
       "\n",
       "    .dataframe thead th {\n",
       "        text-align: right;\n",
       "    }\n",
       "</style>\n",
       "<table border=\"1\" class=\"dataframe\">\n",
       "  <thead>\n",
       "    <tr style=\"text-align: right;\">\n",
       "      <th></th>\n",
       "      <th>credit_score</th>\n",
       "      <th>geography</th>\n",
       "      <th>gender</th>\n",
       "      <th>age</th>\n",
       "      <th>tenure</th>\n",
       "      <th>balance</th>\n",
       "      <th>num_of_products</th>\n",
       "      <th>has_crcard</th>\n",
       "      <th>is_active_member</th>\n",
       "      <th>estimated_salary</th>\n",
       "      <th>exited</th>\n",
       "    </tr>\n",
       "  </thead>\n",
       "  <tbody>\n",
       "    <tr>\n",
       "      <th>0</th>\n",
       "      <td>619</td>\n",
       "      <td>France</td>\n",
       "      <td>Female</td>\n",
       "      <td>42</td>\n",
       "      <td>2.0</td>\n",
       "      <td>0.00</td>\n",
       "      <td>1</td>\n",
       "      <td>1</td>\n",
       "      <td>1</td>\n",
       "      <td>101348.88</td>\n",
       "      <td>1</td>\n",
       "    </tr>\n",
       "    <tr>\n",
       "      <th>1</th>\n",
       "      <td>608</td>\n",
       "      <td>Spain</td>\n",
       "      <td>Female</td>\n",
       "      <td>41</td>\n",
       "      <td>1.0</td>\n",
       "      <td>83807.86</td>\n",
       "      <td>1</td>\n",
       "      <td>0</td>\n",
       "      <td>1</td>\n",
       "      <td>112542.58</td>\n",
       "      <td>0</td>\n",
       "    </tr>\n",
       "    <tr>\n",
       "      <th>2</th>\n",
       "      <td>502</td>\n",
       "      <td>France</td>\n",
       "      <td>Female</td>\n",
       "      <td>42</td>\n",
       "      <td>8.0</td>\n",
       "      <td>159660.80</td>\n",
       "      <td>3</td>\n",
       "      <td>1</td>\n",
       "      <td>0</td>\n",
       "      <td>113931.57</td>\n",
       "      <td>1</td>\n",
       "    </tr>\n",
       "    <tr>\n",
       "      <th>3</th>\n",
       "      <td>699</td>\n",
       "      <td>France</td>\n",
       "      <td>Female</td>\n",
       "      <td>39</td>\n",
       "      <td>1.0</td>\n",
       "      <td>0.00</td>\n",
       "      <td>2</td>\n",
       "      <td>0</td>\n",
       "      <td>0</td>\n",
       "      <td>93826.63</td>\n",
       "      <td>0</td>\n",
       "    </tr>\n",
       "    <tr>\n",
       "      <th>4</th>\n",
       "      <td>850</td>\n",
       "      <td>Spain</td>\n",
       "      <td>Female</td>\n",
       "      <td>43</td>\n",
       "      <td>2.0</td>\n",
       "      <td>125510.82</td>\n",
       "      <td>1</td>\n",
       "      <td>1</td>\n",
       "      <td>1</td>\n",
       "      <td>79084.10</td>\n",
       "      <td>0</td>\n",
       "    </tr>\n",
       "  </tbody>\n",
       "</table>\n",
       "</div>"
      ],
      "text/plain": [
       "   credit_score geography  gender  age  tenure    balance  num_of_products  \\\n",
       "0           619    France  Female   42     2.0       0.00                1   \n",
       "1           608     Spain  Female   41     1.0   83807.86                1   \n",
       "2           502    France  Female   42     8.0  159660.80                3   \n",
       "3           699    France  Female   39     1.0       0.00                2   \n",
       "4           850     Spain  Female   43     2.0  125510.82                1   \n",
       "\n",
       "   has_crcard  is_active_member  estimated_salary  exited  \n",
       "0           1                 1         101348.88       1  \n",
       "1           0                 1         112542.58       0  \n",
       "2           1                 0         113931.57       1  \n",
       "3           0                 0          93826.63       0  \n",
       "4           1                 1          79084.10       0  "
      ]
     },
     "execution_count": 279,
     "metadata": {},
     "output_type": "execute_result"
    }
   ],
   "source": [
    "df = df.drop(['row_number', 'customer_id', 'surname'], axis=1)\n",
    "df.head()"
   ]
  },
  {
   "cell_type": "code",
   "execution_count": 280,
   "metadata": {
    "scrolled": true
   },
   "outputs": [
    {
     "name": "stdout",
     "output_type": "stream",
     "text": [
      "<class 'pandas.core.frame.DataFrame'>\n",
      "RangeIndex: 10000 entries, 0 to 9999\n",
      "Data columns (total 11 columns):\n",
      " #   Column            Non-Null Count  Dtype  \n",
      "---  ------            --------------  -----  \n",
      " 0   credit_score      10000 non-null  int64  \n",
      " 1   geography         10000 non-null  object \n",
      " 2   gender            10000 non-null  object \n",
      " 3   age               10000 non-null  int64  \n",
      " 4   tenure            10000 non-null  float64\n",
      " 5   balance           10000 non-null  float64\n",
      " 6   num_of_products   10000 non-null  int64  \n",
      " 7   has_crcard        10000 non-null  int64  \n",
      " 8   is_active_member  10000 non-null  int64  \n",
      " 9   estimated_salary  10000 non-null  float64\n",
      " 10  exited            10000 non-null  int64  \n",
      "dtypes: float64(3), int64(6), object(2)\n",
      "memory usage: 859.5+ KB\n"
     ]
    }
   ],
   "source": [
    "df.info()"
   ]
  },
  {
   "cell_type": "markdown",
   "metadata": {},
   "source": [
    "### таблица корреляции"
   ]
  },
  {
   "cell_type": "code",
   "execution_count": 281,
   "metadata": {
    "scrolled": true
   },
   "outputs": [
    {
     "data": {
      "text/html": [
       "<div>\n",
       "<style scoped>\n",
       "    .dataframe tbody tr th:only-of-type {\n",
       "        vertical-align: middle;\n",
       "    }\n",
       "\n",
       "    .dataframe tbody tr th {\n",
       "        vertical-align: top;\n",
       "    }\n",
       "\n",
       "    .dataframe thead th {\n",
       "        text-align: right;\n",
       "    }\n",
       "</style>\n",
       "<table border=\"1\" class=\"dataframe\">\n",
       "  <thead>\n",
       "    <tr style=\"text-align: right;\">\n",
       "      <th></th>\n",
       "      <th>credit_score</th>\n",
       "      <th>age</th>\n",
       "      <th>tenure</th>\n",
       "      <th>balance</th>\n",
       "      <th>num_of_products</th>\n",
       "      <th>has_crcard</th>\n",
       "      <th>is_active_member</th>\n",
       "      <th>estimated_salary</th>\n",
       "      <th>exited</th>\n",
       "    </tr>\n",
       "  </thead>\n",
       "  <tbody>\n",
       "    <tr>\n",
       "      <th>credit_score</th>\n",
       "      <td>1.000000</td>\n",
       "      <td>-0.003965</td>\n",
       "      <td>-0.000060</td>\n",
       "      <td>0.006268</td>\n",
       "      <td>0.012238</td>\n",
       "      <td>-0.005458</td>\n",
       "      <td>0.025651</td>\n",
       "      <td>-0.001384</td>\n",
       "      <td>-0.027094</td>\n",
       "    </tr>\n",
       "    <tr>\n",
       "      <th>age</th>\n",
       "      <td>-0.003965</td>\n",
       "      <td>1.000000</td>\n",
       "      <td>-0.012606</td>\n",
       "      <td>0.028308</td>\n",
       "      <td>-0.030680</td>\n",
       "      <td>-0.011721</td>\n",
       "      <td>0.085472</td>\n",
       "      <td>-0.007201</td>\n",
       "      <td>0.285323</td>\n",
       "    </tr>\n",
       "    <tr>\n",
       "      <th>tenure</th>\n",
       "      <td>-0.000060</td>\n",
       "      <td>-0.012606</td>\n",
       "      <td>1.000000</td>\n",
       "      <td>-0.007535</td>\n",
       "      <td>0.011409</td>\n",
       "      <td>0.025979</td>\n",
       "      <td>-0.030681</td>\n",
       "      <td>0.010049</td>\n",
       "      <td>-0.015989</td>\n",
       "    </tr>\n",
       "    <tr>\n",
       "      <th>balance</th>\n",
       "      <td>0.006268</td>\n",
       "      <td>0.028308</td>\n",
       "      <td>-0.007535</td>\n",
       "      <td>1.000000</td>\n",
       "      <td>-0.304180</td>\n",
       "      <td>-0.014858</td>\n",
       "      <td>-0.010084</td>\n",
       "      <td>0.012797</td>\n",
       "      <td>0.118533</td>\n",
       "    </tr>\n",
       "    <tr>\n",
       "      <th>num_of_products</th>\n",
       "      <td>0.012238</td>\n",
       "      <td>-0.030680</td>\n",
       "      <td>0.011409</td>\n",
       "      <td>-0.304180</td>\n",
       "      <td>1.000000</td>\n",
       "      <td>0.003183</td>\n",
       "      <td>0.009612</td>\n",
       "      <td>0.014204</td>\n",
       "      <td>-0.047820</td>\n",
       "    </tr>\n",
       "    <tr>\n",
       "      <th>has_crcard</th>\n",
       "      <td>-0.005458</td>\n",
       "      <td>-0.011721</td>\n",
       "      <td>0.025979</td>\n",
       "      <td>-0.014858</td>\n",
       "      <td>0.003183</td>\n",
       "      <td>1.000000</td>\n",
       "      <td>-0.011866</td>\n",
       "      <td>-0.009933</td>\n",
       "      <td>-0.007138</td>\n",
       "    </tr>\n",
       "    <tr>\n",
       "      <th>is_active_member</th>\n",
       "      <td>0.025651</td>\n",
       "      <td>0.085472</td>\n",
       "      <td>-0.030681</td>\n",
       "      <td>-0.010084</td>\n",
       "      <td>0.009612</td>\n",
       "      <td>-0.011866</td>\n",
       "      <td>1.000000</td>\n",
       "      <td>-0.011421</td>\n",
       "      <td>-0.156128</td>\n",
       "    </tr>\n",
       "    <tr>\n",
       "      <th>estimated_salary</th>\n",
       "      <td>-0.001384</td>\n",
       "      <td>-0.007201</td>\n",
       "      <td>0.010049</td>\n",
       "      <td>0.012797</td>\n",
       "      <td>0.014204</td>\n",
       "      <td>-0.009933</td>\n",
       "      <td>-0.011421</td>\n",
       "      <td>1.000000</td>\n",
       "      <td>0.012097</td>\n",
       "    </tr>\n",
       "    <tr>\n",
       "      <th>exited</th>\n",
       "      <td>-0.027094</td>\n",
       "      <td>0.285323</td>\n",
       "      <td>-0.015989</td>\n",
       "      <td>0.118533</td>\n",
       "      <td>-0.047820</td>\n",
       "      <td>-0.007138</td>\n",
       "      <td>-0.156128</td>\n",
       "      <td>0.012097</td>\n",
       "      <td>1.000000</td>\n",
       "    </tr>\n",
       "  </tbody>\n",
       "</table>\n",
       "</div>"
      ],
      "text/plain": [
       "                  credit_score       age    tenure   balance  num_of_products  \\\n",
       "credit_score          1.000000 -0.003965 -0.000060  0.006268         0.012238   \n",
       "age                  -0.003965  1.000000 -0.012606  0.028308        -0.030680   \n",
       "tenure               -0.000060 -0.012606  1.000000 -0.007535         0.011409   \n",
       "balance               0.006268  0.028308 -0.007535  1.000000        -0.304180   \n",
       "num_of_products       0.012238 -0.030680  0.011409 -0.304180         1.000000   \n",
       "has_crcard           -0.005458 -0.011721  0.025979 -0.014858         0.003183   \n",
       "is_active_member      0.025651  0.085472 -0.030681 -0.010084         0.009612   \n",
       "estimated_salary     -0.001384 -0.007201  0.010049  0.012797         0.014204   \n",
       "exited               -0.027094  0.285323 -0.015989  0.118533        -0.047820   \n",
       "\n",
       "                  has_crcard  is_active_member  estimated_salary    exited  \n",
       "credit_score       -0.005458          0.025651         -0.001384 -0.027094  \n",
       "age                -0.011721          0.085472         -0.007201  0.285323  \n",
       "tenure              0.025979         -0.030681          0.010049 -0.015989  \n",
       "balance            -0.014858         -0.010084          0.012797  0.118533  \n",
       "num_of_products     0.003183          0.009612          0.014204 -0.047820  \n",
       "has_crcard          1.000000         -0.011866         -0.009933 -0.007138  \n",
       "is_active_member   -0.011866          1.000000         -0.011421 -0.156128  \n",
       "estimated_salary   -0.009933         -0.011421          1.000000  0.012097  \n",
       "exited             -0.007138         -0.156128          0.012097  1.000000  "
      ]
     },
     "execution_count": 281,
     "metadata": {},
     "output_type": "execute_result"
    }
   ],
   "source": [
    "df.corr()"
   ]
  },
  {
   "cell_type": "markdown",
   "metadata": {},
   "source": [
    "---не видно, чтобы были остро коррелирующие данные, все очень мягко пересекается"
   ]
  },
  {
   "cell_type": "markdown",
   "metadata": {},
   "source": [
    "### разбиение на выборки\n"
   ]
  },
  {
   "cell_type": "markdown",
   "metadata": {},
   "source": [
    "разделим данные на выборки, по совету коллег на разделении 0.7/0.15/0.15 модель обучается более успешно, нежели на других пропорциях выборок<br>целевой признак составляет 20 процентов от всей колонки, это повлияет на поведение модели в дальнейшем"
   ]
  },
  {
   "cell_type": "code",
   "execution_count": 282,
   "metadata": {
    "scrolled": true
   },
   "outputs": [
    {
     "name": "stdout",
     "output_type": "stream",
     "text": [
      "Тренировочный: 7000\n",
      "Валидационный: 1500\n",
      "Тестовый: 1500\n"
     ]
    }
   ],
   "source": [
    "features = df.drop(['exited'], axis=1)\n",
    "target = df['exited']\n",
    "\n",
    "features_train, features_x, target_train, target_x = train_test_split(\n",
    "    features, target, \n",
    "    test_size=0.3, \n",
    "    random_state=12345,\n",
    "    stratify = target )\n",
    "features_test, features_valid, target_test, target_valid =train_test_split(\n",
    "    features_x, target_x, \n",
    "    test_size=0.5, \n",
    "    random_state=12345)\n",
    "\n",
    "\n",
    "print('Тренировочный:', features_train.shape[0])\n",
    "print('Валидационный:', features_valid.shape[0])\n",
    "print('Тестовый:',features_test.shape[0])\n"
   ]
  },
  {
   "cell_type": "code",
   "execution_count": 283,
   "metadata": {},
   "outputs": [
    {
     "data": {
      "text/plain": [
       "0.2037"
      ]
     },
     "execution_count": 283,
     "metadata": {},
     "output_type": "execute_result"
    }
   ],
   "source": [
    "target.mean()"
   ]
  },
  {
   "cell_type": "markdown",
   "metadata": {},
   "source": [
    "---в целевом признаке наблюдается неправильное распределение, целевой класс составляет 0.2 от общего количества\n",
    "\n",
    "---в дальнейшем это будет обработано увеличением выборки"
   ]
  },
  {
   "cell_type": "markdown",
   "metadata": {},
   "source": [
    "### ОНЕ преобразование и масштабирование StandartScaler"
   ]
  },
  {
   "cell_type": "markdown",
   "metadata": {},
   "source": [
    "---пока мы производим подготовку данных, можно преобразовать категориальные данные в численные с помощью прямого кодирования - ОНЕ"
   ]
  },
  {
   "cell_type": "code",
   "execution_count": 284,
   "metadata": {},
   "outputs": [
    {
     "data": {
      "text/html": [
       "<div>\n",
       "<style scoped>\n",
       "    .dataframe tbody tr th:only-of-type {\n",
       "        vertical-align: middle;\n",
       "    }\n",
       "\n",
       "    .dataframe tbody tr th {\n",
       "        vertical-align: top;\n",
       "    }\n",
       "\n",
       "    .dataframe thead th {\n",
       "        text-align: right;\n",
       "    }\n",
       "</style>\n",
       "<table border=\"1\" class=\"dataframe\">\n",
       "  <thead>\n",
       "    <tr style=\"text-align: right;\">\n",
       "      <th></th>\n",
       "      <th>credit_score</th>\n",
       "      <th>age</th>\n",
       "      <th>tenure</th>\n",
       "      <th>balance</th>\n",
       "      <th>estimated_salary</th>\n",
       "      <th>geography_Germany</th>\n",
       "      <th>geography_Spain</th>\n",
       "      <th>gender_Male</th>\n",
       "      <th>num_of_products_2</th>\n",
       "      <th>num_of_products_3</th>\n",
       "      <th>num_of_products_4</th>\n",
       "      <th>has_crcard_1</th>\n",
       "      <th>is_active_member_1</th>\n",
       "    </tr>\n",
       "  </thead>\n",
       "  <tbody>\n",
       "    <tr>\n",
       "      <th>3457</th>\n",
       "      <td>657</td>\n",
       "      <td>36</td>\n",
       "      <td>8.0</td>\n",
       "      <td>188241.05</td>\n",
       "      <td>183058.51</td>\n",
       "      <td>0.0</td>\n",
       "      <td>1.0</td>\n",
       "      <td>1.0</td>\n",
       "      <td>1.0</td>\n",
       "      <td>0.0</td>\n",
       "      <td>0.0</td>\n",
       "      <td>0.0</td>\n",
       "      <td>0.0</td>\n",
       "    </tr>\n",
       "    <tr>\n",
       "      <th>5307</th>\n",
       "      <td>534</td>\n",
       "      <td>49</td>\n",
       "      <td>7.0</td>\n",
       "      <td>0.00</td>\n",
       "      <td>13566.48</td>\n",
       "      <td>0.0</td>\n",
       "      <td>0.0</td>\n",
       "      <td>0.0</td>\n",
       "      <td>0.0</td>\n",
       "      <td>0.0</td>\n",
       "      <td>0.0</td>\n",
       "      <td>1.0</td>\n",
       "      <td>0.0</td>\n",
       "    </tr>\n",
       "    <tr>\n",
       "      <th>4964</th>\n",
       "      <td>466</td>\n",
       "      <td>41</td>\n",
       "      <td>3.0</td>\n",
       "      <td>33563.95</td>\n",
       "      <td>178994.13</td>\n",
       "      <td>0.0</td>\n",
       "      <td>0.0</td>\n",
       "      <td>0.0</td>\n",
       "      <td>1.0</td>\n",
       "      <td>0.0</td>\n",
       "      <td>0.0</td>\n",
       "      <td>1.0</td>\n",
       "      <td>0.0</td>\n",
       "    </tr>\n",
       "    <tr>\n",
       "      <th>6244</th>\n",
       "      <td>670</td>\n",
       "      <td>20</td>\n",
       "      <td>4.0</td>\n",
       "      <td>0.00</td>\n",
       "      <td>119759.24</td>\n",
       "      <td>0.0</td>\n",
       "      <td>1.0</td>\n",
       "      <td>0.0</td>\n",
       "      <td>1.0</td>\n",
       "      <td>0.0</td>\n",
       "      <td>0.0</td>\n",
       "      <td>1.0</td>\n",
       "      <td>0.0</td>\n",
       "    </tr>\n",
       "    <tr>\n",
       "      <th>4087</th>\n",
       "      <td>637</td>\n",
       "      <td>60</td>\n",
       "      <td>3.0</td>\n",
       "      <td>0.00</td>\n",
       "      <td>70174.03</td>\n",
       "      <td>0.0</td>\n",
       "      <td>0.0</td>\n",
       "      <td>1.0</td>\n",
       "      <td>1.0</td>\n",
       "      <td>0.0</td>\n",
       "      <td>0.0</td>\n",
       "      <td>1.0</td>\n",
       "      <td>1.0</td>\n",
       "    </tr>\n",
       "    <tr>\n",
       "      <th>...</th>\n",
       "      <td>...</td>\n",
       "      <td>...</td>\n",
       "      <td>...</td>\n",
       "      <td>...</td>\n",
       "      <td>...</td>\n",
       "      <td>...</td>\n",
       "      <td>...</td>\n",
       "      <td>...</td>\n",
       "      <td>...</td>\n",
       "      <td>...</td>\n",
       "      <td>...</td>\n",
       "      <td>...</td>\n",
       "      <td>...</td>\n",
       "    </tr>\n",
       "    <tr>\n",
       "      <th>2360</th>\n",
       "      <td>518</td>\n",
       "      <td>41</td>\n",
       "      <td>5.0</td>\n",
       "      <td>110624.99</td>\n",
       "      <td>89327.67</td>\n",
       "      <td>1.0</td>\n",
       "      <td>0.0</td>\n",
       "      <td>0.0</td>\n",
       "      <td>0.0</td>\n",
       "      <td>0.0</td>\n",
       "      <td>0.0</td>\n",
       "      <td>1.0</td>\n",
       "      <td>0.0</td>\n",
       "    </tr>\n",
       "    <tr>\n",
       "      <th>4499</th>\n",
       "      <td>536</td>\n",
       "      <td>44</td>\n",
       "      <td>4.0</td>\n",
       "      <td>121898.82</td>\n",
       "      <td>131007.18</td>\n",
       "      <td>1.0</td>\n",
       "      <td>0.0</td>\n",
       "      <td>0.0</td>\n",
       "      <td>0.0</td>\n",
       "      <td>0.0</td>\n",
       "      <td>0.0</td>\n",
       "      <td>0.0</td>\n",
       "      <td>0.0</td>\n",
       "    </tr>\n",
       "    <tr>\n",
       "      <th>1030</th>\n",
       "      <td>730</td>\n",
       "      <td>39</td>\n",
       "      <td>1.0</td>\n",
       "      <td>116537.60</td>\n",
       "      <td>145679.60</td>\n",
       "      <td>0.0</td>\n",
       "      <td>0.0</td>\n",
       "      <td>1.0</td>\n",
       "      <td>0.0</td>\n",
       "      <td>0.0</td>\n",
       "      <td>0.0</td>\n",
       "      <td>0.0</td>\n",
       "      <td>0.0</td>\n",
       "    </tr>\n",
       "    <tr>\n",
       "      <th>700</th>\n",
       "      <td>750</td>\n",
       "      <td>32</td>\n",
       "      <td>5.0</td>\n",
       "      <td>0.00</td>\n",
       "      <td>95611.47</td>\n",
       "      <td>0.0</td>\n",
       "      <td>0.0</td>\n",
       "      <td>0.0</td>\n",
       "      <td>1.0</td>\n",
       "      <td>0.0</td>\n",
       "      <td>0.0</td>\n",
       "      <td>1.0</td>\n",
       "      <td>0.0</td>\n",
       "    </tr>\n",
       "    <tr>\n",
       "      <th>3272</th>\n",
       "      <td>728</td>\n",
       "      <td>59</td>\n",
       "      <td>4.0</td>\n",
       "      <td>0.00</td>\n",
       "      <td>163365.85</td>\n",
       "      <td>0.0</td>\n",
       "      <td>0.0</td>\n",
       "      <td>0.0</td>\n",
       "      <td>0.0</td>\n",
       "      <td>0.0</td>\n",
       "      <td>0.0</td>\n",
       "      <td>1.0</td>\n",
       "      <td>1.0</td>\n",
       "    </tr>\n",
       "  </tbody>\n",
       "</table>\n",
       "<p>7000 rows × 13 columns</p>\n",
       "</div>"
      ],
      "text/plain": [
       "      credit_score  age  tenure    balance  estimated_salary  \\\n",
       "3457           657   36     8.0  188241.05         183058.51   \n",
       "5307           534   49     7.0       0.00          13566.48   \n",
       "4964           466   41     3.0   33563.95         178994.13   \n",
       "6244           670   20     4.0       0.00         119759.24   \n",
       "4087           637   60     3.0       0.00          70174.03   \n",
       "...            ...  ...     ...        ...               ...   \n",
       "2360           518   41     5.0  110624.99          89327.67   \n",
       "4499           536   44     4.0  121898.82         131007.18   \n",
       "1030           730   39     1.0  116537.60         145679.60   \n",
       "700            750   32     5.0       0.00          95611.47   \n",
       "3272           728   59     4.0       0.00         163365.85   \n",
       "\n",
       "      geography_Germany  geography_Spain  gender_Male  num_of_products_2  \\\n",
       "3457                0.0              1.0          1.0                1.0   \n",
       "5307                0.0              0.0          0.0                0.0   \n",
       "4964                0.0              0.0          0.0                1.0   \n",
       "6244                0.0              1.0          0.0                1.0   \n",
       "4087                0.0              0.0          1.0                1.0   \n",
       "...                 ...              ...          ...                ...   \n",
       "2360                1.0              0.0          0.0                0.0   \n",
       "4499                1.0              0.0          0.0                0.0   \n",
       "1030                0.0              0.0          1.0                0.0   \n",
       "700                 0.0              0.0          0.0                1.0   \n",
       "3272                0.0              0.0          0.0                0.0   \n",
       "\n",
       "      num_of_products_3  num_of_products_4  has_crcard_1  is_active_member_1  \n",
       "3457                0.0                0.0           0.0                 0.0  \n",
       "5307                0.0                0.0           1.0                 0.0  \n",
       "4964                0.0                0.0           1.0                 0.0  \n",
       "6244                0.0                0.0           1.0                 0.0  \n",
       "4087                0.0                0.0           1.0                 1.0  \n",
       "...                 ...                ...           ...                 ...  \n",
       "2360                0.0                0.0           1.0                 0.0  \n",
       "4499                0.0                0.0           0.0                 0.0  \n",
       "1030                0.0                0.0           0.0                 0.0  \n",
       "700                 0.0                0.0           1.0                 0.0  \n",
       "3272                0.0                0.0           1.0                 1.0  \n",
       "\n",
       "[7000 rows x 13 columns]"
      ]
     },
     "execution_count": 284,
     "metadata": {},
     "output_type": "execute_result"
    }
   ],
   "source": [
    "columns = ['geography', 'gender', \n",
    "       'num_of_products', 'has_crcard', 'is_active_member']\n",
    "\n",
    "enc = OneHotEncoder(drop='first', handle_unknown='ignore', sparse=False)\n",
    "enc.fit(features_train[columns])\n",
    "\n",
    "features_valid[enc.get_feature_names_out()] = enc.transform(features_valid[columns])\n",
    "features_valid=features_valid.drop(columns = columns, axis=1)\n",
    "features_valid\n",
    "\n",
    "features_test[enc.get_feature_names_out()] = enc.transform(features_test[columns])\n",
    "features_test=features_test.drop(columns = columns, axis=1)\n",
    "features_test\n",
    "\n",
    "features_train[enc.get_feature_names_out()] = enc.transform(features_train[columns])\n",
    "features_train=features_train.drop(columns = columns, axis=1)\n",
    "features_train\n"
   ]
  },
  {
   "cell_type": "markdown",
   "metadata": {},
   "source": [
    "---также производим масштабирование численных данных<br>насколько я понял, стандарт скалер масшатбирует сообразно моделям, поэтому важно разделить выборки, чтобы избежать однообразного масштабирования"
   ]
  },
  {
   "cell_type": "code",
   "execution_count": 285,
   "metadata": {},
   "outputs": [
    {
     "data": {
      "text/html": [
       "<div>\n",
       "<style scoped>\n",
       "    .dataframe tbody tr th:only-of-type {\n",
       "        vertical-align: middle;\n",
       "    }\n",
       "\n",
       "    .dataframe tbody tr th {\n",
       "        vertical-align: top;\n",
       "    }\n",
       "\n",
       "    .dataframe thead th {\n",
       "        text-align: right;\n",
       "    }\n",
       "</style>\n",
       "<table border=\"1\" class=\"dataframe\">\n",
       "  <thead>\n",
       "    <tr style=\"text-align: right;\">\n",
       "      <th></th>\n",
       "      <th>credit_score</th>\n",
       "      <th>age</th>\n",
       "      <th>tenure</th>\n",
       "      <th>balance</th>\n",
       "      <th>estimated_salary</th>\n",
       "      <th>geography_Germany</th>\n",
       "      <th>geography_Spain</th>\n",
       "      <th>gender_Male</th>\n",
       "      <th>num_of_products_2</th>\n",
       "      <th>num_of_products_3</th>\n",
       "      <th>num_of_products_4</th>\n",
       "      <th>has_crcard_1</th>\n",
       "      <th>is_active_member_1</th>\n",
       "    </tr>\n",
       "  </thead>\n",
       "  <tbody>\n",
       "    <tr>\n",
       "      <th>3457</th>\n",
       "      <td>0.072458</td>\n",
       "      <td>-0.282661</td>\n",
       "      <td>8.0</td>\n",
       "      <td>1.792195</td>\n",
       "      <td>1.434390</td>\n",
       "      <td>0.0</td>\n",
       "      <td>1.0</td>\n",
       "      <td>1.0</td>\n",
       "      <td>1.0</td>\n",
       "      <td>0.0</td>\n",
       "      <td>0.0</td>\n",
       "      <td>0.0</td>\n",
       "      <td>0.0</td>\n",
       "    </tr>\n",
       "    <tr>\n",
       "      <th>5307</th>\n",
       "      <td>-1.198327</td>\n",
       "      <td>0.962181</td>\n",
       "      <td>7.0</td>\n",
       "      <td>-1.221955</td>\n",
       "      <td>-1.511888</td>\n",
       "      <td>0.0</td>\n",
       "      <td>0.0</td>\n",
       "      <td>0.0</td>\n",
       "      <td>0.0</td>\n",
       "      <td>0.0</td>\n",
       "      <td>0.0</td>\n",
       "      <td>1.0</td>\n",
       "      <td>0.0</td>\n",
       "    </tr>\n",
       "    <tr>\n",
       "      <th>4964</th>\n",
       "      <td>-1.900875</td>\n",
       "      <td>0.196124</td>\n",
       "      <td>3.0</td>\n",
       "      <td>-0.684523</td>\n",
       "      <td>1.363739</td>\n",
       "      <td>0.0</td>\n",
       "      <td>0.0</td>\n",
       "      <td>0.0</td>\n",
       "      <td>1.0</td>\n",
       "      <td>0.0</td>\n",
       "      <td>0.0</td>\n",
       "      <td>1.0</td>\n",
       "      <td>0.0</td>\n",
       "    </tr>\n",
       "    <tr>\n",
       "      <th>6244</th>\n",
       "      <td>0.206769</td>\n",
       "      <td>-1.814775</td>\n",
       "      <td>4.0</td>\n",
       "      <td>-1.221955</td>\n",
       "      <td>0.334060</td>\n",
       "      <td>0.0</td>\n",
       "      <td>1.0</td>\n",
       "      <td>0.0</td>\n",
       "      <td>1.0</td>\n",
       "      <td>0.0</td>\n",
       "      <td>0.0</td>\n",
       "      <td>1.0</td>\n",
       "      <td>0.0</td>\n",
       "    </tr>\n",
       "    <tr>\n",
       "      <th>4087</th>\n",
       "      <td>-0.134173</td>\n",
       "      <td>2.015509</td>\n",
       "      <td>3.0</td>\n",
       "      <td>-1.221955</td>\n",
       "      <td>-0.527879</td>\n",
       "      <td>0.0</td>\n",
       "      <td>0.0</td>\n",
       "      <td>1.0</td>\n",
       "      <td>1.0</td>\n",
       "      <td>0.0</td>\n",
       "      <td>0.0</td>\n",
       "      <td>1.0</td>\n",
       "      <td>1.0</td>\n",
       "    </tr>\n",
       "  </tbody>\n",
       "</table>\n",
       "</div>"
      ],
      "text/plain": [
       "      credit_score       age  tenure   balance  estimated_salary  \\\n",
       "3457      0.072458 -0.282661     8.0  1.792195          1.434390   \n",
       "5307     -1.198327  0.962181     7.0 -1.221955         -1.511888   \n",
       "4964     -1.900875  0.196124     3.0 -0.684523          1.363739   \n",
       "6244      0.206769 -1.814775     4.0 -1.221955          0.334060   \n",
       "4087     -0.134173  2.015509     3.0 -1.221955         -0.527879   \n",
       "\n",
       "      geography_Germany  geography_Spain  gender_Male  num_of_products_2  \\\n",
       "3457                0.0              1.0          1.0                1.0   \n",
       "5307                0.0              0.0          0.0                0.0   \n",
       "4964                0.0              0.0          0.0                1.0   \n",
       "6244                0.0              1.0          0.0                1.0   \n",
       "4087                0.0              0.0          1.0                1.0   \n",
       "\n",
       "      num_of_products_3  num_of_products_4  has_crcard_1  is_active_member_1  \n",
       "3457                0.0                0.0           0.0                 0.0  \n",
       "5307                0.0                0.0           1.0                 0.0  \n",
       "4964                0.0                0.0           1.0                 0.0  \n",
       "6244                0.0                0.0           1.0                 0.0  \n",
       "4087                0.0                0.0           1.0                 1.0  "
      ]
     },
     "execution_count": 285,
     "metadata": {},
     "output_type": "execute_result"
    }
   ],
   "source": [
    "numeric = ['credit_score', 'age', 'balance', 'estimated_salary']\n",
    "\n",
    "scaler = StandardScaler()\n",
    "scaler.fit(features_train[numeric])\n",
    "features_train[numeric] = scaler.transform(features_train[numeric])\n",
    "\n",
    "scaler = StandardScaler()\n",
    "scaler.fit(features_valid[numeric])\n",
    "features_valid[numeric] = scaler.transform(features_valid[numeric])\n",
    "\n",
    "scaler_test = StandardScaler()\n",
    "scaler_test.fit(features_test[numeric])\n",
    "features_test[numeric] = scaler_test.transform(features_test[numeric])\n",
    "#вывод данных для проверки\n",
    "features_train.head()"
   ]
  },
  {
   "cell_type": "markdown",
   "metadata": {},
   "source": [
    "## Исследование задачи"
   ]
  },
  {
   "cell_type": "markdown",
   "metadata": {},
   "source": [
    "---для анализа моделей я буду применять GridSearch, чтобы не выводить функции по перебору и поиску лучших параметров"
   ]
  },
  {
   "cell_type": "markdown",
   "metadata": {},
   "source": [
    "### анализ модели RF"
   ]
  },
  {
   "cell_type": "code",
   "execution_count": 286,
   "metadata": {
    "scrolled": true
   },
   "outputs": [
    {
     "name": "stderr",
     "output_type": "stream",
     "text": [
      "100%|██████████| 9/9 [01:41<00:00, 11.27s/it]"
     ]
    },
    {
     "name": "stdout",
     "output_type": "stream",
     "text": [
      "f1 лучшей модели: 0.6163265306122448 \n",
      "Лучшая глубина дерева: 9 \n",
      "Лучшее число деревьев: 71 \n",
      "Лучший ROC AUC: 0.8732715866916281\n"
     ]
    },
    {
     "name": "stderr",
     "output_type": "stream",
     "text": [
      "\n"
     ]
    }
   ],
   "source": [
    "from tqdm import tqdm\n",
    "best_result_f1_rf = 0\n",
    "best_depth_rf = 0\n",
    "best_est_rf = 0\n",
    "best_auc_rf = 0\n",
    "for depth in tqdm(range(1, 10)):\n",
    "    for est in range(1, 75):\n",
    "        model = RandomForestClassifier(random_state=12345, n_estimators=est, max_depth =depth) \n",
    "        model.fit(features_train,target_train) \n",
    "        predictions = model.predict(features_valid)\n",
    "        result = f1_score(target_valid,predictions) \n",
    "        roc = roc_auc_score(target_valid, model.predict_proba(features_valid)[:,1])\n",
    "        \n",
    "        if result > best_result_f1_rf:\n",
    "            best_result_f1_rf = result\n",
    "            best_depth_rf = depth\n",
    "            best_est_rf = est\n",
    "            best_auc_rf = roc\n",
    "          \n",
    "print('f1 лучшей модели:', best_result_f1_rf, \n",
    "      '\\nЛучшая глубина дерева:', best_depth_rf, \n",
    "      '\\nЛучшее число деревьев:', best_est_rf, \n",
    "      '\\nЛучший ROC AUC:', best_auc_rf)"
   ]
  },
  {
   "cell_type": "markdown",
   "metadata": {},
   "source": [
    "### анализ модели LR"
   ]
  },
  {
   "cell_type": "code",
   "execution_count": 287,
   "metadata": {
    "scrolled": true
   },
   "outputs": [
    {
     "name": "stdout",
     "output_type": "stream",
     "text": [
      "Значение F1-меры лучшей модели на валидации: 0.5157232704402516 \n",
      "Значение ROC AUC: 0.844472909208351\n"
     ]
    }
   ],
   "source": [
    "model = LogisticRegression(random_state=12345, solver='liblinear', max_iter=100000)\n",
    "model.fit(features_train,target_train) \n",
    "predictions_valid = model.predict(features_valid) \n",
    "best_lr_f1 = f1_score(target_valid, predictions_valid) \n",
    "\n",
    "lr_roc = roc_auc_score(target_valid, model.predict_proba(features_valid)[:,1])\n",
    "\n",
    "print('Значение F1-меры лучшей модели на валидации:', best_lr_f1, '\\nЗначение ROC AUC:', lr_roc)"
   ]
  },
  {
   "cell_type": "markdown",
   "metadata": {},
   "source": [
    "### анализ модели DT"
   ]
  },
  {
   "cell_type": "code",
   "execution_count": 288,
   "metadata": {},
   "outputs": [
    {
     "name": "stdout",
     "output_type": "stream",
     "text": [
      "F1 лучшей модели: 0.6135922330097088 \n",
      "Лучшая глубина дерева: 7 \n",
      "Лучший ROC AUC: 0.8430058790685454\n",
      "CPU times: user 516 ms, sys: 35.4 ms, total: 551 ms\n",
      "Wall time: 612 ms\n"
     ]
    }
   ],
   "source": [
    "%%time\n",
    "best_model = None\n",
    "best_result_f1_dt = 0\n",
    "best_depth = 0\n",
    "best_auc_dt = 0\n",
    "for depth in range(1, 20):\n",
    "    model = DecisionTreeClassifier(random_state=12345, max_depth=depth)\n",
    "    model.fit(features_train,target_train) \n",
    "    predictions = model.predict(features_valid)\n",
    "    result = f1_score(target_valid,predictions)\n",
    "    dt_roc = roc_auc_score(target_valid, model.predict_proba(features_valid)[:,1])\n",
    "    if result > best_result_f1_dt:\n",
    "        best_auc_dt = dt_roc\n",
    "        best_model = model\n",
    "        best_result_f1_dt = result\n",
    "        best_depth = depth\n",
    "\n",
    "print('F1 лучшей модели:', best_result_f1_dt, '\\nЛучшая глубина дерева:', best_depth, '\\nЛучший ROC AUC:',best_auc_dt)"
   ]
  },
  {
   "cell_type": "markdown",
   "metadata": {},
   "source": [
    "### промежуточный итог по моделям"
   ]
  },
  {
   "cell_type": "markdown",
   "metadata": {},
   "source": [
    "---в приведенной ниже таблице можно увидеть показатели метрик моделей. кроме того, мы изучаем обучение моделей и можем повлиять на метрики с помощью параметров и оптимизации данных"
   ]
  },
  {
   "cell_type": "code",
   "execution_count": 289,
   "metadata": {
    "scrolled": true
   },
   "outputs": [
    {
     "data": {
      "text/html": [
       "<div>\n",
       "<style scoped>\n",
       "    .dataframe tbody tr th:only-of-type {\n",
       "        vertical-align: middle;\n",
       "    }\n",
       "\n",
       "    .dataframe tbody tr th {\n",
       "        vertical-align: top;\n",
       "    }\n",
       "\n",
       "    .dataframe thead th {\n",
       "        text-align: right;\n",
       "    }\n",
       "</style>\n",
       "<table border=\"1\" class=\"dataframe\">\n",
       "  <thead>\n",
       "    <tr style=\"text-align: right;\">\n",
       "      <th></th>\n",
       "      <th>F1</th>\n",
       "      <th>ROC_AUC</th>\n",
       "    </tr>\n",
       "  </thead>\n",
       "  <tbody>\n",
       "    <tr>\n",
       "      <th>Модель LogisticRegression</th>\n",
       "      <td>0.515723</td>\n",
       "      <td>0.844473</td>\n",
       "    </tr>\n",
       "    <tr>\n",
       "      <th>Модель DecisionTreeClassifier</th>\n",
       "      <td>0.613592</td>\n",
       "      <td>0.701433</td>\n",
       "    </tr>\n",
       "    <tr>\n",
       "      <th>Модель RandomForestClassifier</th>\n",
       "      <td>0.616327</td>\n",
       "      <td>0.873272</td>\n",
       "    </tr>\n",
       "  </tbody>\n",
       "</table>\n",
       "</div>"
      ],
      "text/plain": [
       "                                     F1   ROC_AUC\n",
       "Модель LogisticRegression      0.515723  0.844473\n",
       "Модель DecisionTreeClassifier  0.613592  0.701433\n",
       "Модель RandomForestClassifier  0.616327  0.873272"
      ]
     },
     "execution_count": 289,
     "metadata": {},
     "output_type": "execute_result"
    }
   ],
   "source": [
    "disbalanced_f1 = [best_lr_f1, best_result_f1_dt, best_result_f1_rf]\n",
    "disbalanced_roc_auc = [lr_roc, dt_roc, best_auc_rf]\n",
    "model_compared_f1 = pd.DataFrame({'F1': disbalanced_f1, 'ROC_AUC': disbalanced_roc_auc}, index=['Модель LogisticRegression',\n",
    "                                                                'Модель DecisionTreeClassifier',\n",
    "                                                                'Модель RandomForestClassifier'\n",
    "                                                           ])\n",
    "model_compared_f1"
   ]
  },
  {
   "cell_type": "markdown",
   "metadata": {},
   "source": [
    "---при первом приближении к моделям видно ,что их точность недостаточна для дальнейшей работы, хотя RF и показывает высокую метрику ф1 она вполне может выдать неправильный ответ, судя по метрике рок-аук\n",
    "\n",
    "---следующим шагом будет дополнение новых параметров и увеличение выборки"
   ]
  },
  {
   "cell_type": "markdown",
   "metadata": {},
   "source": [
    "## Взвешивание классов"
   ]
  },
  {
   "cell_type": "markdown",
   "metadata": {},
   "source": [
    "---в первом блоке улучшения моделей добавим новый параметр class_weight='balanced' и в конце блока сравним полученные метрики"
   ]
  },
  {
   "cell_type": "markdown",
   "metadata": {},
   "source": [
    "### обучение и  анализ модели DT"
   ]
  },
  {
   "cell_type": "code",
   "execution_count": 290,
   "metadata": {},
   "outputs": [
    {
     "name": "stdout",
     "output_type": "stream",
     "text": [
      "F1 лучшей модели: 0.5794155019059721 \n",
      "Лучшая глубина дерева: 3 \n",
      "Лучший ROC AUC: 0.8216258306784467\n",
      "CPU times: user 542 ms, sys: 94 µs, total: 542 ms\n",
      "Wall time: 541 ms\n"
     ]
    }
   ],
   "source": [
    "%%time\n",
    "best_model = None\n",
    "best_result_f1_dt_balanced = 0\n",
    "best_depth = 0\n",
    "best_auc_dt_balanced = 0\n",
    "for depth in range(1, 20):\n",
    "    model_dt_balanced = DecisionTreeClassifier(random_state=12345, max_depth=depth, class_weight='balanced')\n",
    "    model_dt_balanced.fit(features_train,target_train) \n",
    "    predictions = model_dt_balanced.predict(features_valid)\n",
    "    result = f1_score(target_valid,predictions)\n",
    "    dt_roc = roc_auc_score(target_valid, model_dt_balanced.predict_proba(features_valid)[:,1])\n",
    "    if result > best_result_f1_dt_balanced:\n",
    "        best_auc_dt_balanced = dt_roc\n",
    "        best_model = model\n",
    "        best_result_f1_dt_balanced = result\n",
    "        best_depth = depth\n",
    "\n",
    "print('F1 лучшей модели:', best_result_f1_dt_balanced, '\\nЛучшая глубина дерева:', best_depth, '\\nЛучший ROC AUC:',best_auc_dt_balanced)"
   ]
  },
  {
   "cell_type": "markdown",
   "metadata": {},
   "source": [
    "### обучение и анализ модели LR"
   ]
  },
  {
   "cell_type": "code",
   "execution_count": 291,
   "metadata": {},
   "outputs": [
    {
     "name": "stdout",
     "output_type": "stream",
     "text": [
      "Значение F1-меры лучшей модели на валидации: 0.5776173285198556 \n",
      "Значение ROC AUC: 0.846175321049693\n"
     ]
    }
   ],
   "source": [
    "lr_gs_dis_up = LogisticRegression(random_state=12345, solver='liblinear', max_iter=100000, class_weight='balanced')\n",
    "lr_gs_dis_up.fit(features_train,target_train) \n",
    "predictions_valid = lr_gs_dis_up.predict(features_valid) \n",
    "best_lr_f1_balanced = f1_score(target_valid, predictions_valid) \n",
    "\n",
    "lr_roc_balanced = roc_auc_score(target_valid, lr_gs_dis_up.predict_proba(features_valid)[:,1])\n",
    "\n",
    "print('Значение F1-меры лучшей модели на валидации:', best_lr_f1_balanced, '\\nЗначение ROC AUC:', lr_roc_balanced)"
   ]
  },
  {
   "cell_type": "markdown",
   "metadata": {},
   "source": [
    "### обучение и анализ модели RF"
   ]
  },
  {
   "cell_type": "code",
   "execution_count": 292,
   "metadata": {},
   "outputs": [
    {
     "name": "stderr",
     "output_type": "stream",
     "text": [
      "100%|██████████| 9/9 [01:42<00:00, 11.42s/it]"
     ]
    },
    {
     "name": "stdout",
     "output_type": "stream",
     "text": [
      "f1 лучшей модели: 0.633423180592992 \n",
      "Лучшая глубина дерева: 8 \n",
      "Лучшее число деревьев: 39 \n",
      "Лучший ROC AUC: 0.8711339924020975\n"
     ]
    },
    {
     "name": "stderr",
     "output_type": "stream",
     "text": [
      "\n"
     ]
    }
   ],
   "source": [
    "from tqdm import tqdm\n",
    "best_result_f1_rf_balanced = 0\n",
    "best_depth_rf = 0\n",
    "best_est_rf = 0\n",
    "best_auc_rf_balanced = 0\n",
    "for depth in tqdm(range(1, 10)):\n",
    "    for est in range(1, 75):\n",
    "        model_rf_balanced = RandomForestClassifier(random_state=12345, n_estimators=est, max_depth =depth, class_weight='balanced') \n",
    "        model_rf_balanced.fit(features_train,target_train) \n",
    "        predictions = model_rf_balanced.predict(features_valid)\n",
    "        result = f1_score(target_valid,predictions) \n",
    "        roc = roc_auc_score(target_valid, model_rf_balanced.predict_proba(features_valid)[:,1])\n",
    "        \n",
    "        if result > best_result_f1_rf_balanced:\n",
    "            best_result_f1_rf_balanced = result\n",
    "            best_depth_rf = depth\n",
    "            best_est_rf = est\n",
    "            best_auc_rf_balanced = roc\n",
    "          \n",
    "print('f1 лучшей модели:', best_result_f1_rf_balanced, \n",
    "      '\\nЛучшая глубина дерева:', best_depth_rf, \n",
    "      '\\nЛучшее число деревьев:', best_est_rf, \n",
    "      '\\nЛучший ROC AUC:', best_auc_rf_balanced)"
   ]
  },
  {
   "cell_type": "markdown",
   "metadata": {},
   "source": [
    "#### промежуточный вывод"
   ]
  },
  {
   "cell_type": "markdown",
   "metadata": {},
   "source": [
    "---добавление параметра взвешивания классов в некоторой степени помогло улучшить прогноз, ф1 метрика выросла и рок-аук тоже, но желательно еще больше поработать с моделями, чтобы довести параметр рок-аук выше"
   ]
  },
  {
   "cell_type": "code",
   "execution_count": 293,
   "metadata": {},
   "outputs": [
    {
     "data": {
      "text/html": [
       "<div>\n",
       "<style scoped>\n",
       "    .dataframe tbody tr th:only-of-type {\n",
       "        vertical-align: middle;\n",
       "    }\n",
       "\n",
       "    .dataframe tbody tr th {\n",
       "        vertical-align: top;\n",
       "    }\n",
       "\n",
       "    .dataframe thead th {\n",
       "        text-align: right;\n",
       "    }\n",
       "</style>\n",
       "<table border=\"1\" class=\"dataframe\">\n",
       "  <thead>\n",
       "    <tr style=\"text-align: right;\">\n",
       "      <th></th>\n",
       "      <th>F1</th>\n",
       "      <th>ROC_AUC</th>\n",
       "    </tr>\n",
       "  </thead>\n",
       "  <tbody>\n",
       "    <tr>\n",
       "      <th>Модель LogisticRegression</th>\n",
       "      <td>0.577617</td>\n",
       "      <td>0.846175</td>\n",
       "    </tr>\n",
       "    <tr>\n",
       "      <th>Модель DecisionTreeClassifier</th>\n",
       "      <td>0.579416</td>\n",
       "      <td>0.821626</td>\n",
       "    </tr>\n",
       "    <tr>\n",
       "      <th>Модель RandomForestClassifier</th>\n",
       "      <td>0.633423</td>\n",
       "      <td>0.871134</td>\n",
       "    </tr>\n",
       "  </tbody>\n",
       "</table>\n",
       "</div>"
      ],
      "text/plain": [
       "                                     F1   ROC_AUC\n",
       "Модель LogisticRegression      0.577617  0.846175\n",
       "Модель DecisionTreeClassifier  0.579416  0.821626\n",
       "Модель RandomForestClassifier  0.633423  0.871134"
      ]
     },
     "execution_count": 293,
     "metadata": {},
     "output_type": "execute_result"
    }
   ],
   "source": [
    "balanced_f1 = [best_lr_f1_balanced, best_result_f1_dt_balanced, best_result_f1_rf_balanced]\n",
    "balanced_roc_auc = [lr_roc_balanced, best_auc_dt_balanced, best_auc_rf_balanced]\n",
    "\n",
    "model_compared_f1 = pd.DataFrame({'F1': balanced_f1, 'ROC_AUC': balanced_roc_auc}, index=['Модель LogisticRegression',\n",
    "                                                                'Модель DecisionTreeClassifier',\n",
    "                                                                'Модель RandomForestClassifier'])\n",
    "model_compared_f1"
   ]
  },
  {
   "cell_type": "markdown",
   "metadata": {},
   "source": [
    "#### общий вывод"
   ]
  },
  {
   "cell_type": "code",
   "execution_count": 294,
   "metadata": {},
   "outputs": [
    {
     "data": {
      "text/html": [
       "<div>\n",
       "<style scoped>\n",
       "    .dataframe tbody tr th:only-of-type {\n",
       "        vertical-align: middle;\n",
       "    }\n",
       "\n",
       "    .dataframe tbody tr th {\n",
       "        vertical-align: top;\n",
       "    }\n",
       "\n",
       "    .dataframe thead th {\n",
       "        text-align: right;\n",
       "    }\n",
       "</style>\n",
       "<table border=\"1\" class=\"dataframe\">\n",
       "  <thead>\n",
       "    <tr style=\"text-align: right;\">\n",
       "      <th></th>\n",
       "      <th>LogisticRegression</th>\n",
       "      <th>DecisionTreeClassifier</th>\n",
       "      <th>RandomForestClassifier</th>\n",
       "    </tr>\n",
       "  </thead>\n",
       "  <tbody>\n",
       "    <tr>\n",
       "      <th>F1 с дисбалансом</th>\n",
       "      <td>0.515723</td>\n",
       "      <td>0.613592</td>\n",
       "      <td>0.616327</td>\n",
       "    </tr>\n",
       "    <tr>\n",
       "      <th>F1 без дисбаланса</th>\n",
       "      <td>0.577617</td>\n",
       "      <td>0.579416</td>\n",
       "      <td>0.633423</td>\n",
       "    </tr>\n",
       "  </tbody>\n",
       "</table>\n",
       "</div>"
      ],
      "text/plain": [
       "                   LogisticRegression  DecisionTreeClassifier  \\\n",
       "F1 с дисбалансом             0.515723                0.613592   \n",
       "F1 без дисбаланса            0.577617                0.579416   \n",
       "\n",
       "                   RandomForestClassifier  \n",
       "F1 с дисбалансом                 0.616327  \n",
       "F1 без дисбаланса                0.633423  "
      ]
     },
     "execution_count": 294,
     "metadata": {},
     "output_type": "execute_result"
    }
   ],
   "source": [
    "models_f1 = pd.DataFrame({'LogisticRegression':[disbalanced_f1[0], balanced_f1[0]],\n",
    "                                  'DecisionTreeClassifier':[disbalanced_f1[1], balanced_f1[1]],\n",
    "                                  'RandomForestClassifier':[disbalanced_f1[2], balanced_f1[2]]},\n",
    "                                  index=['F1 с дисбалансом', 'F1 без дисбаланса']\n",
    "                                 )\n",
    "models_f1"
   ]
  },
  {
   "cell_type": "markdown",
   "metadata": {},
   "source": [
    "---улучшение параметров положительно сказывается на метриках,возможно, что модель RF будет выбрана для тестовой выборки"
   ]
  },
  {
   "cell_type": "markdown",
   "metadata": {},
   "source": [
    "## Борьба с дисбалансом"
   ]
  },
  {
   "cell_type": "markdown",
   "metadata": {},
   "source": [
    "### применение инструментов борьбы с дисбалансом"
   ]
  },
  {
   "cell_type": "markdown",
   "metadata": {},
   "source": [
    "---в этом разделе к моделям применится увеличенная выборка, будет выбрана лучшая модель и с ней проведен тест "
   ]
  },
  {
   "cell_type": "markdown",
   "metadata": {},
   "source": [
    "#### функция увеличения выборки"
   ]
  },
  {
   "cell_type": "code",
   "execution_count": 295,
   "metadata": {},
   "outputs": [],
   "source": [
    "#здесь я использую функцию оверсемплинга, но преподаватель посоветовал использовать метод овер и андерсемплинга\n",
    "#для тренировки и вообще, посмотреть, что произойдет, но \n",
    "#я пытался установить этот модуль imblearn(потому что юпитер его не находил) через терминал, но ничего не вышло\n",
    "#эта история своими корнями идет из прошлого и называется старый компьютер )))\n",
    "#по этой истории я и не могу установить юпитер локально, извиняйте ))\n",
    "def upsample(features, target, repeat):\n",
    "    features_zeros = features[target == 0]\n",
    "    features_ones = features[target == 1]\n",
    "    target_zeros = target[target == 0]\n",
    "    target_ones = target[target == 1]\n",
    "\n",
    "    features_upsampled = pd.concat([features_zeros] + [features_ones] * repeat)\n",
    "    target_upsampled = pd.concat([target_zeros] + [target_ones] * repeat)\n",
    "    \n",
    "    features_upsampled, target_upsampled = shuffle(\n",
    "        features_upsampled, target_upsampled, random_state=12345)\n",
    "    \n",
    "    return features_upsampled, target_upsampled\n",
    "#увеличение выборки происходит только на тренировчных данных, поэтому нет необходимости менять все данные\n",
    "features_upsampled, target_upsampled = upsample(features_train, target_train, 10)"
   ]
  },
  {
   "cell_type": "markdown",
   "metadata": {},
   "source": [
    "#### взвешенная и балансная модель RF"
   ]
  },
  {
   "cell_type": "code",
   "execution_count": 296,
   "metadata": {},
   "outputs": [
    {
     "name": "stdout",
     "output_type": "stream",
     "text": [
      "\n",
      "Значение F1-меры лучшей модели на валидации: 0.618610747051114 \n",
      "Значение ROC AUC: 0.868440787817081\n"
     ]
    }
   ],
   "source": [
    "# rf_gs_dis_up = GridSearchCV(RandomForestClassifier(n_estimators=100, random_state=12345, class_weight='balanced'),\n",
    "#                      param_grid={'max_depth': [depth for depth in range(1, 30)]},\n",
    "#                      scoring='f1')\n",
    "model_rf_balanced.fit(features_upsampled, target_upsampled)\n",
    "\n",
    "rf_roc_dis_upsamp = roc_auc_score(target_valid, model_rf_balanced.predict_proba(features_valid)[:,1])\n",
    "\n",
    "predictions = model_rf_balanced.predict(features_valid)\n",
    "f1_rf_balanced_upsamp = f1_score(target_valid,predictions) \n",
    "\n",
    "print('\\nЗначение F1-меры лучшей модели на валидации:', f1_rf_balanced_upsamp, '\\nЗначение ROC AUC:', rf_roc_dis_upsamp)"
   ]
  },
  {
   "cell_type": "markdown",
   "metadata": {},
   "source": [
    "#### взвешенная и балансная модель LR"
   ]
  },
  {
   "cell_type": "code",
   "execution_count": 297,
   "metadata": {},
   "outputs": [
    {
     "name": "stdout",
     "output_type": "stream",
     "text": [
      "\n",
      "Значение F1-меры лучшей модели на валидации: 0.5783132530120482 \n",
      "Значение ROC AUC: 0.8461972170219288\n"
     ]
    }
   ],
   "source": [
    "\n",
    "lr_gs_dis_up.fit(features_upsampled, target_upsampled)\n",
    "lr_roc_dis_up = roc_auc_score(target_valid, lr_gs_dis_up.predict_proba(features_valid)[:,1])\n",
    "predictions_valid = lr_gs_dis_up.predict(features_valid) \n",
    "best_lr_f1_balanced = f1_score(target_valid, predictions_valid)\n",
    "\n",
    "print('\\nЗначение F1-меры лучшей модели на валидации:', best_lr_f1_balanced, '\\nЗначение ROC AUC:', lr_roc_dis_up)"
   ]
  },
  {
   "cell_type": "markdown",
   "metadata": {},
   "source": [
    "#### взвешенная и балансная модель DT"
   ]
  },
  {
   "cell_type": "code",
   "execution_count": 298,
   "metadata": {
    "scrolled": true
   },
   "outputs": [
    {
     "name": "stdout",
     "output_type": "stream",
     "text": [
      "\n",
      "Значение F1-меры лучшей модели на валидации: 0.5052950075642965 \n",
      "Значение ROC AUC: 0.6947236180904522\n"
     ]
    }
   ],
   "source": [
    "\n",
    "model_dt_balanced.fit(features_upsampled, target_upsampled)\n",
    "dt_roc_dis_up_upsample = roc_auc_score(target_valid, model_dt_balanced.predict_proba(features_valid)[:,1])\n",
    "predictions = model_dt_balanced.predict(features_valid)\n",
    "f1_dt_balanced_upsamp = f1_score(target_valid,predictions)\n",
    "\n",
    "print('\\nЗначение F1-меры лучшей модели на валидации:', f1_dt_balanced_upsamp, '\\nЗначение ROC AUC:', dt_roc_dis_up_upsample)"
   ]
  },
  {
   "cell_type": "markdown",
   "metadata": {},
   "source": [
    "#### итог блока "
   ]
  },
  {
   "cell_type": "code",
   "execution_count": 299,
   "metadata": {},
   "outputs": [
    {
     "data": {
      "text/html": [
       "<div>\n",
       "<style scoped>\n",
       "    .dataframe tbody tr th:only-of-type {\n",
       "        vertical-align: middle;\n",
       "    }\n",
       "\n",
       "    .dataframe tbody tr th {\n",
       "        vertical-align: top;\n",
       "    }\n",
       "\n",
       "    .dataframe thead th {\n",
       "        text-align: right;\n",
       "    }\n",
       "</style>\n",
       "<table border=\"1\" class=\"dataframe\">\n",
       "  <thead>\n",
       "    <tr style=\"text-align: right;\">\n",
       "      <th></th>\n",
       "      <th>F1</th>\n",
       "      <th>ROC_AUC</th>\n",
       "    </tr>\n",
       "  </thead>\n",
       "  <tbody>\n",
       "    <tr>\n",
       "      <th>Модель LogisticRegression</th>\n",
       "      <td>0.578313</td>\n",
       "      <td>0.846197</td>\n",
       "    </tr>\n",
       "    <tr>\n",
       "      <th>Модель DecisionTreeClassifier</th>\n",
       "      <td>0.505295</td>\n",
       "      <td>0.694724</td>\n",
       "    </tr>\n",
       "    <tr>\n",
       "      <th>Модель RandomForestClassifier</th>\n",
       "      <td>0.618611</td>\n",
       "      <td>0.868441</td>\n",
       "    </tr>\n",
       "  </tbody>\n",
       "</table>\n",
       "</div>"
      ],
      "text/plain": [
       "                                     F1   ROC_AUC\n",
       "Модель LogisticRegression      0.578313  0.846197\n",
       "Модель DecisionTreeClassifier  0.505295  0.694724\n",
       "Модель RandomForestClassifier  0.618611  0.868441"
      ]
     },
     "execution_count": 299,
     "metadata": {},
     "output_type": "execute_result"
    }
   ],
   "source": [
    "balanced_f1_up = [best_lr_f1_balanced, f1_dt_balanced_upsamp, f1_rf_balanced_upsamp]\n",
    "balanced_roc_auc_up = [lr_roc_dis_up, dt_roc_dis_up_upsample, rf_roc_dis_upsamp]\n",
    "\n",
    "model_compared_f1_up = pd.DataFrame({'F1': balanced_f1_up, 'ROC_AUC': balanced_roc_auc_up}, index=['Модель LogisticRegression',\n",
    "                                                                'Модель DecisionTreeClassifier',\n",
    "                                                                'Модель RandomForestClassifier'\n",
    "                                                                ])\n",
    "model_compared_f1_up"
   ]
  },
  {
   "cell_type": "markdown",
   "metadata": {},
   "source": [
    "---все улучшения моделей пошли на пользу, но нам нужно выбрать с лучшими метриками и по этому качеству выигрывает модель RF"
   ]
  },
  {
   "cell_type": "markdown",
   "metadata": {},
   "source": [
    "#### окончательное сравнение и выбор модели"
   ]
  },
  {
   "cell_type": "code",
   "execution_count": 300,
   "metadata": {
    "scrolled": true
   },
   "outputs": [
    {
     "data": {
      "text/html": [
       "<div>\n",
       "<style scoped>\n",
       "    .dataframe tbody tr th:only-of-type {\n",
       "        vertical-align: middle;\n",
       "    }\n",
       "\n",
       "    .dataframe tbody tr th {\n",
       "        vertical-align: top;\n",
       "    }\n",
       "\n",
       "    .dataframe thead th {\n",
       "        text-align: right;\n",
       "    }\n",
       "</style>\n",
       "<table border=\"1\" class=\"dataframe\">\n",
       "  <thead>\n",
       "    <tr style=\"text-align: right;\">\n",
       "      <th></th>\n",
       "      <th>LogisticRegression</th>\n",
       "      <th>DecisionTreeClassifier</th>\n",
       "      <th>RandomForestClassifier</th>\n",
       "    </tr>\n",
       "  </thead>\n",
       "  <tbody>\n",
       "    <tr>\n",
       "      <th>С дисбалансом</th>\n",
       "      <td>0.515723</td>\n",
       "      <td>0.613592</td>\n",
       "      <td>0.616327</td>\n",
       "    </tr>\n",
       "    <tr>\n",
       "      <th>Без дисбаланса</th>\n",
       "      <td>0.577617</td>\n",
       "      <td>0.579416</td>\n",
       "      <td>0.633423</td>\n",
       "    </tr>\n",
       "    <tr>\n",
       "      <th>Без дисбаланса и с оверсемплингом</th>\n",
       "      <td>0.578313</td>\n",
       "      <td>0.505295</td>\n",
       "      <td>0.618611</td>\n",
       "    </tr>\n",
       "  </tbody>\n",
       "</table>\n",
       "</div>"
      ],
      "text/plain": [
       "                                   LogisticRegression  DecisionTreeClassifier  \\\n",
       "С дисбалансом                                0.515723                0.613592   \n",
       "Без дисбаланса                               0.577617                0.579416   \n",
       "Без дисбаланса и с оверсемплингом            0.578313                0.505295   \n",
       "\n",
       "                                   RandomForestClassifier  \n",
       "С дисбалансом                                    0.616327  \n",
       "Без дисбаланса                                   0.633423  \n",
       "Без дисбаланса и с оверсемплингом                0.618611  "
      ]
     },
     "execution_count": 300,
     "metadata": {},
     "output_type": "execute_result"
    }
   ],
   "source": [
    "models_f1 = pd.DataFrame({'LogisticRegression':[disbalanced_f1[0], balanced_f1[0], balanced_f1_up[0]],\n",
    "                                  'DecisionTreeClassifier':[disbalanced_f1[1], balanced_f1[1],balanced_f1_up[1]],\n",
    "                                  'RandomForestClassifier':[disbalanced_f1[2], balanced_f1[2],balanced_f1_up[2]]},\n",
    "                                  index=['С дисбалансом', 'Без дисбаланса', 'Без дисбаланса и с оверсемплингом']\n",
    "                                 )\n",
    "models_f1"
   ]
  },
  {
   "cell_type": "markdown",
   "metadata": {},
   "source": [
    "---для сравнения выведу ROC-кривую модели RF на валидационных данных. на ней будет видно, насколько модель тяготеет к случайным предсказаниям"
   ]
  },
  {
   "cell_type": "code",
   "execution_count": 301,
   "metadata": {
    "scrolled": true
   },
   "outputs": [
    {
     "data": {
      "application/vnd.plotly.v1+json": {
       "config": {
        "plotlyServerURL": "https://plot.ly"
       },
       "data": [
        {
         "name": "AUC ROC",
         "type": "scatter",
         "x": [
          0,
          0,
          0,
          0.0008375209380234506,
          0.0008375209380234506,
          0.002512562814070352,
          0.002512562814070352,
          0.0033500837520938024,
          0.0033500837520938024,
          0.0041876046901172526,
          0.0041876046901172526,
          0.005862646566164154,
          0.005862646566164154,
          0.006700167504187605,
          0.006700167504187605,
          0.007537688442211055,
          0.007537688442211055,
          0.008375209380234505,
          0.008375209380234505,
          0.009212730318257957,
          0.009212730318257957,
          0.010050251256281407,
          0.010050251256281407,
          0.011725293132328308,
          0.011725293132328308,
          0.01256281407035176,
          0.01256281407035176,
          0.01423785594639866,
          0.01423785594639866,
          0.01507537688442211,
          0.01507537688442211,
          0.015912897822445562,
          0.015912897822445562,
          0.021775544388609715,
          0.021775544388609715,
          0.022613065326633167,
          0.022613065326633167,
          0.023450586264656615,
          0.023450586264656615,
          0.02512562814070352,
          0.02512562814070352,
          0.02680067001675042,
          0.02680067001675042,
          0.02847571189279732,
          0.02847571189279732,
          0.031825795644891124,
          0.031825795644891124,
          0.032663316582914576,
          0.032663316582914576,
          0.03350083752093802,
          0.03350083752093802,
          0.036013400335008376,
          0.036013400335008376,
          0.03685092127303183,
          0.03685092127303183,
          0.03768844221105527,
          0.03768844221105527,
          0.04187604690117253,
          0.04187604690117253,
          0.04355108877721943,
          0.04355108877721943,
          0.04438860971524288,
          0.04438860971524288,
          0.04522613065326633,
          0.04522613065326633,
          0.04690117252931323,
          0.04690117252931323,
          0.051926298157453935,
          0.051926298157453935,
          0.052763819095477386,
          0.052763819095477386,
          0.05443886097152429,
          0.05443886097152429,
          0.05778894472361809,
          0.05778894472361809,
          0.059463986599664995,
          0.059463986599664995,
          0.06113902847571189,
          0.06113902847571189,
          0.06197654941373534,
          0.06197654941373534,
          0.0661641541038526,
          0.0661641541038526,
          0.06700167504187604,
          0.06700167504187604,
          0.0678391959798995,
          0.0678391959798995,
          0.0695142378559464,
          0.0695142378559464,
          0.07035175879396985,
          0.07035175879396985,
          0.0711892797319933,
          0.0711892797319933,
          0.07370184254606366,
          0.07370184254606366,
          0.07537688442211055,
          0.07537688442211055,
          0.07788944723618091,
          0.07788944723618091,
          0.07956448911222781,
          0.07956448911222781,
          0.08040201005025126,
          0.08040201005025126,
          0.0829145728643216,
          0.0829145728643216,
          0.08375209380234507,
          0.08375209380234507,
          0.08710217755443886,
          0.08710217755443886,
          0.09380234505862646,
          0.09380234505862646,
          0.09463986599664992,
          0.09463986599664992,
          0.09631490787269682,
          0.09631490787269682,
          0.09715242881072027,
          0.09715242881072027,
          0.09798994974874371,
          0.09798994974874371,
          0.09966499162479062,
          0.09966499162479062,
          0.10217755443886097,
          0.10217755443886097,
          0.10301507537688442,
          0.10301507537688442,
          0.10552763819095477,
          0.10552763819095477,
          0.10636515912897822,
          0.10636515912897822,
          0.10720268006700168,
          0.10720268006700168,
          0.11641541038525963,
          0.11641541038525963,
          0.11976549413735343,
          0.11976549413735343,
          0.12227805695142378,
          0.12227805695142378,
          0.12479061976549413,
          0.12479061976549413,
          0.1273031825795645,
          0.1273031825795645,
          0.12814070351758794,
          0.12814070351758794,
          0.13316582914572864,
          0.13316582914572864,
          0.1407035175879397,
          0.1407035175879397,
          0.1457286432160804,
          0.1457286432160804,
          0.1474036850921273,
          0.1474036850921273,
          0.15159128978224456,
          0.15159128978224456,
          0.152428810720268,
          0.152428810720268,
          0.1574539363484087,
          0.1574539363484087,
          0.15996649916247907,
          0.15996649916247907,
          0.16834170854271358,
          0.16834170854271358,
          0.16917922948073702,
          0.16917922948073702,
          0.1708542713567839,
          0.1708542713567839,
          0.17922948073701842,
          0.17922948073701842,
          0.1884422110552764,
          0.1884422110552764,
          0.19262981574539365,
          0.19262981574539365,
          0.19430485762144054,
          0.19430485762144054,
          0.1984924623115578,
          0.1984924623115578,
          0.20016750418760468,
          0.20016750418760468,
          0.20854271356783918,
          0.20854271356783918,
          0.2185929648241206,
          0.2185929648241206,
          0.22445561139028475,
          0.22445561139028475,
          0.22529313232830822,
          0.22529313232830822,
          0.23283082077051925,
          0.23283082077051925,
          0.24371859296482412,
          0.24371859296482412,
          0.24958123953098826,
          0.24958123953098826,
          0.25795644891122277,
          0.25795644891122277,
          0.2663316582914573,
          0.2663316582914573,
          0.2721943048576214,
          0.2721943048576214,
          0.2747068676716918,
          0.2747068676716918,
          0.2780569514237856,
          0.2780569514237856,
          0.2805695142378559,
          0.2805695142378559,
          0.28224455611390287,
          0.28224455611390287,
          0.2864321608040201,
          0.2864321608040201,
          0.2948073701842546,
          0.2948073701842546,
          0.29564489112227804,
          0.29564489112227804,
          0.3015075376884422,
          0.3015075376884422,
          0.30234505862646566,
          0.30234505862646566,
          0.30318257956448913,
          0.30318257956448913,
          0.33668341708542715,
          0.33668341708542715,
          0.3442211055276382,
          0.3442211055276382,
          0.347571189279732,
          0.347571189279732,
          0.3500837520938023,
          0.3500837520938023,
          0.36432160804020103,
          0.36432160804020103,
          0.37269681742043553,
          0.37269681742043553,
          0.37520938023450584,
          0.37520938023450584,
          0.3860971524288107,
          0.3860971524288107,
          0.4036850921273032,
          0.4036850921273032,
          0.4371859296482412,
          0.4371859296482412,
          0.44137353433835846,
          0.44137353433835846,
          0.4539363484087102,
          0.4539363484087102,
          0.4581239530988275,
          0.4581239530988275,
          0.46147403685092125,
          0.46147403685092125,
          0.483249581239531,
          0.483249581239531,
          0.48659966499162477,
          0.48659966499162477,
          0.48743718592964824,
          0.48743718592964824,
          0.49413735343383586,
          0.49413735343383586,
          0.5008375209380235,
          0.5008375209380235,
          0.501675041876047,
          0.501675041876047,
          0.5192629815745393,
          0.5192629815745393,
          0.5251256281407035,
          0.5251256281407035,
          0.5561139028475712,
          0.5561139028475712,
          0.5611390284757118,
          0.5611390284757118,
          0.5812395309882747,
          0.5812395309882747,
          0.6038525963149078,
          0.6038525963149078,
          0.6063651591289783,
          0.6063651591289783,
          0.6323283082077052,
          0.6323283082077052,
          0.635678391959799,
          0.635678391959799,
          0.7051926298157454,
          0.7051926298157454,
          0.7202680067001676,
          0.7202680067001676,
          0.7227805695142379,
          0.7227805695142379,
          0.7252931323283082,
          0.7252931323283082,
          0.7805695142378559,
          0.7805695142378559,
          0.7906197654941374,
          0.7906197654941374,
          0.7964824120603015,
          0.7964824120603015,
          0.8961474036850922,
          0.8961474036850922,
          0.9137353433835846,
          0.9137353433835846,
          0.9221105527638191,
          0.9221105527638191,
          1
         ],
         "y": [
          0,
          0.0032679738562091504,
          0.08823529411764706,
          0.08823529411764706,
          0.13725490196078433,
          0.13725490196078433,
          0.1830065359477124,
          0.1830065359477124,
          0.19281045751633988,
          0.19281045751633988,
          0.2222222222222222,
          0.2222222222222222,
          0.27124183006535946,
          0.27124183006535946,
          0.3006535947712418,
          0.3006535947712418,
          0.30392156862745096,
          0.30392156862745096,
          0.3104575163398693,
          0.3104575163398693,
          0.3137254901960784,
          0.3137254901960784,
          0.3235294117647059,
          0.3235294117647059,
          0.3300653594771242,
          0.3300653594771242,
          0.3431372549019608,
          0.3431372549019608,
          0.3464052287581699,
          0.3464052287581699,
          0.35947712418300654,
          0.35947712418300654,
          0.3758169934640523,
          0.3758169934640523,
          0.38235294117647056,
          0.38235294117647056,
          0.39869281045751637,
          0.39869281045751637,
          0.40522875816993464,
          0.40522875816993464,
          0.4117647058823529,
          0.4117647058823529,
          0.41830065359477125,
          0.41830065359477125,
          0.4215686274509804,
          0.4215686274509804,
          0.42810457516339867,
          0.42810457516339867,
          0.4411764705882353,
          0.4411764705882353,
          0.4477124183006536,
          0.4477124183006536,
          0.45098039215686275,
          0.45098039215686275,
          0.45751633986928103,
          0.45751633986928103,
          0.4673202614379085,
          0.4673202614379085,
          0.477124183006536,
          0.477124183006536,
          0.49019607843137253,
          0.49019607843137253,
          0.4934640522875817,
          0.4934640522875817,
          0.5032679738562091,
          0.5032679738562091,
          0.5163398692810458,
          0.5163398692810458,
          0.5196078431372549,
          0.5196078431372549,
          0.5228758169934641,
          0.5228758169934641,
          0.5261437908496732,
          0.5261437908496732,
          0.5294117647058824,
          0.5294117647058824,
          0.5326797385620915,
          0.5326797385620915,
          0.5359477124183006,
          0.5359477124183006,
          0.5392156862745098,
          0.5392156862745098,
          0.545751633986928,
          0.545751633986928,
          0.5490196078431373,
          0.5490196078431373,
          0.5555555555555556,
          0.5555555555555556,
          0.5588235294117647,
          0.5588235294117647,
          0.5620915032679739,
          0.5620915032679739,
          0.565359477124183,
          0.565359477124183,
          0.5686274509803921,
          0.5686274509803921,
          0.5751633986928104,
          0.5751633986928104,
          0.5816993464052288,
          0.5816993464052288,
          0.5849673202614379,
          0.5849673202614379,
          0.5915032679738562,
          0.5915032679738562,
          0.5947712418300654,
          0.5947712418300654,
          0.6013071895424836,
          0.6013071895424836,
          0.6045751633986928,
          0.6045751633986928,
          0.6078431372549019,
          0.6078431372549019,
          0.6143790849673203,
          0.6143790849673203,
          0.6176470588235294,
          0.6176470588235294,
          0.6241830065359477,
          0.6241830065359477,
          0.6339869281045751,
          0.6339869281045751,
          0.6372549019607843,
          0.6372549019607843,
          0.6437908496732027,
          0.6437908496732027,
          0.6503267973856209,
          0.6503267973856209,
          0.6535947712418301,
          0.6535947712418301,
          0.6633986928104575,
          0.6633986928104575,
          0.6666666666666666,
          0.6666666666666666,
          0.6895424836601307,
          0.6895424836601307,
          0.6928104575163399,
          0.6928104575163399,
          0.696078431372549,
          0.696078431372549,
          0.6993464052287581,
          0.6993464052287581,
          0.7091503267973857,
          0.7091503267973857,
          0.7124183006535948,
          0.7124183006535948,
          0.7156862745098039,
          0.7156862745098039,
          0.7189542483660131,
          0.7189542483660131,
          0.7222222222222222,
          0.7222222222222222,
          0.7254901960784313,
          0.7254901960784313,
          0.7287581699346405,
          0.7287581699346405,
          0.7320261437908496,
          0.7320261437908496,
          0.7352941176470589,
          0.7352941176470589,
          0.7418300653594772,
          0.7418300653594772,
          0.7450980392156863,
          0.7450980392156863,
          0.7516339869281046,
          0.7516339869281046,
          0.7581699346405228,
          0.7581699346405228,
          0.7712418300653595,
          0.7712418300653595,
          0.7745098039215687,
          0.7745098039215687,
          0.7777777777777778,
          0.7777777777777778,
          0.7810457516339869,
          0.7810457516339869,
          0.7843137254901961,
          0.7843137254901961,
          0.7875816993464052,
          0.7875816993464052,
          0.7908496732026143,
          0.7908496732026143,
          0.7973856209150327,
          0.7973856209150327,
          0.8006535947712419,
          0.8006535947712419,
          0.803921568627451,
          0.803921568627451,
          0.8071895424836601,
          0.8071895424836601,
          0.8104575163398693,
          0.8104575163398693,
          0.8202614379084967,
          0.8202614379084967,
          0.8235294117647058,
          0.8235294117647058,
          0.826797385620915,
          0.826797385620915,
          0.8300653594771242,
          0.8300653594771242,
          0.8333333333333334,
          0.8333333333333334,
          0.8366013071895425,
          0.8366013071895425,
          0.8398692810457516,
          0.8398692810457516,
          0.8464052287581699,
          0.8464052287581699,
          0.8496732026143791,
          0.8496732026143791,
          0.8529411764705882,
          0.8529411764705882,
          0.8562091503267973,
          0.8562091503267973,
          0.8594771241830066,
          0.8594771241830066,
          0.8627450980392157,
          0.8627450980392157,
          0.8660130718954249,
          0.8660130718954249,
          0.869281045751634,
          0.869281045751634,
          0.8725490196078431,
          0.8725490196078431,
          0.8758169934640523,
          0.8758169934640523,
          0.8790849673202614,
          0.8790849673202614,
          0.8823529411764706,
          0.8823529411764706,
          0.8856209150326797,
          0.8856209150326797,
          0.8888888888888888,
          0.8888888888888888,
          0.8921568627450981,
          0.8921568627450981,
          0.8986928104575164,
          0.8986928104575164,
          0.9019607843137255,
          0.9019607843137255,
          0.9052287581699346,
          0.9052287581699346,
          0.9084967320261438,
          0.9084967320261438,
          0.9150326797385621,
          0.9150326797385621,
          0.9183006535947712,
          0.9183006535947712,
          0.9215686274509803,
          0.9215686274509803,
          0.9248366013071896,
          0.9248366013071896,
          0.9281045751633987,
          0.9281045751633987,
          0.9313725490196079,
          0.9313725490196079,
          0.934640522875817,
          0.934640522875817,
          0.9379084967320261,
          0.9379084967320261,
          0.9411764705882353,
          0.9411764705882353,
          0.9444444444444444,
          0.9444444444444444,
          0.9477124183006536,
          0.9477124183006536,
          0.9509803921568627,
          0.9509803921568627,
          0.954248366013072,
          0.954248366013072,
          0.9575163398692811,
          0.9575163398692811,
          0.9607843137254902,
          0.9607843137254902,
          0.9640522875816994,
          0.9640522875816994,
          0.9673202614379085,
          0.9673202614379085,
          0.9705882352941176,
          0.9705882352941176,
          0.9738562091503268,
          0.9738562091503268,
          0.9771241830065359,
          0.9771241830065359,
          0.9803921568627451,
          0.9803921568627451,
          0.9836601307189542,
          0.9836601307189542,
          0.9869281045751634,
          0.9869281045751634,
          0.9901960784313726,
          0.9901960784313726,
          0.9934640522875817,
          0.9934640522875817,
          0.9967320261437909,
          0.9967320261437909,
          1,
          1
         ]
        },
        {
         "line": {
          "dash": "dot",
          "width": 4
         },
         "mode": "lines",
         "name": "dummy модель",
         "type": "scatter",
         "x": [
          0,
          1
         ],
         "y": [
          0,
          1
         ]
        }
       ],
       "layout": {
        "template": {
         "data": {
          "bar": [
           {
            "error_x": {
             "color": "#2a3f5f"
            },
            "error_y": {
             "color": "#2a3f5f"
            },
            "marker": {
             "line": {
              "color": "#E5ECF6",
              "width": 0.5
             },
             "pattern": {
              "fillmode": "overlay",
              "size": 10,
              "solidity": 0.2
             }
            },
            "type": "bar"
           }
          ],
          "barpolar": [
           {
            "marker": {
             "line": {
              "color": "#E5ECF6",
              "width": 0.5
             },
             "pattern": {
              "fillmode": "overlay",
              "size": 10,
              "solidity": 0.2
             }
            },
            "type": "barpolar"
           }
          ],
          "carpet": [
           {
            "aaxis": {
             "endlinecolor": "#2a3f5f",
             "gridcolor": "white",
             "linecolor": "white",
             "minorgridcolor": "white",
             "startlinecolor": "#2a3f5f"
            },
            "baxis": {
             "endlinecolor": "#2a3f5f",
             "gridcolor": "white",
             "linecolor": "white",
             "minorgridcolor": "white",
             "startlinecolor": "#2a3f5f"
            },
            "type": "carpet"
           }
          ],
          "choropleth": [
           {
            "colorbar": {
             "outlinewidth": 0,
             "ticks": ""
            },
            "type": "choropleth"
           }
          ],
          "contour": [
           {
            "colorbar": {
             "outlinewidth": 0,
             "ticks": ""
            },
            "colorscale": [
             [
              0,
              "#0d0887"
             ],
             [
              0.1111111111111111,
              "#46039f"
             ],
             [
              0.2222222222222222,
              "#7201a8"
             ],
             [
              0.3333333333333333,
              "#9c179e"
             ],
             [
              0.4444444444444444,
              "#bd3786"
             ],
             [
              0.5555555555555556,
              "#d8576b"
             ],
             [
              0.6666666666666666,
              "#ed7953"
             ],
             [
              0.7777777777777778,
              "#fb9f3a"
             ],
             [
              0.8888888888888888,
              "#fdca26"
             ],
             [
              1,
              "#f0f921"
             ]
            ],
            "type": "contour"
           }
          ],
          "contourcarpet": [
           {
            "colorbar": {
             "outlinewidth": 0,
             "ticks": ""
            },
            "type": "contourcarpet"
           }
          ],
          "heatmap": [
           {
            "colorbar": {
             "outlinewidth": 0,
             "ticks": ""
            },
            "colorscale": [
             [
              0,
              "#0d0887"
             ],
             [
              0.1111111111111111,
              "#46039f"
             ],
             [
              0.2222222222222222,
              "#7201a8"
             ],
             [
              0.3333333333333333,
              "#9c179e"
             ],
             [
              0.4444444444444444,
              "#bd3786"
             ],
             [
              0.5555555555555556,
              "#d8576b"
             ],
             [
              0.6666666666666666,
              "#ed7953"
             ],
             [
              0.7777777777777778,
              "#fb9f3a"
             ],
             [
              0.8888888888888888,
              "#fdca26"
             ],
             [
              1,
              "#f0f921"
             ]
            ],
            "type": "heatmap"
           }
          ],
          "heatmapgl": [
           {
            "colorbar": {
             "outlinewidth": 0,
             "ticks": ""
            },
            "colorscale": [
             [
              0,
              "#0d0887"
             ],
             [
              0.1111111111111111,
              "#46039f"
             ],
             [
              0.2222222222222222,
              "#7201a8"
             ],
             [
              0.3333333333333333,
              "#9c179e"
             ],
             [
              0.4444444444444444,
              "#bd3786"
             ],
             [
              0.5555555555555556,
              "#d8576b"
             ],
             [
              0.6666666666666666,
              "#ed7953"
             ],
             [
              0.7777777777777778,
              "#fb9f3a"
             ],
             [
              0.8888888888888888,
              "#fdca26"
             ],
             [
              1,
              "#f0f921"
             ]
            ],
            "type": "heatmapgl"
           }
          ],
          "histogram": [
           {
            "marker": {
             "pattern": {
              "fillmode": "overlay",
              "size": 10,
              "solidity": 0.2
             }
            },
            "type": "histogram"
           }
          ],
          "histogram2d": [
           {
            "colorbar": {
             "outlinewidth": 0,
             "ticks": ""
            },
            "colorscale": [
             [
              0,
              "#0d0887"
             ],
             [
              0.1111111111111111,
              "#46039f"
             ],
             [
              0.2222222222222222,
              "#7201a8"
             ],
             [
              0.3333333333333333,
              "#9c179e"
             ],
             [
              0.4444444444444444,
              "#bd3786"
             ],
             [
              0.5555555555555556,
              "#d8576b"
             ],
             [
              0.6666666666666666,
              "#ed7953"
             ],
             [
              0.7777777777777778,
              "#fb9f3a"
             ],
             [
              0.8888888888888888,
              "#fdca26"
             ],
             [
              1,
              "#f0f921"
             ]
            ],
            "type": "histogram2d"
           }
          ],
          "histogram2dcontour": [
           {
            "colorbar": {
             "outlinewidth": 0,
             "ticks": ""
            },
            "colorscale": [
             [
              0,
              "#0d0887"
             ],
             [
              0.1111111111111111,
              "#46039f"
             ],
             [
              0.2222222222222222,
              "#7201a8"
             ],
             [
              0.3333333333333333,
              "#9c179e"
             ],
             [
              0.4444444444444444,
              "#bd3786"
             ],
             [
              0.5555555555555556,
              "#d8576b"
             ],
             [
              0.6666666666666666,
              "#ed7953"
             ],
             [
              0.7777777777777778,
              "#fb9f3a"
             ],
             [
              0.8888888888888888,
              "#fdca26"
             ],
             [
              1,
              "#f0f921"
             ]
            ],
            "type": "histogram2dcontour"
           }
          ],
          "mesh3d": [
           {
            "colorbar": {
             "outlinewidth": 0,
             "ticks": ""
            },
            "type": "mesh3d"
           }
          ],
          "parcoords": [
           {
            "line": {
             "colorbar": {
              "outlinewidth": 0,
              "ticks": ""
             }
            },
            "type": "parcoords"
           }
          ],
          "pie": [
           {
            "automargin": true,
            "type": "pie"
           }
          ],
          "scatter": [
           {
            "marker": {
             "colorbar": {
              "outlinewidth": 0,
              "ticks": ""
             }
            },
            "type": "scatter"
           }
          ],
          "scatter3d": [
           {
            "line": {
             "colorbar": {
              "outlinewidth": 0,
              "ticks": ""
             }
            },
            "marker": {
             "colorbar": {
              "outlinewidth": 0,
              "ticks": ""
             }
            },
            "type": "scatter3d"
           }
          ],
          "scattercarpet": [
           {
            "marker": {
             "colorbar": {
              "outlinewidth": 0,
              "ticks": ""
             }
            },
            "type": "scattercarpet"
           }
          ],
          "scattergeo": [
           {
            "marker": {
             "colorbar": {
              "outlinewidth": 0,
              "ticks": ""
             }
            },
            "type": "scattergeo"
           }
          ],
          "scattergl": [
           {
            "marker": {
             "colorbar": {
              "outlinewidth": 0,
              "ticks": ""
             }
            },
            "type": "scattergl"
           }
          ],
          "scattermapbox": [
           {
            "marker": {
             "colorbar": {
              "outlinewidth": 0,
              "ticks": ""
             }
            },
            "type": "scattermapbox"
           }
          ],
          "scatterpolar": [
           {
            "marker": {
             "colorbar": {
              "outlinewidth": 0,
              "ticks": ""
             }
            },
            "type": "scatterpolar"
           }
          ],
          "scatterpolargl": [
           {
            "marker": {
             "colorbar": {
              "outlinewidth": 0,
              "ticks": ""
             }
            },
            "type": "scatterpolargl"
           }
          ],
          "scatterternary": [
           {
            "marker": {
             "colorbar": {
              "outlinewidth": 0,
              "ticks": ""
             }
            },
            "type": "scatterternary"
           }
          ],
          "surface": [
           {
            "colorbar": {
             "outlinewidth": 0,
             "ticks": ""
            },
            "colorscale": [
             [
              0,
              "#0d0887"
             ],
             [
              0.1111111111111111,
              "#46039f"
             ],
             [
              0.2222222222222222,
              "#7201a8"
             ],
             [
              0.3333333333333333,
              "#9c179e"
             ],
             [
              0.4444444444444444,
              "#bd3786"
             ],
             [
              0.5555555555555556,
              "#d8576b"
             ],
             [
              0.6666666666666666,
              "#ed7953"
             ],
             [
              0.7777777777777778,
              "#fb9f3a"
             ],
             [
              0.8888888888888888,
              "#fdca26"
             ],
             [
              1,
              "#f0f921"
             ]
            ],
            "type": "surface"
           }
          ],
          "table": [
           {
            "cells": {
             "fill": {
              "color": "#EBF0F8"
             },
             "line": {
              "color": "white"
             }
            },
            "header": {
             "fill": {
              "color": "#C8D4E3"
             },
             "line": {
              "color": "white"
             }
            },
            "type": "table"
           }
          ]
         },
         "layout": {
          "annotationdefaults": {
           "arrowcolor": "#2a3f5f",
           "arrowhead": 0,
           "arrowwidth": 1
          },
          "autotypenumbers": "strict",
          "coloraxis": {
           "colorbar": {
            "outlinewidth": 0,
            "ticks": ""
           }
          },
          "colorscale": {
           "diverging": [
            [
             0,
             "#8e0152"
            ],
            [
             0.1,
             "#c51b7d"
            ],
            [
             0.2,
             "#de77ae"
            ],
            [
             0.3,
             "#f1b6da"
            ],
            [
             0.4,
             "#fde0ef"
            ],
            [
             0.5,
             "#f7f7f7"
            ],
            [
             0.6,
             "#e6f5d0"
            ],
            [
             0.7,
             "#b8e186"
            ],
            [
             0.8,
             "#7fbc41"
            ],
            [
             0.9,
             "#4d9221"
            ],
            [
             1,
             "#276419"
            ]
           ],
           "sequential": [
            [
             0,
             "#0d0887"
            ],
            [
             0.1111111111111111,
             "#46039f"
            ],
            [
             0.2222222222222222,
             "#7201a8"
            ],
            [
             0.3333333333333333,
             "#9c179e"
            ],
            [
             0.4444444444444444,
             "#bd3786"
            ],
            [
             0.5555555555555556,
             "#d8576b"
            ],
            [
             0.6666666666666666,
             "#ed7953"
            ],
            [
             0.7777777777777778,
             "#fb9f3a"
            ],
            [
             0.8888888888888888,
             "#fdca26"
            ],
            [
             1,
             "#f0f921"
            ]
           ],
           "sequentialminus": [
            [
             0,
             "#0d0887"
            ],
            [
             0.1111111111111111,
             "#46039f"
            ],
            [
             0.2222222222222222,
             "#7201a8"
            ],
            [
             0.3333333333333333,
             "#9c179e"
            ],
            [
             0.4444444444444444,
             "#bd3786"
            ],
            [
             0.5555555555555556,
             "#d8576b"
            ],
            [
             0.6666666666666666,
             "#ed7953"
            ],
            [
             0.7777777777777778,
             "#fb9f3a"
            ],
            [
             0.8888888888888888,
             "#fdca26"
            ],
            [
             1,
             "#f0f921"
            ]
           ]
          },
          "colorway": [
           "#636efa",
           "#EF553B",
           "#00cc96",
           "#ab63fa",
           "#FFA15A",
           "#19d3f3",
           "#FF6692",
           "#B6E880",
           "#FF97FF",
           "#FECB52"
          ],
          "font": {
           "color": "#2a3f5f"
          },
          "geo": {
           "bgcolor": "white",
           "lakecolor": "white",
           "landcolor": "#E5ECF6",
           "showlakes": true,
           "showland": true,
           "subunitcolor": "white"
          },
          "hoverlabel": {
           "align": "left"
          },
          "hovermode": "closest",
          "mapbox": {
           "style": "light"
          },
          "paper_bgcolor": "white",
          "plot_bgcolor": "#E5ECF6",
          "polar": {
           "angularaxis": {
            "gridcolor": "white",
            "linecolor": "white",
            "ticks": ""
           },
           "bgcolor": "#E5ECF6",
           "radialaxis": {
            "gridcolor": "white",
            "linecolor": "white",
            "ticks": ""
           }
          },
          "scene": {
           "xaxis": {
            "backgroundcolor": "#E5ECF6",
            "gridcolor": "white",
            "gridwidth": 2,
            "linecolor": "white",
            "showbackground": true,
            "ticks": "",
            "zerolinecolor": "white"
           },
           "yaxis": {
            "backgroundcolor": "#E5ECF6",
            "gridcolor": "white",
            "gridwidth": 2,
            "linecolor": "white",
            "showbackground": true,
            "ticks": "",
            "zerolinecolor": "white"
           },
           "zaxis": {
            "backgroundcolor": "#E5ECF6",
            "gridcolor": "white",
            "gridwidth": 2,
            "linecolor": "white",
            "showbackground": true,
            "ticks": "",
            "zerolinecolor": "white"
           }
          },
          "shapedefaults": {
           "line": {
            "color": "#2a3f5f"
           }
          },
          "ternary": {
           "aaxis": {
            "gridcolor": "white",
            "linecolor": "white",
            "ticks": ""
           },
           "baxis": {
            "gridcolor": "white",
            "linecolor": "white",
            "ticks": ""
           },
           "bgcolor": "#E5ECF6",
           "caxis": {
            "gridcolor": "white",
            "linecolor": "white",
            "ticks": ""
           }
          },
          "title": {
           "x": 0.05
          },
          "xaxis": {
           "automargin": true,
           "gridcolor": "white",
           "linecolor": "white",
           "ticks": "",
           "title": {
            "standoff": 15
           },
           "zerolinecolor": "white",
           "zerolinewidth": 2
          },
          "yaxis": {
           "automargin": true,
           "gridcolor": "white",
           "linecolor": "white",
           "ticks": "",
           "title": {
            "standoff": 15
           },
           "zerolinecolor": "white",
           "zerolinewidth": 2
          }
         }
        }
       }
      },
      "text/html": [
       "<div>                            <div id=\"fc369fce-fef0-41e1-9bfd-afc96dca88df\" class=\"plotly-graph-div\" style=\"height:525px; width:100%;\"></div>            <script type=\"text/javascript\">                require([\"plotly\"], function(Plotly) {                    window.PLOTLYENV=window.PLOTLYENV || {};                                    if (document.getElementById(\"fc369fce-fef0-41e1-9bfd-afc96dca88df\")) {                    Plotly.newPlot(                        \"fc369fce-fef0-41e1-9bfd-afc96dca88df\",                        [{\"name\":\"AUC ROC\",\"x\":[0.0,0.0,0.0,0.0008375209380234506,0.0008375209380234506,0.002512562814070352,0.002512562814070352,0.0033500837520938024,0.0033500837520938024,0.0041876046901172526,0.0041876046901172526,0.005862646566164154,0.005862646566164154,0.006700167504187605,0.006700167504187605,0.007537688442211055,0.007537688442211055,0.008375209380234505,0.008375209380234505,0.009212730318257957,0.009212730318257957,0.010050251256281407,0.010050251256281407,0.011725293132328308,0.011725293132328308,0.01256281407035176,0.01256281407035176,0.01423785594639866,0.01423785594639866,0.01507537688442211,0.01507537688442211,0.015912897822445562,0.015912897822445562,0.021775544388609715,0.021775544388609715,0.022613065326633167,0.022613065326633167,0.023450586264656615,0.023450586264656615,0.02512562814070352,0.02512562814070352,0.02680067001675042,0.02680067001675042,0.02847571189279732,0.02847571189279732,0.031825795644891124,0.031825795644891124,0.032663316582914576,0.032663316582914576,0.03350083752093802,0.03350083752093802,0.036013400335008376,0.036013400335008376,0.03685092127303183,0.03685092127303183,0.03768844221105527,0.03768844221105527,0.04187604690117253,0.04187604690117253,0.04355108877721943,0.04355108877721943,0.04438860971524288,0.04438860971524288,0.04522613065326633,0.04522613065326633,0.04690117252931323,0.04690117252931323,0.051926298157453935,0.051926298157453935,0.052763819095477386,0.052763819095477386,0.05443886097152429,0.05443886097152429,0.05778894472361809,0.05778894472361809,0.059463986599664995,0.059463986599664995,0.06113902847571189,0.06113902847571189,0.06197654941373534,0.06197654941373534,0.0661641541038526,0.0661641541038526,0.06700167504187604,0.06700167504187604,0.0678391959798995,0.0678391959798995,0.0695142378559464,0.0695142378559464,0.07035175879396985,0.07035175879396985,0.0711892797319933,0.0711892797319933,0.07370184254606366,0.07370184254606366,0.07537688442211055,0.07537688442211055,0.07788944723618091,0.07788944723618091,0.07956448911222781,0.07956448911222781,0.08040201005025126,0.08040201005025126,0.0829145728643216,0.0829145728643216,0.08375209380234507,0.08375209380234507,0.08710217755443886,0.08710217755443886,0.09380234505862646,0.09380234505862646,0.09463986599664992,0.09463986599664992,0.09631490787269682,0.09631490787269682,0.09715242881072027,0.09715242881072027,0.09798994974874371,0.09798994974874371,0.09966499162479062,0.09966499162479062,0.10217755443886097,0.10217755443886097,0.10301507537688442,0.10301507537688442,0.10552763819095477,0.10552763819095477,0.10636515912897822,0.10636515912897822,0.10720268006700168,0.10720268006700168,0.11641541038525963,0.11641541038525963,0.11976549413735343,0.11976549413735343,0.12227805695142378,0.12227805695142378,0.12479061976549413,0.12479061976549413,0.1273031825795645,0.1273031825795645,0.12814070351758794,0.12814070351758794,0.13316582914572864,0.13316582914572864,0.1407035175879397,0.1407035175879397,0.1457286432160804,0.1457286432160804,0.1474036850921273,0.1474036850921273,0.15159128978224456,0.15159128978224456,0.152428810720268,0.152428810720268,0.1574539363484087,0.1574539363484087,0.15996649916247907,0.15996649916247907,0.16834170854271358,0.16834170854271358,0.16917922948073702,0.16917922948073702,0.1708542713567839,0.1708542713567839,0.17922948073701842,0.17922948073701842,0.1884422110552764,0.1884422110552764,0.19262981574539365,0.19262981574539365,0.19430485762144054,0.19430485762144054,0.1984924623115578,0.1984924623115578,0.20016750418760468,0.20016750418760468,0.20854271356783918,0.20854271356783918,0.2185929648241206,0.2185929648241206,0.22445561139028475,0.22445561139028475,0.22529313232830822,0.22529313232830822,0.23283082077051925,0.23283082077051925,0.24371859296482412,0.24371859296482412,0.24958123953098826,0.24958123953098826,0.25795644891122277,0.25795644891122277,0.2663316582914573,0.2663316582914573,0.2721943048576214,0.2721943048576214,0.2747068676716918,0.2747068676716918,0.2780569514237856,0.2780569514237856,0.2805695142378559,0.2805695142378559,0.28224455611390287,0.28224455611390287,0.2864321608040201,0.2864321608040201,0.2948073701842546,0.2948073701842546,0.29564489112227804,0.29564489112227804,0.3015075376884422,0.3015075376884422,0.30234505862646566,0.30234505862646566,0.30318257956448913,0.30318257956448913,0.33668341708542715,0.33668341708542715,0.3442211055276382,0.3442211055276382,0.347571189279732,0.347571189279732,0.3500837520938023,0.3500837520938023,0.36432160804020103,0.36432160804020103,0.37269681742043553,0.37269681742043553,0.37520938023450584,0.37520938023450584,0.3860971524288107,0.3860971524288107,0.4036850921273032,0.4036850921273032,0.4371859296482412,0.4371859296482412,0.44137353433835846,0.44137353433835846,0.4539363484087102,0.4539363484087102,0.4581239530988275,0.4581239530988275,0.46147403685092125,0.46147403685092125,0.483249581239531,0.483249581239531,0.48659966499162477,0.48659966499162477,0.48743718592964824,0.48743718592964824,0.49413735343383586,0.49413735343383586,0.5008375209380235,0.5008375209380235,0.501675041876047,0.501675041876047,0.5192629815745393,0.5192629815745393,0.5251256281407035,0.5251256281407035,0.5561139028475712,0.5561139028475712,0.5611390284757118,0.5611390284757118,0.5812395309882747,0.5812395309882747,0.6038525963149078,0.6038525963149078,0.6063651591289783,0.6063651591289783,0.6323283082077052,0.6323283082077052,0.635678391959799,0.635678391959799,0.7051926298157454,0.7051926298157454,0.7202680067001676,0.7202680067001676,0.7227805695142379,0.7227805695142379,0.7252931323283082,0.7252931323283082,0.7805695142378559,0.7805695142378559,0.7906197654941374,0.7906197654941374,0.7964824120603015,0.7964824120603015,0.8961474036850922,0.8961474036850922,0.9137353433835846,0.9137353433835846,0.9221105527638191,0.9221105527638191,1.0],\"y\":[0.0,0.0032679738562091504,0.08823529411764706,0.08823529411764706,0.13725490196078433,0.13725490196078433,0.1830065359477124,0.1830065359477124,0.19281045751633988,0.19281045751633988,0.2222222222222222,0.2222222222222222,0.27124183006535946,0.27124183006535946,0.3006535947712418,0.3006535947712418,0.30392156862745096,0.30392156862745096,0.3104575163398693,0.3104575163398693,0.3137254901960784,0.3137254901960784,0.3235294117647059,0.3235294117647059,0.3300653594771242,0.3300653594771242,0.3431372549019608,0.3431372549019608,0.3464052287581699,0.3464052287581699,0.35947712418300654,0.35947712418300654,0.3758169934640523,0.3758169934640523,0.38235294117647056,0.38235294117647056,0.39869281045751637,0.39869281045751637,0.40522875816993464,0.40522875816993464,0.4117647058823529,0.4117647058823529,0.41830065359477125,0.41830065359477125,0.4215686274509804,0.4215686274509804,0.42810457516339867,0.42810457516339867,0.4411764705882353,0.4411764705882353,0.4477124183006536,0.4477124183006536,0.45098039215686275,0.45098039215686275,0.45751633986928103,0.45751633986928103,0.4673202614379085,0.4673202614379085,0.477124183006536,0.477124183006536,0.49019607843137253,0.49019607843137253,0.4934640522875817,0.4934640522875817,0.5032679738562091,0.5032679738562091,0.5163398692810458,0.5163398692810458,0.5196078431372549,0.5196078431372549,0.5228758169934641,0.5228758169934641,0.5261437908496732,0.5261437908496732,0.5294117647058824,0.5294117647058824,0.5326797385620915,0.5326797385620915,0.5359477124183006,0.5359477124183006,0.5392156862745098,0.5392156862745098,0.545751633986928,0.545751633986928,0.5490196078431373,0.5490196078431373,0.5555555555555556,0.5555555555555556,0.5588235294117647,0.5588235294117647,0.5620915032679739,0.5620915032679739,0.565359477124183,0.565359477124183,0.5686274509803921,0.5686274509803921,0.5751633986928104,0.5751633986928104,0.5816993464052288,0.5816993464052288,0.5849673202614379,0.5849673202614379,0.5915032679738562,0.5915032679738562,0.5947712418300654,0.5947712418300654,0.6013071895424836,0.6013071895424836,0.6045751633986928,0.6045751633986928,0.6078431372549019,0.6078431372549019,0.6143790849673203,0.6143790849673203,0.6176470588235294,0.6176470588235294,0.6241830065359477,0.6241830065359477,0.6339869281045751,0.6339869281045751,0.6372549019607843,0.6372549019607843,0.6437908496732027,0.6437908496732027,0.6503267973856209,0.6503267973856209,0.6535947712418301,0.6535947712418301,0.6633986928104575,0.6633986928104575,0.6666666666666666,0.6666666666666666,0.6895424836601307,0.6895424836601307,0.6928104575163399,0.6928104575163399,0.696078431372549,0.696078431372549,0.6993464052287581,0.6993464052287581,0.7091503267973857,0.7091503267973857,0.7124183006535948,0.7124183006535948,0.7156862745098039,0.7156862745098039,0.7189542483660131,0.7189542483660131,0.7222222222222222,0.7222222222222222,0.7254901960784313,0.7254901960784313,0.7287581699346405,0.7287581699346405,0.7320261437908496,0.7320261437908496,0.7352941176470589,0.7352941176470589,0.7418300653594772,0.7418300653594772,0.7450980392156863,0.7450980392156863,0.7516339869281046,0.7516339869281046,0.7581699346405228,0.7581699346405228,0.7712418300653595,0.7712418300653595,0.7745098039215687,0.7745098039215687,0.7777777777777778,0.7777777777777778,0.7810457516339869,0.7810457516339869,0.7843137254901961,0.7843137254901961,0.7875816993464052,0.7875816993464052,0.7908496732026143,0.7908496732026143,0.7973856209150327,0.7973856209150327,0.8006535947712419,0.8006535947712419,0.803921568627451,0.803921568627451,0.8071895424836601,0.8071895424836601,0.8104575163398693,0.8104575163398693,0.8202614379084967,0.8202614379084967,0.8235294117647058,0.8235294117647058,0.826797385620915,0.826797385620915,0.8300653594771242,0.8300653594771242,0.8333333333333334,0.8333333333333334,0.8366013071895425,0.8366013071895425,0.8398692810457516,0.8398692810457516,0.8464052287581699,0.8464052287581699,0.8496732026143791,0.8496732026143791,0.8529411764705882,0.8529411764705882,0.8562091503267973,0.8562091503267973,0.8594771241830066,0.8594771241830066,0.8627450980392157,0.8627450980392157,0.8660130718954249,0.8660130718954249,0.869281045751634,0.869281045751634,0.8725490196078431,0.8725490196078431,0.8758169934640523,0.8758169934640523,0.8790849673202614,0.8790849673202614,0.8823529411764706,0.8823529411764706,0.8856209150326797,0.8856209150326797,0.8888888888888888,0.8888888888888888,0.8921568627450981,0.8921568627450981,0.8986928104575164,0.8986928104575164,0.9019607843137255,0.9019607843137255,0.9052287581699346,0.9052287581699346,0.9084967320261438,0.9084967320261438,0.9150326797385621,0.9150326797385621,0.9183006535947712,0.9183006535947712,0.9215686274509803,0.9215686274509803,0.9248366013071896,0.9248366013071896,0.9281045751633987,0.9281045751633987,0.9313725490196079,0.9313725490196079,0.934640522875817,0.934640522875817,0.9379084967320261,0.9379084967320261,0.9411764705882353,0.9411764705882353,0.9444444444444444,0.9444444444444444,0.9477124183006536,0.9477124183006536,0.9509803921568627,0.9509803921568627,0.954248366013072,0.954248366013072,0.9575163398692811,0.9575163398692811,0.9607843137254902,0.9607843137254902,0.9640522875816994,0.9640522875816994,0.9673202614379085,0.9673202614379085,0.9705882352941176,0.9705882352941176,0.9738562091503268,0.9738562091503268,0.9771241830065359,0.9771241830065359,0.9803921568627451,0.9803921568627451,0.9836601307189542,0.9836601307189542,0.9869281045751634,0.9869281045751634,0.9901960784313726,0.9901960784313726,0.9934640522875817,0.9934640522875817,0.9967320261437909,0.9967320261437909,1.0,1.0],\"type\":\"scatter\"},{\"line\":{\"dash\":\"dot\",\"width\":4},\"mode\":\"lines\",\"name\":\"dummy \\u043c\\u043e\\u0434\\u0435\\u043b\\u044c\",\"x\":[0,1],\"y\":[0,1],\"type\":\"scatter\"}],                        {\"template\":{\"data\":{\"bar\":[{\"error_x\":{\"color\":\"#2a3f5f\"},\"error_y\":{\"color\":\"#2a3f5f\"},\"marker\":{\"line\":{\"color\":\"#E5ECF6\",\"width\":0.5},\"pattern\":{\"fillmode\":\"overlay\",\"size\":10,\"solidity\":0.2}},\"type\":\"bar\"}],\"barpolar\":[{\"marker\":{\"line\":{\"color\":\"#E5ECF6\",\"width\":0.5},\"pattern\":{\"fillmode\":\"overlay\",\"size\":10,\"solidity\":0.2}},\"type\":\"barpolar\"}],\"carpet\":[{\"aaxis\":{\"endlinecolor\":\"#2a3f5f\",\"gridcolor\":\"white\",\"linecolor\":\"white\",\"minorgridcolor\":\"white\",\"startlinecolor\":\"#2a3f5f\"},\"baxis\":{\"endlinecolor\":\"#2a3f5f\",\"gridcolor\":\"white\",\"linecolor\":\"white\",\"minorgridcolor\":\"white\",\"startlinecolor\":\"#2a3f5f\"},\"type\":\"carpet\"}],\"choropleth\":[{\"colorbar\":{\"outlinewidth\":0,\"ticks\":\"\"},\"type\":\"choropleth\"}],\"contour\":[{\"colorbar\":{\"outlinewidth\":0,\"ticks\":\"\"},\"colorscale\":[[0.0,\"#0d0887\"],[0.1111111111111111,\"#46039f\"],[0.2222222222222222,\"#7201a8\"],[0.3333333333333333,\"#9c179e\"],[0.4444444444444444,\"#bd3786\"],[0.5555555555555556,\"#d8576b\"],[0.6666666666666666,\"#ed7953\"],[0.7777777777777778,\"#fb9f3a\"],[0.8888888888888888,\"#fdca26\"],[1.0,\"#f0f921\"]],\"type\":\"contour\"}],\"contourcarpet\":[{\"colorbar\":{\"outlinewidth\":0,\"ticks\":\"\"},\"type\":\"contourcarpet\"}],\"heatmap\":[{\"colorbar\":{\"outlinewidth\":0,\"ticks\":\"\"},\"colorscale\":[[0.0,\"#0d0887\"],[0.1111111111111111,\"#46039f\"],[0.2222222222222222,\"#7201a8\"],[0.3333333333333333,\"#9c179e\"],[0.4444444444444444,\"#bd3786\"],[0.5555555555555556,\"#d8576b\"],[0.6666666666666666,\"#ed7953\"],[0.7777777777777778,\"#fb9f3a\"],[0.8888888888888888,\"#fdca26\"],[1.0,\"#f0f921\"]],\"type\":\"heatmap\"}],\"heatmapgl\":[{\"colorbar\":{\"outlinewidth\":0,\"ticks\":\"\"},\"colorscale\":[[0.0,\"#0d0887\"],[0.1111111111111111,\"#46039f\"],[0.2222222222222222,\"#7201a8\"],[0.3333333333333333,\"#9c179e\"],[0.4444444444444444,\"#bd3786\"],[0.5555555555555556,\"#d8576b\"],[0.6666666666666666,\"#ed7953\"],[0.7777777777777778,\"#fb9f3a\"],[0.8888888888888888,\"#fdca26\"],[1.0,\"#f0f921\"]],\"type\":\"heatmapgl\"}],\"histogram\":[{\"marker\":{\"pattern\":{\"fillmode\":\"overlay\",\"size\":10,\"solidity\":0.2}},\"type\":\"histogram\"}],\"histogram2d\":[{\"colorbar\":{\"outlinewidth\":0,\"ticks\":\"\"},\"colorscale\":[[0.0,\"#0d0887\"],[0.1111111111111111,\"#46039f\"],[0.2222222222222222,\"#7201a8\"],[0.3333333333333333,\"#9c179e\"],[0.4444444444444444,\"#bd3786\"],[0.5555555555555556,\"#d8576b\"],[0.6666666666666666,\"#ed7953\"],[0.7777777777777778,\"#fb9f3a\"],[0.8888888888888888,\"#fdca26\"],[1.0,\"#f0f921\"]],\"type\":\"histogram2d\"}],\"histogram2dcontour\":[{\"colorbar\":{\"outlinewidth\":0,\"ticks\":\"\"},\"colorscale\":[[0.0,\"#0d0887\"],[0.1111111111111111,\"#46039f\"],[0.2222222222222222,\"#7201a8\"],[0.3333333333333333,\"#9c179e\"],[0.4444444444444444,\"#bd3786\"],[0.5555555555555556,\"#d8576b\"],[0.6666666666666666,\"#ed7953\"],[0.7777777777777778,\"#fb9f3a\"],[0.8888888888888888,\"#fdca26\"],[1.0,\"#f0f921\"]],\"type\":\"histogram2dcontour\"}],\"mesh3d\":[{\"colorbar\":{\"outlinewidth\":0,\"ticks\":\"\"},\"type\":\"mesh3d\"}],\"parcoords\":[{\"line\":{\"colorbar\":{\"outlinewidth\":0,\"ticks\":\"\"}},\"type\":\"parcoords\"}],\"pie\":[{\"automargin\":true,\"type\":\"pie\"}],\"scatter\":[{\"marker\":{\"colorbar\":{\"outlinewidth\":0,\"ticks\":\"\"}},\"type\":\"scatter\"}],\"scatter3d\":[{\"line\":{\"colorbar\":{\"outlinewidth\":0,\"ticks\":\"\"}},\"marker\":{\"colorbar\":{\"outlinewidth\":0,\"ticks\":\"\"}},\"type\":\"scatter3d\"}],\"scattercarpet\":[{\"marker\":{\"colorbar\":{\"outlinewidth\":0,\"ticks\":\"\"}},\"type\":\"scattercarpet\"}],\"scattergeo\":[{\"marker\":{\"colorbar\":{\"outlinewidth\":0,\"ticks\":\"\"}},\"type\":\"scattergeo\"}],\"scattergl\":[{\"marker\":{\"colorbar\":{\"outlinewidth\":0,\"ticks\":\"\"}},\"type\":\"scattergl\"}],\"scattermapbox\":[{\"marker\":{\"colorbar\":{\"outlinewidth\":0,\"ticks\":\"\"}},\"type\":\"scattermapbox\"}],\"scatterpolar\":[{\"marker\":{\"colorbar\":{\"outlinewidth\":0,\"ticks\":\"\"}},\"type\":\"scatterpolar\"}],\"scatterpolargl\":[{\"marker\":{\"colorbar\":{\"outlinewidth\":0,\"ticks\":\"\"}},\"type\":\"scatterpolargl\"}],\"scatterternary\":[{\"marker\":{\"colorbar\":{\"outlinewidth\":0,\"ticks\":\"\"}},\"type\":\"scatterternary\"}],\"surface\":[{\"colorbar\":{\"outlinewidth\":0,\"ticks\":\"\"},\"colorscale\":[[0.0,\"#0d0887\"],[0.1111111111111111,\"#46039f\"],[0.2222222222222222,\"#7201a8\"],[0.3333333333333333,\"#9c179e\"],[0.4444444444444444,\"#bd3786\"],[0.5555555555555556,\"#d8576b\"],[0.6666666666666666,\"#ed7953\"],[0.7777777777777778,\"#fb9f3a\"],[0.8888888888888888,\"#fdca26\"],[1.0,\"#f0f921\"]],\"type\":\"surface\"}],\"table\":[{\"cells\":{\"fill\":{\"color\":\"#EBF0F8\"},\"line\":{\"color\":\"white\"}},\"header\":{\"fill\":{\"color\":\"#C8D4E3\"},\"line\":{\"color\":\"white\"}},\"type\":\"table\"}]},\"layout\":{\"annotationdefaults\":{\"arrowcolor\":\"#2a3f5f\",\"arrowhead\":0,\"arrowwidth\":1},\"autotypenumbers\":\"strict\",\"coloraxis\":{\"colorbar\":{\"outlinewidth\":0,\"ticks\":\"\"}},\"colorscale\":{\"diverging\":[[0,\"#8e0152\"],[0.1,\"#c51b7d\"],[0.2,\"#de77ae\"],[0.3,\"#f1b6da\"],[0.4,\"#fde0ef\"],[0.5,\"#f7f7f7\"],[0.6,\"#e6f5d0\"],[0.7,\"#b8e186\"],[0.8,\"#7fbc41\"],[0.9,\"#4d9221\"],[1,\"#276419\"]],\"sequential\":[[0.0,\"#0d0887\"],[0.1111111111111111,\"#46039f\"],[0.2222222222222222,\"#7201a8\"],[0.3333333333333333,\"#9c179e\"],[0.4444444444444444,\"#bd3786\"],[0.5555555555555556,\"#d8576b\"],[0.6666666666666666,\"#ed7953\"],[0.7777777777777778,\"#fb9f3a\"],[0.8888888888888888,\"#fdca26\"],[1.0,\"#f0f921\"]],\"sequentialminus\":[[0.0,\"#0d0887\"],[0.1111111111111111,\"#46039f\"],[0.2222222222222222,\"#7201a8\"],[0.3333333333333333,\"#9c179e\"],[0.4444444444444444,\"#bd3786\"],[0.5555555555555556,\"#d8576b\"],[0.6666666666666666,\"#ed7953\"],[0.7777777777777778,\"#fb9f3a\"],[0.8888888888888888,\"#fdca26\"],[1.0,\"#f0f921\"]]},\"colorway\":[\"#636efa\",\"#EF553B\",\"#00cc96\",\"#ab63fa\",\"#FFA15A\",\"#19d3f3\",\"#FF6692\",\"#B6E880\",\"#FF97FF\",\"#FECB52\"],\"font\":{\"color\":\"#2a3f5f\"},\"geo\":{\"bgcolor\":\"white\",\"lakecolor\":\"white\",\"landcolor\":\"#E5ECF6\",\"showlakes\":true,\"showland\":true,\"subunitcolor\":\"white\"},\"hoverlabel\":{\"align\":\"left\"},\"hovermode\":\"closest\",\"mapbox\":{\"style\":\"light\"},\"paper_bgcolor\":\"white\",\"plot_bgcolor\":\"#E5ECF6\",\"polar\":{\"angularaxis\":{\"gridcolor\":\"white\",\"linecolor\":\"white\",\"ticks\":\"\"},\"bgcolor\":\"#E5ECF6\",\"radialaxis\":{\"gridcolor\":\"white\",\"linecolor\":\"white\",\"ticks\":\"\"}},\"scene\":{\"xaxis\":{\"backgroundcolor\":\"#E5ECF6\",\"gridcolor\":\"white\",\"gridwidth\":2,\"linecolor\":\"white\",\"showbackground\":true,\"ticks\":\"\",\"zerolinecolor\":\"white\"},\"yaxis\":{\"backgroundcolor\":\"#E5ECF6\",\"gridcolor\":\"white\",\"gridwidth\":2,\"linecolor\":\"white\",\"showbackground\":true,\"ticks\":\"\",\"zerolinecolor\":\"white\"},\"zaxis\":{\"backgroundcolor\":\"#E5ECF6\",\"gridcolor\":\"white\",\"gridwidth\":2,\"linecolor\":\"white\",\"showbackground\":true,\"ticks\":\"\",\"zerolinecolor\":\"white\"}},\"shapedefaults\":{\"line\":{\"color\":\"#2a3f5f\"}},\"ternary\":{\"aaxis\":{\"gridcolor\":\"white\",\"linecolor\":\"white\",\"ticks\":\"\"},\"baxis\":{\"gridcolor\":\"white\",\"linecolor\":\"white\",\"ticks\":\"\"},\"bgcolor\":\"#E5ECF6\",\"caxis\":{\"gridcolor\":\"white\",\"linecolor\":\"white\",\"ticks\":\"\"}},\"title\":{\"x\":0.05},\"xaxis\":{\"automargin\":true,\"gridcolor\":\"white\",\"linecolor\":\"white\",\"ticks\":\"\",\"title\":{\"standoff\":15},\"zerolinecolor\":\"white\",\"zerolinewidth\":2},\"yaxis\":{\"automargin\":true,\"gridcolor\":\"white\",\"linecolor\":\"white\",\"ticks\":\"\",\"title\":{\"standoff\":15},\"zerolinecolor\":\"white\",\"zerolinewidth\":2}}}},                        {\"responsive\": true}                    ).then(function(){\n",
       "                            \n",
       "var gd = document.getElementById('fc369fce-fef0-41e1-9bfd-afc96dca88df');\n",
       "var x = new MutationObserver(function (mutations, observer) {{\n",
       "        var display = window.getComputedStyle(gd).display;\n",
       "        if (!display || display === 'none') {{\n",
       "            console.log([gd, 'removed!']);\n",
       "            Plotly.purge(gd);\n",
       "            observer.disconnect();\n",
       "        }}\n",
       "}});\n",
       "\n",
       "// Listen for the removal of the full notebook cells\n",
       "var notebookContainer = gd.closest('#notebook-container');\n",
       "if (notebookContainer) {{\n",
       "    x.observe(notebookContainer, {childList: true});\n",
       "}}\n",
       "\n",
       "// Listen for the clearing of the current output cell\n",
       "var outputEl = gd.closest('.output');\n",
       "if (outputEl) {{\n",
       "    x.observe(outputEl, {childList: true});\n",
       "}}\n",
       "\n",
       "                        })                };                });            </script>        </div>"
      ]
     },
     "metadata": {},
     "output_type": "display_data"
    }
   ],
   "source": [
    "proba_valid = model_rf_balanced.predict_proba(features_valid)\n",
    "proba_one_valid = proba_valid[:, 1]\n",
    "fpr, tpr, thresholds = roc_curve(target_valid, proba_one_valid)\n",
    "\n",
    "fig = go.Figure()\n",
    "fig.add_trace(go.Scatter(x=fpr,y=tpr,name='AUC ROC'))\n",
    "fig.add_trace(go.Scatter(x=[0, 1],y=[0, 1],line = dict(width=4, dash='dot'),mode=('lines'),name='dummy модель'))\n",
    "fig.show()"
   ]
  },
  {
   "cell_type": "markdown",
   "metadata": {},
   "source": [
    "## Тестирование модели"
   ]
  },
  {
   "cell_type": "markdown",
   "metadata": {},
   "source": [
    "---лучшие показатели показала модель RF"
   ]
  },
  {
   "cell_type": "code",
   "execution_count": 302,
   "metadata": {},
   "outputs": [
    {
     "name": "stdout",
     "output_type": "stream",
     "text": [
      "\n",
      "Значение F1-меры лучшей модели на валидации: 0.618610747051114 \n",
      "Значение ROC AUC: 0.8620280049484897\n"
     ]
    }
   ],
   "source": [
    "rf_gs_dis_up_test = RandomForestClassifier(n_estimators=best_est_rf, \n",
    "                                           random_state=12345, \n",
    "                                           class_weight='balanced', \n",
    "                                           max_depth=best_depth_rf)\n",
    "\n",
    "rf_gs_dis_up_test.fit(features_test, target_test)\n",
    "rf_roc_dis_upsamp = roc_auc_score(target_valid, rf_gs_dis_up_test.predict_proba(features_valid)[:,1])\n",
    "\n",
    "predictions = model_rf_balanced.predict(features_valid)\n",
    "f1_rf_balanced_upsamp = f1_score(target_valid,predictions) \n",
    "\n",
    "\n",
    "print('\\nЗначение F1-меры лучшей модели на валидации:', f1_rf_balanced_upsamp, '\\nЗначение ROC AUC:', rf_roc_dis_upsamp)"
   ]
  },
  {
   "cell_type": "code",
   "execution_count": 303,
   "metadata": {
    "scrolled": true
   },
   "outputs": [
    {
     "data": {
      "application/vnd.plotly.v1+json": {
       "config": {
        "plotlyServerURL": "https://plot.ly"
       },
       "data": [
        {
         "name": "AUC ROC",
         "type": "scatter",
         "x": [
          0,
          0,
          0,
          0.0008375209380234506,
          0.0008375209380234506,
          0.0016750418760469012,
          0.0016750418760469012,
          0.002512562814070352,
          0.002512562814070352,
          0.0033500837520938024,
          0.0033500837520938024,
          0.008375209380234505,
          0.008375209380234505,
          0.009212730318257957,
          0.009212730318257957,
          0.010050251256281407,
          0.010050251256281407,
          0.010887772194304857,
          0.010887772194304857,
          0.011725293132328308,
          0.011725293132328308,
          0.01256281407035176,
          0.01256281407035176,
          0.01507537688442211,
          0.01507537688442211,
          0.015912897822445562,
          0.015912897822445562,
          0.01675041876046901,
          0.01675041876046901,
          0.017587939698492462,
          0.017587939698492462,
          0.020100502512562814,
          0.020100502512562814,
          0.020938023450586266,
          0.020938023450586266,
          0.021775544388609715,
          0.021775544388609715,
          0.022613065326633167,
          0.022613065326633167,
          0.023450586264656615,
          0.023450586264656615,
          0.02512562814070352,
          0.02512562814070352,
          0.025963149078726967,
          0.025963149078726967,
          0.02763819095477387,
          0.02763819095477387,
          0.02847571189279732,
          0.02847571189279732,
          0.03098827470686767,
          0.03098827470686767,
          0.035175879396984924,
          0.035175879396984924,
          0.036013400335008376,
          0.036013400335008376,
          0.03768844221105527,
          0.03768844221105527,
          0.038525963149078725,
          0.038525963149078725,
          0.03936348408710218,
          0.03936348408710218,
          0.04020100502512563,
          0.04020100502512563,
          0.04103852596314908,
          0.04103852596314908,
          0.04187604690117253,
          0.04187604690117253,
          0.04271356783919598,
          0.04271356783919598,
          0.04522613065326633,
          0.04522613065326633,
          0.04690117252931323,
          0.04690117252931323,
          0.04773869346733668,
          0.04773869346733668,
          0.048576214405360134,
          0.048576214405360134,
          0.051926298157453935,
          0.051926298157453935,
          0.052763819095477386,
          0.052763819095477386,
          0.05360134003350084,
          0.05360134003350084,
          0.05443886097152429,
          0.05443886097152429,
          0.05527638190954774,
          0.05527638190954774,
          0.05611390284757119,
          0.05611390284757119,
          0.06030150753768844,
          0.06030150753768844,
          0.06281407035175879,
          0.06281407035175879,
          0.06448911222780569,
          0.06448911222780569,
          0.07035175879396985,
          0.07035175879396985,
          0.0711892797319933,
          0.0711892797319933,
          0.08040201005025126,
          0.08040201005025126,
          0.08207705192629816,
          0.08207705192629816,
          0.0829145728643216,
          0.0829145728643216,
          0.08626465661641541,
          0.08626465661641541,
          0.08710217755443886,
          0.08710217755443886,
          0.09128978224455611,
          0.09128978224455611,
          0.09631490787269682,
          0.09631490787269682,
          0.09715242881072027,
          0.09715242881072027,
          0.09882747068676717,
          0.09882747068676717,
          0.10134003350083752,
          0.10134003350083752,
          0.10217755443886097,
          0.10217755443886097,
          0.10301507537688442,
          0.10301507537688442,
          0.10552763819095477,
          0.10552763819095477,
          0.10636515912897822,
          0.10636515912897822,
          0.10804020100502512,
          0.10804020100502512,
          0.10971524288107203,
          0.10971524288107203,
          0.11055276381909548,
          0.11055276381909548,
          0.11222780569514237,
          0.11222780569514237,
          0.11306532663316583,
          0.11306532663316583,
          0.11390284757118928,
          0.11390284757118928,
          0.11557788944723618,
          0.11557788944723618,
          0.11641541038525963,
          0.11641541038525963,
          0.11892797319932999,
          0.11892797319932999,
          0.12144053601340034,
          0.12144053601340034,
          0.12311557788944724,
          0.12311557788944724,
          0.12646566164154105,
          0.12646566164154105,
          0.13316582914572864,
          0.13316582914572864,
          0.1407035175879397,
          0.1407035175879397,
          0.1474036850921273,
          0.1474036850921273,
          0.152428810720268,
          0.152428810720268,
          0.15661641541038526,
          0.15661641541038526,
          0.1658291457286432,
          0.1658291457286432,
          0.16666666666666666,
          0.16666666666666666,
          0.16834170854271358,
          0.16834170854271358,
          0.17169179229480738,
          0.17169179229480738,
          0.17336683417085427,
          0.17336683417085427,
          0.17504187604690116,
          0.17504187604690116,
          0.18090452261306533,
          0.18090452261306533,
          0.18425460636515914,
          0.18425460636515914,
          0.18676716917922948,
          0.18676716917922948,
          0.18927973199329984,
          0.18927973199329984,
          0.19430485762144054,
          0.19430485762144054,
          0.19514237855946398,
          0.19514237855946398,
          0.19597989949748743,
          0.19597989949748743,
          0.2051926298157454,
          0.2051926298157454,
          0.211892797319933,
          0.211892797319933,
          0.21608040201005024,
          0.21608040201005024,
          0.22529313232830822,
          0.22529313232830822,
          0.23450586264656617,
          0.23450586264656617,
          0.2370184254606365,
          0.2370184254606365,
          0.23785594639865998,
          0.23785594639865998,
          0.24371859296482412,
          0.24371859296482412,
          0.245393634840871,
          0.245393634840871,
          0.24958123953098826,
          0.24958123953098826,
          0.2529313232830821,
          0.2529313232830821,
          0.2562814070351759,
          0.2562814070351759,
          0.25963149078726966,
          0.25963149078726966,
          0.2629815745393635,
          0.2629815745393635,
          0.2646566164154104,
          0.2646566164154104,
          0.2663316582914573,
          0.2663316582914573,
          0.26800670016750416,
          0.26800670016750416,
          0.26884422110552764,
          0.26884422110552764,
          0.27721943048576214,
          0.27721943048576214,
          0.28559463986599665,
          0.28559463986599665,
          0.288107202680067,
          0.288107202680067,
          0.2981574539363484,
          0.2981574539363484,
          0.304857621440536,
          0.304857621440536,
          0.3098827470686767,
          0.3098827470686767,
          0.314070351758794,
          0.314070351758794,
          0.32998324958123953,
          0.32998324958123953,
          0.3324958123953099,
          0.3324958123953099,
          0.3358458961474037,
          0.3358458961474037,
          0.36348408710217756,
          0.36348408710217756,
          0.39112227805695143,
          0.39112227805695143,
          0.39195979899497485,
          0.39195979899497485,
          0.4028475711892797,
          0.4028475711892797,
          0.4112227805695142,
          0.4112227805695142,
          0.4137353433835846,
          0.4137353433835846,
          0.41708542713567837,
          0.41708542713567837,
          0.4296482412060301,
          0.4296482412060301,
          0.43132328308207707,
          0.43132328308207707,
          0.4388609715242881,
          0.4388609715242881,
          0.440536013400335,
          0.440536013400335,
          0.4472361809045226,
          0.4472361809045226,
          0.49246231155778897,
          0.49246231155778897,
          0.4932998324958124,
          0.4932998324958124,
          0.5008375209380235,
          0.5008375209380235,
          0.5083752093802345,
          0.5083752093802345,
          0.5175879396984925,
          0.5175879396984925,
          0.5251256281407035,
          0.5251256281407035,
          0.5385259631490787,
          0.5385259631490787,
          0.5804020100502513,
          0.5804020100502513,
          0.5862646566164154,
          0.5862646566164154,
          0.6038525963149078,
          0.6038525963149078,
          0.6164154103852596,
          0.6164154103852596,
          0.626465661641541,
          0.626465661641541,
          0.6390284757118928,
          0.6390284757118928,
          0.6490787269681743,
          0.6490787269681743,
          0.6541038525963149,
          0.6541038525963149,
          0.6591289782244556,
          0.6591289782244556,
          0.6641541038525963,
          0.6641541038525963,
          0.6649916247906198,
          0.6649916247906198,
          0.7102177554438861,
          0.7102177554438861,
          0.7386934673366834,
          0.7386934673366834,
          0.8098827470686767,
          0.8098827470686767,
          0.8425460636515912,
          0.8425460636515912,
          0.871859296482412,
          0.871859296482412,
          0.9137353433835846,
          0.9154103852596315,
          0.9363484087102177,
          0.9380234505862647,
          0.9547738693467337,
          0.9564489112227805,
          0.9606365159128978,
          0.9623115577889447,
          0.9698492462311558,
          0.9715242881072027,
          0.974036850921273,
          0.9765494137353434,
          0.9773869346733668,
          0.9790619765494137,
          0.9899497487437185,
          0.9916247906197655,
          0.9949748743718593,
          0.9949748743718593,
          1
         ],
         "y": [
          0,
          0.0032679738562091504,
          0.07516339869281045,
          0.07516339869281045,
          0.08169934640522876,
          0.08169934640522876,
          0.16013071895424835,
          0.16013071895424835,
          0.17973856209150327,
          0.17973856209150327,
          0.19281045751633988,
          0.19281045751633988,
          0.19607843137254902,
          0.19607843137254902,
          0.2222222222222222,
          0.2222222222222222,
          0.22549019607843138,
          0.22549019607843138,
          0.23202614379084968,
          0.23202614379084968,
          0.24183006535947713,
          0.24183006535947713,
          0.28104575163398693,
          0.28104575163398693,
          0.3104575163398693,
          0.3104575163398693,
          0.31699346405228757,
          0.31699346405228757,
          0.3202614379084967,
          0.3202614379084967,
          0.3333333333333333,
          0.3333333333333333,
          0.3431372549019608,
          0.3431372549019608,
          0.35294117647058826,
          0.35294117647058826,
          0.3660130718954248,
          0.3660130718954248,
          0.369281045751634,
          0.369281045751634,
          0.3790849673202614,
          0.3790849673202614,
          0.38235294117647056,
          0.38235294117647056,
          0.39215686274509803,
          0.39215686274509803,
          0.3954248366013072,
          0.3954248366013072,
          0.39869281045751637,
          0.39869281045751637,
          0.4019607843137255,
          0.4019607843137255,
          0.4150326797385621,
          0.4150326797385621,
          0.4215686274509804,
          0.4215686274509804,
          0.42483660130718953,
          0.42483660130718953,
          0.43790849673202614,
          0.43790849673202614,
          0.45098039215686275,
          0.45098039215686275,
          0.45751633986928103,
          0.45751633986928103,
          0.46078431372549017,
          0.46078431372549017,
          0.4673202614379085,
          0.4673202614379085,
          0.47058823529411764,
          0.47058823529411764,
          0.4738562091503268,
          0.4738562091503268,
          0.477124183006536,
          0.477124183006536,
          0.48366013071895425,
          0.48366013071895425,
          0.49019607843137253,
          0.49019607843137253,
          0.4934640522875817,
          0.4934640522875817,
          0.49673202614379086,
          0.49673202614379086,
          0.5196078431372549,
          0.5196078431372549,
          0.5359477124183006,
          0.5359477124183006,
          0.5424836601307189,
          0.5424836601307189,
          0.545751633986928,
          0.545751633986928,
          0.5490196078431373,
          0.5490196078431373,
          0.5522875816993464,
          0.5522875816993464,
          0.5620915032679739,
          0.5620915032679739,
          0.565359477124183,
          0.565359477124183,
          0.5686274509803921,
          0.5686274509803921,
          0.5784313725490197,
          0.5784313725490197,
          0.5816993464052288,
          0.5816993464052288,
          0.5915032679738562,
          0.5915032679738562,
          0.5980392156862745,
          0.5980392156862745,
          0.6013071895424836,
          0.6013071895424836,
          0.6078431372549019,
          0.6078431372549019,
          0.6111111111111112,
          0.6111111111111112,
          0.6176470588235294,
          0.6176470588235294,
          0.6209150326797386,
          0.6209150326797386,
          0.6241830065359477,
          0.6241830065359477,
          0.6274509803921569,
          0.6274509803921569,
          0.630718954248366,
          0.630718954248366,
          0.6405228758169934,
          0.6405228758169934,
          0.6437908496732027,
          0.6437908496732027,
          0.6470588235294118,
          0.6470588235294118,
          0.6568627450980392,
          0.6568627450980392,
          0.6601307189542484,
          0.6601307189542484,
          0.6633986928104575,
          0.6633986928104575,
          0.6666666666666666,
          0.6666666666666666,
          0.6699346405228758,
          0.6699346405228758,
          0.673202614379085,
          0.673202614379085,
          0.6764705882352942,
          0.6764705882352942,
          0.6797385620915033,
          0.6797385620915033,
          0.6830065359477124,
          0.6830065359477124,
          0.6862745098039216,
          0.6862745098039216,
          0.6895424836601307,
          0.6895424836601307,
          0.6928104575163399,
          0.6928104575163399,
          0.696078431372549,
          0.696078431372549,
          0.7026143790849673,
          0.7026143790849673,
          0.7058823529411765,
          0.7058823529411765,
          0.7156862745098039,
          0.7156862745098039,
          0.7189542483660131,
          0.7189542483660131,
          0.7222222222222222,
          0.7222222222222222,
          0.7254901960784313,
          0.7254901960784313,
          0.7287581699346405,
          0.7287581699346405,
          0.7320261437908496,
          0.7320261437908496,
          0.7352941176470589,
          0.7352941176470589,
          0.738562091503268,
          0.738562091503268,
          0.7418300653594772,
          0.7418300653594772,
          0.7450980392156863,
          0.7450980392156863,
          0.7483660130718954,
          0.7483660130718954,
          0.7549019607843137,
          0.7549019607843137,
          0.761437908496732,
          0.761437908496732,
          0.7679738562091504,
          0.7679738562091504,
          0.7712418300653595,
          0.7712418300653595,
          0.7810457516339869,
          0.7810457516339869,
          0.7843137254901961,
          0.7843137254901961,
          0.7875816993464052,
          0.7875816993464052,
          0.7908496732026143,
          0.7908496732026143,
          0.7941176470588235,
          0.7941176470588235,
          0.7973856209150327,
          0.7973856209150327,
          0.8006535947712419,
          0.8006535947712419,
          0.803921568627451,
          0.803921568627451,
          0.8104575163398693,
          0.8104575163398693,
          0.8137254901960784,
          0.8137254901960784,
          0.8169934640522876,
          0.8169934640522876,
          0.8202614379084967,
          0.8202614379084967,
          0.8235294117647058,
          0.8235294117647058,
          0.826797385620915,
          0.826797385620915,
          0.8300653594771242,
          0.8300653594771242,
          0.8333333333333334,
          0.8333333333333334,
          0.8366013071895425,
          0.8366013071895425,
          0.8398692810457516,
          0.8398692810457516,
          0.8431372549019608,
          0.8431372549019608,
          0.8464052287581699,
          0.8464052287581699,
          0.8496732026143791,
          0.8496732026143791,
          0.8562091503267973,
          0.8562091503267973,
          0.8594771241830066,
          0.8594771241830066,
          0.8627450980392157,
          0.8627450980392157,
          0.8660130718954249,
          0.8660130718954249,
          0.869281045751634,
          0.869281045751634,
          0.8725490196078431,
          0.8725490196078431,
          0.8758169934640523,
          0.8758169934640523,
          0.8790849673202614,
          0.8790849673202614,
          0.8823529411764706,
          0.8823529411764706,
          0.8856209150326797,
          0.8856209150326797,
          0.8888888888888888,
          0.8888888888888888,
          0.8921568627450981,
          0.8921568627450981,
          0.8954248366013072,
          0.8954248366013072,
          0.8986928104575164,
          0.8986928104575164,
          0.9019607843137255,
          0.9019607843137255,
          0.9052287581699346,
          0.9052287581699346,
          0.9084967320261438,
          0.9084967320261438,
          0.9117647058823529,
          0.9117647058823529,
          0.9150326797385621,
          0.9150326797385621,
          0.9183006535947712,
          0.9183006535947712,
          0.9215686274509803,
          0.9215686274509803,
          0.9281045751633987,
          0.9281045751633987,
          0.934640522875817,
          0.934640522875817,
          0.9379084967320261,
          0.9379084967320261,
          0.9411764705882353,
          0.9411764705882353,
          0.9444444444444444,
          0.9444444444444444,
          0.9477124183006536,
          0.9477124183006536,
          0.9509803921568627,
          0.9509803921568627,
          0.954248366013072,
          0.954248366013072,
          0.9575163398692811,
          0.9575163398692811,
          0.9607843137254902,
          0.9607843137254902,
          0.9640522875816994,
          0.9640522875816994,
          0.9673202614379085,
          0.9673202614379085,
          0.9705882352941176,
          0.9705882352941176,
          0.9738562091503268,
          0.9738562091503268,
          0.9771241830065359,
          0.9771241830065359,
          0.9803921568627451,
          0.9803921568627451,
          0.9836601307189542,
          0.9836601307189542,
          0.9901960784313726,
          0.9901960784313726,
          0.9934640522875817,
          0.9934640522875817,
          0.9967320261437909,
          0.9967320261437909,
          0.9967320261437909,
          0.9967320261437909,
          0.9967320261437909,
          0.9967320261437909,
          0.9967320261437909,
          0.9967320261437909,
          0.9967320261437909,
          0.9967320261437909,
          0.9967320261437909,
          0.9967320261437909,
          0.9967320261437909,
          0.9967320261437909,
          0.9967320261437909,
          0.9967320261437909,
          0.9967320261437909,
          0.9967320261437909,
          1,
          1
         ]
        },
        {
         "line": {
          "dash": "dot",
          "width": 4
         },
         "mode": "lines",
         "name": "dummy модель",
         "type": "scatter",
         "x": [
          0,
          1
         ],
         "y": [
          0,
          1
         ]
        }
       ],
       "layout": {
        "template": {
         "data": {
          "bar": [
           {
            "error_x": {
             "color": "#2a3f5f"
            },
            "error_y": {
             "color": "#2a3f5f"
            },
            "marker": {
             "line": {
              "color": "#E5ECF6",
              "width": 0.5
             },
             "pattern": {
              "fillmode": "overlay",
              "size": 10,
              "solidity": 0.2
             }
            },
            "type": "bar"
           }
          ],
          "barpolar": [
           {
            "marker": {
             "line": {
              "color": "#E5ECF6",
              "width": 0.5
             },
             "pattern": {
              "fillmode": "overlay",
              "size": 10,
              "solidity": 0.2
             }
            },
            "type": "barpolar"
           }
          ],
          "carpet": [
           {
            "aaxis": {
             "endlinecolor": "#2a3f5f",
             "gridcolor": "white",
             "linecolor": "white",
             "minorgridcolor": "white",
             "startlinecolor": "#2a3f5f"
            },
            "baxis": {
             "endlinecolor": "#2a3f5f",
             "gridcolor": "white",
             "linecolor": "white",
             "minorgridcolor": "white",
             "startlinecolor": "#2a3f5f"
            },
            "type": "carpet"
           }
          ],
          "choropleth": [
           {
            "colorbar": {
             "outlinewidth": 0,
             "ticks": ""
            },
            "type": "choropleth"
           }
          ],
          "contour": [
           {
            "colorbar": {
             "outlinewidth": 0,
             "ticks": ""
            },
            "colorscale": [
             [
              0,
              "#0d0887"
             ],
             [
              0.1111111111111111,
              "#46039f"
             ],
             [
              0.2222222222222222,
              "#7201a8"
             ],
             [
              0.3333333333333333,
              "#9c179e"
             ],
             [
              0.4444444444444444,
              "#bd3786"
             ],
             [
              0.5555555555555556,
              "#d8576b"
             ],
             [
              0.6666666666666666,
              "#ed7953"
             ],
             [
              0.7777777777777778,
              "#fb9f3a"
             ],
             [
              0.8888888888888888,
              "#fdca26"
             ],
             [
              1,
              "#f0f921"
             ]
            ],
            "type": "contour"
           }
          ],
          "contourcarpet": [
           {
            "colorbar": {
             "outlinewidth": 0,
             "ticks": ""
            },
            "type": "contourcarpet"
           }
          ],
          "heatmap": [
           {
            "colorbar": {
             "outlinewidth": 0,
             "ticks": ""
            },
            "colorscale": [
             [
              0,
              "#0d0887"
             ],
             [
              0.1111111111111111,
              "#46039f"
             ],
             [
              0.2222222222222222,
              "#7201a8"
             ],
             [
              0.3333333333333333,
              "#9c179e"
             ],
             [
              0.4444444444444444,
              "#bd3786"
             ],
             [
              0.5555555555555556,
              "#d8576b"
             ],
             [
              0.6666666666666666,
              "#ed7953"
             ],
             [
              0.7777777777777778,
              "#fb9f3a"
             ],
             [
              0.8888888888888888,
              "#fdca26"
             ],
             [
              1,
              "#f0f921"
             ]
            ],
            "type": "heatmap"
           }
          ],
          "heatmapgl": [
           {
            "colorbar": {
             "outlinewidth": 0,
             "ticks": ""
            },
            "colorscale": [
             [
              0,
              "#0d0887"
             ],
             [
              0.1111111111111111,
              "#46039f"
             ],
             [
              0.2222222222222222,
              "#7201a8"
             ],
             [
              0.3333333333333333,
              "#9c179e"
             ],
             [
              0.4444444444444444,
              "#bd3786"
             ],
             [
              0.5555555555555556,
              "#d8576b"
             ],
             [
              0.6666666666666666,
              "#ed7953"
             ],
             [
              0.7777777777777778,
              "#fb9f3a"
             ],
             [
              0.8888888888888888,
              "#fdca26"
             ],
             [
              1,
              "#f0f921"
             ]
            ],
            "type": "heatmapgl"
           }
          ],
          "histogram": [
           {
            "marker": {
             "pattern": {
              "fillmode": "overlay",
              "size": 10,
              "solidity": 0.2
             }
            },
            "type": "histogram"
           }
          ],
          "histogram2d": [
           {
            "colorbar": {
             "outlinewidth": 0,
             "ticks": ""
            },
            "colorscale": [
             [
              0,
              "#0d0887"
             ],
             [
              0.1111111111111111,
              "#46039f"
             ],
             [
              0.2222222222222222,
              "#7201a8"
             ],
             [
              0.3333333333333333,
              "#9c179e"
             ],
             [
              0.4444444444444444,
              "#bd3786"
             ],
             [
              0.5555555555555556,
              "#d8576b"
             ],
             [
              0.6666666666666666,
              "#ed7953"
             ],
             [
              0.7777777777777778,
              "#fb9f3a"
             ],
             [
              0.8888888888888888,
              "#fdca26"
             ],
             [
              1,
              "#f0f921"
             ]
            ],
            "type": "histogram2d"
           }
          ],
          "histogram2dcontour": [
           {
            "colorbar": {
             "outlinewidth": 0,
             "ticks": ""
            },
            "colorscale": [
             [
              0,
              "#0d0887"
             ],
             [
              0.1111111111111111,
              "#46039f"
             ],
             [
              0.2222222222222222,
              "#7201a8"
             ],
             [
              0.3333333333333333,
              "#9c179e"
             ],
             [
              0.4444444444444444,
              "#bd3786"
             ],
             [
              0.5555555555555556,
              "#d8576b"
             ],
             [
              0.6666666666666666,
              "#ed7953"
             ],
             [
              0.7777777777777778,
              "#fb9f3a"
             ],
             [
              0.8888888888888888,
              "#fdca26"
             ],
             [
              1,
              "#f0f921"
             ]
            ],
            "type": "histogram2dcontour"
           }
          ],
          "mesh3d": [
           {
            "colorbar": {
             "outlinewidth": 0,
             "ticks": ""
            },
            "type": "mesh3d"
           }
          ],
          "parcoords": [
           {
            "line": {
             "colorbar": {
              "outlinewidth": 0,
              "ticks": ""
             }
            },
            "type": "parcoords"
           }
          ],
          "pie": [
           {
            "automargin": true,
            "type": "pie"
           }
          ],
          "scatter": [
           {
            "marker": {
             "colorbar": {
              "outlinewidth": 0,
              "ticks": ""
             }
            },
            "type": "scatter"
           }
          ],
          "scatter3d": [
           {
            "line": {
             "colorbar": {
              "outlinewidth": 0,
              "ticks": ""
             }
            },
            "marker": {
             "colorbar": {
              "outlinewidth": 0,
              "ticks": ""
             }
            },
            "type": "scatter3d"
           }
          ],
          "scattercarpet": [
           {
            "marker": {
             "colorbar": {
              "outlinewidth": 0,
              "ticks": ""
             }
            },
            "type": "scattercarpet"
           }
          ],
          "scattergeo": [
           {
            "marker": {
             "colorbar": {
              "outlinewidth": 0,
              "ticks": ""
             }
            },
            "type": "scattergeo"
           }
          ],
          "scattergl": [
           {
            "marker": {
             "colorbar": {
              "outlinewidth": 0,
              "ticks": ""
             }
            },
            "type": "scattergl"
           }
          ],
          "scattermapbox": [
           {
            "marker": {
             "colorbar": {
              "outlinewidth": 0,
              "ticks": ""
             }
            },
            "type": "scattermapbox"
           }
          ],
          "scatterpolar": [
           {
            "marker": {
             "colorbar": {
              "outlinewidth": 0,
              "ticks": ""
             }
            },
            "type": "scatterpolar"
           }
          ],
          "scatterpolargl": [
           {
            "marker": {
             "colorbar": {
              "outlinewidth": 0,
              "ticks": ""
             }
            },
            "type": "scatterpolargl"
           }
          ],
          "scatterternary": [
           {
            "marker": {
             "colorbar": {
              "outlinewidth": 0,
              "ticks": ""
             }
            },
            "type": "scatterternary"
           }
          ],
          "surface": [
           {
            "colorbar": {
             "outlinewidth": 0,
             "ticks": ""
            },
            "colorscale": [
             [
              0,
              "#0d0887"
             ],
             [
              0.1111111111111111,
              "#46039f"
             ],
             [
              0.2222222222222222,
              "#7201a8"
             ],
             [
              0.3333333333333333,
              "#9c179e"
             ],
             [
              0.4444444444444444,
              "#bd3786"
             ],
             [
              0.5555555555555556,
              "#d8576b"
             ],
             [
              0.6666666666666666,
              "#ed7953"
             ],
             [
              0.7777777777777778,
              "#fb9f3a"
             ],
             [
              0.8888888888888888,
              "#fdca26"
             ],
             [
              1,
              "#f0f921"
             ]
            ],
            "type": "surface"
           }
          ],
          "table": [
           {
            "cells": {
             "fill": {
              "color": "#EBF0F8"
             },
             "line": {
              "color": "white"
             }
            },
            "header": {
             "fill": {
              "color": "#C8D4E3"
             },
             "line": {
              "color": "white"
             }
            },
            "type": "table"
           }
          ]
         },
         "layout": {
          "annotationdefaults": {
           "arrowcolor": "#2a3f5f",
           "arrowhead": 0,
           "arrowwidth": 1
          },
          "autotypenumbers": "strict",
          "coloraxis": {
           "colorbar": {
            "outlinewidth": 0,
            "ticks": ""
           }
          },
          "colorscale": {
           "diverging": [
            [
             0,
             "#8e0152"
            ],
            [
             0.1,
             "#c51b7d"
            ],
            [
             0.2,
             "#de77ae"
            ],
            [
             0.3,
             "#f1b6da"
            ],
            [
             0.4,
             "#fde0ef"
            ],
            [
             0.5,
             "#f7f7f7"
            ],
            [
             0.6,
             "#e6f5d0"
            ],
            [
             0.7,
             "#b8e186"
            ],
            [
             0.8,
             "#7fbc41"
            ],
            [
             0.9,
             "#4d9221"
            ],
            [
             1,
             "#276419"
            ]
           ],
           "sequential": [
            [
             0,
             "#0d0887"
            ],
            [
             0.1111111111111111,
             "#46039f"
            ],
            [
             0.2222222222222222,
             "#7201a8"
            ],
            [
             0.3333333333333333,
             "#9c179e"
            ],
            [
             0.4444444444444444,
             "#bd3786"
            ],
            [
             0.5555555555555556,
             "#d8576b"
            ],
            [
             0.6666666666666666,
             "#ed7953"
            ],
            [
             0.7777777777777778,
             "#fb9f3a"
            ],
            [
             0.8888888888888888,
             "#fdca26"
            ],
            [
             1,
             "#f0f921"
            ]
           ],
           "sequentialminus": [
            [
             0,
             "#0d0887"
            ],
            [
             0.1111111111111111,
             "#46039f"
            ],
            [
             0.2222222222222222,
             "#7201a8"
            ],
            [
             0.3333333333333333,
             "#9c179e"
            ],
            [
             0.4444444444444444,
             "#bd3786"
            ],
            [
             0.5555555555555556,
             "#d8576b"
            ],
            [
             0.6666666666666666,
             "#ed7953"
            ],
            [
             0.7777777777777778,
             "#fb9f3a"
            ],
            [
             0.8888888888888888,
             "#fdca26"
            ],
            [
             1,
             "#f0f921"
            ]
           ]
          },
          "colorway": [
           "#636efa",
           "#EF553B",
           "#00cc96",
           "#ab63fa",
           "#FFA15A",
           "#19d3f3",
           "#FF6692",
           "#B6E880",
           "#FF97FF",
           "#FECB52"
          ],
          "font": {
           "color": "#2a3f5f"
          },
          "geo": {
           "bgcolor": "white",
           "lakecolor": "white",
           "landcolor": "#E5ECF6",
           "showlakes": true,
           "showland": true,
           "subunitcolor": "white"
          },
          "hoverlabel": {
           "align": "left"
          },
          "hovermode": "closest",
          "mapbox": {
           "style": "light"
          },
          "paper_bgcolor": "white",
          "plot_bgcolor": "#E5ECF6",
          "polar": {
           "angularaxis": {
            "gridcolor": "white",
            "linecolor": "white",
            "ticks": ""
           },
           "bgcolor": "#E5ECF6",
           "radialaxis": {
            "gridcolor": "white",
            "linecolor": "white",
            "ticks": ""
           }
          },
          "scene": {
           "xaxis": {
            "backgroundcolor": "#E5ECF6",
            "gridcolor": "white",
            "gridwidth": 2,
            "linecolor": "white",
            "showbackground": true,
            "ticks": "",
            "zerolinecolor": "white"
           },
           "yaxis": {
            "backgroundcolor": "#E5ECF6",
            "gridcolor": "white",
            "gridwidth": 2,
            "linecolor": "white",
            "showbackground": true,
            "ticks": "",
            "zerolinecolor": "white"
           },
           "zaxis": {
            "backgroundcolor": "#E5ECF6",
            "gridcolor": "white",
            "gridwidth": 2,
            "linecolor": "white",
            "showbackground": true,
            "ticks": "",
            "zerolinecolor": "white"
           }
          },
          "shapedefaults": {
           "line": {
            "color": "#2a3f5f"
           }
          },
          "ternary": {
           "aaxis": {
            "gridcolor": "white",
            "linecolor": "white",
            "ticks": ""
           },
           "baxis": {
            "gridcolor": "white",
            "linecolor": "white",
            "ticks": ""
           },
           "bgcolor": "#E5ECF6",
           "caxis": {
            "gridcolor": "white",
            "linecolor": "white",
            "ticks": ""
           }
          },
          "title": {
           "x": 0.05
          },
          "xaxis": {
           "automargin": true,
           "gridcolor": "white",
           "linecolor": "white",
           "ticks": "",
           "title": {
            "standoff": 15
           },
           "zerolinecolor": "white",
           "zerolinewidth": 2
          },
          "yaxis": {
           "automargin": true,
           "gridcolor": "white",
           "linecolor": "white",
           "ticks": "",
           "title": {
            "standoff": 15
           },
           "zerolinecolor": "white",
           "zerolinewidth": 2
          }
         }
        }
       }
      },
      "text/html": [
       "<div>                            <div id=\"c95a86b3-e8f0-4d47-a513-c4982bc731df\" class=\"plotly-graph-div\" style=\"height:525px; width:100%;\"></div>            <script type=\"text/javascript\">                require([\"plotly\"], function(Plotly) {                    window.PLOTLYENV=window.PLOTLYENV || {};                                    if (document.getElementById(\"c95a86b3-e8f0-4d47-a513-c4982bc731df\")) {                    Plotly.newPlot(                        \"c95a86b3-e8f0-4d47-a513-c4982bc731df\",                        [{\"name\":\"AUC ROC\",\"x\":[0.0,0.0,0.0,0.0008375209380234506,0.0008375209380234506,0.0016750418760469012,0.0016750418760469012,0.002512562814070352,0.002512562814070352,0.0033500837520938024,0.0033500837520938024,0.008375209380234505,0.008375209380234505,0.009212730318257957,0.009212730318257957,0.010050251256281407,0.010050251256281407,0.010887772194304857,0.010887772194304857,0.011725293132328308,0.011725293132328308,0.01256281407035176,0.01256281407035176,0.01507537688442211,0.01507537688442211,0.015912897822445562,0.015912897822445562,0.01675041876046901,0.01675041876046901,0.017587939698492462,0.017587939698492462,0.020100502512562814,0.020100502512562814,0.020938023450586266,0.020938023450586266,0.021775544388609715,0.021775544388609715,0.022613065326633167,0.022613065326633167,0.023450586264656615,0.023450586264656615,0.02512562814070352,0.02512562814070352,0.025963149078726967,0.025963149078726967,0.02763819095477387,0.02763819095477387,0.02847571189279732,0.02847571189279732,0.03098827470686767,0.03098827470686767,0.035175879396984924,0.035175879396984924,0.036013400335008376,0.036013400335008376,0.03768844221105527,0.03768844221105527,0.038525963149078725,0.038525963149078725,0.03936348408710218,0.03936348408710218,0.04020100502512563,0.04020100502512563,0.04103852596314908,0.04103852596314908,0.04187604690117253,0.04187604690117253,0.04271356783919598,0.04271356783919598,0.04522613065326633,0.04522613065326633,0.04690117252931323,0.04690117252931323,0.04773869346733668,0.04773869346733668,0.048576214405360134,0.048576214405360134,0.051926298157453935,0.051926298157453935,0.052763819095477386,0.052763819095477386,0.05360134003350084,0.05360134003350084,0.05443886097152429,0.05443886097152429,0.05527638190954774,0.05527638190954774,0.05611390284757119,0.05611390284757119,0.06030150753768844,0.06030150753768844,0.06281407035175879,0.06281407035175879,0.06448911222780569,0.06448911222780569,0.07035175879396985,0.07035175879396985,0.0711892797319933,0.0711892797319933,0.08040201005025126,0.08040201005025126,0.08207705192629816,0.08207705192629816,0.0829145728643216,0.0829145728643216,0.08626465661641541,0.08626465661641541,0.08710217755443886,0.08710217755443886,0.09128978224455611,0.09128978224455611,0.09631490787269682,0.09631490787269682,0.09715242881072027,0.09715242881072027,0.09882747068676717,0.09882747068676717,0.10134003350083752,0.10134003350083752,0.10217755443886097,0.10217755443886097,0.10301507537688442,0.10301507537688442,0.10552763819095477,0.10552763819095477,0.10636515912897822,0.10636515912897822,0.10804020100502512,0.10804020100502512,0.10971524288107203,0.10971524288107203,0.11055276381909548,0.11055276381909548,0.11222780569514237,0.11222780569514237,0.11306532663316583,0.11306532663316583,0.11390284757118928,0.11390284757118928,0.11557788944723618,0.11557788944723618,0.11641541038525963,0.11641541038525963,0.11892797319932999,0.11892797319932999,0.12144053601340034,0.12144053601340034,0.12311557788944724,0.12311557788944724,0.12646566164154105,0.12646566164154105,0.13316582914572864,0.13316582914572864,0.1407035175879397,0.1407035175879397,0.1474036850921273,0.1474036850921273,0.152428810720268,0.152428810720268,0.15661641541038526,0.15661641541038526,0.1658291457286432,0.1658291457286432,0.16666666666666666,0.16666666666666666,0.16834170854271358,0.16834170854271358,0.17169179229480738,0.17169179229480738,0.17336683417085427,0.17336683417085427,0.17504187604690116,0.17504187604690116,0.18090452261306533,0.18090452261306533,0.18425460636515914,0.18425460636515914,0.18676716917922948,0.18676716917922948,0.18927973199329984,0.18927973199329984,0.19430485762144054,0.19430485762144054,0.19514237855946398,0.19514237855946398,0.19597989949748743,0.19597989949748743,0.2051926298157454,0.2051926298157454,0.211892797319933,0.211892797319933,0.21608040201005024,0.21608040201005024,0.22529313232830822,0.22529313232830822,0.23450586264656617,0.23450586264656617,0.2370184254606365,0.2370184254606365,0.23785594639865998,0.23785594639865998,0.24371859296482412,0.24371859296482412,0.245393634840871,0.245393634840871,0.24958123953098826,0.24958123953098826,0.2529313232830821,0.2529313232830821,0.2562814070351759,0.2562814070351759,0.25963149078726966,0.25963149078726966,0.2629815745393635,0.2629815745393635,0.2646566164154104,0.2646566164154104,0.2663316582914573,0.2663316582914573,0.26800670016750416,0.26800670016750416,0.26884422110552764,0.26884422110552764,0.27721943048576214,0.27721943048576214,0.28559463986599665,0.28559463986599665,0.288107202680067,0.288107202680067,0.2981574539363484,0.2981574539363484,0.304857621440536,0.304857621440536,0.3098827470686767,0.3098827470686767,0.314070351758794,0.314070351758794,0.32998324958123953,0.32998324958123953,0.3324958123953099,0.3324958123953099,0.3358458961474037,0.3358458961474037,0.36348408710217756,0.36348408710217756,0.39112227805695143,0.39112227805695143,0.39195979899497485,0.39195979899497485,0.4028475711892797,0.4028475711892797,0.4112227805695142,0.4112227805695142,0.4137353433835846,0.4137353433835846,0.41708542713567837,0.41708542713567837,0.4296482412060301,0.4296482412060301,0.43132328308207707,0.43132328308207707,0.4388609715242881,0.4388609715242881,0.440536013400335,0.440536013400335,0.4472361809045226,0.4472361809045226,0.49246231155778897,0.49246231155778897,0.4932998324958124,0.4932998324958124,0.5008375209380235,0.5008375209380235,0.5083752093802345,0.5083752093802345,0.5175879396984925,0.5175879396984925,0.5251256281407035,0.5251256281407035,0.5385259631490787,0.5385259631490787,0.5804020100502513,0.5804020100502513,0.5862646566164154,0.5862646566164154,0.6038525963149078,0.6038525963149078,0.6164154103852596,0.6164154103852596,0.626465661641541,0.626465661641541,0.6390284757118928,0.6390284757118928,0.6490787269681743,0.6490787269681743,0.6541038525963149,0.6541038525963149,0.6591289782244556,0.6591289782244556,0.6641541038525963,0.6641541038525963,0.6649916247906198,0.6649916247906198,0.7102177554438861,0.7102177554438861,0.7386934673366834,0.7386934673366834,0.8098827470686767,0.8098827470686767,0.8425460636515912,0.8425460636515912,0.871859296482412,0.871859296482412,0.9137353433835846,0.9154103852596315,0.9363484087102177,0.9380234505862647,0.9547738693467337,0.9564489112227805,0.9606365159128978,0.9623115577889447,0.9698492462311558,0.9715242881072027,0.974036850921273,0.9765494137353434,0.9773869346733668,0.9790619765494137,0.9899497487437185,0.9916247906197655,0.9949748743718593,0.9949748743718593,1.0],\"y\":[0.0,0.0032679738562091504,0.07516339869281045,0.07516339869281045,0.08169934640522876,0.08169934640522876,0.16013071895424835,0.16013071895424835,0.17973856209150327,0.17973856209150327,0.19281045751633988,0.19281045751633988,0.19607843137254902,0.19607843137254902,0.2222222222222222,0.2222222222222222,0.22549019607843138,0.22549019607843138,0.23202614379084968,0.23202614379084968,0.24183006535947713,0.24183006535947713,0.28104575163398693,0.28104575163398693,0.3104575163398693,0.3104575163398693,0.31699346405228757,0.31699346405228757,0.3202614379084967,0.3202614379084967,0.3333333333333333,0.3333333333333333,0.3431372549019608,0.3431372549019608,0.35294117647058826,0.35294117647058826,0.3660130718954248,0.3660130718954248,0.369281045751634,0.369281045751634,0.3790849673202614,0.3790849673202614,0.38235294117647056,0.38235294117647056,0.39215686274509803,0.39215686274509803,0.3954248366013072,0.3954248366013072,0.39869281045751637,0.39869281045751637,0.4019607843137255,0.4019607843137255,0.4150326797385621,0.4150326797385621,0.4215686274509804,0.4215686274509804,0.42483660130718953,0.42483660130718953,0.43790849673202614,0.43790849673202614,0.45098039215686275,0.45098039215686275,0.45751633986928103,0.45751633986928103,0.46078431372549017,0.46078431372549017,0.4673202614379085,0.4673202614379085,0.47058823529411764,0.47058823529411764,0.4738562091503268,0.4738562091503268,0.477124183006536,0.477124183006536,0.48366013071895425,0.48366013071895425,0.49019607843137253,0.49019607843137253,0.4934640522875817,0.4934640522875817,0.49673202614379086,0.49673202614379086,0.5196078431372549,0.5196078431372549,0.5359477124183006,0.5359477124183006,0.5424836601307189,0.5424836601307189,0.545751633986928,0.545751633986928,0.5490196078431373,0.5490196078431373,0.5522875816993464,0.5522875816993464,0.5620915032679739,0.5620915032679739,0.565359477124183,0.565359477124183,0.5686274509803921,0.5686274509803921,0.5784313725490197,0.5784313725490197,0.5816993464052288,0.5816993464052288,0.5915032679738562,0.5915032679738562,0.5980392156862745,0.5980392156862745,0.6013071895424836,0.6013071895424836,0.6078431372549019,0.6078431372549019,0.6111111111111112,0.6111111111111112,0.6176470588235294,0.6176470588235294,0.6209150326797386,0.6209150326797386,0.6241830065359477,0.6241830065359477,0.6274509803921569,0.6274509803921569,0.630718954248366,0.630718954248366,0.6405228758169934,0.6405228758169934,0.6437908496732027,0.6437908496732027,0.6470588235294118,0.6470588235294118,0.6568627450980392,0.6568627450980392,0.6601307189542484,0.6601307189542484,0.6633986928104575,0.6633986928104575,0.6666666666666666,0.6666666666666666,0.6699346405228758,0.6699346405228758,0.673202614379085,0.673202614379085,0.6764705882352942,0.6764705882352942,0.6797385620915033,0.6797385620915033,0.6830065359477124,0.6830065359477124,0.6862745098039216,0.6862745098039216,0.6895424836601307,0.6895424836601307,0.6928104575163399,0.6928104575163399,0.696078431372549,0.696078431372549,0.7026143790849673,0.7026143790849673,0.7058823529411765,0.7058823529411765,0.7156862745098039,0.7156862745098039,0.7189542483660131,0.7189542483660131,0.7222222222222222,0.7222222222222222,0.7254901960784313,0.7254901960784313,0.7287581699346405,0.7287581699346405,0.7320261437908496,0.7320261437908496,0.7352941176470589,0.7352941176470589,0.738562091503268,0.738562091503268,0.7418300653594772,0.7418300653594772,0.7450980392156863,0.7450980392156863,0.7483660130718954,0.7483660130718954,0.7549019607843137,0.7549019607843137,0.761437908496732,0.761437908496732,0.7679738562091504,0.7679738562091504,0.7712418300653595,0.7712418300653595,0.7810457516339869,0.7810457516339869,0.7843137254901961,0.7843137254901961,0.7875816993464052,0.7875816993464052,0.7908496732026143,0.7908496732026143,0.7941176470588235,0.7941176470588235,0.7973856209150327,0.7973856209150327,0.8006535947712419,0.8006535947712419,0.803921568627451,0.803921568627451,0.8104575163398693,0.8104575163398693,0.8137254901960784,0.8137254901960784,0.8169934640522876,0.8169934640522876,0.8202614379084967,0.8202614379084967,0.8235294117647058,0.8235294117647058,0.826797385620915,0.826797385620915,0.8300653594771242,0.8300653594771242,0.8333333333333334,0.8333333333333334,0.8366013071895425,0.8366013071895425,0.8398692810457516,0.8398692810457516,0.8431372549019608,0.8431372549019608,0.8464052287581699,0.8464052287581699,0.8496732026143791,0.8496732026143791,0.8562091503267973,0.8562091503267973,0.8594771241830066,0.8594771241830066,0.8627450980392157,0.8627450980392157,0.8660130718954249,0.8660130718954249,0.869281045751634,0.869281045751634,0.8725490196078431,0.8725490196078431,0.8758169934640523,0.8758169934640523,0.8790849673202614,0.8790849673202614,0.8823529411764706,0.8823529411764706,0.8856209150326797,0.8856209150326797,0.8888888888888888,0.8888888888888888,0.8921568627450981,0.8921568627450981,0.8954248366013072,0.8954248366013072,0.8986928104575164,0.8986928104575164,0.9019607843137255,0.9019607843137255,0.9052287581699346,0.9052287581699346,0.9084967320261438,0.9084967320261438,0.9117647058823529,0.9117647058823529,0.9150326797385621,0.9150326797385621,0.9183006535947712,0.9183006535947712,0.9215686274509803,0.9215686274509803,0.9281045751633987,0.9281045751633987,0.934640522875817,0.934640522875817,0.9379084967320261,0.9379084967320261,0.9411764705882353,0.9411764705882353,0.9444444444444444,0.9444444444444444,0.9477124183006536,0.9477124183006536,0.9509803921568627,0.9509803921568627,0.954248366013072,0.954248366013072,0.9575163398692811,0.9575163398692811,0.9607843137254902,0.9607843137254902,0.9640522875816994,0.9640522875816994,0.9673202614379085,0.9673202614379085,0.9705882352941176,0.9705882352941176,0.9738562091503268,0.9738562091503268,0.9771241830065359,0.9771241830065359,0.9803921568627451,0.9803921568627451,0.9836601307189542,0.9836601307189542,0.9901960784313726,0.9901960784313726,0.9934640522875817,0.9934640522875817,0.9967320261437909,0.9967320261437909,0.9967320261437909,0.9967320261437909,0.9967320261437909,0.9967320261437909,0.9967320261437909,0.9967320261437909,0.9967320261437909,0.9967320261437909,0.9967320261437909,0.9967320261437909,0.9967320261437909,0.9967320261437909,0.9967320261437909,0.9967320261437909,0.9967320261437909,0.9967320261437909,1.0,1.0],\"type\":\"scatter\"},{\"line\":{\"dash\":\"dot\",\"width\":4},\"mode\":\"lines\",\"name\":\"dummy \\u043c\\u043e\\u0434\\u0435\\u043b\\u044c\",\"x\":[0,1],\"y\":[0,1],\"type\":\"scatter\"}],                        {\"template\":{\"data\":{\"bar\":[{\"error_x\":{\"color\":\"#2a3f5f\"},\"error_y\":{\"color\":\"#2a3f5f\"},\"marker\":{\"line\":{\"color\":\"#E5ECF6\",\"width\":0.5},\"pattern\":{\"fillmode\":\"overlay\",\"size\":10,\"solidity\":0.2}},\"type\":\"bar\"}],\"barpolar\":[{\"marker\":{\"line\":{\"color\":\"#E5ECF6\",\"width\":0.5},\"pattern\":{\"fillmode\":\"overlay\",\"size\":10,\"solidity\":0.2}},\"type\":\"barpolar\"}],\"carpet\":[{\"aaxis\":{\"endlinecolor\":\"#2a3f5f\",\"gridcolor\":\"white\",\"linecolor\":\"white\",\"minorgridcolor\":\"white\",\"startlinecolor\":\"#2a3f5f\"},\"baxis\":{\"endlinecolor\":\"#2a3f5f\",\"gridcolor\":\"white\",\"linecolor\":\"white\",\"minorgridcolor\":\"white\",\"startlinecolor\":\"#2a3f5f\"},\"type\":\"carpet\"}],\"choropleth\":[{\"colorbar\":{\"outlinewidth\":0,\"ticks\":\"\"},\"type\":\"choropleth\"}],\"contour\":[{\"colorbar\":{\"outlinewidth\":0,\"ticks\":\"\"},\"colorscale\":[[0.0,\"#0d0887\"],[0.1111111111111111,\"#46039f\"],[0.2222222222222222,\"#7201a8\"],[0.3333333333333333,\"#9c179e\"],[0.4444444444444444,\"#bd3786\"],[0.5555555555555556,\"#d8576b\"],[0.6666666666666666,\"#ed7953\"],[0.7777777777777778,\"#fb9f3a\"],[0.8888888888888888,\"#fdca26\"],[1.0,\"#f0f921\"]],\"type\":\"contour\"}],\"contourcarpet\":[{\"colorbar\":{\"outlinewidth\":0,\"ticks\":\"\"},\"type\":\"contourcarpet\"}],\"heatmap\":[{\"colorbar\":{\"outlinewidth\":0,\"ticks\":\"\"},\"colorscale\":[[0.0,\"#0d0887\"],[0.1111111111111111,\"#46039f\"],[0.2222222222222222,\"#7201a8\"],[0.3333333333333333,\"#9c179e\"],[0.4444444444444444,\"#bd3786\"],[0.5555555555555556,\"#d8576b\"],[0.6666666666666666,\"#ed7953\"],[0.7777777777777778,\"#fb9f3a\"],[0.8888888888888888,\"#fdca26\"],[1.0,\"#f0f921\"]],\"type\":\"heatmap\"}],\"heatmapgl\":[{\"colorbar\":{\"outlinewidth\":0,\"ticks\":\"\"},\"colorscale\":[[0.0,\"#0d0887\"],[0.1111111111111111,\"#46039f\"],[0.2222222222222222,\"#7201a8\"],[0.3333333333333333,\"#9c179e\"],[0.4444444444444444,\"#bd3786\"],[0.5555555555555556,\"#d8576b\"],[0.6666666666666666,\"#ed7953\"],[0.7777777777777778,\"#fb9f3a\"],[0.8888888888888888,\"#fdca26\"],[1.0,\"#f0f921\"]],\"type\":\"heatmapgl\"}],\"histogram\":[{\"marker\":{\"pattern\":{\"fillmode\":\"overlay\",\"size\":10,\"solidity\":0.2}},\"type\":\"histogram\"}],\"histogram2d\":[{\"colorbar\":{\"outlinewidth\":0,\"ticks\":\"\"},\"colorscale\":[[0.0,\"#0d0887\"],[0.1111111111111111,\"#46039f\"],[0.2222222222222222,\"#7201a8\"],[0.3333333333333333,\"#9c179e\"],[0.4444444444444444,\"#bd3786\"],[0.5555555555555556,\"#d8576b\"],[0.6666666666666666,\"#ed7953\"],[0.7777777777777778,\"#fb9f3a\"],[0.8888888888888888,\"#fdca26\"],[1.0,\"#f0f921\"]],\"type\":\"histogram2d\"}],\"histogram2dcontour\":[{\"colorbar\":{\"outlinewidth\":0,\"ticks\":\"\"},\"colorscale\":[[0.0,\"#0d0887\"],[0.1111111111111111,\"#46039f\"],[0.2222222222222222,\"#7201a8\"],[0.3333333333333333,\"#9c179e\"],[0.4444444444444444,\"#bd3786\"],[0.5555555555555556,\"#d8576b\"],[0.6666666666666666,\"#ed7953\"],[0.7777777777777778,\"#fb9f3a\"],[0.8888888888888888,\"#fdca26\"],[1.0,\"#f0f921\"]],\"type\":\"histogram2dcontour\"}],\"mesh3d\":[{\"colorbar\":{\"outlinewidth\":0,\"ticks\":\"\"},\"type\":\"mesh3d\"}],\"parcoords\":[{\"line\":{\"colorbar\":{\"outlinewidth\":0,\"ticks\":\"\"}},\"type\":\"parcoords\"}],\"pie\":[{\"automargin\":true,\"type\":\"pie\"}],\"scatter\":[{\"marker\":{\"colorbar\":{\"outlinewidth\":0,\"ticks\":\"\"}},\"type\":\"scatter\"}],\"scatter3d\":[{\"line\":{\"colorbar\":{\"outlinewidth\":0,\"ticks\":\"\"}},\"marker\":{\"colorbar\":{\"outlinewidth\":0,\"ticks\":\"\"}},\"type\":\"scatter3d\"}],\"scattercarpet\":[{\"marker\":{\"colorbar\":{\"outlinewidth\":0,\"ticks\":\"\"}},\"type\":\"scattercarpet\"}],\"scattergeo\":[{\"marker\":{\"colorbar\":{\"outlinewidth\":0,\"ticks\":\"\"}},\"type\":\"scattergeo\"}],\"scattergl\":[{\"marker\":{\"colorbar\":{\"outlinewidth\":0,\"ticks\":\"\"}},\"type\":\"scattergl\"}],\"scattermapbox\":[{\"marker\":{\"colorbar\":{\"outlinewidth\":0,\"ticks\":\"\"}},\"type\":\"scattermapbox\"}],\"scatterpolar\":[{\"marker\":{\"colorbar\":{\"outlinewidth\":0,\"ticks\":\"\"}},\"type\":\"scatterpolar\"}],\"scatterpolargl\":[{\"marker\":{\"colorbar\":{\"outlinewidth\":0,\"ticks\":\"\"}},\"type\":\"scatterpolargl\"}],\"scatterternary\":[{\"marker\":{\"colorbar\":{\"outlinewidth\":0,\"ticks\":\"\"}},\"type\":\"scatterternary\"}],\"surface\":[{\"colorbar\":{\"outlinewidth\":0,\"ticks\":\"\"},\"colorscale\":[[0.0,\"#0d0887\"],[0.1111111111111111,\"#46039f\"],[0.2222222222222222,\"#7201a8\"],[0.3333333333333333,\"#9c179e\"],[0.4444444444444444,\"#bd3786\"],[0.5555555555555556,\"#d8576b\"],[0.6666666666666666,\"#ed7953\"],[0.7777777777777778,\"#fb9f3a\"],[0.8888888888888888,\"#fdca26\"],[1.0,\"#f0f921\"]],\"type\":\"surface\"}],\"table\":[{\"cells\":{\"fill\":{\"color\":\"#EBF0F8\"},\"line\":{\"color\":\"white\"}},\"header\":{\"fill\":{\"color\":\"#C8D4E3\"},\"line\":{\"color\":\"white\"}},\"type\":\"table\"}]},\"layout\":{\"annotationdefaults\":{\"arrowcolor\":\"#2a3f5f\",\"arrowhead\":0,\"arrowwidth\":1},\"autotypenumbers\":\"strict\",\"coloraxis\":{\"colorbar\":{\"outlinewidth\":0,\"ticks\":\"\"}},\"colorscale\":{\"diverging\":[[0,\"#8e0152\"],[0.1,\"#c51b7d\"],[0.2,\"#de77ae\"],[0.3,\"#f1b6da\"],[0.4,\"#fde0ef\"],[0.5,\"#f7f7f7\"],[0.6,\"#e6f5d0\"],[0.7,\"#b8e186\"],[0.8,\"#7fbc41\"],[0.9,\"#4d9221\"],[1,\"#276419\"]],\"sequential\":[[0.0,\"#0d0887\"],[0.1111111111111111,\"#46039f\"],[0.2222222222222222,\"#7201a8\"],[0.3333333333333333,\"#9c179e\"],[0.4444444444444444,\"#bd3786\"],[0.5555555555555556,\"#d8576b\"],[0.6666666666666666,\"#ed7953\"],[0.7777777777777778,\"#fb9f3a\"],[0.8888888888888888,\"#fdca26\"],[1.0,\"#f0f921\"]],\"sequentialminus\":[[0.0,\"#0d0887\"],[0.1111111111111111,\"#46039f\"],[0.2222222222222222,\"#7201a8\"],[0.3333333333333333,\"#9c179e\"],[0.4444444444444444,\"#bd3786\"],[0.5555555555555556,\"#d8576b\"],[0.6666666666666666,\"#ed7953\"],[0.7777777777777778,\"#fb9f3a\"],[0.8888888888888888,\"#fdca26\"],[1.0,\"#f0f921\"]]},\"colorway\":[\"#636efa\",\"#EF553B\",\"#00cc96\",\"#ab63fa\",\"#FFA15A\",\"#19d3f3\",\"#FF6692\",\"#B6E880\",\"#FF97FF\",\"#FECB52\"],\"font\":{\"color\":\"#2a3f5f\"},\"geo\":{\"bgcolor\":\"white\",\"lakecolor\":\"white\",\"landcolor\":\"#E5ECF6\",\"showlakes\":true,\"showland\":true,\"subunitcolor\":\"white\"},\"hoverlabel\":{\"align\":\"left\"},\"hovermode\":\"closest\",\"mapbox\":{\"style\":\"light\"},\"paper_bgcolor\":\"white\",\"plot_bgcolor\":\"#E5ECF6\",\"polar\":{\"angularaxis\":{\"gridcolor\":\"white\",\"linecolor\":\"white\",\"ticks\":\"\"},\"bgcolor\":\"#E5ECF6\",\"radialaxis\":{\"gridcolor\":\"white\",\"linecolor\":\"white\",\"ticks\":\"\"}},\"scene\":{\"xaxis\":{\"backgroundcolor\":\"#E5ECF6\",\"gridcolor\":\"white\",\"gridwidth\":2,\"linecolor\":\"white\",\"showbackground\":true,\"ticks\":\"\",\"zerolinecolor\":\"white\"},\"yaxis\":{\"backgroundcolor\":\"#E5ECF6\",\"gridcolor\":\"white\",\"gridwidth\":2,\"linecolor\":\"white\",\"showbackground\":true,\"ticks\":\"\",\"zerolinecolor\":\"white\"},\"zaxis\":{\"backgroundcolor\":\"#E5ECF6\",\"gridcolor\":\"white\",\"gridwidth\":2,\"linecolor\":\"white\",\"showbackground\":true,\"ticks\":\"\",\"zerolinecolor\":\"white\"}},\"shapedefaults\":{\"line\":{\"color\":\"#2a3f5f\"}},\"ternary\":{\"aaxis\":{\"gridcolor\":\"white\",\"linecolor\":\"white\",\"ticks\":\"\"},\"baxis\":{\"gridcolor\":\"white\",\"linecolor\":\"white\",\"ticks\":\"\"},\"bgcolor\":\"#E5ECF6\",\"caxis\":{\"gridcolor\":\"white\",\"linecolor\":\"white\",\"ticks\":\"\"}},\"title\":{\"x\":0.05},\"xaxis\":{\"automargin\":true,\"gridcolor\":\"white\",\"linecolor\":\"white\",\"ticks\":\"\",\"title\":{\"standoff\":15},\"zerolinecolor\":\"white\",\"zerolinewidth\":2},\"yaxis\":{\"automargin\":true,\"gridcolor\":\"white\",\"linecolor\":\"white\",\"ticks\":\"\",\"title\":{\"standoff\":15},\"zerolinecolor\":\"white\",\"zerolinewidth\":2}}}},                        {\"responsive\": true}                    ).then(function(){\n",
       "                            \n",
       "var gd = document.getElementById('c95a86b3-e8f0-4d47-a513-c4982bc731df');\n",
       "var x = new MutationObserver(function (mutations, observer) {{\n",
       "        var display = window.getComputedStyle(gd).display;\n",
       "        if (!display || display === 'none') {{\n",
       "            console.log([gd, 'removed!']);\n",
       "            Plotly.purge(gd);\n",
       "            observer.disconnect();\n",
       "        }}\n",
       "}});\n",
       "\n",
       "// Listen for the removal of the full notebook cells\n",
       "var notebookContainer = gd.closest('#notebook-container');\n",
       "if (notebookContainer) {{\n",
       "    x.observe(notebookContainer, {childList: true});\n",
       "}}\n",
       "\n",
       "// Listen for the clearing of the current output cell\n",
       "var outputEl = gd.closest('.output');\n",
       "if (outputEl) {{\n",
       "    x.observe(outputEl, {childList: true});\n",
       "}}\n",
       "\n",
       "                        })                };                });            </script>        </div>"
      ]
     },
     "metadata": {},
     "output_type": "display_data"
    }
   ],
   "source": [
    "proba_valid = rf_gs_dis_up_test.predict_proba(features_valid)\n",
    "proba_one_valid = proba_valid[:, 1]\n",
    "fpr, tpr, thresholds = roc_curve(target_valid, proba_one_valid)\n",
    "\n",
    "fig = go.Figure()\n",
    "fig.add_trace(go.Scatter(x=fpr,y=tpr,name='AUC ROC'))\n",
    "\n",
    "fig.add_trace(go.Scatter(x=[0, 1],y=[0, 1],line = dict(width=4, dash='dot'),mode=('lines'),name='dummy модель'))\n",
    "\n",
    "fig.show()"
   ]
  },
  {
   "cell_type": "markdown",
   "metadata": {},
   "source": [
    "## Вывод"
   ]
  },
  {
   "cell_type": "markdown",
   "metadata": {},
   "source": [
    "---в работе были предоставлены довольно чистые данные, без аномалий, без выбросов. с ними было легко сделать предподготовку\n",
    "\n",
    "---данные обработаны доступными способами, и были переданы в модели для дальнейшей работы\n",
    "\n",
    "---после предподготовки было совершено разеделение на выборки, после ОНЕ кодирование и масштабирование\n",
    "\n",
    "---в первом блоке использованны модели, такие как решающее дерево(DT), логистическая регрессия (LR) и случайный лес (RF) без дополнительных гиперпараметров, но с функцией GridSearch\n",
    "\n",
    "---в дальнейшем использованно взвешивание классов и увеличение выборки, т.к. в целевой колонке был явный дисбаланс\n",
    "\n",
    "---из приведенных метрик видно, что качество моделей улучшается, при применении  необходимых инструментов. при использовании увеличенной выборки с RF и DT была превышена метрика F1, что обяснятся закономерным увеличением целового признака\n",
    "\n",
    "---для теста выбрана модель RF и достигнута необходимая точность F1 метрики, ROC AUC кривая не совпадает со случайной моделью\n",
    "\n",
    "---цели проекта достигнуты и для дальнейшей работы считаю возможным улучшение модели\n"
   ]
  }
 ],
 "metadata": {
  "ExecuteTimeLog": [
   {
    "duration": 398,
    "start_time": "2022-12-29T08:49:52.303Z"
   },
   {
    "duration": 69,
    "start_time": "2022-12-29T08:51:25.593Z"
   },
   {
    "duration": 82,
    "start_time": "2022-12-29T08:51:39.033Z"
   },
   {
    "duration": 22,
    "start_time": "2022-12-29T08:51:49.942Z"
   },
   {
    "duration": 43,
    "start_time": "2022-12-29T09:05:54.971Z"
   },
   {
    "duration": 13,
    "start_time": "2022-12-29T09:05:55.478Z"
   },
   {
    "duration": 43,
    "start_time": "2023-01-03T06:41:57.174Z"
   },
   {
    "duration": 6,
    "start_time": "2023-01-03T06:42:00.584Z"
   },
   {
    "duration": 5,
    "start_time": "2023-01-03T06:42:00.939Z"
   },
   {
    "duration": 378,
    "start_time": "2023-01-03T06:42:06.228Z"
   },
   {
    "duration": 76,
    "start_time": "2023-01-03T06:42:06.706Z"
   },
   {
    "duration": 18,
    "start_time": "2023-01-03T06:42:07.347Z"
   },
   {
    "duration": 25,
    "start_time": "2023-01-03T06:42:08.120Z"
   },
   {
    "duration": 13,
    "start_time": "2023-01-03T06:42:28.520Z"
   },
   {
    "duration": 4,
    "start_time": "2023-01-03T06:44:01.095Z"
   },
   {
    "duration": 11,
    "start_time": "2023-01-03T06:44:11.632Z"
   },
   {
    "duration": 10,
    "start_time": "2023-01-03T06:44:56.706Z"
   },
   {
    "duration": 8,
    "start_time": "2023-01-03T06:45:02.216Z"
   },
   {
    "duration": 8,
    "start_time": "2023-01-03T06:46:19.693Z"
   },
   {
    "duration": 8,
    "start_time": "2023-01-03T06:46:26.131Z"
   },
   {
    "duration": 14,
    "start_time": "2023-01-03T06:46:26.336Z"
   },
   {
    "duration": 8,
    "start_time": "2023-01-03T06:46:42.866Z"
   },
   {
    "duration": 3,
    "start_time": "2023-01-03T06:48:25.368Z"
   },
   {
    "duration": 11,
    "start_time": "2023-01-03T06:48:26.638Z"
   },
   {
    "duration": 7,
    "start_time": "2023-01-03T06:54:41.216Z"
   },
   {
    "duration": 14,
    "start_time": "2023-01-03T06:55:05.192Z"
   },
   {
    "duration": 12,
    "start_time": "2023-01-03T06:56:59.935Z"
   },
   {
    "duration": 12,
    "start_time": "2023-01-03T06:57:44.478Z"
   },
   {
    "duration": 41,
    "start_time": "2023-01-03T06:57:53.469Z"
   },
   {
    "duration": 13,
    "start_time": "2023-01-03T06:57:53.873Z"
   },
   {
    "duration": 3,
    "start_time": "2023-01-03T06:57:54.446Z"
   },
   {
    "duration": 16,
    "start_time": "2023-01-03T06:57:54.886Z"
   },
   {
    "duration": 14,
    "start_time": "2023-01-03T06:57:55.952Z"
   },
   {
    "duration": 12,
    "start_time": "2023-01-03T06:59:23.422Z"
   },
   {
    "duration": 16,
    "start_time": "2023-01-03T06:59:35.748Z"
   },
   {
    "duration": 10,
    "start_time": "2023-01-03T06:59:49.637Z"
   },
   {
    "duration": 38,
    "start_time": "2023-01-03T06:59:59.785Z"
   },
   {
    "duration": 14,
    "start_time": "2023-01-03T07:00:00.184Z"
   },
   {
    "duration": 3,
    "start_time": "2023-01-03T07:00:00.544Z"
   },
   {
    "duration": 13,
    "start_time": "2023-01-03T07:00:00.870Z"
   },
   {
    "duration": 11,
    "start_time": "2023-01-03T07:00:01.691Z"
   },
   {
    "duration": 11,
    "start_time": "2023-01-03T07:01:20.957Z"
   },
   {
    "duration": 42,
    "start_time": "2023-01-03T07:01:29.403Z"
   },
   {
    "duration": 14,
    "start_time": "2023-01-03T07:01:30.042Z"
   },
   {
    "duration": 4,
    "start_time": "2023-01-03T07:01:30.882Z"
   },
   {
    "duration": 20,
    "start_time": "2023-01-03T07:01:31.759Z"
   },
   {
    "duration": 15,
    "start_time": "2023-01-03T07:01:34.046Z"
   },
   {
    "duration": 11,
    "start_time": "2023-01-03T07:04:14.650Z"
   },
   {
    "duration": 39,
    "start_time": "2023-01-03T07:04:22.052Z"
   },
   {
    "duration": 13,
    "start_time": "2023-01-03T07:04:22.418Z"
   },
   {
    "duration": 3,
    "start_time": "2023-01-03T07:04:23.201Z"
   },
   {
    "duration": 13,
    "start_time": "2023-01-03T07:04:23.755Z"
   },
   {
    "duration": 17,
    "start_time": "2023-01-03T07:04:24.571Z"
   },
   {
    "duration": 38,
    "start_time": "2023-01-03T07:07:19.801Z"
   },
   {
    "duration": 11,
    "start_time": "2023-01-03T07:07:20.253Z"
   },
   {
    "duration": 3,
    "start_time": "2023-01-03T07:07:20.744Z"
   },
   {
    "duration": 16,
    "start_time": "2023-01-03T07:07:21.456Z"
   },
   {
    "duration": 19,
    "start_time": "2023-01-03T07:07:22.853Z"
   },
   {
    "duration": 12,
    "start_time": "2023-01-03T07:10:44.715Z"
   },
   {
    "duration": 7,
    "start_time": "2023-01-03T07:33:49.952Z"
   },
   {
    "duration": 620,
    "start_time": "2023-01-03T07:33:56.241Z"
   },
   {
    "duration": 38,
    "start_time": "2023-01-03T07:34:00.425Z"
   },
   {
    "duration": 17,
    "start_time": "2023-01-03T07:34:10.208Z"
   },
   {
    "duration": 13,
    "start_time": "2023-01-03T07:34:42.342Z"
   },
   {
    "duration": 3,
    "start_time": "2023-01-03T07:34:54.570Z"
   },
   {
    "duration": 41,
    "start_time": "2023-01-03T07:34:54.914Z"
   },
   {
    "duration": 12,
    "start_time": "2023-01-03T07:34:55.300Z"
   },
   {
    "duration": 3,
    "start_time": "2023-01-03T07:34:55.580Z"
   },
   {
    "duration": 12,
    "start_time": "2023-01-03T07:34:55.979Z"
   },
   {
    "duration": 14,
    "start_time": "2023-01-03T07:34:56.907Z"
   },
   {
    "duration": 44,
    "start_time": "2023-01-03T07:34:57.342Z"
   },
   {
    "duration": 12,
    "start_time": "2023-01-03T07:34:57.696Z"
   },
   {
    "duration": 4,
    "start_time": "2023-01-03T07:35:38.454Z"
   },
   {
    "duration": 204,
    "start_time": "2023-01-03T07:35:46.065Z"
   },
   {
    "duration": 3,
    "start_time": "2023-01-03T07:35:52.775Z"
   },
   {
    "duration": 40,
    "start_time": "2023-01-03T07:35:52.779Z"
   },
   {
    "duration": 14,
    "start_time": "2023-01-03T07:35:52.821Z"
   },
   {
    "duration": 8,
    "start_time": "2023-01-03T07:35:52.836Z"
   },
   {
    "duration": 14,
    "start_time": "2023-01-03T07:35:52.846Z"
   },
   {
    "duration": 12,
    "start_time": "2023-01-03T07:35:52.862Z"
   },
   {
    "duration": 45,
    "start_time": "2023-01-03T07:35:52.876Z"
   },
   {
    "duration": 0,
    "start_time": "2023-01-03T07:35:52.923Z"
   },
   {
    "duration": 12,
    "start_time": "2023-01-03T07:36:03.114Z"
   },
   {
    "duration": 10,
    "start_time": "2023-01-03T07:36:07.857Z"
   },
   {
    "duration": 203,
    "start_time": "2023-01-03T07:36:08.733Z"
   },
   {
    "duration": 26,
    "start_time": "2023-01-03T07:37:24.596Z"
   },
   {
    "duration": 27,
    "start_time": "2023-01-03T07:37:34.197Z"
   },
   {
    "duration": 3,
    "start_time": "2023-01-03T07:37:56.406Z"
   },
   {
    "duration": 49,
    "start_time": "2023-01-03T07:37:56.414Z"
   },
   {
    "duration": 15,
    "start_time": "2023-01-03T07:37:56.466Z"
   },
   {
    "duration": 6,
    "start_time": "2023-01-03T07:37:56.483Z"
   },
   {
    "duration": 19,
    "start_time": "2023-01-03T07:37:56.491Z"
   },
   {
    "duration": 17,
    "start_time": "2023-01-03T07:37:56.512Z"
   },
   {
    "duration": 14,
    "start_time": "2023-01-03T07:37:56.531Z"
   },
   {
    "duration": 27,
    "start_time": "2023-01-03T07:37:56.547Z"
   },
   {
    "duration": 28,
    "start_time": "2023-01-03T07:38:51.684Z"
   },
   {
    "duration": 37,
    "start_time": "2023-01-03T07:39:26.495Z"
   },
   {
    "duration": 2,
    "start_time": "2023-01-03T07:39:40.612Z"
   },
   {
    "duration": 35,
    "start_time": "2023-01-03T07:39:40.629Z"
   },
   {
    "duration": 12,
    "start_time": "2023-01-03T07:39:40.666Z"
   },
   {
    "duration": 6,
    "start_time": "2023-01-03T07:39:40.679Z"
   },
   {
    "duration": 13,
    "start_time": "2023-01-03T07:39:40.686Z"
   },
   {
    "duration": 13,
    "start_time": "2023-01-03T07:39:40.700Z"
   },
   {
    "duration": 10,
    "start_time": "2023-01-03T07:39:40.714Z"
   },
   {
    "duration": 32,
    "start_time": "2023-01-03T07:39:40.726Z"
   },
   {
    "duration": 3,
    "start_time": "2023-01-03T07:46:55.818Z"
   },
   {
    "duration": 42,
    "start_time": "2023-01-03T07:46:55.824Z"
   },
   {
    "duration": 13,
    "start_time": "2023-01-03T07:46:55.868Z"
   },
   {
    "duration": 6,
    "start_time": "2023-01-03T07:46:55.882Z"
   },
   {
    "duration": 16,
    "start_time": "2023-01-03T07:46:55.889Z"
   },
   {
    "duration": 13,
    "start_time": "2023-01-03T07:46:55.906Z"
   },
   {
    "duration": 12,
    "start_time": "2023-01-03T07:46:55.920Z"
   },
   {
    "duration": 16,
    "start_time": "2023-01-03T07:46:55.934Z"
   },
   {
    "duration": 26,
    "start_time": "2023-01-03T07:46:55.951Z"
   },
   {
    "duration": 29,
    "start_time": "2023-01-03T07:48:20.304Z"
   },
   {
    "duration": 15,
    "start_time": "2023-01-03T08:10:31.784Z"
   },
   {
    "duration": 19,
    "start_time": "2023-01-03T08:10:37.981Z"
   },
   {
    "duration": 3,
    "start_time": "2023-01-03T08:11:15.151Z"
   },
   {
    "duration": 41,
    "start_time": "2023-01-03T08:11:15.160Z"
   },
   {
    "duration": 14,
    "start_time": "2023-01-03T08:11:15.203Z"
   },
   {
    "duration": 14,
    "start_time": "2023-01-03T08:11:15.223Z"
   },
   {
    "duration": 14,
    "start_time": "2023-01-03T08:11:15.239Z"
   },
   {
    "duration": 12,
    "start_time": "2023-01-03T08:11:15.255Z"
   },
   {
    "duration": 11,
    "start_time": "2023-01-03T08:11:15.268Z"
   },
   {
    "duration": 18,
    "start_time": "2023-01-03T08:11:15.280Z"
   },
   {
    "duration": 37,
    "start_time": "2023-01-03T08:11:15.312Z"
   },
   {
    "duration": 3,
    "start_time": "2023-01-03T08:11:15.351Z"
   },
   {
    "duration": 18,
    "start_time": "2023-01-03T08:11:15.355Z"
   },
   {
    "duration": 10,
    "start_time": "2023-01-03T08:11:45.097Z"
   },
   {
    "duration": 12,
    "start_time": "2023-01-03T08:18:46.467Z"
   },
   {
    "duration": 9,
    "start_time": "2023-01-03T08:19:22.703Z"
   },
   {
    "duration": 47,
    "start_time": "2023-01-03T08:19:42.414Z"
   },
   {
    "duration": 555,
    "start_time": "2023-01-03T08:19:48.228Z"
   },
   {
    "duration": 157,
    "start_time": "2023-01-03T08:20:47.558Z"
   },
   {
    "duration": 4,
    "start_time": "2023-01-03T08:21:04.265Z"
   },
   {
    "duration": 66,
    "start_time": "2023-01-03T08:21:11.455Z"
   },
   {
    "duration": 136,
    "start_time": "2023-01-03T08:21:57.973Z"
   },
   {
    "duration": 294,
    "start_time": "2023-01-03T08:22:39.026Z"
   },
   {
    "duration": 11,
    "start_time": "2023-01-03T08:32:42.786Z"
   },
   {
    "duration": 441,
    "start_time": "2023-01-03T08:33:01.087Z"
   },
   {
    "duration": 7,
    "start_time": "2023-01-03T08:37:41.802Z"
   },
   {
    "duration": 101,
    "start_time": "2023-01-03T08:37:53.804Z"
   },
   {
    "duration": 5,
    "start_time": "2023-01-03T08:38:17.083Z"
   },
   {
    "duration": 92197,
    "start_time": "2023-01-03T08:38:21.273Z"
   },
   {
    "duration": 161,
    "start_time": "2023-01-03T08:39:53.473Z"
   },
   {
    "duration": 379,
    "start_time": "2023-01-03T08:39:53.637Z"
   },
   {
    "duration": 473,
    "start_time": "2023-01-03T09:17:12.091Z"
   },
   {
    "duration": 118,
    "start_time": "2023-01-03T09:17:52.722Z"
   },
   {
    "duration": 118,
    "start_time": "2023-01-03T09:18:08.883Z"
   },
   {
    "duration": 519,
    "start_time": "2023-01-03T09:18:30.737Z"
   },
   {
    "duration": 1087,
    "start_time": "2023-01-06T12:00:19.959Z"
   },
   {
    "duration": 82,
    "start_time": "2023-01-06T12:00:21.048Z"
   },
   {
    "duration": 20,
    "start_time": "2023-01-06T12:00:21.131Z"
   },
   {
    "duration": 3,
    "start_time": "2023-01-06T12:00:21.153Z"
   },
   {
    "duration": 15,
    "start_time": "2023-01-06T12:00:21.159Z"
   },
   {
    "duration": 14,
    "start_time": "2023-01-06T12:00:21.176Z"
   },
   {
    "duration": 21,
    "start_time": "2023-01-06T12:00:21.191Z"
   },
   {
    "duration": 18,
    "start_time": "2023-01-06T12:00:21.214Z"
   },
   {
    "duration": 19,
    "start_time": "2023-01-06T12:00:21.233Z"
   },
   {
    "duration": 29,
    "start_time": "2023-01-06T12:00:21.253Z"
   },
   {
    "duration": 29,
    "start_time": "2023-01-06T12:00:21.284Z"
   },
   {
    "duration": 151,
    "start_time": "2023-01-06T12:00:21.314Z"
   },
   {
    "duration": 64,
    "start_time": "2023-01-06T12:00:21.466Z"
   },
   {
    "duration": 73,
    "start_time": "2023-01-06T12:00:21.533Z"
   },
   {
    "duration": 11,
    "start_time": "2023-01-06T12:00:21.608Z"
   },
   {
    "duration": 25,
    "start_time": "2023-01-06T12:00:21.620Z"
   },
   {
    "duration": 0,
    "start_time": "2023-01-06T12:00:21.647Z"
   },
   {
    "duration": 0,
    "start_time": "2023-01-06T12:00:21.648Z"
   },
   {
    "duration": 3,
    "start_time": "2023-01-06T12:01:21.266Z"
   },
   {
    "duration": 42,
    "start_time": "2023-01-06T12:01:21.274Z"
   },
   {
    "duration": 18,
    "start_time": "2023-01-06T12:01:21.317Z"
   },
   {
    "duration": 3,
    "start_time": "2023-01-06T12:01:21.336Z"
   },
   {
    "duration": 11,
    "start_time": "2023-01-06T12:01:21.341Z"
   },
   {
    "duration": 13,
    "start_time": "2023-01-06T12:01:21.353Z"
   },
   {
    "duration": 10,
    "start_time": "2023-01-06T12:01:21.367Z"
   },
   {
    "duration": 44,
    "start_time": "2023-01-06T12:01:21.379Z"
   },
   {
    "duration": 18,
    "start_time": "2023-01-06T12:01:21.424Z"
   },
   {
    "duration": 27,
    "start_time": "2023-01-06T12:01:21.444Z"
   },
   {
    "duration": 3,
    "start_time": "2023-01-06T12:01:21.473Z"
   },
   {
    "duration": 505,
    "start_time": "2023-01-06T12:02:50.914Z"
   },
   {
    "duration": 226,
    "start_time": "2023-01-06T12:02:51.423Z"
   },
   {
    "duration": 11,
    "start_time": "2023-01-06T12:02:51.651Z"
   },
   {
    "duration": 27,
    "start_time": "2023-01-06T12:02:51.664Z"
   },
   {
    "duration": 0,
    "start_time": "2023-01-06T12:02:51.712Z"
   },
   {
    "duration": 0,
    "start_time": "2023-01-06T12:02:51.714Z"
   },
   {
    "duration": 0,
    "start_time": "2023-01-06T12:02:51.716Z"
   },
   {
    "duration": 244,
    "start_time": "2023-01-06T12:03:03.369Z"
   },
   {
    "duration": 348,
    "start_time": "2023-01-06T12:04:20.872Z"
   },
   {
    "duration": 3,
    "start_time": "2023-01-06T12:07:40.485Z"
   },
   {
    "duration": 40,
    "start_time": "2023-01-06T12:07:40.498Z"
   },
   {
    "duration": 12,
    "start_time": "2023-01-06T12:07:40.570Z"
   },
   {
    "duration": 3,
    "start_time": "2023-01-06T12:07:40.584Z"
   },
   {
    "duration": 13,
    "start_time": "2023-01-06T12:07:40.589Z"
   },
   {
    "duration": 13,
    "start_time": "2023-01-06T12:07:40.608Z"
   },
   {
    "duration": 10,
    "start_time": "2023-01-06T12:07:40.623Z"
   },
   {
    "duration": 16,
    "start_time": "2023-01-06T12:07:40.634Z"
   },
   {
    "duration": 16,
    "start_time": "2023-01-06T12:07:40.696Z"
   },
   {
    "duration": 26,
    "start_time": "2023-01-06T12:07:40.714Z"
   },
   {
    "duration": 9,
    "start_time": "2023-01-06T12:07:40.741Z"
   },
   {
    "duration": 2,
    "start_time": "2023-01-06T12:07:40.761Z"
   },
   {
    "duration": 95123,
    "start_time": "2023-01-06T12:07:40.765Z"
   },
   {
    "duration": 229,
    "start_time": "2023-01-06T12:09:15.890Z"
   },
   {
    "duration": 345,
    "start_time": "2023-01-06T12:09:16.121Z"
   },
   {
    "duration": 28,
    "start_time": "2023-01-06T12:09:16.468Z"
   },
   {
    "duration": 0,
    "start_time": "2023-01-06T12:09:16.497Z"
   },
   {
    "duration": 0,
    "start_time": "2023-01-06T12:09:16.512Z"
   },
   {
    "duration": 629,
    "start_time": "2023-01-06T12:10:22.525Z"
   },
   {
    "duration": 191,
    "start_time": "2023-01-06T12:10:45.070Z"
   },
   {
    "duration": 487,
    "start_time": "2023-01-06T12:10:58.191Z"
   },
   {
    "duration": 126,
    "start_time": "2023-01-06T12:11:49.105Z"
   },
   {
    "duration": 127,
    "start_time": "2023-01-06T12:15:43.062Z"
   },
   {
    "duration": 42,
    "start_time": "2023-01-06T12:15:48.939Z"
   },
   {
    "duration": 13,
    "start_time": "2023-01-06T12:15:49.539Z"
   },
   {
    "duration": 3,
    "start_time": "2023-01-06T12:15:50.223Z"
   },
   {
    "duration": 11,
    "start_time": "2023-01-06T12:15:50.760Z"
   },
   {
    "duration": 126,
    "start_time": "2023-01-06T12:16:08.663Z"
   },
   {
    "duration": 5,
    "start_time": "2023-01-06T12:16:43.941Z"
   },
   {
    "duration": 40,
    "start_time": "2023-01-06T12:16:50.248Z"
   },
   {
    "duration": 13,
    "start_time": "2023-01-06T12:16:50.583Z"
   },
   {
    "duration": 3,
    "start_time": "2023-01-06T12:16:50.821Z"
   },
   {
    "duration": 14,
    "start_time": "2023-01-06T12:16:51.007Z"
   },
   {
    "duration": 120,
    "start_time": "2023-01-06T12:16:53.523Z"
   },
   {
    "duration": 5,
    "start_time": "2023-01-06T12:16:55.676Z"
   },
   {
    "duration": 20,
    "start_time": "2023-01-06T12:17:17.660Z"
   },
   {
    "duration": 8,
    "start_time": "2023-01-06T12:17:31.082Z"
   },
   {
    "duration": 3,
    "start_time": "2023-01-06T12:17:40.577Z"
   },
   {
    "duration": 47,
    "start_time": "2023-01-06T12:17:41.025Z"
   },
   {
    "duration": 20,
    "start_time": "2023-01-06T12:17:41.581Z"
   },
   {
    "duration": 18,
    "start_time": "2023-01-06T12:17:42.603Z"
   },
   {
    "duration": 11,
    "start_time": "2023-01-06T12:17:47.615Z"
   },
   {
    "duration": 129,
    "start_time": "2023-01-06T12:17:50.287Z"
   },
   {
    "duration": 120,
    "start_time": "2023-01-06T12:18:03.582Z"
   },
   {
    "duration": 3,
    "start_time": "2023-01-06T12:18:13.084Z"
   },
   {
    "duration": 45,
    "start_time": "2023-01-06T12:18:13.092Z"
   },
   {
    "duration": 12,
    "start_time": "2023-01-06T12:18:13.139Z"
   },
   {
    "duration": 7,
    "start_time": "2023-01-06T12:18:13.152Z"
   },
   {
    "duration": 14,
    "start_time": "2023-01-06T12:18:13.160Z"
   },
   {
    "duration": 136,
    "start_time": "2023-01-06T12:18:13.176Z"
   },
   {
    "duration": 6,
    "start_time": "2023-01-06T12:18:13.314Z"
   },
   {
    "duration": 15,
    "start_time": "2023-01-06T12:18:13.322Z"
   },
   {
    "duration": 152,
    "start_time": "2023-01-06T12:18:13.339Z"
   },
   {
    "duration": 11,
    "start_time": "2023-01-06T12:18:13.493Z"
   },
   {
    "duration": 16,
    "start_time": "2023-01-06T12:18:13.513Z"
   },
   {
    "duration": 17,
    "start_time": "2023-01-06T12:18:13.531Z"
   },
   {
    "duration": 27,
    "start_time": "2023-01-06T12:18:13.550Z"
   },
   {
    "duration": 36,
    "start_time": "2023-01-06T12:18:13.579Z"
   },
   {
    "duration": 3,
    "start_time": "2023-01-06T12:18:13.616Z"
   },
   {
    "duration": 94394,
    "start_time": "2023-01-06T12:18:13.621Z"
   },
   {
    "duration": 299,
    "start_time": "2023-01-06T12:19:48.017Z"
   },
   {
    "duration": 246,
    "start_time": "2023-01-06T12:19:48.318Z"
   },
   {
    "duration": 124,
    "start_time": "2023-01-06T12:19:48.566Z"
   },
   {
    "duration": 384,
    "start_time": "2023-01-06T12:19:48.692Z"
   },
   {
    "duration": 516,
    "start_time": "2023-01-06T12:19:49.078Z"
   },
   {
    "duration": 3,
    "start_time": "2023-01-06T12:19:49.597Z"
   },
   {
    "duration": 6,
    "start_time": "2023-01-06T12:21:47.155Z"
   },
   {
    "duration": 4,
    "start_time": "2023-01-06T12:22:10.837Z"
   },
   {
    "duration": 47,
    "start_time": "2023-01-06T12:22:10.858Z"
   },
   {
    "duration": 18,
    "start_time": "2023-01-06T12:22:10.908Z"
   },
   {
    "duration": 4,
    "start_time": "2023-01-06T12:22:10.936Z"
   },
   {
    "duration": 20,
    "start_time": "2023-01-06T12:22:10.942Z"
   },
   {
    "duration": 172,
    "start_time": "2023-01-06T12:22:10.964Z"
   },
   {
    "duration": 142,
    "start_time": "2023-01-06T12:22:11.137Z"
   },
   {
    "duration": 14,
    "start_time": "2023-01-06T12:22:11.281Z"
   },
   {
    "duration": 136,
    "start_time": "2023-01-06T12:22:11.311Z"
   },
   {
    "duration": 12,
    "start_time": "2023-01-06T12:22:11.448Z"
   },
   {
    "duration": 29,
    "start_time": "2023-01-06T12:22:11.461Z"
   },
   {
    "duration": 38,
    "start_time": "2023-01-06T12:22:11.493Z"
   },
   {
    "duration": 29,
    "start_time": "2023-01-06T12:22:11.533Z"
   },
   {
    "duration": 16,
    "start_time": "2023-01-06T12:22:11.563Z"
   },
   {
    "duration": 27,
    "start_time": "2023-01-06T12:22:11.580Z"
   },
   {
    "duration": 93572,
    "start_time": "2023-01-06T12:22:11.611Z"
   },
   {
    "duration": 334,
    "start_time": "2023-01-06T12:23:45.184Z"
   },
   {
    "duration": 358,
    "start_time": "2023-01-06T12:23:45.520Z"
   },
   {
    "duration": 124,
    "start_time": "2023-01-06T12:23:45.880Z"
   },
   {
    "duration": 279,
    "start_time": "2023-01-06T12:23:46.005Z"
   },
   {
    "duration": 583,
    "start_time": "2023-01-06T12:23:46.286Z"
   },
   {
    "duration": 21,
    "start_time": "2023-01-06T12:25:32.134Z"
   },
   {
    "duration": 3,
    "start_time": "2023-01-06T12:25:40.677Z"
   },
   {
    "duration": 41,
    "start_time": "2023-01-06T12:25:40.702Z"
   },
   {
    "duration": 13,
    "start_time": "2023-01-06T12:25:40.745Z"
   },
   {
    "duration": 5,
    "start_time": "2023-01-06T12:25:40.760Z"
   },
   {
    "duration": 15,
    "start_time": "2023-01-06T12:25:40.766Z"
   },
   {
    "duration": 146,
    "start_time": "2023-01-06T12:25:40.783Z"
   },
   {
    "duration": 141,
    "start_time": "2023-01-06T12:25:40.931Z"
   },
   {
    "duration": 13,
    "start_time": "2023-01-06T12:25:41.074Z"
   },
   {
    "duration": 152,
    "start_time": "2023-01-06T12:25:41.088Z"
   },
   {
    "duration": 12,
    "start_time": "2023-01-06T12:25:41.242Z"
   },
   {
    "duration": 20,
    "start_time": "2023-01-06T12:25:41.256Z"
   },
   {
    "duration": 37,
    "start_time": "2023-01-06T12:25:41.277Z"
   },
   {
    "duration": 30,
    "start_time": "2023-01-06T12:25:41.315Z"
   },
   {
    "duration": 20,
    "start_time": "2023-01-06T12:25:41.347Z"
   },
   {
    "duration": 0,
    "start_time": "2023-01-06T12:25:41.369Z"
   },
   {
    "duration": 0,
    "start_time": "2023-01-06T12:25:41.370Z"
   },
   {
    "duration": 0,
    "start_time": "2023-01-06T12:25:41.371Z"
   },
   {
    "duration": 0,
    "start_time": "2023-01-06T12:25:41.373Z"
   },
   {
    "duration": 0,
    "start_time": "2023-01-06T12:25:41.374Z"
   },
   {
    "duration": 1,
    "start_time": "2023-01-06T12:25:41.374Z"
   },
   {
    "duration": 0,
    "start_time": "2023-01-06T12:25:41.376Z"
   },
   {
    "duration": 20,
    "start_time": "2023-01-06T12:26:14.373Z"
   },
   {
    "duration": 16,
    "start_time": "2023-01-06T12:26:20.071Z"
   },
   {
    "duration": 22,
    "start_time": "2023-01-06T12:26:38.736Z"
   },
   {
    "duration": 19,
    "start_time": "2023-01-06T12:27:33.402Z"
   },
   {
    "duration": 21,
    "start_time": "2023-01-06T12:28:23.223Z"
   },
   {
    "duration": 11,
    "start_time": "2023-01-06T12:28:43.915Z"
   },
   {
    "duration": 19,
    "start_time": "2023-01-06T12:29:51.649Z"
   },
   {
    "duration": 22,
    "start_time": "2023-01-06T12:31:10.120Z"
   },
   {
    "duration": 14,
    "start_time": "2023-01-06T12:31:50.100Z"
   },
   {
    "duration": 21,
    "start_time": "2023-01-06T12:32:03.322Z"
   },
   {
    "duration": 13,
    "start_time": "2023-01-06T12:32:07.603Z"
   },
   {
    "duration": 93991,
    "start_time": "2023-01-06T12:32:24.995Z"
   },
   {
    "duration": 128,
    "start_time": "2023-01-06T12:35:13.891Z"
   },
   {
    "duration": 178,
    "start_time": "2023-01-06T12:35:22.628Z"
   },
   {
    "duration": 130,
    "start_time": "2023-01-06T12:39:21.038Z"
   },
   {
    "duration": 237,
    "start_time": "2023-01-06T12:39:30.928Z"
   },
   {
    "duration": 137,
    "start_time": "2023-01-06T12:39:32.164Z"
   },
   {
    "duration": 4,
    "start_time": "2023-01-06T12:39:39.759Z"
   },
   {
    "duration": 43,
    "start_time": "2023-01-06T12:39:39.766Z"
   },
   {
    "duration": 12,
    "start_time": "2023-01-06T12:39:39.810Z"
   },
   {
    "duration": 6,
    "start_time": "2023-01-06T12:39:39.824Z"
   },
   {
    "duration": 14,
    "start_time": "2023-01-06T12:39:39.832Z"
   },
   {
    "duration": 140,
    "start_time": "2023-01-06T12:39:39.848Z"
   },
   {
    "duration": 142,
    "start_time": "2023-01-06T12:39:39.990Z"
   },
   {
    "duration": 13,
    "start_time": "2023-01-06T12:39:40.133Z"
   },
   {
    "duration": 142,
    "start_time": "2023-01-06T12:39:40.147Z"
   },
   {
    "duration": 21,
    "start_time": "2023-01-06T12:39:40.291Z"
   },
   {
    "duration": 16,
    "start_time": "2023-01-06T12:39:40.315Z"
   },
   {
    "duration": 18,
    "start_time": "2023-01-06T12:39:40.333Z"
   },
   {
    "duration": 29,
    "start_time": "2023-01-06T12:39:40.352Z"
   },
   {
    "duration": 39,
    "start_time": "2023-01-06T12:39:40.383Z"
   },
   {
    "duration": 2,
    "start_time": "2023-01-06T12:39:40.424Z"
   },
   {
    "duration": 93829,
    "start_time": "2023-01-06T12:39:40.428Z"
   },
   {
    "duration": 258,
    "start_time": "2023-01-06T12:41:14.259Z"
   },
   {
    "duration": 346,
    "start_time": "2023-01-06T12:41:14.519Z"
   },
   {
    "duration": 130,
    "start_time": "2023-01-06T12:41:14.866Z"
   },
   {
    "duration": 291,
    "start_time": "2023-01-06T12:41:14.998Z"
   },
   {
    "duration": 513,
    "start_time": "2023-01-06T12:41:15.290Z"
   },
   {
    "duration": 3,
    "start_time": "2023-01-06T12:42:42.462Z"
   },
   {
    "duration": 46,
    "start_time": "2023-01-06T12:42:42.467Z"
   },
   {
    "duration": 15,
    "start_time": "2023-01-06T12:42:42.535Z"
   },
   {
    "duration": 6,
    "start_time": "2023-01-06T12:42:42.551Z"
   },
   {
    "duration": 14,
    "start_time": "2023-01-06T12:42:42.558Z"
   },
   {
    "duration": 136,
    "start_time": "2023-01-06T12:42:42.578Z"
   },
   {
    "duration": 138,
    "start_time": "2023-01-06T12:42:42.716Z"
   },
   {
    "duration": 13,
    "start_time": "2023-01-06T12:42:42.856Z"
   },
   {
    "duration": 12,
    "start_time": "2023-01-06T12:42:42.871Z"
   },
   {
    "duration": 34,
    "start_time": "2023-01-06T12:42:42.885Z"
   },
   {
    "duration": 19,
    "start_time": "2023-01-06T12:42:42.920Z"
   },
   {
    "duration": 13,
    "start_time": "2023-01-06T12:42:42.941Z"
   },
   {
    "duration": 3,
    "start_time": "2023-01-06T12:42:42.956Z"
   },
   {
    "duration": 94456,
    "start_time": "2023-01-06T12:42:42.960Z"
   },
   {
    "duration": 1195,
    "start_time": "2023-01-06T12:44:17.418Z"
   },
   {
    "duration": 270,
    "start_time": "2023-01-06T12:44:18.615Z"
   },
   {
    "duration": 130,
    "start_time": "2023-01-06T12:44:18.887Z"
   },
   {
    "duration": 403,
    "start_time": "2023-01-06T12:44:19.018Z"
   },
   {
    "duration": 540,
    "start_time": "2023-01-06T12:44:19.424Z"
   },
   {
    "duration": 29,
    "start_time": "2023-01-06T12:44:19.966Z"
   },
   {
    "duration": 185,
    "start_time": "2023-01-06T12:44:20.012Z"
   },
   {
    "duration": 1221,
    "start_time": "2023-01-06T12:44:20.199Z"
   },
   {
    "duration": 99170,
    "start_time": "2023-01-06T12:59:36.960Z"
   },
   {
    "duration": 14,
    "start_time": "2023-01-06T13:10:09.460Z"
   },
   {
    "duration": 4,
    "start_time": "2023-01-06T13:10:16.036Z"
   },
   {
    "duration": 39,
    "start_time": "2023-01-06T13:10:16.055Z"
   },
   {
    "duration": 12,
    "start_time": "2023-01-06T13:10:16.096Z"
   },
   {
    "duration": 11,
    "start_time": "2023-01-06T13:10:16.109Z"
   },
   {
    "duration": 13,
    "start_time": "2023-01-06T13:10:16.122Z"
   },
   {
    "duration": 137,
    "start_time": "2023-01-06T13:10:16.136Z"
   },
   {
    "duration": 310,
    "start_time": "2023-01-06T13:10:16.275Z"
   },
   {
    "duration": 25,
    "start_time": "2023-01-06T13:10:16.587Z"
   },
   {
    "duration": 14,
    "start_time": "2023-01-06T13:10:16.614Z"
   },
   {
    "duration": 25,
    "start_time": "2023-01-06T13:10:16.630Z"
   },
   {
    "duration": 19,
    "start_time": "2023-01-06T13:10:16.658Z"
   },
   {
    "duration": 35,
    "start_time": "2023-01-06T13:10:16.678Z"
   },
   {
    "duration": 3,
    "start_time": "2023-01-06T13:10:16.714Z"
   },
   {
    "duration": 100063,
    "start_time": "2023-01-06T13:10:16.718Z"
   },
   {
    "duration": 1030,
    "start_time": "2023-01-06T13:11:56.783Z"
   },
   {
    "duration": 251,
    "start_time": "2023-01-06T13:11:57.816Z"
   },
   {
    "duration": 144,
    "start_time": "2023-01-06T13:11:58.068Z"
   },
   {
    "duration": 374,
    "start_time": "2023-01-06T13:11:58.214Z"
   },
   {
    "duration": 521,
    "start_time": "2023-01-06T13:11:58.591Z"
   },
   {
    "duration": 12,
    "start_time": "2023-01-06T13:11:59.114Z"
   },
   {
    "duration": 0,
    "start_time": "2023-01-06T13:11:59.128Z"
   },
   {
    "duration": 0,
    "start_time": "2023-01-06T13:11:59.128Z"
   },
   {
    "duration": 0,
    "start_time": "2023-01-06T13:11:59.129Z"
   },
   {
    "duration": 13,
    "start_time": "2023-01-06T13:12:32.667Z"
   },
   {
    "duration": 13,
    "start_time": "2023-01-06T13:12:39.760Z"
   },
   {
    "duration": 14,
    "start_time": "2023-01-06T13:12:51.139Z"
   },
   {
    "duration": 12,
    "start_time": "2023-01-06T13:13:23.257Z"
   },
   {
    "duration": 13,
    "start_time": "2023-01-06T13:14:01.742Z"
   },
   {
    "duration": 4,
    "start_time": "2023-01-06T13:14:19.889Z"
   },
   {
    "duration": 40,
    "start_time": "2023-01-06T13:14:19.915Z"
   },
   {
    "duration": 11,
    "start_time": "2023-01-06T13:14:19.957Z"
   },
   {
    "duration": 7,
    "start_time": "2023-01-06T13:14:19.969Z"
   },
   {
    "duration": 15,
    "start_time": "2023-01-06T13:14:19.977Z"
   },
   {
    "duration": 127,
    "start_time": "2023-01-06T13:14:19.994Z"
   },
   {
    "duration": 139,
    "start_time": "2023-01-06T13:14:20.122Z"
   },
   {
    "duration": 13,
    "start_time": "2023-01-06T13:14:20.263Z"
   },
   {
    "duration": 13,
    "start_time": "2023-01-06T13:14:20.278Z"
   },
   {
    "duration": 28,
    "start_time": "2023-01-06T13:14:20.292Z"
   },
   {
    "duration": 17,
    "start_time": "2023-01-06T13:14:20.321Z"
   },
   {
    "duration": 12,
    "start_time": "2023-01-06T13:14:20.340Z"
   },
   {
    "duration": 3,
    "start_time": "2023-01-06T13:14:20.353Z"
   },
   {
    "duration": 95246,
    "start_time": "2023-01-06T13:14:20.357Z"
   },
   {
    "duration": 1104,
    "start_time": "2023-01-06T13:15:55.612Z"
   },
   {
    "duration": 265,
    "start_time": "2023-01-06T13:15:56.720Z"
   },
   {
    "duration": 179,
    "start_time": "2023-01-06T13:15:56.988Z"
   },
   {
    "duration": 426,
    "start_time": "2023-01-06T13:15:57.169Z"
   },
   {
    "duration": 538,
    "start_time": "2023-01-06T13:15:57.597Z"
   },
   {
    "duration": 12,
    "start_time": "2023-01-06T13:15:58.137Z"
   },
   {
    "duration": 43,
    "start_time": "2023-01-06T13:15:58.151Z"
   },
   {
    "duration": 171,
    "start_time": "2023-01-06T13:15:58.215Z"
   },
   {
    "duration": 941,
    "start_time": "2023-01-06T13:15:58.387Z"
   },
   {
    "duration": 99852,
    "start_time": "2023-01-06T13:15:59.412Z"
   },
   {
    "duration": 502,
    "start_time": "2023-01-06T13:18:14.310Z"
   },
   {
    "duration": 120,
    "start_time": "2023-01-06T13:18:51.404Z"
   },
   {
    "duration": 512,
    "start_time": "2023-01-06T13:19:14.309Z"
   },
   {
    "duration": 4,
    "start_time": "2023-01-06T13:20:05.050Z"
   },
   {
    "duration": 49,
    "start_time": "2023-01-06T13:20:05.056Z"
   },
   {
    "duration": 13,
    "start_time": "2023-01-06T13:20:05.107Z"
   },
   {
    "duration": 7,
    "start_time": "2023-01-06T13:20:05.121Z"
   },
   {
    "duration": 18,
    "start_time": "2023-01-06T13:20:05.130Z"
   },
   {
    "duration": 128,
    "start_time": "2023-01-06T13:20:05.150Z"
   },
   {
    "duration": 139,
    "start_time": "2023-01-06T13:20:05.280Z"
   },
   {
    "duration": 12,
    "start_time": "2023-01-06T13:20:05.421Z"
   },
   {
    "duration": 15,
    "start_time": "2023-01-06T13:20:05.435Z"
   },
   {
    "duration": 18,
    "start_time": "2023-01-06T13:20:05.451Z"
   },
   {
    "duration": 18,
    "start_time": "2023-01-06T13:20:05.471Z"
   },
   {
    "duration": 15,
    "start_time": "2023-01-06T13:20:05.512Z"
   },
   {
    "duration": 3,
    "start_time": "2023-01-06T13:20:05.530Z"
   },
   {
    "duration": 3,
    "start_time": "2023-01-06T13:28:13.524Z"
   },
   {
    "duration": 50,
    "start_time": "2023-01-06T13:28:13.529Z"
   },
   {
    "duration": 13,
    "start_time": "2023-01-06T13:28:13.581Z"
   },
   {
    "duration": 4,
    "start_time": "2023-01-06T13:28:13.596Z"
   },
   {
    "duration": 12,
    "start_time": "2023-01-06T13:28:13.602Z"
   },
   {
    "duration": 126,
    "start_time": "2023-01-06T13:28:13.616Z"
   },
   {
    "duration": 129,
    "start_time": "2023-01-06T13:28:13.744Z"
   },
   {
    "duration": 13,
    "start_time": "2023-01-06T13:28:13.875Z"
   },
   {
    "duration": 34,
    "start_time": "2023-01-06T13:28:13.891Z"
   },
   {
    "duration": 14,
    "start_time": "2023-01-06T13:28:13.927Z"
   },
   {
    "duration": 18,
    "start_time": "2023-01-06T13:28:13.943Z"
   },
   {
    "duration": 14,
    "start_time": "2023-01-06T13:28:13.964Z"
   },
   {
    "duration": 12,
    "start_time": "2023-01-06T13:28:13.980Z"
   },
   {
    "duration": 95110,
    "start_time": "2023-01-06T13:28:13.994Z"
   },
   {
    "duration": 1109,
    "start_time": "2023-01-06T13:29:49.105Z"
   },
   {
    "duration": 260,
    "start_time": "2023-01-06T13:29:50.217Z"
   },
   {
    "duration": 133,
    "start_time": "2023-01-06T13:29:50.479Z"
   },
   {
    "duration": 399,
    "start_time": "2023-01-06T13:29:50.613Z"
   },
   {
    "duration": 514,
    "start_time": "2023-01-06T13:29:51.013Z"
   },
   {
    "duration": 116,
    "start_time": "2023-01-06T13:33:19.417Z"
   },
   {
    "duration": 37,
    "start_time": "2023-01-06T13:35:45.910Z"
   },
   {
    "duration": 172,
    "start_time": "2023-01-06T13:35:46.735Z"
   },
   {
    "duration": 992,
    "start_time": "2023-01-06T13:36:00.776Z"
   },
   {
    "duration": 691,
    "start_time": "2023-01-06T13:36:11.126Z"
   },
   {
    "duration": 99347,
    "start_time": "2023-01-06T13:36:17.324Z"
   },
   {
    "duration": 324,
    "start_time": "2023-01-06T13:37:56.673Z"
   },
   {
    "duration": 107,
    "start_time": "2023-01-06T13:38:44.329Z"
   },
   {
    "duration": 513,
    "start_time": "2023-01-06T13:38:48.348Z"
   },
   {
    "duration": 454,
    "start_time": "2023-01-06T13:39:04.128Z"
   },
   {
    "duration": 49,
    "start_time": "2023-01-09T14:49:56.780Z"
   },
   {
    "duration": 419,
    "start_time": "2023-01-09T14:49:59.215Z"
   },
   {
    "duration": 8,
    "start_time": "2023-01-09T14:50:40.340Z"
   },
   {
    "duration": 8,
    "start_time": "2023-01-09T14:51:12.010Z"
   },
   {
    "duration": 9,
    "start_time": "2023-01-09T14:52:10.047Z"
   },
   {
    "duration": 8,
    "start_time": "2023-01-09T14:56:33.613Z"
   },
   {
    "duration": 8,
    "start_time": "2023-01-09T15:14:34.815Z"
   },
   {
    "duration": 8,
    "start_time": "2023-01-09T15:14:47.108Z"
   },
   {
    "duration": 8,
    "start_time": "2023-01-09T15:23:53.350Z"
   },
   {
    "duration": 8,
    "start_time": "2023-01-09T15:25:31.371Z"
   },
   {
    "duration": 73,
    "start_time": "2023-01-09T15:37:45.358Z"
   },
   {
    "duration": 25,
    "start_time": "2023-01-09T15:37:56.518Z"
   },
   {
    "duration": 10,
    "start_time": "2023-01-09T15:38:05.172Z"
   },
   {
    "duration": 0,
    "start_time": "2023-01-09T15:38:05.184Z"
   },
   {
    "duration": 17,
    "start_time": "2023-01-09T15:38:05.196Z"
   },
   {
    "duration": 0,
    "start_time": "2023-01-09T15:38:05.215Z"
   },
   {
    "duration": 29,
    "start_time": "2023-01-09T15:38:05.218Z"
   },
   {
    "duration": 10,
    "start_time": "2023-01-09T15:38:05.249Z"
   },
   {
    "duration": 11,
    "start_time": "2023-01-09T15:38:05.265Z"
   },
   {
    "duration": 0,
    "start_time": "2023-01-09T15:38:05.277Z"
   },
   {
    "duration": 0,
    "start_time": "2023-01-09T15:38:05.278Z"
   },
   {
    "duration": 0,
    "start_time": "2023-01-09T15:38:05.280Z"
   },
   {
    "duration": 14,
    "start_time": "2023-01-09T15:38:05.502Z"
   },
   {
    "duration": 268,
    "start_time": "2023-01-09T15:38:05.701Z"
   },
   {
    "duration": 4,
    "start_time": "2023-01-09T15:38:05.971Z"
   },
   {
    "duration": 97,
    "start_time": "2023-01-09T15:38:05.977Z"
   },
   {
    "duration": 70,
    "start_time": "2023-01-09T15:38:06.076Z"
   },
   {
    "duration": 88,
    "start_time": "2023-01-09T15:38:06.149Z"
   },
   {
    "duration": 8,
    "start_time": "2023-01-09T15:38:06.239Z"
   },
   {
    "duration": 0,
    "start_time": "2023-01-09T15:38:06.250Z"
   },
   {
    "duration": 0,
    "start_time": "2023-01-09T15:38:06.251Z"
   },
   {
    "duration": 0,
    "start_time": "2023-01-09T15:38:06.252Z"
   },
   {
    "duration": 0,
    "start_time": "2023-01-09T15:38:06.254Z"
   },
   {
    "duration": 0,
    "start_time": "2023-01-09T15:38:06.255Z"
   },
   {
    "duration": 0,
    "start_time": "2023-01-09T15:38:06.256Z"
   },
   {
    "duration": 0,
    "start_time": "2023-01-09T15:38:06.258Z"
   },
   {
    "duration": 0,
    "start_time": "2023-01-09T15:38:06.259Z"
   },
   {
    "duration": 19,
    "start_time": "2023-01-09T15:50:34.462Z"
   },
   {
    "duration": 703,
    "start_time": "2023-01-09T15:50:58.639Z"
   },
   {
    "duration": 41,
    "start_time": "2023-01-09T15:50:59.344Z"
   },
   {
    "duration": 14,
    "start_time": "2023-01-09T15:50:59.387Z"
   },
   {
    "duration": 5,
    "start_time": "2023-01-09T15:50:59.403Z"
   },
   {
    "duration": 17,
    "start_time": "2023-01-09T15:50:59.411Z"
   },
   {
    "duration": 604,
    "start_time": "2023-01-09T15:50:59.429Z"
   },
   {
    "duration": 158,
    "start_time": "2023-01-09T15:51:00.035Z"
   },
   {
    "duration": 23,
    "start_time": "2023-01-09T15:51:00.195Z"
   },
   {
    "duration": 48,
    "start_time": "2023-01-09T15:51:00.220Z"
   },
   {
    "duration": 27,
    "start_time": "2023-01-09T15:51:00.270Z"
   },
   {
    "duration": 63,
    "start_time": "2023-01-09T15:51:00.299Z"
   },
   {
    "duration": 0,
    "start_time": "2023-01-09T15:51:00.364Z"
   },
   {
    "duration": 0,
    "start_time": "2023-01-09T15:51:00.365Z"
   },
   {
    "duration": 0,
    "start_time": "2023-01-09T15:51:00.366Z"
   },
   {
    "duration": 0,
    "start_time": "2023-01-09T15:51:00.368Z"
   },
   {
    "duration": 0,
    "start_time": "2023-01-09T15:51:00.369Z"
   },
   {
    "duration": 0,
    "start_time": "2023-01-09T15:51:00.370Z"
   },
   {
    "duration": 0,
    "start_time": "2023-01-09T15:51:00.371Z"
   },
   {
    "duration": 0,
    "start_time": "2023-01-09T15:51:00.372Z"
   },
   {
    "duration": 0,
    "start_time": "2023-01-09T15:51:00.372Z"
   },
   {
    "duration": 0,
    "start_time": "2023-01-09T15:51:00.373Z"
   },
   {
    "duration": 0,
    "start_time": "2023-01-09T15:51:00.374Z"
   },
   {
    "duration": 0,
    "start_time": "2023-01-09T15:51:00.375Z"
   },
   {
    "duration": 0,
    "start_time": "2023-01-09T15:51:00.376Z"
   },
   {
    "duration": 0,
    "start_time": "2023-01-09T15:51:00.377Z"
   },
   {
    "duration": 11,
    "start_time": "2023-01-09T15:52:35.609Z"
   },
   {
    "duration": 16,
    "start_time": "2023-01-09T15:55:06.464Z"
   },
   {
    "duration": 14,
    "start_time": "2023-01-09T15:59:48.924Z"
   },
   {
    "duration": 23,
    "start_time": "2023-01-09T16:00:13.060Z"
   },
   {
    "duration": 23,
    "start_time": "2023-01-09T16:02:20.646Z"
   },
   {
    "duration": 10,
    "start_time": "2023-01-09T16:05:56.876Z"
   },
   {
    "duration": 5,
    "start_time": "2023-01-09T16:07:14.303Z"
   },
   {
    "duration": 3,
    "start_time": "2023-01-09T16:07:20.094Z"
   },
   {
    "duration": 55,
    "start_time": "2023-01-09T16:07:20.099Z"
   },
   {
    "duration": 13,
    "start_time": "2023-01-09T16:07:20.156Z"
   },
   {
    "duration": 21,
    "start_time": "2023-01-09T16:07:20.171Z"
   },
   {
    "duration": 37,
    "start_time": "2023-01-09T16:07:20.194Z"
   },
   {
    "duration": 149,
    "start_time": "2023-01-09T16:07:20.233Z"
   },
   {
    "duration": 145,
    "start_time": "2023-01-09T16:07:20.384Z"
   },
   {
    "duration": 12,
    "start_time": "2023-01-09T16:07:20.531Z"
   },
   {
    "duration": 28,
    "start_time": "2023-01-09T16:07:20.546Z"
   },
   {
    "duration": 27,
    "start_time": "2023-01-09T16:07:20.576Z"
   },
   {
    "duration": 90,
    "start_time": "2023-01-09T16:07:20.605Z"
   },
   {
    "duration": 31,
    "start_time": "2023-01-09T16:07:20.696Z"
   },
   {
    "duration": 0,
    "start_time": "2023-01-09T16:07:20.729Z"
   },
   {
    "duration": 0,
    "start_time": "2023-01-09T16:07:20.730Z"
   },
   {
    "duration": 0,
    "start_time": "2023-01-09T16:07:20.732Z"
   },
   {
    "duration": 0,
    "start_time": "2023-01-09T16:07:20.733Z"
   },
   {
    "duration": 0,
    "start_time": "2023-01-09T16:07:20.734Z"
   },
   {
    "duration": 0,
    "start_time": "2023-01-09T16:07:20.735Z"
   },
   {
    "duration": 0,
    "start_time": "2023-01-09T16:07:20.737Z"
   },
   {
    "duration": 0,
    "start_time": "2023-01-09T16:07:20.738Z"
   },
   {
    "duration": 0,
    "start_time": "2023-01-09T16:07:20.739Z"
   },
   {
    "duration": 0,
    "start_time": "2023-01-09T16:07:20.740Z"
   },
   {
    "duration": 1,
    "start_time": "2023-01-09T16:07:20.741Z"
   },
   {
    "duration": 0,
    "start_time": "2023-01-09T16:07:20.743Z"
   },
   {
    "duration": 0,
    "start_time": "2023-01-09T16:07:20.744Z"
   },
   {
    "duration": 0,
    "start_time": "2023-01-09T16:07:20.746Z"
   },
   {
    "duration": 9,
    "start_time": "2023-01-09T16:07:33.205Z"
   },
   {
    "duration": 4,
    "start_time": "2023-01-09T16:08:21.475Z"
   },
   {
    "duration": 10,
    "start_time": "2023-01-09T16:08:27.255Z"
   },
   {
    "duration": 13,
    "start_time": "2023-01-09T16:09:10.737Z"
   },
   {
    "duration": 31,
    "start_time": "2023-01-09T16:09:11.901Z"
   },
   {
    "duration": 5,
    "start_time": "2023-01-09T16:09:17.326Z"
   },
   {
    "duration": 74,
    "start_time": "2023-01-09T16:09:17.333Z"
   },
   {
    "duration": 25,
    "start_time": "2023-01-09T16:09:17.410Z"
   },
   {
    "duration": 66,
    "start_time": "2023-01-09T16:09:17.437Z"
   },
   {
    "duration": 51,
    "start_time": "2023-01-09T16:09:17.506Z"
   },
   {
    "duration": 159,
    "start_time": "2023-01-09T16:09:17.560Z"
   },
   {
    "duration": 136,
    "start_time": "2023-01-09T16:09:17.721Z"
   },
   {
    "duration": 14,
    "start_time": "2023-01-09T16:09:17.858Z"
   },
   {
    "duration": 30,
    "start_time": "2023-01-09T16:09:17.874Z"
   },
   {
    "duration": 18,
    "start_time": "2023-01-09T16:09:17.906Z"
   },
   {
    "duration": 30,
    "start_time": "2023-01-09T16:09:17.926Z"
   },
   {
    "duration": 9,
    "start_time": "2023-01-09T16:09:17.958Z"
   },
   {
    "duration": 0,
    "start_time": "2023-01-09T16:09:17.969Z"
   },
   {
    "duration": 0,
    "start_time": "2023-01-09T16:09:17.970Z"
   },
   {
    "duration": 0,
    "start_time": "2023-01-09T16:09:17.971Z"
   },
   {
    "duration": 0,
    "start_time": "2023-01-09T16:09:17.972Z"
   },
   {
    "duration": 0,
    "start_time": "2023-01-09T16:09:17.973Z"
   },
   {
    "duration": 0,
    "start_time": "2023-01-09T16:09:17.973Z"
   },
   {
    "duration": 0,
    "start_time": "2023-01-09T16:09:17.975Z"
   },
   {
    "duration": 0,
    "start_time": "2023-01-09T16:09:18.005Z"
   },
   {
    "duration": 0,
    "start_time": "2023-01-09T16:09:18.006Z"
   },
   {
    "duration": 0,
    "start_time": "2023-01-09T16:09:18.006Z"
   },
   {
    "duration": 0,
    "start_time": "2023-01-09T16:09:18.007Z"
   },
   {
    "duration": 0,
    "start_time": "2023-01-09T16:09:18.008Z"
   },
   {
    "duration": 0,
    "start_time": "2023-01-09T16:09:18.009Z"
   },
   {
    "duration": 0,
    "start_time": "2023-01-09T16:09:18.010Z"
   },
   {
    "duration": 13,
    "start_time": "2023-01-09T16:19:33.250Z"
   },
   {
    "duration": 4,
    "start_time": "2023-01-09T16:19:39.594Z"
   },
   {
    "duration": 17,
    "start_time": "2023-01-09T16:19:45.382Z"
   },
   {
    "duration": 41,
    "start_time": "2023-01-09T16:20:09.661Z"
   },
   {
    "duration": 55,
    "start_time": "2023-01-09T16:20:19.268Z"
   },
   {
    "duration": 4,
    "start_time": "2023-01-09T16:20:35.553Z"
   },
   {
    "duration": 38,
    "start_time": "2023-01-09T16:20:35.565Z"
   },
   {
    "duration": 20,
    "start_time": "2023-01-09T16:20:35.605Z"
   },
   {
    "duration": 10,
    "start_time": "2023-01-09T16:20:35.626Z"
   },
   {
    "duration": 17,
    "start_time": "2023-01-09T16:20:35.637Z"
   },
   {
    "duration": 156,
    "start_time": "2023-01-09T16:20:35.656Z"
   },
   {
    "duration": 135,
    "start_time": "2023-01-09T16:20:35.814Z"
   },
   {
    "duration": 13,
    "start_time": "2023-01-09T16:20:35.950Z"
   },
   {
    "duration": 12,
    "start_time": "2023-01-09T16:20:35.964Z"
   },
   {
    "duration": 41,
    "start_time": "2023-01-09T16:20:35.978Z"
   },
   {
    "duration": 17,
    "start_time": "2023-01-09T16:20:36.020Z"
   },
   {
    "duration": 18,
    "start_time": "2023-01-09T16:20:36.039Z"
   },
   {
    "duration": 93,
    "start_time": "2023-01-09T16:20:36.059Z"
   },
   {
    "duration": 26,
    "start_time": "2023-01-09T16:20:36.154Z"
   },
   {
    "duration": 1,
    "start_time": "2023-01-09T16:20:36.182Z"
   },
   {
    "duration": 0,
    "start_time": "2023-01-09T16:20:36.184Z"
   },
   {
    "duration": 0,
    "start_time": "2023-01-09T16:20:36.205Z"
   },
   {
    "duration": 0,
    "start_time": "2023-01-09T16:20:36.207Z"
   },
   {
    "duration": 0,
    "start_time": "2023-01-09T16:20:36.208Z"
   },
   {
    "duration": 0,
    "start_time": "2023-01-09T16:20:36.209Z"
   },
   {
    "duration": 0,
    "start_time": "2023-01-09T16:20:36.210Z"
   },
   {
    "duration": 0,
    "start_time": "2023-01-09T16:20:36.211Z"
   },
   {
    "duration": 0,
    "start_time": "2023-01-09T16:20:36.212Z"
   },
   {
    "duration": 0,
    "start_time": "2023-01-09T16:20:36.213Z"
   },
   {
    "duration": 0,
    "start_time": "2023-01-09T16:20:36.214Z"
   },
   {
    "duration": 0,
    "start_time": "2023-01-09T16:20:36.215Z"
   },
   {
    "duration": 0,
    "start_time": "2023-01-09T16:20:36.216Z"
   },
   {
    "duration": 26,
    "start_time": "2023-01-09T16:25:51.255Z"
   },
   {
    "duration": 22,
    "start_time": "2023-01-09T16:26:09.604Z"
   },
   {
    "duration": 23,
    "start_time": "2023-01-09T16:26:23.166Z"
   },
   {
    "duration": 5,
    "start_time": "2023-01-09T16:26:45.511Z"
   },
   {
    "duration": 48,
    "start_time": "2023-01-09T16:26:45.537Z"
   },
   {
    "duration": 12,
    "start_time": "2023-01-09T16:26:45.587Z"
   },
   {
    "duration": 7,
    "start_time": "2023-01-09T16:26:45.601Z"
   },
   {
    "duration": 17,
    "start_time": "2023-01-09T16:26:45.611Z"
   },
   {
    "duration": 156,
    "start_time": "2023-01-09T16:26:45.630Z"
   },
   {
    "duration": 149,
    "start_time": "2023-01-09T16:26:45.788Z"
   },
   {
    "duration": 14,
    "start_time": "2023-01-09T16:26:45.939Z"
   },
   {
    "duration": 14,
    "start_time": "2023-01-09T16:26:45.955Z"
   },
   {
    "duration": 44,
    "start_time": "2023-01-09T16:26:45.971Z"
   },
   {
    "duration": 16,
    "start_time": "2023-01-09T16:26:46.018Z"
   },
   {
    "duration": 28,
    "start_time": "2023-01-09T16:26:46.035Z"
   },
   {
    "duration": 53,
    "start_time": "2023-01-09T16:26:46.065Z"
   },
   {
    "duration": 25,
    "start_time": "2023-01-09T16:26:46.120Z"
   },
   {
    "duration": 3,
    "start_time": "2023-01-09T16:26:46.147Z"
   },
   {
    "duration": 109,
    "start_time": "2023-01-09T16:26:46.152Z"
   },
   {
    "duration": 85,
    "start_time": "2023-01-09T16:26:46.263Z"
   },
   {
    "duration": 83,
    "start_time": "2023-01-09T16:26:46.349Z"
   },
   {
    "duration": 18,
    "start_time": "2023-01-09T16:26:46.434Z"
   },
   {
    "duration": 0,
    "start_time": "2023-01-09T16:26:46.454Z"
   },
   {
    "duration": 0,
    "start_time": "2023-01-09T16:26:46.455Z"
   },
   {
    "duration": 0,
    "start_time": "2023-01-09T16:26:46.456Z"
   },
   {
    "duration": 0,
    "start_time": "2023-01-09T16:26:46.458Z"
   },
   {
    "duration": 0,
    "start_time": "2023-01-09T16:26:46.459Z"
   },
   {
    "duration": 0,
    "start_time": "2023-01-09T16:26:46.461Z"
   },
   {
    "duration": 0,
    "start_time": "2023-01-09T16:26:46.462Z"
   },
   {
    "duration": 0,
    "start_time": "2023-01-09T16:26:46.463Z"
   },
   {
    "duration": 36,
    "start_time": "2023-01-09T16:29:06.613Z"
   },
   {
    "duration": 22,
    "start_time": "2023-01-09T16:29:40.607Z"
   },
   {
    "duration": 5,
    "start_time": "2023-01-09T16:30:17.326Z"
   },
   {
    "duration": 53,
    "start_time": "2023-01-09T16:30:17.336Z"
   },
   {
    "duration": 16,
    "start_time": "2023-01-09T16:30:17.391Z"
   },
   {
    "duration": 20,
    "start_time": "2023-01-09T16:30:17.409Z"
   },
   {
    "duration": 29,
    "start_time": "2023-01-09T16:30:17.431Z"
   },
   {
    "duration": 190,
    "start_time": "2023-01-09T16:30:17.462Z"
   },
   {
    "duration": 163,
    "start_time": "2023-01-09T16:30:17.653Z"
   },
   {
    "duration": 15,
    "start_time": "2023-01-09T16:30:17.818Z"
   },
   {
    "duration": 19,
    "start_time": "2023-01-09T16:30:17.835Z"
   },
   {
    "duration": 18,
    "start_time": "2023-01-09T16:30:17.856Z"
   },
   {
    "duration": 17,
    "start_time": "2023-01-09T16:30:17.904Z"
   },
   {
    "duration": 18,
    "start_time": "2023-01-09T16:30:17.923Z"
   },
   {
    "duration": 30,
    "start_time": "2023-01-09T16:30:17.943Z"
   },
   {
    "duration": 48,
    "start_time": "2023-01-09T16:30:17.975Z"
   },
   {
    "duration": 3,
    "start_time": "2023-01-09T16:30:18.025Z"
   },
   {
    "duration": 115,
    "start_time": "2023-01-09T16:30:18.030Z"
   },
   {
    "duration": 112,
    "start_time": "2023-01-09T16:30:18.146Z"
   },
   {
    "duration": 103,
    "start_time": "2023-01-09T16:30:18.260Z"
   },
   {
    "duration": 19,
    "start_time": "2023-01-09T16:30:18.364Z"
   },
   {
    "duration": 0,
    "start_time": "2023-01-09T16:30:18.385Z"
   },
   {
    "duration": 0,
    "start_time": "2023-01-09T16:30:18.386Z"
   },
   {
    "duration": 0,
    "start_time": "2023-01-09T16:30:18.386Z"
   },
   {
    "duration": 0,
    "start_time": "2023-01-09T16:30:18.387Z"
   },
   {
    "duration": 0,
    "start_time": "2023-01-09T16:30:18.388Z"
   },
   {
    "duration": 0,
    "start_time": "2023-01-09T16:30:18.390Z"
   },
   {
    "duration": 0,
    "start_time": "2023-01-09T16:30:18.390Z"
   },
   {
    "duration": 0,
    "start_time": "2023-01-09T16:30:18.391Z"
   },
   {
    "duration": 12,
    "start_time": "2023-01-09T16:31:48.838Z"
   },
   {
    "duration": 19,
    "start_time": "2023-01-09T16:32:06.255Z"
   },
   {
    "duration": 16,
    "start_time": "2023-01-09T16:32:25.976Z"
   },
   {
    "duration": 4,
    "start_time": "2023-01-09T16:32:34.602Z"
   },
   {
    "duration": 41,
    "start_time": "2023-01-09T16:32:34.609Z"
   },
   {
    "duration": 16,
    "start_time": "2023-01-09T16:32:34.653Z"
   },
   {
    "duration": 4,
    "start_time": "2023-01-09T16:32:34.671Z"
   },
   {
    "duration": 27,
    "start_time": "2023-01-09T16:32:34.678Z"
   },
   {
    "duration": 149,
    "start_time": "2023-01-09T16:32:34.706Z"
   },
   {
    "duration": 154,
    "start_time": "2023-01-09T16:32:34.856Z"
   },
   {
    "duration": 20,
    "start_time": "2023-01-09T16:32:35.012Z"
   },
   {
    "duration": 26,
    "start_time": "2023-01-09T16:32:35.035Z"
   },
   {
    "duration": 17,
    "start_time": "2023-01-09T16:32:35.063Z"
   },
   {
    "duration": 22,
    "start_time": "2023-01-09T16:32:35.107Z"
   },
   {
    "duration": 23,
    "start_time": "2023-01-09T16:32:35.131Z"
   },
   {
    "duration": 52,
    "start_time": "2023-01-09T16:32:35.157Z"
   },
   {
    "duration": 16,
    "start_time": "2023-01-09T16:32:35.211Z"
   },
   {
    "duration": 0,
    "start_time": "2023-01-09T16:32:35.228Z"
   },
   {
    "duration": 0,
    "start_time": "2023-01-09T16:32:35.229Z"
   },
   {
    "duration": 0,
    "start_time": "2023-01-09T16:32:35.230Z"
   },
   {
    "duration": 0,
    "start_time": "2023-01-09T16:32:35.231Z"
   },
   {
    "duration": 0,
    "start_time": "2023-01-09T16:32:35.232Z"
   },
   {
    "duration": 0,
    "start_time": "2023-01-09T16:32:35.233Z"
   },
   {
    "duration": 0,
    "start_time": "2023-01-09T16:32:35.234Z"
   },
   {
    "duration": 0,
    "start_time": "2023-01-09T16:32:35.236Z"
   },
   {
    "duration": 0,
    "start_time": "2023-01-09T16:32:35.237Z"
   },
   {
    "duration": 0,
    "start_time": "2023-01-09T16:32:35.238Z"
   },
   {
    "duration": 0,
    "start_time": "2023-01-09T16:32:35.239Z"
   },
   {
    "duration": 0,
    "start_time": "2023-01-09T16:32:35.240Z"
   },
   {
    "duration": 0,
    "start_time": "2023-01-09T16:32:35.241Z"
   },
   {
    "duration": 27,
    "start_time": "2023-01-09T16:33:41.056Z"
   },
   {
    "duration": 1024,
    "start_time": "2023-01-10T07:18:43.357Z"
   },
   {
    "duration": 4,
    "start_time": "2023-01-10T07:18:50.780Z"
   },
   {
    "duration": 96,
    "start_time": "2023-01-10T07:18:50.799Z"
   },
   {
    "duration": 22,
    "start_time": "2023-01-10T07:18:50.897Z"
   },
   {
    "duration": 5,
    "start_time": "2023-01-10T07:18:50.920Z"
   },
   {
    "duration": 21,
    "start_time": "2023-01-10T07:18:50.927Z"
   },
   {
    "duration": 520,
    "start_time": "2023-01-10T07:18:50.950Z"
   },
   {
    "duration": 127,
    "start_time": "2023-01-10T07:18:51.472Z"
   },
   {
    "duration": 14,
    "start_time": "2023-01-10T07:18:51.600Z"
   },
   {
    "duration": 45,
    "start_time": "2023-01-10T07:18:51.616Z"
   },
   {
    "duration": 19,
    "start_time": "2023-01-10T07:18:51.663Z"
   },
   {
    "duration": 25,
    "start_time": "2023-01-10T07:18:51.686Z"
   },
   {
    "duration": 21,
    "start_time": "2023-01-10T07:18:51.713Z"
   },
   {
    "duration": 29,
    "start_time": "2023-01-10T07:18:51.735Z"
   },
   {
    "duration": 118,
    "start_time": "2023-01-10T07:18:51.766Z"
   },
   {
    "duration": 0,
    "start_time": "2023-01-10T07:18:51.886Z"
   },
   {
    "duration": 0,
    "start_time": "2023-01-10T07:18:51.887Z"
   },
   {
    "duration": 0,
    "start_time": "2023-01-10T07:18:51.889Z"
   },
   {
    "duration": 0,
    "start_time": "2023-01-10T07:18:51.898Z"
   },
   {
    "duration": 0,
    "start_time": "2023-01-10T07:18:51.899Z"
   },
   {
    "duration": 0,
    "start_time": "2023-01-10T07:18:51.901Z"
   },
   {
    "duration": 0,
    "start_time": "2023-01-10T07:18:51.902Z"
   },
   {
    "duration": 0,
    "start_time": "2023-01-10T07:18:51.903Z"
   },
   {
    "duration": 0,
    "start_time": "2023-01-10T07:18:51.904Z"
   },
   {
    "duration": 0,
    "start_time": "2023-01-10T07:18:51.906Z"
   },
   {
    "duration": 0,
    "start_time": "2023-01-10T07:18:51.908Z"
   },
   {
    "duration": 0,
    "start_time": "2023-01-10T07:18:51.909Z"
   },
   {
    "duration": 0,
    "start_time": "2023-01-10T07:18:51.910Z"
   },
   {
    "duration": 22,
    "start_time": "2023-01-10T07:21:36.376Z"
   },
   {
    "duration": 30,
    "start_time": "2023-01-10T07:21:43.947Z"
   },
   {
    "duration": 21,
    "start_time": "2023-01-10T07:27:57.381Z"
   },
   {
    "duration": 5,
    "start_time": "2023-01-10T07:28:16.047Z"
   },
   {
    "duration": 50,
    "start_time": "2023-01-10T07:28:16.055Z"
   },
   {
    "duration": 17,
    "start_time": "2023-01-10T07:28:16.107Z"
   },
   {
    "duration": 14,
    "start_time": "2023-01-10T07:28:16.126Z"
   },
   {
    "duration": 25,
    "start_time": "2023-01-10T07:28:16.142Z"
   },
   {
    "duration": 147,
    "start_time": "2023-01-10T07:28:16.169Z"
   },
   {
    "duration": 216,
    "start_time": "2023-01-10T07:28:16.318Z"
   },
   {
    "duration": 17,
    "start_time": "2023-01-10T07:28:16.536Z"
   },
   {
    "duration": 21,
    "start_time": "2023-01-10T07:28:16.556Z"
   },
   {
    "duration": 39,
    "start_time": "2023-01-10T07:28:16.579Z"
   },
   {
    "duration": 130,
    "start_time": "2023-01-10T07:28:16.620Z"
   },
   {
    "duration": 0,
    "start_time": "2023-01-10T07:28:16.753Z"
   },
   {
    "duration": 0,
    "start_time": "2023-01-10T07:28:16.754Z"
   },
   {
    "duration": 0,
    "start_time": "2023-01-10T07:28:16.755Z"
   },
   {
    "duration": 0,
    "start_time": "2023-01-10T07:28:16.756Z"
   },
   {
    "duration": 0,
    "start_time": "2023-01-10T07:28:16.757Z"
   },
   {
    "duration": 0,
    "start_time": "2023-01-10T07:28:16.759Z"
   },
   {
    "duration": 0,
    "start_time": "2023-01-10T07:28:16.760Z"
   },
   {
    "duration": 0,
    "start_time": "2023-01-10T07:28:16.762Z"
   },
   {
    "duration": 0,
    "start_time": "2023-01-10T07:28:16.763Z"
   },
   {
    "duration": 0,
    "start_time": "2023-01-10T07:28:16.765Z"
   },
   {
    "duration": 0,
    "start_time": "2023-01-10T07:28:16.766Z"
   },
   {
    "duration": 0,
    "start_time": "2023-01-10T07:28:16.768Z"
   },
   {
    "duration": 0,
    "start_time": "2023-01-10T07:28:16.770Z"
   },
   {
    "duration": 0,
    "start_time": "2023-01-10T07:28:16.771Z"
   },
   {
    "duration": 0,
    "start_time": "2023-01-10T07:28:16.798Z"
   },
   {
    "duration": 0,
    "start_time": "2023-01-10T07:28:16.799Z"
   },
   {
    "duration": 25,
    "start_time": "2023-01-10T07:28:40.419Z"
   },
   {
    "duration": 20,
    "start_time": "2023-01-10T07:28:45.152Z"
   },
   {
    "duration": 20,
    "start_time": "2023-01-10T07:30:20.736Z"
   },
   {
    "duration": 3,
    "start_time": "2023-01-10T07:30:31.550Z"
   },
   {
    "duration": 55,
    "start_time": "2023-01-10T07:30:31.572Z"
   },
   {
    "duration": 13,
    "start_time": "2023-01-10T07:30:31.629Z"
   },
   {
    "duration": 9,
    "start_time": "2023-01-10T07:30:31.644Z"
   },
   {
    "duration": 21,
    "start_time": "2023-01-10T07:30:31.655Z"
   },
   {
    "duration": 121,
    "start_time": "2023-01-10T07:30:31.678Z"
   },
   {
    "duration": 129,
    "start_time": "2023-01-10T07:30:31.801Z"
   },
   {
    "duration": 16,
    "start_time": "2023-01-10T07:30:31.932Z"
   },
   {
    "duration": 74,
    "start_time": "2023-01-10T07:30:31.950Z"
   },
   {
    "duration": 34,
    "start_time": "2023-01-10T07:30:32.026Z"
   },
   {
    "duration": 59,
    "start_time": "2023-01-10T07:30:32.063Z"
   },
   {
    "duration": 0,
    "start_time": "2023-01-10T07:30:32.125Z"
   },
   {
    "duration": 0,
    "start_time": "2023-01-10T07:30:32.127Z"
   },
   {
    "duration": 0,
    "start_time": "2023-01-10T07:30:32.128Z"
   },
   {
    "duration": 0,
    "start_time": "2023-01-10T07:30:32.129Z"
   },
   {
    "duration": 0,
    "start_time": "2023-01-10T07:30:32.131Z"
   },
   {
    "duration": 0,
    "start_time": "2023-01-10T07:30:32.132Z"
   },
   {
    "duration": 0,
    "start_time": "2023-01-10T07:30:32.134Z"
   },
   {
    "duration": 0,
    "start_time": "2023-01-10T07:30:32.136Z"
   },
   {
    "duration": 0,
    "start_time": "2023-01-10T07:30:32.137Z"
   },
   {
    "duration": 0,
    "start_time": "2023-01-10T07:30:32.138Z"
   },
   {
    "duration": 0,
    "start_time": "2023-01-10T07:30:32.140Z"
   },
   {
    "duration": 0,
    "start_time": "2023-01-10T07:30:32.141Z"
   },
   {
    "duration": 0,
    "start_time": "2023-01-10T07:30:32.143Z"
   },
   {
    "duration": 0,
    "start_time": "2023-01-10T07:30:32.144Z"
   },
   {
    "duration": 0,
    "start_time": "2023-01-10T07:30:32.145Z"
   },
   {
    "duration": 0,
    "start_time": "2023-01-10T07:30:32.147Z"
   },
   {
    "duration": 20,
    "start_time": "2023-01-10T07:30:49.700Z"
   },
   {
    "duration": 12,
    "start_time": "2023-01-10T07:31:19.799Z"
   },
   {
    "duration": 17,
    "start_time": "2023-01-10T07:31:19.813Z"
   },
   {
    "duration": 25,
    "start_time": "2023-01-10T07:31:19.838Z"
   },
   {
    "duration": 61,
    "start_time": "2023-01-10T07:31:19.865Z"
   },
   {
    "duration": 3,
    "start_time": "2023-01-10T07:31:19.927Z"
   },
   {
    "duration": 113,
    "start_time": "2023-01-10T07:31:19.933Z"
   },
   {
    "duration": 107,
    "start_time": "2023-01-10T07:31:20.049Z"
   },
   {
    "duration": 63,
    "start_time": "2023-01-10T07:31:20.158Z"
   },
   {
    "duration": 17,
    "start_time": "2023-01-10T07:31:20.223Z"
   },
   {
    "duration": 0,
    "start_time": "2023-01-10T07:31:20.242Z"
   },
   {
    "duration": 0,
    "start_time": "2023-01-10T07:31:20.245Z"
   },
   {
    "duration": 0,
    "start_time": "2023-01-10T07:31:20.246Z"
   },
   {
    "duration": 0,
    "start_time": "2023-01-10T07:31:20.248Z"
   },
   {
    "duration": 0,
    "start_time": "2023-01-10T07:31:20.249Z"
   },
   {
    "duration": 0,
    "start_time": "2023-01-10T07:31:20.250Z"
   },
   {
    "duration": 0,
    "start_time": "2023-01-10T07:31:20.252Z"
   },
   {
    "duration": 0,
    "start_time": "2023-01-10T07:31:20.253Z"
   },
   {
    "duration": 39,
    "start_time": "2023-01-10T07:32:24.988Z"
   },
   {
    "duration": 33,
    "start_time": "2023-01-10T07:33:22.211Z"
   },
   {
    "duration": 19,
    "start_time": "2023-01-10T07:34:08.153Z"
   },
   {
    "duration": 4,
    "start_time": "2023-01-10T07:34:28.339Z"
   },
   {
    "duration": 47,
    "start_time": "2023-01-10T07:34:28.345Z"
   },
   {
    "duration": 14,
    "start_time": "2023-01-10T07:34:28.394Z"
   },
   {
    "duration": 12,
    "start_time": "2023-01-10T07:34:28.409Z"
   },
   {
    "duration": 14,
    "start_time": "2023-01-10T07:34:28.423Z"
   },
   {
    "duration": 166,
    "start_time": "2023-01-10T07:34:28.439Z"
   },
   {
    "duration": 149,
    "start_time": "2023-01-10T07:34:28.607Z"
   },
   {
    "duration": 13,
    "start_time": "2023-01-10T07:34:28.757Z"
   },
   {
    "duration": 33,
    "start_time": "2023-01-10T07:34:28.772Z"
   },
   {
    "duration": 25,
    "start_time": "2023-01-10T07:34:28.807Z"
   },
   {
    "duration": 14,
    "start_time": "2023-01-10T07:34:28.834Z"
   },
   {
    "duration": 18,
    "start_time": "2023-01-10T07:34:28.850Z"
   },
   {
    "duration": 32,
    "start_time": "2023-01-10T07:34:28.897Z"
   },
   {
    "duration": 21,
    "start_time": "2023-01-10T07:34:28.931Z"
   },
   {
    "duration": 3,
    "start_time": "2023-01-10T07:34:28.954Z"
   },
   {
    "duration": 100,
    "start_time": "2023-01-10T07:34:28.958Z"
   },
   {
    "duration": 66,
    "start_time": "2023-01-10T07:34:29.060Z"
   },
   {
    "duration": 68,
    "start_time": "2023-01-10T07:34:29.127Z"
   },
   {
    "duration": 30,
    "start_time": "2023-01-10T07:34:29.196Z"
   },
   {
    "duration": 0,
    "start_time": "2023-01-10T07:34:29.228Z"
   },
   {
    "duration": 0,
    "start_time": "2023-01-10T07:34:29.229Z"
   },
   {
    "duration": 0,
    "start_time": "2023-01-10T07:34:29.230Z"
   },
   {
    "duration": 0,
    "start_time": "2023-01-10T07:34:29.232Z"
   },
   {
    "duration": 0,
    "start_time": "2023-01-10T07:34:29.233Z"
   },
   {
    "duration": 0,
    "start_time": "2023-01-10T07:34:29.234Z"
   },
   {
    "duration": 0,
    "start_time": "2023-01-10T07:34:29.235Z"
   },
   {
    "duration": 0,
    "start_time": "2023-01-10T07:34:29.236Z"
   },
   {
    "duration": 18,
    "start_time": "2023-01-10T07:34:54.867Z"
   },
   {
    "duration": 40,
    "start_time": "2023-01-10T07:34:58.794Z"
   },
   {
    "duration": 3,
    "start_time": "2023-01-10T07:35:01.581Z"
   },
   {
    "duration": 92,
    "start_time": "2023-01-10T07:35:03.156Z"
   },
   {
    "duration": 5,
    "start_time": "2023-01-10T07:36:01.571Z"
   },
   {
    "duration": 17,
    "start_time": "2023-01-10T07:36:28.639Z"
   },
   {
    "duration": 37,
    "start_time": "2023-01-10T07:37:31.298Z"
   },
   {
    "duration": 35,
    "start_time": "2023-01-10T07:37:38.622Z"
   },
   {
    "duration": 20,
    "start_time": "2023-01-10T07:37:39.941Z"
   },
   {
    "duration": 20,
    "start_time": "2023-01-10T07:38:27.120Z"
   },
   {
    "duration": 4,
    "start_time": "2023-01-10T07:38:31.303Z"
   },
   {
    "duration": 65,
    "start_time": "2023-01-10T07:38:31.309Z"
   },
   {
    "duration": 11,
    "start_time": "2023-01-10T07:38:31.376Z"
   },
   {
    "duration": 35,
    "start_time": "2023-01-10T07:38:31.388Z"
   },
   {
    "duration": 66,
    "start_time": "2023-01-10T07:38:31.425Z"
   },
   {
    "duration": 125,
    "start_time": "2023-01-10T07:38:31.493Z"
   },
   {
    "duration": 145,
    "start_time": "2023-01-10T07:38:31.621Z"
   },
   {
    "duration": 12,
    "start_time": "2023-01-10T07:38:31.768Z"
   },
   {
    "duration": 48,
    "start_time": "2023-01-10T07:38:31.783Z"
   },
   {
    "duration": 15,
    "start_time": "2023-01-10T07:38:31.833Z"
   },
   {
    "duration": 19,
    "start_time": "2023-01-10T07:38:31.850Z"
   },
   {
    "duration": 15,
    "start_time": "2023-01-10T07:38:31.871Z"
   },
   {
    "duration": 20,
    "start_time": "2023-01-10T07:38:31.888Z"
   },
   {
    "duration": 48,
    "start_time": "2023-01-10T07:38:31.909Z"
   },
   {
    "duration": 15,
    "start_time": "2023-01-10T07:38:31.959Z"
   },
   {
    "duration": 95477,
    "start_time": "2023-01-10T07:38:31.975Z"
   },
   {
    "duration": 9445,
    "start_time": "2023-01-10T07:40:07.453Z"
   },
   {
    "duration": 177,
    "start_time": "2023-01-10T07:40:16.900Z"
   },
   {
    "duration": 36,
    "start_time": "2023-01-10T07:40:17.079Z"
   },
   {
    "duration": 0,
    "start_time": "2023-01-10T07:40:17.117Z"
   },
   {
    "duration": 0,
    "start_time": "2023-01-10T07:40:17.119Z"
   },
   {
    "duration": 0,
    "start_time": "2023-01-10T07:40:17.121Z"
   },
   {
    "duration": 0,
    "start_time": "2023-01-10T07:40:17.122Z"
   },
   {
    "duration": 0,
    "start_time": "2023-01-10T07:40:17.123Z"
   },
   {
    "duration": 0,
    "start_time": "2023-01-10T07:40:17.125Z"
   },
   {
    "duration": 0,
    "start_time": "2023-01-10T07:40:17.126Z"
   },
   {
    "duration": 0,
    "start_time": "2023-01-10T07:40:17.127Z"
   },
   {
    "duration": 0,
    "start_time": "2023-01-10T07:40:17.128Z"
   },
   {
    "duration": 383,
    "start_time": "2023-01-10T07:43:29.666Z"
   },
   {
    "duration": 134,
    "start_time": "2023-01-10T07:43:51.777Z"
   },
   {
    "duration": 120,
    "start_time": "2023-01-10T07:44:05.375Z"
   },
   {
    "duration": 229,
    "start_time": "2023-01-10T07:44:16.739Z"
   },
   {
    "duration": 480,
    "start_time": "2023-01-10T07:44:21.706Z"
   },
   {
    "duration": 571,
    "start_time": "2023-01-10T07:44:26.064Z"
   },
   {
    "duration": 520,
    "start_time": "2023-01-10T07:44:32.406Z"
   },
   {
    "duration": 13,
    "start_time": "2023-01-10T07:55:33.479Z"
   },
   {
    "duration": 27,
    "start_time": "2023-01-10T07:55:35.299Z"
   },
   {
    "duration": 29,
    "start_time": "2023-01-10T07:56:17.850Z"
   },
   {
    "duration": 22,
    "start_time": "2023-01-10T07:56:40.909Z"
   },
   {
    "duration": 20,
    "start_time": "2023-01-10T07:56:51.854Z"
   },
   {
    "duration": 25,
    "start_time": "2023-01-10T07:57:02.123Z"
   },
   {
    "duration": 4,
    "start_time": "2023-01-10T07:57:10.416Z"
   },
   {
    "duration": 39,
    "start_time": "2023-01-10T07:57:10.429Z"
   },
   {
    "duration": 12,
    "start_time": "2023-01-10T07:57:10.470Z"
   },
   {
    "duration": 2,
    "start_time": "2023-01-10T07:57:10.509Z"
   },
   {
    "duration": 26,
    "start_time": "2023-01-10T07:57:10.513Z"
   },
   {
    "duration": 119,
    "start_time": "2023-01-10T07:57:10.540Z"
   },
   {
    "duration": 135,
    "start_time": "2023-01-10T07:57:10.662Z"
   },
   {
    "duration": 12,
    "start_time": "2023-01-10T07:57:10.799Z"
   },
   {
    "duration": 19,
    "start_time": "2023-01-10T07:57:10.813Z"
   },
   {
    "duration": 19,
    "start_time": "2023-01-10T07:57:10.834Z"
   },
   {
    "duration": 15,
    "start_time": "2023-01-10T07:57:10.855Z"
   },
   {
    "duration": 39,
    "start_time": "2023-01-10T07:57:10.871Z"
   },
   {
    "duration": 25,
    "start_time": "2023-01-10T07:57:10.911Z"
   },
   {
    "duration": 22,
    "start_time": "2023-01-10T07:57:10.937Z"
   },
   {
    "duration": 13,
    "start_time": "2023-01-10T07:57:10.960Z"
   },
   {
    "duration": 87459,
    "start_time": "2023-01-10T07:57:10.998Z"
   },
   {
    "duration": 1847,
    "start_time": "2023-01-10T07:58:38.459Z"
   },
   {
    "duration": 226,
    "start_time": "2023-01-10T07:58:40.399Z"
   },
   {
    "duration": 106,
    "start_time": "2023-01-10T07:58:40.626Z"
   },
   {
    "duration": 327,
    "start_time": "2023-01-10T07:58:40.734Z"
   },
   {
    "duration": 475,
    "start_time": "2023-01-10T07:58:41.063Z"
   },
   {
    "duration": 25,
    "start_time": "2023-01-10T07:58:41.539Z"
   },
   {
    "duration": 697,
    "start_time": "2023-01-10T07:58:41.565Z"
   },
   {
    "duration": 1941,
    "start_time": "2023-01-10T07:58:42.264Z"
   },
   {
    "duration": 88904,
    "start_time": "2023-01-10T07:58:44.207Z"
   },
   {
    "duration": 116,
    "start_time": "2023-01-10T08:00:13.112Z"
   },
   {
    "duration": 411,
    "start_time": "2023-01-10T08:00:13.230Z"
   },
   {
    "duration": 31,
    "start_time": "2023-01-10T08:00:29.438Z"
   },
   {
    "duration": 90,
    "start_time": "2023-01-10T08:00:40.810Z"
   },
   {
    "duration": 328,
    "start_time": "2023-01-10T08:01:03.742Z"
   },
   {
    "duration": 3,
    "start_time": "2023-01-10T08:01:44.207Z"
   },
   {
    "duration": 86678,
    "start_time": "2023-01-10T08:01:48.417Z"
   },
   {
    "duration": 30,
    "start_time": "2023-01-10T08:08:18.502Z"
   },
   {
    "duration": 26,
    "start_time": "2023-01-10T08:08:42.751Z"
   },
   {
    "duration": 1650,
    "start_time": "2023-01-10T08:08:48.049Z"
   },
   {
    "duration": 52,
    "start_time": "2023-01-10T08:08:57.853Z"
   },
   {
    "duration": 25,
    "start_time": "2023-01-10T08:09:06.646Z"
   },
   {
    "duration": 1723,
    "start_time": "2023-01-10T08:09:14.481Z"
   },
   {
    "duration": 2296,
    "start_time": "2023-01-10T08:09:41.902Z"
   },
   {
    "duration": 3222,
    "start_time": "2023-01-10T08:10:20.881Z"
   },
   {
    "duration": 24,
    "start_time": "2023-01-10T08:11:44.913Z"
   },
   {
    "duration": 2125,
    "start_time": "2023-01-10T08:11:57.580Z"
   },
   {
    "duration": 135,
    "start_time": "2023-01-10T08:12:32.221Z"
   },
   {
    "duration": 135,
    "start_time": "2023-01-10T08:12:44.148Z"
   },
   {
    "duration": 88384,
    "start_time": "2023-01-10T08:12:59.144Z"
   },
   {
    "duration": 110,
    "start_time": "2023-01-10T08:14:27.529Z"
   },
   {
    "duration": 12694,
    "start_time": "2023-01-10T08:26:39.519Z"
   },
   {
    "duration": 12,
    "start_time": "2023-01-10T08:28:54.850Z"
   },
   {
    "duration": 10,
    "start_time": "2023-01-10T08:29:04.108Z"
   },
   {
    "duration": 4,
    "start_time": "2023-01-10T08:29:30.201Z"
   },
   {
    "duration": 10,
    "start_time": "2023-01-10T08:29:53.060Z"
   },
   {
    "duration": 50,
    "start_time": "2023-01-10T08:30:50.922Z"
   },
   {
    "duration": 10,
    "start_time": "2023-01-10T08:30:57.115Z"
   },
   {
    "duration": 3,
    "start_time": "2023-01-10T08:31:37.157Z"
   },
   {
    "duration": 17732,
    "start_time": "2023-01-10T08:31:43.774Z"
   },
   {
    "duration": 8,
    "start_time": "2023-01-10T08:32:42.218Z"
   },
   {
    "duration": 1692,
    "start_time": "2023-01-10T08:32:46.833Z"
   },
   {
    "duration": 10,
    "start_time": "2023-01-10T08:32:50.776Z"
   },
   {
    "duration": 6,
    "start_time": "2023-01-10T08:33:38.819Z"
   },
   {
    "duration": 10,
    "start_time": "2023-01-10T08:33:56.708Z"
   },
   {
    "duration": 17,
    "start_time": "2023-01-10T08:34:03.701Z"
   },
   {
    "duration": 7,
    "start_time": "2023-01-10T08:34:18.074Z"
   },
   {
    "duration": 9,
    "start_time": "2023-01-10T08:34:44.350Z"
   },
   {
    "duration": 57,
    "start_time": "2023-01-10T08:37:56.413Z"
   },
   {
    "duration": 14,
    "start_time": "2023-01-10T08:38:05.419Z"
   },
   {
    "duration": 5,
    "start_time": "2023-01-10T08:38:24.436Z"
   },
   {
    "duration": 75,
    "start_time": "2023-01-10T08:42:24.963Z"
   },
   {
    "duration": 9,
    "start_time": "2023-01-10T08:42:31.975Z"
   },
   {
    "duration": 8,
    "start_time": "2023-01-10T08:43:29.656Z"
   },
   {
    "duration": 9,
    "start_time": "2023-01-10T08:43:42.876Z"
   },
   {
    "duration": 11,
    "start_time": "2023-01-10T08:44:03.549Z"
   },
   {
    "duration": 8,
    "start_time": "2023-01-10T08:44:07.606Z"
   },
   {
    "duration": 3,
    "start_time": "2023-01-10T08:44:19.110Z"
   },
   {
    "duration": 8,
    "start_time": "2023-01-10T08:44:36.139Z"
   },
   {
    "duration": 4,
    "start_time": "2023-01-10T08:44:41.604Z"
   },
   {
    "duration": 103,
    "start_time": "2023-01-10T08:44:54.851Z"
   },
   {
    "duration": 10,
    "start_time": "2023-01-10T08:53:51.932Z"
   },
   {
    "duration": 293,
    "start_time": "2023-01-10T08:54:23.085Z"
   },
   {
    "duration": 318,
    "start_time": "2023-01-10T08:55:40.688Z"
   },
   {
    "duration": 4,
    "start_time": "2023-01-10T08:56:32.564Z"
   },
   {
    "duration": 40,
    "start_time": "2023-01-10T08:56:32.758Z"
   },
   {
    "duration": 12,
    "start_time": "2023-01-10T08:56:32.799Z"
   },
   {
    "duration": 9,
    "start_time": "2023-01-10T08:56:32.812Z"
   },
   {
    "duration": 14,
    "start_time": "2023-01-10T08:56:32.822Z"
   },
   {
    "duration": 125,
    "start_time": "2023-01-10T08:56:32.838Z"
   },
   {
    "duration": 134,
    "start_time": "2023-01-10T08:56:32.965Z"
   },
   {
    "duration": 12,
    "start_time": "2023-01-10T08:56:33.101Z"
   },
   {
    "duration": 40,
    "start_time": "2023-01-10T08:56:33.115Z"
   },
   {
    "duration": 15,
    "start_time": "2023-01-10T08:56:33.157Z"
   },
   {
    "duration": 12,
    "start_time": "2023-01-10T08:56:33.173Z"
   },
   {
    "duration": 25,
    "start_time": "2023-01-10T08:56:33.186Z"
   },
   {
    "duration": 25,
    "start_time": "2023-01-10T08:56:33.213Z"
   },
   {
    "duration": 19,
    "start_time": "2023-01-10T08:56:33.240Z"
   },
   {
    "duration": 69414,
    "start_time": "2023-01-10T08:56:33.261Z"
   },
   {
    "duration": 17829,
    "start_time": "2023-01-10T08:57:42.677Z"
   },
   {
    "duration": 1742,
    "start_time": "2023-01-10T08:58:00.508Z"
   },
   {
    "duration": 7,
    "start_time": "2023-01-10T08:58:02.252Z"
   },
   {
    "duration": 13,
    "start_time": "2023-01-10T08:58:02.261Z"
   },
   {
    "duration": 137,
    "start_time": "2023-01-10T08:58:02.275Z"
   },
   {
    "duration": 368,
    "start_time": "2023-01-10T08:58:02.414Z"
   },
   {
    "duration": 775,
    "start_time": "2023-01-10T08:58:02.783Z"
   },
   {
    "duration": 39,
    "start_time": "2023-01-10T08:58:03.560Z"
   },
   {
    "duration": 718,
    "start_time": "2023-01-10T08:58:03.601Z"
   },
   {
    "duration": 1881,
    "start_time": "2023-01-10T08:58:04.321Z"
   },
   {
    "duration": 90025,
    "start_time": "2023-01-10T08:58:06.205Z"
   },
   {
    "duration": 119,
    "start_time": "2023-01-10T08:59:36.232Z"
   },
   {
    "duration": 414,
    "start_time": "2023-01-10T08:59:36.352Z"
   },
   {
    "duration": 67882,
    "start_time": "2023-01-10T09:03:01.639Z"
   },
   {
    "duration": 15603,
    "start_time": "2023-01-10T09:32:08.199Z"
   },
   {
    "duration": 1815,
    "start_time": "2023-01-10T09:32:55.387Z"
   },
   {
    "duration": 17781,
    "start_time": "2023-01-10T09:34:16.750Z"
   },
   {
    "duration": 17156,
    "start_time": "2023-01-10T09:34:37.873Z"
   },
   {
    "duration": 9,
    "start_time": "2023-01-10T09:42:08.781Z"
   },
   {
    "duration": 69342,
    "start_time": "2023-01-10T09:42:21.009Z"
   },
   {
    "duration": 17271,
    "start_time": "2023-01-10T09:43:30.353Z"
   },
   {
    "duration": 1745,
    "start_time": "2023-01-10T09:43:47.626Z"
   },
   {
    "duration": 8,
    "start_time": "2023-01-10T09:43:49.373Z"
   },
   {
    "duration": 1897,
    "start_time": "2023-01-10T09:43:54.337Z"
   },
   {
    "duration": 15456,
    "start_time": "2023-01-10T09:44:04.157Z"
   },
   {
    "duration": 67291,
    "start_time": "2023-01-10T09:44:19.614Z"
   },
   {
    "duration": 295,
    "start_time": "2023-01-10T09:49:00.675Z"
   },
   {
    "duration": 635,
    "start_time": "2023-01-10T09:49:05.819Z"
   },
   {
    "duration": 1865,
    "start_time": "2023-01-10T09:49:47.686Z"
   },
   {
    "duration": 16101,
    "start_time": "2023-01-10T09:50:06.723Z"
   },
   {
    "duration": 4,
    "start_time": "2023-01-10T09:51:59.773Z"
   },
   {
    "duration": 41,
    "start_time": "2023-01-10T09:51:59.791Z"
   },
   {
    "duration": 11,
    "start_time": "2023-01-10T09:51:59.834Z"
   },
   {
    "duration": 9,
    "start_time": "2023-01-10T09:51:59.846Z"
   },
   {
    "duration": 17,
    "start_time": "2023-01-10T09:51:59.856Z"
   },
   {
    "duration": 142,
    "start_time": "2023-01-10T09:51:59.875Z"
   },
   {
    "duration": 163,
    "start_time": "2023-01-10T09:52:00.019Z"
   },
   {
    "duration": 17,
    "start_time": "2023-01-10T09:52:00.183Z"
   },
   {
    "duration": 69,
    "start_time": "2023-01-10T09:52:00.201Z"
   },
   {
    "duration": 27,
    "start_time": "2023-01-10T09:52:00.271Z"
   },
   {
    "duration": 38,
    "start_time": "2023-01-10T09:52:00.299Z"
   },
   {
    "duration": 42,
    "start_time": "2023-01-10T09:52:00.339Z"
   },
   {
    "duration": 114,
    "start_time": "2023-01-10T09:52:00.383Z"
   },
   {
    "duration": 54,
    "start_time": "2023-01-10T09:52:00.499Z"
   },
   {
    "duration": 68594,
    "start_time": "2023-01-10T09:52:00.556Z"
   },
   {
    "duration": 17681,
    "start_time": "2023-01-10T09:53:09.152Z"
   },
   {
    "duration": 1837,
    "start_time": "2023-01-10T09:53:26.834Z"
   },
   {
    "duration": 9,
    "start_time": "2023-01-10T09:53:28.673Z"
   },
   {
    "duration": 15,
    "start_time": "2023-01-10T09:53:28.683Z"
   },
   {
    "duration": 117,
    "start_time": "2023-01-10T09:53:28.699Z"
   },
   {
    "duration": 334,
    "start_time": "2023-01-10T09:53:28.818Z"
   },
   {
    "duration": 751,
    "start_time": "2023-01-10T09:53:29.154Z"
   },
   {
    "duration": 1925,
    "start_time": "2023-01-10T09:53:29.906Z"
   },
   {
    "duration": 16091,
    "start_time": "2023-01-10T09:53:31.832Z"
   },
   {
    "duration": 69313,
    "start_time": "2023-01-10T09:53:47.925Z"
   },
   {
    "duration": 121,
    "start_time": "2023-01-10T09:54:57.239Z"
   },
   {
    "duration": 635,
    "start_time": "2023-01-10T09:54:57.362Z"
   },
   {
    "duration": 270,
    "start_time": "2023-01-10T09:54:57.998Z"
   },
   {
    "duration": 17568,
    "start_time": "2023-01-10T09:56:10.042Z"
   },
   {
    "duration": 4,
    "start_time": "2023-01-10T09:58:45.830Z"
   },
   {
    "duration": 41,
    "start_time": "2023-01-10T09:58:45.925Z"
   },
   {
    "duration": 12,
    "start_time": "2023-01-10T09:58:45.968Z"
   },
   {
    "duration": 8,
    "start_time": "2023-01-10T09:58:45.981Z"
   },
   {
    "duration": 14,
    "start_time": "2023-01-10T09:58:45.990Z"
   },
   {
    "duration": 129,
    "start_time": "2023-01-10T09:58:46.006Z"
   },
   {
    "duration": 124,
    "start_time": "2023-01-10T09:58:46.137Z"
   },
   {
    "duration": 12,
    "start_time": "2023-01-10T09:58:46.262Z"
   },
   {
    "duration": 30,
    "start_time": "2023-01-10T09:58:46.275Z"
   },
   {
    "duration": 14,
    "start_time": "2023-01-10T09:58:46.308Z"
   },
   {
    "duration": 12,
    "start_time": "2023-01-10T09:58:46.324Z"
   },
   {
    "duration": 15,
    "start_time": "2023-01-10T09:58:46.338Z"
   },
   {
    "duration": 49,
    "start_time": "2023-01-10T09:58:46.355Z"
   },
   {
    "duration": 21,
    "start_time": "2023-01-10T09:58:46.405Z"
   },
   {
    "duration": 68604,
    "start_time": "2023-01-10T09:58:46.428Z"
   },
   {
    "duration": 17664,
    "start_time": "2023-01-10T09:59:55.034Z"
   },
   {
    "duration": 1815,
    "start_time": "2023-01-10T10:00:12.703Z"
   },
   {
    "duration": 8,
    "start_time": "2023-01-10T10:00:14.519Z"
   },
   {
    "duration": 172,
    "start_time": "2023-01-10T10:00:14.528Z"
   },
   {
    "duration": 277,
    "start_time": "2023-01-10T10:00:14.703Z"
   },
   {
    "duration": 764,
    "start_time": "2023-01-10T10:00:14.997Z"
   },
   {
    "duration": 1821,
    "start_time": "2023-01-10T10:00:15.763Z"
   },
   {
    "duration": 15725,
    "start_time": "2023-01-10T10:00:17.585Z"
   },
   {
    "duration": 69109,
    "start_time": "2023-01-10T10:00:33.399Z"
   },
   {
    "duration": 9,
    "start_time": "2023-01-10T10:01:42.510Z"
   },
   {
    "duration": 131,
    "start_time": "2023-01-10T10:01:42.520Z"
   },
   {
    "duration": 612,
    "start_time": "2023-01-10T10:01:42.652Z"
   },
   {
    "duration": 302,
    "start_time": "2023-01-10T10:01:43.265Z"
   },
   {
    "duration": 801,
    "start_time": "2023-01-10T10:08:53.601Z"
   },
   {
    "duration": 4,
    "start_time": "2023-01-10T10:09:33.338Z"
   },
   {
    "duration": 41,
    "start_time": "2023-01-10T10:09:33.348Z"
   },
   {
    "duration": 11,
    "start_time": "2023-01-10T10:09:33.391Z"
   },
   {
    "duration": 8,
    "start_time": "2023-01-10T10:09:33.403Z"
   },
   {
    "duration": 13,
    "start_time": "2023-01-10T10:09:33.412Z"
   },
   {
    "duration": 122,
    "start_time": "2023-01-10T10:09:33.427Z"
   },
   {
    "duration": 123,
    "start_time": "2023-01-10T10:09:33.550Z"
   },
   {
    "duration": 12,
    "start_time": "2023-01-10T10:09:33.676Z"
   },
   {
    "duration": 11,
    "start_time": "2023-01-10T10:09:33.697Z"
   },
   {
    "duration": 14,
    "start_time": "2023-01-10T10:09:33.709Z"
   },
   {
    "duration": 11,
    "start_time": "2023-01-10T10:09:33.724Z"
   },
   {
    "duration": 17,
    "start_time": "2023-01-10T10:09:33.737Z"
   },
   {
    "duration": 146,
    "start_time": "2023-01-10T10:09:33.755Z"
   },
   {
    "duration": 19,
    "start_time": "2023-01-10T10:09:33.903Z"
   },
   {
    "duration": 67752,
    "start_time": "2023-01-10T10:09:33.924Z"
   },
   {
    "duration": 17536,
    "start_time": "2023-01-10T10:10:41.678Z"
   },
   {
    "duration": 2019,
    "start_time": "2023-01-10T10:10:59.216Z"
   },
   {
    "duration": 11,
    "start_time": "2023-01-10T10:11:01.236Z"
   },
   {
    "duration": 140,
    "start_time": "2023-01-10T10:11:01.248Z"
   },
   {
    "duration": 365,
    "start_time": "2023-01-10T10:11:01.397Z"
   },
   {
    "duration": 797,
    "start_time": "2023-01-10T10:11:01.764Z"
   },
   {
    "duration": 1863,
    "start_time": "2023-01-10T10:11:02.563Z"
   },
   {
    "duration": 16471,
    "start_time": "2023-01-10T10:11:04.428Z"
   },
   {
    "duration": 68971,
    "start_time": "2023-01-10T10:11:20.902Z"
   },
   {
    "duration": 8,
    "start_time": "2023-01-10T10:12:29.875Z"
   },
   {
    "duration": 912,
    "start_time": "2023-01-10T10:12:29.885Z"
   },
   {
    "duration": 614,
    "start_time": "2023-01-10T10:12:30.799Z"
   },
   {
    "duration": 254,
    "start_time": "2023-01-10T10:12:31.414Z"
   },
   {
    "duration": 104,
    "start_time": "2023-01-10T10:14:51.252Z"
   },
   {
    "duration": 605,
    "start_time": "2023-01-10T10:14:55.861Z"
   },
   {
    "duration": 268,
    "start_time": "2023-01-10T10:15:06.006Z"
   },
   {
    "duration": 8,
    "start_time": "2023-01-10T10:18:53.522Z"
   },
   {
    "duration": 10,
    "start_time": "2023-01-10T10:19:34.417Z"
   },
   {
    "duration": 9,
    "start_time": "2023-01-10T10:19:42.141Z"
   },
   {
    "duration": 10,
    "start_time": "2023-01-10T10:19:42.873Z"
   },
   {
    "duration": 4,
    "start_time": "2023-01-10T10:20:00.705Z"
   },
   {
    "duration": 100,
    "start_time": "2023-01-10T10:20:00.713Z"
   },
   {
    "duration": 12,
    "start_time": "2023-01-10T10:20:00.815Z"
   },
   {
    "duration": 56,
    "start_time": "2023-01-10T10:20:00.828Z"
   },
   {
    "duration": 81,
    "start_time": "2023-01-10T10:20:00.886Z"
   },
   {
    "duration": 149,
    "start_time": "2023-01-10T10:20:00.969Z"
   },
   {
    "duration": 132,
    "start_time": "2023-01-10T10:20:01.120Z"
   },
   {
    "duration": 13,
    "start_time": "2023-01-10T10:20:01.254Z"
   },
   {
    "duration": 139,
    "start_time": "2023-01-10T10:20:01.270Z"
   },
   {
    "duration": 121,
    "start_time": "2023-01-10T10:20:01.411Z"
   },
   {
    "duration": 205,
    "start_time": "2023-01-10T10:20:01.535Z"
   },
   {
    "duration": 80,
    "start_time": "2023-01-10T10:20:01.742Z"
   },
   {
    "duration": 80,
    "start_time": "2023-01-10T10:20:01.825Z"
   },
   {
    "duration": 94,
    "start_time": "2023-01-10T10:20:01.907Z"
   },
   {
    "duration": 74794,
    "start_time": "2023-01-10T10:20:02.003Z"
   },
   {
    "duration": 18018,
    "start_time": "2023-01-10T10:21:16.799Z"
   },
   {
    "duration": 2156,
    "start_time": "2023-01-10T10:21:34.819Z"
   },
   {
    "duration": 9,
    "start_time": "2023-01-10T10:21:36.976Z"
   },
   {
    "duration": 132,
    "start_time": "2023-01-10T10:21:36.986Z"
   },
   {
    "duration": 364,
    "start_time": "2023-01-10T10:21:37.120Z"
   },
   {
    "duration": 815,
    "start_time": "2023-01-10T10:21:37.497Z"
   },
   {
    "duration": 1973,
    "start_time": "2023-01-10T10:21:38.314Z"
   },
   {
    "duration": 16319,
    "start_time": "2023-01-10T10:21:40.288Z"
   },
   {
    "duration": 69792,
    "start_time": "2023-01-10T10:21:56.609Z"
   },
   {
    "duration": 10,
    "start_time": "2023-01-10T10:23:06.403Z"
   },
   {
    "duration": 15,
    "start_time": "2023-01-10T10:23:06.414Z"
   },
   {
    "duration": 120,
    "start_time": "2023-01-10T10:23:06.431Z"
   },
   {
    "duration": 617,
    "start_time": "2023-01-10T10:23:06.552Z"
   },
   {
    "duration": 306,
    "start_time": "2023-01-10T10:23:07.172Z"
   },
   {
    "duration": 10,
    "start_time": "2023-01-10T10:24:17.987Z"
   },
   {
    "duration": 18,
    "start_time": "2023-01-10T10:31:47.548Z"
   },
   {
    "duration": 4,
    "start_time": "2023-01-10T10:32:22.370Z"
   },
   {
    "duration": 19,
    "start_time": "2023-01-10T10:32:30.034Z"
   },
   {
    "duration": 620,
    "start_time": "2023-01-10T10:32:47.966Z"
   },
   {
    "duration": 136863,
    "start_time": "2023-01-10T10:36:10.636Z"
   },
   {
    "duration": 138764,
    "start_time": "2023-01-10T10:40:47.423Z"
   },
   {
    "duration": 137553,
    "start_time": "2023-01-10T10:43:41.061Z"
   },
   {
    "duration": 12,
    "start_time": "2023-01-10T11:09:37.977Z"
   },
   {
    "duration": 9,
    "start_time": "2023-01-10T11:12:06.495Z"
   },
   {
    "duration": 110,
    "start_time": "2023-01-10T11:12:34.124Z"
   },
   {
    "duration": 766,
    "start_time": "2023-01-10T11:12:37.126Z"
   },
   {
    "duration": 224,
    "start_time": "2023-01-10T11:13:29.253Z"
   },
   {
    "duration": 1445,
    "start_time": "2023-01-10T11:13:51.213Z"
   },
   {
    "duration": 818,
    "start_time": "2023-01-10T11:17:25.364Z"
   },
   {
    "duration": 141560,
    "start_time": "2023-01-10T11:19:24.139Z"
   },
   {
    "duration": 9,
    "start_time": "2023-01-10T11:21:55.422Z"
   },
   {
    "duration": 9,
    "start_time": "2023-01-10T11:22:00.926Z"
   },
   {
    "duration": 129,
    "start_time": "2023-01-10T11:22:05.146Z"
   },
   {
    "duration": 1463,
    "start_time": "2023-01-10T11:22:08.280Z"
   },
   {
    "duration": 148179,
    "start_time": "2023-01-10T11:22:55.436Z"
   },
   {
    "duration": 15,
    "start_time": "2023-01-10T11:25:23.617Z"
   },
   {
    "duration": 67,
    "start_time": "2023-01-10T11:25:23.633Z"
   },
   {
    "duration": 4,
    "start_time": "2023-01-10T11:25:52.942Z"
   },
   {
    "duration": 40,
    "start_time": "2023-01-10T11:25:52.955Z"
   },
   {
    "duration": 17,
    "start_time": "2023-01-10T11:25:52.997Z"
   },
   {
    "duration": 4,
    "start_time": "2023-01-10T11:25:53.016Z"
   },
   {
    "duration": 14,
    "start_time": "2023-01-10T11:25:53.021Z"
   },
   {
    "duration": 136,
    "start_time": "2023-01-10T11:25:53.037Z"
   },
   {
    "duration": 135,
    "start_time": "2023-01-10T11:25:53.175Z"
   },
   {
    "duration": 15,
    "start_time": "2023-01-10T11:25:53.312Z"
   },
   {
    "duration": 21,
    "start_time": "2023-01-10T11:25:53.328Z"
   },
   {
    "duration": 13,
    "start_time": "2023-01-10T11:25:53.352Z"
   },
   {
    "duration": 14,
    "start_time": "2023-01-10T11:25:53.366Z"
   },
   {
    "duration": 30,
    "start_time": "2023-01-10T11:25:53.397Z"
   },
   {
    "duration": 26,
    "start_time": "2023-01-10T11:25:53.429Z"
   },
   {
    "duration": 22,
    "start_time": "2023-01-10T11:25:53.457Z"
   },
   {
    "duration": 70251,
    "start_time": "2023-01-10T11:25:53.480Z"
   },
   {
    "duration": 14778,
    "start_time": "2023-01-10T11:27:03.732Z"
   },
   {
    "duration": 2061,
    "start_time": "2023-01-10T11:27:18.512Z"
   },
   {
    "duration": 8,
    "start_time": "2023-01-10T11:27:20.575Z"
   },
   {
    "duration": 144,
    "start_time": "2023-01-10T11:27:20.584Z"
   },
   {
    "duration": 337,
    "start_time": "2023-01-10T11:27:20.729Z"
   },
   {
    "duration": 859,
    "start_time": "2023-01-10T11:27:21.069Z"
   },
   {
    "duration": 18,
    "start_time": "2023-01-10T11:27:21.930Z"
   },
   {
    "duration": 3792,
    "start_time": "2023-01-10T11:27:21.949Z"
   },
   {
    "duration": 19665,
    "start_time": "2023-01-10T11:27:25.743Z"
   },
   {
    "duration": 148380,
    "start_time": "2023-01-10T11:27:45.410Z"
   },
   {
    "duration": 22,
    "start_time": "2023-01-10T11:30:13.791Z"
   },
   {
    "duration": 11,
    "start_time": "2023-01-10T11:30:13.817Z"
   },
   {
    "duration": 3890,
    "start_time": "2023-01-10T11:30:13.830Z"
   },
   {
    "duration": 156965,
    "start_time": "2023-01-10T11:30:17.722Z"
   },
   {
    "duration": 19698,
    "start_time": "2023-01-10T11:32:54.688Z"
   },
   {
    "duration": 5,
    "start_time": "2023-01-10T11:34:16.764Z"
   },
   {
    "duration": 151775,
    "start_time": "2023-01-10T11:36:00.083Z"
   },
   {
    "duration": 4,
    "start_time": "2023-01-10T11:40:50.975Z"
   },
   {
    "duration": 5,
    "start_time": "2023-01-10T11:53:10.555Z"
   },
   {
    "duration": 147097,
    "start_time": "2023-01-10T11:55:28.366Z"
   },
   {
    "duration": 5,
    "start_time": "2023-01-10T12:21:42.310Z"
   },
   {
    "duration": 4,
    "start_time": "2023-01-10T12:22:16.070Z"
   },
   {
    "duration": 121,
    "start_time": "2023-01-10T12:48:56.958Z"
   },
   {
    "duration": 20,
    "start_time": "2023-01-10T12:51:22.000Z"
   },
   {
    "duration": 16,
    "start_time": "2023-01-10T12:54:29.628Z"
   },
   {
    "duration": 50,
    "start_time": "2023-01-10T12:54:39.550Z"
   },
   {
    "duration": 26,
    "start_time": "2023-01-10T12:55:29.638Z"
   },
   {
    "duration": 38,
    "start_time": "2023-01-10T12:55:31.005Z"
   },
   {
    "duration": 35,
    "start_time": "2023-01-10T12:56:46.535Z"
   },
   {
    "duration": 54,
    "start_time": "2023-01-10T12:56:57.041Z"
   },
   {
    "duration": 43,
    "start_time": "2023-01-10T12:59:23.642Z"
   },
   {
    "duration": 8,
    "start_time": "2023-01-10T13:08:31.564Z"
   },
   {
    "duration": 1152,
    "start_time": "2023-01-10T18:45:06.583Z"
   },
   {
    "duration": 86,
    "start_time": "2023-01-10T18:45:07.737Z"
   },
   {
    "duration": 27,
    "start_time": "2023-01-10T18:45:07.824Z"
   },
   {
    "duration": 4,
    "start_time": "2023-01-10T18:45:07.853Z"
   },
   {
    "duration": 34,
    "start_time": "2023-01-10T18:45:07.858Z"
   },
   {
    "duration": 638,
    "start_time": "2023-01-10T18:45:07.893Z"
   },
   {
    "duration": 142,
    "start_time": "2023-01-10T18:45:08.533Z"
   },
   {
    "duration": 15,
    "start_time": "2023-01-10T18:45:08.676Z"
   },
   {
    "duration": 15,
    "start_time": "2023-01-10T18:45:08.692Z"
   },
   {
    "duration": 16,
    "start_time": "2023-01-10T18:45:08.709Z"
   },
   {
    "duration": 16,
    "start_time": "2023-01-10T18:45:08.727Z"
   },
   {
    "duration": 46,
    "start_time": "2023-01-10T18:45:08.745Z"
   },
   {
    "duration": 143,
    "start_time": "2023-01-10T18:45:08.793Z"
   },
   {
    "duration": 0,
    "start_time": "2023-01-10T18:45:08.937Z"
   },
   {
    "duration": 0,
    "start_time": "2023-01-10T18:45:08.939Z"
   },
   {
    "duration": 0,
    "start_time": "2023-01-10T18:45:08.940Z"
   },
   {
    "duration": 0,
    "start_time": "2023-01-10T18:45:08.941Z"
   },
   {
    "duration": 0,
    "start_time": "2023-01-10T18:45:08.942Z"
   },
   {
    "duration": 0,
    "start_time": "2023-01-10T18:45:08.943Z"
   },
   {
    "duration": 0,
    "start_time": "2023-01-10T18:45:08.944Z"
   },
   {
    "duration": 0,
    "start_time": "2023-01-10T18:45:08.945Z"
   },
   {
    "duration": 0,
    "start_time": "2023-01-10T18:45:08.946Z"
   },
   {
    "duration": 0,
    "start_time": "2023-01-10T18:45:08.947Z"
   },
   {
    "duration": 0,
    "start_time": "2023-01-10T18:45:08.948Z"
   },
   {
    "duration": 0,
    "start_time": "2023-01-10T18:45:08.949Z"
   },
   {
    "duration": 55,
    "start_time": "2023-01-10T18:47:25.881Z"
   },
   {
    "duration": 86441,
    "start_time": "2023-01-10T18:47:39.353Z"
   },
   {
    "duration": 12290,
    "start_time": "2023-01-10T18:49:05.796Z"
   },
   {
    "duration": 4192,
    "start_time": "2023-01-10T18:49:18.090Z"
   },
   {
    "duration": 19,
    "start_time": "2023-01-10T18:49:22.285Z"
   },
   {
    "duration": 117,
    "start_time": "2023-01-10T18:49:22.306Z"
   },
   {
    "duration": 5768,
    "start_time": "2023-01-10T18:49:22.425Z"
   },
   {
    "duration": 4,
    "start_time": "2023-01-10T18:49:28.195Z"
   },
   {
    "duration": 19781,
    "start_time": "2023-01-10T18:49:28.201Z"
   },
   {
    "duration": 183365,
    "start_time": "2023-01-10T18:49:47.984Z"
   },
   {
    "duration": 10,
    "start_time": "2023-01-10T18:52:51.351Z"
   },
   {
    "duration": 31,
    "start_time": "2023-01-10T18:52:51.362Z"
   },
   {
    "duration": 4194,
    "start_time": "2023-01-10T18:52:51.396Z"
   },
   {
    "duration": 9,
    "start_time": "2023-01-10T18:53:45.495Z"
   },
   {
    "duration": 4099,
    "start_time": "2023-01-10T18:53:45.508Z"
   },
   {
    "duration": 19988,
    "start_time": "2023-01-10T18:53:49.609Z"
   },
   {
    "duration": 165115,
    "start_time": "2023-01-10T18:54:09.598Z"
   },
   {
    "duration": 9,
    "start_time": "2023-01-10T18:56:54.716Z"
   },
   {
    "duration": 11,
    "start_time": "2023-01-10T18:56:54.727Z"
   },
   {
    "duration": 23,
    "start_time": "2023-01-10T18:56:54.740Z"
   },
   {
    "duration": 26,
    "start_time": "2023-01-10T18:56:54.764Z"
   },
   {
    "duration": 4170,
    "start_time": "2023-01-10T18:56:54.791Z"
   },
   {
    "duration": 0,
    "start_time": "2023-01-10T18:56:58.963Z"
   },
   {
    "duration": 0,
    "start_time": "2023-01-10T18:56:58.964Z"
   },
   {
    "duration": 11,
    "start_time": "2023-01-10T18:57:06.723Z"
   },
   {
    "duration": 111,
    "start_time": "2023-01-10T18:57:09.644Z"
   },
   {
    "duration": 15,
    "start_time": "2023-01-10T18:58:10.303Z"
   },
   {
    "duration": 14,
    "start_time": "2023-01-10T18:58:30.511Z"
   },
   {
    "duration": 12,
    "start_time": "2023-01-10T18:58:53.432Z"
   },
   {
    "duration": 12,
    "start_time": "2023-01-10T19:02:50.329Z"
   },
   {
    "duration": 12,
    "start_time": "2023-01-10T19:03:31.329Z"
   },
   {
    "duration": 6,
    "start_time": "2023-01-10T19:10:42.667Z"
   },
   {
    "duration": 41,
    "start_time": "2023-01-10T19:10:42.698Z"
   },
   {
    "duration": 14,
    "start_time": "2023-01-10T19:10:42.741Z"
   },
   {
    "duration": 9,
    "start_time": "2023-01-10T19:10:42.757Z"
   },
   {
    "duration": 17,
    "start_time": "2023-01-10T19:10:42.769Z"
   },
   {
    "duration": 154,
    "start_time": "2023-01-10T19:10:42.788Z"
   },
   {
    "duration": 168,
    "start_time": "2023-01-10T19:10:42.944Z"
   },
   {
    "duration": 20,
    "start_time": "2023-01-10T19:10:43.114Z"
   },
   {
    "duration": 42,
    "start_time": "2023-01-10T19:10:43.135Z"
   },
   {
    "duration": 37,
    "start_time": "2023-01-10T19:10:43.179Z"
   },
   {
    "duration": 36,
    "start_time": "2023-01-10T19:10:43.219Z"
   },
   {
    "duration": 63,
    "start_time": "2023-01-10T19:10:43.258Z"
   },
   {
    "duration": 44,
    "start_time": "2023-01-10T19:10:43.324Z"
   },
   {
    "duration": 88568,
    "start_time": "2023-01-10T19:10:43.370Z"
   },
   {
    "duration": 13550,
    "start_time": "2023-01-10T19:12:11.939Z"
   },
   {
    "duration": 2639,
    "start_time": "2023-01-10T19:12:25.496Z"
   },
   {
    "duration": 10,
    "start_time": "2023-01-10T19:12:28.137Z"
   },
   {
    "duration": 2588,
    "start_time": "2023-01-10T19:12:28.149Z"
   },
   {
    "duration": 13140,
    "start_time": "2023-01-10T19:12:30.739Z"
   },
   {
    "duration": 85924,
    "start_time": "2023-01-10T19:12:43.885Z"
   },
   {
    "duration": 10,
    "start_time": "2023-01-10T19:14:09.811Z"
   },
   {
    "duration": 19,
    "start_time": "2023-01-10T19:14:09.823Z"
   },
   {
    "duration": 37,
    "start_time": "2023-01-10T19:14:09.844Z"
   },
   {
    "duration": 179303,
    "start_time": "2023-01-10T19:14:09.886Z"
   },
   {
    "duration": 8,
    "start_time": "2023-01-10T19:17:09.196Z"
   },
   {
    "duration": 4504,
    "start_time": "2023-01-10T19:17:09.206Z"
   },
   {
    "duration": 13167,
    "start_time": "2023-01-10T19:18:09.123Z"
   },
   {
    "duration": 87361,
    "start_time": "2023-01-10T19:18:35.324Z"
   },
   {
    "duration": 88300,
    "start_time": "2023-01-10T19:21:01.796Z"
   },
   {
    "duration": 2326,
    "start_time": "2023-01-10T19:22:30.099Z"
   },
   {
    "duration": 14,
    "start_time": "2023-01-10T19:28:57.956Z"
   },
   {
    "duration": 165276,
    "start_time": "2023-01-10T19:28:58.019Z"
   },
   {
    "duration": 19407,
    "start_time": "2023-01-10T19:31:43.297Z"
   },
   {
    "duration": 4324,
    "start_time": "2023-01-10T19:32:02.777Z"
   },
   {
    "duration": 10,
    "start_time": "2023-01-10T19:32:07.103Z"
   },
   {
    "duration": 30,
    "start_time": "2023-01-10T19:32:07.115Z"
   },
   {
    "duration": 0,
    "start_time": "2023-01-10T19:32:07.148Z"
   },
   {
    "duration": 0,
    "start_time": "2023-01-10T19:32:07.149Z"
   },
   {
    "duration": 19,
    "start_time": "2023-01-10T19:32:44.570Z"
   },
   {
    "duration": 10,
    "start_time": "2023-01-10T19:34:11.033Z"
   },
   {
    "duration": 10,
    "start_time": "2023-01-10T19:35:05.361Z"
   },
   {
    "duration": 30045,
    "start_time": "2023-01-10T19:36:29.197Z"
   },
   {
    "duration": 135,
    "start_time": "2023-01-10T19:38:59.837Z"
   },
   {
    "duration": 12,
    "start_time": "2023-01-10T19:41:57.323Z"
   },
   {
    "duration": 3,
    "start_time": "2023-01-10T19:43:53.023Z"
   },
   {
    "duration": 14,
    "start_time": "2023-01-10T19:46:33.361Z"
   },
   {
    "duration": 32,
    "start_time": "2023-01-10T19:48:05.568Z"
   },
   {
    "duration": 15,
    "start_time": "2023-01-10T19:48:27.297Z"
   },
   {
    "duration": 17,
    "start_time": "2023-01-10T19:48:40.398Z"
   },
   {
    "duration": 16,
    "start_time": "2023-01-10T19:49:01.323Z"
   },
   {
    "duration": 209,
    "start_time": "2023-01-10T19:50:25.497Z"
   },
   {
    "duration": 68,
    "start_time": "2023-01-10T19:51:28.271Z"
   },
   {
    "duration": 31867,
    "start_time": "2023-01-10T19:52:54.659Z"
   },
   {
    "duration": 63,
    "start_time": "2023-01-10T19:53:26.528Z"
   },
   {
    "duration": 40,
    "start_time": "2023-01-10T19:53:26.594Z"
   },
   {
    "duration": 51,
    "start_time": "2023-01-10T19:54:02.834Z"
   },
   {
    "duration": 44,
    "start_time": "2023-01-10T19:54:13.753Z"
   },
   {
    "duration": 41,
    "start_time": "2023-01-10T19:54:22.200Z"
   },
   {
    "duration": 70,
    "start_time": "2023-01-10T19:54:39.257Z"
   },
   {
    "duration": 38,
    "start_time": "2023-01-10T19:54:44.494Z"
   },
   {
    "duration": 44,
    "start_time": "2023-01-10T19:56:00.728Z"
   },
   {
    "duration": 44,
    "start_time": "2023-01-10T19:57:06.338Z"
   },
   {
    "duration": 4,
    "start_time": "2023-01-10T19:58:45.337Z"
   },
   {
    "duration": 5,
    "start_time": "2023-01-10T19:59:12.353Z"
   },
   {
    "duration": 57,
    "start_time": "2023-01-10T19:59:12.361Z"
   },
   {
    "duration": 14,
    "start_time": "2023-01-10T19:59:12.420Z"
   },
   {
    "duration": 13,
    "start_time": "2023-01-10T19:59:12.435Z"
   },
   {
    "duration": 29,
    "start_time": "2023-01-10T19:59:12.450Z"
   },
   {
    "duration": 138,
    "start_time": "2023-01-10T19:59:12.480Z"
   },
   {
    "duration": 150,
    "start_time": "2023-01-10T19:59:12.620Z"
   },
   {
    "duration": 17,
    "start_time": "2023-01-10T19:59:12.772Z"
   },
   {
    "duration": 13,
    "start_time": "2023-01-10T19:59:12.791Z"
   },
   {
    "duration": 23,
    "start_time": "2023-01-10T19:59:12.806Z"
   },
   {
    "duration": 15,
    "start_time": "2023-01-10T19:59:12.831Z"
   },
   {
    "duration": 44,
    "start_time": "2023-01-10T19:59:12.848Z"
   },
   {
    "duration": 37,
    "start_time": "2023-01-10T19:59:12.894Z"
   },
   {
    "duration": 1218,
    "start_time": "2023-01-10T20:33:33.682Z"
   },
   {
    "duration": 179,
    "start_time": "2023-01-10T20:33:34.902Z"
   },
   {
    "duration": 22,
    "start_time": "2023-01-10T20:33:35.083Z"
   },
   {
    "duration": 4,
    "start_time": "2023-01-10T20:33:35.108Z"
   },
   {
    "duration": 20,
    "start_time": "2023-01-10T20:33:35.114Z"
   },
   {
    "duration": 606,
    "start_time": "2023-01-10T20:33:35.136Z"
   },
   {
    "duration": 5,
    "start_time": "2023-01-10T20:48:08.720Z"
   },
   {
    "duration": 64,
    "start_time": "2023-01-10T20:48:08.727Z"
   },
   {
    "duration": 18,
    "start_time": "2023-01-10T20:48:08.793Z"
   },
   {
    "duration": 29,
    "start_time": "2023-01-10T20:48:08.813Z"
   },
   {
    "duration": 31,
    "start_time": "2023-01-10T20:48:08.844Z"
   },
   {
    "duration": 229,
    "start_time": "2023-01-10T20:48:08.877Z"
   },
   {
    "duration": 192,
    "start_time": "2023-01-10T20:48:09.108Z"
   },
   {
    "duration": 14,
    "start_time": "2023-01-10T20:48:09.302Z"
   },
   {
    "duration": 34,
    "start_time": "2023-01-10T20:48:09.318Z"
   },
   {
    "duration": 26,
    "start_time": "2023-01-10T20:48:09.354Z"
   },
   {
    "duration": 18,
    "start_time": "2023-01-10T20:48:09.381Z"
   },
   {
    "duration": 23,
    "start_time": "2023-01-10T20:48:09.400Z"
   },
   {
    "duration": 63,
    "start_time": "2023-01-10T20:48:09.425Z"
   },
   {
    "duration": 89986,
    "start_time": "2023-01-10T20:48:09.490Z"
   },
   {
    "duration": 15792,
    "start_time": "2023-01-10T20:49:39.477Z"
   },
   {
    "duration": 2398,
    "start_time": "2023-01-10T20:49:55.355Z"
   },
   {
    "duration": 10,
    "start_time": "2023-01-10T20:49:57.754Z"
   },
   {
    "duration": 2501,
    "start_time": "2023-01-10T20:49:57.766Z"
   },
   {
    "duration": 15184,
    "start_time": "2023-01-10T20:50:00.269Z"
   },
   {
    "duration": 85303,
    "start_time": "2023-01-10T20:50:15.456Z"
   },
   {
    "duration": 13,
    "start_time": "2023-01-10T20:51:40.761Z"
   },
   {
    "duration": 74,
    "start_time": "2023-01-10T20:51:40.777Z"
   },
   {
    "duration": 21,
    "start_time": "2023-01-10T20:51:40.854Z"
   },
   {
    "duration": 171175,
    "start_time": "2023-01-10T20:51:40.878Z"
   },
   {
    "duration": 20097,
    "start_time": "2023-01-10T20:54:32.055Z"
   },
   {
    "duration": 4600,
    "start_time": "2023-01-10T20:54:52.155Z"
   },
   {
    "duration": 11,
    "start_time": "2023-01-10T20:54:56.757Z"
   },
   {
    "duration": 20,
    "start_time": "2023-01-10T20:54:56.770Z"
   },
   {
    "duration": 83,
    "start_time": "2023-01-10T20:54:56.792Z"
   },
   {
    "duration": 32825,
    "start_time": "2023-01-10T20:54:56.877Z"
   },
   {
    "duration": 66,
    "start_time": "2023-01-10T20:55:29.706Z"
   },
   {
    "duration": 11,
    "start_time": "2023-01-10T21:05:27.932Z"
   },
   {
    "duration": 10,
    "start_time": "2023-01-10T21:05:41.046Z"
   },
   {
    "duration": 18,
    "start_time": "2023-01-10T21:06:47.904Z"
   },
   {
    "duration": 172652,
    "start_time": "2023-01-10T21:06:47.924Z"
   },
   {
    "duration": 19697,
    "start_time": "2023-01-10T21:09:40.579Z"
   },
   {
    "duration": 4622,
    "start_time": "2023-01-10T21:10:00.280Z"
   },
   {
    "duration": 10,
    "start_time": "2023-01-10T21:10:04.904Z"
   },
   {
    "duration": 12,
    "start_time": "2023-01-10T21:10:04.916Z"
   },
   {
    "duration": 87,
    "start_time": "2023-01-10T21:10:04.930Z"
   },
   {
    "duration": 33933,
    "start_time": "2023-01-10T21:10:05.019Z"
   },
   {
    "duration": 46,
    "start_time": "2023-01-10T21:10:38.955Z"
   },
   {
    "duration": 79,
    "start_time": "2023-01-10T21:11:05.323Z"
   },
   {
    "duration": 73,
    "start_time": "2023-01-10T21:11:16.239Z"
   },
   {
    "duration": 71,
    "start_time": "2023-01-10T21:15:32.876Z"
   },
   {
    "duration": 73,
    "start_time": "2023-01-10T21:16:41.350Z"
   },
   {
    "duration": 1251,
    "start_time": "2023-01-10T21:17:12.076Z"
   },
   {
    "duration": 43,
    "start_time": "2023-01-10T21:17:13.329Z"
   },
   {
    "duration": 22,
    "start_time": "2023-01-10T21:17:13.374Z"
   },
   {
    "duration": 3,
    "start_time": "2023-01-10T21:17:13.398Z"
   },
   {
    "duration": 19,
    "start_time": "2023-01-10T21:17:13.404Z"
   },
   {
    "duration": 407,
    "start_time": "2023-01-10T21:17:13.425Z"
   },
   {
    "duration": 142,
    "start_time": "2023-01-10T21:17:13.833Z"
   },
   {
    "duration": 16,
    "start_time": "2023-01-10T21:17:13.976Z"
   },
   {
    "duration": 14,
    "start_time": "2023-01-10T21:17:13.993Z"
   },
   {
    "duration": 17,
    "start_time": "2023-01-10T21:17:14.009Z"
   },
   {
    "duration": 16,
    "start_time": "2023-01-10T21:17:14.051Z"
   },
   {
    "duration": 20,
    "start_time": "2023-01-10T21:17:14.069Z"
   },
   {
    "duration": 65,
    "start_time": "2023-01-10T21:17:14.091Z"
   },
   {
    "duration": 87324,
    "start_time": "2023-01-10T21:17:14.158Z"
   },
   {
    "duration": 14874,
    "start_time": "2023-01-10T21:18:41.484Z"
   },
   {
    "duration": 2481,
    "start_time": "2023-01-10T21:18:56.361Z"
   },
   {
    "duration": 10,
    "start_time": "2023-01-10T21:18:58.851Z"
   },
   {
    "duration": 2395,
    "start_time": "2023-01-10T21:18:58.862Z"
   },
   {
    "duration": 15032,
    "start_time": "2023-01-10T21:19:01.259Z"
   },
   {
    "duration": 0,
    "start_time": "2023-01-10T21:19:16.293Z"
   },
   {
    "duration": 0,
    "start_time": "2023-01-10T21:19:16.294Z"
   },
   {
    "duration": 0,
    "start_time": "2023-01-10T21:19:16.296Z"
   },
   {
    "duration": 0,
    "start_time": "2023-01-10T21:19:16.297Z"
   },
   {
    "duration": 0,
    "start_time": "2023-01-10T21:19:16.298Z"
   },
   {
    "duration": 0,
    "start_time": "2023-01-10T21:19:16.299Z"
   },
   {
    "duration": 0,
    "start_time": "2023-01-10T21:19:16.300Z"
   },
   {
    "duration": 0,
    "start_time": "2023-01-10T21:19:16.301Z"
   },
   {
    "duration": 0,
    "start_time": "2023-01-10T21:19:16.303Z"
   },
   {
    "duration": 0,
    "start_time": "2023-01-10T21:19:16.304Z"
   },
   {
    "duration": 0,
    "start_time": "2023-01-10T21:19:16.306Z"
   },
   {
    "duration": 0,
    "start_time": "2023-01-10T21:19:16.308Z"
   },
   {
    "duration": 15434,
    "start_time": "2023-01-10T21:20:52.518Z"
   },
   {
    "duration": 85896,
    "start_time": "2023-01-10T21:21:16.518Z"
   },
   {
    "duration": 10,
    "start_time": "2023-01-10T21:22:42.415Z"
   },
   {
    "duration": 25,
    "start_time": "2023-01-10T21:22:42.427Z"
   },
   {
    "duration": 15,
    "start_time": "2023-01-10T21:22:42.455Z"
   },
   {
    "duration": 168788,
    "start_time": "2023-01-10T21:22:42.473Z"
   },
   {
    "duration": 20018,
    "start_time": "2023-01-10T21:25:31.262Z"
   },
   {
    "duration": 4404,
    "start_time": "2023-01-10T21:25:51.282Z"
   },
   {
    "duration": 10,
    "start_time": "2023-01-10T21:25:55.688Z"
   },
   {
    "duration": 13,
    "start_time": "2023-01-10T21:25:55.700Z"
   },
   {
    "duration": 274,
    "start_time": "2023-01-10T21:25:55.715Z"
   },
   {
    "duration": 32203,
    "start_time": "2023-01-10T21:25:55.991Z"
   },
   {
    "duration": 55,
    "start_time": "2023-01-10T21:26:28.196Z"
   },
   {
    "duration": 62,
    "start_time": "2023-01-10T21:26:57.142Z"
   },
   {
    "duration": 44,
    "start_time": "2023-01-10T21:33:26.755Z"
   },
   {
    "duration": 41,
    "start_time": "2023-01-10T21:33:41.790Z"
   },
   {
    "duration": 42,
    "start_time": "2023-01-10T21:33:49.971Z"
   },
   {
    "duration": 43,
    "start_time": "2023-01-10T21:34:01.531Z"
   },
   {
    "duration": 4,
    "start_time": "2023-01-10T21:42:44.556Z"
   },
   {
    "duration": 5,
    "start_time": "2023-01-10T22:01:53.669Z"
   },
   {
    "duration": 43,
    "start_time": "2023-01-10T22:01:53.764Z"
   },
   {
    "duration": 15,
    "start_time": "2023-01-10T22:01:53.809Z"
   },
   {
    "duration": 6,
    "start_time": "2023-01-10T22:01:53.826Z"
   },
   {
    "duration": 15,
    "start_time": "2023-01-10T22:01:53.834Z"
   },
   {
    "duration": 144,
    "start_time": "2023-01-10T22:01:53.852Z"
   },
   {
    "duration": 155,
    "start_time": "2023-01-10T22:01:53.998Z"
   },
   {
    "duration": 16,
    "start_time": "2023-01-10T22:01:54.156Z"
   },
   {
    "duration": 22,
    "start_time": "2023-01-10T22:01:54.174Z"
   },
   {
    "duration": 25,
    "start_time": "2023-01-10T22:01:54.198Z"
   },
   {
    "duration": 35,
    "start_time": "2023-01-10T22:01:54.225Z"
   },
   {
    "duration": 5,
    "start_time": "2023-01-10T22:01:54.261Z"
   },
   {
    "duration": 28,
    "start_time": "2023-01-10T22:01:54.267Z"
   },
   {
    "duration": 55,
    "start_time": "2023-01-10T22:01:54.297Z"
   },
   {
    "duration": 88516,
    "start_time": "2023-01-10T22:01:54.354Z"
   },
   {
    "duration": 15486,
    "start_time": "2023-01-10T22:03:22.872Z"
   },
   {
    "duration": 2542,
    "start_time": "2023-01-10T22:03:38.361Z"
   },
   {
    "duration": 9,
    "start_time": "2023-01-10T22:03:40.905Z"
   },
   {
    "duration": 2404,
    "start_time": "2023-01-10T22:03:40.915Z"
   },
   {
    "duration": 15834,
    "start_time": "2023-01-10T22:03:43.321Z"
   },
   {
    "duration": 86191,
    "start_time": "2023-01-10T22:03:59.250Z"
   },
   {
    "duration": 14,
    "start_time": "2023-01-10T22:05:25.443Z"
   },
   {
    "duration": 19,
    "start_time": "2023-01-10T22:05:25.460Z"
   },
   {
    "duration": 21,
    "start_time": "2023-01-10T22:05:25.480Z"
   },
   {
    "duration": 174087,
    "start_time": "2023-01-10T22:05:25.503Z"
   },
   {
    "duration": 20089,
    "start_time": "2023-01-10T22:08:19.592Z"
   },
   {
    "duration": 4444,
    "start_time": "2023-01-10T22:08:39.750Z"
   },
   {
    "duration": 11,
    "start_time": "2023-01-10T22:08:44.196Z"
   },
   {
    "duration": 17,
    "start_time": "2023-01-10T22:08:44.208Z"
   },
   {
    "duration": 80,
    "start_time": "2023-01-10T22:08:44.226Z"
   },
   {
    "duration": 2112,
    "start_time": "2023-01-11T05:54:16.229Z"
   },
   {
    "duration": 360,
    "start_time": "2023-01-11T05:54:18.342Z"
   },
   {
    "duration": 21,
    "start_time": "2023-01-11T05:54:18.703Z"
   },
   {
    "duration": 3,
    "start_time": "2023-01-11T05:54:18.726Z"
   },
   {
    "duration": 20,
    "start_time": "2023-01-11T05:54:18.730Z"
   },
   {
    "duration": 564,
    "start_time": "2023-01-11T05:54:18.751Z"
   },
   {
    "duration": 132,
    "start_time": "2023-01-11T05:54:19.317Z"
   },
   {
    "duration": 15,
    "start_time": "2023-01-11T05:54:19.451Z"
   },
   {
    "duration": 15,
    "start_time": "2023-01-11T05:54:19.467Z"
   },
   {
    "duration": 32,
    "start_time": "2023-01-11T05:54:19.485Z"
   },
   {
    "duration": 14,
    "start_time": "2023-01-11T05:54:19.519Z"
   },
   {
    "duration": 4,
    "start_time": "2023-01-11T05:54:19.535Z"
   },
   {
    "duration": 20,
    "start_time": "2023-01-11T05:54:19.541Z"
   },
   {
    "duration": 63,
    "start_time": "2023-01-11T05:54:19.563Z"
   },
   {
    "duration": 77301,
    "start_time": "2023-01-11T05:54:19.627Z"
   },
   {
    "duration": 13886,
    "start_time": "2023-01-11T05:55:36.930Z"
   },
   {
    "duration": 2151,
    "start_time": "2023-01-11T05:55:50.823Z"
   },
   {
    "duration": 9,
    "start_time": "2023-01-11T05:55:52.975Z"
   },
   {
    "duration": 2134,
    "start_time": "2023-01-11T05:55:52.986Z"
   },
   {
    "duration": 14098,
    "start_time": "2023-01-11T05:55:55.122Z"
   },
   {
    "duration": 76745,
    "start_time": "2023-01-11T05:56:09.221Z"
   },
   {
    "duration": 9,
    "start_time": "2023-01-11T05:57:25.968Z"
   },
   {
    "duration": 22,
    "start_time": "2023-01-11T05:57:25.979Z"
   },
   {
    "duration": 40,
    "start_time": "2023-01-11T05:57:26.003Z"
   },
   {
    "duration": 153094,
    "start_time": "2023-01-11T05:57:26.045Z"
   },
   {
    "duration": 20000,
    "start_time": "2023-01-11T05:59:59.141Z"
   },
   {
    "duration": 3978,
    "start_time": "2023-01-11T06:00:19.214Z"
   },
   {
    "duration": 8,
    "start_time": "2023-01-11T06:00:23.195Z"
   },
   {
    "duration": 26,
    "start_time": "2023-01-11T06:00:23.204Z"
   },
   {
    "duration": 254,
    "start_time": "2023-01-11T06:00:23.232Z"
   },
   {
    "duration": 29522,
    "start_time": "2023-01-11T06:00:23.488Z"
   },
   {
    "duration": 45,
    "start_time": "2023-01-11T06:00:53.013Z"
   },
   {
    "duration": 7478,
    "start_time": "2023-01-11T06:50:44.263Z"
   },
   {
    "duration": 2940,
    "start_time": "2023-01-11T06:51:16.076Z"
   },
   {
    "duration": 89,
    "start_time": "2023-01-11T06:51:19.018Z"
   },
   {
    "duration": 20,
    "start_time": "2023-01-11T06:51:19.108Z"
   },
   {
    "duration": 15,
    "start_time": "2023-01-11T06:51:19.130Z"
   },
   {
    "duration": 15,
    "start_time": "2023-01-11T06:51:19.147Z"
   },
   {
    "duration": 489,
    "start_time": "2023-01-11T06:51:19.164Z"
   },
   {
    "duration": 119,
    "start_time": "2023-01-11T06:51:19.654Z"
   },
   {
    "duration": 935,
    "start_time": "2023-01-11T06:51:19.775Z"
   },
   {
    "duration": 759,
    "start_time": "2023-01-11T06:51:20.711Z"
   },
   {
    "duration": 83,
    "start_time": "2023-01-11T06:51:21.473Z"
   },
   {
    "duration": 15,
    "start_time": "2023-01-11T06:51:21.558Z"
   },
   {
    "duration": 26,
    "start_time": "2023-01-11T06:51:21.574Z"
   },
   {
    "duration": 28,
    "start_time": "2023-01-11T06:51:21.602Z"
   },
   {
    "duration": 47,
    "start_time": "2023-01-11T06:51:21.631Z"
   },
   {
    "duration": 75905,
    "start_time": "2023-01-11T06:51:21.680Z"
   },
   {
    "duration": 13236,
    "start_time": "2023-01-11T06:52:37.587Z"
   },
   {
    "duration": 2142,
    "start_time": "2023-01-11T06:52:50.832Z"
   },
   {
    "duration": 8,
    "start_time": "2023-01-11T06:52:52.976Z"
   },
   {
    "duration": 2096,
    "start_time": "2023-01-11T06:52:52.985Z"
   },
   {
    "duration": 14754,
    "start_time": "2023-01-11T06:52:55.083Z"
   },
   {
    "duration": 150894,
    "start_time": "2023-01-11T06:54:25.561Z"
   },
   {
    "duration": 20003,
    "start_time": "2023-01-11T06:56:56.456Z"
   },
   {
    "duration": 3981,
    "start_time": "2023-01-11T06:57:16.523Z"
   },
   {
    "duration": 14,
    "start_time": "2023-01-11T06:57:20.507Z"
   },
   {
    "duration": 12,
    "start_time": "2023-01-11T06:57:20.523Z"
   },
   {
    "duration": 219,
    "start_time": "2023-01-11T06:57:20.539Z"
   },
   {
    "duration": 28148,
    "start_time": "2023-01-11T06:57:20.760Z"
   },
   {
    "duration": 40,
    "start_time": "2023-01-11T06:57:48.909Z"
   },
   {
    "duration": 46,
    "start_time": "2023-01-13T07:39:30.815Z"
   },
   {
    "duration": 5,
    "start_time": "2023-01-13T07:47:29.683Z"
   },
   {
    "duration": 177,
    "start_time": "2023-01-13T07:48:17.034Z"
   },
   {
    "duration": 163,
    "start_time": "2023-01-13T07:48:57.280Z"
   },
   {
    "duration": 175,
    "start_time": "2023-01-13T07:49:06.419Z"
   },
   {
    "duration": 172,
    "start_time": "2023-01-13T07:49:22.954Z"
   },
   {
    "duration": 5,
    "start_time": "2023-01-13T07:54:19.169Z"
   },
   {
    "duration": 16,
    "start_time": "2023-01-13T07:54:26.513Z"
   },
   {
    "duration": 11,
    "start_time": "2023-01-13T07:54:42.220Z"
   },
   {
    "duration": 11,
    "start_time": "2023-01-13T07:54:51.290Z"
   },
   {
    "duration": 11,
    "start_time": "2023-01-13T07:55:11.442Z"
   },
   {
    "duration": 17,
    "start_time": "2023-01-13T07:55:46.566Z"
   },
   {
    "duration": 13,
    "start_time": "2023-01-13T07:57:42.641Z"
   },
   {
    "duration": 39,
    "start_time": "2023-01-13T07:58:18.492Z"
   },
   {
    "duration": 17,
    "start_time": "2023-01-13T08:03:14.647Z"
   },
   {
    "duration": 17,
    "start_time": "2023-01-13T08:03:30.143Z"
   },
   {
    "duration": 14,
    "start_time": "2023-01-13T08:03:42.394Z"
   },
   {
    "duration": 11,
    "start_time": "2023-01-13T08:04:02.206Z"
   },
   {
    "duration": 16,
    "start_time": "2023-01-13T08:07:57.498Z"
   },
   {
    "duration": 19,
    "start_time": "2023-01-13T08:08:37.833Z"
   },
   {
    "duration": 175,
    "start_time": "2023-01-13T08:09:48.738Z"
   },
   {
    "duration": 231,
    "start_time": "2023-01-13T08:09:55.286Z"
   },
   {
    "duration": 4,
    "start_time": "2023-01-13T08:10:18.925Z"
   },
   {
    "duration": 11,
    "start_time": "2023-01-13T08:10:30.684Z"
   },
   {
    "duration": 53,
    "start_time": "2023-01-13T08:11:06.073Z"
   },
   {
    "duration": 213,
    "start_time": "2023-01-13T08:11:21.934Z"
   },
   {
    "duration": 5026,
    "start_time": "2023-01-13T08:13:29.421Z"
   },
   {
    "duration": 52,
    "start_time": "2023-01-13T08:13:34.450Z"
   },
   {
    "duration": 17,
    "start_time": "2023-01-13T08:13:34.504Z"
   },
   {
    "duration": 13,
    "start_time": "2023-01-13T08:13:34.523Z"
   },
   {
    "duration": 12,
    "start_time": "2023-01-13T08:13:34.537Z"
   },
   {
    "duration": 374,
    "start_time": "2023-01-13T08:13:34.551Z"
   },
   {
    "duration": 126,
    "start_time": "2023-01-13T08:13:34.926Z"
   },
   {
    "duration": 12,
    "start_time": "2023-01-13T08:13:35.053Z"
   },
   {
    "duration": 14,
    "start_time": "2023-01-13T08:13:35.066Z"
   },
   {
    "duration": 39,
    "start_time": "2023-01-13T08:13:35.082Z"
   },
   {
    "duration": 15,
    "start_time": "2023-01-13T08:13:35.123Z"
   },
   {
    "duration": 13,
    "start_time": "2023-01-13T08:13:35.139Z"
   },
   {
    "duration": 4,
    "start_time": "2023-01-13T08:13:35.153Z"
   },
   {
    "duration": 12,
    "start_time": "2023-01-13T08:13:35.158Z"
   },
   {
    "duration": 69,
    "start_time": "2023-01-13T08:13:35.171Z"
   },
   {
    "duration": 47,
    "start_time": "2023-01-13T08:13:35.242Z"
   },
   {
    "duration": 699,
    "start_time": "2023-01-13T08:13:35.291Z"
   },
   {
    "duration": 0,
    "start_time": "2023-01-13T08:13:35.991Z"
   },
   {
    "duration": 0,
    "start_time": "2023-01-13T08:13:35.992Z"
   },
   {
    "duration": 0,
    "start_time": "2023-01-13T08:13:35.994Z"
   },
   {
    "duration": 0,
    "start_time": "2023-01-13T08:13:35.995Z"
   },
   {
    "duration": 0,
    "start_time": "2023-01-13T08:13:35.996Z"
   },
   {
    "duration": 0,
    "start_time": "2023-01-13T08:13:35.997Z"
   },
   {
    "duration": 0,
    "start_time": "2023-01-13T08:13:35.998Z"
   },
   {
    "duration": 0,
    "start_time": "2023-01-13T08:13:35.999Z"
   },
   {
    "duration": 0,
    "start_time": "2023-01-13T08:13:36.000Z"
   },
   {
    "duration": 0,
    "start_time": "2023-01-13T08:13:36.001Z"
   },
   {
    "duration": 0,
    "start_time": "2023-01-13T08:13:36.002Z"
   },
   {
    "duration": 0,
    "start_time": "2023-01-13T08:13:36.003Z"
   },
   {
    "duration": 0,
    "start_time": "2023-01-13T08:13:36.021Z"
   },
   {
    "duration": 0,
    "start_time": "2023-01-13T08:13:36.022Z"
   },
   {
    "duration": 0,
    "start_time": "2023-01-13T08:13:36.024Z"
   },
   {
    "duration": 0,
    "start_time": "2023-01-13T08:13:36.025Z"
   },
   {
    "duration": 0,
    "start_time": "2023-01-13T08:13:36.026Z"
   },
   {
    "duration": 29,
    "start_time": "2023-01-13T08:15:39.503Z"
   },
   {
    "duration": 38,
    "start_time": "2023-01-13T08:16:06.552Z"
   },
   {
    "duration": 17,
    "start_time": "2023-01-13T08:16:29.366Z"
   },
   {
    "duration": 28,
    "start_time": "2023-01-13T08:16:52.976Z"
   },
   {
    "duration": 28,
    "start_time": "2023-01-13T08:17:27.226Z"
   },
   {
    "duration": 27,
    "start_time": "2023-01-13T08:17:41.933Z"
   },
   {
    "duration": 25,
    "start_time": "2023-01-13T08:17:52.031Z"
   },
   {
    "duration": 15,
    "start_time": "2023-01-13T08:18:17.372Z"
   },
   {
    "duration": 48,
    "start_time": "2023-01-13T08:18:38.518Z"
   },
   {
    "duration": 170,
    "start_time": "2023-01-13T08:18:43.100Z"
   },
   {
    "duration": 4,
    "start_time": "2023-01-13T08:32:38.658Z"
   },
   {
    "duration": 22,
    "start_time": "2023-01-13T08:34:27.248Z"
   },
   {
    "duration": 23,
    "start_time": "2023-01-13T08:34:50.036Z"
   },
   {
    "duration": 29,
    "start_time": "2023-01-13T08:35:01.113Z"
   },
   {
    "duration": 21,
    "start_time": "2023-01-13T08:35:07.072Z"
   },
   {
    "duration": 25,
    "start_time": "2023-01-13T08:35:22.909Z"
   },
   {
    "duration": 27,
    "start_time": "2023-01-13T08:37:11.405Z"
   },
   {
    "duration": 17,
    "start_time": "2023-01-13T08:38:59.683Z"
   },
   {
    "duration": 28,
    "start_time": "2023-01-13T08:39:29.275Z"
   },
   {
    "duration": 26,
    "start_time": "2023-01-13T08:43:18.649Z"
   },
   {
    "duration": 22,
    "start_time": "2023-01-13T08:43:37.845Z"
   },
   {
    "duration": 3978,
    "start_time": "2023-01-13T08:44:51.029Z"
   },
   {
    "duration": 29,
    "start_time": "2023-01-13T08:45:00.109Z"
   },
   {
    "duration": 25,
    "start_time": "2023-01-13T08:45:03.940Z"
   },
   {
    "duration": 4239,
    "start_time": "2023-01-13T08:45:13.757Z"
   },
   {
    "duration": 41,
    "start_time": "2023-01-13T08:45:17.998Z"
   },
   {
    "duration": 13,
    "start_time": "2023-01-13T08:45:18.041Z"
   },
   {
    "duration": 15,
    "start_time": "2023-01-13T08:45:18.056Z"
   },
   {
    "duration": 15,
    "start_time": "2023-01-13T08:45:18.073Z"
   },
   {
    "duration": 140,
    "start_time": "2023-01-13T08:45:18.091Z"
   },
   {
    "duration": 130,
    "start_time": "2023-01-13T08:45:18.233Z"
   },
   {
    "duration": 14,
    "start_time": "2023-01-13T08:45:18.364Z"
   },
   {
    "duration": 13,
    "start_time": "2023-01-13T08:45:18.379Z"
   },
   {
    "duration": 28,
    "start_time": "2023-01-13T08:45:18.395Z"
   },
   {
    "duration": 15,
    "start_time": "2023-01-13T08:45:18.425Z"
   },
   {
    "duration": 12,
    "start_time": "2023-01-13T08:45:18.441Z"
   },
   {
    "duration": 4,
    "start_time": "2023-01-13T08:45:18.455Z"
   },
   {
    "duration": 5,
    "start_time": "2023-01-13T08:45:18.460Z"
   },
   {
    "duration": 56,
    "start_time": "2023-01-13T08:45:18.467Z"
   },
   {
    "duration": 33,
    "start_time": "2023-01-13T08:45:18.525Z"
   },
   {
    "duration": 525,
    "start_time": "2023-01-13T08:45:18.560Z"
   },
   {
    "duration": 0,
    "start_time": "2023-01-13T08:45:19.087Z"
   },
   {
    "duration": 0,
    "start_time": "2023-01-13T08:45:19.088Z"
   },
   {
    "duration": 0,
    "start_time": "2023-01-13T08:45:19.089Z"
   },
   {
    "duration": 0,
    "start_time": "2023-01-13T08:45:19.091Z"
   },
   {
    "duration": 0,
    "start_time": "2023-01-13T08:45:19.092Z"
   },
   {
    "duration": 0,
    "start_time": "2023-01-13T08:45:19.093Z"
   },
   {
    "duration": 0,
    "start_time": "2023-01-13T08:45:19.094Z"
   },
   {
    "duration": 0,
    "start_time": "2023-01-13T08:45:19.096Z"
   },
   {
    "duration": 0,
    "start_time": "2023-01-13T08:45:19.097Z"
   },
   {
    "duration": 0,
    "start_time": "2023-01-13T08:45:19.098Z"
   },
   {
    "duration": 0,
    "start_time": "2023-01-13T08:45:19.121Z"
   },
   {
    "duration": 0,
    "start_time": "2023-01-13T08:45:19.122Z"
   },
   {
    "duration": 0,
    "start_time": "2023-01-13T08:45:19.124Z"
   },
   {
    "duration": 0,
    "start_time": "2023-01-13T08:45:19.125Z"
   },
   {
    "duration": 1,
    "start_time": "2023-01-13T08:45:19.126Z"
   },
   {
    "duration": 0,
    "start_time": "2023-01-13T08:45:19.128Z"
   },
   {
    "duration": 0,
    "start_time": "2023-01-13T08:45:19.129Z"
   },
   {
    "duration": 26,
    "start_time": "2023-01-13T09:11:56.795Z"
   },
   {
    "duration": 17,
    "start_time": "2023-01-13T09:12:53.041Z"
   },
   {
    "duration": 45,
    "start_time": "2023-01-13T09:13:21.249Z"
   },
   {
    "duration": 25,
    "start_time": "2023-01-13T09:13:37.627Z"
   },
   {
    "duration": 31,
    "start_time": "2023-01-13T09:13:44.016Z"
   },
   {
    "duration": 12,
    "start_time": "2023-01-13T09:15:07.169Z"
   },
   {
    "duration": 50,
    "start_time": "2023-01-13T09:15:23.285Z"
   },
   {
    "duration": 46,
    "start_time": "2023-01-13T09:16:10.701Z"
   },
   {
    "duration": 86,
    "start_time": "2023-01-13T09:16:15.341Z"
   },
   {
    "duration": 4198,
    "start_time": "2023-01-13T09:16:43.104Z"
   },
   {
    "duration": 43,
    "start_time": "2023-01-13T09:16:47.304Z"
   },
   {
    "duration": 13,
    "start_time": "2023-01-13T09:16:47.348Z"
   },
   {
    "duration": 18,
    "start_time": "2023-01-13T09:16:47.363Z"
   },
   {
    "duration": 18,
    "start_time": "2023-01-13T09:16:47.382Z"
   },
   {
    "duration": 132,
    "start_time": "2023-01-13T09:16:47.401Z"
   },
   {
    "duration": 201,
    "start_time": "2023-01-13T09:16:47.535Z"
   },
   {
    "duration": 11,
    "start_time": "2023-01-13T09:16:47.738Z"
   },
   {
    "duration": 13,
    "start_time": "2023-01-13T09:16:47.751Z"
   },
   {
    "duration": 11,
    "start_time": "2023-01-13T09:16:47.766Z"
   },
   {
    "duration": 17,
    "start_time": "2023-01-13T09:16:47.779Z"
   },
   {
    "duration": 13,
    "start_time": "2023-01-13T09:16:47.821Z"
   },
   {
    "duration": 22,
    "start_time": "2023-01-13T09:16:47.835Z"
   },
   {
    "duration": 7,
    "start_time": "2023-01-13T09:16:47.859Z"
   },
   {
    "duration": 72,
    "start_time": "2023-01-13T09:16:47.867Z"
   },
   {
    "duration": 47,
    "start_time": "2023-01-13T09:16:47.940Z"
   },
   {
    "duration": 873,
    "start_time": "2023-01-13T09:16:47.988Z"
   },
   {
    "duration": 0,
    "start_time": "2023-01-13T09:16:48.863Z"
   },
   {
    "duration": 0,
    "start_time": "2023-01-13T09:16:48.864Z"
   },
   {
    "duration": 0,
    "start_time": "2023-01-13T09:16:48.866Z"
   },
   {
    "duration": 0,
    "start_time": "2023-01-13T09:16:48.868Z"
   },
   {
    "duration": 0,
    "start_time": "2023-01-13T09:16:48.869Z"
   },
   {
    "duration": 0,
    "start_time": "2023-01-13T09:16:48.870Z"
   },
   {
    "duration": 0,
    "start_time": "2023-01-13T09:16:48.872Z"
   },
   {
    "duration": 0,
    "start_time": "2023-01-13T09:16:48.873Z"
   },
   {
    "duration": 0,
    "start_time": "2023-01-13T09:16:48.875Z"
   },
   {
    "duration": 0,
    "start_time": "2023-01-13T09:16:48.876Z"
   },
   {
    "duration": 0,
    "start_time": "2023-01-13T09:16:48.877Z"
   },
   {
    "duration": 0,
    "start_time": "2023-01-13T09:16:48.879Z"
   },
   {
    "duration": 0,
    "start_time": "2023-01-13T09:16:48.881Z"
   },
   {
    "duration": 0,
    "start_time": "2023-01-13T09:16:48.882Z"
   },
   {
    "duration": 0,
    "start_time": "2023-01-13T09:16:48.883Z"
   },
   {
    "duration": 0,
    "start_time": "2023-01-13T09:16:48.885Z"
   },
   {
    "duration": 0,
    "start_time": "2023-01-13T09:16:48.921Z"
   },
   {
    "duration": 48,
    "start_time": "2023-01-13T09:23:48.680Z"
   },
   {
    "duration": 19,
    "start_time": "2023-01-13T09:30:13.172Z"
   },
   {
    "duration": 56,
    "start_time": "2023-01-13T09:30:19.000Z"
   },
   {
    "duration": 43,
    "start_time": "2023-01-13T09:30:43.630Z"
   },
   {
    "duration": 62,
    "start_time": "2023-01-13T09:31:27.176Z"
   },
   {
    "duration": 44,
    "start_time": "2023-01-13T09:32:30.980Z"
   },
   {
    "duration": 4038,
    "start_time": "2023-01-13T09:33:52.896Z"
   },
   {
    "duration": 41,
    "start_time": "2023-01-13T09:33:56.937Z"
   },
   {
    "duration": 12,
    "start_time": "2023-01-13T09:33:56.980Z"
   },
   {
    "duration": 23,
    "start_time": "2023-01-13T09:33:56.994Z"
   },
   {
    "duration": 27,
    "start_time": "2023-01-13T09:33:57.019Z"
   },
   {
    "duration": 120,
    "start_time": "2023-01-13T09:33:57.047Z"
   },
   {
    "duration": 122,
    "start_time": "2023-01-13T09:33:57.168Z"
   },
   {
    "duration": 12,
    "start_time": "2023-01-13T09:33:57.292Z"
   },
   {
    "duration": 24,
    "start_time": "2023-01-13T09:33:57.305Z"
   },
   {
    "duration": 36,
    "start_time": "2023-01-13T09:33:57.330Z"
   },
   {
    "duration": 19,
    "start_time": "2023-01-13T09:33:57.368Z"
   },
   {
    "duration": 15,
    "start_time": "2023-01-13T09:33:57.388Z"
   },
   {
    "duration": 18,
    "start_time": "2023-01-13T09:33:57.404Z"
   },
   {
    "duration": 17,
    "start_time": "2023-01-13T09:33:57.425Z"
   },
   {
    "duration": 103,
    "start_time": "2023-01-13T09:33:57.443Z"
   },
   {
    "duration": 43,
    "start_time": "2023-01-13T09:33:57.548Z"
   },
   {
    "duration": 857,
    "start_time": "2023-01-13T09:33:57.592Z"
   },
   {
    "duration": 0,
    "start_time": "2023-01-13T09:33:58.451Z"
   },
   {
    "duration": 0,
    "start_time": "2023-01-13T09:33:58.453Z"
   },
   {
    "duration": 0,
    "start_time": "2023-01-13T09:33:58.455Z"
   },
   {
    "duration": 0,
    "start_time": "2023-01-13T09:33:58.456Z"
   },
   {
    "duration": 0,
    "start_time": "2023-01-13T09:33:58.458Z"
   },
   {
    "duration": 0,
    "start_time": "2023-01-13T09:33:58.459Z"
   },
   {
    "duration": 0,
    "start_time": "2023-01-13T09:33:58.460Z"
   },
   {
    "duration": 0,
    "start_time": "2023-01-13T09:33:58.462Z"
   },
   {
    "duration": 0,
    "start_time": "2023-01-13T09:33:58.463Z"
   },
   {
    "duration": 0,
    "start_time": "2023-01-13T09:33:58.465Z"
   },
   {
    "duration": 0,
    "start_time": "2023-01-13T09:33:58.466Z"
   },
   {
    "duration": 0,
    "start_time": "2023-01-13T09:33:58.468Z"
   },
   {
    "duration": 0,
    "start_time": "2023-01-13T09:33:58.469Z"
   },
   {
    "duration": 0,
    "start_time": "2023-01-13T09:33:58.471Z"
   },
   {
    "duration": 0,
    "start_time": "2023-01-13T09:33:58.472Z"
   },
   {
    "duration": 0,
    "start_time": "2023-01-13T09:33:58.473Z"
   },
   {
    "duration": 0,
    "start_time": "2023-01-13T09:33:58.475Z"
   },
   {
    "duration": 3991,
    "start_time": "2023-01-13T09:35:06.382Z"
   },
   {
    "duration": 43,
    "start_time": "2023-01-13T09:35:10.375Z"
   },
   {
    "duration": 13,
    "start_time": "2023-01-13T09:35:10.420Z"
   },
   {
    "duration": 17,
    "start_time": "2023-01-13T09:35:10.435Z"
   },
   {
    "duration": 11,
    "start_time": "2023-01-13T09:35:10.454Z"
   },
   {
    "duration": 142,
    "start_time": "2023-01-13T09:35:10.467Z"
   },
   {
    "duration": 140,
    "start_time": "2023-01-13T09:35:10.611Z"
   },
   {
    "duration": 13,
    "start_time": "2023-01-13T09:35:10.753Z"
   },
   {
    "duration": 24,
    "start_time": "2023-01-13T09:35:10.768Z"
   },
   {
    "duration": 29,
    "start_time": "2023-01-13T09:35:10.795Z"
   },
   {
    "duration": 16,
    "start_time": "2023-01-13T09:35:10.826Z"
   },
   {
    "duration": 13,
    "start_time": "2023-01-13T09:35:10.843Z"
   },
   {
    "duration": 4,
    "start_time": "2023-01-13T09:35:10.858Z"
   },
   {
    "duration": 7,
    "start_time": "2023-01-13T09:35:10.864Z"
   },
   {
    "duration": 79,
    "start_time": "2023-01-13T09:35:10.872Z"
   },
   {
    "duration": 41,
    "start_time": "2023-01-13T09:35:10.953Z"
   },
   {
    "duration": 691,
    "start_time": "2023-01-13T09:35:10.995Z"
   },
   {
    "duration": 0,
    "start_time": "2023-01-13T09:35:11.688Z"
   },
   {
    "duration": 0,
    "start_time": "2023-01-13T09:35:11.689Z"
   },
   {
    "duration": 0,
    "start_time": "2023-01-13T09:35:11.690Z"
   },
   {
    "duration": 0,
    "start_time": "2023-01-13T09:35:11.691Z"
   },
   {
    "duration": 0,
    "start_time": "2023-01-13T09:35:11.693Z"
   },
   {
    "duration": 0,
    "start_time": "2023-01-13T09:35:11.694Z"
   },
   {
    "duration": 0,
    "start_time": "2023-01-13T09:35:11.695Z"
   },
   {
    "duration": 0,
    "start_time": "2023-01-13T09:35:11.696Z"
   },
   {
    "duration": 0,
    "start_time": "2023-01-13T09:35:11.697Z"
   },
   {
    "duration": 0,
    "start_time": "2023-01-13T09:35:11.698Z"
   },
   {
    "duration": 0,
    "start_time": "2023-01-13T09:35:11.699Z"
   },
   {
    "duration": 0,
    "start_time": "2023-01-13T09:35:11.700Z"
   },
   {
    "duration": 0,
    "start_time": "2023-01-13T09:35:11.700Z"
   },
   {
    "duration": 0,
    "start_time": "2023-01-13T09:35:11.701Z"
   },
   {
    "duration": 0,
    "start_time": "2023-01-13T09:35:11.701Z"
   },
   {
    "duration": 0,
    "start_time": "2023-01-13T09:35:11.702Z"
   },
   {
    "duration": 0,
    "start_time": "2023-01-13T09:35:11.721Z"
   },
   {
    "duration": 32,
    "start_time": "2023-01-13T09:38:00.130Z"
   },
   {
    "duration": 4064,
    "start_time": "2023-01-13T09:38:34.960Z"
   },
   {
    "duration": 42,
    "start_time": "2023-01-13T09:38:39.027Z"
   },
   {
    "duration": 13,
    "start_time": "2023-01-13T09:38:39.070Z"
   },
   {
    "duration": 16,
    "start_time": "2023-01-13T09:38:39.085Z"
   },
   {
    "duration": 12,
    "start_time": "2023-01-13T09:38:39.103Z"
   },
   {
    "duration": 121,
    "start_time": "2023-01-13T09:38:39.117Z"
   },
   {
    "duration": 128,
    "start_time": "2023-01-13T09:38:39.240Z"
   },
   {
    "duration": 11,
    "start_time": "2023-01-13T09:38:39.370Z"
   },
   {
    "duration": 14,
    "start_time": "2023-01-13T09:38:39.383Z"
   },
   {
    "duration": 11,
    "start_time": "2023-01-13T09:38:39.420Z"
   },
   {
    "duration": 16,
    "start_time": "2023-01-13T09:38:39.432Z"
   },
   {
    "duration": 12,
    "start_time": "2023-01-13T09:38:39.450Z"
   },
   {
    "duration": 4,
    "start_time": "2023-01-13T09:38:39.464Z"
   },
   {
    "duration": 6,
    "start_time": "2023-01-13T09:38:39.469Z"
   },
   {
    "duration": 65,
    "start_time": "2023-01-13T09:38:39.476Z"
   },
   {
    "duration": 0,
    "start_time": "2023-01-13T09:38:39.542Z"
   },
   {
    "duration": 0,
    "start_time": "2023-01-13T09:38:39.543Z"
   },
   {
    "duration": 0,
    "start_time": "2023-01-13T09:38:39.544Z"
   },
   {
    "duration": 0,
    "start_time": "2023-01-13T09:38:39.545Z"
   },
   {
    "duration": 0,
    "start_time": "2023-01-13T09:38:39.546Z"
   },
   {
    "duration": 0,
    "start_time": "2023-01-13T09:38:39.547Z"
   },
   {
    "duration": 0,
    "start_time": "2023-01-13T09:38:39.549Z"
   },
   {
    "duration": 0,
    "start_time": "2023-01-13T09:38:39.549Z"
   },
   {
    "duration": 0,
    "start_time": "2023-01-13T09:38:39.550Z"
   },
   {
    "duration": 0,
    "start_time": "2023-01-13T09:38:39.552Z"
   },
   {
    "duration": 0,
    "start_time": "2023-01-13T09:38:39.553Z"
   },
   {
    "duration": 0,
    "start_time": "2023-01-13T09:38:39.554Z"
   },
   {
    "duration": 0,
    "start_time": "2023-01-13T09:38:39.555Z"
   },
   {
    "duration": 0,
    "start_time": "2023-01-13T09:38:39.556Z"
   },
   {
    "duration": 1,
    "start_time": "2023-01-13T09:38:39.556Z"
   },
   {
    "duration": 0,
    "start_time": "2023-01-13T09:38:39.558Z"
   },
   {
    "duration": 0,
    "start_time": "2023-01-13T09:38:39.559Z"
   },
   {
    "duration": 0,
    "start_time": "2023-01-13T09:38:39.560Z"
   },
   {
    "duration": 0,
    "start_time": "2023-01-13T09:38:39.561Z"
   },
   {
    "duration": 44,
    "start_time": "2023-01-13T09:38:49.462Z"
   },
   {
    "duration": 33,
    "start_time": "2023-01-13T09:39:10.361Z"
   },
   {
    "duration": 43,
    "start_time": "2023-01-13T09:39:17.651Z"
   },
   {
    "duration": 32,
    "start_time": "2023-01-13T09:40:12.300Z"
   },
   {
    "duration": 33,
    "start_time": "2023-01-13T09:40:44.989Z"
   },
   {
    "duration": 33,
    "start_time": "2023-01-13T09:40:54.714Z"
   },
   {
    "duration": 37,
    "start_time": "2023-01-13T09:41:21.299Z"
   },
   {
    "duration": 5018,
    "start_time": "2023-01-13T09:41:28.331Z"
   },
   {
    "duration": 42,
    "start_time": "2023-01-13T09:41:33.351Z"
   },
   {
    "duration": 19,
    "start_time": "2023-01-13T09:41:33.395Z"
   },
   {
    "duration": 18,
    "start_time": "2023-01-13T09:41:33.416Z"
   },
   {
    "duration": 14,
    "start_time": "2023-01-13T09:41:33.435Z"
   },
   {
    "duration": 336,
    "start_time": "2023-01-13T09:41:33.451Z"
   },
   {
    "duration": 123,
    "start_time": "2023-01-13T09:41:33.789Z"
   },
   {
    "duration": 17,
    "start_time": "2023-01-13T09:41:33.914Z"
   },
   {
    "duration": 13,
    "start_time": "2023-01-13T09:41:33.933Z"
   },
   {
    "duration": 15,
    "start_time": "2023-01-13T09:41:33.949Z"
   },
   {
    "duration": 14,
    "start_time": "2023-01-13T09:41:33.966Z"
   },
   {
    "duration": 44,
    "start_time": "2023-01-13T09:41:33.982Z"
   },
   {
    "duration": 5,
    "start_time": "2023-01-13T09:41:34.028Z"
   },
   {
    "duration": 6,
    "start_time": "2023-01-13T09:41:34.034Z"
   },
   {
    "duration": 120,
    "start_time": "2023-01-13T09:41:34.042Z"
   },
   {
    "duration": 0,
    "start_time": "2023-01-13T09:41:34.164Z"
   },
   {
    "duration": 0,
    "start_time": "2023-01-13T09:41:34.165Z"
   },
   {
    "duration": 0,
    "start_time": "2023-01-13T09:41:34.166Z"
   },
   {
    "duration": 0,
    "start_time": "2023-01-13T09:41:34.167Z"
   },
   {
    "duration": 0,
    "start_time": "2023-01-13T09:41:34.168Z"
   },
   {
    "duration": 0,
    "start_time": "2023-01-13T09:41:34.169Z"
   },
   {
    "duration": 0,
    "start_time": "2023-01-13T09:41:34.170Z"
   },
   {
    "duration": 0,
    "start_time": "2023-01-13T09:41:34.171Z"
   },
   {
    "duration": 0,
    "start_time": "2023-01-13T09:41:34.172Z"
   },
   {
    "duration": 0,
    "start_time": "2023-01-13T09:41:34.174Z"
   },
   {
    "duration": 0,
    "start_time": "2023-01-13T09:41:34.175Z"
   },
   {
    "duration": 0,
    "start_time": "2023-01-13T09:41:34.176Z"
   },
   {
    "duration": 0,
    "start_time": "2023-01-13T09:41:34.177Z"
   },
   {
    "duration": 0,
    "start_time": "2023-01-13T09:41:34.177Z"
   },
   {
    "duration": 0,
    "start_time": "2023-01-13T09:41:34.179Z"
   },
   {
    "duration": 0,
    "start_time": "2023-01-13T09:41:34.180Z"
   },
   {
    "duration": 0,
    "start_time": "2023-01-13T09:41:34.181Z"
   },
   {
    "duration": 0,
    "start_time": "2023-01-13T09:41:34.182Z"
   },
   {
    "duration": 0,
    "start_time": "2023-01-13T09:41:34.183Z"
   },
   {
    "duration": 35,
    "start_time": "2023-01-13T09:41:49.371Z"
   },
   {
    "duration": 43,
    "start_time": "2023-01-13T09:42:11.659Z"
   },
   {
    "duration": 38,
    "start_time": "2023-01-13T09:42:30.453Z"
   },
   {
    "duration": 4602,
    "start_time": "2023-01-13T09:43:03.531Z"
   },
   {
    "duration": 42,
    "start_time": "2023-01-13T09:43:08.135Z"
   },
   {
    "duration": 53,
    "start_time": "2023-01-13T09:43:08.179Z"
   },
   {
    "duration": 20,
    "start_time": "2023-01-13T09:43:08.234Z"
   },
   {
    "duration": 65,
    "start_time": "2023-01-13T09:43:08.256Z"
   },
   {
    "duration": 216,
    "start_time": "2023-01-13T09:43:08.323Z"
   },
   {
    "duration": 137,
    "start_time": "2023-01-13T09:43:08.540Z"
   },
   {
    "duration": 12,
    "start_time": "2023-01-13T09:43:08.679Z"
   },
   {
    "duration": 31,
    "start_time": "2023-01-13T09:43:08.693Z"
   },
   {
    "duration": 10,
    "start_time": "2023-01-13T09:43:08.727Z"
   },
   {
    "duration": 14,
    "start_time": "2023-01-13T09:43:08.739Z"
   },
   {
    "duration": 12,
    "start_time": "2023-01-13T09:43:08.754Z"
   },
   {
    "duration": 4,
    "start_time": "2023-01-13T09:43:08.767Z"
   },
   {
    "duration": 5,
    "start_time": "2023-01-13T09:43:08.772Z"
   },
   {
    "duration": 69,
    "start_time": "2023-01-13T09:43:08.778Z"
   },
   {
    "duration": 35,
    "start_time": "2023-01-13T09:43:08.849Z"
   },
   {
    "duration": 70689,
    "start_time": "2023-01-13T09:43:08.886Z"
   },
   {
    "duration": 0,
    "start_time": "2023-01-13T09:44:19.576Z"
   },
   {
    "duration": 0,
    "start_time": "2023-01-13T09:44:19.577Z"
   },
   {
    "duration": 0,
    "start_time": "2023-01-13T09:44:19.578Z"
   },
   {
    "duration": 0,
    "start_time": "2023-01-13T09:44:19.579Z"
   },
   {
    "duration": 0,
    "start_time": "2023-01-13T09:44:19.580Z"
   },
   {
    "duration": 0,
    "start_time": "2023-01-13T09:44:19.581Z"
   },
   {
    "duration": 0,
    "start_time": "2023-01-13T09:44:19.582Z"
   },
   {
    "duration": 0,
    "start_time": "2023-01-13T09:44:19.583Z"
   },
   {
    "duration": 0,
    "start_time": "2023-01-13T09:44:19.584Z"
   },
   {
    "duration": 0,
    "start_time": "2023-01-13T09:44:19.585Z"
   },
   {
    "duration": 0,
    "start_time": "2023-01-13T09:44:19.586Z"
   },
   {
    "duration": 0,
    "start_time": "2023-01-13T09:44:19.587Z"
   },
   {
    "duration": 0,
    "start_time": "2023-01-13T09:44:19.588Z"
   },
   {
    "duration": 0,
    "start_time": "2023-01-13T09:44:19.590Z"
   },
   {
    "duration": 0,
    "start_time": "2023-01-13T09:44:19.591Z"
   },
   {
    "duration": 0,
    "start_time": "2023-01-13T09:44:19.592Z"
   },
   {
    "duration": 0,
    "start_time": "2023-01-13T09:44:19.593Z"
   },
   {
    "duration": 30,
    "start_time": "2023-01-13T09:45:50.915Z"
   },
   {
    "duration": 3940,
    "start_time": "2023-01-13T09:46:36.975Z"
   },
   {
    "duration": 44,
    "start_time": "2023-01-13T09:46:40.918Z"
   },
   {
    "duration": 13,
    "start_time": "2023-01-13T09:46:40.964Z"
   },
   {
    "duration": 14,
    "start_time": "2023-01-13T09:46:40.979Z"
   },
   {
    "duration": 12,
    "start_time": "2023-01-13T09:46:40.996Z"
   },
   {
    "duration": 127,
    "start_time": "2023-01-13T09:46:41.010Z"
   },
   {
    "duration": 131,
    "start_time": "2023-01-13T09:46:41.138Z"
   },
   {
    "duration": 20,
    "start_time": "2023-01-13T09:46:41.271Z"
   },
   {
    "duration": 25,
    "start_time": "2023-01-13T09:46:41.293Z"
   },
   {
    "duration": 30,
    "start_time": "2023-01-13T09:46:41.321Z"
   },
   {
    "duration": 26,
    "start_time": "2023-01-13T09:46:41.353Z"
   },
   {
    "duration": 12,
    "start_time": "2023-01-13T09:46:41.381Z"
   },
   {
    "duration": 4,
    "start_time": "2023-01-13T09:46:41.394Z"
   },
   {
    "duration": 19,
    "start_time": "2023-01-13T09:46:41.401Z"
   },
   {
    "duration": 37,
    "start_time": "2023-01-13T09:46:41.422Z"
   },
   {
    "duration": 42,
    "start_time": "2023-01-13T09:46:41.461Z"
   },
   {
    "duration": 69898,
    "start_time": "2023-01-13T09:46:41.520Z"
   },
   {
    "duration": 0,
    "start_time": "2023-01-13T09:47:51.419Z"
   },
   {
    "duration": 0,
    "start_time": "2023-01-13T09:47:51.421Z"
   },
   {
    "duration": 0,
    "start_time": "2023-01-13T09:47:51.422Z"
   },
   {
    "duration": 0,
    "start_time": "2023-01-13T09:47:51.423Z"
   },
   {
    "duration": 0,
    "start_time": "2023-01-13T09:47:51.424Z"
   },
   {
    "duration": 0,
    "start_time": "2023-01-13T09:47:51.426Z"
   },
   {
    "duration": 0,
    "start_time": "2023-01-13T09:47:51.427Z"
   },
   {
    "duration": 0,
    "start_time": "2023-01-13T09:47:51.428Z"
   },
   {
    "duration": 0,
    "start_time": "2023-01-13T09:47:51.429Z"
   },
   {
    "duration": 0,
    "start_time": "2023-01-13T09:47:51.430Z"
   },
   {
    "duration": 0,
    "start_time": "2023-01-13T09:47:51.431Z"
   },
   {
    "duration": 0,
    "start_time": "2023-01-13T09:47:51.432Z"
   },
   {
    "duration": 0,
    "start_time": "2023-01-13T09:47:51.434Z"
   },
   {
    "duration": 0,
    "start_time": "2023-01-13T09:47:51.435Z"
   },
   {
    "duration": 0,
    "start_time": "2023-01-13T09:47:51.436Z"
   },
   {
    "duration": 0,
    "start_time": "2023-01-13T09:47:51.437Z"
   },
   {
    "duration": 0,
    "start_time": "2023-01-13T09:47:51.438Z"
   },
   {
    "duration": 27,
    "start_time": "2023-01-13T09:51:30.573Z"
   },
   {
    "duration": 3986,
    "start_time": "2023-01-13T09:51:46.071Z"
   },
   {
    "duration": 41,
    "start_time": "2023-01-13T09:51:50.059Z"
   },
   {
    "duration": 12,
    "start_time": "2023-01-13T09:51:50.102Z"
   },
   {
    "duration": 14,
    "start_time": "2023-01-13T09:51:50.116Z"
   },
   {
    "duration": 12,
    "start_time": "2023-01-13T09:51:50.131Z"
   },
   {
    "duration": 133,
    "start_time": "2023-01-13T09:51:50.145Z"
   },
   {
    "duration": 128,
    "start_time": "2023-01-13T09:51:50.280Z"
   },
   {
    "duration": 18,
    "start_time": "2023-01-13T09:51:50.410Z"
   },
   {
    "duration": 12,
    "start_time": "2023-01-13T09:51:50.429Z"
   },
   {
    "duration": 11,
    "start_time": "2023-01-13T09:51:50.444Z"
   },
   {
    "duration": 14,
    "start_time": "2023-01-13T09:51:50.456Z"
   },
   {
    "duration": 12,
    "start_time": "2023-01-13T09:51:50.471Z"
   },
   {
    "duration": 8,
    "start_time": "2023-01-13T09:51:50.484Z"
   },
   {
    "duration": 82,
    "start_time": "2023-01-13T09:51:50.493Z"
   },
   {
    "duration": 53,
    "start_time": "2023-01-13T09:51:50.577Z"
   },
   {
    "duration": 71164,
    "start_time": "2023-01-13T09:51:50.631Z"
   },
   {
    "duration": 17146,
    "start_time": "2023-01-13T09:53:01.796Z"
   },
   {
    "duration": 2164,
    "start_time": "2023-01-13T09:53:19.022Z"
   },
   {
    "duration": 9,
    "start_time": "2023-01-13T09:53:21.187Z"
   },
   {
    "duration": 2071,
    "start_time": "2023-01-13T09:53:21.197Z"
   },
   {
    "duration": 17369,
    "start_time": "2023-01-13T09:53:23.270Z"
   },
   {
    "duration": 71632,
    "start_time": "2023-01-13T09:53:40.641Z"
   },
   {
    "duration": 9,
    "start_time": "2023-01-13T09:54:52.275Z"
   },
   {
    "duration": 26,
    "start_time": "2023-01-13T09:54:52.285Z"
   },
   {
    "duration": 25,
    "start_time": "2023-01-13T09:54:52.312Z"
   },
   {
    "duration": 139513,
    "start_time": "2023-01-13T09:54:52.338Z"
   },
   {
    "duration": 21669,
    "start_time": "2023-01-13T09:57:11.852Z"
   },
   {
    "duration": 4006,
    "start_time": "2023-01-13T09:57:33.526Z"
   },
   {
    "duration": 8,
    "start_time": "2023-01-13T09:57:37.534Z"
   },
   {
    "duration": 21,
    "start_time": "2023-01-13T09:57:37.543Z"
   },
   {
    "duration": 319,
    "start_time": "2023-01-13T09:57:37.565Z"
   },
   {
    "duration": 27104,
    "start_time": "2023-01-13T09:57:37.886Z"
   },
   {
    "duration": 42,
    "start_time": "2023-01-13T09:58:04.991Z"
   },
   {
    "duration": 63,
    "start_time": "2023-01-13T10:08:16.321Z"
   },
   {
    "duration": 4874,
    "start_time": "2023-01-13T10:08:34.122Z"
   },
   {
    "duration": 104,
    "start_time": "2023-01-13T10:08:38.998Z"
   },
   {
    "duration": 58,
    "start_time": "2023-01-13T10:09:05.893Z"
   },
   {
    "duration": 58,
    "start_time": "2023-01-13T10:10:11.334Z"
   },
   {
    "duration": 14,
    "start_time": "2023-01-13T10:11:17.806Z"
   },
   {
    "duration": 13,
    "start_time": "2023-01-13T10:11:32.936Z"
   },
   {
    "duration": 24,
    "start_time": "2023-01-13T10:11:50.547Z"
   },
   {
    "duration": 95612,
    "start_time": "2023-01-13T10:12:58.876Z"
   },
   {
    "duration": 105,
    "start_time": "2023-01-13T10:18:05.018Z"
   },
   {
    "duration": 85,
    "start_time": "2023-01-13T10:18:11.738Z"
   },
   {
    "duration": 106753,
    "start_time": "2023-01-13T10:19:57.019Z"
   },
   {
    "duration": 946,
    "start_time": "2023-01-13T10:23:26.409Z"
   },
   {
    "duration": 8406,
    "start_time": "2023-01-13T10:23:54.288Z"
   },
   {
    "duration": 92,
    "start_time": "2023-01-13T10:26:59.853Z"
   },
   {
    "duration": 8058,
    "start_time": "2023-01-13T10:28:05.142Z"
   },
   {
    "duration": 7964,
    "start_time": "2023-01-13T10:29:06.559Z"
   },
   {
    "duration": 491,
    "start_time": "2023-01-13T10:31:08.039Z"
   },
   {
    "duration": 465,
    "start_time": "2023-01-13T10:31:37.917Z"
   },
   {
    "duration": 474,
    "start_time": "2023-01-13T10:32:38.908Z"
   },
   {
    "duration": 10,
    "start_time": "2023-01-13T10:32:55.129Z"
   },
   {
    "duration": 10,
    "start_time": "2023-01-13T10:33:50.624Z"
   },
   {
    "duration": 101645,
    "start_time": "2023-01-13T10:34:02.819Z"
   },
   {
    "duration": 562,
    "start_time": "2023-01-13T10:36:56.503Z"
   },
   {
    "duration": 40,
    "start_time": "2023-01-13T10:37:09.889Z"
   },
   {
    "duration": 102114,
    "start_time": "2023-01-13T10:37:45.437Z"
   },
   {
    "duration": 9,
    "start_time": "2023-01-13T10:39:27.553Z"
   },
   {
    "duration": 104905,
    "start_time": "2023-01-13T10:41:03.786Z"
   },
   {
    "duration": 8,
    "start_time": "2023-01-13T10:42:48.693Z"
   },
   {
    "duration": 8414,
    "start_time": "2023-01-13T10:43:54.190Z"
   },
   {
    "duration": 103325,
    "start_time": "2023-01-13T10:44:03.880Z"
   },
   {
    "duration": 9,
    "start_time": "2023-01-13T10:45:53.669Z"
   },
   {
    "duration": 11,
    "start_time": "2023-01-13T10:50:21.774Z"
   },
   {
    "duration": 97,
    "start_time": "2023-01-13T10:50:46.825Z"
   },
   {
    "duration": 10,
    "start_time": "2023-01-13T10:50:54.015Z"
   },
   {
    "duration": 9807,
    "start_time": "2023-01-13T10:50:58.978Z"
   },
   {
    "duration": 528,
    "start_time": "2023-01-13T10:51:12.676Z"
   },
   {
    "duration": 9,
    "start_time": "2023-01-13T10:51:20.231Z"
   },
   {
    "duration": 9,
    "start_time": "2023-01-13T10:51:24.397Z"
   },
   {
    "duration": 9,
    "start_time": "2023-01-13T10:52:35.457Z"
   },
   {
    "duration": 4244,
    "start_time": "2023-01-13T10:52:39.963Z"
   },
   {
    "duration": 48,
    "start_time": "2023-01-13T10:52:44.209Z"
   },
   {
    "duration": 12,
    "start_time": "2023-01-13T10:52:44.258Z"
   },
   {
    "duration": 15,
    "start_time": "2023-01-13T10:52:44.272Z"
   },
   {
    "duration": 11,
    "start_time": "2023-01-13T10:52:44.289Z"
   },
   {
    "duration": 115,
    "start_time": "2023-01-13T10:52:44.302Z"
   },
   {
    "duration": 125,
    "start_time": "2023-01-13T10:52:44.420Z"
   },
   {
    "duration": 14,
    "start_time": "2023-01-13T10:52:44.547Z"
   },
   {
    "duration": 16,
    "start_time": "2023-01-13T10:52:44.563Z"
   },
   {
    "duration": 14,
    "start_time": "2023-01-13T10:52:44.580Z"
   },
   {
    "duration": 36,
    "start_time": "2023-01-13T10:52:44.596Z"
   },
   {
    "duration": 12,
    "start_time": "2023-01-13T10:52:44.633Z"
   },
   {
    "duration": 3,
    "start_time": "2023-01-13T10:52:44.647Z"
   },
   {
    "duration": 78,
    "start_time": "2023-01-13T10:52:44.653Z"
   },
   {
    "duration": 36,
    "start_time": "2023-01-13T10:52:44.732Z"
   },
   {
    "duration": 100161,
    "start_time": "2023-01-13T10:52:44.770Z"
   },
   {
    "duration": 102,
    "start_time": "2023-01-13T10:54:24.933Z"
   },
   {
    "duration": 726,
    "start_time": "2023-01-13T10:54:25.036Z"
   },
   {
    "duration": 8,
    "start_time": "2023-01-13T10:54:25.764Z"
   },
   {
    "duration": 524,
    "start_time": "2023-01-13T10:54:25.774Z"
   },
   {
    "duration": 40,
    "start_time": "2023-01-13T10:54:26.300Z"
   },
   {
    "duration": 102122,
    "start_time": "2023-01-13T10:54:26.422Z"
   },
   {
    "duration": 8,
    "start_time": "2023-01-13T10:56:08.545Z"
   },
   {
    "duration": 15,
    "start_time": "2023-01-13T10:56:08.555Z"
   },
   {
    "duration": 32,
    "start_time": "2023-01-13T10:56:08.572Z"
   },
   {
    "duration": 139578,
    "start_time": "2023-01-13T10:56:08.606Z"
   },
   {
    "duration": 20985,
    "start_time": "2023-01-13T10:58:28.186Z"
   },
   {
    "duration": 4098,
    "start_time": "2023-01-13T10:58:49.173Z"
   },
   {
    "duration": 8,
    "start_time": "2023-01-13T10:58:53.273Z"
   },
   {
    "duration": 19,
    "start_time": "2023-01-13T10:58:53.283Z"
   },
   {
    "duration": 65,
    "start_time": "2023-01-13T10:58:53.304Z"
   },
   {
    "duration": 27320,
    "start_time": "2023-01-13T10:58:53.371Z"
   },
   {
    "duration": 46,
    "start_time": "2023-01-13T10:59:20.693Z"
   },
   {
    "duration": 83,
    "start_time": "2023-01-13T10:59:20.743Z"
   },
   {
    "duration": 9,
    "start_time": "2023-01-13T11:00:12.145Z"
   },
   {
    "duration": 9,
    "start_time": "2023-01-13T11:00:42.077Z"
   },
   {
    "duration": 9,
    "start_time": "2023-01-13T11:02:01.735Z"
   },
   {
    "duration": 102285,
    "start_time": "2023-01-13T11:02:14.381Z"
   },
   {
    "duration": 9,
    "start_time": "2023-01-13T11:04:04.448Z"
   },
   {
    "duration": 9,
    "start_time": "2023-01-13T11:04:07.650Z"
   },
   {
    "duration": 10,
    "start_time": "2023-01-13T11:04:14.709Z"
   },
   {
    "duration": 13,
    "start_time": "2023-01-13T11:05:45.982Z"
   },
   {
    "duration": 115707,
    "start_time": "2023-01-13T11:05:53.637Z"
   },
   {
    "duration": 8,
    "start_time": "2023-01-13T11:12:47.792Z"
   },
   {
    "duration": 11,
    "start_time": "2023-01-13T11:12:50.844Z"
   },
   {
    "duration": 10,
    "start_time": "2023-01-13T11:13:04.390Z"
   },
   {
    "duration": 806,
    "start_time": "2023-01-13T11:13:06.923Z"
   },
   {
    "duration": 811,
    "start_time": "2023-01-13T11:14:59.443Z"
   },
   {
    "duration": 189,
    "start_time": "2023-01-13T11:15:58.840Z"
   },
   {
    "duration": 127,
    "start_time": "2023-01-13T11:16:42.401Z"
   },
   {
    "duration": 11,
    "start_time": "2023-01-13T11:18:52.147Z"
   },
   {
    "duration": 985,
    "start_time": "2023-01-13T11:18:55.954Z"
   },
   {
    "duration": 90,
    "start_time": "2023-01-13T11:19:01.180Z"
   },
   {
    "duration": 10,
    "start_time": "2023-01-13T11:20:46.760Z"
   },
   {
    "duration": 764,
    "start_time": "2023-01-13T11:20:54.350Z"
   },
   {
    "duration": 9,
    "start_time": "2023-01-13T11:21:07.386Z"
   },
   {
    "duration": 10,
    "start_time": "2023-01-13T11:21:24.314Z"
   },
   {
    "duration": 768,
    "start_time": "2023-01-13T11:22:22.420Z"
   },
   {
    "duration": 139,
    "start_time": "2023-01-13T11:22:27.284Z"
   },
   {
    "duration": 68,
    "start_time": "2023-01-13T11:22:38.483Z"
   },
   {
    "duration": 9,
    "start_time": "2023-01-13T11:22:42.389Z"
   },
   {
    "duration": 4095,
    "start_time": "2023-01-13T11:24:24.675Z"
   },
   {
    "duration": 45,
    "start_time": "2023-01-13T11:24:28.773Z"
   },
   {
    "duration": 13,
    "start_time": "2023-01-13T11:24:28.819Z"
   },
   {
    "duration": 12,
    "start_time": "2023-01-13T11:24:28.835Z"
   },
   {
    "duration": 11,
    "start_time": "2023-01-13T11:24:28.848Z"
   },
   {
    "duration": 140,
    "start_time": "2023-01-13T11:24:28.861Z"
   },
   {
    "duration": 128,
    "start_time": "2023-01-13T11:24:29.003Z"
   },
   {
    "duration": 12,
    "start_time": "2023-01-13T11:24:29.132Z"
   },
   {
    "duration": 12,
    "start_time": "2023-01-13T11:24:29.145Z"
   },
   {
    "duration": 11,
    "start_time": "2023-01-13T11:24:29.160Z"
   },
   {
    "duration": 22,
    "start_time": "2023-01-13T11:24:29.173Z"
   },
   {
    "duration": 33,
    "start_time": "2023-01-13T11:24:29.196Z"
   },
   {
    "duration": 4,
    "start_time": "2023-01-13T11:24:29.230Z"
   },
   {
    "duration": 58,
    "start_time": "2023-01-13T11:24:29.235Z"
   },
   {
    "duration": 56,
    "start_time": "2023-01-13T11:24:29.295Z"
   },
   {
    "duration": 100911,
    "start_time": "2023-01-13T11:24:29.353Z"
   },
   {
    "duration": 155,
    "start_time": "2023-01-13T11:26:10.266Z"
   },
   {
    "duration": 620,
    "start_time": "2023-01-13T11:26:10.423Z"
   },
   {
    "duration": 8,
    "start_time": "2023-01-13T11:26:11.044Z"
   },
   {
    "duration": 546,
    "start_time": "2023-01-13T11:26:11.053Z"
   },
   {
    "duration": 48,
    "start_time": "2023-01-13T11:26:11.600Z"
   },
   {
    "duration": 95779,
    "start_time": "2023-01-13T11:26:11.723Z"
   },
   {
    "duration": 20,
    "start_time": "2023-01-13T11:27:47.504Z"
   },
   {
    "duration": 11,
    "start_time": "2023-01-13T11:27:47.525Z"
   },
   {
    "duration": 29,
    "start_time": "2023-01-13T11:27:47.538Z"
   },
   {
    "duration": 734,
    "start_time": "2023-01-13T11:27:47.569Z"
   },
   {
    "duration": 118,
    "start_time": "2023-01-13T11:27:48.304Z"
   },
   {
    "duration": 156,
    "start_time": "2023-01-13T11:27:48.427Z"
   },
   {
    "duration": 8,
    "start_time": "2023-01-13T11:27:48.585Z"
   },
   {
    "duration": 32,
    "start_time": "2023-01-13T11:27:48.595Z"
   },
   {
    "duration": 59,
    "start_time": "2023-01-13T11:27:48.629Z"
   },
   {
    "duration": 27538,
    "start_time": "2023-01-13T11:27:48.690Z"
   },
   {
    "duration": 35,
    "start_time": "2023-01-13T11:28:16.230Z"
   },
   {
    "duration": 792,
    "start_time": "2023-01-13T11:30:04.752Z"
   },
   {
    "duration": 145,
    "start_time": "2023-01-13T11:31:44.379Z"
   },
   {
    "duration": 9,
    "start_time": "2023-01-13T11:31:49.565Z"
   },
   {
    "duration": 9,
    "start_time": "2023-01-13T11:32:02.057Z"
   },
   {
    "duration": 770,
    "start_time": "2023-01-13T11:32:54.628Z"
   },
   {
    "duration": 9,
    "start_time": "2023-01-13T11:33:04.430Z"
   },
   {
    "duration": 68,
    "start_time": "2023-01-13T11:33:43.222Z"
   },
   {
    "duration": 8,
    "start_time": "2023-01-13T11:33:49.924Z"
   },
   {
    "duration": 10,
    "start_time": "2023-01-13T11:33:59.664Z"
   },
   {
    "duration": 37,
    "start_time": "2023-01-13T11:34:48.348Z"
   },
   {
    "duration": 10,
    "start_time": "2023-01-13T11:37:09.863Z"
   },
   {
    "duration": 95,
    "start_time": "2023-01-13T11:37:33.991Z"
   },
   {
    "duration": 34,
    "start_time": "2023-01-13T11:38:43.863Z"
   },
   {
    "duration": 105,
    "start_time": "2023-01-13T11:39:07.500Z"
   },
   {
    "duration": 114,
    "start_time": "2023-01-13T11:40:52.041Z"
   },
   {
    "duration": 28,
    "start_time": "2023-01-13T11:40:59.182Z"
   },
   {
    "duration": 4153,
    "start_time": "2023-01-13T11:41:33.828Z"
   },
   {
    "duration": 47,
    "start_time": "2023-01-13T11:41:37.984Z"
   },
   {
    "duration": 20,
    "start_time": "2023-01-13T11:41:38.033Z"
   },
   {
    "duration": 15,
    "start_time": "2023-01-13T11:41:38.055Z"
   },
   {
    "duration": 17,
    "start_time": "2023-01-13T11:41:38.072Z"
   },
   {
    "duration": 133,
    "start_time": "2023-01-13T11:41:38.091Z"
   },
   {
    "duration": 127,
    "start_time": "2023-01-13T11:41:38.226Z"
   },
   {
    "duration": 12,
    "start_time": "2023-01-13T11:41:38.354Z"
   },
   {
    "duration": 16,
    "start_time": "2023-01-13T11:41:38.367Z"
   },
   {
    "duration": 11,
    "start_time": "2023-01-13T11:41:38.385Z"
   },
   {
    "duration": 34,
    "start_time": "2023-01-13T11:41:38.397Z"
   },
   {
    "duration": 15,
    "start_time": "2023-01-13T11:41:38.433Z"
   },
   {
    "duration": 6,
    "start_time": "2023-01-13T11:41:38.450Z"
   },
   {
    "duration": 78,
    "start_time": "2023-01-13T11:41:38.458Z"
   },
   {
    "duration": 45,
    "start_time": "2023-01-13T11:41:38.538Z"
   },
   {
    "duration": 102194,
    "start_time": "2023-01-13T11:41:38.584Z"
   },
   {
    "duration": 58,
    "start_time": "2023-01-13T11:43:20.780Z"
   },
   {
    "duration": 686,
    "start_time": "2023-01-13T11:43:20.840Z"
   },
   {
    "duration": 10,
    "start_time": "2023-01-13T11:43:21.528Z"
   },
   {
    "duration": 556,
    "start_time": "2023-01-13T11:43:21.540Z"
   },
   {
    "duration": 226,
    "start_time": "2023-01-13T11:43:22.098Z"
   },
   {
    "duration": 97839,
    "start_time": "2023-01-13T11:43:22.326Z"
   },
   {
    "duration": 8,
    "start_time": "2023-01-13T11:45:00.166Z"
   },
   {
    "duration": 20,
    "start_time": "2023-01-13T11:45:00.176Z"
   },
   {
    "duration": 37,
    "start_time": "2023-01-13T11:45:00.198Z"
   },
   {
    "duration": 785,
    "start_time": "2023-01-13T11:45:00.237Z"
   },
   {
    "duration": 108,
    "start_time": "2023-01-13T11:45:01.024Z"
   },
   {
    "duration": 162,
    "start_time": "2023-01-13T11:45:01.224Z"
   },
   {
    "duration": 10,
    "start_time": "2023-01-13T11:45:01.388Z"
   },
   {
    "duration": 11,
    "start_time": "2023-01-13T11:45:01.421Z"
   },
   {
    "duration": 71,
    "start_time": "2023-01-13T11:45:01.433Z"
   },
   {
    "duration": 133,
    "start_time": "2023-01-13T11:45:01.506Z"
   },
   {
    "duration": 27,
    "start_time": "2023-01-13T11:45:01.641Z"
   },
   {
    "duration": 4211,
    "start_time": "2023-01-13T11:56:43.977Z"
   },
   {
    "duration": 43,
    "start_time": "2023-01-13T11:56:48.191Z"
   },
   {
    "duration": 12,
    "start_time": "2023-01-13T11:56:48.236Z"
   },
   {
    "duration": 11,
    "start_time": "2023-01-13T11:56:48.251Z"
   },
   {
    "duration": 13,
    "start_time": "2023-01-13T11:56:48.264Z"
   },
   {
    "duration": 230,
    "start_time": "2023-01-13T11:56:48.278Z"
   },
   {
    "duration": 136,
    "start_time": "2023-01-13T11:56:48.510Z"
   },
   {
    "duration": 13,
    "start_time": "2023-01-13T11:56:48.648Z"
   },
   {
    "duration": 11,
    "start_time": "2023-01-13T11:56:48.663Z"
   },
   {
    "duration": 9,
    "start_time": "2023-01-13T11:56:48.677Z"
   },
   {
    "duration": 43,
    "start_time": "2023-01-13T11:56:48.688Z"
   },
   {
    "duration": 12,
    "start_time": "2023-01-13T11:56:48.732Z"
   },
   {
    "duration": 4,
    "start_time": "2023-01-13T11:56:48.746Z"
   },
   {
    "duration": 75,
    "start_time": "2023-01-13T11:56:48.752Z"
   },
   {
    "duration": 50,
    "start_time": "2023-01-13T11:56:48.829Z"
   },
   {
    "duration": 101420,
    "start_time": "2023-01-13T11:56:48.881Z"
   },
   {
    "duration": 123,
    "start_time": "2023-01-13T11:58:30.302Z"
   },
   {
    "duration": 617,
    "start_time": "2023-01-13T11:58:30.427Z"
   },
   {
    "duration": 9,
    "start_time": "2023-01-13T11:58:31.046Z"
   },
   {
    "duration": 565,
    "start_time": "2023-01-13T11:58:31.057Z"
   },
   {
    "duration": 104,
    "start_time": "2023-01-13T11:58:31.625Z"
   },
   {
    "duration": 102889,
    "start_time": "2023-01-13T11:58:31.732Z"
   },
   {
    "duration": 8,
    "start_time": "2023-01-13T12:00:14.623Z"
   },
   {
    "duration": 20,
    "start_time": "2023-01-13T12:00:14.633Z"
   },
   {
    "duration": 15,
    "start_time": "2023-01-13T12:00:14.655Z"
   },
   {
    "duration": 798,
    "start_time": "2023-01-13T12:00:14.672Z"
   },
   {
    "duration": 101,
    "start_time": "2023-01-13T12:00:15.471Z"
   },
   {
    "duration": 162,
    "start_time": "2023-01-13T12:00:15.624Z"
   },
   {
    "duration": 10,
    "start_time": "2023-01-13T12:00:15.788Z"
   },
   {
    "duration": 28,
    "start_time": "2023-01-13T12:00:15.800Z"
   },
   {
    "duration": 47,
    "start_time": "2023-01-13T12:00:15.830Z"
   },
   {
    "duration": 143,
    "start_time": "2023-01-13T12:00:15.879Z"
   },
   {
    "duration": 26,
    "start_time": "2023-01-13T12:00:16.024Z"
   }
  ],
  "kernelspec": {
   "display_name": "Python 3 (ipykernel)",
   "language": "python",
   "name": "python3"
  },
  "language_info": {
   "codemirror_mode": {
    "name": "ipython",
    "version": 3
   },
   "file_extension": ".py",
   "mimetype": "text/x-python",
   "name": "python",
   "nbconvert_exporter": "python",
   "pygments_lexer": "ipython3",
   "version": "3.11.3"
  },
  "toc": {
   "base_numbering": 1,
   "nav_menu": {
    "height": "666.989px",
    "width": "320.98px"
   },
   "number_sections": true,
   "sideBar": true,
   "skip_h1_title": true,
   "title_cell": "Содержание",
   "title_sidebar": "Contents",
   "toc_cell": true,
   "toc_position": {
    "height": "calc(100% - 180px)",
    "left": "10px",
    "top": "150px",
    "width": "331.25px"
   },
   "toc_section_display": true,
   "toc_window_display": false
  }
 },
 "nbformat": 4,
 "nbformat_minor": 2
}
